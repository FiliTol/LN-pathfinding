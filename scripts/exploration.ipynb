{
 "cells": [
  {
   "metadata": {},
   "cell_type": "markdown",
   "source": [
    "# Proposal 1: Minimum cost flow - Lightning Network payment graph\n",
    "\n",
    "This proposal consist into solving the minimum cost flow problem in the context\n",
    " of a state-channel based payment protocol, where payments between\n",
    "partecipants flow based on the shortes and cheapest path between the two nodes.\n",
    "\n",
    "The dataset to tackle the problem has already been retrieved with some tools of\n",
    " the LND suite. Minor fixes and addons can be executed with\n",
    "the mempool.space APIs, targeting specific nodes and channels.\n",
    "\n",
    "The network that results from the problem setup is a network where the vertexes\n",
    " are the nodes in the Lightning Network, whereas the edges\n",
    "are the payment channels between the nodes. Each payment channel has a fixed amount\n",
    " of liquidity, a fixed base-fee rate and a variable fee rate.\n",
    "The variable fee rate is based on the amount that flows in the channel.\n",
    "The goal is to find the shortest path between two nodes that minimizes the\n",
    " total fees paid, considering both the fixed and variable fees.\n",
    " \n",
    "```{bash}\n",
    "\"\" Nodes in the graph\n",
    "grep -o 'pub_key' data/network_graph_2024_06_12.json | wc -l\n",
    "\" 12462\n",
    "```\n",
    "\n",
    "```{bash}\n",
    "\"\" Channels in the graph\n",
    "grep -o 'channel_id' data/network_graph_2024_06_12.json | wc -l\n",
    "\" 34868\n",
    "```\n",
    "\n",
    "\n",
    "## Other possible constrains\n",
    "\n",
    "### Liquidity balance\n",
    "\n",
    "In real world implementations of LN nodes, the pathfinding algorithm used also\n",
    " considers the probability of the payment going through at the first\n",
    "attempt based on the latest tryout attempts that involved that channel.\n",
    " The real LN protocol includes an another complex dynamic constrain that cannot\n",
    "be defined a-priori: the constrain is that liquidity in payment channels can be\n",
    " asymmetrically allocated in each channels such that a channel betweeen\n",
    "peer A and B has 90% of the liquidity in A and 10% in B. This means that\n",
    " at a that specific time, only 10%\n",
    "of the payment channel capacity can flow from B to A and 90% can flow from A to B.\n",
    "This constrain can be manually implemented by allocating randomly the liquidity in\n",
    "the channels considering some previous research carried on by [Rene Pickhartt](https://arxiv.org/abs/2103.08576),\n",
    "in which the scientists discovered that the distribution of liquidity in LN payment channels is mostly skewed.\n",
    "\n",
    "### Multi-party Payments\n",
    "\n",
    "In the context of a state-channel based payment protocol, a payment between A and B can\n",
    "also be executed by breaking up the amount into smaller chuncks and executing multiple\n",
    "smaller payments in a parallel way. This element can enrich the problem formulation."
   ],
   "id": "acc92f48ed836a30"
  },
  {
   "metadata": {},
   "cell_type": "code",
   "outputs": [],
   "execution_count": null,
   "source": "",
   "id": "49dd7c004911063b"
  },
  {
   "metadata": {},
   "cell_type": "markdown",
   "source": "# Proposal 2: Knapsack problem - coin selection problem for UTXO based accounting schemes (onchain bitcoin, GNU Taler, cashu)",
   "id": "544238f81450466b"
  },
  {
   "metadata": {},
   "cell_type": "code",
   "outputs": [],
   "execution_count": null,
   "source": "",
   "id": "6aae7a1af33f6bb6"
  },
  {
   "metadata": {},
   "cell_type": "markdown",
   "source": "# Proposal 3: Knapsack problem - block template creation for mining based blockchain protocols (Bitcoin mining)",
   "id": "146ac487419b3862"
  }
 ],
 "metadata": {
  "kernelspec": {
   "display_name": "Python 3",
   "language": "python",
   "name": "python3"
  },
  "language_info": {
   "codemirror_mode": {
    "name": "ipython",
    "version": 2
   },
   "file_extension": ".py",
   "mimetype": "text/x-python",
   "name": "python",
   "nbconvert_exporter": "python",
   "pygments_lexer": "ipython2",
   "version": "2.7.6"
  }
 },
 "nbformat": 4,
 "nbformat_minor": 5
}
