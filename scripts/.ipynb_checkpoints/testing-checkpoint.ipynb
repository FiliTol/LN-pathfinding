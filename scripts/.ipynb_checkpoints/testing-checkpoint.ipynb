{
 "cells": [
  {
   "metadata": {
    "ExecuteTime": {
     "end_time": "2024-07-02T16:29:35.854562Z",
     "start_time": "2024-07-02T16:29:35.114197Z"
    }
   },
   "cell_type": "code",
   "source": [
    "import pandas as pd\n",
    "from cleaning import *\n",
    "import time"
   ],
   "id": "9164130520c3923b",
   "outputs": [],
   "execution_count": 1
  },
  {
   "metadata": {
    "ExecuteTime": {
     "end_time": "2024-07-02T16:34:24.907466Z",
     "start_time": "2024-07-02T16:34:23.285354Z"
    }
   },
   "cell_type": "code",
   "source": [
    "nodes, channels = json_to_pd(\"../data/network_graph_2024_06_12.json\")\n",
    "nodes = nodes_cleaning(nodes)"
   ],
   "id": "5b25f65ee5774057",
   "outputs": [],
   "execution_count": 12
  },
  {
   "metadata": {
    "ExecuteTime": {
     "end_time": "2024-07-02T16:29:38.475369Z",
     "start_time": "2024-07-02T16:29:38.414519Z"
    }
   },
   "cell_type": "code",
   "source": [
    "#start = time.time()\n",
    "#nodes = split_compute_concat(nodes, channels, slices=9)\n",
    "#end = time.time()\n",
    "#print(end - start)\n",
    "#nodes.to_csv(\"../data/nodes.csv\")\n",
    "\n",
    "nodes = pd.read_csv(\"../data/nodes.csv\")\n",
    "nodes.set_index(\"pub_key\", inplace=True)"
   ],
   "id": "cd2a2f3fe9a01b70",
   "outputs": [],
   "execution_count": 3
  },
  {
   "metadata": {
    "ExecuteTime": {
     "end_time": "2024-07-02T16:29:39.850454Z",
     "start_time": "2024-07-02T16:29:39.638580Z"
    }
   },
   "cell_type": "code",
   "source": [
    "channels = channels_cleaning(channels)\n",
    "channels = directed_channels_final(channels)"
   ],
   "id": "8eda0933004bca08",
   "outputs": [],
   "execution_count": 4
  },
  {
   "metadata": {
    "ExecuteTime": {
     "end_time": "2024-07-02T16:31:01.597309Z",
     "start_time": "2024-07-02T16:31:01.581348Z"
    }
   },
   "cell_type": "code",
   "source": "nodes = create_demand(nodes)",
   "id": "549e9324103fc594",
   "outputs": [
    {
     "name": "stdout",
     "output_type": "stream",
     "text": [
      "Transaction of 15869 sats from Hodlnap to EyvyTheFarmer.\n"
     ]
    }
   ],
   "execution_count": 8
  },
  {
   "metadata": {
    "ExecuteTime": {
     "end_time": "2024-07-02T16:31:34.784449Z",
     "start_time": "2024-07-02T16:31:34.762834Z"
    }
   },
   "cell_type": "code",
   "source": "nodes",
   "id": "c5b0f2944faa3056",
   "outputs": [
    {
     "data": {
      "text/plain": [
       "                                                                 alias  \\\n",
       "pub_key                                                                  \n",
       "0200000000727d3b67513c916f16975e3bf8f3304cf3fcf...  lightningspore.com   \n",
       "0200000000a3eff613189ca6c4070c89206ad658e286751...    pay.lnrouter.app   \n",
       "020003b9499a97c8dfbbab6b196319db37ba9c37bccb604...   BJCR_BTCPayServer   \n",
       "0200420ebfb0c6162e7dfcbcb5ca23df9f423ceb0536617...            Dezeland   \n",
       "020045e9b463e642225bc147b77b8ee5d7cc356a42cd18c...               Test0   \n",
       "...                                                                ...   \n",
       "03fec0a021c3acad75c0dcff62363de0889024be769770c...        blacktomcat⚡   \n",
       "03fec2ad39a6f3da42a6c6ac194f4a9293240d6dcefad65...               vajra   \n",
       "03fecf0d0ca62b0a10f38a5e5529ce74a2188cf1dfe2464...          CMD_LN 🩺⚡️   \n",
       "03fef777d58a529df02a3fb267690e0c9033767b555cc1c...      Crypt04n4rkMoV   \n",
       "03ff24045eaf4d1865cc593268e1fa9a86765ac5fc20442...                 SR3   \n",
       "\n",
       "                                                    addresses  \\\n",
       "pub_key                                                         \n",
       "0200000000727d3b67513c916f16975e3bf8f3304cf3fcf...          1   \n",
       "0200000000a3eff613189ca6c4070c89206ad658e286751...          2   \n",
       "020003b9499a97c8dfbbab6b196319db37ba9c37bccb604...          2   \n",
       "0200420ebfb0c6162e7dfcbcb5ca23df9f423ceb0536617...          1   \n",
       "020045e9b463e642225bc147b77b8ee5d7cc356a42cd18c...          1   \n",
       "...                                                       ...   \n",
       "03fec0a021c3acad75c0dcff62363de0889024be769770c...          1   \n",
       "03fec2ad39a6f3da42a6c6ac194f4a9293240d6dcefad65...          1   \n",
       "03fecf0d0ca62b0a10f38a5e5529ce74a2188cf1dfe2464...          1   \n",
       "03fef777d58a529df02a3fb267690e0c9033767b555cc1c...          1   \n",
       "03ff24045eaf4d1865cc593268e1fa9a86765ac5fc20442...          3   \n",
       "\n",
       "                                                                                    outgoing_channels  \\\n",
       "pub_key                                                                                                 \n",
       "0200000000727d3b67513c916f16975e3bf8f3304cf3fcf...                             ['914492408312299520']   \n",
       "0200000000a3eff613189ca6c4070c89206ad658e286751...                             ['916659545733136385']   \n",
       "020003b9499a97c8dfbbab6b196319db37ba9c37bccb604...  ['878783569160110081', '879850095339962369', '...   \n",
       "0200420ebfb0c6162e7dfcbcb5ca23df9f423ceb0536617...  ['918121896067661824', '921152150182100993', '...   \n",
       "020045e9b463e642225bc147b77b8ee5d7cc356a42cd18c...                             ['907297204189528064']   \n",
       "...                                                                                               ...   \n",
       "03fec0a021c3acad75c0dcff62363de0889024be769770c...                                                 []   \n",
       "03fec2ad39a6f3da42a6c6ac194f4a9293240d6dcefad65...                                                 []   \n",
       "03fecf0d0ca62b0a10f38a5e5529ce74a2188cf1dfe2464...                                                 []   \n",
       "03fef777d58a529df02a3fb267690e0c9033767b555cc1c...                                                 []   \n",
       "03ff24045eaf4d1865cc593268e1fa9a86765ac5fc20442...                                                 []   \n",
       "\n",
       "                                                                                    incoming_channels  \\\n",
       "pub_key                                                                                                 \n",
       "0200000000727d3b67513c916f16975e3bf8f3304cf3fcf...                          ['INV914492408312299520']   \n",
       "0200000000a3eff613189ca6c4070c89206ad658e286751...                          ['INV916659545733136385']   \n",
       "020003b9499a97c8dfbbab6b196319db37ba9c37bccb604...  ['INV878783569160110081', 'INV8798500953399623...   \n",
       "0200420ebfb0c6162e7dfcbcb5ca23df9f423ceb0536617...  ['INV918121896067661824', 'INV9211521501821009...   \n",
       "020045e9b463e642225bc147b77b8ee5d7cc356a42cd18c...                          ['INV907297204189528064']   \n",
       "...                                                                                               ...   \n",
       "03fec0a021c3acad75c0dcff62363de0889024be769770c...                                                 []   \n",
       "03fec2ad39a6f3da42a6c6ac194f4a9293240d6dcefad65...                                                 []   \n",
       "03fecf0d0ca62b0a10f38a5e5529ce74a2188cf1dfe2464...                                                 []   \n",
       "03fef777d58a529df02a3fb267690e0c9033767b555cc1c...                                                 []   \n",
       "03ff24045eaf4d1865cc593268e1fa9a86765ac5fc20442...                                                 []   \n",
       "\n",
       "                                                    demand  \n",
       "pub_key                                                     \n",
       "0200000000727d3b67513c916f16975e3bf8f3304cf3fcf...       0  \n",
       "0200000000a3eff613189ca6c4070c89206ad658e286751...       0  \n",
       "020003b9499a97c8dfbbab6b196319db37ba9c37bccb604...       0  \n",
       "0200420ebfb0c6162e7dfcbcb5ca23df9f423ceb0536617...       0  \n",
       "020045e9b463e642225bc147b77b8ee5d7cc356a42cd18c...       0  \n",
       "...                                                    ...  \n",
       "03fec0a021c3acad75c0dcff62363de0889024be769770c...       0  \n",
       "03fec2ad39a6f3da42a6c6ac194f4a9293240d6dcefad65...       0  \n",
       "03fecf0d0ca62b0a10f38a5e5529ce74a2188cf1dfe2464...       0  \n",
       "03fef777d58a529df02a3fb267690e0c9033767b555cc1c...       0  \n",
       "03ff24045eaf4d1865cc593268e1fa9a86765ac5fc20442...       0  \n",
       "\n",
       "[5859 rows x 5 columns]"
      ],
      "text/html": [
       "<div>\n",
       "<style scoped>\n",
       "    .dataframe tbody tr th:only-of-type {\n",
       "        vertical-align: middle;\n",
       "    }\n",
       "\n",
       "    .dataframe tbody tr th {\n",
       "        vertical-align: top;\n",
       "    }\n",
       "\n",
       "    .dataframe thead th {\n",
       "        text-align: right;\n",
       "    }\n",
       "</style>\n",
       "<table border=\"1\" class=\"dataframe\">\n",
       "  <thead>\n",
       "    <tr style=\"text-align: right;\">\n",
       "      <th></th>\n",
       "      <th>alias</th>\n",
       "      <th>addresses</th>\n",
       "      <th>outgoing_channels</th>\n",
       "      <th>incoming_channels</th>\n",
       "      <th>demand</th>\n",
       "    </tr>\n",
       "    <tr>\n",
       "      <th>pub_key</th>\n",
       "      <th></th>\n",
       "      <th></th>\n",
       "      <th></th>\n",
       "      <th></th>\n",
       "      <th></th>\n",
       "    </tr>\n",
       "  </thead>\n",
       "  <tbody>\n",
       "    <tr>\n",
       "      <th>0200000000727d3b67513c916f16975e3bf8f3304cf3fcf0ed855e2ae41888f461</th>\n",
       "      <td>lightningspore.com</td>\n",
       "      <td>1</td>\n",
       "      <td>['914492408312299520']</td>\n",
       "      <td>['INV914492408312299520']</td>\n",
       "      <td>0</td>\n",
       "    </tr>\n",
       "    <tr>\n",
       "      <th>0200000000a3eff613189ca6c4070c89206ad658e286751eca1f29262948247a5f</th>\n",
       "      <td>pay.lnrouter.app</td>\n",
       "      <td>2</td>\n",
       "      <td>['916659545733136385']</td>\n",
       "      <td>['INV916659545733136385']</td>\n",
       "      <td>0</td>\n",
       "    </tr>\n",
       "    <tr>\n",
       "      <th>020003b9499a97c8dfbbab6b196319db37ba9c37bccb60477f3c867175f417988e</th>\n",
       "      <td>BJCR_BTCPayServer</td>\n",
       "      <td>2</td>\n",
       "      <td>['878783569160110081', '879850095339962369', '...</td>\n",
       "      <td>['INV878783569160110081', 'INV8798500953399623...</td>\n",
       "      <td>0</td>\n",
       "    </tr>\n",
       "    <tr>\n",
       "      <th>0200420ebfb0c6162e7dfcbcb5ca23df9f423ceb0536617d1b4549fc4efa6a15d5</th>\n",
       "      <td>Dezeland</td>\n",
       "      <td>1</td>\n",
       "      <td>['918121896067661824', '921152150182100993', '...</td>\n",
       "      <td>['INV918121896067661824', 'INV9211521501821009...</td>\n",
       "      <td>0</td>\n",
       "    </tr>\n",
       "    <tr>\n",
       "      <th>020045e9b463e642225bc147b77b8ee5d7cc356a42cd18cc67fe37b75c4611ad14</th>\n",
       "      <td>Test0</td>\n",
       "      <td>1</td>\n",
       "      <td>['907297204189528064']</td>\n",
       "      <td>['INV907297204189528064']</td>\n",
       "      <td>0</td>\n",
       "    </tr>\n",
       "    <tr>\n",
       "      <th>...</th>\n",
       "      <td>...</td>\n",
       "      <td>...</td>\n",
       "      <td>...</td>\n",
       "      <td>...</td>\n",
       "      <td>...</td>\n",
       "    </tr>\n",
       "    <tr>\n",
       "      <th>03fec0a021c3acad75c0dcff62363de0889024be769770cd12866c5e72b52ce377</th>\n",
       "      <td>blacktomcat⚡</td>\n",
       "      <td>1</td>\n",
       "      <td>[]</td>\n",
       "      <td>[]</td>\n",
       "      <td>0</td>\n",
       "    </tr>\n",
       "    <tr>\n",
       "      <th>03fec2ad39a6f3da42a6c6ac194f4a9293240d6dcefad65392e940fc3606e41d71</th>\n",
       "      <td>vajra</td>\n",
       "      <td>1</td>\n",
       "      <td>[]</td>\n",
       "      <td>[]</td>\n",
       "      <td>0</td>\n",
       "    </tr>\n",
       "    <tr>\n",
       "      <th>03fecf0d0ca62b0a10f38a5e5529ce74a2188cf1dfe2464c20a2c216529de22389</th>\n",
       "      <td>CMD_LN 🩺⚡️</td>\n",
       "      <td>1</td>\n",
       "      <td>[]</td>\n",
       "      <td>[]</td>\n",
       "      <td>0</td>\n",
       "    </tr>\n",
       "    <tr>\n",
       "      <th>03fef777d58a529df02a3fb267690e0c9033767b555cc1c63844bb2d3498789f91</th>\n",
       "      <td>Crypt04n4rkMoV</td>\n",
       "      <td>1</td>\n",
       "      <td>[]</td>\n",
       "      <td>[]</td>\n",
       "      <td>0</td>\n",
       "    </tr>\n",
       "    <tr>\n",
       "      <th>03ff24045eaf4d1865cc593268e1fa9a86765ac5fc20442bd5312149b60857a885</th>\n",
       "      <td>SR3</td>\n",
       "      <td>3</td>\n",
       "      <td>[]</td>\n",
       "      <td>[]</td>\n",
       "      <td>0</td>\n",
       "    </tr>\n",
       "  </tbody>\n",
       "</table>\n",
       "<p>5859 rows × 5 columns</p>\n",
       "</div>"
      ]
     },
     "execution_count": 11,
     "metadata": {},
     "output_type": "execute_result"
    }
   ],
   "execution_count": 11
  }
 ],
 "metadata": {
  "kernelspec": {
   "display_name": "Python 3",
   "language": "python",
   "name": "python3"
  },
  "language_info": {
   "codemirror_mode": {
    "name": "ipython",
    "version": 2
   },
   "file_extension": ".py",
   "mimetype": "text/x-python",
   "name": "python",
   "nbconvert_exporter": "python",
   "pygments_lexer": "ipython2",
   "version": "2.7.6"
  }
 },
 "nbformat": 4,
 "nbformat_minor": 5
}
