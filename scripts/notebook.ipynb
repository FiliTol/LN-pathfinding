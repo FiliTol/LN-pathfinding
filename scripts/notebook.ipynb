{
 "cells": [
  {
   "metadata": {
    "ExecuteTime": {
     "end_time": "2024-06-29T14:49:17.716794Z",
     "start_time": "2024-06-29T14:49:17.331772Z"
    }
   },
   "cell_type": "code",
   "source": [
    "import pandas as pd\n",
    "from data_definition import load_and_transform, create_demand\n",
    "import pyomo.environ as pyo\n",
    "from multiprocessing import Pool"
   ],
   "id": "initial_id",
   "outputs": [],
   "execution_count": 1
  },
  {
   "metadata": {},
   "cell_type": "markdown",
   "source": "# Data import",
   "id": "a4b2795dc42b8269"
  },
  {
   "metadata": {
    "ExecuteTime": {
     "end_time": "2024-06-29T14:49:19.039836Z",
     "start_time": "2024-06-29T14:49:18.389574Z"
    }
   },
   "cell_type": "code",
   "source": [
    "nodes, channels = load_and_transform(\"../data/network_graph_2024_06_12.json\")\n",
    "nodes = create_demand(nodes)"
   ],
   "id": "a8a45f04dec94815",
   "outputs": [
    {
     "name": "stdout",
     "output_type": "stream",
     "text": [
      "Transaction of 15869 sats from PlebsUnited to 02fc1f8c244c9d275f99.\n"
     ]
    }
   ],
   "execution_count": 2
  },
  {
   "metadata": {
    "ExecuteTime": {
     "end_time": "2024-06-29T14:49:19.993718Z",
     "start_time": "2024-06-29T14:49:19.990202Z"
    }
   },
   "cell_type": "code",
   "source": [
    "## TODO: parallelization of channel finding and listing for every node\n",
    "## In order to accomplish that, the nodes dataset is split into 6 parts,\n",
    "## then the execution of the finding function is parallelized for every\n",
    "## dataframe slice.\n",
    "## TODO: Process executed before creation of directed edges in the channels dataframe\n",
    "\n",
    "def nodes_df_splitting(pd_object: pd.DataFrame, n: int) -> list:\n",
    "    results = []\n",
    "    splitting: int = len(pd_object) // n\n",
    "    for i in range(n):\n",
    "        ris = pd_object[i * splitting : (i+1) * splitting]\n",
    "        results.append(ris)\n",
    "    if len(pd_object) % n != 0:\n",
    "        ris = pd_object[n * splitting: len(pd_object)]\n",
    "        results.append(ris)\n",
    "    return results"
   ],
   "id": "6e686134a6b6bb97",
   "outputs": [],
   "execution_count": 3
  },
  {
   "metadata": {
    "ExecuteTime": {
     "end_time": "2024-06-29T14:49:21.289190Z",
     "start_time": "2024-06-29T14:49:21.286033Z"
    }
   },
   "cell_type": "code",
   "source": [
    "slices = 10\n",
    "dataframes = nodes_df_splitting(nodes, slices)"
   ],
   "id": "f601424c01f83d03",
   "outputs": [],
   "execution_count": 4
  },
  {
   "metadata": {
    "ExecuteTime": {
     "end_time": "2024-06-29T15:06:43.936412Z",
     "start_time": "2024-06-29T14:49:22.846260Z"
    }
   },
   "cell_type": "code",
   "source": [
    "def find_channels(n: str) -> list:\n",
    "    \"\"\"\n",
    "    :param n: node pub key\n",
    "    :return: list of channels for the node\n",
    "    Note that the listed channels are directed channels\n",
    "    that have also a mirrored channel that describes the\n",
    "    flow of funds in the opposite direction.\n",
    "    Thus, this channels list is simply adapted to other\n",
    "    flow of channels by considering then the channels\n",
    "    with id \"INV-<channel_id>\"\n",
    "    \"\"\"\n",
    "    channels_list = []\n",
    "    for c in channels.index:\n",
    "        if channels.loc[c, \"node1_pub\"] == n.name:\n",
    "            channels_list.append(c)\n",
    "    return channels_list\n",
    "\n",
    "\n",
    "def parallel_channel_finding(args: tuple) -> pd.DataFrame:\n",
    "    dfs, i = args\n",
    "    df = dfs[i].copy()\n",
    "    df[\"outgoing_channels\"] = df.apply(find_channels, axis=1)\n",
    "    return df\n",
    "\n",
    "\n",
    "pool = Pool() # to set custom processes use processes=4\n",
    "inputs: list = [(dataframes, y) for y in range(slices)]\n",
    "outputs: list = pool.map(parallel_channel_finding, inputs)\n"
   ],
   "id": "cd742ca922a938cf",
   "outputs": [],
   "execution_count": 5
  },
  {
   "metadata": {
    "ExecuteTime": {
     "end_time": "2024-06-29T15:26:52.637401Z",
     "start_time": "2024-06-29T15:26:52.624730Z"
    }
   },
   "cell_type": "code",
   "source": [
    "#nodes[\"outgoing_channels\"] = nodes.apply(find_channels, axis=1)\n",
    "outputs[0]\n"
   ],
   "id": "7e8bc183e6d255ec",
   "outputs": [
    {
     "data": {
      "text/plain": [
       "                                                                   alias  \\\n",
       "pub_key                                                                    \n",
       "0200000000727d3b67513c916f16975e3bf8f3304cf3fcf...    lightningspore.com   \n",
       "0200000000a3eff613189ca6c4070c89206ad658e286751...      pay.lnrouter.app   \n",
       "020003b9499a97c8dfbbab6b196319db37ba9c37bccb604...     BJCR_BTCPayServer   \n",
       "0200420ebfb0c6162e7dfcbcb5ca23df9f423ceb0536617...              Dezeland   \n",
       "020045e9b463e642225bc147b77b8ee5d7cc356a42cd18c...                 Test0   \n",
       "...                                                                  ...   \n",
       "0234d43e3296dcf4934819f49c467c0d703f1e7b6fc5289...           danielflora   \n",
       "0234d65a1f6764d8a5fe3fccd32c9176c7dc1d8d4bd741d...               irunbtc   \n",
       "0234e82dea741df5f43a54fc1fc0bf850e799ee3f060e40...             bip39cups   \n",
       "0234f3200e878b8312e738ba42d37e2aa5c9028fecca6af...  0234f3200e878b8312e7   \n",
       "02355333d54ad85084ee16eec095e86b37f61ed0b713e86...           Bitcoinwolf   \n",
       "\n",
       "                                                   addresses  demand  \\\n",
       "pub_key                                                                \n",
       "0200000000727d3b67513c916f16975e3bf8f3304cf3fcf...         1       0   \n",
       "0200000000a3eff613189ca6c4070c89206ad658e286751...         2       0   \n",
       "020003b9499a97c8dfbbab6b196319db37ba9c37bccb604...         2       0   \n",
       "0200420ebfb0c6162e7dfcbcb5ca23df9f423ceb0536617...         1       0   \n",
       "020045e9b463e642225bc147b77b8ee5d7cc356a42cd18c...         1       0   \n",
       "...                                                      ...     ...   \n",
       "0234d43e3296dcf4934819f49c467c0d703f1e7b6fc5289...         1       0   \n",
       "0234d65a1f6764d8a5fe3fccd32c9176c7dc1d8d4bd741d...         1       0   \n",
       "0234e82dea741df5f43a54fc1fc0bf850e799ee3f060e40...         1       0   \n",
       "0234f3200e878b8312e738ba42d37e2aa5c9028fecca6af...         1       0   \n",
       "02355333d54ad85084ee16eec095e86b37f61ed0b713e86...         1       0   \n",
       "\n",
       "                                                                                    outgoing_channels  \n",
       "pub_key                                                                                                \n",
       "0200000000727d3b67513c916f16975e3bf8f3304cf3fcf...                               [914492408312299520]  \n",
       "0200000000a3eff613189ca6c4070c89206ad658e286751...                               [916659545733136385]  \n",
       "020003b9499a97c8dfbbab6b196319db37ba9c37bccb604...  [878783569160110081, 879850095339962369, 87999...  \n",
       "0200420ebfb0c6162e7dfcbcb5ca23df9f423ceb0536617...  [918121896067661824, 921152150182100993, 92594...  \n",
       "020045e9b463e642225bc147b77b8ee5d7cc356a42cd18c...                               [907297204189528064]  \n",
       "...                                                                                               ...  \n",
       "0234d43e3296dcf4934819f49c467c0d703f1e7b6fc5289...                               [919348951086923776]  \n",
       "0234d65a1f6764d8a5fe3fccd32c9176c7dc1d8d4bd741d...                               [909883255541137409]  \n",
       "0234e82dea741df5f43a54fc1fc0bf850e799ee3f060e40...                               [885503784091779073]  \n",
       "0234f3200e878b8312e738ba42d37e2aa5c9028fecca6af...  [928116456799797249, 928614535612923905, 92868...  \n",
       "02355333d54ad85084ee16eec095e86b37f61ed0b713e86...  [919433613398638593, 919488589086392321, 91963...  \n",
       "\n",
       "[586 rows x 4 columns]"
      ],
      "text/html": [
       "<div>\n",
       "<style scoped>\n",
       "    .dataframe tbody tr th:only-of-type {\n",
       "        vertical-align: middle;\n",
       "    }\n",
       "\n",
       "    .dataframe tbody tr th {\n",
       "        vertical-align: top;\n",
       "    }\n",
       "\n",
       "    .dataframe thead th {\n",
       "        text-align: right;\n",
       "    }\n",
       "</style>\n",
       "<table border=\"1\" class=\"dataframe\">\n",
       "  <thead>\n",
       "    <tr style=\"text-align: right;\">\n",
       "      <th></th>\n",
       "      <th>alias</th>\n",
       "      <th>addresses</th>\n",
       "      <th>demand</th>\n",
       "      <th>outgoing_channels</th>\n",
       "    </tr>\n",
       "    <tr>\n",
       "      <th>pub_key</th>\n",
       "      <th></th>\n",
       "      <th></th>\n",
       "      <th></th>\n",
       "      <th></th>\n",
       "    </tr>\n",
       "  </thead>\n",
       "  <tbody>\n",
       "    <tr>\n",
       "      <th>0200000000727d3b67513c916f16975e3bf8f3304cf3fcf0ed855e2ae41888f461</th>\n",
       "      <td>lightningspore.com</td>\n",
       "      <td>1</td>\n",
       "      <td>0</td>\n",
       "      <td>[914492408312299520]</td>\n",
       "    </tr>\n",
       "    <tr>\n",
       "      <th>0200000000a3eff613189ca6c4070c89206ad658e286751eca1f29262948247a5f</th>\n",
       "      <td>pay.lnrouter.app</td>\n",
       "      <td>2</td>\n",
       "      <td>0</td>\n",
       "      <td>[916659545733136385]</td>\n",
       "    </tr>\n",
       "    <tr>\n",
       "      <th>020003b9499a97c8dfbbab6b196319db37ba9c37bccb60477f3c867175f417988e</th>\n",
       "      <td>BJCR_BTCPayServer</td>\n",
       "      <td>2</td>\n",
       "      <td>0</td>\n",
       "      <td>[878783569160110081, 879850095339962369, 87999...</td>\n",
       "    </tr>\n",
       "    <tr>\n",
       "      <th>0200420ebfb0c6162e7dfcbcb5ca23df9f423ceb0536617d1b4549fc4efa6a15d5</th>\n",
       "      <td>Dezeland</td>\n",
       "      <td>1</td>\n",
       "      <td>0</td>\n",
       "      <td>[918121896067661824, 921152150182100993, 92594...</td>\n",
       "    </tr>\n",
       "    <tr>\n",
       "      <th>020045e9b463e642225bc147b77b8ee5d7cc356a42cd18cc67fe37b75c4611ad14</th>\n",
       "      <td>Test0</td>\n",
       "      <td>1</td>\n",
       "      <td>0</td>\n",
       "      <td>[907297204189528064]</td>\n",
       "    </tr>\n",
       "    <tr>\n",
       "      <th>...</th>\n",
       "      <td>...</td>\n",
       "      <td>...</td>\n",
       "      <td>...</td>\n",
       "      <td>...</td>\n",
       "    </tr>\n",
       "    <tr>\n",
       "      <th>0234d43e3296dcf4934819f49c467c0d703f1e7b6fc528966795a4a7b6640832ce</th>\n",
       "      <td>danielflora</td>\n",
       "      <td>1</td>\n",
       "      <td>0</td>\n",
       "      <td>[919348951086923776]</td>\n",
       "    </tr>\n",
       "    <tr>\n",
       "      <th>0234d65a1f6764d8a5fe3fccd32c9176c7dc1d8d4bd741dd181c1dc0f584eb1a1c</th>\n",
       "      <td>irunbtc</td>\n",
       "      <td>1</td>\n",
       "      <td>0</td>\n",
       "      <td>[909883255541137409]</td>\n",
       "    </tr>\n",
       "    <tr>\n",
       "      <th>0234e82dea741df5f43a54fc1fc0bf850e799ee3f060e4031d760b3a90399523d2</th>\n",
       "      <td>bip39cups</td>\n",
       "      <td>1</td>\n",
       "      <td>0</td>\n",
       "      <td>[885503784091779073]</td>\n",
       "    </tr>\n",
       "    <tr>\n",
       "      <th>0234f3200e878b8312e738ba42d37e2aa5c9028fecca6afd9b1114f8466eecb5f8</th>\n",
       "      <td>0234f3200e878b8312e7</td>\n",
       "      <td>1</td>\n",
       "      <td>0</td>\n",
       "      <td>[928116456799797249, 928614535612923905, 92868...</td>\n",
       "    </tr>\n",
       "    <tr>\n",
       "      <th>02355333d54ad85084ee16eec095e86b37f61ed0b713e86a388d644e1ec839cc41</th>\n",
       "      <td>Bitcoinwolf</td>\n",
       "      <td>1</td>\n",
       "      <td>0</td>\n",
       "      <td>[919433613398638593, 919488589086392321, 91963...</td>\n",
       "    </tr>\n",
       "  </tbody>\n",
       "</table>\n",
       "<p>586 rows × 4 columns</p>\n",
       "</div>"
      ]
     },
     "execution_count": 8,
     "metadata": {},
     "output_type": "execute_result"
    }
   ],
   "execution_count": 8
  },
  {
   "metadata": {},
   "cell_type": "markdown",
   "source": "## Modeling",
   "id": "7df6d25eef847cf7"
  },
  {
   "metadata": {},
   "cell_type": "code",
   "source": [
    "model = pyo.ConcreteModel(name=\"Min cost flow problem\")\n",
    "model.NODES = pyo.Set(initialize=nodes.index)\n",
    "model.CHANNELS = pyo.Set(initialize=channels.index) #within=model.NODES*model.NODES)"
   ],
   "id": "52bc701c57020ae",
   "outputs": [],
   "execution_count": null
  },
  {
   "metadata": {},
   "cell_type": "code",
   "source": [
    "model.x = pyo.Var(model.CHANNELS, domain=pyo.Binary)\n",
    "model.a = pyo.Var(model.CHANNELS, domain=pyo.NonNegativeReals)"
   ],
   "id": "db6bf92632e748f7",
   "outputs": [],
   "execution_count": null
  },
  {
   "metadata": {},
   "cell_type": "code",
   "source": [
    "def objective_function(model: pyo.ConcreteModel):\n",
    "    return sum(channels.loc[k, \"base_fee\"] * model.x[k] for k in model.CHANNELS) + sum(channels.loc[i, \"rate_fee\"] * model.a[i] for i in model.CHANNELS)\n",
    "\n",
    "model.totalCost = pyo.Objective(expr=objective_function(model), sense=pyo.minimize)"
   ],
   "id": "f45ec00f2444e9d1",
   "outputs": [],
   "execution_count": null
  },
  {
   "metadata": {},
   "cell_type": "markdown",
   "source": [
    "### Constraints\n",
    "\n",
    "#### Capacity constraint\n",
    "\n",
    "$$amount_{i,j} \\le capacity_{i,j} \\times x_{i,j} \\text{ } \\forall (i,j) \\in E$$\n"
   ],
   "id": "861b0daa9b9cba75"
  },
  {
   "metadata": {},
   "cell_type": "code",
   "source": [
    "def capacity_constraint(model: pyo.ConcreteModel, a):\n",
    "    return model.a[a] <= channels.loc[a, \"capacity\"] * model.x[a]\n",
    "\n",
    "model.CapacityConstraint = pyo.Constraint(model.CHANNELS, rule=capacity_constraint, name=\"Capacity constraint\")"
   ],
   "id": "2f06048e92657162",
   "outputs": [],
   "execution_count": null
  },
  {
   "metadata": {},
   "cell_type": "markdown",
   "source": [
    "#### Flow balance constraint\n",
    "\n",
    "$$\\sum_{(s,i) \\in E} amount_{si} - \\sum_{(i,t) \\in E} amount_{it} = b_i \\text{ } \\forall i \\in V$$\n"
   ],
   "id": "7adcde34bbdb4878"
  },
  {
   "metadata": {},
   "cell_type": "code",
   "source": [
    "#def compute_outgoing(n: str) -> list:\n",
    "#    \"\"\"\n",
    "#    Compute outgoing channels list for the node n\n",
    "#    :param n: node identifier\n",
    "#    :return: list of outgoing channels for node n\n",
    "#    \"\"\"\n",
    "#    return [c for c in model.CHANNELS if channels.loc[c, \"node1_pub\"] == n]\n",
    "#\n",
    "#\n",
    "#def compute_incoming(n: str) -> list:\n",
    "#    \"\"\"\n",
    "#    Compute incoming channels list for the node n\n",
    "#    :param n: node identifier\n",
    "#    :return: list of incoming channels for node n\n",
    "#    \"\"\"\n",
    "#    return [c for c in model.CHANNELS if channels.loc[c, \"node2_pub\"] == n]\n",
    "\n",
    "\n",
    "def flow_balance_constraint(model: pyo.ConcreteModel, n: str):\n",
    "    print(\"Start processing\")\n",
    "    return sum(model.a[a] for a in compute_incoming(f\"{n}\")) - sum(model.a[a] for a in compute_outgoing(f\"{n}\")) == nodes.loc[n, \"demand\"]\n",
    "\n",
    "\n",
    "model.FlowBalanceConstraint = pyo.Constraint(model.NODES, rule=flow_balance_constraint, name=\"Flow balance constrain\")"
   ],
   "id": "aca8e6b5d63c5f96",
   "outputs": [],
   "execution_count": null
  },
  {
   "metadata": {},
   "cell_type": "markdown",
   "source": "## Solving the model",
   "id": "b8bc8c88087daf77"
  },
  {
   "metadata": {},
   "cell_type": "code",
   "source": [
    "opt = pyo.SolverFactory('cbc')\n",
    "opt.solve(model, tee=True)"
   ],
   "id": "6d73afc3ad1ec8e8",
   "outputs": [],
   "execution_count": null
  },
  {
   "metadata": {},
   "cell_type": "code",
   "source": "model.x.pprint()",
   "id": "f88c7c0611694b3b",
   "outputs": [],
   "execution_count": null
  }
 ],
 "metadata": {
  "kernelspec": {
   "display_name": "Python 3",
   "language": "python",
   "name": "python3"
  },
  "language_info": {
   "codemirror_mode": {
    "name": "ipython",
    "version": 2
   },
   "file_extension": ".py",
   "mimetype": "text/x-python",
   "name": "python",
   "nbconvert_exporter": "python",
   "pygments_lexer": "ipython2",
   "version": "2.7.6"
  }
 },
 "nbformat": 4,
 "nbformat_minor": 5
}
