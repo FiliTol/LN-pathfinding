{
 "cells": [
  {
   "metadata": {},
   "cell_type": "markdown",
   "source": "## Import and cleaning",
   "id": "c599f7bab2a99ae6"
  },
  {
   "metadata": {
    "ExecuteTime": {
     "end_time": "2024-06-21T12:22:19.563544Z",
     "start_time": "2024-06-21T12:22:17.456035Z"
    }
   },
   "cell_type": "code",
   "source": [
    "import pandas as pd\n",
    "import json\n",
    "import re\n",
    "import pyomo.environ as pyo\n",
    "\n",
    "\n",
    "with open(\"../data/network_graph_2024_06_12.json\") as f:\n",
    "    d = json.load(f)\n",
    "\n",
    "nodes = pd.DataFrame(d[\"nodes\"])\n",
    "channels = pd.DataFrame(d[\"edges\"])"
   ],
   "id": "a0b4114648597610",
   "outputs": [],
   "execution_count": 1
  },
  {
   "metadata": {},
   "cell_type": "markdown",
   "source": "## Channels",
   "id": "7bd397038e338636"
  },
  {
   "cell_type": "code",
   "id": "initial_id",
   "metadata": {
    "collapsed": true,
    "ExecuteTime": {
     "end_time": "2024-06-21T12:22:21.070018Z",
     "start_time": "2024-06-21T12:22:21.008226Z"
    }
   },
   "source": [
    "## Change data types\n",
    "channels[\"capacity\"] = channels[\"capacity\"].astype(int)\n",
    "channels[\"last_update\"] = pd.to_datetime(channels[\"last_update\"], unit = 's')\n",
    "\n",
    "## Filter out channels that are unused (no update time)\n",
    "channels = channels[channels[\"last_update\"] > \"1970-01-01\"]\n",
    "\n",
    "## Filter out channels with nodes with no policy registered for this describegraph query (aka not reachable now)\n",
    "channels = channels[pd.notnull(channels[\"node1_policy\"]) & pd.notnull(channels[\"node2_policy\"])]\n",
    "\n",
    "channels = channels.filter(items=['channel_id',\n",
    "                       'node1_pub',\n",
    "                       'node2_pub',\n",
    "                       'capacity',\n",
    "                       'node1_policy',\n",
    "                       'node2_policy'\n",
    "                       ])\n"
   ],
   "outputs": [],
   "execution_count": 2
  },
  {
   "metadata": {},
   "cell_type": "markdown",
   "source": [
    "From these data we only need information that are strictly related to path finding for channels, thus we only need:\n",
    "\n",
    "- channel peers\n",
    "- channel id\n",
    "- capacity\n",
    "- nodes policy:\n",
    "    - fee base msat\n",
    "    - fee rate milli msat"
   ],
   "id": "a4cf27d756cb37c3"
  },
  {
   "metadata": {
    "ExecuteTime": {
     "end_time": "2024-06-21T12:22:22.313886Z",
     "start_time": "2024-06-21T12:22:22.301239Z"
    }
   },
   "cell_type": "code",
   "source": "channels.iloc[0]",
   "id": "a9b75aa208d9da9c",
   "outputs": [
    {
     "data": {
      "text/plain": [
       "channel_id                                     627185621808578560\n",
       "node1_pub       027d7f94667974b10d3e8330de403111229669273dc902...\n",
       "node2_pub       03abf6f44c355dec0d5aa155bdbdd6e0c8fefe318eff40...\n",
       "capacity                                                  3000000\n",
       "node1_policy    {'time_lock_delta': 144, 'min_htlc': '1000', '...\n",
       "node2_policy    {'time_lock_delta': 30, 'min_htlc': '1000', 'f...\n",
       "Name: 4650, dtype: object"
      ]
     },
     "execution_count": 3,
     "metadata": {},
     "output_type": "execute_result"
    }
   ],
   "execution_count": 3
  },
  {
   "metadata": {
    "ExecuteTime": {
     "end_time": "2024-06-21T12:22:24.009149Z",
     "start_time": "2024-06-21T12:22:23.936284Z"
    }
   },
   "cell_type": "code",
   "source": [
    "channels['node1_fee_base_msat'] = channels['node1_policy'].apply(lambda x: x['fee_base_msat'])\n",
    "channels['node2_fee_base_msat'] = channels['node2_policy'].apply(lambda x: x['fee_base_msat'])\n",
    "\n",
    "channels['node1_fee_rate_milli_msat'] = channels['node1_policy'].apply(lambda x: x['fee_rate_milli_msat'])\n",
    "channels['node2_fee_rate_milli_msat'] = channels['node2_policy'].apply(lambda x: x['fee_rate_milli_msat'])\n",
    "\n",
    "channels[\"node1_fee_base_msat\"] = channels[\"node1_fee_base_msat\"].astype(int)\n",
    "channels[\"node2_fee_base_msat\"] = channels[\"node2_fee_base_msat\"].astype(int)\n",
    "\n",
    "channels[\"node1_fee_rate_milli_msat\"] = channels[\"node1_fee_rate_milli_msat\"].astype(int)\n",
    "channels[\"node2_fee_rate_milli_msat\"] = channels[\"node2_fee_rate_milli_msat\"].astype(int)\n",
    "\n",
    "\n",
    "channels = channels.filter(items=['channel_id',\n",
    "                                  'node1_pub',\n",
    "                                  'node2_pub',\n",
    "                                  'capacity',\n",
    "                                  'node1_fee_base_msat',\n",
    "                                  'node1_fee_rate_milli_msat',\n",
    "                                  'node2_fee_base_msat',\n",
    "                                  'node2_fee_rate_milli_msat'\n",
    "                                  ])"
   ],
   "id": "97ad2a83e0ed357e",
   "outputs": [],
   "execution_count": 4
  },
  {
   "metadata": {},
   "cell_type": "markdown",
   "source": "## Nodes",
   "id": "ea1693370e30293a"
  },
  {
   "metadata": {},
   "cell_type": "markdown",
   "source": [
    "Set feature to flag the presence of onion address and the presence of clearnet address.\n",
    "Feature is like the Linux permissions:\n",
    "- 1 for clearnet\n",
    "- 2 for onion\n",
    "- 3 for both onion and clearnet"
   ],
   "id": "390d3a7941d1299d"
  },
  {
   "metadata": {
    "ExecuteTime": {
     "end_time": "2024-06-21T12:22:32.181702Z",
     "start_time": "2024-06-21T12:22:32.153648Z"
    }
   },
   "cell_type": "code",
   "source": "nodes['addresses'] = nodes.iloc[:, 3].apply(lambda x: [i['addr'] for i in x])",
   "id": "e185df4394a95c59",
   "outputs": [],
   "execution_count": 6
  },
  {
   "metadata": {
    "ExecuteTime": {
     "end_time": "2024-06-21T12:22:34.759019Z",
     "start_time": "2024-06-21T12:22:34.751785Z"
    }
   },
   "cell_type": "code",
   "source": [
    "def allocate_code(addresses):\n",
    "    \"\"\"\n",
    "    :param addresses: list of strings with Ip or onion addresses\n",
    "    :return: score for the kind of addresses used by the node.\n",
    "             1 of only onion, 2 if only clearnet, 3 if both onion and clearnet\n",
    "             The score is independent from the number of addresses of each kind\n",
    "    \"\"\"\n",
    "    code = []\n",
    "    onion_pattern = re.compile(r\".*\\.onion\")\n",
    "    for element in addresses:\n",
    "        if onion_pattern.match(element):\n",
    "            code.append(1)\n",
    "        else:\n",
    "            code.append(2)\n",
    "    return sum(set(code))\n",
    "\n",
    "\n",
    "nodes[\"addresses\"] = nodes[\"addresses\"].apply(allocate_code)"
   ],
   "id": "e68ab2c511beea67",
   "outputs": [],
   "execution_count": 7
  },
  {
   "metadata": {},
   "cell_type": "markdown",
   "source": "Remove nodes that were not updated (aka with no last update time data)",
   "id": "e914c2e7334c61d6"
  },
  {
   "metadata": {
    "ExecuteTime": {
     "end_time": "2024-06-21T12:24:55.159040Z",
     "start_time": "2024-06-21T12:24:55.147890Z"
    }
   },
   "cell_type": "code",
   "source": [
    "nodes[\"last_update\"] = pd.to_datetime(nodes[\"last_update\"], unit = 's')\n",
    "nodes = nodes[nodes[\"last_update\"] > \"1970-01-01\"]"
   ],
   "id": "93a6927cebb775f4",
   "outputs": [],
   "execution_count": 11
  },
  {
   "metadata": {},
   "cell_type": "markdown",
   "source": [
    "Analyse the \"features\" column\n",
    "\n",
    "- https://github.com/lightning/bolts/blob/master/09-features.md\n",
    "- https://github.com/lightningnetwork/lnd/blob/master/lnrpc/lightning.proto\n",
    "- https://github.com/lightningnetwork/lnd/blob/master/lnrpc/lightning_grpc.pb.go"
   ],
   "id": "a6c0bf04802b55d"
  },
  {
   "metadata": {
    "ExecuteTime": {
     "end_time": "2024-06-21T12:39:03.758649Z",
     "start_time": "2024-06-21T12:39:03.747853Z"
    }
   },
   "cell_type": "code",
   "source": "nodes.loc[0:0, \"features\"]",
   "id": "1245bb0e6a72c839",
   "outputs": [
    {
     "data": {
      "text/plain": [
       "0    {'0': {'name': 'data-loss-protect', 'is_requir...\n",
       "Name: features, dtype: object"
      ]
     },
     "execution_count": 18,
     "metadata": {},
     "output_type": "execute_result"
    }
   ],
   "execution_count": 18
  }
 ],
 "metadata": {
  "kernelspec": {
   "display_name": "Python 3",
   "language": "python",
   "name": "python3"
  },
  "language_info": {
   "codemirror_mode": {
    "name": "ipython",
    "version": 2
   },
   "file_extension": ".py",
   "mimetype": "text/x-python",
   "name": "python",
   "nbconvert_exporter": "python",
   "pygments_lexer": "ipython2",
   "version": "2.7.6"
  }
 },
 "nbformat": 4,
 "nbformat_minor": 5
}
