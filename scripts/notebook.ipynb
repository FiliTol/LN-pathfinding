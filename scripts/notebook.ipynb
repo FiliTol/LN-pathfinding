{
 "cells": [
  {
   "metadata": {},
   "cell_type": "code",
   "source": [
    "import pandas as pd\n",
    "from cleaning import create_demand\n",
    "import pyomo.environ as pyo"
   ],
   "id": "initial_id",
   "outputs": [],
   "execution_count": null
  },
  {
   "metadata": {},
   "cell_type": "markdown",
   "source": "# Data import",
   "id": "a4b2795dc42b8269"
  },
  {
   "metadata": {},
   "cell_type": "code",
   "source": [
    "nodes = pd.read_pickle(\"../data/original/nodes.pkl\")\n",
    "channels = pd.read_pickle(\"../data/original/channels.pkl\")"
   ],
   "id": "20748e4222156956",
   "outputs": [],
   "execution_count": null
  },
  {
   "metadata": {
    "ExecuteTime": {
     "end_time": "2024-07-04T15:42:29.533423Z",
     "start_time": "2024-07-04T15:42:29.138932Z"
    }
   },
   "cell_type": "code",
   "source": [
    "nodes.to_csv(\"../data/original/nodes.csv\")\n",
    "channels.to_csv(\"../data/original/channels.csv\")"
   ],
   "id": "eb53fe80903c0b72",
   "outputs": [
    {
     "ename": "NameError",
     "evalue": "name 'nodes' is not defined",
     "output_type": "error",
     "traceback": [
      "\u001B[0;31m---------------------------------------------------------------------------\u001B[0m",
      "\u001B[0;31mNameError\u001B[0m                                 Traceback (most recent call last)",
      "Cell \u001B[0;32mIn[1], line 1\u001B[0m\n\u001B[0;32m----> 1\u001B[0m \u001B[43mnodes\u001B[49m\u001B[38;5;241m.\u001B[39mto_csv(\u001B[38;5;124m\"\u001B[39m\u001B[38;5;124m../data/nodes.csv\u001B[39m\u001B[38;5;124m\"\u001B[39m)\n\u001B[1;32m      2\u001B[0m channels\u001B[38;5;241m.\u001B[39mto_csv(\u001B[38;5;124m\"\u001B[39m\u001B[38;5;124m../data/channels.csv\u001B[39m\u001B[38;5;124m\"\u001B[39m)\n",
      "\u001B[0;31mNameError\u001B[0m: name 'nodes' is not defined"
     ]
    }
   ],
   "execution_count": 1
  },
  {
   "metadata": {},
   "cell_type": "markdown",
   "source": "## Modeling",
   "id": "7df6d25eef847cf7"
  },
  {
   "metadata": {},
   "cell_type": "markdown",
   "source": [
    "Change the logic of CHANNELS set construction by considering the pair of nodes as the edge identifier.\n",
    "In this way I also have to deal with:\n",
    "1. multiedges, aka multiple edges between two nodes. I can not consider those for simplicity\n",
    "2. directed relationship. I need to understand if flipping the channels - as done before - can be reasonable. I also need to determine if the flipped pair of nodes is considered a valid index by pyomo."
   ],
   "id": "7beaae236912d3d9"
  },
  {
   "metadata": {},
   "cell_type": "code",
   "source": "#channels.reset_index(inplace=True)",
   "id": "7ee3f408993791c1",
   "outputs": [],
   "execution_count": null
  },
  {
   "metadata": {},
   "cell_type": "code",
   "source": "#channels.set_index([\"node1_pub\", \"node2_pub\"], inplace=True)",
   "id": "7d39aab9e60a7a73",
   "outputs": [],
   "execution_count": null
  },
  {
   "metadata": {},
   "cell_type": "code",
   "source": "#channels.sort_index(inplace=True)",
   "id": "4bf286838907f136",
   "outputs": [],
   "execution_count": null
  },
  {
   "metadata": {},
   "cell_type": "code",
   "source": [
    "model = pyo.ConcreteModel(name=\"Min cost flow problem\")\n",
    "model.NODES = pyo.Set(initialize=nodes.index)\n",
    "#model.CHANNELS = pyo.Set(initialize=channels.index)\n",
    "model.CHANNELS = pyo.Set(initialize=[(channels.loc[i, \"node1_pub\"], channels.loc[i, \"node2_pub\"]) for i in channels.index])\n",
    "\n"
   ],
   "id": "52bc701c57020ae",
   "outputs": [],
   "execution_count": null
  },
  {
   "metadata": {},
   "cell_type": "code",
   "source": [
    "#model.x = pyo.Var(model.CHANNELS, domain=pyo.Binary)\n",
    "model.a = pyo.Var(model.CHANNELS, domain=pyo.NonNegativeReals)"
   ],
   "id": "db6bf92632e748f7",
   "outputs": [],
   "execution_count": null
  },
  {
   "metadata": {
    "ExecuteTime": {
     "end_time": "2024-07-04T16:54:31.734768Z",
     "start_time": "2024-07-04T16:54:31.355964Z"
    }
   },
   "cell_type": "code",
   "source": [
    "###def objective_function(model: pyo.ConcreteModel):\n",
    "#    return sum(channels.loc[k, \"base_fee\"] * model.x[k] for k in model.CHANNELS) + sum(channels.loc[i, \"rate_fee\"] * model.a[i] for i in model.CHANNELS)\n",
    "\n",
    "def objective_function(model: pyo.ConcreteModel):\n",
    "    return sum(channels.loc[(channels[\"node1_pub\"]==i[0]) & (channels[\"node2_pub\"]==i[1]), \"rate_fee\"] * model.a[i] for i in model.CHANNELS)\n",
    "\n",
    "model.totalCost = pyo.Objective(expr=objective_function(model), sense=pyo.minimize)"
   ],
   "id": "f45ec00f2444e9d1",
   "outputs": [
    {
     "ename": "NameError",
     "evalue": "name 'pyo' is not defined",
     "output_type": "error",
     "traceback": [
      "\u001B[0;31m---------------------------------------------------------------------------\u001B[0m",
      "\u001B[0;31mNameError\u001B[0m                                 Traceback (most recent call last)",
      "Cell \u001B[0;32mIn[1], line 4\u001B[0m\n\u001B[1;32m      1\u001B[0m \u001B[38;5;66;03m###def objective_function(model: pyo.ConcreteModel):\u001B[39;00m\n\u001B[1;32m      2\u001B[0m \u001B[38;5;66;03m#    return sum(channels.loc[k, \"base_fee\"] * model.x[k] for k in model.CHANNELS) + sum(channels.loc[i, \"rate_fee\"] * model.a[i] for i in model.CHANNELS)\u001B[39;00m\n\u001B[0;32m----> 4\u001B[0m \u001B[38;5;28;01mdef\u001B[39;00m \u001B[38;5;21mobjective_function\u001B[39m(model: \u001B[43mpyo\u001B[49m\u001B[38;5;241m.\u001B[39mConcreteModel):\n\u001B[1;32m      5\u001B[0m     \u001B[38;5;28;01mreturn\u001B[39;00m \u001B[38;5;28msum\u001B[39m(channels\u001B[38;5;241m.\u001B[39mloc[(channels[\u001B[38;5;124m\"\u001B[39m\u001B[38;5;124mnode1_pub\u001B[39m\u001B[38;5;124m\"\u001B[39m]\u001B[38;5;241m==\u001B[39mi[\u001B[38;5;241m0\u001B[39m]) \u001B[38;5;241m&\u001B[39m (channels[\u001B[38;5;124m\"\u001B[39m\u001B[38;5;124mnode2_pub\u001B[39m\u001B[38;5;124m\"\u001B[39m]\u001B[38;5;241m==\u001B[39mi[\u001B[38;5;241m1\u001B[39m]), \u001B[38;5;124m\"\u001B[39m\u001B[38;5;124mrate_fee\u001B[39m\u001B[38;5;124m\"\u001B[39m] \u001B[38;5;241m*\u001B[39m model\u001B[38;5;241m.\u001B[39ma[i] \u001B[38;5;28;01mfor\u001B[39;00m i \u001B[38;5;129;01min\u001B[39;00m model\u001B[38;5;241m.\u001B[39mCHANNELS)\n\u001B[1;32m      7\u001B[0m model\u001B[38;5;241m.\u001B[39mtotalCost \u001B[38;5;241m=\u001B[39m pyo\u001B[38;5;241m.\u001B[39mObjective(expr\u001B[38;5;241m=\u001B[39mobjective_function(model), sense\u001B[38;5;241m=\u001B[39mpyo\u001B[38;5;241m.\u001B[39mminimize)\n",
      "\u001B[0;31mNameError\u001B[0m: name 'pyo' is not defined"
     ]
    }
   ],
   "execution_count": 1
  },
  {
   "metadata": {},
   "cell_type": "code",
   "source": [
    "#for i in model.CHANNELS:\n",
    "#    print(sum(channels.loc[(channels[\"node1_pub\"]==i[0]) & (channels[\"node2_pub\"]==i[1]), \"rate_fee\"] * model.a[i]))\n"
   ],
   "id": "1b44ba3748187234",
   "outputs": [],
   "execution_count": null
  },
  {
   "metadata": {},
   "cell_type": "markdown",
   "source": [
    "### Constraints\n",
    "\n",
    "#### Capacity constraint\n",
    "\n",
    "$$amount_{i,j} \\le capacity_{i,j} \\times x_{i,j} \\text{ } \\forall (i,j) \\in E$$\n"
   ],
   "id": "861b0daa9b9cba75"
  },
  {
   "metadata": {},
   "cell_type": "code",
   "source": [
    "def capacity_constraint(model: pyo.ConcreteModel, a):\n",
    "    return model.a[a] <= channels.loc[a, \"capacity\"] # * model.x[a]\n",
    "\n",
    "model.CapacityConstraint = pyo.Constraint(model.CHANNELS, rule=capacity_constraint, name=\"Capacity constraint\")"
   ],
   "id": "2f06048e92657162",
   "outputs": [],
   "execution_count": null
  },
  {
   "metadata": {},
   "cell_type": "markdown",
   "source": [
    "#### Flow balance constraint\n",
    "\n",
    "$$\\sum_{(s,i) \\in E} amount_{si} - \\sum_{(i,t) \\in E} amount_{it} = b_i \\text{ } \\forall i \\in V$$\n"
   ],
   "id": "7adcde34bbdb4878"
  },
  {
   "metadata": {},
   "cell_type": "code",
   "source": "nodes = create_demand(nodes)",
   "id": "aca8e6b5d63c5f96",
   "outputs": [],
   "execution_count": null
  },
  {
   "metadata": {},
   "cell_type": "code",
   "source": [
    "\n",
    "def flow_balance_constraint(model: pyo.ConcreteModel, n: str):\n",
    "    return sum(model.a[a] for a in nodes.loc[n, 'incoming_channels']) - sum(model.a[a] for a in nodes.loc[n, 'outgoing_channels']) == nodes.loc[n, \"demand\"]\n",
    "\n",
    "model.FlowBalanceConstraint = pyo.Constraint(model.NODES, rule=flow_balance_constraint, name=\"Flow balance constrain\")\n"
   ],
   "id": "d2b57765c3b53fc5",
   "outputs": [],
   "execution_count": null
  },
  {
   "metadata": {},
   "cell_type": "markdown",
   "source": "## Solving the model",
   "id": "b8bc8c88087daf77"
  },
  {
   "metadata": {},
   "cell_type": "code",
   "source": [
    "opt = pyo.SolverFactory('cbc')\n",
    "results = opt.solve(model, tee=True)\n",
    "\n",
    "if (results.solver.status == pyo.SolverStatus.ok) and (results.solver.termination_condition == pyo.TerminationCondition.optimal):\n",
    "    print('\\nOptimal solution found')\n",
    "elif results.solver.termination_condition == pyo.TerminationCondition.feasible:\n",
    "    print('\\nFeasible but not proven optimal solution found')\n",
    "elif results.solver.termination_condition == pyo.TerminationCondition.infeasible:\n",
    "    raise Exception(\"The model is infeasible\")\n",
    "else:\n",
    "    print('\\nSolver Status: ',  results.solver.status)\n",
    "    raise Exception(results.solver.status)\n",
    "\n",
    "print('\\nObject function value = ', model.Objective())\n"
   ],
   "id": "f88c7c0611694b3b",
   "outputs": [],
   "execution_count": null
  },
  {
   "metadata": {},
   "cell_type": "code",
   "source": [
    "ris = []\n",
    "for i,v in model.a.extract_values().items():\n",
    "    if v != 0:\n",
    "      ris.append((i, v))\n",
    "      \n",
    "print(ris)"
   ],
   "id": "738a7ed795ae07c8",
   "outputs": [],
   "execution_count": null
  }
 ],
 "metadata": {
  "kernelspec": {
   "display_name": "Python 3",
   "language": "python",
   "name": "python3"
  },
  "language_info": {
   "codemirror_mode": {
    "name": "ipython",
    "version": 2
   },
   "file_extension": ".py",
   "mimetype": "text/x-python",
   "name": "python",
   "nbconvert_exporter": "python",
   "pygments_lexer": "ipython2",
   "version": "2.7.6"
  }
 },
 "nbformat": 4,
 "nbformat_minor": 5
}
