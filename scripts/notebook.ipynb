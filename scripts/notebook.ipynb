{
 "cells": [
  {
   "metadata": {},
   "cell_type": "code",
   "source": [
    "import pandas as pd\n",
    "from test_definition import load_and_transform, create_demand\n",
    "import pyomo.environ as pyo\n",
    "from multiprocessing import Pool"
   ],
   "id": "initial_id",
   "outputs": [],
   "execution_count": null
  },
  {
   "metadata": {},
   "cell_type": "markdown",
   "source": "# Data import",
   "id": "a4b2795dc42b8269"
  },
  {
   "metadata": {},
   "cell_type": "code",
   "source": [
    "nodes, channels = load_and_transform(\"../data/network_graph_2024_06_12.json\")\n",
    "nodes = create_demand(nodes)"
   ],
   "id": "a8a45f04dec94815",
   "outputs": [],
   "execution_count": null
  },
  {
   "metadata": {},
   "cell_type": "code",
   "source": [
    "## In order to accomplish that, the nodes dataset is split into some chuncks,\n",
    "## then the execution of the finding function is parallelized for every\n",
    "## dataframe chunck.\n",
    "## TODO: Process executed before creation of directed edges in the channels dataframe\n",
    "\n",
    "def nodes_df_splitting(pd_object: pd.DataFrame, n: int) -> list:\n",
    "    results = []\n",
    "    splitting: int = len(pd_object) // n\n",
    "    for i in range(n):\n",
    "        ris = pd_object[i * splitting : (i+1) * splitting]\n",
    "        results.append(ris)\n",
    "    if len(pd_object) % n != 0:\n",
    "        ris = pd_object[n * splitting: len(pd_object)]\n",
    "        results.append(ris)\n",
    "    return results\n",
    "\n",
    "\n",
    "def find_channels(n: str) -> list:\n",
    "    \"\"\"\n",
    "    :param n: node pub key\n",
    "    :return: list of channels for the node\n",
    "    Note that the listed channels are directed channels\n",
    "    that have also a mirrored channel that describes the\n",
    "    flow of funds in the opposite direction.\n",
    "    Thus, this channels list is simply adapted to other\n",
    "    flow of channels by considering then the channels\n",
    "    with id \"INV-<channel_id>\"\n",
    "    \"\"\"\n",
    "    channels_list = []\n",
    "    for c in channels.index:\n",
    "        if channels.loc[c, \"node1_pub\"] == n.name:\n",
    "            channels_list.append(c)\n",
    "    return channels_list\n",
    "\n",
    "\n",
    "def parallel_channel_finding(args: tuple) -> pd.DataFrame:\n",
    "    dfs, i = args\n",
    "    df = dfs[i].copy()\n",
    "    df[\"outgoing_channels\"] = df.apply(find_channels, axis=1)\n",
    "    return df\n",
    "\n",
    "\n",
    "def append_inv_channel(c: list) -> list:\n",
    "    ris = []\n",
    "    for i in c:\n",
    "        ris.append(\"INV\" + str(i))\n",
    "    return ris\n",
    "\n",
    "\n",
    "def flipped_channels(pd_object: pd.DataFrame) -> pd.DataFrame:\n",
    "    pd_object[\"incoming_channels\"] = pd_object[\"outgoing_channels\"].apply(append_inv_channel)\n",
    "    return pd_object"
   ],
   "id": "6e686134a6b6bb97",
   "outputs": [],
   "execution_count": null
  },
  {
   "metadata": {},
   "cell_type": "code",
   "source": [
    "slices = 10\n",
    "dataframes = nodes_df_splitting(nodes, slices)\n",
    "\n",
    "pool = Pool() # to set custom number of processes use processes=n\n",
    "inputs: list = [(dataframes, y) for y in range(slices)]\n",
    "outputs: list = pool.map(parallel_channel_finding, inputs)\n"
   ],
   "id": "cd742ca922a938cf",
   "outputs": [],
   "execution_count": null
  },
  {
   "metadata": {},
   "cell_type": "code",
   "source": [
    "nodes = pd.concat(outputs)\n",
    "nodes = flipped_channels(nodes)\n",
    "\n",
    "nodes.to_pickle(\"../data/nodes.pkl\")"
   ],
   "id": "7e8bc183e6d255ec",
   "outputs": [],
   "execution_count": null
  },
  {
   "metadata": {},
   "cell_type": "markdown",
   "source": "## Modeling",
   "id": "7df6d25eef847cf7"
  },
  {
   "metadata": {},
   "cell_type": "code",
   "source": [
    "model = pyo.ConcreteModel(name=\"Min cost flow problem\")\n",
    "model.NODES = pyo.Set(initialize=nodes.index)\n",
    "model.CHANNELS = pyo.Set(initialize=channels.index) #within=model.NODES*model.NODES)"
   ],
   "id": "52bc701c57020ae",
   "outputs": [],
   "execution_count": null
  },
  {
   "metadata": {},
   "cell_type": "code",
   "source": [
    "model.x = pyo.Var(model.CHANNELS, domain=pyo.Binary)\n",
    "model.a = pyo.Var(model.CHANNELS, domain=pyo.NonNegativeReals)"
   ],
   "id": "db6bf92632e748f7",
   "outputs": [],
   "execution_count": null
  },
  {
   "metadata": {},
   "cell_type": "code",
   "source": [
    "def objective_function(model: pyo.ConcreteModel):\n",
    "    return sum(channels.loc[k, \"base_fee\"] * model.x[k] for k in model.CHANNELS) + sum(channels.loc[i, \"rate_fee\"] * model.a[i] for i in model.CHANNELS)\n",
    "\n",
    "model.totalCost = pyo.Objective(expr=objective_function(model), sense=pyo.minimize)"
   ],
   "id": "f45ec00f2444e9d1",
   "outputs": [],
   "execution_count": null
  },
  {
   "metadata": {},
   "cell_type": "markdown",
   "source": [
    "### Constraints\n",
    "\n",
    "#### Capacity constraint\n",
    "\n",
    "$$amount_{i,j} \\le capacity_{i,j} \\times x_{i,j} \\text{ } \\forall (i,j) \\in E$$\n"
   ],
   "id": "861b0daa9b9cba75"
  },
  {
   "metadata": {},
   "cell_type": "code",
   "source": [
    "def capacity_constraint(model: pyo.ConcreteModel, a):\n",
    "    return model.a[a] <= channels.loc[a, \"capacity\"] * model.x[a]\n",
    "\n",
    "model.CapacityConstraint = pyo.Constraint(model.CHANNELS, rule=capacity_constraint, name=\"Capacity constraint\")"
   ],
   "id": "2f06048e92657162",
   "outputs": [],
   "execution_count": null
  },
  {
   "metadata": {},
   "cell_type": "markdown",
   "source": [
    "#### Flow balance constraint\n",
    "\n",
    "$$\\sum_{(s,i) \\in E} amount_{si} - \\sum_{(i,t) \\in E} amount_{it} = b_i \\text{ } \\forall i \\in V$$\n"
   ],
   "id": "7adcde34bbdb4878"
  },
  {
   "metadata": {},
   "cell_type": "code",
   "source": [
    "#def compute_outgoing(n: str) -> list:\n",
    "#    \"\"\"\n",
    "#    Compute outgoing channels list for the node n\n",
    "#    :param n: node identifier\n",
    "#    :return: list of outgoing channels for node n\n",
    "#    \"\"\"\n",
    "#    return [c for c in model.CHANNELS if channels.loc[c, \"node1_pub\"] == n]\n",
    "#\n",
    "#\n",
    "#def compute_incoming(n: str) -> list:\n",
    "#    \"\"\"\n",
    "#    Compute incoming channels list for the node n\n",
    "#    :param n: node identifier\n",
    "#    :return: list of incoming channels for node n\n",
    "#    \"\"\"\n",
    "#    return [c for c in model.CHANNELS if channels.loc[c, \"node2_pub\"] == n]\n",
    "\n",
    "\n",
    "#def flow_balance_constraint(model: pyo.ConcreteModel, n: str):\n",
    "#    print(\"Start processing\")\n",
    "#    return sum(model.a[a] for a in compute_incoming(f\"{n}\")) - sum(model.a[a] for a in compute_outgoing(f\"{n}\")) == nodes.loc[n, \"demand\"]\n",
    "\n",
    "\n",
    "def flow_balance_constraint(model: pyo.ConcreteModel, n: str):\n",
    "    print(\"Start processing\")\n",
    "    return sum(model.a[a] for a in nodes.loc[n, 'incoming_channels']) - sum(model.a[a] for a in nodes.loc[n, 'outgoing_channels']) == nodes.loc[n, \"demand\"]\n",
    "\n",
    "model.FlowBalanceConstraint = pyo.Constraint(model.NODES, rule=flow_balance_constraint, name=\"Flow balance constrain\")"
   ],
   "id": "aca8e6b5d63c5f96",
   "outputs": [],
   "execution_count": null
  },
  {
   "metadata": {},
   "cell_type": "markdown",
   "source": "## Solving the model",
   "id": "b8bc8c88087daf77"
  },
  {
   "metadata": {},
   "cell_type": "code",
   "source": [
    "opt = pyo.SolverFactory('cbc')\n",
    "opt.solve(model, tee=True)"
   ],
   "id": "6d73afc3ad1ec8e8",
   "outputs": [],
   "execution_count": null
  },
  {
   "metadata": {},
   "cell_type": "code",
   "source": "model.x.pprint()",
   "id": "f88c7c0611694b3b",
   "outputs": [],
   "execution_count": null
  }
 ],
 "metadata": {
  "kernelspec": {
   "display_name": "Python 3",
   "language": "python",
   "name": "python3"
  },
  "language_info": {
   "codemirror_mode": {
    "name": "ipython",
    "version": 2
   },
   "file_extension": ".py",
   "mimetype": "text/x-python",
   "name": "python",
   "nbconvert_exporter": "python",
   "pygments_lexer": "ipython2",
   "version": "2.7.6"
  }
 },
 "nbformat": 4,
 "nbformat_minor": 5
}
