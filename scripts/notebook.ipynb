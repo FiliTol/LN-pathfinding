{
 "cells": [
  {
   "cell_type": "code",
   "id": "initial_id",
   "metadata": {
    "collapsed": true,
    "ExecuteTime": {
     "end_time": "2024-06-24T14:41:23.962994Z",
     "start_time": "2024-06-24T14:41:23.954643Z"
    }
   },
   "source": [
    "import pandas as pd\n",
    "import re\n",
    "import json\n",
    "from data_definition import Node, Channel\n",
    "from data_definition import channel_cleaning, channel_features, node_cleaning, json_to_pd"
   ],
   "outputs": [],
   "execution_count": 6
  },
  {
   "metadata": {
    "ExecuteTime": {
     "end_time": "2024-06-24T14:42:28.681941Z",
     "start_time": "2024-06-24T14:42:25.873514Z"
    }
   },
   "cell_type": "code",
   "source": [
    "nodes = json_to_pd(data=\"../data/network_graph_2024_06_12.json\", obj=\"nodes\")\n",
    "channels = json_to_pd(data=\"../data/network_graph_2024_06_12.json\", obj=\"channels\")"
   ],
   "id": "5acf62c468efa123",
   "outputs": [],
   "execution_count": 15
  },
  {
   "metadata": {
    "ExecuteTime": {
     "end_time": "2024-06-24T14:42:30.136329Z",
     "start_time": "2024-06-24T14:42:29.877300Z"
    }
   },
   "cell_type": "code",
   "source": [
    "channels = channel_cleaning(channels)\n",
    "channels = channel_features(channels)\n",
    "nodes = node_cleaning(nodes)"
   ],
   "id": "89d3abcdd8707905",
   "outputs": [],
   "execution_count": 16
  }
 ],
 "metadata": {
  "kernelspec": {
   "display_name": "Python 3",
   "language": "python",
   "name": "python3"
  },
  "language_info": {
   "codemirror_mode": {
    "name": "ipython",
    "version": 2
   },
   "file_extension": ".py",
   "mimetype": "text/x-python",
   "name": "python",
   "nbconvert_exporter": "python",
   "pygments_lexer": "ipython2",
   "version": "2.7.6"
  }
 },
 "nbformat": 4,
 "nbformat_minor": 5
}
