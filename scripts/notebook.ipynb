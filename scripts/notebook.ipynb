{
 "cells": [
  {
   "metadata": {},
   "cell_type": "code",
   "source": [
    "from data_definition import load_and_transform, create_demand\n",
    "import pyomo.environ as pyo"
   ],
   "id": "initial_id",
   "outputs": [],
   "execution_count": null
  },
  {
   "metadata": {},
   "cell_type": "markdown",
   "source": "# Data import",
   "id": "a4b2795dc42b8269"
  },
  {
   "metadata": {},
   "cell_type": "code",
   "source": [
    "nodes, channels = load_and_transform(\"../data/network_graph_2024_06_12.json\")\n",
    "nodes = create_demand(nodes)"
   ],
   "id": "a8a45f04dec94815",
   "outputs": [],
   "execution_count": null
  },
  {
   "metadata": {},
   "cell_type": "markdown",
   "source": "## Modeling",
   "id": "7df6d25eef847cf7"
  },
  {
   "metadata": {},
   "cell_type": "code",
   "source": [
    "model = pyo.ConcreteModel(name=\"Min cost flow problem\")\n",
    "model.NODES = pyo.Set(initialize=nodes.index)\n",
    "model.CHANNELS = pyo.Set(initialize=channels.index) #within=model.NODES*model.NODES)"
   ],
   "id": "52bc701c57020ae",
   "outputs": [],
   "execution_count": null
  },
  {
   "metadata": {},
   "cell_type": "code",
   "source": [
    "model.x = pyo.Var(model.CHANNELS, domain=pyo.Binary)\n",
    "model.a = pyo.Var(model.CHANNELS, domain=pyo.NonNegativeReals)"
   ],
   "id": "db6bf92632e748f7",
   "outputs": [],
   "execution_count": null
  },
  {
   "metadata": {},
   "cell_type": "code",
   "source": [
    "def objective_function(model: pyo.ConcreteModel):\n",
    "    return sum(channels.loc[k, \"base_fee\"] * model.x[k] for k in model.CHANNELS) + sum(channels.loc[i, \"rate_fee\"] * model.a[i] for i in model.CHANNELS)\n",
    "\n",
    "model.totalCost = pyo.Objective(expr=objective_function(model), sense=pyo.minimize)"
   ],
   "id": "f45ec00f2444e9d1",
   "outputs": [],
   "execution_count": null
  },
  {
   "metadata": {},
   "cell_type": "markdown",
   "source": [
    "### Constraints\n",
    "\n",
    "#### Capacity constraint\n",
    "\n",
    "$$amount_{i,j} \\le capacity_{i,j} \\times x_{i,j} \\text{ } \\forall (i,j) \\in E$$\n"
   ],
   "id": "861b0daa9b9cba75"
  },
  {
   "metadata": {},
   "cell_type": "code",
   "source": [
    "def capacity_constraint(model: pyo.ConcreteModel, a):\n",
    "    return model.a[a] <= channels.loc[a, \"capacity\"] * model.x[a]\n",
    "\n",
    "model.CapacityConstraint = pyo.Constraint(model.CHANNELS, rule=capacity_constraint, name=\"Capacity constraint\")"
   ],
   "id": "2f06048e92657162",
   "outputs": [],
   "execution_count": null
  },
  {
   "metadata": {},
   "cell_type": "markdown",
   "source": [
    "#### Flow balance constraint\n",
    "\n",
    "$$\\sum_{(s,i) \\in E} amount_{si} - \\sum_{(i,t) \\in E} amount_{it} = b_i \\text{ } \\forall i \\in V$$\n"
   ],
   "id": "7adcde34bbdb4878"
  },
  {
   "metadata": {},
   "cell_type": "code",
   "source": [
    "def compute_outgoing(n: str) -> list:\n",
    "    \"\"\"\n",
    "    Compute outgoing channels list for the node n\n",
    "    :param n: node identifier\n",
    "    :return: list of outgoing channels for node n\n",
    "    \"\"\"\n",
    "    return [c for c in model.CHANNELS if channels.loc[c, \"node1_pub\"] == n]\n",
    "\n",
    "\n",
    "def compute_incoming(n: str) -> list:\n",
    "    \"\"\"\n",
    "    Compute incoming channels list for the node n\n",
    "    :param n: node identifier\n",
    "    :return: list of incoming channels for node n\n",
    "    \"\"\"\n",
    "    return [c for c in model.CHANNELS if channels.loc[c, \"node2_pub\"] == n]\n",
    "\n",
    "\n",
    "def flow_balance_constraint(model: pyo.ConcreteModel, n: str):\n",
    "    print(\"Start processing\")\n",
    "    return sum(model.a[a] for a in compute_incoming(f\"{n}\")) - sum(model.a[a] for a in compute_outgoing(f\"{n}\")) == nodes.loc[n, \"demand\"]\n",
    "\n",
    "\n",
    "model.FlowBalanceConstraint = pyo.Constraint(model.NODES, rule=flow_balance_constraint, name=\"Flow balance constrain\")"
   ],
   "id": "aca8e6b5d63c5f96",
   "outputs": [],
   "execution_count": null
  },
  {
   "metadata": {},
   "cell_type": "markdown",
   "source": "## Solving the model",
   "id": "b8bc8c88087daf77"
  },
  {
   "metadata": {},
   "cell_type": "code",
   "source": [
    "opt = pyo.SolverFactory('cbc')\n",
    "opt.solve(model, tee=True)"
   ],
   "id": "6d73afc3ad1ec8e8",
   "outputs": [],
   "execution_count": null
  },
  {
   "metadata": {},
   "cell_type": "code",
   "source": "model.x.pprint()",
   "id": "f88c7c0611694b3b",
   "outputs": [],
   "execution_count": null
  }
 ],
 "metadata": {
  "kernelspec": {
   "display_name": "Python 3",
   "language": "python",
   "name": "python3"
  },
  "language_info": {
   "codemirror_mode": {
    "name": "ipython",
    "version": 2
   },
   "file_extension": ".py",
   "mimetype": "text/x-python",
   "name": "python",
   "nbconvert_exporter": "python",
   "pygments_lexer": "ipython2",
   "version": "2.7.6"
  }
 },
 "nbformat": 4,
 "nbformat_minor": 5
}
