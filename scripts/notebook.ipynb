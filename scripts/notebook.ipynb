{
 "cells": [
  {
   "metadata": {
    "ExecuteTime": {
     "end_time": "2024-06-26T19:28:36.177452Z",
     "start_time": "2024-06-26T19:28:35.280518Z"
    }
   },
   "cell_type": "code",
   "source": [
    "from data_definition import load_and_transform\n",
    "import pyomo.environ as pyo"
   ],
   "id": "initial_id",
   "outputs": [],
   "execution_count": 1
  },
  {
   "metadata": {},
   "cell_type": "markdown",
   "source": "## Data import",
   "id": "a4b2795dc42b8269"
  },
  {
   "metadata": {
    "ExecuteTime": {
     "end_time": "2024-06-26T19:28:37.774449Z",
     "start_time": "2024-06-26T19:28:36.180297Z"
    }
   },
   "cell_type": "code",
   "source": "nodes, channels = load_and_transform(\"../data/network_graph_2024_06_12.json\")",
   "id": "a8a45f04dec94815",
   "outputs": [],
   "execution_count": 2
  },
  {
   "metadata": {},
   "cell_type": "markdown",
   "source": "## Modeling",
   "id": "7df6d25eef847cf7"
  },
  {
   "metadata": {
    "ExecuteTime": {
     "end_time": "2024-06-26T19:28:42.269494Z",
     "start_time": "2024-06-26T19:28:37.777457Z"
    }
   },
   "cell_type": "code",
   "source": [
    "model = pyo.ConcreteModel()\n",
    "\n",
    "model.NODES = pyo.Set(initialize=nodes.index)\n",
    "model.add_component(\"addresses\", pyo.Param(model.NODES, initialize=nodes[\"addresses\"].to_dict(), within=pyo.Reals))\n",
    "\n",
    "# The following code returns some warnings because some peers have multiple channels between each other,\n",
    "# but the CHANNELS set construction only accepts unique pairs\n",
    "# TODO: build channels set with directed channels and possibly multiple channels between peers\n",
    "model.CHANNELS = pyo.Set(initialize=[(d['node1_pub'], d['node2_pub']) for i, d in channels.iterrows()])"
   ],
   "id": "52bc701c57020ae",
   "outputs": [],
   "execution_count": 3
  },
  {
   "metadata": {
    "ExecuteTime": {
     "end_time": "2024-06-26T19:28:43.426006Z",
     "start_time": "2024-06-26T19:28:42.273089Z"
    }
   },
   "cell_type": "code",
   "source": "model.add_component(\"capacity\", pyo.Param(model.CHANNELS, initialize=channels.capacity.to_dict(), within=pyo.Reals))",
   "id": "463a21f0f7b64adf",
   "outputs": [
    {
     "name": "stdout",
     "output_type": "stream",
     "text": [
      "ERROR: Rule failed for Param 'capacity' with index 4650: KeyError: \"Index\n",
      "'4650' is not valid for indexed component 'capacity'\"\n",
      "ERROR: Constructing component 'capacity' from data=None failed:\n",
      "        KeyError: \"Index '4650' is not valid for indexed component 'capacity'\"\n"
     ]
    },
    {
     "ename": "KeyError",
     "evalue": "\"Index '4650' is not valid for indexed component 'capacity'\"",
     "output_type": "error",
     "traceback": [
      "\u001B[0;31m---------------------------------------------------------------------------\u001B[0m",
      "\u001B[0;31mKeyError\u001B[0m                                  Traceback (most recent call last)",
      "Cell \u001B[0;32mIn[4], line 1\u001B[0m\n\u001B[0;32m----> 1\u001B[0m \u001B[43mmodel\u001B[49m\u001B[38;5;241;43m.\u001B[39;49m\u001B[43madd_component\u001B[49m\u001B[43m(\u001B[49m\u001B[38;5;124;43m\"\u001B[39;49m\u001B[38;5;124;43mcapacity\u001B[39;49m\u001B[38;5;124;43m\"\u001B[39;49m\u001B[43m,\u001B[49m\u001B[43m \u001B[49m\u001B[43mpyo\u001B[49m\u001B[38;5;241;43m.\u001B[39;49m\u001B[43mParam\u001B[49m\u001B[43m(\u001B[49m\u001B[43mmodel\u001B[49m\u001B[38;5;241;43m.\u001B[39;49m\u001B[43mCHANNELS\u001B[49m\u001B[43m,\u001B[49m\u001B[43m \u001B[49m\u001B[43minitialize\u001B[49m\u001B[38;5;241;43m=\u001B[39;49m\u001B[43mchannels\u001B[49m\u001B[38;5;241;43m.\u001B[39;49m\u001B[43mcapacity\u001B[49m\u001B[38;5;241;43m.\u001B[39;49m\u001B[43mto_dict\u001B[49m\u001B[43m(\u001B[49m\u001B[43m)\u001B[49m\u001B[43m,\u001B[49m\u001B[43m \u001B[49m\u001B[43mwithin\u001B[49m\u001B[38;5;241;43m=\u001B[39;49m\u001B[43mpyo\u001B[49m\u001B[38;5;241;43m.\u001B[39;49m\u001B[43mReals\u001B[49m\u001B[43m)\u001B[49m\u001B[43m)\u001B[49m\n",
      "File \u001B[0;32m~/repositories/LN-pathfinding/venv/lib/python3.10/site-packages/pyomo/core/base/block.py:1116\u001B[0m, in \u001B[0;36mBlockData.add_component\u001B[0;34m(self, name, val)\u001B[0m\n\u001B[1;32m   1108\u001B[0m     logger\u001B[38;5;241m.\u001B[39mdebug(\n\u001B[1;32m   1109\u001B[0m         \u001B[38;5;124m\"\u001B[39m\u001B[38;5;124mConstructing \u001B[39m\u001B[38;5;132;01m%s\u001B[39;00m\u001B[38;5;124m \u001B[39m\u001B[38;5;124m'\u001B[39m\u001B[38;5;132;01m%s\u001B[39;00m\u001B[38;5;124m'\u001B[39m\u001B[38;5;124m on \u001B[39m\u001B[38;5;132;01m%s\u001B[39;00m\u001B[38;5;124m from data=\u001B[39m\u001B[38;5;132;01m%s\u001B[39;00m\u001B[38;5;124m\"\u001B[39m,\n\u001B[1;32m   1110\u001B[0m         val\u001B[38;5;241m.\u001B[39m\u001B[38;5;18m__class__\u001B[39m\u001B[38;5;241m.\u001B[39m\u001B[38;5;18m__name__\u001B[39m,\n\u001B[0;32m   (...)\u001B[0m\n\u001B[1;32m   1113\u001B[0m         \u001B[38;5;28mstr\u001B[39m(data),\n\u001B[1;32m   1114\u001B[0m     )\n\u001B[1;32m   1115\u001B[0m \u001B[38;5;28;01mtry\u001B[39;00m:\n\u001B[0;32m-> 1116\u001B[0m     \u001B[43mval\u001B[49m\u001B[38;5;241;43m.\u001B[39;49m\u001B[43mconstruct\u001B[49m\u001B[43m(\u001B[49m\u001B[43mdata\u001B[49m\u001B[43m)\u001B[49m\n\u001B[1;32m   1117\u001B[0m \u001B[38;5;28;01mexcept\u001B[39;00m:\n\u001B[1;32m   1118\u001B[0m     err \u001B[38;5;241m=\u001B[39m sys\u001B[38;5;241m.\u001B[39mexc_info()[\u001B[38;5;241m1\u001B[39m]\n",
      "File \u001B[0;32m~/repositories/LN-pathfinding/venv/lib/python3.10/site-packages/pyomo/core/base/param.py:843\u001B[0m, in \u001B[0;36mParam.construct\u001B[0;34m(self, data)\u001B[0m\n\u001B[1;32m    839\u001B[0m \u001B[38;5;28mself\u001B[39m\u001B[38;5;241m.\u001B[39m_constructed \u001B[38;5;241m=\u001B[39m \u001B[38;5;28;01mNone\u001B[39;00m\n\u001B[1;32m    840\u001B[0m \u001B[38;5;66;03m#\u001B[39;00m\n\u001B[1;32m    841\u001B[0m \u001B[38;5;66;03m# Step #1: initialize data from rule value\u001B[39;00m\n\u001B[1;32m    842\u001B[0m \u001B[38;5;66;03m#\u001B[39;00m\n\u001B[0;32m--> 843\u001B[0m \u001B[38;5;28;43mself\u001B[39;49m\u001B[38;5;241;43m.\u001B[39;49m\u001B[43m_construct_from_rule_using_setitem\u001B[49m\u001B[43m(\u001B[49m\u001B[43m)\u001B[49m\n\u001B[1;32m    844\u001B[0m \u001B[38;5;66;03m#\u001B[39;00m\n\u001B[1;32m    845\u001B[0m \u001B[38;5;66;03m# Step #2: allow any user-specified (external) data to override\u001B[39;00m\n\u001B[1;32m    846\u001B[0m \u001B[38;5;66;03m# the initialization\u001B[39;00m\n\u001B[1;32m    847\u001B[0m \u001B[38;5;66;03m#\u001B[39;00m\n\u001B[1;32m    848\u001B[0m \u001B[38;5;28;01mif\u001B[39;00m data \u001B[38;5;129;01mis\u001B[39;00m \u001B[38;5;129;01mnot\u001B[39;00m \u001B[38;5;28;01mNone\u001B[39;00m:\n",
      "File \u001B[0;32m~/repositories/LN-pathfinding/venv/lib/python3.10/site-packages/pyomo/core/base/indexed_component.py:768\u001B[0m, in \u001B[0;36mIndexedComponent._construct_from_rule_using_setitem\u001B[0;34m(self)\u001B[0m\n\u001B[1;32m    765\u001B[0m \u001B[38;5;28;01mif\u001B[39;00m rule\u001B[38;5;241m.\u001B[39mcontains_indices():\n\u001B[1;32m    766\u001B[0m     \u001B[38;5;66;03m# The index is coming in externally; we need to validate it\u001B[39;00m\n\u001B[1;32m    767\u001B[0m     \u001B[38;5;28;01mfor\u001B[39;00m index \u001B[38;5;129;01min\u001B[39;00m rule\u001B[38;5;241m.\u001B[39mindices():\n\u001B[0;32m--> 768\u001B[0m         \u001B[38;5;28;43mself\u001B[39;49m\u001B[43m[\u001B[49m\u001B[43mindex\u001B[49m\u001B[43m]\u001B[49m \u001B[38;5;241m=\u001B[39m rule(block, index)\n\u001B[1;32m    769\u001B[0m \u001B[38;5;28;01melif\u001B[39;00m \u001B[38;5;129;01mnot\u001B[39;00m \u001B[38;5;28mself\u001B[39m\u001B[38;5;241m.\u001B[39mindex_set()\u001B[38;5;241m.\u001B[39misfinite():\n\u001B[1;32m    770\u001B[0m     \u001B[38;5;66;03m# If the index is not finite, then we cannot iterate\u001B[39;00m\n\u001B[1;32m    771\u001B[0m     \u001B[38;5;66;03m# over it.  Since the rule doesn't provide explicit\u001B[39;00m\n\u001B[1;32m    772\u001B[0m     \u001B[38;5;66;03m# indices, then there is nothing we can do (the\u001B[39;00m\n\u001B[1;32m    773\u001B[0m     \u001B[38;5;66;03m# assumption is that the user will trigger specific\u001B[39;00m\n\u001B[1;32m    774\u001B[0m     \u001B[38;5;66;03m# indices to be created at a later time).\u001B[39;00m\n\u001B[1;32m    775\u001B[0m     \u001B[38;5;28;01mpass\u001B[39;00m\n",
      "File \u001B[0;32m~/repositories/LN-pathfinding/venv/lib/python3.10/site-packages/pyomo/core/base/indexed_component.py:688\u001B[0m, in \u001B[0;36mIndexedComponent.__setitem__\u001B[0;34m(self, index, val)\u001B[0m\n\u001B[1;32m    683\u001B[0m \u001B[38;5;28;01mif\u001B[39;00m obj \u001B[38;5;129;01mis\u001B[39;00m _NotFound:\n\u001B[1;32m    684\u001B[0m     \u001B[38;5;66;03m# If we didn't find the index in the data, then we need to\u001B[39;00m\n\u001B[1;32m    685\u001B[0m     \u001B[38;5;66;03m# validate it against the underlying set (as long as\u001B[39;00m\n\u001B[1;32m    686\u001B[0m     \u001B[38;5;66;03m# _processUnhashableIndex didn't return a slicer)\u001B[39;00m\n\u001B[1;32m    687\u001B[0m     \u001B[38;5;28;01mif\u001B[39;00m index\u001B[38;5;241m.\u001B[39m\u001B[38;5;18m__class__\u001B[39m \u001B[38;5;129;01mis\u001B[39;00m \u001B[38;5;129;01mnot\u001B[39;00m IndexedComponent_slice:\n\u001B[0;32m--> 688\u001B[0m         index \u001B[38;5;241m=\u001B[39m \u001B[38;5;28;43mself\u001B[39;49m\u001B[38;5;241;43m.\u001B[39;49m\u001B[43m_validate_index\u001B[49m\u001B[43m(\u001B[49m\u001B[43mindex\u001B[49m\u001B[43m)\u001B[49m\n\u001B[1;32m    689\u001B[0m \u001B[38;5;28;01melse\u001B[39;00m:\n\u001B[1;32m    690\u001B[0m     \u001B[38;5;28;01mreturn\u001B[39;00m \u001B[38;5;28mself\u001B[39m\u001B[38;5;241m.\u001B[39m_setitem_impl(index, obj, val)\n",
      "File \u001B[0;32m~/repositories/LN-pathfinding/venv/lib/python3.10/site-packages/pyomo/core/base/indexed_component.py:866\u001B[0m, in \u001B[0;36mIndexedComponent._validate_index\u001B[0;34m(self, idx)\u001B[0m\n\u001B[1;32m    859\u001B[0m     \u001B[38;5;28;01mraise\u001B[39;00m \u001B[38;5;167;01mKeyError\u001B[39;00m(\n\u001B[1;32m    860\u001B[0m         \u001B[38;5;124m\"\u001B[39m\u001B[38;5;124mCannot treat the scalar component \u001B[39m\u001B[38;5;124m'\u001B[39m\u001B[38;5;132;01m%s\u001B[39;00m\u001B[38;5;124m'\u001B[39m\u001B[38;5;124m \u001B[39m\u001B[38;5;124m\"\u001B[39m\n\u001B[1;32m    861\u001B[0m         \u001B[38;5;124m\"\u001B[39m\u001B[38;5;124mas an indexed component\u001B[39m\u001B[38;5;124m\"\u001B[39m \u001B[38;5;241m%\u001B[39m (\u001B[38;5;28mself\u001B[39m\u001B[38;5;241m.\u001B[39mname,)\n\u001B[1;32m    862\u001B[0m     )\n\u001B[1;32m    863\u001B[0m \u001B[38;5;66;03m#\u001B[39;00m\n\u001B[1;32m    864\u001B[0m \u001B[38;5;66;03m# Raise an exception\u001B[39;00m\n\u001B[1;32m    865\u001B[0m \u001B[38;5;66;03m#\u001B[39;00m\n\u001B[0;32m--> 866\u001B[0m \u001B[38;5;28;01mraise\u001B[39;00m \u001B[38;5;167;01mKeyError\u001B[39;00m(\n\u001B[1;32m    867\u001B[0m     \u001B[38;5;124m\"\u001B[39m\u001B[38;5;124mIndex \u001B[39m\u001B[38;5;124m'\u001B[39m\u001B[38;5;132;01m%s\u001B[39;00m\u001B[38;5;124m'\u001B[39m\u001B[38;5;124m is not valid for indexed component \u001B[39m\u001B[38;5;124m'\u001B[39m\u001B[38;5;132;01m%s\u001B[39;00m\u001B[38;5;124m'\u001B[39m\u001B[38;5;124m\"\u001B[39m\n\u001B[1;32m    868\u001B[0m     \u001B[38;5;241m%\u001B[39m (normalized_idx, \u001B[38;5;28mself\u001B[39m\u001B[38;5;241m.\u001B[39mname)\n\u001B[1;32m    869\u001B[0m )\n",
      "\u001B[0;31mKeyError\u001B[0m: \"Index '4650' is not valid for indexed component 'capacity'\""
     ]
    }
   ],
   "execution_count": 4
  },
  {
   "metadata": {
    "ExecuteTime": {
     "end_time": "2024-06-26T19:40:03.313900Z",
     "start_time": "2024-06-26T19:40:03.303466Z"
    }
   },
   "cell_type": "code",
   "source": [
    "import re\n",
    "\n",
    "c = 0\n",
    "for i in model.CHANNELS:\n",
    "    if c <1:\n",
    "        print(re.search(r\"(.*)-\", i[0]).group(1))\n",
    "        c += 1\n",
    "    else:\n",
    "        break"
   ],
   "id": "5c0de6b2d7cf3711",
   "outputs": [
    {
     "name": "stdout",
     "output_type": "stream",
     "text": [
      "627185621808578560\n"
     ]
    }
   ],
   "execution_count": 20
  }
 ],
 "metadata": {
  "kernelspec": {
   "display_name": "Python 3",
   "language": "python",
   "name": "python3"
  },
  "language_info": {
   "codemirror_mode": {
    "name": "ipython",
    "version": 2
   },
   "file_extension": ".py",
   "mimetype": "text/x-python",
   "name": "python",
   "nbconvert_exporter": "python",
   "pygments_lexer": "ipython2",
   "version": "2.7.6"
  }
 },
 "nbformat": 4,
 "nbformat_minor": 5
}
