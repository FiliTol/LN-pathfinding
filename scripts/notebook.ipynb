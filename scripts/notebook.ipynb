{
 "cells": [
  {
   "metadata": {
    "ExecuteTime": {
     "end_time": "2024-06-26T17:40:12.420997Z",
     "start_time": "2024-06-26T17:40:11.516956Z"
    }
   },
   "cell_type": "code",
   "source": [
    "from data_definition import load_and_transform\n",
    "import pyomo.environ as pyo"
   ],
   "id": "initial_id",
   "outputs": [],
   "execution_count": 1
  },
  {
   "metadata": {},
   "cell_type": "markdown",
   "source": "## Data import",
   "id": "a4b2795dc42b8269"
  },
  {
   "metadata": {
    "ExecuteTime": {
     "end_time": "2024-06-26T17:40:17.655966Z",
     "start_time": "2024-06-26T17:40:15.952963Z"
    }
   },
   "cell_type": "code",
   "source": "nodes, channels = load_and_transform(\"../data/network_graph_2024_06_12.json\")",
   "id": "a8a45f04dec94815",
   "outputs": [],
   "execution_count": 2
  },
  {
   "metadata": {},
   "cell_type": "markdown",
   "source": "## Modeling",
   "id": "7df6d25eef847cf7"
  },
  {
   "metadata": {
    "ExecuteTime": {
     "end_time": "2024-06-26T17:40:26.524952Z",
     "start_time": "2024-06-26T17:40:21.957570Z"
    }
   },
   "cell_type": "code",
   "source": [
    "model = pyo.ConcreteModel()\n",
    "\n",
    "model.NODES = pyo.Set(initialize=nodes.index)\n",
    "model.add_component(\"addresses\", pyo.Param(model.NODES, initialize=nodes[\"addresses\"].to_dict(), within=pyo.Reals))\n",
    "\n",
    "# The following code returns some warnings because some peers have multiple channels between each other,\n",
    "# but the CHANNELS set construction only accepts unique pairs\n",
    "# TODO: build channels set with directed channels and possibly multiple channels between peers\n",
    "model.CHANNELS = pyo.Set(initialize=[(d['node1_pub'], d['node2_pub']) for i, d in channels.iterrows()])"
   ],
   "id": "52bc701c57020ae",
   "outputs": [],
   "execution_count": 3
  }
 ],
 "metadata": {
  "kernelspec": {
   "display_name": "Python 3",
   "language": "python",
   "name": "python3"
  },
  "language_info": {
   "codemirror_mode": {
    "name": "ipython",
    "version": 2
   },
   "file_extension": ".py",
   "mimetype": "text/x-python",
   "name": "python",
   "nbconvert_exporter": "python",
   "pygments_lexer": "ipython2",
   "version": "2.7.6"
  }
 },
 "nbformat": 4,
 "nbformat_minor": 5
}
