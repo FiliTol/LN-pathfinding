{
 "cells": [
  {
   "metadata": {},
   "cell_type": "markdown",
   "source": "## Import and cleaning",
   "id": "c599f7bab2a99ae6"
  },
  {
   "cell_type": "code",
   "id": "initial_id",
   "metadata": {
    "collapsed": true,
    "ExecuteTime": {
     "end_time": "2024-06-19T16:40:58.043249Z",
     "start_time": "2024-06-19T16:40:56.435458Z"
    }
   },
   "source": [
    "import pandas as pd\n",
    "import json\n",
    "import pyomo.environ as pyo\n",
    "\n",
    "with open(\"../data/network_graph_2024_06_12.json\") as f:\n",
    "    d = json.load(f)\n",
    "\n",
    "nodes = d[\"nodes\"]\n",
    "channels = d[\"edges\"]\n",
    "\n",
    "nodes = pd.DataFrame(nodes)\n",
    "channels = pd.DataFrame(channels)\n",
    "\n",
    "## Change data types\n",
    "channels[\"capacity\"] = channels[\"capacity\"].astype(int)\n",
    "channels[\"last_update\"] = pd.to_datetime(channels[\"last_update\"], unit = 's')\n",
    "\n",
    "## Filter out channels that are unused (no update time)\n",
    "channels = channels[channels[\"last_update\"] > \"1970-01-01\"]\n",
    "\n",
    "## Filter out channels with nodes with no policy registered for this describegraph query (aka not reachable now)\n",
    "channels = channels[pd.notnull(channels[\"node1_policy\"]) & pd.notnull(channels[\"node2_policy\"])]\n",
    "\n",
    "channels = channels.filter(items=['channel_id',\n",
    "                       'node1_pub',\n",
    "                       'node2_pub',\n",
    "                       'capacity',\n",
    "                       'node1_policy',\n",
    "                       'node2_policy'\n",
    "                       ])\n",
    "\n"
   ],
   "outputs": [],
   "execution_count": 53
  },
  {
   "metadata": {},
   "cell_type": "markdown",
   "source": [
    "From these data we only need information that are strictly related to path finding for channels, thus we only need:\n",
    "\n",
    "- channel peers\n",
    "- channel id\n",
    "- capacity\n",
    "- nodes policy:\n",
    "    - fee base msat\n",
    "    - fee rate milli msat"
   ],
   "id": "a4cf27d756cb37c3"
  },
  {
   "metadata": {
    "ExecuteTime": {
     "end_time": "2024-06-19T16:40:58.055139Z",
     "start_time": "2024-06-19T16:40:58.045727Z"
    }
   },
   "cell_type": "code",
   "source": "channels.iloc[0]",
   "id": "a9b75aa208d9da9c",
   "outputs": [
    {
     "data": {
      "text/plain": [
       "channel_id                                     627185621808578560\n",
       "node1_pub       027d7f94667974b10d3e8330de403111229669273dc902...\n",
       "node2_pub       03abf6f44c355dec0d5aa155bdbdd6e0c8fefe318eff40...\n",
       "capacity                                                  3000000\n",
       "node1_policy    {'time_lock_delta': 144, 'min_htlc': '1000', '...\n",
       "node2_policy    {'time_lock_delta': 30, 'min_htlc': '1000', 'f...\n",
       "Name: 4650, dtype: object"
      ]
     },
     "execution_count": 54,
     "metadata": {},
     "output_type": "execute_result"
    }
   ],
   "execution_count": 54
  },
  {
   "metadata": {
    "ExecuteTime": {
     "end_time": "2024-06-19T16:40:58.116986Z",
     "start_time": "2024-06-19T16:40:58.057304Z"
    }
   },
   "cell_type": "code",
   "source": [
    "channels['node1_fee_base_msat'] = channels['node1_policy'].apply(lambda x: x['fee_base_msat'])\n",
    "channels['node2_fee_base_msat'] = channels['node2_policy'].apply(lambda x: x['fee_base_msat'])\n",
    "\n",
    "channels['node1_fee_rate_milli_msat'] = channels['node1_policy'].apply(lambda x: x['fee_rate_milli_msat'])\n",
    "channels['node2_fee_rate_milli_msat'] = channels['node2_policy'].apply(lambda x: x['fee_rate_milli_msat'])\n",
    "\n",
    "channels = channels.filter(items=['channel_id',\n",
    "                                  'node1_pub',\n",
    "                                  'node2_pub',\n",
    "                                  'capacity',\n",
    "                                  'node1_fee_base_msat',\n",
    "                                  'node1_fee_rate_milli_msat',\n",
    "                                  'node2_fee_base_msat',\n",
    "                                  'node2_fee_rate_milli_msat'\n",
    "                                  ])"
   ],
   "id": "97ad2a83e0ed357e",
   "outputs": [],
   "execution_count": 55
  },
  {
   "metadata": {
    "ExecuteTime": {
     "end_time": "2024-06-19T16:40:58.139031Z",
     "start_time": "2024-06-19T16:40:58.121064Z"
    }
   },
   "cell_type": "code",
   "source": "channels[0:5]",
   "id": "d1c9fb83ba0ebb8e",
   "outputs": [
    {
     "data": {
      "text/plain": [
       "              channel_id                                          node1_pub  \\\n",
       "4650  627185621808578560  027d7f94667974b10d3e8330de403111229669273dc902...   \n",
       "5447  674672429454655488  027d7f94667974b10d3e8330de403111229669273dc902...   \n",
       "5949  700826512665280513  03a858dea8b0ece46ac5543dd89611fe8e17706bbc4727...   \n",
       "6081  713331258365837313  03864ef025fde8fb587d989186ce6a4a186895ee44a926...   \n",
       "6140  717789778064113665  030e3c5473d6fd21844958bf4c75f9ebbd751f7f3f9302...   \n",
       "\n",
       "                                              node2_pub  capacity  \\\n",
       "4650  03abf6f44c355dec0d5aa155bdbdd6e0c8fefe318eff40...   3000000   \n",
       "5447  02ca4c46faa50b2d961f4ad2e9d00c90826077b6a282b7...    500000   \n",
       "5949  03abf6f44c355dec0d5aa155bdbdd6e0c8fefe318eff40...     55000   \n",
       "6081  03a6680e79e30f050d4f32f1fb9d046cc6efb5ed4cc99e...   1100000   \n",
       "6140  03a6680e79e30f050d4f32f1fb9d046cc6efb5ed4cc99e...    500000   \n",
       "\n",
       "     node1_fee_base_msat node1_fee_rate_milli_msat node2_fee_base_msat  \\\n",
       "4650                 250                       100                1000   \n",
       "5447                 400                      1000                 999   \n",
       "5949                   1                         1                1000   \n",
       "6081                1000                       499                   0   \n",
       "6140                1000                         1               30000   \n",
       "\n",
       "     node2_fee_rate_milli_msat  \n",
       "4650                      1700  \n",
       "5447                       999  \n",
       "5949                      1700  \n",
       "6081                    100000  \n",
       "6140                       100  "
      ],
      "text/html": [
       "<div>\n",
       "<style scoped>\n",
       "    .dataframe tbody tr th:only-of-type {\n",
       "        vertical-align: middle;\n",
       "    }\n",
       "\n",
       "    .dataframe tbody tr th {\n",
       "        vertical-align: top;\n",
       "    }\n",
       "\n",
       "    .dataframe thead th {\n",
       "        text-align: right;\n",
       "    }\n",
       "</style>\n",
       "<table border=\"1\" class=\"dataframe\">\n",
       "  <thead>\n",
       "    <tr style=\"text-align: right;\">\n",
       "      <th></th>\n",
       "      <th>channel_id</th>\n",
       "      <th>node1_pub</th>\n",
       "      <th>node2_pub</th>\n",
       "      <th>capacity</th>\n",
       "      <th>node1_fee_base_msat</th>\n",
       "      <th>node1_fee_rate_milli_msat</th>\n",
       "      <th>node2_fee_base_msat</th>\n",
       "      <th>node2_fee_rate_milli_msat</th>\n",
       "    </tr>\n",
       "  </thead>\n",
       "  <tbody>\n",
       "    <tr>\n",
       "      <th>4650</th>\n",
       "      <td>627185621808578560</td>\n",
       "      <td>027d7f94667974b10d3e8330de403111229669273dc902...</td>\n",
       "      <td>03abf6f44c355dec0d5aa155bdbdd6e0c8fefe318eff40...</td>\n",
       "      <td>3000000</td>\n",
       "      <td>250</td>\n",
       "      <td>100</td>\n",
       "      <td>1000</td>\n",
       "      <td>1700</td>\n",
       "    </tr>\n",
       "    <tr>\n",
       "      <th>5447</th>\n",
       "      <td>674672429454655488</td>\n",
       "      <td>027d7f94667974b10d3e8330de403111229669273dc902...</td>\n",
       "      <td>02ca4c46faa50b2d961f4ad2e9d00c90826077b6a282b7...</td>\n",
       "      <td>500000</td>\n",
       "      <td>400</td>\n",
       "      <td>1000</td>\n",
       "      <td>999</td>\n",
       "      <td>999</td>\n",
       "    </tr>\n",
       "    <tr>\n",
       "      <th>5949</th>\n",
       "      <td>700826512665280513</td>\n",
       "      <td>03a858dea8b0ece46ac5543dd89611fe8e17706bbc4727...</td>\n",
       "      <td>03abf6f44c355dec0d5aa155bdbdd6e0c8fefe318eff40...</td>\n",
       "      <td>55000</td>\n",
       "      <td>1</td>\n",
       "      <td>1</td>\n",
       "      <td>1000</td>\n",
       "      <td>1700</td>\n",
       "    </tr>\n",
       "    <tr>\n",
       "      <th>6081</th>\n",
       "      <td>713331258365837313</td>\n",
       "      <td>03864ef025fde8fb587d989186ce6a4a186895ee44a926...</td>\n",
       "      <td>03a6680e79e30f050d4f32f1fb9d046cc6efb5ed4cc99e...</td>\n",
       "      <td>1100000</td>\n",
       "      <td>1000</td>\n",
       "      <td>499</td>\n",
       "      <td>0</td>\n",
       "      <td>100000</td>\n",
       "    </tr>\n",
       "    <tr>\n",
       "      <th>6140</th>\n",
       "      <td>717789778064113665</td>\n",
       "      <td>030e3c5473d6fd21844958bf4c75f9ebbd751f7f3f9302...</td>\n",
       "      <td>03a6680e79e30f050d4f32f1fb9d046cc6efb5ed4cc99e...</td>\n",
       "      <td>500000</td>\n",
       "      <td>1000</td>\n",
       "      <td>1</td>\n",
       "      <td>30000</td>\n",
       "      <td>100</td>\n",
       "    </tr>\n",
       "  </tbody>\n",
       "</table>\n",
       "</div>"
      ]
     },
     "execution_count": 56,
     "metadata": {},
     "output_type": "execute_result"
    }
   ],
   "execution_count": 56
  }
 ],
 "metadata": {
  "kernelspec": {
   "display_name": "Python 3",
   "language": "python",
   "name": "python3"
  },
  "language_info": {
   "codemirror_mode": {
    "name": "ipython",
    "version": 2
   },
   "file_extension": ".py",
   "mimetype": "text/x-python",
   "name": "python",
   "nbconvert_exporter": "python",
   "pygments_lexer": "ipython2",
   "version": "2.7.6"
  }
 },
 "nbformat": 4,
 "nbformat_minor": 5
}
