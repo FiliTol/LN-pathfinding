{
 "cells": [
  {
   "cell_type": "code",
   "id": "initial_id",
   "metadata": {
    "collapsed": true,
    "ExecuteTime": {
     "end_time": "2024-06-24T14:20:12.251478Z",
     "start_time": "2024-06-24T14:20:11.303159Z"
    }
   },
   "source": [
    "import pandas as pd\n",
    "import re\n",
    "import json\n",
    "from data_definition import channel_cleaning, channel_features, node_cleaning, json_to_pd"
   ],
   "outputs": [],
   "execution_count": 1
  },
  {
   "metadata": {
    "ExecuteTime": {
     "end_time": "2024-06-24T14:20:15.043845Z",
     "start_time": "2024-06-24T14:20:12.254674Z"
    }
   },
   "cell_type": "code",
   "source": [
    "nodes = json_to_pd(data=\"../data/network_graph_2024_06_12.json\", obj=\"nodes\")\n",
    "channels = json_to_pd(data=\"../data/network_graph_2024_06_12.json\", obj=\"channels\")"
   ],
   "id": "5acf62c468efa123",
   "outputs": [],
   "execution_count": 2
  },
  {
   "metadata": {
    "ExecuteTime": {
     "end_time": "2024-06-24T14:20:15.388368Z",
     "start_time": "2024-06-24T14:20:15.046956Z"
    }
   },
   "cell_type": "code",
   "source": [
    "channels = channel_cleaning(channels)\n",
    "channels = channel_features(channels)\n",
    "nodes = node_cleaning(nodes)"
   ],
   "id": "89d3abcdd8707905",
   "outputs": [],
   "execution_count": 3
  }
 ],
 "metadata": {
  "kernelspec": {
   "display_name": "Python 3",
   "language": "python",
   "name": "python3"
  },
  "language_info": {
   "codemirror_mode": {
    "name": "ipython",
    "version": 2
   },
   "file_extension": ".py",
   "mimetype": "text/x-python",
   "name": "python",
   "nbconvert_exporter": "python",
   "pygments_lexer": "ipython2",
   "version": "2.7.6"
  }
 },
 "nbformat": 4,
 "nbformat_minor": 5
}
