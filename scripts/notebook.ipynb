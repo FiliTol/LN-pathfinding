{
 "cells": [
  {
   "metadata": {
    "ExecuteTime": {
     "end_time": "2024-07-07T22:25:24.890044Z",
     "start_time": "2024-07-07T22:25:23.846144Z"
    }
   },
   "cell_type": "code",
   "source": [
    "import pandas as pd\n",
    "from cleaning import create_demand\n",
    "import pyomo.environ as pyo\n",
    "import pyomo"
   ],
   "id": "initial_id",
   "outputs": [],
   "execution_count": 1
  },
  {
   "metadata": {},
   "cell_type": "markdown",
   "source": "# Data import",
   "id": "a4b2795dc42b8269"
  },
  {
   "metadata": {
    "ExecuteTime": {
     "end_time": "2024-07-07T22:25:25.028563Z",
     "start_time": "2024-07-07T22:25:24.892877Z"
    }
   },
   "cell_type": "code",
   "source": [
    "nodes = pd.read_pickle(\"../data/original/nodes.pkl\")\n",
    "channels = pd.read_pickle(\"../data/original/channels.pkl\")"
   ],
   "id": "20748e4222156956",
   "outputs": [],
   "execution_count": 2
  },
  {
   "metadata": {
    "ExecuteTime": {
     "end_time": "2024-07-07T22:25:25.587347Z",
     "start_time": "2024-07-07T22:25:25.031582Z"
    }
   },
   "cell_type": "code",
   "source": [
    "nodes.to_csv(\"../data/original/nodes.csv\")\n",
    "channels.to_csv(\"../data/original/channels.csv\")"
   ],
   "id": "eb53fe80903c0b72",
   "outputs": [],
   "execution_count": 3
  },
  {
   "metadata": {},
   "cell_type": "markdown",
   "source": "## Modeling",
   "id": "7df6d25eef847cf7"
  },
  {
   "metadata": {},
   "cell_type": "markdown",
   "source": [
    "Change the logic of CHANNELS set construction by considering the pair of nodes as the edge identifier.\n",
    "In this way I also have to deal with:\n",
    "- [X] multiedges, aka multiple edges between two nodes. I can not consider those for simplicity\n",
    "- [X] directed relationship. I need to understand if flipping the channels - as done before - can be reasonable. I also need to determine if the flipped pair of nodes is considered a valid index by pyomo."
   ],
   "id": "7beaae236912d3d9"
  },
  {
   "metadata": {
    "ExecuteTime": {
     "end_time": "2024-07-07T22:25:25.683726Z",
     "start_time": "2024-07-07T22:25:25.590231Z"
    }
   },
   "cell_type": "code",
   "source": [
    "## Note that the following are arbitrary policies, that can be changed as needed.\n",
    "## Deal with multi-edges (aka multiple channels between two peers):\n",
    "## - average rate fee\n",
    "## - average base fee,\n",
    "## - average capacity\n",
    "## - keep one of the two channel ids\n",
    "aggregation_dict = {\n",
    "    \"channel_id\": \"first\",\n",
    "    \"rate_fee\": \"mean\",\n",
    "    \"base_fee\": \"mean\",\n",
    "    \"capacity\": \"sum\"\n",
    "}\n",
    "channels.reset_index(inplace=True)\n",
    "channels = channels.groupby([\"node1_pub\", \"node2_pub\"]).agg(aggregation_dict)\n",
    "channels.reset_index(inplace=True)\n",
    "channels.set_index(\"channel_id\", inplace=True)"
   ],
   "id": "9971ca8b199551bd",
   "outputs": [],
   "execution_count": 4
  },
  {
   "metadata": {
    "ExecuteTime": {
     "end_time": "2024-07-07T22:25:26.998800Z",
     "start_time": "2024-07-07T22:25:25.688286Z"
    }
   },
   "cell_type": "code",
   "source": [
    "## To delete from [outgoing] and [incoming] lists the multi-edge\n",
    "for i in nodes.index:\n",
    "    chan = []\n",
    "    for l in nodes.loc[i, \"outgoing_channels\"]:\n",
    "        if l in channels.index:\n",
    "            chan.append(l)\n",
    "    nodes.at[i, \"outgoing_channels\"] = chan\n",
    "\n",
    "for i in nodes.index:\n",
    "    chan = []\n",
    "    for l in nodes.loc[i, \"incoming_channels\"]:\n",
    "        if l in channels.index:\n",
    "            chan.append(l)\n",
    "    nodes.at[i, \"incoming_channels\"] = chan"
   ],
   "id": "ec42416f821aa1df",
   "outputs": [],
   "execution_count": 5
  },
  {
   "metadata": {
    "ExecuteTime": {
     "end_time": "2024-07-07T22:25:28.974985Z",
     "start_time": "2024-07-07T22:25:27.000928Z"
    }
   },
   "cell_type": "code",
   "source": [
    "model = pyo.ConcreteModel(name=\"Min cost flow problem\")\n",
    "model.NODES = pyo.Set(initialize=nodes.index)\n",
    "model.CHANNELS = pyo.Set(initialize=[(channels.loc[i, \"node1_pub\"], channels.loc[i, \"node2_pub\"]) for i in channels.index])"
   ],
   "id": "52bc701c57020ae",
   "outputs": [],
   "execution_count": 6
  },
  {
   "metadata": {
    "ExecuteTime": {
     "end_time": "2024-07-07T22:25:29.273698Z",
     "start_time": "2024-07-07T22:25:28.977418Z"
    }
   },
   "cell_type": "code",
   "source": [
    "model.x = pyo.Var(model.CHANNELS, domain=pyo.Binary)\n",
    "model.a = pyo.Var(model.CHANNELS, domain=pyo.NonNegativeReals)"
   ],
   "id": "db6bf92632e748f7",
   "outputs": [],
   "execution_count": 7
  },
  {
   "metadata": {
    "ExecuteTime": {
     "end_time": "2024-07-07T22:25:29.327973Z",
     "start_time": "2024-07-07T22:25:29.276647Z"
    }
   },
   "cell_type": "code",
   "source": [
    "channels.reset_index(inplace=True)\n",
    "channels.set_index([\"node1_pub\", \"node2_pub\"], inplace=True)\n",
    "channels.sort_index(inplace=True)"
   ],
   "id": "5d69bcd9f4cf6b47",
   "outputs": [],
   "execution_count": 8
  },
  {
   "metadata": {
    "ExecuteTime": {
     "end_time": "2024-07-07T22:25:39.872366Z",
     "start_time": "2024-07-07T22:25:29.331433Z"
    }
   },
   "cell_type": "code",
   "source": [
    "def objective_function(model: pyo.ConcreteModel):\n",
    "    return sum(model.a[i] * channels.loc[i, \"rate_fee\"] for i in model.CHANNELS) + sum(model.x[i] * channels.loc[i, \"base_fee\"] for i in model.CHANNELS)\n",
    "\n",
    "model.totalCost = pyo.Objective(rule=objective_function(model), sense=pyo.minimize)"
   ],
   "id": "f45ec00f2444e9d1",
   "outputs": [],
   "execution_count": 9
  },
  {
   "metadata": {},
   "cell_type": "markdown",
   "source": [
    "### Constraints\n",
    "\n",
    "#### Capacity constraint\n",
    "\n",
    "$$amount_{i,j} \\le capacity_{i,j} \\times x_{i,j} \\text{ } \\forall (i,j) \\in E$$\n"
   ],
   "id": "861b0daa9b9cba75"
  },
  {
   "metadata": {
    "ExecuteTime": {
     "end_time": "2024-07-07T22:25:46.747252Z",
     "start_time": "2024-07-07T22:25:39.875112Z"
    }
   },
   "cell_type": "code",
   "source": [
    "def capacity_constraint(model: pyo.ConcreteModel, a, b):\n",
    "    return model.a[(a, b)] <=  channels.loc[(a, b), \"capacity\"] * model.x[(a, b)]\n",
    "\n",
    "model.CapacityConstraint = pyo.Constraint(model.CHANNELS, rule=capacity_constraint, name=\"Capacity constraint\")"
   ],
   "id": "7d46c6418b15675a",
   "outputs": [],
   "execution_count": 10
  },
  {
   "metadata": {},
   "cell_type": "markdown",
   "source": [
    "#### Flow balance constraint\n",
    "\n",
    "$$\\sum_{(s,i) \\in E} amount_{si} - \\sum_{(i,t) \\in E} amount_{it} = b_i \\text{ } \\forall i \\in V$$\n"
   ],
   "id": "7adcde34bbdb4878"
  },
  {
   "metadata": {
    "ExecuteTime": {
     "end_time": "2024-07-07T22:25:46.762841Z",
     "start_time": "2024-07-07T22:25:46.749846Z"
    }
   },
   "cell_type": "code",
   "source": "nodes = create_demand(nodes, 130000)",
   "id": "aca8e6b5d63c5f96",
   "outputs": [
    {
     "name": "stdout",
     "output_type": "stream",
     "text": [
      "Transaction of 130000 sats from gocharlie-lightning-node-1 to the_holy_cheese_grater.\n"
     ]
    }
   ],
   "execution_count": 11
  },
  {
   "metadata": {
    "ExecuteTime": {
     "end_time": "2024-07-07T22:25:51.281143Z",
     "start_time": "2024-07-07T22:25:46.765627Z"
    }
   },
   "cell_type": "code",
   "source": [
    "channels.reset_index(inplace=True)\n",
    "channels.set_index(\"channel_id\", inplace=True)\n",
    "\n",
    "def flow_balance_constraint(model: pyo.ConcreteModel, n: str):\n",
    "    return sum(model.a[(channels.loc[a, \"node1_pub\"], channels.loc[a, \"node2_pub\"])] for a in nodes.loc[n, 'incoming_channels']) - sum(model.a[(channels.loc[a, \"node1_pub\"], channels.loc[a, \"node2_pub\"])] for a in nodes.loc[n, 'outgoing_channels']) == nodes.loc[n, \"demand\"]\n",
    "\n",
    "model.FlowBalanceConstraint = pyo.Constraint(model.NODES, rule=flow_balance_constraint, name=\"Flow balance constrain\")\n",
    "\n",
    "channels.reset_index(inplace=True)\n",
    "channels.set_index([\"node1_pub\", \"node2_pub\"], inplace=True)\n",
    "channels.sort_index(inplace=True) "
   ],
   "id": "d2b57765c3b53fc5",
   "outputs": [],
   "execution_count": 12
  },
  {
   "metadata": {},
   "cell_type": "markdown",
   "source": "## Solving the model",
   "id": "b8bc8c88087daf77"
  },
  {
   "metadata": {
    "ExecuteTime": {
     "end_time": "2024-07-07T22:30:10.358304Z",
     "start_time": "2024-07-07T22:25:51.283480Z"
    }
   },
   "cell_type": "code",
   "source": [
    "opt = pyo.SolverFactory('cbc')\n",
    "results = opt.solve(model, tee=True)\n",
    "\n",
    "if (results.solver.status == pyo.SolverStatus.ok) and (results.solver.termination_condition == pyo.TerminationCondition.optimal):\n",
    "    print('\\nOptimal solution found')\n",
    "elif results.solver.termination_condition == pyo.TerminationCondition.feasible:\n",
    "    print('\\nFeasible but not proven optimal solution found')\n",
    "elif results.solver.termination_condition == pyo.TerminationCondition.infeasible:\n",
    "    raise Exception(\"The model is infeasible\")\n",
    "else:\n",
    "    print('\\nSolver Status: ',  results.solver.status)\n",
    "    raise Exception(results.solver.status)\n",
    "\n",
    "print('\\nObject function value = ', model.Objective())\n"
   ],
   "id": "f88c7c0611694b3b",
   "outputs": [
    {
     "name": "stdout",
     "output_type": "stream",
     "text": [
      "Welcome to the CBC MILP Solver \n",
      "Version: 2.10.8 \n",
      "Build Date: May  9 2022 \n",
      "\n",
      "command line - /usr/bin/cbc -printingOptions all -import /tmp/tmpasn85wb3.pyomo.lp -stat=1 -solve -solu /tmp/tmpasn85wb3.pyomo.soln (default strategy 1)\n",
      "Option for printingOptions changed from normal to all\n",
      "Presolve 32351 (-20513) rows, 73416 (-20580) columns and 141995 (-45617) elements\n",
      "Statistics for presolved model\n",
      "Original problem has 46998 integers (46998 of which binary)\n",
      "Presolved problem has 28909 integers (28909 of which binary)\n",
      "==== 3511 zero objective 3006 different\n",
      "==== absolute objective values 3006 different\n",
      "==== for integers 0 zero objective 750 different\n",
      "==== for integers absolute objective values 750 different\n",
      "===== end objective counts\n",
      "\n",
      "\n",
      "Problem has 32351 rows, 73416 columns (69905 with objective) and 141995 elements\n",
      "There are 29586 singletons with objective \n",
      "Column breakdown:\n",
      "26660 of type 0.0->inf, 17847 of type 0.0->up, 0 of type lo->inf, \n",
      "0 of type lo->up, 0 of type free, 0 of type fixed, \n",
      "0 of type -inf->0.0, 0 of type -inf->up, 28909 of type 0.0->1.0 \n",
      "Row breakdown:\n",
      "3435 of type E 0.0, 0 of type E 1.0, 0 of type E -1.0, \n",
      "2 of type E other, 0 of type G 0.0, 0 of type G 1.0, \n",
      "0 of type G other, 28908 of type L 0.0, 0 of type L 1.0, \n",
      "1 of type L other, 0 of type Range 0.0->1.0, 5 of type Range other, \n",
      "0 of type Free \n",
      "Continuous objective value is 0.988 - 0.31 seconds\n",
      "Cgl0004I processed model has 28434 rows, 67247 columns (24992 integer (24992 of which binary)) and 134161 elements\n",
      "Cbc0038I Initial state - 1 integers unsatisfied sum - 0.013\n",
      "Cbc0038I Pass   1: (1.27 seconds) suminf.    0.00000 (0) obj. 87.45 iterations 28\n",
      "Cbc0038I Solution found of 87.45\n",
      "Cbc0038I Relaxing continuous gives 2.95\n",
      "Cbc0038I Before mini branch and bound, 24991 integers at bound fixed and 42242 continuous\n",
      "Cbc0038I Full problem 28434 rows 67247 columns, reduced to 0 rows 0 columns\n",
      "Cbc0038I Mini branch and bound improved solution from 2.95 to 2.91 (2.11 seconds)\n",
      "Cbc0038I Round again with cutoff of 2.81129\n",
      "Cbc0038I Pass   2: (2.82 seconds) suminf.    0.00176 (1) obj. 2.81129 iterations 262\n",
      "Cbc0038I Pass   3: (4.34 seconds) suminf.    0.09871 (1) obj. 2.81129 iterations 2579\n",
      "Cbc0038I Pass   4: (4.60 seconds) suminf.    0.08009 (2) obj. 2.81129 iterations 193\n",
      "Cbc0038I Pass   5: (4.74 seconds) suminf.    0.08009 (2) obj. 2.81129 iterations 7\n",
      "Cbc0038I Pass   6: (4.95 seconds) suminf.    0.10629 (1) obj. 2.81129 iterations 123\n",
      "Cbc0038I Pass   7: (6.50 seconds) suminf.    0.01182 (1) obj. 2.81129 iterations 2860\n",
      "Cbc0038I Pass   8: (7.60 seconds) suminf.    0.05591 (2) obj. 2.81129 iterations 1329\n",
      "Cbc0038I Pass   9: (9.67 seconds) suminf.    0.01295 (1) obj. 2.81129 iterations 3154\n",
      "Cbc0038I Pass  10: (10.77 seconds) suminf.    0.01729 (1) obj. 2.81129 iterations 1265\n",
      "Cbc0038I Pass  11: (11.06 seconds) suminf.    0.01591 (2) obj. 2.81129 iterations 206\n",
      "Cbc0038I Pass  12: (13.37 seconds) suminf.    0.01300 (1) obj. 2.81129 iterations 3652\n",
      "Cbc0038I Pass  13: (14.81 seconds) suminf.    0.01329 (1) obj. 2.81129 iterations 1514\n",
      "Cbc0038I Pass  14: (15.15 seconds) suminf.    0.09009 (2) obj. 2.81129 iterations 244\n",
      "Cbc0038I Pass  15: (15.31 seconds) suminf.    0.09009 (2) obj. 2.81129 iterations 3\n",
      "Cbc0038I Pass  16: (15.60 seconds) suminf.    0.10529 (1) obj. 2.81129 iterations 164\n",
      "Cbc0038I Pass  17: (18.17 seconds) suminf.    0.01183 (1) obj. 2.81129 iterations 3977\n",
      "Cbc0038I Pass  18: (19.82 seconds) suminf.    0.12002 (2) obj. 2.81129 iterations 1864\n",
      "Cbc0038I Pass  19: (21.03 seconds) suminf.    0.12008 (2) obj. 2.81129 iterations 1155\n",
      "Cbc0038I Pass  20: (24.96 seconds) suminf.    0.10257 (2) obj. 2.81129 iterations 5018\n",
      "Cbc0038I Pass  21: (26.82 seconds) suminf.    0.01187 (1) obj. 2.81129 iterations 1884\n",
      "Cbc0038I Pass  22: (28.49 seconds) suminf.    0.06757 (2) obj. 2.81129 iterations 1807\n",
      "Cbc0038I Pass  23: (29.71 seconds) suminf.    0.06760 (2) obj. 2.81129 iterations 1226\n",
      "Cbc0038I Pass  24: (32.51 seconds) suminf.    0.10754 (3) obj. 2.81129 iterations 2860\n",
      "Cbc0038I Pass  25: (35.57 seconds) suminf.    0.01181 (3) obj. 2.81129 iterations 3032\n",
      "Cbc0038I Pass  26: (37.64 seconds) suminf.    0.29793 (3) obj. 2.81129 iterations 2139\n",
      "Cbc0038I Pass  27: (38.93 seconds) suminf.    0.29794 (3) obj. 2.81129 iterations 1198\n",
      "Cbc0038I Pass  28: (44.02 seconds) suminf.    0.08455 (1) obj. 2.81129 iterations 5437\n",
      "Cbc0038I Pass  29: (47.45 seconds) suminf.    0.01210 (1) obj. 2.81129 iterations 4484\n",
      "Cbc0038I Pass  30: (49.54 seconds) suminf.    0.31232 (3) obj. 2.81129 iterations 2331\n",
      "Cbc0038I Pass  31: (51.06 seconds) suminf.    0.31235 (3) obj. 2.81129 iterations 1162\n",
      "Cbc0038I No solution found this major pass\n",
      "Cbc0038I Before mini branch and bound, 24216 integers at bound fixed and 33940 continuous\n",
      "Cbc0038I Full problem 28434 rows 67247 columns, reduced to 1042 rows 3817 columns\n",
      "Cbc0038I Mini branch and bound did not improve solution (51.38 seconds)\n",
      "Cbc0038I After 51.38 seconds - Feasibility pump exiting with objective of 2.91 - took 50.23 seconds\n",
      "Cbc0012I Integer solution of 2.91 found by feasibility pump after 0 iterations and 0 nodes (51.42 seconds)\n",
      "Cbc0012I Integer solution of 2.78 found by DiveCoefficient after 0 iterations and 0 nodes (52.30 seconds)\n",
      "Cbc0038I Full problem 28434 rows 67247 columns, reduced to 1440 rows 14780 columns\n",
      "Cbc0031I 6 added rows had average density of 2\n",
      "Cbc0013I At root node, 6 cuts changed objective from 1.923 to 2.0250453 in 7 passes\n",
      "Cbc0014I Cut generator 0 (Probing) - 7 row cuts average 2.0 elements, 1 column cuts (1 active)  in 195.388 seconds - new frequency is 1\n",
      "Cbc0014I Cut generator 1 (Gomory) - 0 row cuts average 0.0 elements, 0 column cuts (0 active)  in 0.065 seconds - new frequency is -100\n",
      "Cbc0014I Cut generator 2 (Knapsack) - 0 row cuts average 0.0 elements, 0 column cuts (0 active)  in 0.301 seconds - new frequency is -100\n",
      "Cbc0014I Cut generator 3 (Clique) - 0 row cuts average 0.0 elements, 0 column cuts (0 active)  in 0.007 seconds - new frequency is -100\n",
      "Cbc0014I Cut generator 4 (MixedIntegerRounding2) - 0 row cuts average 0.0 elements, 0 column cuts (0 active)  in 0.153 seconds - new frequency is -100\n",
      "Cbc0014I Cut generator 5 (FlowCover) - 0 row cuts average 0.0 elements, 0 column cuts (0 active)  in 0.050 seconds - new frequency is -100\n",
      "Cbc0001I Search completed - best objective 2.78, took 124 iterations and 0 nodes (252.41 seconds)\n",
      "Cbc0032I Strong branching done 2 times (8 iterations), fathomed 1 nodes and fixed 0 variables\n",
      "Cbc0035I Maximum depth 0, 0 variables fixed on reduced cost\n",
      "Cuts at root node changed objective from 1.923 to 2.91\n",
      "Probing was tried 7 times and created 8 cuts of which 0 were active after adding rounds of cuts (195.388 seconds)\n",
      "Gomory was tried 7 times and created 0 cuts of which 0 were active after adding rounds of cuts (0.065 seconds)\n",
      "Knapsack was tried 7 times and created 0 cuts of which 0 were active after adding rounds of cuts (0.301 seconds)\n",
      "Clique was tried 7 times and created 0 cuts of which 0 were active after adding rounds of cuts (0.007 seconds)\n",
      "MixedIntegerRounding2 was tried 7 times and created 0 cuts of which 0 were active after adding rounds of cuts (0.153 seconds)\n",
      "FlowCover was tried 7 times and created 0 cuts of which 0 were active after adding rounds of cuts (0.050 seconds)\n",
      "TwoMirCuts was tried 1 times and created 0 cuts of which 0 were active after adding rounds of cuts (0.016 seconds)\n",
      "ZeroHalf was tried 1 times and created 0 cuts of which 0 were active after adding rounds of cuts (0.000 seconds)\n",
      "\n",
      "Result - Optimal solution found\n",
      "\n",
      "Objective value:                2.78000000\n",
      "Enumerated nodes:               0\n",
      "Total iterations:               124\n",
      "Time (CPU seconds):             252.99\n",
      "Time (Wallclock seconds):       253.34\n",
      "\n",
      "Total time (CPU seconds):       253.74   (Wallclock seconds):       254.17\n",
      "\n",
      "\n",
      "Optimal solution found\n",
      "\n",
      "Object function value =  <pyomo.core.base.block._generic_component_decorator object at 0x7f1fb0120d00>\n"
     ]
    }
   ],
   "execution_count": 13
  },
  {
   "metadata": {
    "ExecuteTime": {
     "end_time": "2024-07-07T22:30:10.402552Z",
     "start_time": "2024-07-07T22:30:10.364925Z"
    }
   },
   "cell_type": "code",
   "source": [
    "ris = []\n",
    "for i,v in model.a.extract_values().items():\n",
    "    if v != 0:\n",
    "        ris.append((i, v))\n",
    "\n",
    "print(ris)"
   ],
   "id": "16d77ca1c69b4445",
   "outputs": [
    {
     "name": "stdout",
     "output_type": "stream",
     "text": [
      "[(('026a38b5d58e84d88b1e4ef072153daeb72c317468d33878978a3728fe83d59ecf', '029efe15ef5f0fcc2fdd6b910405e78056b28c9b64e1feff5f13b8dce307e67cad'), 130000.0), (('02881003525adb05fef7f73eacc8f31903791ced708a4fc2680de08acae949006a', '02cfdc6b60e5931d174a342b20b50d6a2a17c6e4ef8e077ea54069a3541ad50eb0'), 130000.0), (('02a14c5c4fedba011d5a822f44bc4cd968484b94d92810872971ce498f278e34f1', '029efe15ef5f0fcc2fdd6b910405e78056b28c9b64e1feff5f13b8dce307e67cad'), 130000.0), (('02cfdc6b60e5931d174a342b20b50d6a2a17c6e4ef8e077ea54069a3541ad50eb0', '026a38b5d58e84d88b1e4ef072153daeb72c317468d33878978a3728fe83d59ecf'), 130000.0), (('0364913d18a19c671bb36dd04d6ad5be0fe8f2894314c36a9db3f03c2d414907e1', '02cca6c5c966fcf61d121e3a70e03a1cd9eeeea024b26ea666ce974d43b242e636'), 130000.0), (('0364913d18a19c671bb36dd04d6ad5be0fe8f2894314c36a9db3f03c2d414907e1', '039174f846626c6053ba80f5443d0db33da384f1dde135bf7080ba1eec465019c3'), 130000.0), (('03c5528c628681aa17ab9e117aa3ee6f06c750dfb17df758ecabcd68f1567ad8c1', '039174f846626c6053ba80f5443d0db33da384f1dde135bf7080ba1eec465019c3'), 65000.0), (('03c5528c628681aa17ab9e117aa3ee6f06c750dfb17df758ecabcd68f1567ad8c1', '03c72f89b660de43fc5c77ef879cbf7846601af88befb80e436242909b14fd0495'), 65000.0), (('03c72f89b660de43fc5c77ef879cbf7846601af88befb80e436242909b14fd0495', '039174f846626c6053ba80f5443d0db33da384f1dde135bf7080ba1eec465019c3'), 65000.0)]\n"
     ]
    }
   ],
   "execution_count": 14
  },
  {
   "metadata": {
    "ExecuteTime": {
     "end_time": "2024-07-07T22:37:39.519984Z",
     "start_time": "2024-07-07T22:37:39.359382Z"
    }
   },
   "cell_type": "code",
   "source": [
    "DF = pd.DataFrame()\n",
    "for v in model.component_objects(pyo.Var,active=True):\n",
    "    for index in v:\n",
    "        DF.loc[index, v.name] = pyo.value(v[index])"
   ],
   "id": "b7051d6dc41ce1a0",
   "outputs": [
    {
     "ename": "KeyError",
     "evalue": "\"None of [Index(['0200000000727d3b67513c916f16975e3bf8f3304cf3fcf0ed855e2ae41888f461', '0360a41eb8c3fe09782ef6c984acbb003b0e1ebc4fe10ae01bab0e80d76618c8f4'], dtype='object')] are in the [index]\"",
     "output_type": "error",
     "traceback": [
      "\u001B[0;31m---------------------------------------------------------------------------\u001B[0m",
      "\u001B[0;31mKeyError\u001B[0m                                  Traceback (most recent call last)",
      "Cell \u001B[0;32mIn[31], line 4\u001B[0m\n\u001B[1;32m      2\u001B[0m \u001B[38;5;28;01mfor\u001B[39;00m v \u001B[38;5;129;01min\u001B[39;00m model\u001B[38;5;241m.\u001B[39mcomponent_objects(pyo\u001B[38;5;241m.\u001B[39mVar,active\u001B[38;5;241m=\u001B[39m\u001B[38;5;28;01mTrue\u001B[39;00m):\n\u001B[1;32m      3\u001B[0m     \u001B[38;5;28;01mfor\u001B[39;00m index \u001B[38;5;129;01min\u001B[39;00m v:\n\u001B[0;32m----> 4\u001B[0m         \u001B[43mDF\u001B[49m\u001B[38;5;241;43m.\u001B[39;49m\u001B[43mloc\u001B[49m\u001B[43m[\u001B[49m\u001B[43mindex\u001B[49m\u001B[43m,\u001B[49m\u001B[43m \u001B[49m\u001B[43mv\u001B[49m\u001B[38;5;241;43m.\u001B[39;49m\u001B[43mname\u001B[49m\u001B[43m]\u001B[49m \u001B[38;5;241m=\u001B[39m pyo\u001B[38;5;241m.\u001B[39mvalue(v[index])\n",
      "File \u001B[0;32m~/repositories/LN-pathfinding/venv/lib/python3.10/site-packages/pandas/core/indexing.py:907\u001B[0m, in \u001B[0;36m_LocationIndexer.__setitem__\u001B[0;34m(self, key, value)\u001B[0m\n\u001B[1;32m    905\u001B[0m     maybe_callable \u001B[38;5;241m=\u001B[39m com\u001B[38;5;241m.\u001B[39mapply_if_callable(key, \u001B[38;5;28mself\u001B[39m\u001B[38;5;241m.\u001B[39mobj)\n\u001B[1;32m    906\u001B[0m     key \u001B[38;5;241m=\u001B[39m \u001B[38;5;28mself\u001B[39m\u001B[38;5;241m.\u001B[39m_check_deprecated_callable_usage(key, maybe_callable)\n\u001B[0;32m--> 907\u001B[0m indexer \u001B[38;5;241m=\u001B[39m \u001B[38;5;28;43mself\u001B[39;49m\u001B[38;5;241;43m.\u001B[39;49m\u001B[43m_get_setitem_indexer\u001B[49m\u001B[43m(\u001B[49m\u001B[43mkey\u001B[49m\u001B[43m)\u001B[49m\n\u001B[1;32m    908\u001B[0m \u001B[38;5;28mself\u001B[39m\u001B[38;5;241m.\u001B[39m_has_valid_setitem_indexer(key)\n\u001B[1;32m    910\u001B[0m iloc \u001B[38;5;241m=\u001B[39m \u001B[38;5;28mself\u001B[39m \u001B[38;5;28;01mif\u001B[39;00m \u001B[38;5;28mself\u001B[39m\u001B[38;5;241m.\u001B[39mname \u001B[38;5;241m==\u001B[39m \u001B[38;5;124m\"\u001B[39m\u001B[38;5;124miloc\u001B[39m\u001B[38;5;124m\"\u001B[39m \u001B[38;5;28;01melse\u001B[39;00m \u001B[38;5;28mself\u001B[39m\u001B[38;5;241m.\u001B[39mobj\u001B[38;5;241m.\u001B[39miloc\n",
      "File \u001B[0;32m~/repositories/LN-pathfinding/venv/lib/python3.10/site-packages/pandas/core/indexing.py:774\u001B[0m, in \u001B[0;36m_LocationIndexer._get_setitem_indexer\u001B[0;34m(self, key)\u001B[0m\n\u001B[1;32m    771\u001B[0m \u001B[38;5;28;01mif\u001B[39;00m \u001B[38;5;28misinstance\u001B[39m(key, \u001B[38;5;28mtuple\u001B[39m):\n\u001B[1;32m    772\u001B[0m     \u001B[38;5;28;01mwith\u001B[39;00m suppress(IndexingError):\n\u001B[1;32m    773\u001B[0m         \u001B[38;5;66;03m# suppress \"Too many indexers\"\u001B[39;00m\n\u001B[0;32m--> 774\u001B[0m         \u001B[38;5;28;01mreturn\u001B[39;00m \u001B[38;5;28;43mself\u001B[39;49m\u001B[38;5;241;43m.\u001B[39;49m\u001B[43m_convert_tuple\u001B[49m\u001B[43m(\u001B[49m\u001B[43mkey\u001B[49m\u001B[43m)\u001B[49m\n\u001B[1;32m    776\u001B[0m \u001B[38;5;28;01mif\u001B[39;00m \u001B[38;5;28misinstance\u001B[39m(key, \u001B[38;5;28mrange\u001B[39m):\n\u001B[1;32m    777\u001B[0m     \u001B[38;5;66;03m# GH#45479 test_loc_setitem_range_key\u001B[39;00m\n\u001B[1;32m    778\u001B[0m     key \u001B[38;5;241m=\u001B[39m \u001B[38;5;28mlist\u001B[39m(key)\n",
      "File \u001B[0;32m~/repositories/LN-pathfinding/venv/lib/python3.10/site-packages/pandas/core/indexing.py:989\u001B[0m, in \u001B[0;36m_LocationIndexer._convert_tuple\u001B[0;34m(self, key)\u001B[0m\n\u001B[1;32m    985\u001B[0m \u001B[38;5;129m@final\u001B[39m\n\u001B[1;32m    986\u001B[0m \u001B[38;5;28;01mdef\u001B[39;00m \u001B[38;5;21m_convert_tuple\u001B[39m(\u001B[38;5;28mself\u001B[39m, key: \u001B[38;5;28mtuple\u001B[39m) \u001B[38;5;241m-\u001B[39m\u001B[38;5;241m>\u001B[39m \u001B[38;5;28mtuple\u001B[39m:\n\u001B[1;32m    987\u001B[0m     \u001B[38;5;66;03m# Note: we assume _tupleize_axis_indexer has been called, if necessary.\u001B[39;00m\n\u001B[1;32m    988\u001B[0m     \u001B[38;5;28mself\u001B[39m\u001B[38;5;241m.\u001B[39m_validate_key_length(key)\n\u001B[0;32m--> 989\u001B[0m     keyidx \u001B[38;5;241m=\u001B[39m [\u001B[38;5;28mself\u001B[39m\u001B[38;5;241m.\u001B[39m_convert_to_indexer(k, axis\u001B[38;5;241m=\u001B[39mi) \u001B[38;5;28;01mfor\u001B[39;00m i, k \u001B[38;5;129;01min\u001B[39;00m \u001B[38;5;28menumerate\u001B[39m(key)]\n\u001B[1;32m    990\u001B[0m     \u001B[38;5;28;01mreturn\u001B[39;00m \u001B[38;5;28mtuple\u001B[39m(keyidx)\n",
      "File \u001B[0;32m~/repositories/LN-pathfinding/venv/lib/python3.10/site-packages/pandas/core/indexing.py:989\u001B[0m, in \u001B[0;36m<listcomp>\u001B[0;34m(.0)\u001B[0m\n\u001B[1;32m    985\u001B[0m \u001B[38;5;129m@final\u001B[39m\n\u001B[1;32m    986\u001B[0m \u001B[38;5;28;01mdef\u001B[39;00m \u001B[38;5;21m_convert_tuple\u001B[39m(\u001B[38;5;28mself\u001B[39m, key: \u001B[38;5;28mtuple\u001B[39m) \u001B[38;5;241m-\u001B[39m\u001B[38;5;241m>\u001B[39m \u001B[38;5;28mtuple\u001B[39m:\n\u001B[1;32m    987\u001B[0m     \u001B[38;5;66;03m# Note: we assume _tupleize_axis_indexer has been called, if necessary.\u001B[39;00m\n\u001B[1;32m    988\u001B[0m     \u001B[38;5;28mself\u001B[39m\u001B[38;5;241m.\u001B[39m_validate_key_length(key)\n\u001B[0;32m--> 989\u001B[0m     keyidx \u001B[38;5;241m=\u001B[39m [\u001B[38;5;28;43mself\u001B[39;49m\u001B[38;5;241;43m.\u001B[39;49m\u001B[43m_convert_to_indexer\u001B[49m\u001B[43m(\u001B[49m\u001B[43mk\u001B[49m\u001B[43m,\u001B[49m\u001B[43m \u001B[49m\u001B[43maxis\u001B[49m\u001B[38;5;241;43m=\u001B[39;49m\u001B[43mi\u001B[49m\u001B[43m)\u001B[49m \u001B[38;5;28;01mfor\u001B[39;00m i, k \u001B[38;5;129;01min\u001B[39;00m \u001B[38;5;28menumerate\u001B[39m(key)]\n\u001B[1;32m    990\u001B[0m     \u001B[38;5;28;01mreturn\u001B[39;00m \u001B[38;5;28mtuple\u001B[39m(keyidx)\n",
      "File \u001B[0;32m~/repositories/LN-pathfinding/venv/lib/python3.10/site-packages/pandas/core/indexing.py:1522\u001B[0m, in \u001B[0;36m_LocIndexer._convert_to_indexer\u001B[0;34m(self, key, axis)\u001B[0m\n\u001B[1;32m   1520\u001B[0m         \u001B[38;5;28;01mreturn\u001B[39;00m key\n\u001B[1;32m   1521\u001B[0m     \u001B[38;5;28;01melse\u001B[39;00m:\n\u001B[0;32m-> 1522\u001B[0m         \u001B[38;5;28;01mreturn\u001B[39;00m \u001B[38;5;28;43mself\u001B[39;49m\u001B[38;5;241;43m.\u001B[39;49m\u001B[43m_get_listlike_indexer\u001B[49m\u001B[43m(\u001B[49m\u001B[43mkey\u001B[49m\u001B[43m,\u001B[49m\u001B[43m \u001B[49m\u001B[43maxis\u001B[49m\u001B[43m)\u001B[49m[\u001B[38;5;241m1\u001B[39m]\n\u001B[1;32m   1523\u001B[0m \u001B[38;5;28;01melse\u001B[39;00m:\n\u001B[1;32m   1524\u001B[0m     \u001B[38;5;28;01mtry\u001B[39;00m:\n",
      "File \u001B[0;32m~/repositories/LN-pathfinding/venv/lib/python3.10/site-packages/pandas/core/indexing.py:1558\u001B[0m, in \u001B[0;36m_LocIndexer._get_listlike_indexer\u001B[0;34m(self, key, axis)\u001B[0m\n\u001B[1;32m   1555\u001B[0m ax \u001B[38;5;241m=\u001B[39m \u001B[38;5;28mself\u001B[39m\u001B[38;5;241m.\u001B[39mobj\u001B[38;5;241m.\u001B[39m_get_axis(axis)\n\u001B[1;32m   1556\u001B[0m axis_name \u001B[38;5;241m=\u001B[39m \u001B[38;5;28mself\u001B[39m\u001B[38;5;241m.\u001B[39mobj\u001B[38;5;241m.\u001B[39m_get_axis_name(axis)\n\u001B[0;32m-> 1558\u001B[0m keyarr, indexer \u001B[38;5;241m=\u001B[39m \u001B[43max\u001B[49m\u001B[38;5;241;43m.\u001B[39;49m\u001B[43m_get_indexer_strict\u001B[49m\u001B[43m(\u001B[49m\u001B[43mkey\u001B[49m\u001B[43m,\u001B[49m\u001B[43m \u001B[49m\u001B[43maxis_name\u001B[49m\u001B[43m)\u001B[49m\n\u001B[1;32m   1560\u001B[0m \u001B[38;5;28;01mreturn\u001B[39;00m keyarr, indexer\n",
      "File \u001B[0;32m~/repositories/LN-pathfinding/venv/lib/python3.10/site-packages/pandas/core/indexes/base.py:6200\u001B[0m, in \u001B[0;36mIndex._get_indexer_strict\u001B[0;34m(self, key, axis_name)\u001B[0m\n\u001B[1;32m   6197\u001B[0m \u001B[38;5;28;01melse\u001B[39;00m:\n\u001B[1;32m   6198\u001B[0m     keyarr, indexer, new_indexer \u001B[38;5;241m=\u001B[39m \u001B[38;5;28mself\u001B[39m\u001B[38;5;241m.\u001B[39m_reindex_non_unique(keyarr)\n\u001B[0;32m-> 6200\u001B[0m \u001B[38;5;28;43mself\u001B[39;49m\u001B[38;5;241;43m.\u001B[39;49m\u001B[43m_raise_if_missing\u001B[49m\u001B[43m(\u001B[49m\u001B[43mkeyarr\u001B[49m\u001B[43m,\u001B[49m\u001B[43m \u001B[49m\u001B[43mindexer\u001B[49m\u001B[43m,\u001B[49m\u001B[43m \u001B[49m\u001B[43maxis_name\u001B[49m\u001B[43m)\u001B[49m\n\u001B[1;32m   6202\u001B[0m keyarr \u001B[38;5;241m=\u001B[39m \u001B[38;5;28mself\u001B[39m\u001B[38;5;241m.\u001B[39mtake(indexer)\n\u001B[1;32m   6203\u001B[0m \u001B[38;5;28;01mif\u001B[39;00m \u001B[38;5;28misinstance\u001B[39m(key, Index):\n\u001B[1;32m   6204\u001B[0m     \u001B[38;5;66;03m# GH 42790 - Preserve name from an Index\u001B[39;00m\n",
      "File \u001B[0;32m~/repositories/LN-pathfinding/venv/lib/python3.10/site-packages/pandas/core/indexes/base.py:6249\u001B[0m, in \u001B[0;36mIndex._raise_if_missing\u001B[0;34m(self, key, indexer, axis_name)\u001B[0m\n\u001B[1;32m   6247\u001B[0m \u001B[38;5;28;01mif\u001B[39;00m nmissing:\n\u001B[1;32m   6248\u001B[0m     \u001B[38;5;28;01mif\u001B[39;00m nmissing \u001B[38;5;241m==\u001B[39m \u001B[38;5;28mlen\u001B[39m(indexer):\n\u001B[0;32m-> 6249\u001B[0m         \u001B[38;5;28;01mraise\u001B[39;00m \u001B[38;5;167;01mKeyError\u001B[39;00m(\u001B[38;5;124mf\u001B[39m\u001B[38;5;124m\"\u001B[39m\u001B[38;5;124mNone of [\u001B[39m\u001B[38;5;132;01m{\u001B[39;00mkey\u001B[38;5;132;01m}\u001B[39;00m\u001B[38;5;124m] are in the [\u001B[39m\u001B[38;5;132;01m{\u001B[39;00maxis_name\u001B[38;5;132;01m}\u001B[39;00m\u001B[38;5;124m]\u001B[39m\u001B[38;5;124m\"\u001B[39m)\n\u001B[1;32m   6251\u001B[0m     not_found \u001B[38;5;241m=\u001B[39m \u001B[38;5;28mlist\u001B[39m(ensure_index(key)[missing_mask\u001B[38;5;241m.\u001B[39mnonzero()[\u001B[38;5;241m0\u001B[39m]]\u001B[38;5;241m.\u001B[39munique())\n\u001B[1;32m   6252\u001B[0m     \u001B[38;5;28;01mraise\u001B[39;00m \u001B[38;5;167;01mKeyError\u001B[39;00m(\u001B[38;5;124mf\u001B[39m\u001B[38;5;124m\"\u001B[39m\u001B[38;5;132;01m{\u001B[39;00mnot_found\u001B[38;5;132;01m}\u001B[39;00m\u001B[38;5;124m not in index\u001B[39m\u001B[38;5;124m\"\u001B[39m)\n",
      "\u001B[0;31mKeyError\u001B[0m: \"None of [Index(['0200000000727d3b67513c916f16975e3bf8f3304cf3fcf0ed855e2ae41888f461', '0360a41eb8c3fe09782ef6c984acbb003b0e1ebc4fe10ae01bab0e80d76618c8f4'], dtype='object')] are in the [index]\""
     ]
    }
   ],
   "execution_count": 31
  },
  {
   "metadata": {
    "ExecuteTime": {
     "end_time": "2024-07-07T22:37:27.048626Z",
     "start_time": "2024-07-07T22:37:27.030907Z"
    }
   },
   "cell_type": "code",
   "source": "DF",
   "id": "29a46dd720c29088",
   "outputs": [
    {
     "data": {
      "text/plain": [
       "Empty DataFrame\n",
       "Columns: []\n",
       "Index: []"
      ],
      "text/html": [
       "<div>\n",
       "<style scoped>\n",
       "    .dataframe tbody tr th:only-of-type {\n",
       "        vertical-align: middle;\n",
       "    }\n",
       "\n",
       "    .dataframe tbody tr th {\n",
       "        vertical-align: top;\n",
       "    }\n",
       "\n",
       "    .dataframe thead th {\n",
       "        text-align: right;\n",
       "    }\n",
       "</style>\n",
       "<table border=\"1\" class=\"dataframe\">\n",
       "  <thead>\n",
       "    <tr style=\"text-align: right;\">\n",
       "      <th></th>\n",
       "    </tr>\n",
       "  </thead>\n",
       "  <tbody>\n",
       "  </tbody>\n",
       "</table>\n",
       "</div>"
      ]
     },
     "execution_count": 30,
     "metadata": {},
     "output_type": "execute_result"
    }
   ],
   "execution_count": 30
  }
 ],
 "metadata": {
  "kernelspec": {
   "display_name": "Python 3",
   "language": "python",
   "name": "python3"
  },
  "language_info": {
   "codemirror_mode": {
    "name": "ipython",
    "version": 2
   },
   "file_extension": ".py",
   "mimetype": "text/x-python",
   "name": "python",
   "nbconvert_exporter": "python",
   "pygments_lexer": "ipython2",
   "version": "2.7.6"
  }
 },
 "nbformat": 4,
 "nbformat_minor": 5
}
