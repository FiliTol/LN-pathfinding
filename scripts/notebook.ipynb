{
 "cells": [
  {
   "metadata": {},
   "cell_type": "markdown",
   "source": "## Import and cleaning",
   "id": "c599f7bab2a99ae6"
  },
  {
   "cell_type": "code",
   "id": "initial_id",
   "metadata": {
    "collapsed": true,
    "ExecuteTime": {
     "end_time": "2024-06-13T13:15:45.478816Z",
     "start_time": "2024-06-13T13:15:43.543980Z"
    }
   },
   "source": [
    "import pandas as pd\n",
    "import json\n",
    "\n",
    "# Split json file into two files, one for the vertex and one for the edges\n",
    "\n",
    "with open(\"../data/network_graph_2024_06_12.json\") as f:\n",
    "    d = json.load(f)\n",
    "\n",
    "nodes = d[\"nodes\"]\n",
    "edges = d[\"edges\"]\n",
    "\n",
    "nodes = pd.DataFrame(nodes)\n",
    "edges = pd.DataFrame(edges)\n",
    "\n",
    "nodes[\"features\"]"
   ],
   "outputs": [
    {
     "data": {
      "text/plain": [
       "0        {'0': {'name': 'data-loss-protect', 'is_requir...\n",
       "1        {'1': {'name': 'data-loss-protect', 'is_requir...\n",
       "2        {'0': {'name': 'data-loss-protect', 'is_requir...\n",
       "3                                                       {}\n",
       "4        {'0': {'name': 'data-loss-protect', 'is_requir...\n",
       "                               ...                        \n",
       "12457                                                   {}\n",
       "12458                                                   {}\n",
       "12459    {'0': {'name': 'data-loss-protect', 'is_requir...\n",
       "12460    {'0': {'name': 'data-loss-protect', 'is_requir...\n",
       "12461                                                   {}\n",
       "Name: features, Length: 12462, dtype: object"
      ]
     },
     "execution_count": 21,
     "metadata": {},
     "output_type": "execute_result"
    }
   ],
   "execution_count": 21
  }
 ],
 "metadata": {
  "kernelspec": {
   "display_name": "Python 3",
   "language": "python",
   "name": "python3"
  },
  "language_info": {
   "codemirror_mode": {
    "name": "ipython",
    "version": 2
   },
   "file_extension": ".py",
   "mimetype": "text/x-python",
   "name": "python",
   "nbconvert_exporter": "python",
   "pygments_lexer": "ipython2",
   "version": "2.7.6"
  }
 },
 "nbformat": 4,
 "nbformat_minor": 5
}
