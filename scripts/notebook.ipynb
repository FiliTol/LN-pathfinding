{
 "cells": [
  {
   "metadata": {},
   "cell_type": "markdown",
   "source": "## Import and cleaning",
   "id": "c599f7bab2a99ae6"
  },
  {
   "metadata": {
    "jupyter": {
     "is_executing": true
    }
   },
   "cell_type": "code",
   "source": [
    "import pandas as pd\n",
    "import json\n",
    "import re\n",
    "import pyomo.environ as pyo\n",
    "\n",
    "\n",
    "with open(\"../data/network_graph_2024_06_12.json\") as f:\n",
    "    d = json.load(f)\n",
    "\n",
    "nodes = pd.DataFrame(d[\"nodes\"])\n",
    "channels = pd.DataFrame(d[\"edges\"])"
   ],
   "id": "a0b4114648597610",
   "outputs": [],
   "execution_count": null
  },
  {
   "metadata": {},
   "cell_type": "markdown",
   "source": "## Channels",
   "id": "7bd397038e338636"
  },
  {
   "metadata": {
    "ExecuteTime": {
     "end_time": "2024-06-22T14:31:39.540165Z",
     "start_time": "2024-06-22T14:31:39.523196Z"
    }
   },
   "cell_type": "code",
   "source": "channels[0:1]",
   "id": "ed1ba3fecd58f2a0",
   "outputs": [
    {
     "data": {
      "text/plain": [
       "           channel_id                                         chan_point  \\\n",
       "0  553951550347608065  ede04f9cfc1bb5373fd07d8af9c9b8b5a85cfe5e323b77...   \n",
       "\n",
       "   last_update                                          node1_pub  \\\n",
       "0            0  03bd3466efd4a7306b539e2314e69efc6b1eaee29734fc...   \n",
       "\n",
       "                                           node2_pub capacity node1_policy  \\\n",
       "0  03c3d14714b78f03fd6ea4997c2b540a4139258249ea1d...    37200         None   \n",
       "\n",
       "  node2_policy custom_records  \n",
       "0         None             {}  "
      ],
      "text/html": [
       "<div>\n",
       "<style scoped>\n",
       "    .dataframe tbody tr th:only-of-type {\n",
       "        vertical-align: middle;\n",
       "    }\n",
       "\n",
       "    .dataframe tbody tr th {\n",
       "        vertical-align: top;\n",
       "    }\n",
       "\n",
       "    .dataframe thead th {\n",
       "        text-align: right;\n",
       "    }\n",
       "</style>\n",
       "<table border=\"1\" class=\"dataframe\">\n",
       "  <thead>\n",
       "    <tr style=\"text-align: right;\">\n",
       "      <th></th>\n",
       "      <th>channel_id</th>\n",
       "      <th>chan_point</th>\n",
       "      <th>last_update</th>\n",
       "      <th>node1_pub</th>\n",
       "      <th>node2_pub</th>\n",
       "      <th>capacity</th>\n",
       "      <th>node1_policy</th>\n",
       "      <th>node2_policy</th>\n",
       "      <th>custom_records</th>\n",
       "    </tr>\n",
       "  </thead>\n",
       "  <tbody>\n",
       "    <tr>\n",
       "      <th>0</th>\n",
       "      <td>553951550347608065</td>\n",
       "      <td>ede04f9cfc1bb5373fd07d8af9c9b8b5a85cfe5e323b77...</td>\n",
       "      <td>0</td>\n",
       "      <td>03bd3466efd4a7306b539e2314e69efc6b1eaee29734fc...</td>\n",
       "      <td>03c3d14714b78f03fd6ea4997c2b540a4139258249ea1d...</td>\n",
       "      <td>37200</td>\n",
       "      <td>None</td>\n",
       "      <td>None</td>\n",
       "      <td>{}</td>\n",
       "    </tr>\n",
       "  </tbody>\n",
       "</table>\n",
       "</div>"
      ]
     },
     "execution_count": 25,
     "metadata": {},
     "output_type": "execute_result"
    }
   ],
   "execution_count": 25
  },
  {
   "cell_type": "code",
   "id": "initial_id",
   "metadata": {
    "collapsed": true,
    "ExecuteTime": {
     "end_time": "2024-06-22T13:05:09.992549Z",
     "start_time": "2024-06-22T13:05:09.919001Z"
    }
   },
   "source": [
    "## Change data types\n",
    "channels[\"capacity\"] = channels[\"capacity\"].astype(int)\n",
    "channels[\"last_update\"] = pd.to_datetime(channels[\"last_update\"], unit = 's')\n",
    "\n",
    "## Filter out channels that are unused (no update time)\n",
    "channels = channels[channels[\"last_update\"] > \"1970-01-01\"]\n",
    "\n",
    "## Filter out channels with nodes with no policy registered for this describegraph query (aka not reachable now)\n",
    "channels = channels[pd.notnull(channels[\"node1_policy\"]) & pd.notnull(channels[\"node2_policy\"])]\n",
    "\n",
    "channels = channels.filter(items=['channel_id',\n",
    "                       'node1_pub',\n",
    "                       'node2_pub',\n",
    "                       'capacity',\n",
    "                       'node1_policy',\n",
    "                       'node2_policy'\n",
    "                       ])\n"
   ],
   "outputs": [],
   "execution_count": 2
  },
  {
   "metadata": {},
   "cell_type": "markdown",
   "source": [
    "From these data we only need information that are strictly related to path finding for channels, thus we only need:\n",
    "\n",
    "- channel peers\n",
    "- channel id\n",
    "- capacity\n",
    "- nodes policy:\n",
    "    - fee base msat\n",
    "    - fee rate milli msat"
   ],
   "id": "a4cf27d756cb37c3"
  },
  {
   "metadata": {
    "ExecuteTime": {
     "end_time": "2024-06-22T13:05:10.012852Z",
     "start_time": "2024-06-22T13:05:09.995480Z"
    }
   },
   "cell_type": "code",
   "source": "channels.iloc[0]",
   "id": "a9b75aa208d9da9c",
   "outputs": [
    {
     "data": {
      "text/plain": [
       "channel_id                                     627185621808578560\n",
       "node1_pub       027d7f94667974b10d3e8330de403111229669273dc902...\n",
       "node2_pub       03abf6f44c355dec0d5aa155bdbdd6e0c8fefe318eff40...\n",
       "capacity                                                  3000000\n",
       "node1_policy    {'time_lock_delta': 144, 'min_htlc': '1000', '...\n",
       "node2_policy    {'time_lock_delta': 30, 'min_htlc': '1000', 'f...\n",
       "Name: 4650, dtype: object"
      ]
     },
     "execution_count": 3,
     "metadata": {},
     "output_type": "execute_result"
    }
   ],
   "execution_count": 3
  },
  {
   "metadata": {
    "ExecuteTime": {
     "end_time": "2024-06-22T13:05:10.093971Z",
     "start_time": "2024-06-22T13:05:10.016881Z"
    }
   },
   "cell_type": "code",
   "source": [
    "channels['node1_fee_base_msat'] = channels['node1_policy'].apply(lambda x: x['fee_base_msat'])\n",
    "channels['node2_fee_base_msat'] = channels['node2_policy'].apply(lambda x: x['fee_base_msat'])\n",
    "\n",
    "channels['node1_fee_rate_milli_msat'] = channels['node1_policy'].apply(lambda x: x['fee_rate_milli_msat'])\n",
    "channels['node2_fee_rate_milli_msat'] = channels['node2_policy'].apply(lambda x: x['fee_rate_milli_msat'])\n",
    "\n",
    "channels[\"node1_fee_base_msat\"] = channels[\"node1_fee_base_msat\"].astype(int)\n",
    "channels[\"node2_fee_base_msat\"] = channels[\"node2_fee_base_msat\"].astype(int)\n",
    "\n",
    "channels[\"node1_fee_rate_milli_msat\"] = channels[\"node1_fee_rate_milli_msat\"].astype(int)\n",
    "channels[\"node2_fee_rate_milli_msat\"] = channels[\"node2_fee_rate_milli_msat\"].astype(int)\n",
    "\n",
    "\n",
    "channels = channels.filter(items=['channel_id',\n",
    "                                  'node1_pub',\n",
    "                                  'node2_pub',\n",
    "                                  'capacity',\n",
    "                                  'node1_fee_base_msat',\n",
    "                                  'node1_fee_rate_milli_msat',\n",
    "                                  'node2_fee_base_msat',\n",
    "                                  'node2_fee_rate_milli_msat'\n",
    "                                  ])"
   ],
   "id": "97ad2a83e0ed357e",
   "outputs": [],
   "execution_count": 4
  },
  {
   "metadata": {},
   "cell_type": "markdown",
   "source": "## Nodes",
   "id": "ea1693370e30293a"
  },
  {
   "metadata": {},
   "cell_type": "markdown",
   "source": [
    "Set feature to flag the presence of onion address and the presence of clearnet address.\n",
    "Feature is like the Linux permissions:\n",
    "- 1 for clearnet\n",
    "- 2 for onion\n",
    "- 3 for both onion and clearnet"
   ],
   "id": "390d3a7941d1299d"
  },
  {
   "metadata": {
    "ExecuteTime": {
     "end_time": "2024-06-22T13:05:10.119688Z",
     "start_time": "2024-06-22T13:05:10.096047Z"
    }
   },
   "cell_type": "code",
   "source": "nodes['addresses'] = nodes.iloc[:, 3].apply(lambda x: [i['addr'] for i in x])",
   "id": "e185df4394a95c59",
   "outputs": [],
   "execution_count": 5
  },
  {
   "metadata": {
    "ExecuteTime": {
     "end_time": "2024-06-22T13:05:10.169160Z",
     "start_time": "2024-06-22T13:05:10.121668Z"
    }
   },
   "cell_type": "code",
   "source": [
    "def allocate_code(addresses):\n",
    "    \"\"\"\n",
    "    :param addresses: list of strings with Ip or onion addresses\n",
    "    :return: score for the kind of addresses used by the node.\n",
    "             1 of only onion, 2 if only clearnet, 3 if both onion and clearnet\n",
    "             The score is independent from the number of addresses of each kind\n",
    "    \"\"\"\n",
    "    code = []\n",
    "    onion_pattern = re.compile(r\".*\\.onion\")\n",
    "    for element in addresses:\n",
    "        if onion_pattern.match(element):\n",
    "            code.append(1)\n",
    "        else:\n",
    "            code.append(2)\n",
    "    return sum(set(code))\n",
    "\n",
    "\n",
    "nodes[\"addresses\"] = nodes[\"addresses\"].apply(allocate_code)"
   ],
   "id": "e68ab2c511beea67",
   "outputs": [],
   "execution_count": 6
  },
  {
   "metadata": {},
   "cell_type": "markdown",
   "source": "Remove nodes that were not updated (aka with no last update time data)",
   "id": "e914c2e7334c61d6"
  },
  {
   "metadata": {
    "ExecuteTime": {
     "end_time": "2024-06-22T13:05:10.187626Z",
     "start_time": "2024-06-22T13:05:10.171909Z"
    }
   },
   "cell_type": "code",
   "source": [
    "nodes[\"last_update\"] = pd.to_datetime(nodes[\"last_update\"], unit = 's')\n",
    "nodes = nodes[nodes[\"last_update\"] > \"1970-01-01\"]"
   ],
   "id": "93a6927cebb775f4",
   "outputs": [],
   "execution_count": 7
  },
  {
   "metadata": {},
   "cell_type": "markdown",
   "source": [
    "**Features to be analysed in order to understand the meaning of the properties is_known and is_required for nodes.**\n",
    "\n",
    "Analyse the \"features\" column\n",
    "\n",
    "- https://github.com/lightning/bolts/blob/master/09-features.md\n",
    "- https://github.com/lightningnetwork/lnd/blob/master/lnrpc/lightning.proto\n",
    "- https://github.com/lightningnetwork/lnd/blob/master/lnrpc/lightning_grpc.pb.go"
   ],
   "id": "a6c0bf04802b55d"
  },
  {
   "metadata": {
    "ExecuteTime": {
     "end_time": "2024-06-22T14:00:11.931815Z",
     "start_time": "2024-06-22T14:00:11.925972Z"
    }
   },
   "cell_type": "code",
   "source": [
    "nodes = nodes.filter(items = [\"pub_key\",\n",
    "                     \"alias\",\n",
    "                     \"addresses\"\n",
    "                     ])\n"
   ],
   "id": "9a061e28cfbae4c1",
   "outputs": [],
   "execution_count": 21
  },
  {
   "metadata": {
    "ExecuteTime": {
     "end_time": "2024-06-22T14:17:50.177041Z",
     "start_time": "2024-06-22T14:17:50.163584Z"
    }
   },
   "cell_type": "code",
   "source": "channels[0:2]",
   "id": "97f1137c13b36169",
   "outputs": [
    {
     "data": {
      "text/plain": [
       "              channel_id                                          node1_pub  \\\n",
       "4650  627185621808578560  027d7f94667974b10d3e8330de403111229669273dc902...   \n",
       "5447  674672429454655488  027d7f94667974b10d3e8330de403111229669273dc902...   \n",
       "\n",
       "                                              node2_pub  capacity  \\\n",
       "4650  03abf6f44c355dec0d5aa155bdbdd6e0c8fefe318eff40...   3000000   \n",
       "5447  02ca4c46faa50b2d961f4ad2e9d00c90826077b6a282b7...    500000   \n",
       "\n",
       "      node1_fee_base_msat  node1_fee_rate_milli_msat  node2_fee_base_msat  \\\n",
       "4650                  250                        100                 1000   \n",
       "5447                  400                       1000                  999   \n",
       "\n",
       "      node2_fee_rate_milli_msat  \n",
       "4650                       1700  \n",
       "5447                        999  "
      ],
      "text/html": [
       "<div>\n",
       "<style scoped>\n",
       "    .dataframe tbody tr th:only-of-type {\n",
       "        vertical-align: middle;\n",
       "    }\n",
       "\n",
       "    .dataframe tbody tr th {\n",
       "        vertical-align: top;\n",
       "    }\n",
       "\n",
       "    .dataframe thead th {\n",
       "        text-align: right;\n",
       "    }\n",
       "</style>\n",
       "<table border=\"1\" class=\"dataframe\">\n",
       "  <thead>\n",
       "    <tr style=\"text-align: right;\">\n",
       "      <th></th>\n",
       "      <th>channel_id</th>\n",
       "      <th>node1_pub</th>\n",
       "      <th>node2_pub</th>\n",
       "      <th>capacity</th>\n",
       "      <th>node1_fee_base_msat</th>\n",
       "      <th>node1_fee_rate_milli_msat</th>\n",
       "      <th>node2_fee_base_msat</th>\n",
       "      <th>node2_fee_rate_milli_msat</th>\n",
       "    </tr>\n",
       "  </thead>\n",
       "  <tbody>\n",
       "    <tr>\n",
       "      <th>4650</th>\n",
       "      <td>627185621808578560</td>\n",
       "      <td>027d7f94667974b10d3e8330de403111229669273dc902...</td>\n",
       "      <td>03abf6f44c355dec0d5aa155bdbdd6e0c8fefe318eff40...</td>\n",
       "      <td>3000000</td>\n",
       "      <td>250</td>\n",
       "      <td>100</td>\n",
       "      <td>1000</td>\n",
       "      <td>1700</td>\n",
       "    </tr>\n",
       "    <tr>\n",
       "      <th>5447</th>\n",
       "      <td>674672429454655488</td>\n",
       "      <td>027d7f94667974b10d3e8330de403111229669273dc902...</td>\n",
       "      <td>02ca4c46faa50b2d961f4ad2e9d00c90826077b6a282b7...</td>\n",
       "      <td>500000</td>\n",
       "      <td>400</td>\n",
       "      <td>1000</td>\n",
       "      <td>999</td>\n",
       "      <td>999</td>\n",
       "    </tr>\n",
       "  </tbody>\n",
       "</table>\n",
       "</div>"
      ]
     },
     "execution_count": 22,
     "metadata": {},
     "output_type": "execute_result"
    }
   ],
   "execution_count": 22
  }
 ],
 "metadata": {
  "kernelspec": {
   "display_name": "Python 3",
   "language": "python",
   "name": "python3"
  },
  "language_info": {
   "codemirror_mode": {
    "name": "ipython",
    "version": 2
   },
   "file_extension": ".py",
   "mimetype": "text/x-python",
   "name": "python",
   "nbconvert_exporter": "python",
   "pygments_lexer": "ipython2",
   "version": "2.7.6"
  }
 },
 "nbformat": 4,
 "nbformat_minor": 5
}
