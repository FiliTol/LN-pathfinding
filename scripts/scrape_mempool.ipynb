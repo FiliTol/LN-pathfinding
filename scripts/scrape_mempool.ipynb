{
 "cells": [
  {
   "metadata": {
    "ExecuteTime": {
     "end_time": "2024-07-03T15:45:18.088511Z",
     "start_time": "2024-07-03T15:45:17.425766Z"
    }
   },
   "cell_type": "code",
   "source": [
    "import pandas as pd\n",
    "\n",
    "nodes = pd.read_pickle(\"../data/nodes.pkl\")\n",
    "channels = pd.read_pickle(\"../data/channels.pkl\")\n"
   ],
   "id": "e2a6786654bbf1d",
   "outputs": [],
   "execution_count": 1
  },
  {
   "metadata": {
    "ExecuteTime": {
     "end_time": "2024-07-03T15:45:18.700919Z",
     "start_time": "2024-07-03T15:45:18.659942Z"
    }
   },
   "cell_type": "code",
   "source": [
    "node1_pub = pd.Series(channels[\"node1_pub\"].unique())\n",
    "node2_pub = pd.Series(channels[\"node2_pub\"].unique())"
   ],
   "id": "7f60ca01d7565e3b",
   "outputs": [],
   "execution_count": 2
  },
  {
   "metadata": {
    "ExecuteTime": {
     "end_time": "2024-07-03T15:45:53.398795Z",
     "start_time": "2024-07-03T15:45:53.387341Z"
    }
   },
   "cell_type": "code",
   "source": "node_pub = pd.concat([node1_pub, node2_pub]).unique()",
   "id": "970b6d4d22810f41",
   "outputs": [],
   "execution_count": 7
  },
  {
   "metadata": {
    "ExecuteTime": {
     "end_time": "2024-07-03T15:56:17.117252Z",
     "start_time": "2024-07-03T15:56:16.714791Z"
    }
   },
   "cell_type": "code",
   "source": [
    "missing = []\n",
    "for i in nodes.index:\n",
    "    if i not in node_pub:\n",
    "        missing.append(i)"
   ],
   "id": "d82b753241655fc1",
   "outputs": [],
   "execution_count": 11
  },
  {
   "cell_type": "code",
   "id": "initial_id",
   "metadata": {
    "collapsed": true,
    "ExecuteTime": {
     "end_time": "2024-07-03T15:56:37.836980Z",
     "start_time": "2024-07-03T15:56:37.351684Z"
    }
   },
   "source": [
    "import requests\n",
    "\n",
    "r = requests.get(\"https://mempool.space/api/v1/lightning/channels?public_key=02c94a8c40c64c511228c0ca4b393ccd0738d75e9229073ceb6328246de32b9a8b&status=open\")"
   ],
   "outputs": [],
   "execution_count": 13
  },
  {
   "metadata": {
    "ExecuteTime": {
     "end_time": "2024-07-03T15:56:38.439270Z",
     "start_time": "2024-07-03T15:56:38.423296Z"
    }
   },
   "cell_type": "code",
   "source": "r.json()",
   "id": "529d449381c58317",
   "outputs": [
    {
     "data": {
      "text/plain": [
       "[{'status': 1,\n",
       "  'closing_reason': None,\n",
       "  'closing_date': None,\n",
       "  'capacity': 4023369,\n",
       "  'short_id': '724056x2759x0',\n",
       "  'id': '796107991341793280',\n",
       "  'fee_rate': 0,\n",
       "  'node': {'alias': 'LNBϟG [Hub-1]',\n",
       "   'public_key': '034ea80f8b148c750463546bd999bf7321a0e6dfc60aaf84bd0400a2e8d376c0d5',\n",
       "   'channels': 818,\n",
       "   'capacity': '24210529182'}},\n",
       " {'status': 1,\n",
       "  'closing_reason': None,\n",
       "  'closing_date': None,\n",
       "  'capacity': 3000000,\n",
       "  'short_id': '829011x2023x2',\n",
       "  'id': '911507234186788866',\n",
       "  'fee_rate': 1,\n",
       "  'node': {'alias': 'Connects Back',\n",
       "   'public_key': '02bb5e47ee26aca1654ce092d9d06eac15d953210c737f2220e2d7e54c4f108677',\n",
       "   'channels': 55,\n",
       "   'capacity': '328471290'}},\n",
       " {'status': 1,\n",
       "  'closing_reason': None,\n",
       "  'closing_date': None,\n",
       "  'capacity': 3000000,\n",
       "  'short_id': '802622x505x1',\n",
       "  'id': '882492221741924353',\n",
       "  'fee_rate': 1,\n",
       "  'node': {'alias': 'nodistan',\n",
       "   'public_key': '03918747d6e361146c4884a0062fa6e890a24b0ccad8d3bab118f8465f2efaaf7a',\n",
       "   'channels': 14,\n",
       "   'capacity': '23200000'}},\n",
       " {'status': 1,\n",
       "  'closing_reason': None,\n",
       "  'closing_date': None,\n",
       "  'capacity': 3000000,\n",
       "  'short_id': '802653x849x1',\n",
       "  'id': '882526306624929793',\n",
       "  'fee_rate': 1,\n",
       "  'node': {'alias': 'CentralWankers_CLN',\n",
       "   'public_key': '03b8d3617af7a3b525f2ca3cad9d08cae6ff7519a19c9cf3236b3b4e2f092087f4',\n",
       "   'channels': 68,\n",
       "   'capacity': '328674324'}},\n",
       " {'status': 1,\n",
       "  'closing_reason': None,\n",
       "  'closing_date': None,\n",
       "  'capacity': 2000000,\n",
       "  'short_id': '839560x976x16',\n",
       "  'id': '923105982279581712',\n",
       "  'fee_rate': 1,\n",
       "  'node': {'alias': 'LQwD-Canada',\n",
       "   'public_key': '0364913d18a19c671bb36dd04d6ad5be0fe8f2894314c36a9db3f03c2d414907e1',\n",
       "   'channels': 1105,\n",
       "   'capacity': '3526656295'}},\n",
       " {'status': 1,\n",
       "  'closing_reason': None,\n",
       "  'closing_date': None,\n",
       "  'capacity': 2000000,\n",
       "  'short_id': '839561x1555x9',\n",
       "  'id': '923107081829154825',\n",
       "  'fee_rate': 1,\n",
       "  'node': {'alias': 'LQwD-Canada',\n",
       "   'public_key': '0364913d18a19c671bb36dd04d6ad5be0fe8f2894314c36a9db3f03c2d414907e1',\n",
       "   'channels': 1105,\n",
       "   'capacity': '3526656295'}},\n",
       " {'status': 1,\n",
       "  'closing_reason': None,\n",
       "  'closing_date': None,\n",
       "  'capacity': 2000000,\n",
       "  'short_id': '839561x2156x5',\n",
       "  'id': '923107081868541957',\n",
       "  'fee_rate': 1,\n",
       "  'node': {'alias': 'LQwD-Canada',\n",
       "   'public_key': '0364913d18a19c671bb36dd04d6ad5be0fe8f2894314c36a9db3f03c2d414907e1',\n",
       "   'channels': 1105,\n",
       "   'capacity': '3526656295'}},\n",
       " {'status': 1,\n",
       "  'closing_reason': None,\n",
       "  'closing_date': None,\n",
       "  'capacity': 2000000,\n",
       "  'short_id': '849006x2767x1',\n",
       "  'id': '933491969232928769',\n",
       "  'fee_rate': 1,\n",
       "  'node': {'alias': '⚡LightThisNow⚡',\n",
       "   'public_key': '035b82a3172c53e206e6a47ea95f17702d78619f384281f43feca13747a8c33896',\n",
       "   'channels': 44,\n",
       "   'capacity': '82751112'}},\n",
       " {'status': 1,\n",
       "  'closing_reason': None,\n",
       "  'closing_date': None,\n",
       "  'capacity': 1500000,\n",
       "  'short_id': '724172x2916x1',\n",
       "  'id': '796235534700904449',\n",
       "  'fee_rate': 0,\n",
       "  'node': {'alias': 'the27thMONKEY',\n",
       "   'public_key': '024dac761e433ab4ddf2233ccd2aaade2f1a89fa9e2b890580ad1c6603af2bc965',\n",
       "   'channels': 30,\n",
       "   'capacity': '81300000'}},\n",
       " {'status': 1,\n",
       "  'closing_reason': None,\n",
       "  'closing_date': None,\n",
       "  'capacity': 1500000,\n",
       "  'short_id': '789652x1013x1',\n",
       "  'id': '868231555962961921',\n",
       "  'fee_rate': 1,\n",
       "  'node': {'alias': 'Kraken 🐙⚡',\n",
       "   'public_key': '02f1a8c87607f415c8f22c00593002775941dea48869ce23096af27b0cfdcc0b69',\n",
       "   'channels': 1338,\n",
       "   'capacity': '26742123949'}}]"
      ]
     },
     "execution_count": 14,
     "metadata": {},
     "output_type": "execute_result"
    }
   ],
   "execution_count": 14
  },
  {
   "metadata": {
    "ExecuteTime": {
     "end_time": "2024-07-03T15:56:39.834423Z",
     "start_time": "2024-07-03T15:56:39.825674Z"
    }
   },
   "cell_type": "code",
   "source": [
    "for i in r.json():\n",
    "    print(i[\"node\"][\"alias\"])"
   ],
   "id": "4cf5f0305177e3db",
   "outputs": [
    {
     "name": "stdout",
     "output_type": "stream",
     "text": [
      "LNBϟG [Hub-1]\n",
      "Connects Back\n",
      "nodistan\n",
      "CentralWankers_CLN\n",
      "LQwD-Canada\n",
      "LQwD-Canada\n",
      "LQwD-Canada\n",
      "⚡LightThisNow⚡\n",
      "the27thMONKEY\n",
      "Kraken 🐙⚡\n"
     ]
    }
   ],
   "execution_count": 15
  }
 ],
 "metadata": {
  "kernelspec": {
   "display_name": "Python 3",
   "language": "python",
   "name": "python3"
  },
  "language_info": {
   "codemirror_mode": {
    "name": "ipython",
    "version": 2
   },
   "file_extension": ".py",
   "mimetype": "text/x-python",
   "name": "python",
   "nbconvert_exporter": "python",
   "pygments_lexer": "ipython2",
   "version": "2.7.6"
  }
 },
 "nbformat": 4,
 "nbformat_minor": 5
}
