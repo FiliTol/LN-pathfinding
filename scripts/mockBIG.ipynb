{
 "cells": [
  {
   "cell_type": "code",
   "id": "initial_id",
   "metadata": {
    "collapsed": true,
    "ExecuteTime": {
     "end_time": "2024-07-07T19:21:30.211864Z",
     "start_time": "2024-07-07T19:21:27.661259Z"
    }
   },
   "source": [
    "import pandas as pd\n",
    "import pyomo.environ as pyo\n",
    "import networkx as nx\n",
    "import matplotlib.pyplot as plt\n",
    "import random\n",
    "from random import sample"
   ],
   "outputs": [],
   "execution_count": 1
  },
  {
   "metadata": {
    "ExecuteTime": {
     "end_time": "2024-07-07T19:21:30.225405Z",
     "start_time": "2024-07-07T19:21:30.215469Z"
    }
   },
   "cell_type": "code",
   "source": [
    "nodes = pd.read_pickle(\"../data/mock/mock_nodes.pkl\")\n",
    "channels = pd.read_pickle(\"../data/mock/mock_channels.pkl\")"
   ],
   "id": "7d244b47fbddebd",
   "outputs": [],
   "execution_count": 2
  },
  {
   "metadata": {
    "ExecuteTime": {
     "end_time": "2024-07-07T19:21:30.250910Z",
     "start_time": "2024-07-07T19:21:30.228917Z"
    }
   },
   "cell_type": "code",
   "source": [
    "nodes.to_csv(\"../data/mock/mock_nodes.csv\")\n",
    "channels.to_csv(\"../data/mock/mock_channels.csv\")"
   ],
   "id": "d1c3999230343e5",
   "outputs": [],
   "execution_count": 3
  },
  {
   "metadata": {
    "ExecuteTime": {
     "end_time": "2024-07-07T19:21:30.330721Z",
     "start_time": "2024-07-07T19:21:30.254377Z"
    }
   },
   "cell_type": "code",
   "source": "nodes",
   "id": "1db990212e77e5cd",
   "outputs": [
    {
     "data": {
      "text/plain": [
       "              alias addresses  \\\n",
       "pub_key                         \n",
       "GPBGSG   GPBGSG.com         1   \n",
       "ZMAHVA   ZMAHVA.com         1   \n",
       "ARFUZV   ARFUZV.com         1   \n",
       "ZVMBLR   ZVMBLR.com         1   \n",
       "SQURSN   SQURSN.com         1   \n",
       "TMETCQ   TMETCQ.com         1   \n",
       "LRUSDV   LRUSDV.com         1   \n",
       "HIBUMN   HIBUMN.com         1   \n",
       "ZHSUSU   ZHSUSU.com         1   \n",
       "BBSRQT   BBSRQT.com         1   \n",
       "QHHTIP   QHHTIP.com         1   \n",
       "SZHMET   SZHMET.com         1   \n",
       "BSQAGE   BSQAGE.com         1   \n",
       "VBNVLH   VBNVLH.com         1   \n",
       "MCBADS   MCBADS.com         1   \n",
       "HHHQQM   HHHQQM.com         1   \n",
       "GPOTBG   GPOTBG.com         1   \n",
       "GMOEUE   GMOEUE.com         1   \n",
       "ECADQA   ECADQA.com         1   \n",
       "OPEPRQ   OPEPRQ.com         1   \n",
       "NVTDEO   NVTDEO.com         1   \n",
       "LDVOCG   LDVOCG.com         1   \n",
       "EPCHBS   EPCHBS.com         1   \n",
       "LRSDEI   LRSDEI.com         1   \n",
       "PRTNLT   PRTNLT.com         1   \n",
       "VUARUC   VUARUC.com         1   \n",
       "GBVDIP   GBVDIP.com         1   \n",
       "BGRTDL   BGRTDL.com         1   \n",
       "HTHLZO   HTHLZO.com         1   \n",
       "GLUVUH   GLUVUH.com         1   \n",
       "\n",
       "                                         outgoing_channels  \\\n",
       "pub_key                                                      \n",
       "GPBGSG   [006439780006730216, 329544070038057061, 91468...   \n",
       "ZMAHVA            [422771696583045183, 303549289660800317]   \n",
       "ARFUZV   [466362424342743057, 258368889645855165, 98909...   \n",
       "ZVMBLR   [388568654289184442, 957504866265573325, 23824...   \n",
       "SQURSN            [827793713354708434, 575385006423269297]   \n",
       "TMETCQ   [388568654289184442, 313991289014896473, 11546...   \n",
       "LRUSDV   [679107110191841667, 162738838273924784, 00695...   \n",
       "HIBUMN   [566119565343320227, 261040205181194767, 38282...   \n",
       "ZHSUSU   [806021015350589167, 694864624705224851, 51836...   \n",
       "BBSRQT   [509629907370860399, 732811954638785410, 08158...   \n",
       "QHHTIP   [011722002092087151, 313991289014896473, 58571...   \n",
       "SZHMET   [915756891927523405, 771536223762987937, 80602...   \n",
       "BSQAGE   [633067999152135391, 176798743964978510, 59618...   \n",
       "VBNVLH   [566119565343320227, 433240487446436154, 96154...   \n",
       "MCBADS   [184530396815462792, 163209919128842789, 01096...   \n",
       "HHHQQM   [242144886449035930, 694864624705224851, 74405...   \n",
       "GPOTBG                                [006956148336906485]   \n",
       "GMOEUE   [965236521774206983, 261040205181194767, 23144...   \n",
       "ECADQA   [509629907370860399, 760465890205358650, 67910...   \n",
       "OPEPRQ            [977492784906179181, 800640089827250838]   \n",
       "NVTDEO   [509287029307734449, 732811954638785410, 18453...   \n",
       "LDVOCG   [011722002092087151, 433240487446436154, 17579...   \n",
       "EPCHBS   [176798743964978510, 961544891204846015, 53320...   \n",
       "LRSDEI   [785669618570259084, 413536745115533734, 14751...   \n",
       "PRTNLT   [175791022622366338, 422771696583045183, 11546...   \n",
       "VUARUC   [509287029307734449, 756462573807587304, 51836...   \n",
       "GBVDIP   [771536223762987937, 596185632681577250, 23229...   \n",
       "BGRTDL   [915756891927523405, 965236521774206983, 95750...   \n",
       "HTHLZO   [633067999152135391, 325109199965391629, 07298...   \n",
       "GLUVUH   [760465890205358650, 517246680661774138, 25836...   \n",
       "\n",
       "                                         incoming_channels  \n",
       "pub_key                                                     \n",
       "GPBGSG   [INV006439780006730216, INV329544070038057061,...  \n",
       "ZMAHVA      [INV422771696583045183, INV303549289660800317]  \n",
       "ARFUZV   [INV466362424342743057, INV258368889645855165,...  \n",
       "ZVMBLR   [INV388568654289184442, INV957504866265573325,...  \n",
       "SQURSN      [INV827793713354708434, INV575385006423269297]  \n",
       "TMETCQ   [INV388568654289184442, INV313991289014896473,...  \n",
       "LRUSDV   [INV679107110191841667, INV162738838273924784,...  \n",
       "HIBUMN   [INV566119565343320227, INV261040205181194767,...  \n",
       "ZHSUSU   [INV806021015350589167, INV694864624705224851,...  \n",
       "BBSRQT   [INV509629907370860399, INV732811954638785410,...  \n",
       "QHHTIP   [INV011722002092087151, INV313991289014896473,...  \n",
       "SZHMET   [INV915756891927523405, INV771536223762987937,...  \n",
       "BSQAGE   [INV633067999152135391, INV176798743964978510,...  \n",
       "VBNVLH   [INV566119565343320227, INV433240487446436154,...  \n",
       "MCBADS   [INV184530396815462792, INV163209919128842789,...  \n",
       "HHHQQM   [INV242144886449035930, INV694864624705224851,...  \n",
       "GPOTBG                             [INV006956148336906485]  \n",
       "GMOEUE   [INV965236521774206983, INV261040205181194767,...  \n",
       "ECADQA   [INV509629907370860399, INV760465890205358650,...  \n",
       "OPEPRQ      [INV977492784906179181, INV800640089827250838]  \n",
       "NVTDEO   [INV509287029307734449, INV732811954638785410,...  \n",
       "LDVOCG   [INV011722002092087151, INV433240487446436154,...  \n",
       "EPCHBS   [INV176798743964978510, INV961544891204846015,...  \n",
       "LRSDEI   [INV785669618570259084, INV413536745115533734,...  \n",
       "PRTNLT   [INV175791022622366338, INV422771696583045183,...  \n",
       "VUARUC   [INV509287029307734449, INV756462573807587304,...  \n",
       "GBVDIP   [INV771536223762987937, INV596185632681577250,...  \n",
       "BGRTDL   [INV915756891927523405, INV965236521774206983,...  \n",
       "HTHLZO   [INV633067999152135391, INV325109199965391629,...  \n",
       "GLUVUH   [INV760465890205358650, INV517246680661774138,...  "
      ],
      "text/html": [
       "<div>\n",
       "<style scoped>\n",
       "    .dataframe tbody tr th:only-of-type {\n",
       "        vertical-align: middle;\n",
       "    }\n",
       "\n",
       "    .dataframe tbody tr th {\n",
       "        vertical-align: top;\n",
       "    }\n",
       "\n",
       "    .dataframe thead th {\n",
       "        text-align: right;\n",
       "    }\n",
       "</style>\n",
       "<table border=\"1\" class=\"dataframe\">\n",
       "  <thead>\n",
       "    <tr style=\"text-align: right;\">\n",
       "      <th></th>\n",
       "      <th>alias</th>\n",
       "      <th>addresses</th>\n",
       "      <th>outgoing_channels</th>\n",
       "      <th>incoming_channels</th>\n",
       "    </tr>\n",
       "    <tr>\n",
       "      <th>pub_key</th>\n",
       "      <th></th>\n",
       "      <th></th>\n",
       "      <th></th>\n",
       "      <th></th>\n",
       "    </tr>\n",
       "  </thead>\n",
       "  <tbody>\n",
       "    <tr>\n",
       "      <th>GPBGSG</th>\n",
       "      <td>GPBGSG.com</td>\n",
       "      <td>1</td>\n",
       "      <td>[006439780006730216, 329544070038057061, 91468...</td>\n",
       "      <td>[INV006439780006730216, INV329544070038057061,...</td>\n",
       "    </tr>\n",
       "    <tr>\n",
       "      <th>ZMAHVA</th>\n",
       "      <td>ZMAHVA.com</td>\n",
       "      <td>1</td>\n",
       "      <td>[422771696583045183, 303549289660800317]</td>\n",
       "      <td>[INV422771696583045183, INV303549289660800317]</td>\n",
       "    </tr>\n",
       "    <tr>\n",
       "      <th>ARFUZV</th>\n",
       "      <td>ARFUZV.com</td>\n",
       "      <td>1</td>\n",
       "      <td>[466362424342743057, 258368889645855165, 98909...</td>\n",
       "      <td>[INV466362424342743057, INV258368889645855165,...</td>\n",
       "    </tr>\n",
       "    <tr>\n",
       "      <th>ZVMBLR</th>\n",
       "      <td>ZVMBLR.com</td>\n",
       "      <td>1</td>\n",
       "      <td>[388568654289184442, 957504866265573325, 23824...</td>\n",
       "      <td>[INV388568654289184442, INV957504866265573325,...</td>\n",
       "    </tr>\n",
       "    <tr>\n",
       "      <th>SQURSN</th>\n",
       "      <td>SQURSN.com</td>\n",
       "      <td>1</td>\n",
       "      <td>[827793713354708434, 575385006423269297]</td>\n",
       "      <td>[INV827793713354708434, INV575385006423269297]</td>\n",
       "    </tr>\n",
       "    <tr>\n",
       "      <th>TMETCQ</th>\n",
       "      <td>TMETCQ.com</td>\n",
       "      <td>1</td>\n",
       "      <td>[388568654289184442, 313991289014896473, 11546...</td>\n",
       "      <td>[INV388568654289184442, INV313991289014896473,...</td>\n",
       "    </tr>\n",
       "    <tr>\n",
       "      <th>LRUSDV</th>\n",
       "      <td>LRUSDV.com</td>\n",
       "      <td>1</td>\n",
       "      <td>[679107110191841667, 162738838273924784, 00695...</td>\n",
       "      <td>[INV679107110191841667, INV162738838273924784,...</td>\n",
       "    </tr>\n",
       "    <tr>\n",
       "      <th>HIBUMN</th>\n",
       "      <td>HIBUMN.com</td>\n",
       "      <td>1</td>\n",
       "      <td>[566119565343320227, 261040205181194767, 38282...</td>\n",
       "      <td>[INV566119565343320227, INV261040205181194767,...</td>\n",
       "    </tr>\n",
       "    <tr>\n",
       "      <th>ZHSUSU</th>\n",
       "      <td>ZHSUSU.com</td>\n",
       "      <td>1</td>\n",
       "      <td>[806021015350589167, 694864624705224851, 51836...</td>\n",
       "      <td>[INV806021015350589167, INV694864624705224851,...</td>\n",
       "    </tr>\n",
       "    <tr>\n",
       "      <th>BBSRQT</th>\n",
       "      <td>BBSRQT.com</td>\n",
       "      <td>1</td>\n",
       "      <td>[509629907370860399, 732811954638785410, 08158...</td>\n",
       "      <td>[INV509629907370860399, INV732811954638785410,...</td>\n",
       "    </tr>\n",
       "    <tr>\n",
       "      <th>QHHTIP</th>\n",
       "      <td>QHHTIP.com</td>\n",
       "      <td>1</td>\n",
       "      <td>[011722002092087151, 313991289014896473, 58571...</td>\n",
       "      <td>[INV011722002092087151, INV313991289014896473,...</td>\n",
       "    </tr>\n",
       "    <tr>\n",
       "      <th>SZHMET</th>\n",
       "      <td>SZHMET.com</td>\n",
       "      <td>1</td>\n",
       "      <td>[915756891927523405, 771536223762987937, 80602...</td>\n",
       "      <td>[INV915756891927523405, INV771536223762987937,...</td>\n",
       "    </tr>\n",
       "    <tr>\n",
       "      <th>BSQAGE</th>\n",
       "      <td>BSQAGE.com</td>\n",
       "      <td>1</td>\n",
       "      <td>[633067999152135391, 176798743964978510, 59618...</td>\n",
       "      <td>[INV633067999152135391, INV176798743964978510,...</td>\n",
       "    </tr>\n",
       "    <tr>\n",
       "      <th>VBNVLH</th>\n",
       "      <td>VBNVLH.com</td>\n",
       "      <td>1</td>\n",
       "      <td>[566119565343320227, 433240487446436154, 96154...</td>\n",
       "      <td>[INV566119565343320227, INV433240487446436154,...</td>\n",
       "    </tr>\n",
       "    <tr>\n",
       "      <th>MCBADS</th>\n",
       "      <td>MCBADS.com</td>\n",
       "      <td>1</td>\n",
       "      <td>[184530396815462792, 163209919128842789, 01096...</td>\n",
       "      <td>[INV184530396815462792, INV163209919128842789,...</td>\n",
       "    </tr>\n",
       "    <tr>\n",
       "      <th>HHHQQM</th>\n",
       "      <td>HHHQQM.com</td>\n",
       "      <td>1</td>\n",
       "      <td>[242144886449035930, 694864624705224851, 74405...</td>\n",
       "      <td>[INV242144886449035930, INV694864624705224851,...</td>\n",
       "    </tr>\n",
       "    <tr>\n",
       "      <th>GPOTBG</th>\n",
       "      <td>GPOTBG.com</td>\n",
       "      <td>1</td>\n",
       "      <td>[006956148336906485]</td>\n",
       "      <td>[INV006956148336906485]</td>\n",
       "    </tr>\n",
       "    <tr>\n",
       "      <th>GMOEUE</th>\n",
       "      <td>GMOEUE.com</td>\n",
       "      <td>1</td>\n",
       "      <td>[965236521774206983, 261040205181194767, 23144...</td>\n",
       "      <td>[INV965236521774206983, INV261040205181194767,...</td>\n",
       "    </tr>\n",
       "    <tr>\n",
       "      <th>ECADQA</th>\n",
       "      <td>ECADQA.com</td>\n",
       "      <td>1</td>\n",
       "      <td>[509629907370860399, 760465890205358650, 67910...</td>\n",
       "      <td>[INV509629907370860399, INV760465890205358650,...</td>\n",
       "    </tr>\n",
       "    <tr>\n",
       "      <th>OPEPRQ</th>\n",
       "      <td>OPEPRQ.com</td>\n",
       "      <td>1</td>\n",
       "      <td>[977492784906179181, 800640089827250838]</td>\n",
       "      <td>[INV977492784906179181, INV800640089827250838]</td>\n",
       "    </tr>\n",
       "    <tr>\n",
       "      <th>NVTDEO</th>\n",
       "      <td>NVTDEO.com</td>\n",
       "      <td>1</td>\n",
       "      <td>[509287029307734449, 732811954638785410, 18453...</td>\n",
       "      <td>[INV509287029307734449, INV732811954638785410,...</td>\n",
       "    </tr>\n",
       "    <tr>\n",
       "      <th>LDVOCG</th>\n",
       "      <td>LDVOCG.com</td>\n",
       "      <td>1</td>\n",
       "      <td>[011722002092087151, 433240487446436154, 17579...</td>\n",
       "      <td>[INV011722002092087151, INV433240487446436154,...</td>\n",
       "    </tr>\n",
       "    <tr>\n",
       "      <th>EPCHBS</th>\n",
       "      <td>EPCHBS.com</td>\n",
       "      <td>1</td>\n",
       "      <td>[176798743964978510, 961544891204846015, 53320...</td>\n",
       "      <td>[INV176798743964978510, INV961544891204846015,...</td>\n",
       "    </tr>\n",
       "    <tr>\n",
       "      <th>LRSDEI</th>\n",
       "      <td>LRSDEI.com</td>\n",
       "      <td>1</td>\n",
       "      <td>[785669618570259084, 413536745115533734, 14751...</td>\n",
       "      <td>[INV785669618570259084, INV413536745115533734,...</td>\n",
       "    </tr>\n",
       "    <tr>\n",
       "      <th>PRTNLT</th>\n",
       "      <td>PRTNLT.com</td>\n",
       "      <td>1</td>\n",
       "      <td>[175791022622366338, 422771696583045183, 11546...</td>\n",
       "      <td>[INV175791022622366338, INV422771696583045183,...</td>\n",
       "    </tr>\n",
       "    <tr>\n",
       "      <th>VUARUC</th>\n",
       "      <td>VUARUC.com</td>\n",
       "      <td>1</td>\n",
       "      <td>[509287029307734449, 756462573807587304, 51836...</td>\n",
       "      <td>[INV509287029307734449, INV756462573807587304,...</td>\n",
       "    </tr>\n",
       "    <tr>\n",
       "      <th>GBVDIP</th>\n",
       "      <td>GBVDIP.com</td>\n",
       "      <td>1</td>\n",
       "      <td>[771536223762987937, 596185632681577250, 23229...</td>\n",
       "      <td>[INV771536223762987937, INV596185632681577250,...</td>\n",
       "    </tr>\n",
       "    <tr>\n",
       "      <th>BGRTDL</th>\n",
       "      <td>BGRTDL.com</td>\n",
       "      <td>1</td>\n",
       "      <td>[915756891927523405, 965236521774206983, 95750...</td>\n",
       "      <td>[INV915756891927523405, INV965236521774206983,...</td>\n",
       "    </tr>\n",
       "    <tr>\n",
       "      <th>HTHLZO</th>\n",
       "      <td>HTHLZO.com</td>\n",
       "      <td>1</td>\n",
       "      <td>[633067999152135391, 325109199965391629, 07298...</td>\n",
       "      <td>[INV633067999152135391, INV325109199965391629,...</td>\n",
       "    </tr>\n",
       "    <tr>\n",
       "      <th>GLUVUH</th>\n",
       "      <td>GLUVUH.com</td>\n",
       "      <td>1</td>\n",
       "      <td>[760465890205358650, 517246680661774138, 25836...</td>\n",
       "      <td>[INV760465890205358650, INV517246680661774138,...</td>\n",
       "    </tr>\n",
       "  </tbody>\n",
       "</table>\n",
       "</div>"
      ]
     },
     "execution_count": 4,
     "metadata": {},
     "output_type": "execute_result"
    }
   ],
   "execution_count": 4
  },
  {
   "metadata": {
    "ExecuteTime": {
     "end_time": "2024-07-07T19:21:30.364865Z",
     "start_time": "2024-07-07T19:21:30.337554Z"
    }
   },
   "cell_type": "code",
   "source": "channels",
   "id": "e162c7a4f67d7b60",
   "outputs": [
    {
     "data": {
      "text/plain": [
       "                      node1_pub node2_pub capacity  base_fee  rate_fee\n",
       "channel_id                                                            \n",
       "011722002092087151       QHHTIP    LDVOCG  6539988     0.432  0.000003\n",
       "388568654289184442       TMETCQ    ZVMBLR  2836676     0.641  0.000005\n",
       "566119565343320227       HIBUMN    VBNVLH  5672156     0.533  0.000007\n",
       "509287029307734449       NVTDEO    VUARUC  9942924     0.090  0.000000\n",
       "915756891927523405       BGRTDL    SZHMET   749634     0.674  0.000006\n",
       "...                         ...       ...      ...       ...       ...\n",
       "INV635492237278432750    MCBADS    ECADQA  2293367     0.145  0.000001\n",
       "INV802535800599400157    GMOEUE    BBSRQT  9856064     0.245  0.000007\n",
       "INV816973451576453147    SZHMET    LRSDEI  7544427     0.050  0.000002\n",
       "INV581326294716933774    LRUSDV    NVTDEO  7924540     0.214  0.000006\n",
       "INV813112343440620445    PRTNLT    ECADQA  2542293     0.795  0.000000\n",
       "\n",
       "[200 rows x 5 columns]"
      ],
      "text/html": [
       "<div>\n",
       "<style scoped>\n",
       "    .dataframe tbody tr th:only-of-type {\n",
       "        vertical-align: middle;\n",
       "    }\n",
       "\n",
       "    .dataframe tbody tr th {\n",
       "        vertical-align: top;\n",
       "    }\n",
       "\n",
       "    .dataframe thead th {\n",
       "        text-align: right;\n",
       "    }\n",
       "</style>\n",
       "<table border=\"1\" class=\"dataframe\">\n",
       "  <thead>\n",
       "    <tr style=\"text-align: right;\">\n",
       "      <th></th>\n",
       "      <th>node1_pub</th>\n",
       "      <th>node2_pub</th>\n",
       "      <th>capacity</th>\n",
       "      <th>base_fee</th>\n",
       "      <th>rate_fee</th>\n",
       "    </tr>\n",
       "    <tr>\n",
       "      <th>channel_id</th>\n",
       "      <th></th>\n",
       "      <th></th>\n",
       "      <th></th>\n",
       "      <th></th>\n",
       "      <th></th>\n",
       "    </tr>\n",
       "  </thead>\n",
       "  <tbody>\n",
       "    <tr>\n",
       "      <th>011722002092087151</th>\n",
       "      <td>QHHTIP</td>\n",
       "      <td>LDVOCG</td>\n",
       "      <td>6539988</td>\n",
       "      <td>0.432</td>\n",
       "      <td>0.000003</td>\n",
       "    </tr>\n",
       "    <tr>\n",
       "      <th>388568654289184442</th>\n",
       "      <td>TMETCQ</td>\n",
       "      <td>ZVMBLR</td>\n",
       "      <td>2836676</td>\n",
       "      <td>0.641</td>\n",
       "      <td>0.000005</td>\n",
       "    </tr>\n",
       "    <tr>\n",
       "      <th>566119565343320227</th>\n",
       "      <td>HIBUMN</td>\n",
       "      <td>VBNVLH</td>\n",
       "      <td>5672156</td>\n",
       "      <td>0.533</td>\n",
       "      <td>0.000007</td>\n",
       "    </tr>\n",
       "    <tr>\n",
       "      <th>509287029307734449</th>\n",
       "      <td>NVTDEO</td>\n",
       "      <td>VUARUC</td>\n",
       "      <td>9942924</td>\n",
       "      <td>0.090</td>\n",
       "      <td>0.000000</td>\n",
       "    </tr>\n",
       "    <tr>\n",
       "      <th>915756891927523405</th>\n",
       "      <td>BGRTDL</td>\n",
       "      <td>SZHMET</td>\n",
       "      <td>749634</td>\n",
       "      <td>0.674</td>\n",
       "      <td>0.000006</td>\n",
       "    </tr>\n",
       "    <tr>\n",
       "      <th>...</th>\n",
       "      <td>...</td>\n",
       "      <td>...</td>\n",
       "      <td>...</td>\n",
       "      <td>...</td>\n",
       "      <td>...</td>\n",
       "    </tr>\n",
       "    <tr>\n",
       "      <th>INV635492237278432750</th>\n",
       "      <td>MCBADS</td>\n",
       "      <td>ECADQA</td>\n",
       "      <td>2293367</td>\n",
       "      <td>0.145</td>\n",
       "      <td>0.000001</td>\n",
       "    </tr>\n",
       "    <tr>\n",
       "      <th>INV802535800599400157</th>\n",
       "      <td>GMOEUE</td>\n",
       "      <td>BBSRQT</td>\n",
       "      <td>9856064</td>\n",
       "      <td>0.245</td>\n",
       "      <td>0.000007</td>\n",
       "    </tr>\n",
       "    <tr>\n",
       "      <th>INV816973451576453147</th>\n",
       "      <td>SZHMET</td>\n",
       "      <td>LRSDEI</td>\n",
       "      <td>7544427</td>\n",
       "      <td>0.050</td>\n",
       "      <td>0.000002</td>\n",
       "    </tr>\n",
       "    <tr>\n",
       "      <th>INV581326294716933774</th>\n",
       "      <td>LRUSDV</td>\n",
       "      <td>NVTDEO</td>\n",
       "      <td>7924540</td>\n",
       "      <td>0.214</td>\n",
       "      <td>0.000006</td>\n",
       "    </tr>\n",
       "    <tr>\n",
       "      <th>INV813112343440620445</th>\n",
       "      <td>PRTNLT</td>\n",
       "      <td>ECADQA</td>\n",
       "      <td>2542293</td>\n",
       "      <td>0.795</td>\n",
       "      <td>0.000000</td>\n",
       "    </tr>\n",
       "  </tbody>\n",
       "</table>\n",
       "<p>200 rows × 5 columns</p>\n",
       "</div>"
      ]
     },
     "execution_count": 5,
     "metadata": {},
     "output_type": "execute_result"
    }
   ],
   "execution_count": 5
  },
  {
   "metadata": {
    "ExecuteTime": {
     "end_time": "2024-07-07T19:21:30.389763Z",
     "start_time": "2024-07-07T19:21:30.367391Z"
    }
   },
   "cell_type": "code",
   "source": [
    "## Note that the following are arbitrary policies, that can be changed as needed.\n",
    "## Deal with multi-edges (aka multiple channels between two peers):\n",
    "## - average rate fee\n",
    "## - average base fee,\n",
    "## - average capacity\n",
    "## - keep one of the two channel ids\n",
    "aggregation_dict = {\n",
    "    \"channel_id\": \"first\",\n",
    "    \"rate_fee\": \"mean\",\n",
    "    \"base_fee\": \"mean\",\n",
    "    \"capacity\": \"sum\"\n",
    "}\n",
    "channels.reset_index(inplace=True)\n",
    "channels = channels.groupby([\"node1_pub\", \"node2_pub\"]).agg(aggregation_dict)\n",
    "channels.reset_index(inplace=True)\n",
    "channels.set_index(\"channel_id\", inplace=True)"
   ],
   "id": "176755c28b47adad",
   "outputs": [],
   "execution_count": 6
  },
  {
   "metadata": {
    "ExecuteTime": {
     "end_time": "2024-07-07T19:21:30.415762Z",
     "start_time": "2024-07-07T19:21:30.393360Z"
    }
   },
   "cell_type": "code",
   "source": [
    "## To delete from [outgoing] and [incoming] lists the multi-edge\n",
    "for i in nodes.index:\n",
    "    chan = []\n",
    "    for l in nodes.loc[i, \"outgoing_channels\"]:\n",
    "        if l in channels.index:\n",
    "            chan.append(l)\n",
    "    nodes.at[i, \"outgoing_channels\"] = chan\n",
    "\n",
    "for i in nodes.index:\n",
    "    chan = []\n",
    "    for l in nodes.loc[i, \"incoming_channels\"]:\n",
    "        if l in channels.index:\n",
    "            chan.append(l)\n",
    "    nodes.at[i, \"incoming_channels\"] = chan\n"
   ],
   "id": "cdc1a122dd8b924c",
   "outputs": [],
   "execution_count": 7
  },
  {
   "metadata": {
    "ExecuteTime": {
     "end_time": "2024-07-07T19:21:30.425522Z",
     "start_time": "2024-07-07T19:21:30.419142Z"
    }
   },
   "cell_type": "code",
   "source": [
    "#for i in nodes.index:\n",
    "#    chan = []\n",
    "#    for l in nodes.loc[i, \"incoming_channels\"]:\n",
    "#        if l in channels.index:\n",
    "#            chan.append(l)\n",
    "#    print(f\"Original: {nodes.loc[i, 'incoming_channels']}\")\n",
    "#    print(f\"New:      {chan}\")\n",
    "#    print()"
   ],
   "id": "38f71518128d9dd0",
   "outputs": [],
   "execution_count": 8
  },
  {
   "metadata": {
    "ExecuteTime": {
     "end_time": "2024-07-07T19:21:34.026867Z",
     "start_time": "2024-07-07T19:21:30.428773Z"
    }
   },
   "cell_type": "code",
   "source": [
    "nodes.reset_index(inplace=True)\n",
    "G = nx.DiGraph()\n",
    "\n",
    "# Add nodes to the graph\n",
    "for _, node in nodes.iterrows():\n",
    "    G.add_node(node['pub_key'], alias=node['alias'])\n",
    "\n",
    "# Add edges to the graph\n",
    "for _, edge in channels.iterrows():\n",
    "    G.add_edge(edge['node1_pub'], edge['node2_pub'], capacity=edge['capacity'], base_fee=edge['base_fee'], perc_fee=edge['rate_fee'])\n",
    "\n",
    "# Draw the graph\n",
    "pos = nx.spring_layout(G)  # positions for all nodes\n",
    "nx.draw(G, pos, with_labels=True, node_size=2000, node_color='skyblue', font_size=10, font_color='black', font_weight='bold')\n",
    "\n",
    "# Add edge labels\n",
    "edge_labels = {(u, v): f\"{d['capacity']}\" for u, v, d in G.edges(data=True)}\n",
    "nx.draw_networkx_edge_labels(G, pos, edge_labels=edge_labels)\n",
    "\n",
    "plt.title('Network Graph')\n",
    "plt.show()\n",
    "nodes.set_index(\"pub_key\", inplace=True)"
   ],
   "id": "9bfb7dc6c3025508",
   "outputs": [
    {
     "data": {
      "text/plain": [
       "<Figure size 640x480 with 1 Axes>"
      ],
      "image/png": "[encoded data removed]"
     },
     "metadata": {},
     "output_type": "display_data"
    }
   ],
   "execution_count": 9
  },
  {
   "metadata": {
    "ExecuteTime": {
     "end_time": "2024-07-07T19:21:34.049081Z",
     "start_time": "2024-07-07T19:21:34.029598Z"
    }
   },
   "cell_type": "code",
   "source": [
    "model = pyo.ConcreteModel(name=\"Min cost flow problem\")\n",
    "model.NODES = pyo.Set(initialize=nodes.index)\n",
    "#model.CHANNELS = pyo.Set(initialize=channels.index)\n",
    "model.CHANNELS = pyo.Set(initialize=[(channels.loc[i, \"node1_pub\"], channels.loc[i, \"node2_pub\"]) for i in channels.index])"
   ],
   "id": "ea3d0db7f7e46b7d",
   "outputs": [],
   "execution_count": 10
  },
  {
   "metadata": {
    "ExecuteTime": {
     "end_time": "2024-07-07T19:21:34.091939Z",
     "start_time": "2024-07-07T19:21:34.052801Z"
    }
   },
   "cell_type": "code",
   "source": [
    "model.x = pyo.Var(model.CHANNELS, domain=pyo.Binary)\n",
    "model.a = pyo.Var(model.CHANNELS, domain=pyo.NonNegativeReals)"
   ],
   "id": "ce35b6e7912339a4",
   "outputs": [],
   "execution_count": 11
  },
  {
   "metadata": {
    "ExecuteTime": {
     "end_time": "2024-07-07T19:21:34.105182Z",
     "start_time": "2024-07-07T19:21:34.094524Z"
    }
   },
   "cell_type": "code",
   "source": [
    "channels.reset_index(inplace=True)\n",
    "channels.set_index([\"node1_pub\", \"node2_pub\"], inplace=True)\n",
    "channels.sort_index(inplace=True)"
   ],
   "id": "53da0ddf773f3686",
   "outputs": [],
   "execution_count": 12
  },
  {
   "metadata": {
    "ExecuteTime": {
     "end_time": "2024-07-07T19:21:34.159925Z",
     "start_time": "2024-07-07T19:21:34.108082Z"
    }
   },
   "cell_type": "code",
   "source": [
    "def objective_function(model: pyo.ConcreteModel):\n",
    "    return sum(model.a[i] * channels.loc[i, \"rate_fee\"] for i in model.CHANNELS) + sum(model.x[i] * channels.loc[i, \"base_fee\"] for i in model.CHANNELS)\n",
    "\n",
    "#def objective_function(model: pyo.ConcreteModel):\n",
    "#    return sum(model.a[i] * channels.loc[i, \"rate_fee\"] for i in model.CHANNELS)\n",
    "\n",
    "model.totalCost = pyo.Objective(rule=objective_function(model), sense=pyo.minimize)"
   ],
   "id": "337e984db9df0f3d",
   "outputs": [],
   "execution_count": 13
  },
  {
   "metadata": {
    "ExecuteTime": {
     "end_time": "2024-07-07T19:21:34.203701Z",
     "start_time": "2024-07-07T19:21:34.167496Z"
    }
   },
   "cell_type": "code",
   "source": [
    "def capacity_constraint(model: pyo.ConcreteModel, a, b):\n",
    "    return model.a[(a, b)] <=  channels.loc[(a, b), \"capacity\"] * model.x[(a, b)]\n",
    "\n",
    "model.CapacityConstraint = pyo.Constraint(model.CHANNELS, rule=capacity_constraint, name=\"Capacity constraint\")"
   ],
   "id": "9c928570a17fd77b",
   "outputs": [],
   "execution_count": 14
  },
  {
   "metadata": {
    "ExecuteTime": {
     "end_time": "2024-07-07T19:21:34.218425Z",
     "start_time": "2024-07-07T19:21:34.207452Z"
    }
   },
   "cell_type": "code",
   "source": [
    "def create_demand(pd_object: pd.DataFrame) -> pd.DataFrame:\n",
    "    \"\"\"\n",
    "    This function assigns the role of sender and receiver to\n",
    "    two random nodes in the network\n",
    "    :param pd_object: nodes dataframe\n",
    "    :return: nodes dataset with demand column\n",
    "    \"\"\"\n",
    "    random.seed(874631)\n",
    "    counterparties = sample(pd_object.index.to_list(), 2)\n",
    "    sender = counterparties[0]\n",
    "    receiver = counterparties[1]\n",
    "    # Amounts in millisat (aka 10'000'000 is 10'000 sats)\n",
    "    amount = 100000 #random.randint(a=10000000, b=30000000)\n",
    "\n",
    "    print(\n",
    "        f\"Transaction of {amount} sats from {pd_object[pd_object.index == sender]['alias'].item()} to {pd_object[pd_object.index == receiver]['alias'].item()}.\")\n",
    "\n",
    "    pd_object[\"demand\"] = 0\n",
    "    pd_object.loc[pd_object.index == sender, \"demand\"] = -amount\n",
    "    pd_object.loc[pd_object.index == receiver, \"demand\"] = amount\n",
    "\n",
    "    return pd_object"
   ],
   "id": "6b872bc10d3ef302",
   "outputs": [],
   "execution_count": 15
  },
  {
   "metadata": {
    "ExecuteTime": {
     "end_time": "2024-07-07T19:21:34.235987Z",
     "start_time": "2024-07-07T19:21:34.221252Z"
    }
   },
   "cell_type": "code",
   "source": "nodes = create_demand(nodes)",
   "id": "2a87fc8e266b6c38",
   "outputs": [
    {
     "name": "stdout",
     "output_type": "stream",
     "text": [
      "Transaction of 100000 sats from TMETCQ.com to ZHSUSU.com.\n"
     ]
    }
   ],
   "execution_count": 16
  },
  {
   "metadata": {
    "ExecuteTime": {
     "end_time": "2024-07-07T19:21:34.246898Z",
     "start_time": "2024-07-07T19:21:34.238511Z"
    }
   },
   "cell_type": "code",
   "source": [
    "#channels.reset_index(inplace=True)\n",
    "#channels.set_index(\"channel_id\", inplace=True)\n",
    "#for n in nodes.index:\n",
    "#    for c in nodes.loc[n, \"incoming_channels\"]:\n",
    "#        node1, node2 = channels.loc[c, \"node1_pub\"], channels.loc[c, \"node2_pub\"]\n",
    "#        print(node1, node2)\n",
    "#\n",
    "#channels.reset_index(inplace=True)\n",
    "#channels.set_index([\"node1_pub\", \"node2_pub\"], inplace=True)\n",
    "#channels.sort_index(inplace=True)        "
   ],
   "id": "8b4c9a19baea0101",
   "outputs": [],
   "execution_count": 17
  },
  {
   "metadata": {
    "ExecuteTime": {
     "end_time": "2024-07-07T19:21:34.289699Z",
     "start_time": "2024-07-07T19:21:34.250580Z"
    }
   },
   "cell_type": "code",
   "source": [
    "channels.reset_index(inplace=True)\n",
    "channels.set_index(\"channel_id\", inplace=True)\n",
    "\n",
    "def flow_balance_constraint(model: pyo.ConcreteModel, n: str):\n",
    "    return sum(model.a[(channels.loc[a, \"node1_pub\"], channels.loc[a, \"node2_pub\"])] for a in nodes.loc[n, 'incoming_channels']) - sum(model.a[(channels.loc[a, \"node1_pub\"], channels.loc[a, \"node2_pub\"])] for a in nodes.loc[n, 'outgoing_channels']) == nodes.loc[n, \"demand\"]\n",
    "\n",
    "model.FlowBalanceConstraint = pyo.Constraint(model.NODES, rule=flow_balance_constraint, name=\"Flow balance constrain\")\n",
    "\n",
    "channels.reset_index(inplace=True)\n",
    "channels.set_index([\"node1_pub\", \"node2_pub\"], inplace=True)\n",
    "channels.sort_index(inplace=True)        "
   ],
   "id": "1c20ce38e84130fd",
   "outputs": [],
   "execution_count": 18
  },
  {
   "metadata": {
    "ExecuteTime": {
     "end_time": "2024-07-07T19:21:34.440138Z",
     "start_time": "2024-07-07T19:21:34.292008Z"
    }
   },
   "cell_type": "code",
   "source": [
    "opt = pyo.SolverFactory('cbc')\n",
    "results = opt.solve(model, tee=True)\n",
    "\n",
    "if (results.solver.status == pyo.SolverStatus.ok) and (results.solver.termination_condition == pyo.TerminationCondition.optimal):\n",
    "    print('\\nOptimal solution found')\n",
    "elif results.solver.termination_condition == pyo.TerminationCondition.feasible:\n",
    "    print('\\nFeasible but not proven optimal solution found')\n",
    "elif results.solver.termination_condition == pyo.TerminationCondition.infeasible:\n",
    "    raise Exception(\"The model is infeasible\")\n",
    "else:\n",
    "    print('\\nSolver Status: ',  results.solver.status)\n",
    "    raise Exception(results.solver.status)\n",
    "\n",
    "print('\\nObject function value = ', model.Objective())\n",
    "\n"
   ],
   "id": "85d248c15c8cd37b",
   "outputs": [
    {
     "name": "stdout",
     "output_type": "stream",
     "text": [
      "Welcome to the CBC MILP Solver \n",
      "Version: 2.10.8 \n",
      "Build Date: May  9 2022 \n",
      "\n",
      "command line - /usr/bin/cbc -printingOptions all -import /tmp/tmp645dtmjo.pyomo.lp -stat=1 -solve -solu /tmp/tmp645dtmjo.pyomo.soln (default strategy 1)\n",
      "Option for printingOptions changed from normal to all\n",
      "Presolve 207 (-1) rows, 355 (-1) columns and 708 (-4) elements\n",
      "Statistics for presolved model\n",
      "Original problem has 178 integers (178 of which binary)\n",
      "Presolved problem has 178 integers (178 of which binary)\n",
      "==== 13 zero objective 177 different\n",
      "==== absolute objective values 177 different\n",
      "==== for integers 0 zero objective 160 different\n",
      "==== for integers absolute objective values 160 different\n",
      "===== end objective counts\n",
      "\n",
      "\n",
      "Problem has 207 rows, 355 columns (342 with objective) and 708 elements\n",
      "There are 178 singletons with objective \n",
      "Column breakdown:\n",
      "177 of type 0.0->inf, 0 of type 0.0->up, 0 of type lo->inf, \n",
      "0 of type lo->up, 0 of type free, 0 of type fixed, \n",
      "0 of type -inf->0.0, 0 of type -inf->up, 178 of type 0.0->1.0 \n",
      "Row breakdown:\n",
      "27 of type E 0.0, 0 of type E 1.0, 0 of type E -1.0, \n",
      "2 of type E other, 0 of type G 0.0, 0 of type G 1.0, \n",
      "0 of type G other, 178 of type L 0.0, 0 of type L 1.0, \n",
      "0 of type L other, 0 of type Range 0.0->1.0, 0 of type Range other, \n",
      "0 of type Free \n",
      "Continuous objective value is 0.789851 - 0.00 seconds\n",
      "Cgl0003I 0 fixed, 0 tightened bounds, 4 strengthened rows, 0 substitutions\n",
      "Cgl0004I processed model has 205 rows, 352 columns (176 integer (176 of which binary)) and 704 elements\n",
      "Cbc0038I Initial state - 4 integers unsatisfied sum - 0.326459\n",
      "Cbc0038I Pass   1: suminf.    0.06627 (4) obj. 1.69233 iterations 15\n",
      "Cbc0038I Solution found of 4.155\n",
      "Cbc0038I Relaxing continuous gives 4.155\n",
      "Cbc0038I Before mini branch and bound, 168 integers at bound fixed and 168 continuous\n",
      "Cbc0038I Full problem 205 rows 352 columns, reduced to 8 rows 9 columns\n",
      "Cbc0038I Mini branch and bound improved solution from 4.155 to 2.864 (0.02 seconds)\n",
      "Cbc0038I Round again with cutoff of 2.65658\n",
      "Cbc0038I Pass   2: suminf.    0.06627 (4) obj. 1.69233 iterations 0\n",
      "Cbc0038I Pass   3: suminf.    0.07952 (3) obj. 2.65658 iterations 19\n",
      "Cbc0038I Pass   4: suminf.    0.07952 (3) obj. 2.65658 iterations 0\n",
      "Cbc0038I Pass   5: suminf.    0.30898 (2) obj. 2.65658 iterations 2\n",
      "Cbc0038I Pass   6: suminf.    0.02803 (3) obj. 2.65658 iterations 18\n",
      "Cbc0038I Pass   7: suminf.    0.42084 (2) obj. 2.65658 iterations 21\n",
      "Cbc0038I Pass   8: suminf.    0.41095 (5) obj. 2.65658 iterations 10\n",
      "Cbc0038I Pass   9: suminf.    0.07913 (6) obj. 2.65658 iterations 25\n",
      "Cbc0038I Pass  10: suminf.    0.41095 (5) obj. 2.65658 iterations 20\n",
      "Cbc0038I Pass  11: suminf.    0.77566 (5) obj. 2.65658 iterations 21\n",
      "Cbc0038I Pass  12: suminf.    0.09414 (8) obj. 2.65658 iterations 17\n",
      "Cbc0038I Pass  13: suminf.    0.33323 (4) obj. 2.65658 iterations 7\n",
      "Cbc0038I Pass  14: suminf.    0.33323 (4) obj. 2.65658 iterations 0\n",
      "Cbc0038I Pass  15: suminf.    0.37509 (3) obj. 2.65658 iterations 39\n",
      "Cbc0038I Pass  16: suminf.    0.06619 (6) obj. 2.65658 iterations 24\n",
      "Cbc0038I Pass  17: suminf.    0.16336 (4) obj. 2.65658 iterations 28\n",
      "Cbc0038I Pass  18: suminf.    0.06966 (5) obj. 2.65658 iterations 17\n",
      "Cbc0038I Pass  19: suminf.    0.13542 (4) obj. 2.65658 iterations 20\n",
      "Cbc0038I Pass  20: suminf.    0.58299 (5) obj. 2.65658 iterations 17\n",
      "Cbc0038I Pass  21: suminf.    0.12174 (6) obj. 2.65658 iterations 1\n",
      "Cbc0038I Pass  22: suminf.    0.60356 (5) obj. 2.65658 iterations 7\n",
      "Cbc0038I Pass  23: suminf.    0.60356 (5) obj. 2.65658 iterations 4\n",
      "Cbc0038I Pass  24: suminf.    0.50710 (3) obj. 2.65658 iterations 5\n",
      "Cbc0038I Pass  25: suminf.    0.50710 (3) obj. 2.65658 iterations 0\n",
      "Cbc0038I Pass  26: suminf.    0.21323 (3) obj. 2.65658 iterations 35\n",
      "Cbc0038I Pass  27: suminf.    0.06715 (5) obj. 2.65658 iterations 14\n",
      "Cbc0038I Pass  28: suminf.    0.30782 (4) obj. 2.65658 iterations 16\n",
      "Cbc0038I Pass  29: suminf.    0.75423 (4) obj. 2.65658 iterations 13\n",
      "Cbc0038I Pass  30: suminf.    0.75423 (4) obj. 2.65658 iterations 1\n",
      "Cbc0038I Pass  31: suminf.    0.50424 (3) obj. 2.65658 iterations 3\n",
      "Cbc0038I No solution found this major pass\n",
      "Cbc0038I Before mini branch and bound, 137 integers at bound fixed and 163 continuous\n",
      "Cbc0038I Mini branch and bound did not improve solution (0.04 seconds)\n",
      "Cbc0038I After 0.04 seconds - Feasibility pump exiting with objective of 2.864 - took 0.03 seconds\n",
      "Cbc0012I Integer solution of 2.864 found by feasibility pump after 0 iterations and 0 nodes (0.04 seconds)\n",
      "Cbc0012I Integer solution of 1.445 found by DiveCoefficient after 29 iterations and 0 nodes (0.07 seconds)\n",
      "Cbc0031I 12 added rows had average density of 11.666667\n",
      "Cbc0013I At root node, 12 cuts changed objective from 0.78985148 to 1.445 in 8 passes\n",
      "Cbc0014I Cut generator 0 (Probing) - 10 row cuts average 3.1 elements, 0 column cuts (0 active)  in 0.012 seconds - new frequency is 1\n",
      "Cbc0014I Cut generator 1 (Gomory) - 4 row cuts average 16.2 elements, 0 column cuts (0 active)  in 0.001 seconds - new frequency is 1\n",
      "Cbc0014I Cut generator 2 (Knapsack) - 2 row cuts average 6.0 elements, 0 column cuts (0 active)  in 0.003 seconds - new frequency is 1\n",
      "Cbc0014I Cut generator 3 (Clique) - 0 row cuts average 0.0 elements, 0 column cuts (0 active)  in 0.000 seconds - new frequency is -100\n",
      "Cbc0014I Cut generator 4 (MixedIntegerRounding2) - 1 row cuts average 12.0 elements, 0 column cuts (0 active)  in 0.001 seconds - new frequency is 1\n",
      "Cbc0014I Cut generator 5 (FlowCover) - 1 row cuts average 6.0 elements, 0 column cuts (0 active)  in 0.001 seconds - new frequency is 1\n",
      "Cbc0014I Cut generator 6 (TwoMirCuts) - 5 row cuts average 20.8 elements, 0 column cuts (0 active)  in 0.001 seconds - new frequency is 1\n",
      "Cbc0001I Search completed - best objective 1.445, took 29 iterations and 0 nodes (0.07 seconds)\n",
      "Cbc0035I Maximum depth 0, 0 variables fixed on reduced cost\n",
      "Cuts at root node changed objective from 0.789851 to 1.445\n",
      "Probing was tried 8 times and created 10 cuts of which 0 were active after adding rounds of cuts (0.012 seconds)\n",
      "Gomory was tried 8 times and created 4 cuts of which 0 were active after adding rounds of cuts (0.001 seconds)\n",
      "Knapsack was tried 8 times and created 2 cuts of which 0 were active after adding rounds of cuts (0.003 seconds)\n",
      "Clique was tried 8 times and created 0 cuts of which 0 were active after adding rounds of cuts (0.000 seconds)\n",
      "MixedIntegerRounding2 was tried 8 times and created 1 cuts of which 0 were active after adding rounds of cuts (0.001 seconds)\n",
      "FlowCover was tried 8 times and created 1 cuts of which 0 were active after adding rounds of cuts (0.001 seconds)\n",
      "TwoMirCuts was tried 8 times and created 5 cuts of which 0 were active after adding rounds of cuts (0.001 seconds)\n",
      "ZeroHalf was tried 1 times and created 0 cuts of which 0 were active after adding rounds of cuts (0.000 seconds)\n",
      "\n",
      "Result - Optimal solution found\n",
      "\n",
      "Objective value:                1.44500000\n",
      "Enumerated nodes:               0\n",
      "Total iterations:               29\n",
      "Time (CPU seconds):             0.07\n",
      "Time (Wallclock seconds):       0.08\n",
      "\n",
      "Total time (CPU seconds):       0.08   (Wallclock seconds):       0.08\n",
      "\n",
      "\n",
      "Optimal solution found\n",
      "\n",
      "Object function value =  <pyomo.core.base.block._generic_component_decorator object at 0x7f511f2c3df0>\n"
     ]
    }
   ],
   "execution_count": 19
  },
  {
   "metadata": {
    "ExecuteTime": {
     "end_time": "2024-07-07T19:21:34.449442Z",
     "start_time": "2024-07-07T19:21:34.442545Z"
    }
   },
   "cell_type": "code",
   "source": [
    "ris = []\n",
    "for i,v in model.a.extract_values().items():\n",
    "    if v != 0:\n",
    "        ris.append((i, v))\n",
    "\n",
    "print(ris)\n"
   ],
   "id": "b36679e13fa957c2",
   "outputs": [
    {
     "name": "stdout",
     "output_type": "stream",
     "text": [
      "[(('LRUSDV', 'TMETCQ'), 100000.0), (('LRUSDV', 'ZHSUSU'), 100000.0)]\n"
     ]
    }
   ],
   "execution_count": 20
  },
  {
   "metadata": {
    "ExecuteTime": {
     "end_time": "2024-07-07T19:21:51.064061Z",
     "start_time": "2024-07-07T19:21:51.056334Z"
    }
   },
   "cell_type": "code",
   "source": [
    "ris = []\n",
    "for i,v in model.x.extract_values().items():\n",
    "    if v != 0:\n",
    "        ris.append((i, v))\n",
    "\n",
    "print(ris)"
   ],
   "id": "f31ed2533bb99628",
   "outputs": [
    {
     "name": "stdout",
     "output_type": "stream",
     "text": [
      "[(('LRUSDV', 'TMETCQ'), 1.0), (('LRUSDV', 'ZHSUSU'), 1.0)]\n"
     ]
    }
   ],
   "execution_count": 21
  }
 ],
 "metadata": {
  "kernelspec": {
   "display_name": "Python 3",
   "language": "python",
   "name": "python3"
  },
  "language_info": {
   "codemirror_mode": {
    "name": "ipython",
    "version": 2
   },
   "file_extension": ".py",
   "mimetype": "text/x-python",
   "name": "python",
   "nbconvert_exporter": "python",
   "pygments_lexer": "ipython2",
   "version": "2.7.6"
  }
 },
 "nbformat": 4,
 "nbformat_minor": 5
}
