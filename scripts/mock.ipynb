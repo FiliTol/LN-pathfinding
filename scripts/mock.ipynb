{
 "cells": [
  {
   "cell_type": "code",
   "id": "initial_id",
   "metadata": {
    "collapsed": true,
    "ExecuteTime": {
     "end_time": "2024-06-27T14:20:35.670695Z",
     "start_time": "2024-06-27T14:20:33.962524Z"
    }
   },
   "source": [
    "import pandas as pd\n",
    "import json\n",
    "import pyomo.environ as pyo\n",
    "import networkx as nx\n",
    "import matplotlib.pyplot as plt"
   ],
   "outputs": [],
   "execution_count": 1
  },
  {
   "metadata": {
    "ExecuteTime": {
     "end_time": "2024-06-27T14:20:37.115302Z",
     "start_time": "2024-06-27T14:20:37.104504Z"
    }
   },
   "cell_type": "code",
   "source": [
    "with open(\"../data/mock.json\") as f:\n",
    "    d = json.load(f)\n",
    "nodes, channels = pd.DataFrame(d[\"nodes\"]), pd.DataFrame(d[\"edges\"])"
   ],
   "id": "aa874a904e0d1f0c",
   "outputs": [],
   "execution_count": 2
  },
  {
   "metadata": {},
   "cell_type": "code",
   "source": [
    "#G = nx.DiGraph()\n",
    "#\n",
    "## Add nodes to the graph\n",
    "#for _, node in nodes.iterrows():\n",
    "#    G.add_node(node['pub_key'], alias=node['alias'])\n",
    "#\n",
    "## Add edges to the graph\n",
    "#for _, edge in channels.iterrows():\n",
    "#    G.add_edge(edge['node1_pub'], edge['node2_pub'], capacity=edge['capacity'], base_fee=edge['base_fee'], perc_fee=edge['perc_fee'])\n",
    "#\n",
    "## Draw the graph\n",
    "#pos = nx.spring_layout(G)  # positions for all nodes\n",
    "#nx.draw(G, pos, with_labels=True, node_size=2000, node_color='skyblue', font_size=10, font_color='black', font_weight='bold')\n",
    "#\n",
    "## Add edge labels\n",
    "#edge_labels = {(u, v): f\"{d['capacity']}\" for u, v, d in G.edges(data=True)}\n",
    "#nx.draw_networkx_edge_labels(G, pos, edge_labels=edge_labels)\n",
    "#\n",
    "#plt.title('Network Graph')\n",
    "#plt.show()"
   ],
   "id": "ea4d3137b364cbe9",
   "outputs": [],
   "execution_count": null
  },
  {
   "metadata": {
    "ExecuteTime": {
     "end_time": "2024-06-27T14:20:38.768697Z",
     "start_time": "2024-06-27T14:20:38.756562Z"
    }
   },
   "cell_type": "code",
   "source": [
    "channels.set_index([\"node1_pub\", \"node2_pub\"], inplace=True)\n",
    "nodes.set_index(\"pub_key\", inplace=True)"
   ],
   "id": "155796baabbfb86f",
   "outputs": [],
   "execution_count": 3
  },
  {
   "metadata": {
    "ExecuteTime": {
     "end_time": "2024-06-27T14:20:39.650715Z",
     "start_time": "2024-06-27T14:20:39.638479Z"
    }
   },
   "cell_type": "code",
   "source": [
    "model = pyo.ConcreteModel()\n",
    "model.NODES = pyo.Set(initialize=nodes.index)\n",
    "model.CHANNELS = pyo.Set(initialize=channels.index, within=model.NODES*model.NODES)"
   ],
   "id": "563962f0d90b72a9",
   "outputs": [],
   "execution_count": 4
  },
  {
   "metadata": {},
   "cell_type": "code",
   "source": [
    "#model.add_component(\"addresses\", pyo.Param(model.NODES, initialize=nodes[\"addresses\"].to_dict(), within=pyo.Reals))\n",
    "#model.add_component(\"capacity\", pyo.Param(model.CHANNELS, initialize=channels[\"capacity\"].to_dict(), within=pyo.Reals))\n",
    "#model.add_component(\"base_fee\", pyo.Param(model.CHANNELS, initialize=channels[\"base_fee\"].to_dict(), within=pyo.Reals))\n",
    "#model.add_component(\"perc_fee\", pyo.Param(model.CHANNELS, initialize=channels[\"perc_fee\"].to_dict(), within=pyo.Reals))"
   ],
   "id": "188492b5ffe94231",
   "outputs": [],
   "execution_count": null
  },
  {
   "metadata": {
    "ExecuteTime": {
     "end_time": "2024-06-27T14:20:40.751475Z",
     "start_time": "2024-06-27T14:20:40.745432Z"
    }
   },
   "cell_type": "code",
   "source": "model.x = pyo.Var(model.CHANNELS, within=pyo.Binary)",
   "id": "d2c1cb5a67155674",
   "outputs": [],
   "execution_count": 5
  },
  {
   "metadata": {
    "ExecuteTime": {
     "end_time": "2024-06-27T14:20:41.593980Z",
     "start_time": "2024-06-27T14:20:41.588144Z"
    }
   },
   "cell_type": "code",
   "source": "model.a = pyo.Var(model.CHANNELS, domain=pyo.NonNegativeReals)",
   "id": "9005a182ad267515",
   "outputs": [],
   "execution_count": 6
  },
  {
   "metadata": {},
   "cell_type": "markdown",
   "source": "$$\\min \\sum _{(i,j) \\in E} (baseFee_{i,j} \\times x_{i,j} + rateFee_{i,j} \\times amount_{i,j})$$",
   "id": "99524731ed445a35"
  },
  {
   "metadata": {
    "ExecuteTime": {
     "end_time": "2024-06-27T14:20:43.367788Z",
     "start_time": "2024-06-27T14:20:43.359136Z"
    }
   },
   "cell_type": "code",
   "source": [
    "def objective_function(model: pyo.ConcreteModel):\n",
    "    return sum(channels.loc[k][\"base_fee\"] * model.x[k] for k in model.CHANNELS) + sum(channels.loc[i][\"perc_fee\"] * model.a[i] for i in model.CHANNELS)"
   ],
   "id": "819a9e86e477c1be",
   "outputs": [],
   "execution_count": 7
  },
  {
   "metadata": {
    "ExecuteTime": {
     "end_time": "2024-06-27T14:20:44.434024Z",
     "start_time": "2024-06-27T14:20:44.408312Z"
    }
   },
   "cell_type": "code",
   "source": "model.totalCost = pyo.Objective(expr=objective_function(model), sense=pyo.minimize)",
   "id": "ca80e220ec8b0989",
   "outputs": [],
   "execution_count": 8
  },
  {
   "metadata": {
    "ExecuteTime": {
     "end_time": "2024-06-27T14:38:28.550095Z",
     "start_time": "2024-06-27T14:38:28.543566Z"
    }
   },
   "cell_type": "code",
   "source": [
    "# Capacity constrain\n",
    "def capacity_constraint_rule(model: pyo.ConcreteModel, a):\n",
    "    return model.a[a] <= channels.loc[a][\"capacity\"] * model.x[a] "
   ],
   "id": "a9e284e464f70547",
   "outputs": [],
   "execution_count": 67
  },
  {
   "metadata": {
    "ExecuteTime": {
     "end_time": "2024-06-27T14:38:27.499994Z",
     "start_time": "2024-06-27T14:38:27.348275Z"
    }
   },
   "cell_type": "code",
   "source": "model.CapacityConstraint = pyo.Constraint(model.CHANNELS, rule=capacity_constraint_rule, name=\"Capacity constraint\")",
   "id": "c1b12047079ad621",
   "outputs": [
    {
     "name": "stdout",
     "output_type": "stream",
     "text": [
      "WARNING: Implicitly replacing the Component attribute CapacityConstraint\n",
      "(type=<class 'pyomo.core.base.constraint.IndexedConstraint'>) on block unknown\n",
      "with a new Component (type=<class\n",
      "'pyomo.core.base.constraint.IndexedConstraint'>). This is usually indicative\n",
      "of a modelling error. To avoid this warning, use block.del_component() and\n",
      "block.add_component().\n",
      "ERROR: Rule failed when generating expression for Constraint\n",
      "CapacityConstraint with index ('node1', 'node2'): TypeError:\n",
      "capacity_constraint_rule() takes 2 positional arguments but 3 were given\n",
      "ERROR: Constructing component 'CapacityConstraint' from data=None failed:\n",
      "        TypeError: capacity_constraint_rule() takes 2 positional arguments but\n",
      "        3 were given\n"
     ]
    },
    {
     "ename": "TypeError",
     "evalue": "capacity_constraint_rule() takes 2 positional arguments but 3 were given",
     "output_type": "error",
     "traceback": [
      "\u001B[0;31m---------------------------------------------------------------------------\u001B[0m",
      "\u001B[0;31mTypeError\u001B[0m                                 Traceback (most recent call last)",
      "Cell \u001B[0;32mIn[66], line 1\u001B[0m\n\u001B[0;32m----> 1\u001B[0m \u001B[43mmodel\u001B[49m\u001B[38;5;241;43m.\u001B[39;49m\u001B[43mCapacityConstraint\u001B[49m \u001B[38;5;241m=\u001B[39m pyo\u001B[38;5;241m.\u001B[39mConstraint(model\u001B[38;5;241m.\u001B[39mCHANNELS, rule\u001B[38;5;241m=\u001B[39mcapacity_constraint_rule, name\u001B[38;5;241m=\u001B[39m\u001B[38;5;124m\"\u001B[39m\u001B[38;5;124mCapacity constraint\u001B[39m\u001B[38;5;124m\"\u001B[39m)\n",
      "File \u001B[0;32m~/repositories/LN-pathfinding/venv/lib/python3.10/site-packages/pyomo/core/base/block.py:601\u001B[0m, in \u001B[0;36mBlockData.__setattr__\u001B[0;34m(self, name, val)\u001B[0m\n\u001B[1;32m    592\u001B[0m     logger\u001B[38;5;241m.\u001B[39mwarning(\n\u001B[1;32m    593\u001B[0m         \u001B[38;5;124m\"\u001B[39m\u001B[38;5;124mImplicitly replacing the Component attribute \u001B[39m\u001B[38;5;124m\"\u001B[39m\n\u001B[1;32m    594\u001B[0m         \u001B[38;5;124m\"\u001B[39m\u001B[38;5;132;01m%s\u001B[39;00m\u001B[38;5;124m (type=\u001B[39m\u001B[38;5;132;01m%s\u001B[39;00m\u001B[38;5;124m) on block \u001B[39m\u001B[38;5;132;01m%s\u001B[39;00m\u001B[38;5;124m with a new Component (type=\u001B[39m\u001B[38;5;132;01m%s\u001B[39;00m\u001B[38;5;124m).\u001B[39m\u001B[38;5;124m\"\u001B[39m\n\u001B[0;32m   (...)\u001B[0m\n\u001B[1;32m    598\u001B[0m         \u001B[38;5;241m%\u001B[39m (name, \u001B[38;5;28mtype\u001B[39m(\u001B[38;5;28mself\u001B[39m\u001B[38;5;241m.\u001B[39mcomponent(name)), \u001B[38;5;28mself\u001B[39m\u001B[38;5;241m.\u001B[39mname, \u001B[38;5;28mtype\u001B[39m(val))\n\u001B[1;32m    599\u001B[0m     )\n\u001B[1;32m    600\u001B[0m     \u001B[38;5;28mself\u001B[39m\u001B[38;5;241m.\u001B[39mdel_component(name)\n\u001B[0;32m--> 601\u001B[0m     \u001B[38;5;28;43mself\u001B[39;49m\u001B[38;5;241;43m.\u001B[39;49m\u001B[43madd_component\u001B[49m\u001B[43m(\u001B[49m\u001B[43mname\u001B[49m\u001B[43m,\u001B[49m\u001B[43m \u001B[49m\u001B[43mval\u001B[49m\u001B[43m)\u001B[49m\n\u001B[1;32m    602\u001B[0m \u001B[38;5;28;01melse\u001B[39;00m:\n\u001B[1;32m    603\u001B[0m     \u001B[38;5;66;03m#\u001B[39;00m\n\u001B[1;32m    604\u001B[0m     \u001B[38;5;66;03m# The incoming value is not a component, so we set the\u001B[39;00m\n\u001B[0;32m   (...)\u001B[0m\n\u001B[1;32m    611\u001B[0m     \u001B[38;5;66;03m# generated while setting the value.\u001B[39;00m\n\u001B[1;32m    612\u001B[0m     \u001B[38;5;66;03m#\u001B[39;00m\n\u001B[1;32m    613\u001B[0m     \u001B[38;5;28;01mtry\u001B[39;00m:\n",
      "File \u001B[0;32m~/repositories/LN-pathfinding/venv/lib/python3.10/site-packages/pyomo/core/base/block.py:1116\u001B[0m, in \u001B[0;36mBlockData.add_component\u001B[0;34m(self, name, val)\u001B[0m\n\u001B[1;32m   1108\u001B[0m     logger\u001B[38;5;241m.\u001B[39mdebug(\n\u001B[1;32m   1109\u001B[0m         \u001B[38;5;124m\"\u001B[39m\u001B[38;5;124mConstructing \u001B[39m\u001B[38;5;132;01m%s\u001B[39;00m\u001B[38;5;124m \u001B[39m\u001B[38;5;124m'\u001B[39m\u001B[38;5;132;01m%s\u001B[39;00m\u001B[38;5;124m'\u001B[39m\u001B[38;5;124m on \u001B[39m\u001B[38;5;132;01m%s\u001B[39;00m\u001B[38;5;124m from data=\u001B[39m\u001B[38;5;132;01m%s\u001B[39;00m\u001B[38;5;124m\"\u001B[39m,\n\u001B[1;32m   1110\u001B[0m         val\u001B[38;5;241m.\u001B[39m\u001B[38;5;18m__class__\u001B[39m\u001B[38;5;241m.\u001B[39m\u001B[38;5;18m__name__\u001B[39m,\n\u001B[0;32m   (...)\u001B[0m\n\u001B[1;32m   1113\u001B[0m         \u001B[38;5;28mstr\u001B[39m(data),\n\u001B[1;32m   1114\u001B[0m     )\n\u001B[1;32m   1115\u001B[0m \u001B[38;5;28;01mtry\u001B[39;00m:\n\u001B[0;32m-> 1116\u001B[0m     \u001B[43mval\u001B[49m\u001B[38;5;241;43m.\u001B[39;49m\u001B[43mconstruct\u001B[49m\u001B[43m(\u001B[49m\u001B[43mdata\u001B[49m\u001B[43m)\u001B[49m\n\u001B[1;32m   1117\u001B[0m \u001B[38;5;28;01mexcept\u001B[39;00m:\n\u001B[1;32m   1118\u001B[0m     err \u001B[38;5;241m=\u001B[39m sys\u001B[38;5;241m.\u001B[39mexc_info()[\u001B[38;5;241m1\u001B[39m]\n",
      "File \u001B[0;32m~/repositories/LN-pathfinding/venv/lib/python3.10/site-packages/pyomo/core/base/constraint.py:720\u001B[0m, in \u001B[0;36mConstraint.construct\u001B[0;34m(self, data)\u001B[0m\n\u001B[1;32m    717\u001B[0m     \u001B[38;5;28;01melse\u001B[39;00m:\n\u001B[1;32m    718\u001B[0m         \u001B[38;5;66;03m# Bypass the index validation and create the member directly\u001B[39;00m\n\u001B[1;32m    719\u001B[0m         \u001B[38;5;28;01mfor\u001B[39;00m index \u001B[38;5;129;01min\u001B[39;00m \u001B[38;5;28mself\u001B[39m\u001B[38;5;241m.\u001B[39mindex_set():\n\u001B[0;32m--> 720\u001B[0m             \u001B[38;5;28mself\u001B[39m\u001B[38;5;241m.\u001B[39m_setitem_when_not_present(index, \u001B[43mrule\u001B[49m\u001B[43m(\u001B[49m\u001B[43mblock\u001B[49m\u001B[43m,\u001B[49m\u001B[43m \u001B[49m\u001B[43mindex\u001B[49m\u001B[43m)\u001B[49m)\n\u001B[1;32m    721\u001B[0m \u001B[38;5;28;01mexcept\u001B[39;00m \u001B[38;5;167;01mException\u001B[39;00m:\n\u001B[1;32m    722\u001B[0m     err \u001B[38;5;241m=\u001B[39m sys\u001B[38;5;241m.\u001B[39mexc_info()[\u001B[38;5;241m1\u001B[39m]\n",
      "File \u001B[0;32m~/repositories/LN-pathfinding/venv/lib/python3.10/site-packages/pyomo/core/base/initializer.py:314\u001B[0m, in \u001B[0;36mIndexedCallInitializer.__call__\u001B[0;34m(self, parent, idx)\u001B[0m\n\u001B[1;32m    308\u001B[0m \u001B[38;5;28;01mdef\u001B[39;00m \u001B[38;5;21m__call__\u001B[39m(\u001B[38;5;28mself\u001B[39m, parent, idx):\n\u001B[1;32m    309\u001B[0m     \u001B[38;5;66;03m# Note: this is called by a component using data from a Set (so\u001B[39;00m\n\u001B[1;32m    310\u001B[0m     \u001B[38;5;66;03m# any tuple-like type should have already been checked and\u001B[39;00m\n\u001B[1;32m    311\u001B[0m     \u001B[38;5;66;03m# converted to a tuple; or flattening is turned off and it is\u001B[39;00m\n\u001B[1;32m    312\u001B[0m     \u001B[38;5;66;03m# the user's responsibility to sort things out.\u001B[39;00m\n\u001B[1;32m    313\u001B[0m     \u001B[38;5;28;01mif\u001B[39;00m idx\u001B[38;5;241m.\u001B[39m\u001B[38;5;18m__class__\u001B[39m \u001B[38;5;129;01mis\u001B[39;00m \u001B[38;5;28mtuple\u001B[39m:\n\u001B[0;32m--> 314\u001B[0m         \u001B[38;5;28;01mreturn\u001B[39;00m \u001B[38;5;28;43mself\u001B[39;49m\u001B[38;5;241;43m.\u001B[39;49m\u001B[43m_fcn\u001B[49m\u001B[43m(\u001B[49m\u001B[43mparent\u001B[49m\u001B[43m,\u001B[49m\u001B[43m \u001B[49m\u001B[38;5;241;43m*\u001B[39;49m\u001B[43midx\u001B[49m\u001B[43m)\u001B[49m\n\u001B[1;32m    315\u001B[0m     \u001B[38;5;28;01melse\u001B[39;00m:\n\u001B[1;32m    316\u001B[0m         \u001B[38;5;28;01mreturn\u001B[39;00m \u001B[38;5;28mself\u001B[39m\u001B[38;5;241m.\u001B[39m_fcn(parent, idx)\n",
      "\u001B[0;31mTypeError\u001B[0m: capacity_constraint_rule() takes 2 positional arguments but 3 were given"
     ]
    }
   ],
   "execution_count": 66
  },
  {
   "metadata": {
    "ExecuteTime": {
     "end_time": "2024-06-27T14:37:39.227039Z",
     "start_time": "2024-06-27T14:37:39.219520Z"
    }
   },
   "cell_type": "code",
   "source": [
    "# Flow constrain\n",
    "\n",
    "model.a[(\"node2\", \"node3\")].pprint()"
   ],
   "id": "1c79c36a0b1328bb",
   "outputs": [
    {
     "name": "stdout",
     "output_type": "stream",
     "text": [
      "{Member of a} : Size=25, Index=CHANNELS\n",
      "    Key                : Lower : Value : Upper : Fixed : Stale : Domain\n",
      "    ('node2', 'node3') :     0 :  None :  None : False :  True : NonNegativeReals\n"
     ]
    }
   ],
   "execution_count": 62
  }
 ],
 "metadata": {
  "kernelspec": {
   "display_name": "Python 3",
   "language": "python",
   "name": "python3"
  },
  "language_info": {
   "codemirror_mode": {
    "name": "ipython",
    "version": 2
   },
   "file_extension": ".py",
   "mimetype": "text/x-python",
   "name": "python",
   "nbconvert_exporter": "python",
   "pygments_lexer": "ipython2",
   "version": "2.7.6"
  }
 },
 "nbformat": 4,
 "nbformat_minor": 5
}
