{
 "cells": [
  {
   "cell_type": "code",
   "id": "initial_id",
   "metadata": {
    "collapsed": true
   },
   "source": [
    "import pandas as pd\n",
    "import json\n",
    "import pyomo.environ as pyo\n",
    "from pyomo.util.infeasible import *\n",
    "import networkx as nx\n",
    "import matplotlib.pyplot as plt"
   ],
   "outputs": [],
   "execution_count": null
  },
  {
   "metadata": {},
   "cell_type": "markdown",
   "source": "## Data ",
   "id": "cdc958727fac5f07"
  },
  {
   "metadata": {},
   "cell_type": "code",
   "source": [
    "with open(\"../data/mock.json\") as f:\n",
    "    d = json.load(f)\n",
    "nodes, channels = pd.DataFrame(d[\"nodes\"]), pd.DataFrame(d[\"edges\"])"
   ],
   "id": "aa874a904e0d1f0c",
   "outputs": [],
   "execution_count": null
  },
  {
   "metadata": {},
   "cell_type": "code",
   "source": [
    "G = nx.DiGraph()\n",
    "\n",
    "# Add nodes to the graph\n",
    "for _, node in nodes.iterrows():\n",
    "    G.add_node(node['pub_key'], alias=node['alias'])\n",
    "\n",
    "# Add edges to the graph\n",
    "for _, edge in channels.iterrows():\n",
    "    G.add_edge(edge['node1_pub'], edge['node2_pub'], capacity=edge['capacity'], base_fee=edge['base_fee'], perc_fee=edge['perc_fee'])\n",
    "\n",
    "# Draw the graph\n",
    "pos = nx.spring_layout(G)  # positions for all nodes\n",
    "nx.draw(G, pos, with_labels=True, node_size=2000, node_color='skyblue', font_size=10, font_color='black', font_weight='bold')\n",
    "\n",
    "# Add edge labels\n",
    "edge_labels = {(u, v): f\"{d['capacity']}\" for u, v, d in G.edges(data=True)}\n",
    "nx.draw_networkx_edge_labels(G, pos, edge_labels=edge_labels)\n",
    "\n",
    "plt.title('Network Graph')\n",
    "plt.show()"
   ],
   "id": "ea4d3137b364cbe9",
   "outputs": [],
   "execution_count": null
  },
  {
   "metadata": {},
   "cell_type": "markdown",
   "source": "## Model",
   "id": "a22f78562ba94b64"
  },
  {
   "metadata": {},
   "cell_type": "code",
   "source": [
    "#channels.set_index([\"node1_pub\", \"node2_pub\"], inplace=True)\n",
    "channels.set_index(\"channel_id\", inplace=True)\n",
    "nodes.set_index(\"pub_key\", inplace=True)"
   ],
   "id": "155796baabbfb86f",
   "outputs": [],
   "execution_count": null
  },
  {
   "metadata": {},
   "cell_type": "markdown",
   "source": "### Sets",
   "id": "f198077f171bb342"
  },
  {
   "metadata": {},
   "cell_type": "code",
   "source": [
    "model = pyo.ConcreteModel(name=\"Min cost flow problem\")\n",
    "model.NODES = pyo.Set(initialize=nodes.index)\n",
    "model.CHANNELS = pyo.Set(initialize=channels.index) #within=model.NODES*model.NODES)"
   ],
   "id": "563962f0d90b72a9",
   "outputs": [],
   "execution_count": null
  },
  {
   "metadata": {},
   "cell_type": "markdown",
   "source": "### Variables",
   "id": "2273f65f06220211"
  },
  {
   "metadata": {},
   "cell_type": "code",
   "source": "model.x = pyo.Var(model.CHANNELS, domain=pyo.Binary)",
   "id": "d2c1cb5a67155674",
   "outputs": [],
   "execution_count": null
  },
  {
   "metadata": {},
   "cell_type": "code",
   "source": "model.a = pyo.Var(model.CHANNELS, domain=pyo.NonNegativeReals)",
   "id": "9005a182ad267515",
   "outputs": [],
   "execution_count": null
  },
  {
   "metadata": {},
   "cell_type": "markdown",
   "source": "### Objective function",
   "id": "f63e8d9ef1dad0eb"
  },
  {
   "metadata": {},
   "cell_type": "markdown",
   "source": "$$\\min \\sum _{(i,j) \\in E} x_{i,j} \\times (baseFee_{i,j} + rateFee_{i,j} \\times amount_{i,j})$$",
   "id": "99524731ed445a35"
  },
  {
   "metadata": {},
   "cell_type": "code",
   "source": [
    "def objective_function(model: pyo.ConcreteModel):\n",
    "    return sum(channels.loc[k][\"base_fee\"] * model.x[k] for k in model.CHANNELS) + sum(channels.loc[i][\"perc_fee\"] * model.a[i] for i in model.CHANNELS)"
   ],
   "id": "819a9e86e477c1be",
   "outputs": [],
   "execution_count": null
  },
  {
   "metadata": {},
   "cell_type": "code",
   "source": "model.totalCost = pyo.Objective(expr=objective_function(model), sense=pyo.minimize)",
   "id": "ca80e220ec8b0989",
   "outputs": [],
   "execution_count": null
  },
  {
   "metadata": {},
   "cell_type": "markdown",
   "source": [
    "### Constraints\n",
    "\n",
    "#### Capacity constraint"
   ],
   "id": "c1ae6a21ab08dceb"
  },
  {
   "metadata": {},
   "cell_type": "markdown",
   "source": "$$amount_{i,j} \\le capacity_{i,j} \\times x_{i,j} \\text{ } \\forall (i,j) \\in E$$",
   "id": "fc1ad0999e63749e"
  },
  {
   "metadata": {},
   "cell_type": "code",
   "source": [
    "# Capacity constrain\n",
    "def capacity_constraint(model: pyo.ConcreteModel, a):\n",
    "    return model.a[a] <= channels.loc[a][\"capacity\"] * model.x[a]\n",
    "model.CapacityConstraint = pyo.Constraint(model.CHANNELS, rule=capacity_constraint, name=\"Capacity constraint\")"
   ],
   "id": "a9e284e464f70547",
   "outputs": [],
   "execution_count": null
  },
  {
   "metadata": {},
   "cell_type": "markdown",
   "source": "#### Flow balance constraint",
   "id": "7ae0cacef8f010c3"
  },
  {
   "metadata": {},
   "cell_type": "markdown",
   "source": "$$\\sum_{(s,i) \\in E} amount_{si} - \\sum_{(i,t) \\in E} amount_{it} = b_i \\text{ } \\forall i \\in V$$",
   "id": "7de714f544171a80"
  },
  {
   "metadata": {},
   "cell_type": "code",
   "source": [
    "def compute_outgoing(n: str) -> list:\n",
    "    \"\"\"\n",
    "    Compute outgoing channels list for the node n\n",
    "    :param n: node identifier\n",
    "    :return: list of outgoing channels for node n\n",
    "    \"\"\"\n",
    "    return [c for c in model.CHANNELS if channels.loc[c][\"node1_pub\"] == n]\n",
    "\n",
    "\n",
    "def compute_incoming(n: str) -> list:\n",
    "    \"\"\"\n",
    "    Compute incoming channels list for the node n\n",
    "    :param n: node identifier\n",
    "    :return: list of incoming channels for node n\n",
    "    \"\"\"\n",
    "    return [c for c in model.CHANNELS if channels.loc[c][\"node2_pub\"] == n]\n"
   ],
   "id": "8df3899bcded7c5b",
   "outputs": [],
   "execution_count": null
  },
  {
   "metadata": {},
   "cell_type": "code",
   "source": [
    "# Flow constrain\n",
    "\n",
    "def flow_balance_constraint(model: pyo.ConcreteModel, n):\n",
    "    return sum(model.a[a] for a in compute_incoming(n)) - sum(model.a[a] for a in compute_outgoing(n)) == nodes.loc[n][\"demand\"]\n",
    "model.FlowBalanceConstrain = pyo.Constraint(model.NODES, rule=flow_balance_constraint, name=\"Flow balance constrain\")"
   ],
   "id": "1c79c36a0b1328bb",
   "outputs": [],
   "execution_count": null
  },
  {
   "metadata": {},
   "cell_type": "markdown",
   "source": "## Solving the model",
   "id": "a622ce3b8ad44c52"
  },
  {
   "metadata": {},
   "cell_type": "code",
   "source": [
    "opt = pyo.SolverFactory('cbc')\n",
    "opt.solve(model, tee=True)"
   ],
   "id": "e070adb3399852e0",
   "outputs": [],
   "execution_count": null
  },
  {
   "metadata": {},
   "cell_type": "code",
   "source": "model.x.pprint()",
   "id": "a139331523c414a1",
   "outputs": [],
   "execution_count": null
  }
 ],
 "metadata": {
  "kernelspec": {
   "display_name": "Python 3",
   "language": "python",
   "name": "python3"
  },
  "language_info": {
   "codemirror_mode": {
    "name": "ipython",
    "version": 2
   },
   "file_extension": ".py",
   "mimetype": "text/x-python",
   "name": "python",
   "nbconvert_exporter": "python",
   "pygments_lexer": "ipython2",
   "version": "2.7.6"
  }
 },
 "nbformat": 4,
 "nbformat_minor": 5
}
