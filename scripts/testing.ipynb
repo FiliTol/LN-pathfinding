{
 "cells": [
  {
   "metadata": {},
   "cell_type": "markdown",
   "source": "## Import and cleaning",
   "id": "c599f7bab2a99ae6"
  },
  {
   "metadata": {
    "ExecuteTime": {
     "end_time": "2024-06-26T17:06:17.423135Z",
     "start_time": "2024-06-26T17:06:15.206068Z"
    }
   },
   "cell_type": "code",
   "source": [
    "import pandas as pd\n",
    "import json\n",
    "import re\n",
    "import pyomo.environ as pyo\n",
    "\n",
    "\n",
    "with open(\"../data/network_graph_2024_06_12.json\") as f:\n",
    "    d = json.load(f)\n",
    "\n",
    "nodes = pd.DataFrame(d[\"nodes\"])\n",
    "channels = pd.DataFrame(d[\"edges\"])"
   ],
   "id": "a0b4114648597610",
   "outputs": [],
   "execution_count": 1
  },
  {
   "metadata": {},
   "cell_type": "markdown",
   "source": "## Channels",
   "id": "7bd397038e338636"
  },
  {
   "cell_type": "code",
   "id": "initial_id",
   "metadata": {
    "collapsed": true,
    "ExecuteTime": {
     "end_time": "2024-06-26T17:06:17.488536Z",
     "start_time": "2024-06-26T17:06:17.427495Z"
    }
   },
   "source": [
    "## Change data types\n",
    "channels[\"capacity\"] = channels[\"capacity\"].astype(int)\n",
    "channels[\"last_update\"] = pd.to_datetime(channels[\"last_update\"], unit = 's')\n",
    "\n",
    "## Filter out channels that are unused (no update time)\n",
    "channels = channels[channels[\"last_update\"] > \"1970-01-01\"]\n",
    "\n",
    "## Filter out channels with nodes with no policy registered for this describegraph query (aka not reachable now)\n",
    "channels = channels[pd.notnull(channels[\"node1_policy\"]) & pd.notnull(channels[\"node2_policy\"])]\n",
    "\n",
    "channels = channels.filter(items=['channel_id',\n",
    "                       'node1_pub',\n",
    "                       'node2_pub',\n",
    "                       'capacity',\n",
    "                       'node1_policy',\n",
    "                       'node2_policy'\n",
    "                       ])\n"
   ],
   "outputs": [],
   "execution_count": 2
  },
  {
   "metadata": {},
   "cell_type": "markdown",
   "source": [
    "From these data we only need information that are strictly related to path finding for channels, thus we only need:\n",
    "\n",
    "- channel peers\n",
    "- channel id\n",
    "- capacity\n",
    "- nodes policy:\n",
    "    - fee base msat\n",
    "    - fee rate milli msat"
   ],
   "id": "a4cf27d756cb37c3"
  },
  {
   "metadata": {
    "ExecuteTime": {
     "end_time": "2024-06-26T17:06:17.610772Z",
     "start_time": "2024-06-26T17:06:17.492246Z"
    }
   },
   "cell_type": "code",
   "source": [
    "channels['node1_fee_base_msat'] = channels['node1_policy'].apply(lambda x: x['fee_base_msat'])\n",
    "channels['node2_fee_base_msat'] = channels['node2_policy'].apply(lambda x: x['fee_base_msat'])\n",
    "\n",
    "channels['node1_fee_rate_milli_msat'] = channels['node1_policy'].apply(lambda x: x['fee_rate_milli_msat'])\n",
    "channels['node2_fee_rate_milli_msat'] = channels['node2_policy'].apply(lambda x: x['fee_rate_milli_msat'])\n",
    "\n",
    "channels[\"node1_fee_base_msat\"] = channels[\"node1_fee_base_msat\"].astype(int)\n",
    "channels[\"node2_fee_base_msat\"] = channels[\"node2_fee_base_msat\"].astype(int)\n",
    "\n",
    "channels[\"node1_fee_rate_milli_msat\"] = channels[\"node1_fee_rate_milli_msat\"].astype(int)\n",
    "channels[\"node2_fee_rate_milli_msat\"] = channels[\"node2_fee_rate_milli_msat\"].astype(int)\n",
    "\n",
    "\n",
    "channels = channels.filter(items=['channel_id',\n",
    "                                  'node1_pub',\n",
    "                                  'node2_pub',\n",
    "                                  'capacity',\n",
    "                                  'node1_fee_base_msat',\n",
    "                                  'node1_fee_rate_milli_msat',\n",
    "                                  'node2_fee_base_msat',\n",
    "                                  'node2_fee_rate_milli_msat'\n",
    "                                  ])"
   ],
   "id": "97ad2a83e0ed357e",
   "outputs": [],
   "execution_count": 3
  },
  {
   "metadata": {},
   "cell_type": "markdown",
   "source": "## Nodes",
   "id": "ea1693370e30293a"
  },
  {
   "metadata": {},
   "cell_type": "markdown",
   "source": [
    "Set feature to flag the presence of onion address and the presence of clearnet address.\n",
    "Feature is like the Linux permissions:\n",
    "- 1 for clearnet\n",
    "- 2 for onion\n",
    "- 3 for both onion and clearnet"
   ],
   "id": "390d3a7941d1299d"
  },
  {
   "metadata": {
    "ExecuteTime": {
     "end_time": "2024-06-26T17:06:17.647041Z",
     "start_time": "2024-06-26T17:06:17.614704Z"
    }
   },
   "cell_type": "code",
   "source": "nodes['addresses'] = nodes.iloc[:, 3].apply(lambda x: [i['addr'] for i in x])",
   "id": "e185df4394a95c59",
   "outputs": [],
   "execution_count": 4
  },
  {
   "metadata": {
    "ExecuteTime": {
     "end_time": "2024-06-26T17:06:17.716225Z",
     "start_time": "2024-06-26T17:06:17.651103Z"
    }
   },
   "cell_type": "code",
   "source": [
    "def allocate_code(addresses):\n",
    "    \"\"\"\n",
    "    :param addresses: list of strings with Ip or onion addresses\n",
    "    :return: score for the kind of addresses used by the node.\n",
    "             1 of only onion, 2 if only clearnet, 3 if both onion and clearnet\n",
    "             The score is independent from the number of addresses of each kind\n",
    "    \"\"\"\n",
    "    code = []\n",
    "    onion_pattern = re.compile(r\".*\\.onion\")\n",
    "    for element in addresses:\n",
    "        if onion_pattern.match(element):\n",
    "            code.append(1)\n",
    "        else:\n",
    "            code.append(2)\n",
    "    return sum(set(code))\n",
    "\n",
    "\n",
    "nodes[\"addresses\"] = nodes[\"addresses\"].apply(allocate_code)"
   ],
   "id": "e68ab2c511beea67",
   "outputs": [],
   "execution_count": 5
  },
  {
   "metadata": {},
   "cell_type": "markdown",
   "source": "Remove nodes that were not updated (aka with no last update time data)",
   "id": "e914c2e7334c61d6"
  },
  {
   "metadata": {
    "ExecuteTime": {
     "end_time": "2024-06-26T17:06:17.733594Z",
     "start_time": "2024-06-26T17:06:17.718897Z"
    }
   },
   "cell_type": "code",
   "source": [
    "nodes[\"last_update\"] = pd.to_datetime(nodes[\"last_update\"], unit = 's')\n",
    "nodes = nodes[nodes[\"last_update\"] > \"1970-01-01\"]"
   ],
   "id": "93a6927cebb775f4",
   "outputs": [],
   "execution_count": 6
  },
  {
   "metadata": {},
   "cell_type": "markdown",
   "source": [
    "**Features to be analysed in order to understand the meaning of the properties is_known and is_required for nodes.**\n",
    "\n",
    "Analyse the \"features\" column\n",
    "\n",
    "- https://github.com/lightning/bolts/blob/master/09-features.md\n",
    "- https://github.com/lightningnetwork/lnd/blob/master/lnrpc/lightning.proto\n",
    "- https://github.com/lightningnetwork/lnd/blob/master/lnrpc/lightning_grpc.pb.go"
   ],
   "id": "a6c0bf04802b55d"
  },
  {
   "metadata": {
    "ExecuteTime": {
     "end_time": "2024-06-26T17:06:17.744167Z",
     "start_time": "2024-06-26T17:06:17.736760Z"
    }
   },
   "cell_type": "code",
   "source": [
    "nodes = nodes.filter(items = [\"pub_key\",\n",
    "                     \"alias\",\n",
    "                     \"addresses\"\n",
    "                     ])\n"
   ],
   "id": "9a061e28cfbae4c1",
   "outputs": [],
   "execution_count": 7
  },
  {
   "metadata": {},
   "cell_type": "markdown",
   "source": "### Elaborate dataset to manage directed edges and fees",
   "id": "c18380b881dbb6cd"
  },
  {
   "metadata": {
    "ExecuteTime": {
     "end_time": "2024-06-26T17:06:17.765369Z",
     "start_time": "2024-06-26T17:06:17.747123Z"
    }
   },
   "cell_type": "code",
   "source": "channels.dtypes",
   "id": "86c42534dd111e66",
   "outputs": [
    {
     "data": {
      "text/plain": [
       "channel_id                   object\n",
       "node1_pub                    object\n",
       "node2_pub                    object\n",
       "capacity                      int64\n",
       "node1_fee_base_msat           int64\n",
       "node1_fee_rate_milli_msat     int64\n",
       "node2_fee_base_msat           int64\n",
       "node2_fee_rate_milli_msat     int64\n",
       "dtype: object"
      ]
     },
     "execution_count": 8,
     "metadata": {},
     "output_type": "execute_result"
    }
   ],
   "execution_count": 8
  },
  {
   "metadata": {
    "ExecuteTime": {
     "end_time": "2024-06-26T17:06:17.800976Z",
     "start_time": "2024-06-26T17:06:17.767891Z"
    }
   },
   "cell_type": "code",
   "source": [
    "channels[\"node1_pub\"] = channels[\"channel_id\"] + \"-\" + channels[\"node1_pub\"]\n",
    "channels[\"node2_pub\"] = channels[\"channel_id\"] + \"-\" + channels[\"node2_pub\"]\n",
    "channels1 = channels.copy()\n",
    "channels1[\"node1_pub\"] = channels[\"node2_pub\"]\n",
    "channels1[\"node2_pub\"] = channels[\"node1_pub\"]"
   ],
   "id": "8ed6f3505ad60e25",
   "outputs": [],
   "execution_count": 9
  },
  {
   "metadata": {
    "ExecuteTime": {
     "end_time": "2024-06-26T17:06:17.810500Z",
     "start_time": "2024-06-26T17:06:17.804057Z"
    }
   },
   "cell_type": "code",
   "source": [
    "channels1[\"node2_fee_base_msat\"] = channels[\"node1_fee_base_msat\"]\n",
    "channels1[\"node2_fee_rate_milli_msat\"] = channels[\"node1_fee_rate_milli_msat\"]"
   ],
   "id": "1c03f20137c1df5b",
   "outputs": [],
   "execution_count": 10
  },
  {
   "metadata": {
    "ExecuteTime": {
     "end_time": "2024-06-26T17:06:17.831006Z",
     "start_time": "2024-06-26T17:06:17.812975Z"
    }
   },
   "cell_type": "code",
   "source": [
    "channels = channels.filter(items=[\"channel_id\", \"node1_pub\", \"node2_pub\", \"capacity\", \"node2_fee_base_msat\", \"node2_fee_rate_milli_msat\"])\n",
    "channels1 = channels1.filter(items=[\"channel_id\", \"node1_pub\", \"node2_pub\", \"capacity\", \"node2_fee_base_msat\", \"node2_fee_rate_milli_msat\"])"
   ],
   "id": "c45a607e60a40439",
   "outputs": [],
   "execution_count": 11
  },
  {
   "metadata": {
    "ExecuteTime": {
     "end_time": "2024-06-26T17:06:17.843019Z",
     "start_time": "2024-06-26T17:06:17.833753Z"
    }
   },
   "cell_type": "code",
   "source": "channels = pd.concat([channels, channels1])",
   "id": "d293b4a343b722c2",
   "outputs": [],
   "execution_count": 12
  },
  {
   "metadata": {
    "ExecuteTime": {
     "end_time": "2024-06-26T17:10:14.400018Z",
     "start_time": "2024-06-26T17:10:14.391981Z"
    }
   },
   "cell_type": "code",
   "source": "channels.rename(columns={\"node2_fee_base_msat\": \"fee_base_msat\", \"node2_fee_rate_milli_msat\": \"fee_rate_milli_msat\"}, inplace=True)",
   "id": "8e4bad81a461d84",
   "outputs": [],
   "execution_count": 17
  },
  {
   "metadata": {
    "ExecuteTime": {
     "end_time": "2024-06-26T17:10:46.878578Z",
     "start_time": "2024-06-26T17:10:46.867038Z"
    }
   },
   "cell_type": "code",
   "source": "channels.dtypes",
   "id": "2181121ce15c44d3",
   "outputs": [
    {
     "data": {
      "text/plain": [
       "channel_id             object\n",
       "node1_pub              object\n",
       "node2_pub              object\n",
       "capacity                int64\n",
       "fee_base_msat           int64\n",
       "fee_rate_milli_msat     int64\n",
       "dtype: object"
      ]
     },
     "execution_count": 18,
     "metadata": {},
     "output_type": "execute_result"
    }
   ],
   "execution_count": 18
  }
 ],
 "metadata": {
  "kernelspec": {
   "display_name": "Python 3",
   "language": "python",
   "name": "python3"
  },
  "language_info": {
   "codemirror_mode": {
    "name": "ipython",
    "version": 2
   },
   "file_extension": ".py",
   "mimetype": "text/x-python",
   "name": "python",
   "nbconvert_exporter": "python",
   "pygments_lexer": "ipython2",
   "version": "2.7.6"
  }
 },
 "nbformat": 4,
 "nbformat_minor": 5
}
