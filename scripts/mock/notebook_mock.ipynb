{
 "cells": [
  {
   "cell_type": "code",
   "id": "initial_id",
   "metadata": {
    "ExecuteTime": {
     "end_time": "2024-07-15T10:04:07.028365Z",
     "start_time": "2024-07-15T10:04:05.588908Z"
    }
   },
   "source": [
    "import pandas as pd\n",
    "import pyomo.environ as pyo\n",
    "from random import sample\n",
    "from cleaning_mock import create_demand"
   ],
   "outputs": [],
   "execution_count": 1
  },
  {
   "cell_type": "code",
   "id": "7d244b47fbddebd",
   "metadata": {
    "ExecuteTime": {
     "end_time": "2024-07-15T10:04:07.047424Z",
     "start_time": "2024-07-15T10:04:07.032404Z"
    }
   },
   "source": [
    "nodes = pd.read_pickle(\"../../data/mock/mock_nodes.pkl\")\n",
    "channels = pd.read_pickle(\"../../data/mock/mock_channels.pkl\")"
   ],
   "outputs": [],
   "execution_count": 2
  },
  {
   "cell_type": "code",
   "id": "ea3d0db7f7e46b7d",
   "metadata": {
    "ExecuteTime": {
     "end_time": "2024-07-15T10:04:07.104177Z",
     "start_time": "2024-07-15T10:04:07.050818Z"
    }
   },
   "source": [
    "model = pyo.ConcreteModel(name=\"Min cost flow problem\")\n",
    "model.NODES = pyo.Set(initialize=nodes.index)\n",
    "model.CHANNELS = pyo.Set(initialize=[(channels.loc[i, \"node1_pub\"], channels.loc[i, \"node2_pub\"]) for i in channels.index])"
   ],
   "outputs": [],
   "execution_count": 3
  },
  {
   "cell_type": "code",
   "id": "41ed51c274423430",
   "metadata": {
    "ExecuteTime": {
     "end_time": "2024-07-15T10:04:07.118511Z",
     "start_time": "2024-07-15T10:04:07.107491Z"
    }
   },
   "source": "nodes = create_demand(nodes, 156033)",
   "outputs": [
    {
     "name": "stdout",
     "output_type": "stream",
     "text": [
      "Transaction of 156033 sats.\n",
      "Sender: LRHZSDVIUT.com\n",
      "Receiver: IRHDZFIROE.com.\n"
     ]
    }
   ],
   "execution_count": 4
  },
  {
   "cell_type": "code",
   "id": "ce35b6e7912339a4",
   "metadata": {
    "ExecuteTime": {
     "end_time": "2024-07-15T10:04:07.198951Z",
     "start_time": "2024-07-15T10:04:07.121480Z"
    }
   },
   "source": [
    "model.x = pyo.Var(model.CHANNELS, domain=pyo.Binary)\n",
    "model.a = pyo.Var(model.CHANNELS, domain=pyo.NonNegativeReals, bounds=(0, max(nodes[\"demand\"])))"
   ],
   "outputs": [],
   "execution_count": 5
  },
  {
   "cell_type": "code",
   "id": "53da0ddf773f3686",
   "metadata": {
    "ExecuteTime": {
     "end_time": "2024-07-15T10:04:07.216218Z",
     "start_time": "2024-07-15T10:04:07.202428Z"
    }
   },
   "source": [
    "channels.reset_index(inplace=True)\n",
    "channels.set_index([\"node1_pub\", \"node2_pub\"], inplace=True)\n",
    "channels.sort_index(inplace=True)"
   ],
   "outputs": [],
   "execution_count": 6
  },
  {
   "cell_type": "code",
   "id": "337e984db9df0f3d",
   "metadata": {
    "ExecuteTime": {
     "end_time": "2024-07-15T10:04:07.396175Z",
     "start_time": "2024-07-15T10:04:07.220434Z"
    }
   },
   "source": [
    "def objective_function(model: pyo.ConcreteModel):\n",
    "    return sum(model.x[i] * channels.loc[i, \"base_fee\"] for i in model.CHANNELS) + sum(model.a[i] * channels.loc[i, \"rate_fee\"] for i in model.CHANNELS)\n",
    "\n",
    "model.totalCost = pyo.Objective(rule=objective_function(model), sense=pyo.minimize)"
   ],
   "outputs": [],
   "execution_count": 7
  },
  {
   "cell_type": "code",
   "id": "baaef5e9759d66b4",
   "metadata": {
    "ExecuteTime": {
     "end_time": "2024-07-15T10:04:07.439161Z",
     "start_time": "2024-07-15T10:04:07.398578Z"
    }
   },
   "source": [
    "## Single path constrain\n",
    "def number_path_rule(model: pyo.ConcreteModel, n):\n",
    "    outgoing = [model.x[(i, j)] for i, j in channels.index if i == n]\n",
    "    incoming = [model.x[(i, j)] for i, j in channels.index if j == n]\n",
    "    return sum(incoming) == sum(outgoing)\n",
    "\n",
    "model.NumberPathConstraint = pyo.Constraint(model.NODES, rule=number_path_rule)"
   ],
   "outputs": [],
   "execution_count": 8
  },
  {
   "cell_type": "code",
   "id": "9c928570a17fd77b",
   "metadata": {
    "ExecuteTime": {
     "end_time": "2024-07-15T10:04:07.565745Z",
     "start_time": "2024-07-15T10:04:07.441939Z"
    }
   },
   "source": [
    "def capacity_constraint(model: pyo.ConcreteModel, a, b):\n",
    "    return model.a[(a, b)] <=  channels.loc[(a, b), \"capacity\"] * model.x[(a, b)]\n",
    "\n",
    "model.CapacityConstraint = pyo.Constraint(model.CHANNELS, rule=capacity_constraint, name=\"Capacity constraint\")"
   ],
   "outputs": [],
   "execution_count": 9
  },
  {
   "cell_type": "code",
   "id": "1c20ce38e84130fd",
   "metadata": {
    "ExecuteTime": {
     "end_time": "2024-07-15T10:04:07.666870Z",
     "start_time": "2024-07-15T10:04:07.572741Z"
    }
   },
   "source": [
    "channels.reset_index(inplace=True)\n",
    "channels.set_index(\"channel_id\", inplace=True)\n",
    "\n",
    "def flow_balance_constraint(model: pyo.ConcreteModel, n: str):\n",
    "    InFlow = sum(model.a[(channels.loc[a, \"node1_pub\"], channels.loc[a, \"node2_pub\"])] for a in nodes.loc[n, 'incoming_channels'])\n",
    "    OutFlow = sum(model.a[(channels.loc[a, \"node1_pub\"], channels.loc[a, \"node2_pub\"])] for a in nodes.loc[n, 'outgoing_channels'])\n",
    "    return  OutFlow + nodes.loc[n, \"demand\"] == InFlow\n",
    "\n",
    "model.FlowBalanceConstraint = pyo.Constraint(model.NODES, rule=flow_balance_constraint, name=\"Flow balance constrain\")\n",
    "\n",
    "channels.reset_index(inplace=True)\n",
    "channels.set_index([\"node1_pub\", \"node2_pub\"], inplace=True)\n",
    "channels.sort_index(inplace=True)        "
   ],
   "outputs": [],
   "execution_count": 10
  },
  {
   "cell_type": "code",
   "id": "85d248c15c8cd37b",
   "metadata": {
    "ExecuteTime": {
     "end_time": "2024-07-15T10:04:07.881229Z",
     "start_time": "2024-07-15T10:04:07.670590Z"
    }
   },
   "source": [
    "opt = pyo.SolverFactory('cbc')\n",
    "results = opt.solve(model, tee=True)\n",
    "\n",
    "if (results.solver.status == pyo.SolverStatus.ok) and (results.solver.termination_condition == pyo.TerminationCondition.optimal):\n",
    "    print('\\nOptimal solution found')\n",
    "elif results.solver.termination_condition == pyo.TerminationCondition.feasible:\n",
    "    print('\\nFeasible but not proven optimal solution found')\n",
    "elif results.solver.termination_condition == pyo.TerminationCondition.infeasible:\n",
    "    raise Exception(\"The model is infeasible\")\n",
    "else:\n",
    "    print('\\nSolver Status: ',  results.solver.status)\n",
    "    raise Exception(results.solver.status)\n",
    "\n",
    "print('\\nObject function value = ', model.Objective())\n",
    "\n"
   ],
   "outputs": [
    {
     "name": "stdout",
     "output_type": "stream",
     "text": [
      "Welcome to the CBC MILP Solver \n",
      "Version: 2.10.8 \n",
      "Build Date: May  9 2022 \n",
      "\n",
      "command line - /usr/bin/cbc -printingOptions all -import /tmp/tmprrnsvmv6.pyomo.lp -stat=1 -solve -solu /tmp/tmprrnsvmv6.pyomo.soln (default strategy 1)\n",
      "Option for printingOptions changed from normal to all\n",
      "Presolve 879 (-3) rows, 1378 (-2) columns and 4026 (-10) elements\n",
      "Statistics for presolved model\n",
      "Original problem has 690 integers (690 of which binary)\n",
      "Presolved problem has 689 integers (689 of which binary)\n",
      "==== 77 zero objective 511 different\n",
      "==== absolute objective values 511 different\n",
      "==== for integers 1 zero objective 497 different\n",
      "==== for integers absolute objective values 497 different\n",
      "===== end objective counts\n",
      "\n",
      "\n",
      "Problem has 879 rows, 1378 columns (1301 with objective) and 4026 elements\n",
      "There are 6 singletons with objective \n",
      "Column breakdown:\n",
      "0 of type 0.0->inf, 689 of type 0.0->up, 0 of type lo->inf, \n",
      "0 of type lo->up, 0 of type free, 0 of type fixed, \n",
      "0 of type -inf->0.0, 0 of type -inf->up, 689 of type 0.0->1.0 \n",
      "Row breakdown:\n",
      "188 of type E 0.0, 0 of type E 1.0, 0 of type E -1.0, \n",
      "2 of type E other, 0 of type G 0.0, 0 of type G 1.0, \n",
      "0 of type G other, 689 of type L 0.0, 0 of type L 1.0, \n",
      "0 of type L other, 0 of type Range 0.0->1.0, 0 of type Range other, \n",
      "0 of type Free \n",
      "Continuous objective value is 0.225496 - 0.01 seconds\n",
      "Cgl0004I processed model has 876 rows, 1372 columns (686 integer (686 of which binary)) and 4020 elements\n",
      "Cbc0038I Initial state - 0 integers unsatisfied sum - 8.88178e-16\n",
      "Cbc0038I Solution found of 1.69603\n",
      "Cbc0038I Relaxing continuous gives 1.69603\n",
      "Cbc0038I Before mini branch and bound, 686 integers at bound fixed and 686 continuous\n",
      "Cbc0038I Mini branch and bound did not improve solution (0.03 seconds)\n",
      "Cbc0038I After 0.03 seconds - Feasibility pump exiting with objective of 1.69603 - took 0.01 seconds\n",
      "Cbc0012I Integer solution of 1.696033 found by feasibility pump after 0 iterations and 0 nodes (0.03 seconds)\n",
      "Cbc0001I Search completed - best objective 1.696033, took 0 iterations and 0 nodes (0.03 seconds)\n",
      "Cbc0035I Maximum depth 0, 0 variables fixed on reduced cost\n",
      "Cuts at root node changed objective from 1.69603 to 1.69603\n",
      "Probing was tried 0 times and created 0 cuts of which 0 were active after adding rounds of cuts (0.000 seconds)\n",
      "Gomory was tried 0 times and created 0 cuts of which 0 were active after adding rounds of cuts (0.000 seconds)\n",
      "Knapsack was tried 0 times and created 0 cuts of which 0 were active after adding rounds of cuts (0.000 seconds)\n",
      "Clique was tried 0 times and created 0 cuts of which 0 were active after adding rounds of cuts (0.000 seconds)\n",
      "MixedIntegerRounding2 was tried 0 times and created 0 cuts of which 0 were active after adding rounds of cuts (0.000 seconds)\n",
      "FlowCover was tried 0 times and created 0 cuts of which 0 were active after adding rounds of cuts (0.000 seconds)\n",
      "TwoMirCuts was tried 0 times and created 0 cuts of which 0 were active after adding rounds of cuts (0.000 seconds)\n",
      "ZeroHalf was tried 0 times and created 0 cuts of which 0 were active after adding rounds of cuts (0.000 seconds)\n",
      "\n",
      "Result - Optimal solution found\n",
      "\n",
      "Objective value:                1.69603300\n",
      "Enumerated nodes:               0\n",
      "Total iterations:               0\n",
      "Time (CPU seconds):             0.05\n",
      "Time (Wallclock seconds):       0.06\n",
      "\n",
      "Total time (CPU seconds):       0.06   (Wallclock seconds):       0.08\n",
      "\n",
      "\n",
      "Optimal solution found\n",
      "\n",
      "Object function value =  <pyomo.core.base.block._generic_component_decorator object at 0x7efcb67e3d00>\n"
     ]
    }
   ],
   "execution_count": 11
  },
  {
   "metadata": {
    "ExecuteTime": {
     "end_time": "2024-07-15T10:04:09.386434Z",
     "start_time": "2024-07-15T10:04:07.884182Z"
    }
   },
   "cell_type": "code",
   "source": [
    "from decimal import Decimal\n",
    "DF_channels = pd.DataFrame()\n",
    "c = 0\n",
    "for index, value in model.a.extract_values().items():\n",
    "    DF_channels.loc[c, \"source\"] = index[0]\n",
    "    DF_channels.loc[c, \"destination\"] = index[1]\n",
    "    DF_channels.loc[c, \"capacity\"] = channels.loc[index, \"capacity\"]\n",
    "    DF_channels.loc[c, \"amount\"] = Decimal(value)\n",
    "    c += 1\n",
    "    \n",
    "DF_channels_pos = DF_channels[DF_channels[\"amount\"]!=0]\n",
    "DF_channels_pos"
   ],
   "id": "a30b622dd76183ad",
   "outputs": [
    {
     "data": {
      "text/plain": [
       "         source destination   capacity  amount\n",
       "265  LRHZSDVIUT  RQTUFVOQNG  2438839.0  156033\n",
       "362  PGFZUBGVTF  TPNSRRMLMO  6165000.0  156033\n",
       "462  RQTUFVOQNG  PGFZUBGVTF  2798488.0  156033\n",
       "520  TPNSRRMLMO  IRHDZFIROE  9675139.0  156033"
      ],
      "text/html": [
       "<div>\n",
       "<style scoped>\n",
       "    .dataframe tbody tr th:only-of-type {\n",
       "        vertical-align: middle;\n",
       "    }\n",
       "\n",
       "    .dataframe tbody tr th {\n",
       "        vertical-align: top;\n",
       "    }\n",
       "\n",
       "    .dataframe thead th {\n",
       "        text-align: right;\n",
       "    }\n",
       "</style>\n",
       "<table border=\"1\" class=\"dataframe\">\n",
       "  <thead>\n",
       "    <tr style=\"text-align: right;\">\n",
       "      <th></th>\n",
       "      <th>source</th>\n",
       "      <th>destination</th>\n",
       "      <th>capacity</th>\n",
       "      <th>amount</th>\n",
       "    </tr>\n",
       "  </thead>\n",
       "  <tbody>\n",
       "    <tr>\n",
       "      <th>265</th>\n",
       "      <td>LRHZSDVIUT</td>\n",
       "      <td>RQTUFVOQNG</td>\n",
       "      <td>2438839.0</td>\n",
       "      <td>156033</td>\n",
       "    </tr>\n",
       "    <tr>\n",
       "      <th>362</th>\n",
       "      <td>PGFZUBGVTF</td>\n",
       "      <td>TPNSRRMLMO</td>\n",
       "      <td>6165000.0</td>\n",
       "      <td>156033</td>\n",
       "    </tr>\n",
       "    <tr>\n",
       "      <th>462</th>\n",
       "      <td>RQTUFVOQNG</td>\n",
       "      <td>PGFZUBGVTF</td>\n",
       "      <td>2798488.0</td>\n",
       "      <td>156033</td>\n",
       "    </tr>\n",
       "    <tr>\n",
       "      <th>520</th>\n",
       "      <td>TPNSRRMLMO</td>\n",
       "      <td>IRHDZFIROE</td>\n",
       "      <td>9675139.0</td>\n",
       "      <td>156033</td>\n",
       "    </tr>\n",
       "  </tbody>\n",
       "</table>\n",
       "</div>"
      ]
     },
     "execution_count": 12,
     "metadata": {},
     "output_type": "execute_result"
    }
   ],
   "execution_count": 12
  },
  {
   "metadata": {
    "ExecuteTime": {
     "end_time": "2024-07-15T10:04:09.414009Z",
     "start_time": "2024-07-15T10:04:09.390554Z"
    }
   },
   "cell_type": "code",
   "source": "DF_channels[DF_channels[\"amount\"]> DF_channels[\"capacity\"]]",
   "id": "f2db3649f054633f",
   "outputs": [
    {
     "data": {
      "text/plain": [
       "Empty DataFrame\n",
       "Columns: [source, destination, capacity, amount]\n",
       "Index: []"
      ],
      "text/html": [
       "<div>\n",
       "<style scoped>\n",
       "    .dataframe tbody tr th:only-of-type {\n",
       "        vertical-align: middle;\n",
       "    }\n",
       "\n",
       "    .dataframe tbody tr th {\n",
       "        vertical-align: top;\n",
       "    }\n",
       "\n",
       "    .dataframe thead th {\n",
       "        text-align: right;\n",
       "    }\n",
       "</style>\n",
       "<table border=\"1\" class=\"dataframe\">\n",
       "  <thead>\n",
       "    <tr style=\"text-align: right;\">\n",
       "      <th></th>\n",
       "      <th>source</th>\n",
       "      <th>destination</th>\n",
       "      <th>capacity</th>\n",
       "      <th>amount</th>\n",
       "    </tr>\n",
       "  </thead>\n",
       "  <tbody>\n",
       "  </tbody>\n",
       "</table>\n",
       "</div>"
      ]
     },
     "execution_count": 13,
     "metadata": {},
     "output_type": "execute_result"
    }
   ],
   "execution_count": 13
  },
  {
   "metadata": {
    "ExecuteTime": {
     "end_time": "2024-07-15T10:04:09.425983Z",
     "start_time": "2024-07-15T10:04:09.418643Z"
    }
   },
   "cell_type": "code",
   "source": [
    "#nodes.reset_index(inplace=True)\n",
    "#DF_nodes = nodes[nodes[\"pub_key\"].isin(DF_channels.loc[DF_channels[\"amount\"] > 0, \"source\"].tolist()) | nodes[\"pub_key\"].isin(DF_channels.loc[DF_channels[\"amount\"] > 0, \"destination\"].tolist())]\n",
    "#nodes.set_index(\"pub_key\", inplace=True)\n",
    "#\n",
    "#DF_nodes"
   ],
   "id": "b51364b552ce1f31",
   "outputs": [],
   "execution_count": 14
  },
  {
   "metadata": {
    "ExecuteTime": {
     "end_time": "2024-07-15T10:04:10.342190Z",
     "start_time": "2024-07-15T10:04:09.430117Z"
    }
   },
   "cell_type": "code",
   "source": [
    "DF_fixed = pd.DataFrame()\n",
    "c = 0\n",
    "for index, value in model.x.extract_values().items():\n",
    "    DF_fixed.loc[c, \"source\"] = index[0]\n",
    "    DF_fixed.loc[c, \"destination\"] = index[1]\n",
    "    DF_fixed.loc[c, \"used\"] = Decimal(value)\n",
    "    c += 1\n",
    "    \n",
    "DF_fixed_pos = DF_fixed[DF_fixed[\"used\"]!=0]"
   ],
   "id": "35c5f24126135d5",
   "outputs": [],
   "execution_count": 15
  },
  {
   "metadata": {
    "ExecuteTime": {
     "end_time": "2024-07-15T10:04:10.364049Z",
     "start_time": "2024-07-15T10:04:10.344434Z"
    }
   },
   "cell_type": "code",
   "source": [
    "# Compare in order to catch not used channels that are selected by the fixed charge constrain\n",
    "intersection = DF_fixed_pos.merge(DF_channels_pos, on=[\"source\", \"destination\"], how=\"outer\")\n",
    "intersection"
   ],
   "id": "cac48da7dd2ba557",
   "outputs": [
    {
     "data": {
      "text/plain": [
       "       source destination used   capacity  amount\n",
       "0  EPCVSGNLFU  LRHZSDVIUT    1        NaN     NaN\n",
       "1  GAIHFAVBIB  EPCVSGNLFU    1        NaN     NaN\n",
       "2  IRHDZFIROE  UZHIMMBPBI    1        NaN     NaN\n",
       "3  LRHZSDVIUT  RQTUFVOQNG    1  2438839.0  156033\n",
       "4  PGFZUBGVTF  TPNSRRMLMO    1  6165000.0  156033\n",
       "5  RQTUFVOQNG  PGFZUBGVTF    1  2798488.0  156033\n",
       "6  TPNSRRMLMO  IRHDZFIROE    1  9675139.0  156033\n",
       "7  UZHIMMBPBI  GAIHFAVBIB    1        NaN     NaN"
      ],
      "text/html": [
       "<div>\n",
       "<style scoped>\n",
       "    .dataframe tbody tr th:only-of-type {\n",
       "        vertical-align: middle;\n",
       "    }\n",
       "\n",
       "    .dataframe tbody tr th {\n",
       "        vertical-align: top;\n",
       "    }\n",
       "\n",
       "    .dataframe thead th {\n",
       "        text-align: right;\n",
       "    }\n",
       "</style>\n",
       "<table border=\"1\" class=\"dataframe\">\n",
       "  <thead>\n",
       "    <tr style=\"text-align: right;\">\n",
       "      <th></th>\n",
       "      <th>source</th>\n",
       "      <th>destination</th>\n",
       "      <th>used</th>\n",
       "      <th>capacity</th>\n",
       "      <th>amount</th>\n",
       "    </tr>\n",
       "  </thead>\n",
       "  <tbody>\n",
       "    <tr>\n",
       "      <th>0</th>\n",
       "      <td>EPCVSGNLFU</td>\n",
       "      <td>LRHZSDVIUT</td>\n",
       "      <td>1</td>\n",
       "      <td>NaN</td>\n",
       "      <td>NaN</td>\n",
       "    </tr>\n",
       "    <tr>\n",
       "      <th>1</th>\n",
       "      <td>GAIHFAVBIB</td>\n",
       "      <td>EPCVSGNLFU</td>\n",
       "      <td>1</td>\n",
       "      <td>NaN</td>\n",
       "      <td>NaN</td>\n",
       "    </tr>\n",
       "    <tr>\n",
       "      <th>2</th>\n",
       "      <td>IRHDZFIROE</td>\n",
       "      <td>UZHIMMBPBI</td>\n",
       "      <td>1</td>\n",
       "      <td>NaN</td>\n",
       "      <td>NaN</td>\n",
       "    </tr>\n",
       "    <tr>\n",
       "      <th>3</th>\n",
       "      <td>LRHZSDVIUT</td>\n",
       "      <td>RQTUFVOQNG</td>\n",
       "      <td>1</td>\n",
       "      <td>2438839.0</td>\n",
       "      <td>156033</td>\n",
       "    </tr>\n",
       "    <tr>\n",
       "      <th>4</th>\n",
       "      <td>PGFZUBGVTF</td>\n",
       "      <td>TPNSRRMLMO</td>\n",
       "      <td>1</td>\n",
       "      <td>6165000.0</td>\n",
       "      <td>156033</td>\n",
       "    </tr>\n",
       "    <tr>\n",
       "      <th>5</th>\n",
       "      <td>RQTUFVOQNG</td>\n",
       "      <td>PGFZUBGVTF</td>\n",
       "      <td>1</td>\n",
       "      <td>2798488.0</td>\n",
       "      <td>156033</td>\n",
       "    </tr>\n",
       "    <tr>\n",
       "      <th>6</th>\n",
       "      <td>TPNSRRMLMO</td>\n",
       "      <td>IRHDZFIROE</td>\n",
       "      <td>1</td>\n",
       "      <td>9675139.0</td>\n",
       "      <td>156033</td>\n",
       "    </tr>\n",
       "    <tr>\n",
       "      <th>7</th>\n",
       "      <td>UZHIMMBPBI</td>\n",
       "      <td>GAIHFAVBIB</td>\n",
       "      <td>1</td>\n",
       "      <td>NaN</td>\n",
       "      <td>NaN</td>\n",
       "    </tr>\n",
       "  </tbody>\n",
       "</table>\n",
       "</div>"
      ]
     },
     "execution_count": 16,
     "metadata": {},
     "output_type": "execute_result"
    }
   ],
   "execution_count": 16
  }
 ],
 "metadata": {
  "kernelspec": {
   "display_name": "Python 3 (ipykernel)",
   "language": "python",
   "name": "python3"
  },
  "language_info": {
   "codemirror_mode": {
    "name": "ipython",
    "version": 3
   },
   "file_extension": ".py",
   "mimetype": "text/x-python",
   "name": "python",
   "nbconvert_exporter": "python",
   "pygments_lexer": "ipython3",
   "version": "3.10.4"
  }
 },
 "nbformat": 4,
 "nbformat_minor": 5
}
