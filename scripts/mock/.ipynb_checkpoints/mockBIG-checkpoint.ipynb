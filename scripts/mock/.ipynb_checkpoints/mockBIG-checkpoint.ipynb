{
 "cells": [
  {
   "cell_type": "code",
   "id": "initial_id",
   "metadata": {
    "collapsed": true
   },
   "source": [
    "import pandas as pd\n",
    "import pyomo.environ as pyo\n",
    "import networkx as nx\n",
    "import matplotlib.pyplot as plt\n",
    "import random\n",
    "from random import sample"
   ],
   "outputs": [],
   "execution_count": null
  },
  {
   "metadata": {},
   "cell_type": "code",
   "source": [
    "nodes = pd.read_pickle(\"../../data/mock/mock_nodes.pkl\")\n",
    "channels = pd.read_pickle(\"../../data/mock/mock_channels.pkl\")"
   ],
   "id": "7d244b47fbddebd",
   "outputs": [],
   "execution_count": null
  },
  {
   "metadata": {},
   "cell_type": "code",
   "source": [
    "nodes.to_csv(\"../../data/mock/mock_nodes.csv\")\n",
    "channels.to_csv(\"../../data/mock/mock_channels.csv\")"
   ],
   "id": "d1c3999230343e5",
   "outputs": [],
   "execution_count": null
  },
  {
   "metadata": {},
   "cell_type": "code",
   "source": [
    "## Note that the following are arbitrary policies, that can be changed as needed.\n",
    "## Deal with multi-edges (aka multiple channels between two peers):\n",
    "## - average rate fee\n",
    "## - average base fee,\n",
    "## - average capacity\n",
    "## - keep one of the two channel ids\n",
    "aggregation_dict = {\n",
    "    \"channel_id\": \"first\",\n",
    "    \"rate_fee\": \"mean\",\n",
    "    \"base_fee\": \"mean\",\n",
    "    \"capacity\": \"sum\"\n",
    "}\n",
    "channels.reset_index(inplace=True)\n",
    "channels = channels.groupby([\"node1_pub\", \"node2_pub\"]).agg(aggregation_dict)\n",
    "channels.reset_index(inplace=True)\n",
    "channels.set_index(\"channel_id\", inplace=True)"
   ],
   "id": "176755c28b47adad",
   "outputs": [],
   "execution_count": null
  },
  {
   "metadata": {},
   "cell_type": "code",
   "source": [
    "## To delete from [outgoing] and [incoming] lists the multi-edge\n",
    "for i in nodes.index:\n",
    "    chan = []\n",
    "    for l in nodes.loc[i, \"outgoing_channels\"]:\n",
    "        if l in channels.index:\n",
    "            chan.append(l)\n",
    "    nodes.at[i, \"outgoing_channels\"] = chan\n",
    "\n",
    "for i in nodes.index:\n",
    "    chan = []\n",
    "    for l in nodes.loc[i, \"incoming_channels\"]:\n",
    "        if l in channels.index:\n",
    "            chan.append(l)\n",
    "    nodes.at[i, \"incoming_channels\"] = chan\n"
   ],
   "id": "cdc1a122dd8b924c",
   "outputs": [],
   "execution_count": null
  },
  {
   "metadata": {},
   "cell_type": "code",
   "source": [
    "#nodes.reset_index(inplace=True)\n",
    "#G = nx.DiGraph()\n",
    "#\n",
    "## Add nodes to the graph\n",
    "#for _, node in nodes.iterrows():\n",
    "#    G.add_node(node['pub_key'], alias=node['alias'])\n",
    "#\n",
    "## Add edges to the graph\n",
    "#for _, edge in channels.iterrows():\n",
    "#    G.add_edge(edge['node1_pub'], edge['node2_pub'], capacity=edge['capacity'], base_fee=edge['base_fee'], #perc_fee=edge['rate_fee'])\n",
    "#\n",
    "## Draw the graph\n",
    "#pos = nx.spring_layout(G)  # positions for all nodes\n",
    "#nx.draw(G, pos, with_labels=True, node_size=2000, node_color='skyblue', font_size=10, font_color='black', #font_weight='bold')\n",
    "#\n",
    "## Add edge labels\n",
    "#edge_labels = {(u, v): f\"{d['capacity']}\" for u, v, d in G.edges(data=True)}\n",
    "#nx.draw_networkx_edge_labels(G, pos, edge_labels=edge_labels)\n",
    "#\n",
    "#plt.title('Network Graph')\n",
    "#plt.show()\n",
    "#nodes.set_index(\"pub_key\", inplace=True)"
   ],
   "id": "9bfb7dc6c3025508",
   "outputs": [],
   "execution_count": null
  },
  {
   "metadata": {},
   "cell_type": "code",
   "source": [
    "model = pyo.ConcreteModel(name=\"Min cost flow problem\")\n",
    "model.NODES = pyo.Set(initialize=nodes.index)\n",
    "model.CHANNELS = pyo.Set(initialize=[(channels.loc[i, \"node1_pub\"], channels.loc[i, \"node2_pub\"]) for i in channels.index])"
   ],
   "id": "ea3d0db7f7e46b7d",
   "outputs": [],
   "execution_count": null
  },
  {
   "metadata": {},
   "cell_type": "code",
   "source": [
    "\n",
    "def create_demand(pd_object: pd.DataFrame) -> pd.DataFrame:\n",
    "    \"\"\"\n",
    "    This function assigns the role of sender and receiver to\n",
    "    two random nodes in the network\n",
    "    :param pd_object: nodes dataframe\n",
    "    :return: nodes dataset with demand column\n",
    "    \"\"\"\n",
    "    #random.seed(874631)\n",
    "    counterparties = sample(pd_object.index.to_list(), 2)\n",
    "    sender = counterparties[0]\n",
    "    receiver = counterparties[1]\n",
    "    # Amounts in millisat (aka 10'000'000 is 10'000 sats)\n",
    "    amount = 1000 #random.randint(a=10000000, b=30000000)\n",
    "\n",
    "    print(\n",
    "        f\"Transaction of {amount} sats from {pd_object[pd_object.index == sender]['alias'].item()} to {pd_object[pd_object.index == receiver]['alias'].item()}.\")\n",
    "\n",
    "    pd_object[\"demand\"] = 0\n",
    "    pd_object.loc[pd_object.index == sender, \"demand\"] = -amount\n",
    "    pd_object.loc[pd_object.index == receiver, \"demand\"] = amount\n",
    "\n",
    "    return pd_object\n",
    "\n",
    "\n",
    "nodes = create_demand(nodes)\n",
    "\n"
   ],
   "id": "41ed51c274423430",
   "outputs": [],
   "execution_count": null
  },
  {
   "metadata": {},
   "cell_type": "code",
   "source": [
    "model.x = pyo.Var(model.CHANNELS, domain=pyo.Binary)\n",
    "model.a = pyo.Var(model.CHANNELS, domain=pyo.NonNegativeReals, bounds=(0, max(nodes[\"demand\"])))\n",
    "model.s = pyo.Var(model.CHANNELS, domain=pyo.Binary)"
   ],
   "id": "ce35b6e7912339a4",
   "outputs": [],
   "execution_count": null
  },
  {
   "metadata": {},
   "cell_type": "code",
   "source": [
    "channels.reset_index(inplace=True)\n",
    "channels.set_index([\"node1_pub\", \"node2_pub\"], inplace=True)\n",
    "channels.sort_index(inplace=True)"
   ],
   "id": "53da0ddf773f3686",
   "outputs": [],
   "execution_count": null
  },
  {
   "metadata": {},
   "cell_type": "code",
   "source": [
    "def objective_function(model: pyo.ConcreteModel):\n",
    "    return sum(model.a[i] * channels.loc[i, \"rate_fee\"] for i in model.CHANNELS) + sum(model.x[i] * channels.loc[i, \"base_fee\"] for i in model.CHANNELS)\n",
    "\n",
    "model.totalCost = pyo.Objective(rule=objective_function(model), sense=pyo.minimize)"
   ],
   "id": "337e984db9df0f3d",
   "outputs": [],
   "execution_count": null
  },
  {
   "metadata": {},
   "cell_type": "code",
   "source": [
    "## Single path constrain\n",
    "#def single_path_rule(model: pyo.ConcreteModel, n):\n",
    "#    outgoing_edges = [nodes.loc[a, \"outgoing_channels\"] for a, b in model.CHANNELS if a == nodes.index[n]]\n",
    "#    incoming_edges = [(a, b) for a, b in model.CHANNELS if b == nodes.index[n]]\n",
    "#    \n",
    "#    return sum(model.s[i, j] for i, j in outgoing_edges) == 1 and sum(model.s[i, j] for i, j in incoming_edges) == 1\n",
    "#\n",
    "#model.SinglePathConstraint= pyo.Constraint(model.NODES, rule=single_path_rule)"
   ],
   "id": "baaef5e9759d66b4",
   "outputs": [],
   "execution_count": null
  },
  {
   "metadata": {},
   "cell_type": "code",
   "source": [
    "def capacity_constraint(model: pyo.ConcreteModel, a, b):\n",
    "    return model.a[(a, b)] <=  channels.loc[(a, b), \"capacity\"] * (1 if channels.loc[(a,b), \"base_fee\"]<1 else model.x[(a, b)])\n",
    "\n",
    "model.CapacityConstraint = pyo.Constraint(model.CHANNELS, rule=capacity_constraint, name=\"Capacity constraint\")"
   ],
   "id": "9c928570a17fd77b",
   "outputs": [],
   "execution_count": null
  },
  {
   "metadata": {},
   "cell_type": "code",
   "source": [
    "channels.reset_index(inplace=True)\n",
    "channels.set_index(\"channel_id\", inplace=True)\n",
    "\n",
    "def flow_balance_constraint(model: pyo.ConcreteModel, n: str):\n",
    "    InFlow = sum(model.a[(channels.loc[a, \"node1_pub\"], channels.loc[a, \"node2_pub\"])] for a in nodes.loc[n, 'incoming_channels'])\n",
    "    OutFlow = sum(model.a[(channels.loc[a, \"node1_pub\"], channels.loc[a, \"node2_pub\"])] for a in nodes.loc[n, 'outgoing_channels'])\n",
    "    return  InFlow + nodes.loc[n, \"demand\"] == OutFlow\n",
    "\n",
    "model.FlowBalanceConstraint = pyo.Constraint(model.NODES, rule=flow_balance_constraint, name=\"Flow balance constrain\")\n",
    "\n",
    "channels.reset_index(inplace=True)\n",
    "channels.set_index([\"node1_pub\", \"node2_pub\"], inplace=True)\n",
    "channels.sort_index(inplace=True)        "
   ],
   "id": "1c20ce38e84130fd",
   "outputs": [],
   "execution_count": null
  },
  {
   "metadata": {},
   "cell_type": "code",
   "source": [
    "opt = pyo.SolverFactory('cbc')\n",
    "results = opt.solve(model, tee=True)\n",
    "\n",
    "if (results.solver.status == pyo.SolverStatus.ok) and (results.solver.termination_condition == pyo.TerminationCondition.optimal):\n",
    "    print('\\nOptimal solution found')\n",
    "elif results.solver.termination_condition == pyo.TerminationCondition.feasible:\n",
    "    print('\\nFeasible but not proven optimal solution found')\n",
    "elif results.solver.termination_condition == pyo.TerminationCondition.infeasible:\n",
    "    raise Exception(\"The model is infeasible\")\n",
    "else:\n",
    "    print('\\nSolver Status: ',  results.solver.status)\n",
    "    raise Exception(results.solver.status)\n",
    "\n",
    "print('\\nObject function value = ', model.Objective())\n",
    "\n"
   ],
   "id": "85d248c15c8cd37b",
   "outputs": [],
   "execution_count": null
  },
  {
   "metadata": {},
   "cell_type": "code",
   "source": [
    "ris = []\n",
    "for i,v in model.a.extract_values().items():\n",
    "    if v != 0:\n",
    "        ris.append((i, v))\n",
    "\n",
    "print(ris)\n"
   ],
   "id": "b36679e13fa957c2",
   "outputs": [],
   "execution_count": null
  },
  {
   "metadata": {},
   "cell_type": "code",
   "source": [
    "from decimal import Decimal\n",
    "DF = pd.DataFrame()\n",
    "c = 0\n",
    "for index, value in model.a.extract_values().items():\n",
    "    DF.loc[c, \"amount\"] = Decimal(value)\n",
    "    DF.loc[c, \"source\"] = index[0]\n",
    "    DF.loc[c, \"destination\"] = index[1]\n",
    "    c += 1"
   ],
   "id": "1f168a5be17af3f0",
   "outputs": [],
   "execution_count": null
  },
  {
   "metadata": {},
   "cell_type": "code",
   "source": "DF[DF[\"amount\"]>0]",
   "id": "1b765341bc6c8d50",
   "outputs": [],
   "execution_count": null
  },
  {
   "metadata": {},
   "cell_type": "code",
   "source": [
    "nodes.reset_index(inplace=True)\n",
    "DF_nodes = nodes[nodes[\"pub_key\"].isin(DF.loc[DF[\"amount\"] > 0, \"source\"].tolist()) | nodes[\"pub_key\"].isin(DF.loc[DF[\"amount\"] > 0, \"destination\"].tolist())]\n",
    "nodes.set_index(\"pub_key\", inplace=True)\n",
    "\n",
    "DF_nodes"
   ],
   "id": "dfb25dc9894c3326",
   "outputs": [],
   "execution_count": null
  },
  {
   "metadata": {},
   "cell_type": "code",
   "source": "model.x.get_values()",
   "id": "adf63a4f7eb41fd5",
   "outputs": [],
   "execution_count": null
  }
 ],
 "metadata": {
  "kernelspec": {
   "display_name": "Python 3",
   "language": "python",
   "name": "python3"
  },
  "language_info": {
   "codemirror_mode": {
    "name": "ipython",
    "version": 2
   },
   "file_extension": ".py",
   "mimetype": "text/x-python",
   "name": "python",
   "nbconvert_exporter": "python",
   "pygments_lexer": "ipython2",
   "version": "2.7.6"
  }
 },
 "nbformat": 4,
 "nbformat_minor": 5
}
