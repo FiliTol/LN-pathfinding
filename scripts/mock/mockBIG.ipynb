{
 "cells": [
  {
   "cell_type": "code",
   "id": "initial_id",
   "metadata": {
    "collapsed": true,
    "ExecuteTime": {
     "end_time": "2024-07-08T16:04:02.624461Z",
     "start_time": "2024-07-08T16:03:59.643511Z"
    }
   },
   "source": [
    "import pandas as pd\n",
    "import pyomo.environ as pyo\n",
    "import networkx as nx\n",
    "import matplotlib.pyplot as plt\n",
    "import random\n",
    "from random import sample"
   ],
   "outputs": [],
   "execution_count": 1
  },
  {
   "metadata": {
    "ExecuteTime": {
     "end_time": "2024-07-08T16:04:02.639305Z",
     "start_time": "2024-07-08T16:04:02.628598Z"
    }
   },
   "cell_type": "code",
   "source": [
    "nodes = pd.read_pickle(\"../../data/mock/mock_nodes.pkl\")\n",
    "channels = pd.read_pickle(\"../../data/mock/mock_channels.pkl\")"
   ],
   "id": "7d244b47fbddebd",
   "outputs": [],
   "execution_count": 2
  },
  {
   "metadata": {
    "ExecuteTime": {
     "end_time": "2024-07-08T16:04:02.669132Z",
     "start_time": "2024-07-08T16:04:02.642342Z"
    }
   },
   "cell_type": "code",
   "source": [
    "nodes.to_csv(\"../../data/mock/mock_nodes.csv\")\n",
    "channels.to_csv(\"../../data/mock/mock_channels.csv\")"
   ],
   "id": "d1c3999230343e5",
   "outputs": [],
   "execution_count": 3
  },
  {
   "metadata": {
    "ExecuteTime": {
     "end_time": "2024-07-08T16:04:02.692932Z",
     "start_time": "2024-07-08T16:04:02.673965Z"
    }
   },
   "cell_type": "code",
   "source": [
    "## Note that the following are arbitrary policies, that can be changed as needed.\n",
    "## Deal with multi-edges (aka multiple channels between two peers):\n",
    "## - average rate fee\n",
    "## - average base fee,\n",
    "## - average capacity\n",
    "## - keep one of the two channel ids\n",
    "aggregation_dict = {\n",
    "    \"channel_id\": \"first\",\n",
    "    \"rate_fee\": \"mean\",\n",
    "    \"base_fee\": \"mean\",\n",
    "    \"capacity\": \"sum\"\n",
    "}\n",
    "channels.reset_index(inplace=True)\n",
    "channels = channels.groupby([\"node1_pub\", \"node2_pub\"]).agg(aggregation_dict)\n",
    "channels.reset_index(inplace=True)\n",
    "channels.set_index(\"channel_id\", inplace=True)"
   ],
   "id": "176755c28b47adad",
   "outputs": [],
   "execution_count": 4
  },
  {
   "metadata": {
    "ExecuteTime": {
     "end_time": "2024-07-08T16:04:02.732630Z",
     "start_time": "2024-07-08T16:04:02.695542Z"
    }
   },
   "cell_type": "code",
   "source": [
    "## To delete from [outgoing] and [incoming] lists the multi-edge\n",
    "for i in nodes.index:\n",
    "    chan = []\n",
    "    for l in nodes.loc[i, \"outgoing_channels\"]:\n",
    "        if l in channels.index:\n",
    "            chan.append(l)\n",
    "    nodes.at[i, \"outgoing_channels\"] = chan\n",
    "\n",
    "for i in nodes.index:\n",
    "    chan = []\n",
    "    for l in nodes.loc[i, \"incoming_channels\"]:\n",
    "        if l in channels.index:\n",
    "            chan.append(l)\n",
    "    nodes.at[i, \"incoming_channels\"] = chan\n"
   ],
   "id": "cdc1a122dd8b924c",
   "outputs": [],
   "execution_count": 5
  },
  {
   "metadata": {
    "ExecuteTime": {
     "end_time": "2024-07-08T16:04:02.743903Z",
     "start_time": "2024-07-08T16:04:02.736217Z"
    }
   },
   "cell_type": "code",
   "source": [
    "#nodes.reset_index(inplace=True)\n",
    "#G = nx.DiGraph()\n",
    "#\n",
    "## Add nodes to the graph\n",
    "#for _, node in nodes.iterrows():\n",
    "#    G.add_node(node['pub_key'], alias=node['alias'])\n",
    "#\n",
    "## Add edges to the graph\n",
    "#for _, edge in channels.iterrows():\n",
    "#    G.add_edge(edge['node1_pub'], edge['node2_pub'], capacity=edge['capacity'], base_fee=edge['base_fee'], #perc_fee=edge['rate_fee'])\n",
    "#\n",
    "## Draw the graph\n",
    "#pos = nx.spring_layout(G)  # positions for all nodes\n",
    "#nx.draw(G, pos, with_labels=True, node_size=2000, node_color='skyblue', font_size=10, font_color='black', #font_weight='bold')\n",
    "#\n",
    "## Add edge labels\n",
    "#edge_labels = {(u, v): f\"{d['capacity']}\" for u, v, d in G.edges(data=True)}\n",
    "#nx.draw_networkx_edge_labels(G, pos, edge_labels=edge_labels)\n",
    "#\n",
    "#plt.title('Network Graph')\n",
    "#plt.show()\n",
    "#nodes.set_index(\"pub_key\", inplace=True)"
   ],
   "id": "9bfb7dc6c3025508",
   "outputs": [],
   "execution_count": 6
  },
  {
   "metadata": {
    "ExecuteTime": {
     "end_time": "2024-07-08T16:04:02.803462Z",
     "start_time": "2024-07-08T16:04:02.746853Z"
    }
   },
   "cell_type": "code",
   "source": [
    "model = pyo.ConcreteModel(name=\"Min cost flow problem\")\n",
    "model.NODES = pyo.Set(initialize=nodes.index)\n",
    "model.CHANNELS = pyo.Set(initialize=[(channels.loc[i, \"node1_pub\"], channels.loc[i, \"node2_pub\"]) for i in channels.index])"
   ],
   "id": "ea3d0db7f7e46b7d",
   "outputs": [],
   "execution_count": 7
  },
  {
   "metadata": {
    "ExecuteTime": {
     "end_time": "2024-07-08T16:04:02.915108Z",
     "start_time": "2024-07-08T16:04:02.806632Z"
    }
   },
   "cell_type": "code",
   "source": [
    "\n",
    "def create_demand(pd_object: pd.DataFrame) -> pd.DataFrame:\n",
    "    \"\"\"\n",
    "    This function assigns the role of sender and receiver to\n",
    "    two random nodes in the network\n",
    "    :param pd_object: nodes dataframe\n",
    "    :return: nodes dataset with demand column\n",
    "    \"\"\"\n",
    "    #random.seed(874631)\n",
    "    counterparties = sample(pd_object.index.to_list(), 2)\n",
    "    sender = counterparties[0]\n",
    "    receiver = counterparties[1]\n",
    "    # Amounts in millisat (aka 10'000'000 is 10'000 sats)\n",
    "    amount = 1000 #random.randint(a=10000000, b=30000000)\n",
    "\n",
    "    print(\n",
    "        f\"Transaction of {amount} sats from {pd_object[pd_object.index == sender]['alias'].item()} to {pd_object[pd_object.index == receiver]['alias'].item()}.\")\n",
    "\n",
    "    pd_object[\"demand\"] = 0\n",
    "    pd_object.loc[pd_object.index == sender, \"demand\"] = -amount\n",
    "    pd_object.loc[pd_object.index == receiver, \"demand\"] = amount\n",
    "\n",
    "    return pd_object\n",
    "\n",
    "\n",
    "nodes = create_demand(nodes)\n",
    "\n"
   ],
   "id": "41ed51c274423430",
   "outputs": [
    {
     "name": "stdout",
     "output_type": "stream",
     "text": [
      "Transaction of 1000 sats from ZMMPQABQVV.com to DVONBCPQBA.com.\n"
     ]
    }
   ],
   "execution_count": 8
  },
  {
   "metadata": {
    "ExecuteTime": {
     "end_time": "2024-07-08T16:04:02.933588Z",
     "start_time": "2024-07-08T16:04:02.919538Z"
    }
   },
   "cell_type": "code",
   "source": [
    "model.x = pyo.Var(model.CHANNELS, domain=pyo.Binary)\n",
    "model.a = pyo.Var(model.CHANNELS, domain=pyo.NonNegativeReals, bounds=(0, max(nodes[\"demand\"])))"
   ],
   "id": "ce35b6e7912339a4",
   "outputs": [],
   "execution_count": 9
  },
  {
   "metadata": {
    "ExecuteTime": {
     "end_time": "2024-07-08T16:04:02.954673Z",
     "start_time": "2024-07-08T16:04:02.940356Z"
    }
   },
   "cell_type": "code",
   "source": [
    "channels.reset_index(inplace=True)\n",
    "channels.set_index([\"node1_pub\", \"node2_pub\"], inplace=True)\n",
    "channels.sort_index(inplace=True)"
   ],
   "id": "53da0ddf773f3686",
   "outputs": [],
   "execution_count": 10
  },
  {
   "metadata": {
    "ExecuteTime": {
     "end_time": "2024-07-08T16:04:03.152272Z",
     "start_time": "2024-07-08T16:04:02.957458Z"
    }
   },
   "cell_type": "code",
   "source": [
    "def objective_function(model: pyo.ConcreteModel):\n",
    "    return sum(model.a[i] * channels.loc[i, \"rate_fee\"] for i in model.CHANNELS) + sum(model.x[i] * channels.loc[i, \"base_fee\"] for i in model.CHANNELS)\n",
    "\n",
    "model.totalCost = pyo.Objective(rule=objective_function(model), sense=pyo.minimize)"
   ],
   "id": "337e984db9df0f3d",
   "outputs": [],
   "execution_count": 11
  },
  {
   "metadata": {
    "ExecuteTime": {
     "end_time": "2024-07-08T16:04:03.340284Z",
     "start_time": "2024-07-08T16:04:03.155034Z"
    }
   },
   "cell_type": "code",
   "source": [
    "def capacity_constraint(model: pyo.ConcreteModel, a, b):\n",
    "    return model.a[(a, b)] <=  channels.loc[(a, b), \"capacity\"] * (1 if channels.loc[(a,b), \"base_fee\"]<1 else model.x[(a, b)])\n",
    "\n",
    "model.CapacityConstraint = pyo.Constraint(model.CHANNELS, rule=capacity_constraint, name=\"Capacity constraint\")"
   ],
   "id": "9c928570a17fd77b",
   "outputs": [],
   "execution_count": 12
  },
  {
   "metadata": {
    "ExecuteTime": {
     "end_time": "2024-07-08T16:04:03.426967Z",
     "start_time": "2024-07-08T16:04:03.342596Z"
    }
   },
   "cell_type": "code",
   "source": [
    "channels.reset_index(inplace=True)\n",
    "channels.set_index(\"channel_id\", inplace=True)\n",
    "\n",
    "def flow_balance_constraint(model: pyo.ConcreteModel, n: str):\n",
    "    return sum(model.a[(channels.loc[a, \"node1_pub\"], channels.loc[a, \"node2_pub\"])] for a in nodes.loc[n, 'incoming_channels']) - sum(model.a[(channels.loc[a, \"node1_pub\"], channels.loc[a, \"node2_pub\"])] for a in nodes.loc[n, 'outgoing_channels']) == nodes.loc[n, \"demand\"]\n",
    "\n",
    "model.FlowBalanceConstraint = pyo.Constraint(model.NODES, rule=flow_balance_constraint, name=\"Flow balance constrain\")\n",
    "\n",
    "channels.reset_index(inplace=True)\n",
    "channels.set_index([\"node1_pub\", \"node2_pub\"], inplace=True)\n",
    "channels.sort_index(inplace=True)        "
   ],
   "id": "1c20ce38e84130fd",
   "outputs": [],
   "execution_count": 13
  },
  {
   "metadata": {
    "ExecuteTime": {
     "end_time": "2024-07-08T16:04:03.577909Z",
     "start_time": "2024-07-08T16:04:03.429150Z"
    }
   },
   "cell_type": "code",
   "source": [
    "opt = pyo.SolverFactory('cbc')\n",
    "results = opt.solve(model, tee=True)\n",
    "\n",
    "if (results.solver.status == pyo.SolverStatus.ok) and (results.solver.termination_condition == pyo.TerminationCondition.optimal):\n",
    "    print('\\nOptimal solution found')\n",
    "elif results.solver.termination_condition == pyo.TerminationCondition.feasible:\n",
    "    print('\\nFeasible but not proven optimal solution found')\n",
    "elif results.solver.termination_condition == pyo.TerminationCondition.infeasible:\n",
    "    raise Exception(\"The model is infeasible\")\n",
    "else:\n",
    "    print('\\nSolver Status: ',  results.solver.status)\n",
    "    raise Exception(results.solver.status)\n",
    "\n",
    "print('\\nObject function value = ', model.Objective())\n",
    "\n"
   ],
   "id": "85d248c15c8cd37b",
   "outputs": [
    {
     "name": "stdout",
     "output_type": "stream",
     "text": [
      "Welcome to the CBC MILP Solver \n",
      "Version: 2.10.8 \n",
      "Build Date: May  9 2022 \n",
      "\n",
      "command line - /usr/bin/cbc -printingOptions all -import /tmp/tmpyt03cg6y.pyomo.lp -stat=1 -solve -solu /tmp/tmpyt03cg6y.pyomo.soln (default strategy 1)\n",
      "Option for printingOptions changed from normal to all\n",
      "Presolve 98 (-690) rows, 687 (-692) columns and 1349 (-696) elements\n",
      "Statistics for presolved model\n",
      "Original problem has 689 integers (689 of which binary)\n",
      "Presolved problem has 1 integers (1 of which binary)\n",
      "==== 75 zero objective 16 different\n",
      "==== absolute objective values 16 different\n",
      "==== for integers 0 zero objective 1 different\n",
      "1 variables have objective of 1\n",
      "==== for integers absolute objective values 1 different\n",
      "1 variables have objective of 1\n",
      "===== end objective counts\n",
      "\n",
      "\n",
      "Problem has 98 rows, 687 columns (612 with objective) and 1349 elements\n",
      "There are 26 singletons with objective \n",
      "Column breakdown:\n",
      "0 of type 0.0->inf, 686 of type 0.0->up, 0 of type lo->inf, \n",
      "0 of type lo->up, 0 of type free, 0 of type fixed, \n",
      "0 of type -inf->0.0, 0 of type -inf->up, 1 of type 0.0->1.0 \n",
      "Row breakdown:\n",
      "94 of type E 0.0, 0 of type E 1.0, 0 of type E -1.0, \n",
      "2 of type E other, 0 of type G 0.0, 0 of type G 1.0, \n",
      "0 of type G other, 1 of type L 0.0, 0 of type L 1.0, \n",
      "0 of type L other, 0 of type Range 0.0->1.0, 1 of type Range other, \n",
      "0 of type Free \n",
      "Continuous objective value is 0.006 - 0.00 seconds\n",
      "Cgl0004I processed model has 98 rows, 687 columns (1 integer (1 of which binary)) and 1349 elements\n",
      "Cbc0038I Initial state - 0 integers unsatisfied sum - 0\n",
      "Cbc0038I Solution found of 0.006\n",
      "Cbc0038I Relaxing continuous gives 0.006\n",
      "Cbc0038I Before mini branch and bound, 1 integers at bound fixed and 676 continuous\n",
      "Cbc0038I Mini branch and bound did not improve solution (0.01 seconds)\n",
      "Cbc0038I After 0.01 seconds - Feasibility pump exiting with objective of 0.006 - took 0.00 seconds\n",
      "Cbc0012I Integer solution of 0.006 found by feasibility pump after 0 iterations and 0 nodes (0.01 seconds)\n",
      "Cbc0001I Search completed - best objective 0.006, took 0 iterations and 0 nodes (0.01 seconds)\n",
      "Cbc0035I Maximum depth 0, 0 variables fixed on reduced cost\n",
      "Cuts at root node changed objective from 0.006 to 0.006\n",
      "Probing was tried 0 times and created 0 cuts of which 0 were active after adding rounds of cuts (0.000 seconds)\n",
      "Gomory was tried 0 times and created 0 cuts of which 0 were active after adding rounds of cuts (0.000 seconds)\n",
      "Knapsack was tried 0 times and created 0 cuts of which 0 were active after adding rounds of cuts (0.000 seconds)\n",
      "Clique was tried 0 times and created 0 cuts of which 0 were active after adding rounds of cuts (0.000 seconds)\n",
      "MixedIntegerRounding2 was tried 0 times and created 0 cuts of which 0 were active after adding rounds of cuts (0.000 seconds)\n",
      "FlowCover was tried 0 times and created 0 cuts of which 0 were active after adding rounds of cuts (0.000 seconds)\n",
      "TwoMirCuts was tried 0 times and created 0 cuts of which 0 were active after adding rounds of cuts (0.000 seconds)\n",
      "ZeroHalf was tried 0 times and created 0 cuts of which 0 were active after adding rounds of cuts (0.000 seconds)\n",
      "\n",
      "Result - Optimal solution found\n",
      "\n",
      "Objective value:                0.00600000\n",
      "Enumerated nodes:               0\n",
      "Total iterations:               0\n",
      "Time (CPU seconds):             0.02\n",
      "Time (Wallclock seconds):       0.03\n",
      "\n",
      "Total time (CPU seconds):       0.03   (Wallclock seconds):       0.04\n",
      "\n",
      "\n",
      "Optimal solution found\n",
      "\n",
      "Object function value =  <pyomo.core.base.block._generic_component_decorator object at 0x7fabb6ca2620>\n"
     ]
    }
   ],
   "execution_count": 14
  },
  {
   "metadata": {
    "ExecuteTime": {
     "end_time": "2024-07-08T16:04:03.589633Z",
     "start_time": "2024-07-08T16:04:03.580909Z"
    }
   },
   "cell_type": "code",
   "source": [
    "ris = []\n",
    "for i,v in model.a.extract_values().items():\n",
    "    if v != 0:\n",
    "        ris.append((i, v))\n",
    "\n",
    "print(ris)\n"
   ],
   "id": "b36679e13fa957c2",
   "outputs": [
    {
     "name": "stdout",
     "output_type": "stream",
     "text": [
      "[(('DVONBCPQBA', 'LCUESNVMDH'), 500.0), (('HLVAPEDHNI', 'INBILMNRAZ'), 500.0), (('LCUESNVMDH', 'PCVFZFFFPN'), 500.0), (('MRUEZMUPCN', 'DVONBCPQBA'), 500.0), (('PCPFRTUCCV', 'MRUEZMUPCN'), 500.0), (('PCVFZFFFPN', 'PCPFRTUCCV'), 500.0), (('TDGQNDRRDO', 'TZBIIOFEHU'), 500.0), (('TDGQNDRRDO', 'ZZVDLVHZVS'), 500.0), (('TZBIIOFEHU', 'HLVAPEDHNI'), 500.0), (('TZBIIOFEHU', 'ZMMPQABQVV'), 1000.0), (('ZZVDLVHZVS', 'INBILMNRAZ'), 500.0)]\n"
     ]
    }
   ],
   "execution_count": 15
  },
  {
   "metadata": {
    "ExecuteTime": {
     "end_time": "2024-07-08T16:04:04.727580Z",
     "start_time": "2024-07-08T16:04:03.593132Z"
    }
   },
   "cell_type": "code",
   "source": [
    "from decimal import Decimal\n",
    "DF = pd.DataFrame()\n",
    "c = 0\n",
    "for index, value in model.a.extract_values().items():\n",
    "    DF.loc[c, \"amount\"] = Decimal(value)\n",
    "    DF.loc[c, \"source\"] = index[0]\n",
    "    DF.loc[c, \"destination\"] = index[1]\n",
    "    c += 1"
   ],
   "id": "1f168a5be17af3f0",
   "outputs": [],
   "execution_count": 16
  },
  {
   "metadata": {
    "ExecuteTime": {
     "end_time": "2024-07-08T16:04:04.753570Z",
     "start_time": "2024-07-08T16:04:04.729875Z"
    }
   },
   "cell_type": "code",
   "source": "DF[DF[\"amount\"]>0]",
   "id": "1b765341bc6c8d50",
   "outputs": [
    {
     "data": {
      "text/plain": [
       "    amount      source destination\n",
       "73     500  DVONBCPQBA  LCUESNVMDH\n",
       "185    500  HLVAPEDHNI  INBILMNRAZ\n",
       "246    500  LCUESNVMDH  PCVFZFFFPN\n",
       "267    500  MRUEZMUPCN  DVONBCPQBA\n",
       "336    500  PCPFRTUCCV  MRUEZMUPCN\n",
       "349    500  PCVFZFFFPN  PCPFRTUCCV\n",
       "495    500  TDGQNDRRDO  TZBIIOFEHU\n",
       "500    500  TDGQNDRRDO  ZZVDLVHZVS\n",
       "525    500  TZBIIOFEHU  HLVAPEDHNI\n",
       "529   1000  TZBIIOFEHU  ZMMPQABQVV\n",
       "681    500  ZZVDLVHZVS  INBILMNRAZ"
      ],
      "text/html": [
       "<div>\n",
       "<style scoped>\n",
       "    .dataframe tbody tr th:only-of-type {\n",
       "        vertical-align: middle;\n",
       "    }\n",
       "\n",
       "    .dataframe tbody tr th {\n",
       "        vertical-align: top;\n",
       "    }\n",
       "\n",
       "    .dataframe thead th {\n",
       "        text-align: right;\n",
       "    }\n",
       "</style>\n",
       "<table border=\"1\" class=\"dataframe\">\n",
       "  <thead>\n",
       "    <tr style=\"text-align: right;\">\n",
       "      <th></th>\n",
       "      <th>amount</th>\n",
       "      <th>source</th>\n",
       "      <th>destination</th>\n",
       "    </tr>\n",
       "  </thead>\n",
       "  <tbody>\n",
       "    <tr>\n",
       "      <th>73</th>\n",
       "      <td>500</td>\n",
       "      <td>DVONBCPQBA</td>\n",
       "      <td>LCUESNVMDH</td>\n",
       "    </tr>\n",
       "    <tr>\n",
       "      <th>185</th>\n",
       "      <td>500</td>\n",
       "      <td>HLVAPEDHNI</td>\n",
       "      <td>INBILMNRAZ</td>\n",
       "    </tr>\n",
       "    <tr>\n",
       "      <th>246</th>\n",
       "      <td>500</td>\n",
       "      <td>LCUESNVMDH</td>\n",
       "      <td>PCVFZFFFPN</td>\n",
       "    </tr>\n",
       "    <tr>\n",
       "      <th>267</th>\n",
       "      <td>500</td>\n",
       "      <td>MRUEZMUPCN</td>\n",
       "      <td>DVONBCPQBA</td>\n",
       "    </tr>\n",
       "    <tr>\n",
       "      <th>336</th>\n",
       "      <td>500</td>\n",
       "      <td>PCPFRTUCCV</td>\n",
       "      <td>MRUEZMUPCN</td>\n",
       "    </tr>\n",
       "    <tr>\n",
       "      <th>349</th>\n",
       "      <td>500</td>\n",
       "      <td>PCVFZFFFPN</td>\n",
       "      <td>PCPFRTUCCV</td>\n",
       "    </tr>\n",
       "    <tr>\n",
       "      <th>495</th>\n",
       "      <td>500</td>\n",
       "      <td>TDGQNDRRDO</td>\n",
       "      <td>TZBIIOFEHU</td>\n",
       "    </tr>\n",
       "    <tr>\n",
       "      <th>500</th>\n",
       "      <td>500</td>\n",
       "      <td>TDGQNDRRDO</td>\n",
       "      <td>ZZVDLVHZVS</td>\n",
       "    </tr>\n",
       "    <tr>\n",
       "      <th>525</th>\n",
       "      <td>500</td>\n",
       "      <td>TZBIIOFEHU</td>\n",
       "      <td>HLVAPEDHNI</td>\n",
       "    </tr>\n",
       "    <tr>\n",
       "      <th>529</th>\n",
       "      <td>1000</td>\n",
       "      <td>TZBIIOFEHU</td>\n",
       "      <td>ZMMPQABQVV</td>\n",
       "    </tr>\n",
       "    <tr>\n",
       "      <th>681</th>\n",
       "      <td>500</td>\n",
       "      <td>ZZVDLVHZVS</td>\n",
       "      <td>INBILMNRAZ</td>\n",
       "    </tr>\n",
       "  </tbody>\n",
       "</table>\n",
       "</div>"
      ]
     },
     "execution_count": 17,
     "metadata": {},
     "output_type": "execute_result"
    }
   ],
   "execution_count": 17
  },
  {
   "metadata": {
    "ExecuteTime": {
     "end_time": "2024-07-08T16:04:04.791594Z",
     "start_time": "2024-07-08T16:04:04.756063Z"
    }
   },
   "cell_type": "code",
   "source": [
    "nodes.reset_index(inplace=True)\n",
    "DF_nodes = nodes[nodes[\"pub_key\"].isin(DF.loc[DF[\"amount\"] > 0, \"source\"].tolist()) | nodes[\"pub_key\"].isin(DF.loc[DF[\"amount\"] > 0, \"source\"].tolist())]\n",
    "nodes.set_index(\"pub_key\", inplace=True)\n",
    "\n",
    "DF_nodes"
   ],
   "id": "dfb25dc9894c3326",
   "outputs": [
    {
     "data": {
      "text/plain": [
       "       pub_key           alias addresses  \\\n",
       "6   PCPFRTUCCV  PCPFRTUCCV.com         1   \n",
       "7   TZBIIOFEHU  TZBIIOFEHU.com         1   \n",
       "9   PCVFZFFFPN  PCVFZFFFPN.com         1   \n",
       "12  ZZVDLVHZVS  ZZVDLVHZVS.com         1   \n",
       "17  DVONBCPQBA  DVONBCPQBA.com         1   \n",
       "21  HLVAPEDHNI  HLVAPEDHNI.com         1   \n",
       "29  MRUEZMUPCN  MRUEZMUPCN.com         1   \n",
       "51  LCUESNVMDH  LCUESNVMDH.com         1   \n",
       "69  TDGQNDRRDO  TDGQNDRRDO.com         1   \n",
       "\n",
       "                                    outgoing_channels  \\\n",
       "6   [312287859253314262, 821340761473787334, 44023...   \n",
       "7   [644952002657532143, 226105421905442682, 79118...   \n",
       "9   [622127303179346374, 603656459058207834, 20015...   \n",
       "12  [776711399907502220, 075145049836483800, 57138...   \n",
       "17  [973105797850423708, 827551619361151868, 44849...   \n",
       "21  [355720426933786839, 960871026467193173, 94158...   \n",
       "29  [580046434895452062, 976865912217095860, 03859...   \n",
       "51  [553242481043470896, 519786247212586006, 16730...   \n",
       "69  [495357589030588409, 518665765708883840, 22610...   \n",
       "\n",
       "                                    incoming_channels  demand  \n",
       "6   [INV312287859253314262, INV821340761473787334,...       0  \n",
       "7   [INV644952002657532143, INV226105421905442682,...       0  \n",
       "9   [INV622127303179346374, INV603656459058207834,...       0  \n",
       "12  [INV776711399907502220, INV075145049836483800,...       0  \n",
       "17  [INV973105797850423708, INV827551619361151868,...    1000  \n",
       "21  [INV355720426933786839, INV960871026467193173,...       0  \n",
       "29  [INV580046434895452062, INV976865912217095860,...       0  \n",
       "51  [INV553242481043470896, INV519786247212586006,...       0  \n",
       "69  [INV495357589030588409, INV518665765708883840,...       0  "
      ],
      "text/html": [
       "<div>\n",
       "<style scoped>\n",
       "    .dataframe tbody tr th:only-of-type {\n",
       "        vertical-align: middle;\n",
       "    }\n",
       "\n",
       "    .dataframe tbody tr th {\n",
       "        vertical-align: top;\n",
       "    }\n",
       "\n",
       "    .dataframe thead th {\n",
       "        text-align: right;\n",
       "    }\n",
       "</style>\n",
       "<table border=\"1\" class=\"dataframe\">\n",
       "  <thead>\n",
       "    <tr style=\"text-align: right;\">\n",
       "      <th></th>\n",
       "      <th>pub_key</th>\n",
       "      <th>alias</th>\n",
       "      <th>addresses</th>\n",
       "      <th>outgoing_channels</th>\n",
       "      <th>incoming_channels</th>\n",
       "      <th>demand</th>\n",
       "    </tr>\n",
       "  </thead>\n",
       "  <tbody>\n",
       "    <tr>\n",
       "      <th>6</th>\n",
       "      <td>PCPFRTUCCV</td>\n",
       "      <td>PCPFRTUCCV.com</td>\n",
       "      <td>1</td>\n",
       "      <td>[312287859253314262, 821340761473787334, 44023...</td>\n",
       "      <td>[INV312287859253314262, INV821340761473787334,...</td>\n",
       "      <td>0</td>\n",
       "    </tr>\n",
       "    <tr>\n",
       "      <th>7</th>\n",
       "      <td>TZBIIOFEHU</td>\n",
       "      <td>TZBIIOFEHU.com</td>\n",
       "      <td>1</td>\n",
       "      <td>[644952002657532143, 226105421905442682, 79118...</td>\n",
       "      <td>[INV644952002657532143, INV226105421905442682,...</td>\n",
       "      <td>0</td>\n",
       "    </tr>\n",
       "    <tr>\n",
       "      <th>9</th>\n",
       "      <td>PCVFZFFFPN</td>\n",
       "      <td>PCVFZFFFPN.com</td>\n",
       "      <td>1</td>\n",
       "      <td>[622127303179346374, 603656459058207834, 20015...</td>\n",
       "      <td>[INV622127303179346374, INV603656459058207834,...</td>\n",
       "      <td>0</td>\n",
       "    </tr>\n",
       "    <tr>\n",
       "      <th>12</th>\n",
       "      <td>ZZVDLVHZVS</td>\n",
       "      <td>ZZVDLVHZVS.com</td>\n",
       "      <td>1</td>\n",
       "      <td>[776711399907502220, 075145049836483800, 57138...</td>\n",
       "      <td>[INV776711399907502220, INV075145049836483800,...</td>\n",
       "      <td>0</td>\n",
       "    </tr>\n",
       "    <tr>\n",
       "      <th>17</th>\n",
       "      <td>DVONBCPQBA</td>\n",
       "      <td>DVONBCPQBA.com</td>\n",
       "      <td>1</td>\n",
       "      <td>[973105797850423708, 827551619361151868, 44849...</td>\n",
       "      <td>[INV973105797850423708, INV827551619361151868,...</td>\n",
       "      <td>1000</td>\n",
       "    </tr>\n",
       "    <tr>\n",
       "      <th>21</th>\n",
       "      <td>HLVAPEDHNI</td>\n",
       "      <td>HLVAPEDHNI.com</td>\n",
       "      <td>1</td>\n",
       "      <td>[355720426933786839, 960871026467193173, 94158...</td>\n",
       "      <td>[INV355720426933786839, INV960871026467193173,...</td>\n",
       "      <td>0</td>\n",
       "    </tr>\n",
       "    <tr>\n",
       "      <th>29</th>\n",
       "      <td>MRUEZMUPCN</td>\n",
       "      <td>MRUEZMUPCN.com</td>\n",
       "      <td>1</td>\n",
       "      <td>[580046434895452062, 976865912217095860, 03859...</td>\n",
       "      <td>[INV580046434895452062, INV976865912217095860,...</td>\n",
       "      <td>0</td>\n",
       "    </tr>\n",
       "    <tr>\n",
       "      <th>51</th>\n",
       "      <td>LCUESNVMDH</td>\n",
       "      <td>LCUESNVMDH.com</td>\n",
       "      <td>1</td>\n",
       "      <td>[553242481043470896, 519786247212586006, 16730...</td>\n",
       "      <td>[INV553242481043470896, INV519786247212586006,...</td>\n",
       "      <td>0</td>\n",
       "    </tr>\n",
       "    <tr>\n",
       "      <th>69</th>\n",
       "      <td>TDGQNDRRDO</td>\n",
       "      <td>TDGQNDRRDO.com</td>\n",
       "      <td>1</td>\n",
       "      <td>[495357589030588409, 518665765708883840, 22610...</td>\n",
       "      <td>[INV495357589030588409, INV518665765708883840,...</td>\n",
       "      <td>0</td>\n",
       "    </tr>\n",
       "  </tbody>\n",
       "</table>\n",
       "</div>"
      ]
     },
     "execution_count": 18,
     "metadata": {},
     "output_type": "execute_result"
    }
   ],
   "execution_count": 18
  }
 ],
 "metadata": {
  "kernelspec": {
   "display_name": "Python 3",
   "language": "python",
   "name": "python3"
  },
  "language_info": {
   "codemirror_mode": {
    "name": "ipython",
    "version": 2
   },
   "file_extension": ".py",
   "mimetype": "text/x-python",
   "name": "python",
   "nbconvert_exporter": "python",
   "pygments_lexer": "ipython2",
   "version": "2.7.6"
  }
 },
 "nbformat": 4,
 "nbformat_minor": 5
}
