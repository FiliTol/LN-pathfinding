{
 "cells": [
  {
   "cell_type": "code",
   "id": "initial_id",
   "metadata": {
    "ExecuteTime": {
     "end_time": "2024-07-14T14:01:51.710047Z",
     "start_time": "2024-07-14T14:01:48.929314Z"
    }
   },
   "source": [
    "import pandas as pd\n",
    "import pyomo.environ as pyo\n",
    "import networkx as nx\n",
    "import matplotlib.pyplot as plt\n",
    "import random\n",
    "from random import sample"
   ],
   "outputs": [],
   "execution_count": 1
  },
  {
   "cell_type": "code",
   "id": "7d244b47fbddebd",
   "metadata": {
    "ExecuteTime": {
     "end_time": "2024-07-14T14:01:51.726779Z",
     "start_time": "2024-07-14T14:01:51.715524Z"
    }
   },
   "source": [
    "nodes = pd.read_pickle(\"../../data/mock/mock_nodes.pkl\")\n",
    "channels = pd.read_pickle(\"../../data/mock/mock_channels.pkl\")"
   ],
   "outputs": [],
   "execution_count": 2
  },
  {
   "cell_type": "code",
   "id": "d1c3999230343e5",
   "metadata": {
    "ExecuteTime": {
     "end_time": "2024-07-14T14:01:51.759349Z",
     "start_time": "2024-07-14T14:01:51.730556Z"
    }
   },
   "source": [
    "nodes.to_csv(\"../../data/mock/mock_nodes.csv\")\n",
    "channels.to_csv(\"../../data/mock/mock_channels.csv\")"
   ],
   "outputs": [],
   "execution_count": 3
  },
  {
   "cell_type": "code",
   "id": "176755c28b47adad",
   "metadata": {
    "ExecuteTime": {
     "end_time": "2024-07-14T14:01:51.782776Z",
     "start_time": "2024-07-14T14:01:51.763437Z"
    }
   },
   "source": [
    "## Note that the following are arbitrary policies, that can be changed as needed.\n",
    "## Deal with multi-edges (aka multiple channels between two peers):\n",
    "## - average rate fee\n",
    "## - average base fee,\n",
    "## - average capacity\n",
    "## - keep one of the two channel ids\n",
    "aggregation_dict = {\n",
    "    \"channel_id\": \"first\",\n",
    "    \"rate_fee\": \"mean\",\n",
    "    \"base_fee\": \"mean\",\n",
    "    \"capacity\": \"sum\"\n",
    "}\n",
    "channels.reset_index(inplace=True)\n",
    "channels = channels.groupby([\"node1_pub\", \"node2_pub\"]).agg(aggregation_dict)\n",
    "channels.reset_index(inplace=True)\n",
    "channels.set_index(\"channel_id\", inplace=True)"
   ],
   "outputs": [],
   "execution_count": 4
  },
  {
   "cell_type": "code",
   "id": "cdc1a122dd8b924c",
   "metadata": {
    "ExecuteTime": {
     "end_time": "2024-07-14T14:01:51.822002Z",
     "start_time": "2024-07-14T14:01:51.785630Z"
    }
   },
   "source": [
    "## To delete from [outgoing] and [incoming] lists the multi-edge\n",
    "for i in nodes.index:\n",
    "    chan = []\n",
    "    for l in nodes.loc[i, \"outgoing_channels\"]:\n",
    "        if l in channels.index:\n",
    "            chan.append(l)\n",
    "    nodes.at[i, \"outgoing_channels\"] = chan\n",
    "\n",
    "for i in nodes.index:\n",
    "    chan = []\n",
    "    for l in nodes.loc[i, \"incoming_channels\"]:\n",
    "        if l in channels.index:\n",
    "            chan.append(l)\n",
    "    nodes.at[i, \"incoming_channels\"] = chan"
   ],
   "outputs": [],
   "execution_count": 5
  },
  {
   "metadata": {
    "ExecuteTime": {
     "end_time": "2024-07-14T14:01:52.459296Z",
     "start_time": "2024-07-14T14:01:51.825678Z"
    }
   },
   "cell_type": "code",
   "source": [
    "# Add to the nodes dataset the list of peers (nodes who have a channel with the N node)\n",
    "channels.reset_index(inplace=True)\n",
    "channels.set_index([\"node1_pub\", \"node2_pub\"], inplace=True)\n",
    "nodes[\"peers\"] = None\n",
    "for n in nodes.index:\n",
    "    peers = []\n",
    "    for c in nodes.loc[n, \"outgoing_channels\"]:\n",
    "        source, destination = channels[channels[\"channel_id\"]==c].index[0]\n",
    "        #print(f\"For node {n}, the channel {c} is {source} --> {destination}\")\n",
    "        try:\n",
    "            assert source == n\n",
    "            peers.append(destination)\n",
    "        except AssertionError as e:\n",
    "            print(f\"{source} is NOT equal to {n} for channel {c}\")\n",
    "    #print(peers)\n",
    "    nodes.at[n, \"peers\"] = peers\n",
    "channels.reset_index(inplace=True) \n",
    "channels.set_index(\"channel_id\", inplace=True)"
   ],
   "id": "e3e912786443eaec",
   "outputs": [],
   "execution_count": 6
  },
  {
   "cell_type": "code",
   "id": "ea3d0db7f7e46b7d",
   "metadata": {
    "ExecuteTime": {
     "end_time": "2024-07-14T14:01:52.503191Z",
     "start_time": "2024-07-14T14:01:52.461829Z"
    }
   },
   "source": [
    "model = pyo.ConcreteModel(name=\"Min cost flow problem\")\n",
    "model.NODES = pyo.Set(initialize=nodes.index)\n",
    "model.CHANNELS = pyo.Set(initialize=[(channels.loc[i, \"node1_pub\"], channels.loc[i, \"node2_pub\"]) for i in channels.index])"
   ],
   "outputs": [],
   "execution_count": 7
  },
  {
   "cell_type": "code",
   "id": "41ed51c274423430",
   "metadata": {
    "ExecuteTime": {
     "end_time": "2024-07-14T14:01:52.525184Z",
     "start_time": "2024-07-14T14:01:52.505597Z"
    }
   },
   "source": [
    "\n",
    "def create_demand(pd_object: pd.DataFrame) -> pd.DataFrame:\n",
    "    \"\"\"\n",
    "    This function assigns the role of sender and receiver to\n",
    "    two random nodes in the network\n",
    "    :param pd_object: nodes dataframe\n",
    "    :return: nodes dataset with demand column\n",
    "    \"\"\"\n",
    "    #random.seed(874631)\n",
    "    counterparties = sample(pd_object.index.to_list(), 2)\n",
    "    sender = counterparties[0]\n",
    "    receiver = counterparties[1]\n",
    "    # Amounts in millisat (aka 10'000'000 is 10'000 sats)\n",
    "    amount = 1524560 #random.randint(a=10000000, b=30000000)\n",
    "\n",
    "    print(\n",
    "        f\"Transaction of {amount} sats from {pd_object[pd_object.index == sender]['alias'].item()} to {pd_object[pd_object.index == receiver]['alias'].item()}.\")\n",
    "\n",
    "    pd_object[\"demand\"] = 0\n",
    "    pd_object.loc[pd_object.index == sender, \"demand\"] = -amount\n",
    "    pd_object.loc[pd_object.index == receiver, \"demand\"] = amount\n",
    "\n",
    "    return pd_object\n",
    "\n",
    "\n",
    "nodes = create_demand(nodes)\n",
    "\n"
   ],
   "outputs": [
    {
     "name": "stdout",
     "output_type": "stream",
     "text": [
      "Transaction of 1524560 sats from UZHIMMBPBI.com to ISGMDIAZUV.com.\n"
     ]
    }
   ],
   "execution_count": 8
  },
  {
   "cell_type": "code",
   "id": "ce35b6e7912339a4",
   "metadata": {
    "ExecuteTime": {
     "end_time": "2024-07-14T14:01:52.548948Z",
     "start_time": "2024-07-14T14:01:52.527647Z"
    }
   },
   "source": [
    "model.x = pyo.Var(model.CHANNELS, domain=pyo.Binary)\n",
    "model.a = pyo.Var(model.CHANNELS, domain=pyo.NonNegativeReals, bounds=(0, max(nodes[\"demand\"])))"
   ],
   "outputs": [],
   "execution_count": 9
  },
  {
   "cell_type": "code",
   "id": "53da0ddf773f3686",
   "metadata": {
    "ExecuteTime": {
     "end_time": "2024-07-14T14:01:52.568087Z",
     "start_time": "2024-07-14T14:01:52.556751Z"
    }
   },
   "source": [
    "channels.reset_index(inplace=True)\n",
    "channels.set_index([\"node1_pub\", \"node2_pub\"], inplace=True)\n",
    "channels.sort_index(inplace=True)"
   ],
   "outputs": [],
   "execution_count": 10
  },
  {
   "cell_type": "code",
   "id": "337e984db9df0f3d",
   "metadata": {
    "ExecuteTime": {
     "end_time": "2024-07-14T14:01:52.756281Z",
     "start_time": "2024-07-14T14:01:52.570779Z"
    }
   },
   "source": [
    "def objective_function(model: pyo.ConcreteModel):\n",
    "    return sum(model.x[i] * channels.loc[i, \"base_fee\"] for i in model.CHANNELS) + sum(model.a[i] * channels.loc[i, \"rate_fee\"] for i in model.CHANNELS)\n",
    "\n",
    "model.totalCost = pyo.Objective(rule=objective_function(model), sense=pyo.minimize)"
   ],
   "outputs": [],
   "execution_count": 11
  },
  {
   "cell_type": "code",
   "id": "baaef5e9759d66b4",
   "metadata": {
    "ExecuteTime": {
     "end_time": "2024-07-14T14:01:52.802728Z",
     "start_time": "2024-07-14T14:01:52.759085Z"
    }
   },
   "source": [
    "## Single path constrain\n",
    "def number_path_rule(model: pyo.ConcreteModel, n):\n",
    "    outgoing = [model.x[(i, j)] for i, j in channels.index if i == n]\n",
    "    incoming = [model.x[(i, j)] for i, j in channels.index if j == n]\n",
    "    #outgoing = sum(model.x[(i, j)].value for j in nodes.at[n, \"peers\"] if i == n)\n",
    "    #incoming = sum(model.x[(i, j)].value for i in nodes.at[n, \"peers\"] if j == n)\n",
    "    return sum(incoming) == sum(outgoing)\n",
    "\n",
    "model.NumberPathConstraint = pyo.Constraint(model.NODES, rule=number_path_rule)"
   ],
   "outputs": [],
   "execution_count": 12
  },
  {
   "cell_type": "code",
   "id": "9c928570a17fd77b",
   "metadata": {
    "ExecuteTime": {
     "end_time": "2024-07-14T14:01:52.928907Z",
     "start_time": "2024-07-14T14:01:52.805274Z"
    }
   },
   "source": [
    "def capacity_constraint(model: pyo.ConcreteModel, a, b):\n",
    "    return model.a[(a, b)] <=  channels.loc[(a, b), \"capacity\"] * model.x[(a, b)]\n",
    "\n",
    "model.CapacityConstraint = pyo.Constraint(model.CHANNELS, rule=capacity_constraint, name=\"Capacity constraint\")"
   ],
   "outputs": [],
   "execution_count": 13
  },
  {
   "cell_type": "code",
   "id": "1c20ce38e84130fd",
   "metadata": {
    "ExecuteTime": {
     "end_time": "2024-07-14T14:01:53.023696Z",
     "start_time": "2024-07-14T14:01:52.931362Z"
    }
   },
   "source": [
    "channels.reset_index(inplace=True)\n",
    "channels.set_index(\"channel_id\", inplace=True)\n",
    "\n",
    "def flow_balance_constraint(model: pyo.ConcreteModel, n: str):\n",
    "    InFlow = sum(model.a[(channels.loc[a, \"node1_pub\"], channels.loc[a, \"node2_pub\"])] for a in nodes.loc[n, 'incoming_channels'])\n",
    "    OutFlow = sum(model.a[(channels.loc[a, \"node1_pub\"], channels.loc[a, \"node2_pub\"])] for a in nodes.loc[n, 'outgoing_channels'])\n",
    "    return  OutFlow + nodes.loc[n, \"demand\"] == InFlow\n",
    "\n",
    "model.FlowBalanceConstraint = pyo.Constraint(model.NODES, rule=flow_balance_constraint, name=\"Flow balance constrain\")\n",
    "\n",
    "channels.reset_index(inplace=True)\n",
    "channels.set_index([\"node1_pub\", \"node2_pub\"], inplace=True)\n",
    "channels.sort_index(inplace=True)        "
   ],
   "outputs": [],
   "execution_count": 14
  },
  {
   "cell_type": "code",
   "id": "85d248c15c8cd37b",
   "metadata": {
    "ExecuteTime": {
     "end_time": "2024-07-14T14:01:53.219932Z",
     "start_time": "2024-07-14T14:01:53.026729Z"
    }
   },
   "source": [
    "opt = pyo.SolverFactory('cbc')\n",
    "results = opt.solve(model, tee=True)\n",
    "\n",
    "if (results.solver.status == pyo.SolverStatus.ok) and (results.solver.termination_condition == pyo.TerminationCondition.optimal):\n",
    "    print('\\nOptimal solution found')\n",
    "elif results.solver.termination_condition == pyo.TerminationCondition.feasible:\n",
    "    print('\\nFeasible but not proven optimal solution found')\n",
    "elif results.solver.termination_condition == pyo.TerminationCondition.infeasible:\n",
    "    raise Exception(\"The model is infeasible\")\n",
    "else:\n",
    "    print('\\nSolver Status: ',  results.solver.status)\n",
    "    raise Exception(results.solver.status)\n",
    "\n",
    "print('\\nObject function value = ', model.Objective())\n",
    "\n"
   ],
   "outputs": [
    {
     "name": "stdout",
     "output_type": "stream",
     "text": [
      "Welcome to the CBC MILP Solver \n",
      "Version: 2.10.8 \n",
      "Build Date: May  9 2022 \n",
      "\n",
      "command line - /usr/bin/cbc -printingOptions all -import /tmp/tmpftt8j6kl.pyomo.lp -stat=1 -solve -solu /tmp/tmpftt8j6kl.pyomo.soln (default strategy 1)\n",
      "Option for printingOptions changed from normal to all\n",
      "Presolve 883 (-3) rows, 1378 (-2) columns and 4078 (-10) elements\n",
      "Statistics for presolved model\n",
      "Original problem has 690 integers (690 of which binary)\n",
      "Presolved problem has 689 integers (689 of which binary)\n",
      "==== 77 zero objective 511 different\n",
      "==== absolute objective values 511 different\n",
      "==== for integers 1 zero objective 497 different\n",
      "==== for integers absolute objective values 497 different\n",
      "===== end objective counts\n",
      "\n",
      "\n",
      "Problem has 883 rows, 1378 columns (1301 with objective) and 4078 elements\n",
      "There are 2 singletons with objective \n",
      "Column breakdown:\n",
      "0 of type 0.0->inf, 689 of type 0.0->up, 0 of type lo->inf, \n",
      "0 of type lo->up, 0 of type free, 0 of type fixed, \n",
      "0 of type -inf->0.0, 0 of type -inf->up, 689 of type 0.0->1.0 \n",
      "Row breakdown:\n",
      "192 of type E 0.0, 0 of type E 1.0, 0 of type E -1.0, \n",
      "2 of type E other, 0 of type G 0.0, 0 of type G 1.0, \n",
      "0 of type G other, 689 of type L 0.0, 0 of type L 1.0, \n",
      "0 of type L other, 0 of type Range 0.0->1.0, 0 of type Range other, \n",
      "0 of type Free \n",
      "Continuous objective value is 12.8328 - 0.01 seconds\n",
      "Cgl0004I processed model has 882 rows, 1376 columns (688 integer (688 of which binary)) and 4076 elements\n",
      "Cbc0038I Initial state - 0 integers unsatisfied sum - 1.44329e-15\n",
      "Cbc0038I Solution found of 15.0965\n",
      "Cbc0038I Relaxing continuous gives 15.0965\n",
      "Cbc0038I Before mini branch and bound, 688 integers at bound fixed and 688 continuous\n",
      "Cbc0038I Mini branch and bound did not improve solution (0.03 seconds)\n",
      "Cbc0038I After 0.03 seconds - Feasibility pump exiting with objective of 15.0965 - took 0.01 seconds\n",
      "Cbc0012I Integer solution of 15.09648 found by feasibility pump after 0 iterations and 0 nodes (0.04 seconds)\n",
      "Cbc0001I Search completed - best objective 15.09648, took 0 iterations and 0 nodes (0.04 seconds)\n",
      "Cbc0035I Maximum depth 0, 0 variables fixed on reduced cost\n",
      "Cuts at root node changed objective from 15.0965 to 15.0965\n",
      "Probing was tried 0 times and created 0 cuts of which 0 were active after adding rounds of cuts (0.000 seconds)\n",
      "Gomory was tried 0 times and created 0 cuts of which 0 were active after adding rounds of cuts (0.000 seconds)\n",
      "Knapsack was tried 0 times and created 0 cuts of which 0 were active after adding rounds of cuts (0.000 seconds)\n",
      "Clique was tried 0 times and created 0 cuts of which 0 were active after adding rounds of cuts (0.000 seconds)\n",
      "MixedIntegerRounding2 was tried 0 times and created 0 cuts of which 0 were active after adding rounds of cuts (0.000 seconds)\n",
      "FlowCover was tried 0 times and created 0 cuts of which 0 were active after adding rounds of cuts (0.000 seconds)\n",
      "TwoMirCuts was tried 0 times and created 0 cuts of which 0 were active after adding rounds of cuts (0.000 seconds)\n",
      "ZeroHalf was tried 0 times and created 0 cuts of which 0 were active after adding rounds of cuts (0.000 seconds)\n",
      "\n",
      "Result - Optimal solution found\n",
      "\n",
      "Objective value:                15.09648000\n",
      "Enumerated nodes:               0\n",
      "Total iterations:               0\n",
      "Time (CPU seconds):             0.05\n",
      "Time (Wallclock seconds):       0.06\n",
      "\n",
      "Total time (CPU seconds):       0.07   (Wallclock seconds):       0.07\n",
      "\n",
      "\n",
      "Optimal solution found\n",
      "\n",
      "Object function value =  <pyomo.core.base.block._generic_component_decorator object at 0x7fe354d09db0>\n"
     ]
    }
   ],
   "execution_count": 15
  },
  {
   "metadata": {
    "ExecuteTime": {
     "end_time": "2024-07-14T14:01:54.435314Z",
     "start_time": "2024-07-14T14:01:53.222893Z"
    }
   },
   "cell_type": "code",
   "source": [
    "from decimal import Decimal\n",
    "DF_channels = pd.DataFrame()\n",
    "c = 0\n",
    "for index, value in model.a.extract_values().items():\n",
    "    DF_channels.loc[c, \"source\"] = index[0]\n",
    "    DF_channels.loc[c, \"destination\"] = index[1]\n",
    "    DF_channels.loc[c, \"capacity\"] = channels.loc[index, \"capacity\"]\n",
    "    DF_channels.loc[c, \"amount\"] = Decimal(value)\n",
    "    c += 1\n",
    "    \n",
    "DF_channels_pos = DF_channels[DF_channels[\"amount\"]!=0]\n",
    "DF_channels_pos"
   ],
   "id": "a30b622dd76183ad",
   "outputs": [
    {
     "data": {
      "text/plain": [
       "         source destination   capacity   amount\n",
       "17   BTPMLOZRGV  MSOMRDUAUM  7523197.0  1524560\n",
       "59   CPZVPUBAAH  TZTZCABFHU  6847789.0  1524560\n",
       "276  MSOMRDUAUM  OQAPDLNBGO  7324301.0  1524560\n",
       "320  OQAPDLNBGO  ISGMDIAZUV  6383098.0  1524560\n",
       "380  PPNTQEQCAU  BTPMLOZRGV  7498283.0  1524560\n",
       "532  TZTZCABFHU  PPNTQEQCAU  8823590.0  1524560\n",
       "584  UZHIMMBPBI  CPZVPUBAAH  6387262.0  1524560"
      ],
      "text/html": [
       "<div>\n",
       "<style scoped>\n",
       "    .dataframe tbody tr th:only-of-type {\n",
       "        vertical-align: middle;\n",
       "    }\n",
       "\n",
       "    .dataframe tbody tr th {\n",
       "        vertical-align: top;\n",
       "    }\n",
       "\n",
       "    .dataframe thead th {\n",
       "        text-align: right;\n",
       "    }\n",
       "</style>\n",
       "<table border=\"1\" class=\"dataframe\">\n",
       "  <thead>\n",
       "    <tr style=\"text-align: right;\">\n",
       "      <th></th>\n",
       "      <th>source</th>\n",
       "      <th>destination</th>\n",
       "      <th>capacity</th>\n",
       "      <th>amount</th>\n",
       "    </tr>\n",
       "  </thead>\n",
       "  <tbody>\n",
       "    <tr>\n",
       "      <th>17</th>\n",
       "      <td>BTPMLOZRGV</td>\n",
       "      <td>MSOMRDUAUM</td>\n",
       "      <td>7523197.0</td>\n",
       "      <td>1524560</td>\n",
       "    </tr>\n",
       "    <tr>\n",
       "      <th>59</th>\n",
       "      <td>CPZVPUBAAH</td>\n",
       "      <td>TZTZCABFHU</td>\n",
       "      <td>6847789.0</td>\n",
       "      <td>1524560</td>\n",
       "    </tr>\n",
       "    <tr>\n",
       "      <th>276</th>\n",
       "      <td>MSOMRDUAUM</td>\n",
       "      <td>OQAPDLNBGO</td>\n",
       "      <td>7324301.0</td>\n",
       "      <td>1524560</td>\n",
       "    </tr>\n",
       "    <tr>\n",
       "      <th>320</th>\n",
       "      <td>OQAPDLNBGO</td>\n",
       "      <td>ISGMDIAZUV</td>\n",
       "      <td>6383098.0</td>\n",
       "      <td>1524560</td>\n",
       "    </tr>\n",
       "    <tr>\n",
       "      <th>380</th>\n",
       "      <td>PPNTQEQCAU</td>\n",
       "      <td>BTPMLOZRGV</td>\n",
       "      <td>7498283.0</td>\n",
       "      <td>1524560</td>\n",
       "    </tr>\n",
       "    <tr>\n",
       "      <th>532</th>\n",
       "      <td>TZTZCABFHU</td>\n",
       "      <td>PPNTQEQCAU</td>\n",
       "      <td>8823590.0</td>\n",
       "      <td>1524560</td>\n",
       "    </tr>\n",
       "    <tr>\n",
       "      <th>584</th>\n",
       "      <td>UZHIMMBPBI</td>\n",
       "      <td>CPZVPUBAAH</td>\n",
       "      <td>6387262.0</td>\n",
       "      <td>1524560</td>\n",
       "    </tr>\n",
       "  </tbody>\n",
       "</table>\n",
       "</div>"
      ]
     },
     "execution_count": 16,
     "metadata": {},
     "output_type": "execute_result"
    }
   ],
   "execution_count": 16
  },
  {
   "metadata": {
    "ExecuteTime": {
     "end_time": "2024-07-14T14:01:54.454820Z",
     "start_time": "2024-07-14T14:01:54.438089Z"
    }
   },
   "cell_type": "code",
   "source": "DF_channels[DF_channels[\"amount\"]> DF_channels[\"capacity\"]]",
   "id": "f2db3649f054633f",
   "outputs": [
    {
     "data": {
      "text/plain": [
       "Empty DataFrame\n",
       "Columns: [source, destination, capacity, amount]\n",
       "Index: []"
      ],
      "text/html": [
       "<div>\n",
       "<style scoped>\n",
       "    .dataframe tbody tr th:only-of-type {\n",
       "        vertical-align: middle;\n",
       "    }\n",
       "\n",
       "    .dataframe tbody tr th {\n",
       "        vertical-align: top;\n",
       "    }\n",
       "\n",
       "    .dataframe thead th {\n",
       "        text-align: right;\n",
       "    }\n",
       "</style>\n",
       "<table border=\"1\" class=\"dataframe\">\n",
       "  <thead>\n",
       "    <tr style=\"text-align: right;\">\n",
       "      <th></th>\n",
       "      <th>source</th>\n",
       "      <th>destination</th>\n",
       "      <th>capacity</th>\n",
       "      <th>amount</th>\n",
       "    </tr>\n",
       "  </thead>\n",
       "  <tbody>\n",
       "  </tbody>\n",
       "</table>\n",
       "</div>"
      ]
     },
     "execution_count": 17,
     "metadata": {},
     "output_type": "execute_result"
    }
   ],
   "execution_count": 17
  },
  {
   "metadata": {
    "ExecuteTime": {
     "end_time": "2024-07-14T14:01:54.483962Z",
     "start_time": "2024-07-14T14:01:54.457630Z"
    }
   },
   "cell_type": "code",
   "source": [
    "#nodes.reset_index(inplace=True)\n",
    "#DF_nodes = nodes[nodes[\"pub_key\"].isin(DF_channels.loc[DF_channels[\"amount\"] > 0, \"source\"].tolist()) | nodes[\"pub_key\"].isin(DF_channels.loc[DF_channels[\"amount\"] > 0, \"destination\"].tolist())]\n",
    "#nodes.set_index(\"pub_key\", inplace=True)\n",
    "#\n",
    "#DF_nodes"
   ],
   "id": "b51364b552ce1f31",
   "outputs": [],
   "execution_count": 18
  },
  {
   "metadata": {
    "ExecuteTime": {
     "end_time": "2024-07-14T14:01:55.504024Z",
     "start_time": "2024-07-14T14:01:54.486429Z"
    }
   },
   "cell_type": "code",
   "source": [
    "DF_fixed = pd.DataFrame()\n",
    "c = 0\n",
    "for index, value in model.x.extract_values().items():\n",
    "    DF_fixed.loc[c, \"source\"] = index[0]\n",
    "    DF_fixed.loc[c, \"destination\"] = index[1]\n",
    "    DF_fixed.loc[c, \"used\"] = Decimal(value)\n",
    "    c += 1\n",
    "    \n",
    "DF_fixed_pos = DF_fixed[DF_fixed[\"used\"]!=0]"
   ],
   "id": "35c5f24126135d5",
   "outputs": [],
   "execution_count": 19
  },
  {
   "metadata": {
    "ExecuteTime": {
     "end_time": "2024-07-14T14:01:55.533832Z",
     "start_time": "2024-07-14T14:01:55.507843Z"
    }
   },
   "cell_type": "code",
   "source": [
    "# Compare in order to catch not used channels that are selected by the fixed charge constrain\n",
    "intersection = DF_fixed_pos.merge(DF_channels_pos, on=[\"source\", \"destination\"], how=\"outer\")\n",
    "intersection"
   ],
   "id": "cac48da7dd2ba557",
   "outputs": [
    {
     "data": {
      "text/plain": [
       "        source destination used   capacity   amount\n",
       "0   BTPMLOZRGV  MSOMRDUAUM    1  7523197.0  1524560\n",
       "1   BTPMLOZRGV  UZHIMMBPBI    1        NaN      NaN\n",
       "2   CPZVPUBAAH  TZTZCABFHU    1  6847789.0  1524560\n",
       "3   ISGMDIAZUV  OQAPDLNBGO    1        NaN      NaN\n",
       "4   MSOMRDUAUM  OQAPDLNBGO    1  7324301.0  1524560\n",
       "5   OQAPDLNBGO  ISGMDIAZUV    1  6383098.0  1524560\n",
       "6   OQAPDLNBGO  QRFTLLBCSS    1        NaN      NaN\n",
       "7   PGFZUBGVTF  BTPMLOZRGV    1        NaN      NaN\n",
       "8   PPNTQEQCAU  BTPMLOZRGV    1  7498283.0  1524560\n",
       "9   QRFTLLBCSS  RQTUFVOQNG    1        NaN      NaN\n",
       "10  RQTUFVOQNG  PGFZUBGVTF    1        NaN      NaN\n",
       "11  TZTZCABFHU  PPNTQEQCAU    1  8823590.0  1524560\n",
       "12  UZHIMMBPBI  CPZVPUBAAH    1  6387262.0  1524560"
      ],
      "text/html": [
       "<div>\n",
       "<style scoped>\n",
       "    .dataframe tbody tr th:only-of-type {\n",
       "        vertical-align: middle;\n",
       "    }\n",
       "\n",
       "    .dataframe tbody tr th {\n",
       "        vertical-align: top;\n",
       "    }\n",
       "\n",
       "    .dataframe thead th {\n",
       "        text-align: right;\n",
       "    }\n",
       "</style>\n",
       "<table border=\"1\" class=\"dataframe\">\n",
       "  <thead>\n",
       "    <tr style=\"text-align: right;\">\n",
       "      <th></th>\n",
       "      <th>source</th>\n",
       "      <th>destination</th>\n",
       "      <th>used</th>\n",
       "      <th>capacity</th>\n",
       "      <th>amount</th>\n",
       "    </tr>\n",
       "  </thead>\n",
       "  <tbody>\n",
       "    <tr>\n",
       "      <th>0</th>\n",
       "      <td>BTPMLOZRGV</td>\n",
       "      <td>MSOMRDUAUM</td>\n",
       "      <td>1</td>\n",
       "      <td>7523197.0</td>\n",
       "      <td>1524560</td>\n",
       "    </tr>\n",
       "    <tr>\n",
       "      <th>1</th>\n",
       "      <td>BTPMLOZRGV</td>\n",
       "      <td>UZHIMMBPBI</td>\n",
       "      <td>1</td>\n",
       "      <td>NaN</td>\n",
       "      <td>NaN</td>\n",
       "    </tr>\n",
       "    <tr>\n",
       "      <th>2</th>\n",
       "      <td>CPZVPUBAAH</td>\n",
       "      <td>TZTZCABFHU</td>\n",
       "      <td>1</td>\n",
       "      <td>6847789.0</td>\n",
       "      <td>1524560</td>\n",
       "    </tr>\n",
       "    <tr>\n",
       "      <th>3</th>\n",
       "      <td>ISGMDIAZUV</td>\n",
       "      <td>OQAPDLNBGO</td>\n",
       "      <td>1</td>\n",
       "      <td>NaN</td>\n",
       "      <td>NaN</td>\n",
       "    </tr>\n",
       "    <tr>\n",
       "      <th>4</th>\n",
       "      <td>MSOMRDUAUM</td>\n",
       "      <td>OQAPDLNBGO</td>\n",
       "      <td>1</td>\n",
       "      <td>7324301.0</td>\n",
       "      <td>1524560</td>\n",
       "    </tr>\n",
       "    <tr>\n",
       "      <th>5</th>\n",
       "      <td>OQAPDLNBGO</td>\n",
       "      <td>ISGMDIAZUV</td>\n",
       "      <td>1</td>\n",
       "      <td>6383098.0</td>\n",
       "      <td>1524560</td>\n",
       "    </tr>\n",
       "    <tr>\n",
       "      <th>6</th>\n",
       "      <td>OQAPDLNBGO</td>\n",
       "      <td>QRFTLLBCSS</td>\n",
       "      <td>1</td>\n",
       "      <td>NaN</td>\n",
       "      <td>NaN</td>\n",
       "    </tr>\n",
       "    <tr>\n",
       "      <th>7</th>\n",
       "      <td>PGFZUBGVTF</td>\n",
       "      <td>BTPMLOZRGV</td>\n",
       "      <td>1</td>\n",
       "      <td>NaN</td>\n",
       "      <td>NaN</td>\n",
       "    </tr>\n",
       "    <tr>\n",
       "      <th>8</th>\n",
       "      <td>PPNTQEQCAU</td>\n",
       "      <td>BTPMLOZRGV</td>\n",
       "      <td>1</td>\n",
       "      <td>7498283.0</td>\n",
       "      <td>1524560</td>\n",
       "    </tr>\n",
       "    <tr>\n",
       "      <th>9</th>\n",
       "      <td>QRFTLLBCSS</td>\n",
       "      <td>RQTUFVOQNG</td>\n",
       "      <td>1</td>\n",
       "      <td>NaN</td>\n",
       "      <td>NaN</td>\n",
       "    </tr>\n",
       "    <tr>\n",
       "      <th>10</th>\n",
       "      <td>RQTUFVOQNG</td>\n",
       "      <td>PGFZUBGVTF</td>\n",
       "      <td>1</td>\n",
       "      <td>NaN</td>\n",
       "      <td>NaN</td>\n",
       "    </tr>\n",
       "    <tr>\n",
       "      <th>11</th>\n",
       "      <td>TZTZCABFHU</td>\n",
       "      <td>PPNTQEQCAU</td>\n",
       "      <td>1</td>\n",
       "      <td>8823590.0</td>\n",
       "      <td>1524560</td>\n",
       "    </tr>\n",
       "    <tr>\n",
       "      <th>12</th>\n",
       "      <td>UZHIMMBPBI</td>\n",
       "      <td>CPZVPUBAAH</td>\n",
       "      <td>1</td>\n",
       "      <td>6387262.0</td>\n",
       "      <td>1524560</td>\n",
       "    </tr>\n",
       "  </tbody>\n",
       "</table>\n",
       "</div>"
      ]
     },
     "execution_count": 20,
     "metadata": {},
     "output_type": "execute_result"
    }
   ],
   "execution_count": 20
  }
 ],
 "metadata": {
  "kernelspec": {
   "display_name": "Python 3 (ipykernel)",
   "language": "python",
   "name": "python3"
  },
  "language_info": {
   "codemirror_mode": {
    "name": "ipython",
    "version": 3
   },
   "file_extension": ".py",
   "mimetype": "text/x-python",
   "name": "python",
   "nbconvert_exporter": "python",
   "pygments_lexer": "ipython3",
   "version": "3.10.4"
  }
 },
 "nbformat": 4,
 "nbformat_minor": 5
}
