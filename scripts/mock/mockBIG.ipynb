{
 "cells": [
  {
   "cell_type": "code",
   "id": "initial_id",
   "metadata": {
    "ExecuteTime": {
     "end_time": "2024-07-13T15:11:51.101642Z",
     "start_time": "2024-07-13T15:11:48.396025Z"
    }
   },
   "source": [
    "import pandas as pd\n",
    "import pyomo.environ as pyo\n",
    "import networkx as nx\n",
    "import matplotlib.pyplot as plt\n",
    "import random\n",
    "from random import sample"
   ],
   "outputs": [],
   "execution_count": 1
  },
  {
   "cell_type": "code",
   "id": "7d244b47fbddebd",
   "metadata": {
    "ExecuteTime": {
     "end_time": "2024-07-13T15:11:51.118476Z",
     "start_time": "2024-07-13T15:11:51.106459Z"
    }
   },
   "source": [
    "nodes = pd.read_pickle(\"../../data/mock/mock_nodes.pkl\")\n",
    "channels = pd.read_pickle(\"../../data/mock/mock_channels.pkl\")"
   ],
   "outputs": [],
   "execution_count": 2
  },
  {
   "cell_type": "code",
   "id": "d1c3999230343e5",
   "metadata": {
    "ExecuteTime": {
     "end_time": "2024-07-13T15:11:51.150381Z",
     "start_time": "2024-07-13T15:11:51.120565Z"
    }
   },
   "source": [
    "nodes.to_csv(\"../../data/mock/mock_nodes.csv\")\n",
    "channels.to_csv(\"../../data/mock/mock_channels.csv\")"
   ],
   "outputs": [],
   "execution_count": 3
  },
  {
   "cell_type": "code",
   "id": "176755c28b47adad",
   "metadata": {
    "ExecuteTime": {
     "end_time": "2024-07-13T15:11:51.171419Z",
     "start_time": "2024-07-13T15:11:51.153389Z"
    }
   },
   "source": [
    "## Note that the following are arbitrary policies, that can be changed as needed.\n",
    "## Deal with multi-edges (aka multiple channels between two peers):\n",
    "## - average rate fee\n",
    "## - average base fee,\n",
    "## - average capacity\n",
    "## - keep one of the two channel ids\n",
    "aggregation_dict = {\n",
    "    \"channel_id\": \"first\",\n",
    "    \"rate_fee\": \"mean\",\n",
    "    \"base_fee\": \"mean\",\n",
    "    \"capacity\": \"sum\"\n",
    "}\n",
    "channels.reset_index(inplace=True)\n",
    "channels = channels.groupby([\"node1_pub\", \"node2_pub\"]).agg(aggregation_dict)\n",
    "channels.reset_index(inplace=True)\n",
    "channels.set_index(\"channel_id\", inplace=True)"
   ],
   "outputs": [],
   "execution_count": 4
  },
  {
   "cell_type": "code",
   "id": "cdc1a122dd8b924c",
   "metadata": {
    "ExecuteTime": {
     "end_time": "2024-07-13T15:11:51.210781Z",
     "start_time": "2024-07-13T15:11:51.176215Z"
    }
   },
   "source": [
    "## To delete from [outgoing] and [incoming] lists the multi-edge\n",
    "for i in nodes.index:\n",
    "    chan = []\n",
    "    for l in nodes.loc[i, \"outgoing_channels\"]:\n",
    "        if l in channels.index:\n",
    "            chan.append(l)\n",
    "    nodes.at[i, \"outgoing_channels\"] = chan\n",
    "\n",
    "for i in nodes.index:\n",
    "    chan = []\n",
    "    for l in nodes.loc[i, \"incoming_channels\"]:\n",
    "        if l in channels.index:\n",
    "            chan.append(l)\n",
    "    nodes.at[i, \"incoming_channels\"] = chan\n"
   ],
   "outputs": [],
   "execution_count": 5
  },
  {
   "metadata": {
    "ExecuteTime": {
     "end_time": "2024-07-13T15:11:51.971613Z",
     "start_time": "2024-07-13T15:11:51.214052Z"
    }
   },
   "cell_type": "code",
   "source": [
    "# Add to the nodes dataset the list of peers (nodes who have a channel with the N node)\n",
    "channels.reset_index(inplace=True)\n",
    "channels.set_index([\"node1_pub\", \"node2_pub\"], inplace=True)\n",
    "nodes[\"peers\"] = None\n",
    "for n in nodes.index:\n",
    "    peers = []\n",
    "    for c in nodes.loc[n, \"outgoing_channels\"]:\n",
    "        source, destination = channels[channels[\"channel_id\"]==c].index[0]\n",
    "        #print(f\"For node {n}, the channel {c} is {source} --> {destination}\")\n",
    "        try:\n",
    "            assert source == n\n",
    "            peers.append(destination)\n",
    "        except AssertionError as e:\n",
    "            print(f\"{source} is NOT equal to {n} for channel {c}\")\n",
    "    #print(peers)\n",
    "    nodes.at[n, \"peers\"] = peers\n",
    "channels.reset_index(inplace=True) \n",
    "channels.set_index(\"channel_id\", inplace=True)"
   ],
   "id": "e3e912786443eaec",
   "outputs": [],
   "execution_count": 6
  },
  {
   "cell_type": "code",
   "id": "ea3d0db7f7e46b7d",
   "metadata": {
    "ExecuteTime": {
     "end_time": "2024-07-13T15:11:52.036161Z",
     "start_time": "2024-07-13T15:11:51.986058Z"
    }
   },
   "source": [
    "model = pyo.ConcreteModel(name=\"Min cost flow problem\")\n",
    "model.NODES = pyo.Set(initialize=nodes.index)\n",
    "model.CHANNELS = pyo.Set(initialize=[(channels.loc[i, \"node1_pub\"], channels.loc[i, \"node2_pub\"]) for i in channels.index])"
   ],
   "outputs": [],
   "execution_count": 7
  },
  {
   "cell_type": "code",
   "id": "41ed51c274423430",
   "metadata": {
    "ExecuteTime": {
     "end_time": "2024-07-13T15:11:52.060215Z",
     "start_time": "2024-07-13T15:11:52.038526Z"
    }
   },
   "source": [
    "\n",
    "def create_demand(pd_object: pd.DataFrame) -> pd.DataFrame:\n",
    "    \"\"\"\n",
    "    This function assigns the role of sender and receiver to\n",
    "    two random nodes in the network\n",
    "    :param pd_object: nodes dataframe\n",
    "    :return: nodes dataset with demand column\n",
    "    \"\"\"\n",
    "    #random.seed(874631)\n",
    "    counterparties = sample(pd_object.index.to_list(), 2)\n",
    "    sender = counterparties[0]\n",
    "    receiver = counterparties[1]\n",
    "    # Amounts in millisat (aka 10'000'000 is 10'000 sats)\n",
    "    amount = 1524560 #random.randint(a=10000000, b=30000000)\n",
    "\n",
    "    print(\n",
    "        f\"Transaction of {amount} sats from {pd_object[pd_object.index == sender]['alias'].item()} to {pd_object[pd_object.index == receiver]['alias'].item()}.\")\n",
    "\n",
    "    pd_object[\"demand\"] = 0\n",
    "    pd_object.loc[pd_object.index == sender, \"demand\"] = -amount\n",
    "    pd_object.loc[pd_object.index == receiver, \"demand\"] = amount\n",
    "\n",
    "    return pd_object\n",
    "\n",
    "\n",
    "nodes = create_demand(nodes)\n",
    "\n"
   ],
   "outputs": [
    {
     "name": "stdout",
     "output_type": "stream",
     "text": [
      "Transaction of 1524560 sats from GPSCATHNQQ.com to OQAPDLNBGO.com.\n"
     ]
    }
   ],
   "execution_count": 8
  },
  {
   "cell_type": "code",
   "id": "ce35b6e7912339a4",
   "metadata": {
    "ExecuteTime": {
     "end_time": "2024-07-13T15:11:52.074158Z",
     "start_time": "2024-07-13T15:11:52.063009Z"
    }
   },
   "source": [
    "model.x = pyo.Var(model.CHANNELS, domain=pyo.Binary)\n",
    "model.a = pyo.Var(model.CHANNELS, domain=pyo.NonNegativeReals, bounds=(0, max(nodes[\"demand\"])))"
   ],
   "outputs": [],
   "execution_count": 9
  },
  {
   "cell_type": "code",
   "id": "53da0ddf773f3686",
   "metadata": {
    "ExecuteTime": {
     "end_time": "2024-07-13T15:11:52.091203Z",
     "start_time": "2024-07-13T15:11:52.077222Z"
    }
   },
   "source": [
    "channels.reset_index(inplace=True)\n",
    "channels.set_index([\"node1_pub\", \"node2_pub\"], inplace=True)\n",
    "channels.sort_index(inplace=True)"
   ],
   "outputs": [],
   "execution_count": 10
  },
  {
   "cell_type": "code",
   "id": "337e984db9df0f3d",
   "metadata": {
    "ExecuteTime": {
     "end_time": "2024-07-13T15:11:52.288169Z",
     "start_time": "2024-07-13T15:11:52.094197Z"
    }
   },
   "source": [
    "def objective_function(model: pyo.ConcreteModel):\n",
    "    return sum(model.a[i] * channels.loc[i, \"rate_fee\"] for i in model.CHANNELS) + sum(model.x[i] * channels.loc[i, \"base_fee\"] for i in model.CHANNELS)\n",
    "\n",
    "model.totalCost = pyo.Objective(rule=objective_function(model), sense=pyo.minimize)"
   ],
   "outputs": [],
   "execution_count": 11
  },
  {
   "cell_type": "code",
   "id": "baaef5e9759d66b4",
   "metadata": {
    "ExecuteTime": {
     "end_time": "2024-07-13T15:13:08.784318Z",
     "start_time": "2024-07-13T15:13:08.595537Z"
    }
   },
   "source": [
    "## Single path constrain\n",
    "def single_path_rule(model: pyo.ConcreteModel, n):\n",
    "    outgoing = sum(model.x[(i, j)].value for i, j in channels.index if i == n.name)\n",
    "    incoming = sum(model.x[(i, j)].value for i, j in channels.index if j == n.name)\n",
    "    #outgoing = sum(model.x[(i, j)].value for j in nodes.at[n, \"peers\"] if i == n)\n",
    "    #incoming = sum(model.x[(i, j)].value for i in nodes.at[n, \"peers\"] if j == n)\n",
    "    return incoming == 1 and outgoing == 1 \n",
    "\n",
    "model.SinglePathConstraint = pyo.Constraint(model.NODES, rule=single_path_rule)"
   ],
   "outputs": [
    {
     "name": "stdout",
     "output_type": "stream",
     "text": [
      "WARNING: Implicitly replacing the Component attribute SinglePathConstraint\n",
      "(type=<class 'pyomo.core.base.constraint.IndexedConstraint'>) on block Min\n",
      "cost flow problem with a new Component (type=<class\n",
      "'pyomo.core.base.constraint.IndexedConstraint'>). This is usually indicative\n",
      "of a modelling error. To avoid this warning, use block.del_component() and\n",
      "block.add_component().\n",
      "ERROR: Rule failed when generating expression for Constraint\n",
      "SinglePathConstraint with index FNRZTCUAZH: AttributeError: 'str' object has\n",
      "no attribute 'name'\n",
      "ERROR: Constructing component 'SinglePathConstraint' from data=None failed:\n",
      "        AttributeError: 'str' object has no attribute 'name'\n"
     ]
    },
    {
     "ename": "AttributeError",
     "evalue": "'str' object has no attribute 'name'",
     "output_type": "error",
     "traceback": [
      "\u001B[0;31m---------------------------------------------------------------------------\u001B[0m",
      "\u001B[0;31mAttributeError\u001B[0m                            Traceback (most recent call last)",
      "Cell \u001B[0;32mIn[15], line 9\u001B[0m\n\u001B[1;32m      5\u001B[0m     \u001B[38;5;66;03m#outgoing = sum(model.x[(i, j)].value for j in nodes.at[n, \"peers\"] if i == n)\u001B[39;00m\n\u001B[1;32m      6\u001B[0m     \u001B[38;5;66;03m#incoming = sum(model.x[(i, j)].value for i in nodes.at[n, \"peers\"] if j == n)\u001B[39;00m\n\u001B[1;32m      7\u001B[0m     \u001B[38;5;28;01mreturn\u001B[39;00m incoming \u001B[38;5;241m==\u001B[39m \u001B[38;5;241m1\u001B[39m \u001B[38;5;129;01mand\u001B[39;00m outgoing \u001B[38;5;241m==\u001B[39m \u001B[38;5;241m1\u001B[39m \n\u001B[0;32m----> 9\u001B[0m \u001B[43mmodel\u001B[49m\u001B[38;5;241;43m.\u001B[39;49m\u001B[43mSinglePathConstraint\u001B[49m \u001B[38;5;241m=\u001B[39m pyo\u001B[38;5;241m.\u001B[39mConstraint(model\u001B[38;5;241m.\u001B[39mNODES, rule\u001B[38;5;241m=\u001B[39msingle_path_rule)\n",
      "File \u001B[0;32m~/repositories/LN-pathfinding/venv/lib/python3.10/site-packages/pyomo/core/base/block.py:601\u001B[0m, in \u001B[0;36mBlockData.__setattr__\u001B[0;34m(self, name, val)\u001B[0m\n\u001B[1;32m    592\u001B[0m     logger\u001B[38;5;241m.\u001B[39mwarning(\n\u001B[1;32m    593\u001B[0m         \u001B[38;5;124m\"\u001B[39m\u001B[38;5;124mImplicitly replacing the Component attribute \u001B[39m\u001B[38;5;124m\"\u001B[39m\n\u001B[1;32m    594\u001B[0m         \u001B[38;5;124m\"\u001B[39m\u001B[38;5;132;01m%s\u001B[39;00m\u001B[38;5;124m (type=\u001B[39m\u001B[38;5;132;01m%s\u001B[39;00m\u001B[38;5;124m) on block \u001B[39m\u001B[38;5;132;01m%s\u001B[39;00m\u001B[38;5;124m with a new Component (type=\u001B[39m\u001B[38;5;132;01m%s\u001B[39;00m\u001B[38;5;124m).\u001B[39m\u001B[38;5;124m\"\u001B[39m\n\u001B[0;32m   (...)\u001B[0m\n\u001B[1;32m    598\u001B[0m         \u001B[38;5;241m%\u001B[39m (name, \u001B[38;5;28mtype\u001B[39m(\u001B[38;5;28mself\u001B[39m\u001B[38;5;241m.\u001B[39mcomponent(name)), \u001B[38;5;28mself\u001B[39m\u001B[38;5;241m.\u001B[39mname, \u001B[38;5;28mtype\u001B[39m(val))\n\u001B[1;32m    599\u001B[0m     )\n\u001B[1;32m    600\u001B[0m     \u001B[38;5;28mself\u001B[39m\u001B[38;5;241m.\u001B[39mdel_component(name)\n\u001B[0;32m--> 601\u001B[0m     \u001B[38;5;28;43mself\u001B[39;49m\u001B[38;5;241;43m.\u001B[39;49m\u001B[43madd_component\u001B[49m\u001B[43m(\u001B[49m\u001B[43mname\u001B[49m\u001B[43m,\u001B[49m\u001B[43m \u001B[49m\u001B[43mval\u001B[49m\u001B[43m)\u001B[49m\n\u001B[1;32m    602\u001B[0m \u001B[38;5;28;01melse\u001B[39;00m:\n\u001B[1;32m    603\u001B[0m     \u001B[38;5;66;03m#\u001B[39;00m\n\u001B[1;32m    604\u001B[0m     \u001B[38;5;66;03m# The incoming value is not a component, so we set the\u001B[39;00m\n\u001B[0;32m   (...)\u001B[0m\n\u001B[1;32m    611\u001B[0m     \u001B[38;5;66;03m# generated while setting the value.\u001B[39;00m\n\u001B[1;32m    612\u001B[0m     \u001B[38;5;66;03m#\u001B[39;00m\n\u001B[1;32m    613\u001B[0m     \u001B[38;5;28;01mtry\u001B[39;00m:\n",
      "File \u001B[0;32m~/repositories/LN-pathfinding/venv/lib/python3.10/site-packages/pyomo/core/base/block.py:1116\u001B[0m, in \u001B[0;36mBlockData.add_component\u001B[0;34m(self, name, val)\u001B[0m\n\u001B[1;32m   1108\u001B[0m     logger\u001B[38;5;241m.\u001B[39mdebug(\n\u001B[1;32m   1109\u001B[0m         \u001B[38;5;124m\"\u001B[39m\u001B[38;5;124mConstructing \u001B[39m\u001B[38;5;132;01m%s\u001B[39;00m\u001B[38;5;124m \u001B[39m\u001B[38;5;124m'\u001B[39m\u001B[38;5;132;01m%s\u001B[39;00m\u001B[38;5;124m'\u001B[39m\u001B[38;5;124m on \u001B[39m\u001B[38;5;132;01m%s\u001B[39;00m\u001B[38;5;124m from data=\u001B[39m\u001B[38;5;132;01m%s\u001B[39;00m\u001B[38;5;124m\"\u001B[39m,\n\u001B[1;32m   1110\u001B[0m         val\u001B[38;5;241m.\u001B[39m\u001B[38;5;18m__class__\u001B[39m\u001B[38;5;241m.\u001B[39m\u001B[38;5;18m__name__\u001B[39m,\n\u001B[0;32m   (...)\u001B[0m\n\u001B[1;32m   1113\u001B[0m         \u001B[38;5;28mstr\u001B[39m(data),\n\u001B[1;32m   1114\u001B[0m     )\n\u001B[1;32m   1115\u001B[0m \u001B[38;5;28;01mtry\u001B[39;00m:\n\u001B[0;32m-> 1116\u001B[0m     \u001B[43mval\u001B[49m\u001B[38;5;241;43m.\u001B[39;49m\u001B[43mconstruct\u001B[49m\u001B[43m(\u001B[49m\u001B[43mdata\u001B[49m\u001B[43m)\u001B[49m\n\u001B[1;32m   1117\u001B[0m \u001B[38;5;28;01mexcept\u001B[39;00m:\n\u001B[1;32m   1118\u001B[0m     err \u001B[38;5;241m=\u001B[39m sys\u001B[38;5;241m.\u001B[39mexc_info()[\u001B[38;5;241m1\u001B[39m]\n",
      "File \u001B[0;32m~/repositories/LN-pathfinding/venv/lib/python3.10/site-packages/pyomo/core/base/constraint.py:720\u001B[0m, in \u001B[0;36mConstraint.construct\u001B[0;34m(self, data)\u001B[0m\n\u001B[1;32m    717\u001B[0m     \u001B[38;5;28;01melse\u001B[39;00m:\n\u001B[1;32m    718\u001B[0m         \u001B[38;5;66;03m# Bypass the index validation and create the member directly\u001B[39;00m\n\u001B[1;32m    719\u001B[0m         \u001B[38;5;28;01mfor\u001B[39;00m index \u001B[38;5;129;01min\u001B[39;00m \u001B[38;5;28mself\u001B[39m\u001B[38;5;241m.\u001B[39mindex_set():\n\u001B[0;32m--> 720\u001B[0m             \u001B[38;5;28mself\u001B[39m\u001B[38;5;241m.\u001B[39m_setitem_when_not_present(index, \u001B[43mrule\u001B[49m\u001B[43m(\u001B[49m\u001B[43mblock\u001B[49m\u001B[43m,\u001B[49m\u001B[43m \u001B[49m\u001B[43mindex\u001B[49m\u001B[43m)\u001B[49m)\n\u001B[1;32m    721\u001B[0m \u001B[38;5;28;01mexcept\u001B[39;00m \u001B[38;5;167;01mException\u001B[39;00m:\n\u001B[1;32m    722\u001B[0m     err \u001B[38;5;241m=\u001B[39m sys\u001B[38;5;241m.\u001B[39mexc_info()[\u001B[38;5;241m1\u001B[39m]\n",
      "File \u001B[0;32m~/repositories/LN-pathfinding/venv/lib/python3.10/site-packages/pyomo/core/base/initializer.py:316\u001B[0m, in \u001B[0;36mIndexedCallInitializer.__call__\u001B[0;34m(self, parent, idx)\u001B[0m\n\u001B[1;32m    314\u001B[0m     \u001B[38;5;28;01mreturn\u001B[39;00m \u001B[38;5;28mself\u001B[39m\u001B[38;5;241m.\u001B[39m_fcn(parent, \u001B[38;5;241m*\u001B[39midx)\n\u001B[1;32m    315\u001B[0m \u001B[38;5;28;01melse\u001B[39;00m:\n\u001B[0;32m--> 316\u001B[0m     \u001B[38;5;28;01mreturn\u001B[39;00m \u001B[38;5;28;43mself\u001B[39;49m\u001B[38;5;241;43m.\u001B[39;49m\u001B[43m_fcn\u001B[49m\u001B[43m(\u001B[49m\u001B[43mparent\u001B[49m\u001B[43m,\u001B[49m\u001B[43m \u001B[49m\u001B[43midx\u001B[49m\u001B[43m)\u001B[49m\n",
      "Cell \u001B[0;32mIn[15], line 3\u001B[0m, in \u001B[0;36msingle_path_rule\u001B[0;34m(model, n)\u001B[0m\n\u001B[1;32m      2\u001B[0m \u001B[38;5;28;01mdef\u001B[39;00m \u001B[38;5;21msingle_path_rule\u001B[39m(model: pyo\u001B[38;5;241m.\u001B[39mConcreteModel, n):\n\u001B[0;32m----> 3\u001B[0m     outgoing \u001B[38;5;241m=\u001B[39m \u001B[38;5;28;43msum\u001B[39;49m\u001B[43m(\u001B[49m\u001B[43mmodel\u001B[49m\u001B[38;5;241;43m.\u001B[39;49m\u001B[43mx\u001B[49m\u001B[43m[\u001B[49m\u001B[43m(\u001B[49m\u001B[43mi\u001B[49m\u001B[43m,\u001B[49m\u001B[43m \u001B[49m\u001B[43mj\u001B[49m\u001B[43m)\u001B[49m\u001B[43m]\u001B[49m\u001B[38;5;241;43m.\u001B[39;49m\u001B[43mvalue\u001B[49m\u001B[43m \u001B[49m\u001B[38;5;28;43;01mfor\u001B[39;49;00m\u001B[43m \u001B[49m\u001B[43mi\u001B[49m\u001B[43m,\u001B[49m\u001B[43m \u001B[49m\u001B[43mj\u001B[49m\u001B[43m \u001B[49m\u001B[38;5;129;43;01min\u001B[39;49;00m\u001B[43m \u001B[49m\u001B[43mchannels\u001B[49m\u001B[38;5;241;43m.\u001B[39;49m\u001B[43mindex\u001B[49m\u001B[43m \u001B[49m\u001B[38;5;28;43;01mif\u001B[39;49;00m\u001B[43m \u001B[49m\u001B[43mi\u001B[49m\u001B[43m \u001B[49m\u001B[38;5;241;43m==\u001B[39;49m\u001B[43m \u001B[49m\u001B[43mn\u001B[49m\u001B[38;5;241;43m.\u001B[39;49m\u001B[43mname\u001B[49m\u001B[43m)\u001B[49m\n\u001B[1;32m      4\u001B[0m     incoming \u001B[38;5;241m=\u001B[39m \u001B[38;5;28msum\u001B[39m(model\u001B[38;5;241m.\u001B[39mx[(i, j)]\u001B[38;5;241m.\u001B[39mvalue \u001B[38;5;28;01mfor\u001B[39;00m i, j \u001B[38;5;129;01min\u001B[39;00m channels\u001B[38;5;241m.\u001B[39mindex \u001B[38;5;28;01mif\u001B[39;00m j \u001B[38;5;241m==\u001B[39m n\u001B[38;5;241m.\u001B[39mname)\n\u001B[1;32m      5\u001B[0m     \u001B[38;5;66;03m#outgoing = sum(model.x[(i, j)].value for j in nodes.at[n, \"peers\"] if i == n)\u001B[39;00m\n\u001B[1;32m      6\u001B[0m     \u001B[38;5;66;03m#incoming = sum(model.x[(i, j)].value for i in nodes.at[n, \"peers\"] if j == n)\u001B[39;00m\n",
      "Cell \u001B[0;32mIn[15], line 3\u001B[0m, in \u001B[0;36m<genexpr>\u001B[0;34m(.0)\u001B[0m\n\u001B[1;32m      2\u001B[0m \u001B[38;5;28;01mdef\u001B[39;00m \u001B[38;5;21msingle_path_rule\u001B[39m(model: pyo\u001B[38;5;241m.\u001B[39mConcreteModel, n):\n\u001B[0;32m----> 3\u001B[0m     outgoing \u001B[38;5;241m=\u001B[39m \u001B[38;5;28msum\u001B[39m(model\u001B[38;5;241m.\u001B[39mx[(i, j)]\u001B[38;5;241m.\u001B[39mvalue \u001B[38;5;28;01mfor\u001B[39;00m i, j \u001B[38;5;129;01min\u001B[39;00m channels\u001B[38;5;241m.\u001B[39mindex \u001B[38;5;28;01mif\u001B[39;00m i \u001B[38;5;241m==\u001B[39m \u001B[43mn\u001B[49m\u001B[38;5;241;43m.\u001B[39;49m\u001B[43mname\u001B[49m)\n\u001B[1;32m      4\u001B[0m     incoming \u001B[38;5;241m=\u001B[39m \u001B[38;5;28msum\u001B[39m(model\u001B[38;5;241m.\u001B[39mx[(i, j)]\u001B[38;5;241m.\u001B[39mvalue \u001B[38;5;28;01mfor\u001B[39;00m i, j \u001B[38;5;129;01min\u001B[39;00m channels\u001B[38;5;241m.\u001B[39mindex \u001B[38;5;28;01mif\u001B[39;00m j \u001B[38;5;241m==\u001B[39m n\u001B[38;5;241m.\u001B[39mname)\n\u001B[1;32m      5\u001B[0m     \u001B[38;5;66;03m#outgoing = sum(model.x[(i, j)].value for j in nodes.at[n, \"peers\"] if i == n)\u001B[39;00m\n\u001B[1;32m      6\u001B[0m     \u001B[38;5;66;03m#incoming = sum(model.x[(i, j)].value for i in nodes.at[n, \"peers\"] if j == n)\u001B[39;00m\n",
      "\u001B[0;31mAttributeError\u001B[0m: 'str' object has no attribute 'name'"
     ]
    }
   ],
   "execution_count": 15
  },
  {
   "metadata": {
    "ExecuteTime": {
     "end_time": "2024-07-13T15:11:54.205762Z",
     "start_time": "2024-07-13T15:11:54.205226Z"
    }
   },
   "cell_type": "code",
   "source": [
    "n = \"FNRZTCUAZH\"\n",
    "print(sum([model.x[(n, j)].value for j in nodes.loc[n, \"peers\"]]))"
   ],
   "id": "708f1df4c250441d",
   "outputs": [],
   "execution_count": null
  },
  {
   "cell_type": "code",
   "id": "9c928570a17fd77b",
   "metadata": {},
   "source": [
    "def capacity_constraint(model: pyo.ConcreteModel, a, b):\n",
    "    return model.a[(a, b)] <=  channels.loc[(a, b), \"capacity\"] * model.x[(a, b)]\n",
    "\n",
    "model.CapacityConstraint = pyo.Constraint(model.CHANNELS, rule=capacity_constraint, name=\"Capacity constraint\")"
   ],
   "outputs": [],
   "execution_count": null
  },
  {
   "cell_type": "code",
   "id": "1c20ce38e84130fd",
   "metadata": {},
   "source": [
    "channels.reset_index(inplace=True)\n",
    "channels.set_index(\"channel_id\", inplace=True)\n",
    "\n",
    "def flow_balance_constraint(model: pyo.ConcreteModel, n: str):\n",
    "    InFlow = sum(model.a[(channels.loc[a, \"node1_pub\"], channels.loc[a, \"node2_pub\"])] for a in nodes.loc[n, 'incoming_channels'])\n",
    "    OutFlow = sum(model.a[(channels.loc[a, \"node1_pub\"], channels.loc[a, \"node2_pub\"])] for a in nodes.loc[n, 'outgoing_channels'])\n",
    "    return  OutFlow + nodes.loc[n, \"demand\"] == InFlow\n",
    "\n",
    "model.FlowBalanceConstraint = pyo.Constraint(model.NODES, rule=flow_balance_constraint, name=\"Flow balance constrain\")\n",
    "\n",
    "channels.reset_index(inplace=True)\n",
    "channels.set_index([\"node1_pub\", \"node2_pub\"], inplace=True)\n",
    "channels.sort_index(inplace=True)        "
   ],
   "outputs": [],
   "execution_count": null
  },
  {
   "cell_type": "code",
   "id": "85d248c15c8cd37b",
   "metadata": {},
   "source": [
    "opt = pyo.SolverFactory('cbc')\n",
    "results = opt.solve(model, tee=True)\n",
    "\n",
    "if (results.solver.status == pyo.SolverStatus.ok) and (results.solver.termination_condition == pyo.TerminationCondition.optimal):\n",
    "    print('\\nOptimal solution found')\n",
    "elif results.solver.termination_condition == pyo.TerminationCondition.feasible:\n",
    "    print('\\nFeasible but not proven optimal solution found')\n",
    "elif results.solver.termination_condition == pyo.TerminationCondition.infeasible:\n",
    "    raise Exception(\"The model is infeasible\")\n",
    "else:\n",
    "    print('\\nSolver Status: ',  results.solver.status)\n",
    "    raise Exception(results.solver.status)\n",
    "\n",
    "print('\\nObject function value = ', model.Objective())\n",
    "\n"
   ],
   "outputs": [],
   "execution_count": null
  },
  {
   "metadata": {},
   "cell_type": "code",
   "source": [
    "from decimal import Decimal\n",
    "DF_channels = pd.DataFrame()\n",
    "c = 0\n",
    "for index, value in model.a.extract_values().items():\n",
    "    DF_channels.loc[c, \"source\"] = index[0]\n",
    "    DF_channels.loc[c, \"destination\"] = index[1]\n",
    "    DF_channels.loc[c, \"capacity\"] = channels.loc[index, \"capacity\"]\n",
    "    DF_channels.loc[c, \"amount\"] = Decimal(value)\n",
    "    c += 1\n",
    "    \n",
    "DF_channels[DF_channels[\"amount\"]!=0]"
   ],
   "id": "a30b622dd76183ad",
   "outputs": [],
   "execution_count": null
  },
  {
   "metadata": {},
   "cell_type": "code",
   "source": "DF_channels[DF_channels[\"amount\"]> DF_channels[\"capacity\"]]",
   "id": "f2db3649f054633f",
   "outputs": [],
   "execution_count": null
  },
  {
   "metadata": {},
   "cell_type": "code",
   "source": [
    "nodes.reset_index(inplace=True)\n",
    "DF_nodes = nodes[nodes[\"pub_key\"].isin(DF_channels.loc[DF_channels[\"amount\"] > 0, \"source\"].tolist()) | nodes[\"pub_key\"].isin(DF_channels.loc[DF_channels[\"amount\"] > 0, \"destination\"].tolist())]\n",
    "nodes.set_index(\"pub_key\", inplace=True)\n",
    "\n",
    "DF_nodes"
   ],
   "id": "b51364b552ce1f31",
   "outputs": [],
   "execution_count": null
  },
  {
   "metadata": {},
   "cell_type": "code",
   "source": [
    "for i,v  in model.x.extract_values().items():\n",
    "    if v != 0: print(i, v)"
   ],
   "id": "42d7cd24a9017b07",
   "outputs": [],
   "execution_count": null
  },
  {
   "metadata": {},
   "cell_type": "code",
   "source": [
    "for i in model.x:\n",
    "    print(model.x[i].value)"
   ],
   "id": "3e74a3abcf7db712",
   "outputs": [],
   "execution_count": null
  }
 ],
 "metadata": {
  "kernelspec": {
   "display_name": "Python 3 (ipykernel)",
   "language": "python",
   "name": "python3"
  },
  "language_info": {
   "codemirror_mode": {
    "name": "ipython",
    "version": 3
   },
   "file_extension": ".py",
   "mimetype": "text/x-python",
   "name": "python",
   "nbconvert_exporter": "python",
   "pygments_lexer": "ipython3",
   "version": "3.10.4"
  }
 },
 "nbformat": 4,
 "nbformat_minor": 5
}
