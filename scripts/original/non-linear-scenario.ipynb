{
 "cells": [
  {
   "metadata": {
    "ExecuteTime": {
     "end_time": "2025-01-18T17:50:32.647165Z",
     "start_time": "2025-01-18T17:50:32.273038Z"
    }
   },
   "cell_type": "code",
   "source": [
    "import pandas as pd\n",
    "from cleaning import create_demand\n",
    "import pyomo.environ as pyo\n",
    "import pyomo"
   ],
   "id": "initial_id",
   "outputs": [],
   "execution_count": 1
  },
  {
   "metadata": {},
   "cell_type": "markdown",
   "source": "# Data import",
   "id": "a4b2795dc42b8269"
  },
  {
   "metadata": {
    "ExecuteTime": {
     "end_time": "2025-01-18T17:50:33.039415Z",
     "start_time": "2025-01-18T17:50:32.983252Z"
    }
   },
   "cell_type": "code",
   "source": [
    "nodes = pd.read_pickle(\"../../data/original/nodes.pkl\")\n",
    "channels = pd.read_pickle(\"../../data/original/channels.pkl\")"
   ],
   "id": "20748e4222156956",
   "outputs": [],
   "execution_count": 2
  },
  {
   "metadata": {},
   "cell_type": "markdown",
   "source": "## Modeling",
   "id": "7df6d25eef847cf7"
  },
  {
   "metadata": {},
   "cell_type": "markdown",
   "source": [
    "Instead of minimizing the fee, now we want to maximise the probability of the payment succeeding on the first attempt.\n",
    "Moreover, we assign a \"penalization rate\" for nodes that are only onion nodes.\n",
    "The probability of a payment going through an arc is related to the payment amount, the channel capacity and the distribution of the channel capacity among the channel peers. In the paper \"Optimally Reliable & Cheap Payment Flows on the Lightning Network\", Rene Pickhardtt and co. mapped the probability distribution as:"
   ],
   "id": "6d53d0d25856b1bb"
  },
  {
   "metadata": {
    "ExecuteTime": {
     "end_time": "2025-01-18T17:50:34.163322Z",
     "start_time": "2025-01-18T17:50:34.157702Z"
    }
   },
   "cell_type": "code",
   "source": "pyomo.common.timing.report_timing()",
   "id": "4a4e07a12106f0f2",
   "outputs": [
    {
     "data": {
      "text/plain": [
       "<pyomo.common.timing.report_timing at 0x7fca3d40b0d0>"
      ]
     },
     "execution_count": 3,
     "metadata": {},
     "output_type": "execute_result"
    }
   ],
   "execution_count": 3
  },
  {
   "metadata": {
    "ExecuteTime": {
     "end_time": "2025-01-18T17:50:34.797548Z",
     "start_time": "2025-01-18T17:50:34.785670Z"
    }
   },
   "cell_type": "code",
   "source": [
    "# Multiplication to set the same base unit for all computations\n",
    "channels[\"capacity\"] = channels[\"capacity\"] * 1000000\n",
    "channels[\"base_fee\"] = channels[\"base_fee\"] * 1000000"
   ],
   "id": "78ee20c8448ca71a",
   "outputs": [],
   "execution_count": 4
  },
  {
   "metadata": {
    "ExecuteTime": {
     "end_time": "2025-01-18T17:50:37.177468Z",
     "start_time": "2025-01-18T17:50:35.555747Z"
    }
   },
   "cell_type": "code",
   "source": [
    "model = pyo.ConcreteModel(name=\"Min cost flow problem\")\n",
    "model.NODES = pyo.Set(initialize=nodes.index)\n",
    "model.CHANNELS = pyo.Set(initialize=[(channels.loc[i, \"node1_pub\"], channels.loc[i, \"node2_pub\"]) for i in channels.index])"
   ],
   "id": "311919abf8017403",
   "outputs": [
    {
     "name": "stdout",
     "output_type": "stream",
     "text": [
      "           0 seconds to construct Block ConcreteModel; 1 index total\n",
      "        0.02 seconds to construct Set NODES; 1 index total\n",
      "        0.18 seconds to construct Set CHANNELS; 1 index total\n"
     ]
    }
   ],
   "execution_count": 5
  },
  {
   "metadata": {
    "ExecuteTime": {
     "end_time": "2025-01-18T17:50:38.162954Z",
     "start_time": "2025-01-18T17:50:38.150889Z"
    }
   },
   "cell_type": "code",
   "source": [
    "nodes = create_demand(nodes, 500000,\n",
    "                      source=\"02b4098c3116124c0c4105295d3d2e65927d46e98e248d84cb6119da57e4ae31e3\",destination=\"0202f00d5f5c91a3c79113851b162c2b75f2cbd9fb2378fb4a4ce92d5ba1e63e08\")"
   ],
   "id": "b022863bcb1f70d",
   "outputs": [
    {
     "name": "stdout",
     "output_type": "stream",
     "text": [
      "Transaction of 500000 sats.\n",
      "Sender: VeniceForever\n",
      "Receiver: ShatSat412.\n"
     ]
    }
   ],
   "execution_count": 6
  },
  {
   "metadata": {
    "ExecuteTime": {
     "end_time": "2025-01-18T17:50:41.564437Z",
     "start_time": "2025-01-18T17:50:41.330274Z"
    }
   },
   "cell_type": "code",
   "source": [
    "model.x = pyo.Var(model.CHANNELS, domain=pyo.Binary)\n",
    "model.a = pyo.Var(model.CHANNELS, domain=pyo.NonNegativeReals, bounds=(0, max(nodes[\"demand\"])))"
   ],
   "id": "d62adba89f3cc3ca",
   "outputs": [
    {
     "name": "stdout",
     "output_type": "stream",
     "text": [
      "        0.11 seconds to construct Var x; 89898 indices total\n",
      "        0.12 seconds to construct Var a; 89898 indices total\n"
     ]
    }
   ],
   "execution_count": 7
  },
  {
   "metadata": {
    "ExecuteTime": {
     "end_time": "2025-01-18T17:50:43.011642Z",
     "start_time": "2025-01-18T17:50:42.980475Z"
    }
   },
   "cell_type": "code",
   "source": [
    "channels.reset_index(inplace=True)\n",
    "channels.set_index([\"node1_pub\", \"node2_pub\"], inplace=True)\n",
    "channels.sort_index(inplace=True)"
   ],
   "id": "99db95bae6c7260f",
   "outputs": [],
   "execution_count": 8
  },
  {
   "metadata": {},
   "cell_type": "markdown",
   "source": [
    "### Objective function\n",
    "\n",
    "$$\n",
    "min \\sum_{e \\in E} -log(\\frac{capacity_{e} + 1 - amount_{e}} {capacity_{e} + 1})\n",
    "$$"
   ],
   "id": "c8a2a3eb0176a605"
  },
  {
   "metadata": {},
   "cell_type": "markdown",
   "source": [
    "\n",
    "$$\n",
    "min \\sum_{e \\in E} - log(capacity_{e} + 1 - amount_{e}) + log(capacity_{e} + 1)\n",
    "$$\n"
   ],
   "id": "547c144f5e59bc71"
  },
  {
   "metadata": {
    "ExecuteTime": {
     "end_time": "2025-01-18T17:50:53.114091Z",
     "start_time": "2025-01-18T17:50:45.412565Z"
    }
   },
   "cell_type": "code",
   "source": [
    "def objective_function(model: pyo.ConcreteModel):\n",
    "    return sum(-pyo.log((channels.loc[i, \"capacity\"] + 1 - model.a[i])) + pyo.log(channels.loc[i, \"capacity\"] + 1) for i in model.CHANNELS)\n",
    "\n",
    "model.successProbability = pyo.Objective(rule=objective_function(model), sense=pyo.minimize)"
   ],
   "id": "c8c410af05a59e1b",
   "outputs": [
    {
     "name": "stdout",
     "output_type": "stream",
     "text": [
      "           0 seconds to construct Objective successProbability; 1 index total\n"
     ]
    }
   ],
   "execution_count": 9
  },
  {
   "metadata": {},
   "cell_type": "markdown",
   "source": [
    "### Constraints\n",
    "\n",
    "#### Capacity constraint\n",
    "\n",
    "$$amount_{i,j} \\le capacity_{i,j} \\times x_{i,j} \\text{ } \\forall (i,j) \\in E$$\n"
   ],
   "id": "d3403216aba01c32"
  },
  {
   "metadata": {
    "ExecuteTime": {
     "end_time": "2025-01-18T18:00:53.372067Z",
     "start_time": "2025-01-18T18:00:48.459416Z"
    }
   },
   "cell_type": "code",
   "source": [
    "def capacity_constraint(model: pyo.ConcreteModel, a, b):\n",
    "    return model.a[(a, b)] <= channels.loc[(a, b), \"capacity\"] * model.x[(a, b)]\n",
    "\n",
    "model.CapacityConstraint = pyo.Constraint(model.CHANNELS, rule=capacity_constraint, name=\"Capacity constraint\")\n"
   ],
   "id": "f1c8dda7c1dfd1fe",
   "outputs": [
    {
     "name": "stdout",
     "output_type": "stream",
     "text": [
      "        4.91 seconds to construct Constraint CapacityConstraint; 89898 indices total\n"
     ]
    }
   ],
   "execution_count": 10
  },
  {
   "metadata": {},
   "cell_type": "markdown",
   "source": [
    "#### Flow balance constraint\n",
    "\n",
    "$$\\sum_{(s,i) \\in E} amount_{s,i} - \\sum_{(i,t) \\in E} amount_{i,d} = b_i \\text{ } \\forall i \\in V$$\n",
    "\n",
    "where $s$ is the source node, $d$ is the destination node, $i$ is every intermediary node\n",
    "\n"
   ],
   "id": "1abe89367aa542bc"
  },
  {
   "metadata": {
    "ExecuteTime": {
     "end_time": "2025-01-18T18:00:56.620452Z",
     "start_time": "2025-01-18T18:00:53.373384Z"
    }
   },
   "cell_type": "code",
   "source": [
    "channels.reset_index(inplace=True)\n",
    "channels.set_index(\"channel_id\", inplace=True)\n",
    "\n",
    "def flow_balance_constraint(model: pyo.ConcreteModel, n: str):\n",
    "    InFlow = sum(model.a[(channels.loc[a, \"node1_pub\"], channels.loc[a, \"node2_pub\"])] for a in nodes.loc[n, 'incoming_channels'])\n",
    "    OutFlow = sum(model.a[(channels.loc[a, \"node1_pub\"], channels.loc[a, \"node2_pub\"])] for a in nodes.loc[n, 'outgoing_channels'])\n",
    "    return  OutFlow + nodes.loc[n, \"demand\"] == InFlow\n",
    "\n",
    "model.FlowBalanceConstraint = pyo.Constraint(model.NODES, rule=flow_balance_constraint, name=\"Flow balance constrain\")\n",
    "\n",
    "channels.reset_index(inplace=True)\n",
    "channels.set_index([\"node1_pub\", \"node2_pub\"], inplace=True)\n",
    "channels.sort_index(inplace=True) \n"
   ],
   "id": "ad13c7c260e70979",
   "outputs": [
    {
     "name": "stdout",
     "output_type": "stream",
     "text": [
      "        3.21 seconds to construct Constraint FlowBalanceConstraint; 11984 indices total\n"
     ]
    }
   ],
   "execution_count": 11
  },
  {
   "metadata": {},
   "cell_type": "markdown",
   "source": "## Solving the model",
   "id": "ee150e88c56ef783"
  },
  {
   "metadata": {
    "ExecuteTime": {
     "end_time": "2025-01-18T18:00:58.607839Z",
     "start_time": "2025-01-18T18:00:56.621353Z"
    }
   },
   "cell_type": "code",
   "source": [
    "opt = pyo.SolverFactory('cbc')\n",
    "results = opt.solve(model, tee=True, keepfiles=True)\n",
    "\n",
    "if (results.solver.status == pyo.SolverStatus.ok) and (results.solver.termination_condition == pyo.TerminationCondition.optimal):\n",
    "    print('\\nOptimal solution found')\n",
    "elif results.solver.termination_condition == pyo.TerminationCondition.feasible:\n",
    "    print('\\nFeasible but not proven optimal solution found')\n",
    "elif results.solver.termination_condition == pyo.TerminationCondition.infeasible:\n",
    "    raise Exception(\"The model is infeasible\")\n",
    "else:\n",
    "    print('\\nSolver Status: ',  results.solver.status)\n",
    "    raise Exception(results.solver.status)\n",
    "\n",
    "print('\\nObject function value = ', model.Objective())"
   ],
   "id": "a3557f49b8f18cbd",
   "outputs": [
    {
     "name": "stdout",
     "output_type": "stream",
     "text": [
      "           0 seconds to construct Var ONE_VAR_CONSTANT; 1 index total\n"
     ]
    },
    {
     "ename": "ValueError",
     "evalue": "Model objective (successProbability) contains nonlinear terms that cannot be written to LP format",
     "output_type": "error",
     "traceback": [
      "\u001B[0;31m---------------------------------------------------------------------------\u001B[0m",
      "\u001B[0;31mValueError\u001B[0m                                Traceback (most recent call last)",
      "Cell \u001B[0;32mIn[12], line 2\u001B[0m\n\u001B[1;32m      1\u001B[0m opt \u001B[38;5;241m=\u001B[39m pyo\u001B[38;5;241m.\u001B[39mSolverFactory(\u001B[38;5;124m'\u001B[39m\u001B[38;5;124mcbc\u001B[39m\u001B[38;5;124m'\u001B[39m)\n\u001B[0;32m----> 2\u001B[0m results \u001B[38;5;241m=\u001B[39m \u001B[43mopt\u001B[49m\u001B[38;5;241;43m.\u001B[39;49m\u001B[43msolve\u001B[49m\u001B[43m(\u001B[49m\u001B[43mmodel\u001B[49m\u001B[43m,\u001B[49m\u001B[43m \u001B[49m\u001B[43mtee\u001B[49m\u001B[38;5;241;43m=\u001B[39;49m\u001B[38;5;28;43;01mTrue\u001B[39;49;00m\u001B[43m,\u001B[49m\u001B[43m \u001B[49m\u001B[43mkeepfiles\u001B[49m\u001B[38;5;241;43m=\u001B[39;49m\u001B[38;5;28;43;01mTrue\u001B[39;49;00m\u001B[43m)\u001B[49m\n\u001B[1;32m      4\u001B[0m \u001B[38;5;28;01mif\u001B[39;00m (results\u001B[38;5;241m.\u001B[39msolver\u001B[38;5;241m.\u001B[39mstatus \u001B[38;5;241m==\u001B[39m pyo\u001B[38;5;241m.\u001B[39mSolverStatus\u001B[38;5;241m.\u001B[39mok) \u001B[38;5;129;01mand\u001B[39;00m (results\u001B[38;5;241m.\u001B[39msolver\u001B[38;5;241m.\u001B[39mtermination_condition \u001B[38;5;241m==\u001B[39m pyo\u001B[38;5;241m.\u001B[39mTerminationCondition\u001B[38;5;241m.\u001B[39moptimal):\n\u001B[1;32m      5\u001B[0m     \u001B[38;5;28mprint\u001B[39m(\u001B[38;5;124m'\u001B[39m\u001B[38;5;130;01m\\n\u001B[39;00m\u001B[38;5;124mOptimal solution found\u001B[39m\u001B[38;5;124m'\u001B[39m)\n",
      "File \u001B[0;32m~/repositories/LN-pathfinding/venv/lib/python3.10/site-packages/pyomo/opt/base/solvers.py:598\u001B[0m, in \u001B[0;36mOptSolver.solve\u001B[0;34m(self, *args, **kwds)\u001B[0m\n\u001B[1;32m    594\u001B[0m \u001B[38;5;28;01mtry\u001B[39;00m:\n\u001B[1;32m    595\u001B[0m     \u001B[38;5;66;03m# we're good to go.\u001B[39;00m\n\u001B[1;32m    596\u001B[0m     initial_time \u001B[38;5;241m=\u001B[39m time\u001B[38;5;241m.\u001B[39mtime()\n\u001B[0;32m--> 598\u001B[0m     \u001B[38;5;28;43mself\u001B[39;49m\u001B[38;5;241;43m.\u001B[39;49m\u001B[43m_presolve\u001B[49m\u001B[43m(\u001B[49m\u001B[38;5;241;43m*\u001B[39;49m\u001B[43margs\u001B[49m\u001B[43m,\u001B[49m\u001B[43m \u001B[49m\u001B[38;5;241;43m*\u001B[39;49m\u001B[38;5;241;43m*\u001B[39;49m\u001B[43mkwds\u001B[49m\u001B[43m)\u001B[49m\n\u001B[1;32m    600\u001B[0m     presolve_completion_time \u001B[38;5;241m=\u001B[39m time\u001B[38;5;241m.\u001B[39mtime()\n\u001B[1;32m    601\u001B[0m     \u001B[38;5;28;01mif\u001B[39;00m \u001B[38;5;28mself\u001B[39m\u001B[38;5;241m.\u001B[39m_report_timing:\n",
      "File \u001B[0;32m~/repositories/LN-pathfinding/venv/lib/python3.10/site-packages/pyomo/solvers/plugins/solvers/CBCplugin.py:261\u001B[0m, in \u001B[0;36mCBCSHELL._presolve\u001B[0;34m(self, *args, **kwds)\u001B[0m\n\u001B[1;32m    253\u001B[0m             logger\u001B[38;5;241m.\u001B[39mwarning(\n\u001B[1;32m    254\u001B[0m                 \u001B[38;5;124m\"\u001B[39m\u001B[38;5;124mwarmstart_file points to a file on a drive \u001B[39m\u001B[38;5;124m\"\u001B[39m\n\u001B[1;32m    255\u001B[0m                 \u001B[38;5;124m\"\u001B[39m\u001B[38;5;124mdifferent from the current working directory.  \u001B[39m\u001B[38;5;124m\"\u001B[39m\n\u001B[1;32m    256\u001B[0m                 \u001B[38;5;124m\"\u001B[39m\u001B[38;5;124mCBC is likely to (silently) ignore the warmstart.\u001B[39m\u001B[38;5;124m\"\u001B[39m\n\u001B[1;32m    257\u001B[0m             )\n\u001B[1;32m    259\u001B[0m \u001B[38;5;66;03m# let the base class handle any remaining keywords/actions.\u001B[39;00m\n\u001B[1;32m    260\u001B[0m \u001B[38;5;66;03m# let the base class handle any remaining keywords/actions.\u001B[39;00m\n\u001B[0;32m--> 261\u001B[0m \u001B[38;5;28;43msuper\u001B[39;49m\u001B[43m(\u001B[49m\u001B[43mCBCSHELL\u001B[49m\u001B[43m,\u001B[49m\u001B[43m \u001B[49m\u001B[38;5;28;43mself\u001B[39;49m\u001B[43m)\u001B[49m\u001B[38;5;241;43m.\u001B[39;49m\u001B[43m_presolve\u001B[49m\u001B[43m(\u001B[49m\u001B[38;5;241;43m*\u001B[39;49m\u001B[43margs\u001B[49m\u001B[43m,\u001B[49m\u001B[43m \u001B[49m\u001B[38;5;241;43m*\u001B[39;49m\u001B[38;5;241;43m*\u001B[39;49m\u001B[43mkwds\u001B[49m\u001B[43m)\u001B[49m\n\u001B[1;32m    263\u001B[0m \u001B[38;5;66;03m# NB: we must let the base class presolve run first so that the\u001B[39;00m\n\u001B[1;32m    264\u001B[0m \u001B[38;5;66;03m# symbol_map is actually constructed!\u001B[39;00m\n\u001B[1;32m    266\u001B[0m \u001B[38;5;28;01mif\u001B[39;00m (\u001B[38;5;28mlen\u001B[39m(args) \u001B[38;5;241m>\u001B[39m \u001B[38;5;241m0\u001B[39m) \u001B[38;5;129;01mand\u001B[39;00m (\u001B[38;5;129;01mnot\u001B[39;00m \u001B[38;5;28misinstance\u001B[39m(args[\u001B[38;5;241m0\u001B[39m], \u001B[38;5;28mstr\u001B[39m)):\n",
      "File \u001B[0;32m~/repositories/LN-pathfinding/venv/lib/python3.10/site-packages/pyomo/opt/solver/shellcmd.py:223\u001B[0m, in \u001B[0;36mSystemCallSolver._presolve\u001B[0;34m(self, *args, **kwds)\u001B[0m\n\u001B[1;32m    220\u001B[0m \u001B[38;5;28mself\u001B[39m\u001B[38;5;241m.\u001B[39m_keepfiles \u001B[38;5;241m=\u001B[39m kwds\u001B[38;5;241m.\u001B[39mpop(\u001B[38;5;124m\"\u001B[39m\u001B[38;5;124mkeepfiles\u001B[39m\u001B[38;5;124m\"\u001B[39m, \u001B[38;5;28;01mFalse\u001B[39;00m)\n\u001B[1;32m    221\u001B[0m \u001B[38;5;28mself\u001B[39m\u001B[38;5;241m.\u001B[39m_define_signal_handlers \u001B[38;5;241m=\u001B[39m kwds\u001B[38;5;241m.\u001B[39mpop(\u001B[38;5;124m'\u001B[39m\u001B[38;5;124muse_signal_handling\u001B[39m\u001B[38;5;124m'\u001B[39m, \u001B[38;5;28;01mNone\u001B[39;00m)\n\u001B[0;32m--> 223\u001B[0m \u001B[43mOptSolver\u001B[49m\u001B[38;5;241;43m.\u001B[39;49m\u001B[43m_presolve\u001B[49m\u001B[43m(\u001B[49m\u001B[38;5;28;43mself\u001B[39;49m\u001B[43m,\u001B[49m\u001B[43m \u001B[49m\u001B[38;5;241;43m*\u001B[39;49m\u001B[43margs\u001B[49m\u001B[43m,\u001B[49m\u001B[43m \u001B[49m\u001B[38;5;241;43m*\u001B[39;49m\u001B[38;5;241;43m*\u001B[39;49m\u001B[43mkwds\u001B[49m\u001B[43m)\u001B[49m\n\u001B[1;32m    225\u001B[0m \u001B[38;5;66;03m#\u001B[39;00m\n\u001B[1;32m    226\u001B[0m \u001B[38;5;66;03m# Verify that the input problems exists\u001B[39;00m\n\u001B[1;32m    227\u001B[0m \u001B[38;5;66;03m#\u001B[39;00m\n\u001B[1;32m    228\u001B[0m \u001B[38;5;28;01mfor\u001B[39;00m filename \u001B[38;5;129;01min\u001B[39;00m \u001B[38;5;28mself\u001B[39m\u001B[38;5;241m.\u001B[39m_problem_files:\n",
      "File \u001B[0;32m~/repositories/LN-pathfinding/venv/lib/python3.10/site-packages/pyomo/opt/base/solvers.py:704\u001B[0m, in \u001B[0;36mOptSolver._presolve\u001B[0;34m(self, *args, **kwds)\u001B[0m\n\u001B[1;32m    701\u001B[0m \u001B[38;5;28;01mif\u001B[39;00m \u001B[38;5;28mself\u001B[39m\u001B[38;5;241m.\u001B[39m_problem_format:\n\u001B[1;32m    702\u001B[0m     write_start_time \u001B[38;5;241m=\u001B[39m time\u001B[38;5;241m.\u001B[39mtime()\n\u001B[1;32m    703\u001B[0m     (\u001B[38;5;28mself\u001B[39m\u001B[38;5;241m.\u001B[39m_problem_files, \u001B[38;5;28mself\u001B[39m\u001B[38;5;241m.\u001B[39m_problem_format, \u001B[38;5;28mself\u001B[39m\u001B[38;5;241m.\u001B[39m_smap_id) \u001B[38;5;241m=\u001B[39m (\n\u001B[0;32m--> 704\u001B[0m         \u001B[38;5;28;43mself\u001B[39;49m\u001B[38;5;241;43m.\u001B[39;49m\u001B[43m_convert_problem\u001B[49m\u001B[43m(\u001B[49m\n\u001B[1;32m    705\u001B[0m \u001B[43m            \u001B[49m\u001B[43margs\u001B[49m\u001B[43m,\u001B[49m\u001B[43m \u001B[49m\u001B[38;5;28;43mself\u001B[39;49m\u001B[38;5;241;43m.\u001B[39;49m\u001B[43m_problem_format\u001B[49m\u001B[43m,\u001B[49m\u001B[43m \u001B[49m\u001B[38;5;28;43mself\u001B[39;49m\u001B[38;5;241;43m.\u001B[39;49m\u001B[43m_valid_problem_formats\u001B[49m\u001B[43m,\u001B[49m\u001B[43m \u001B[49m\u001B[38;5;241;43m*\u001B[39;49m\u001B[38;5;241;43m*\u001B[39;49m\u001B[43mkwds\u001B[49m\n\u001B[1;32m    706\u001B[0m \u001B[43m        \u001B[49m\u001B[43m)\u001B[49m\n\u001B[1;32m    707\u001B[0m     )\n\u001B[1;32m    708\u001B[0m     total_time \u001B[38;5;241m=\u001B[39m time\u001B[38;5;241m.\u001B[39mtime() \u001B[38;5;241m-\u001B[39m write_start_time\n\u001B[1;32m    709\u001B[0m     \u001B[38;5;28;01mif\u001B[39;00m \u001B[38;5;28mself\u001B[39m\u001B[38;5;241m.\u001B[39m_report_timing:\n",
      "File \u001B[0;32m~/repositories/LN-pathfinding/venv/lib/python3.10/site-packages/pyomo/opt/base/solvers.py:756\u001B[0m, in \u001B[0;36mOptSolver._convert_problem\u001B[0;34m(self, args, problem_format, valid_problem_formats, **kwds)\u001B[0m\n\u001B[1;32m    755\u001B[0m \u001B[38;5;28;01mdef\u001B[39;00m \u001B[38;5;21m_convert_problem\u001B[39m(\u001B[38;5;28mself\u001B[39m, args, problem_format, valid_problem_formats, \u001B[38;5;241m*\u001B[39m\u001B[38;5;241m*\u001B[39mkwds):\n\u001B[0;32m--> 756\u001B[0m     \u001B[38;5;28;01mreturn\u001B[39;00m \u001B[43mconvert_problem\u001B[49m\u001B[43m(\u001B[49m\n\u001B[1;32m    757\u001B[0m \u001B[43m        \u001B[49m\u001B[43margs\u001B[49m\u001B[43m,\u001B[49m\u001B[43m \u001B[49m\u001B[43mproblem_format\u001B[49m\u001B[43m,\u001B[49m\u001B[43m \u001B[49m\u001B[43mvalid_problem_formats\u001B[49m\u001B[43m,\u001B[49m\u001B[43m \u001B[49m\u001B[38;5;28;43mself\u001B[39;49m\u001B[38;5;241;43m.\u001B[39;49m\u001B[43mhas_capability\u001B[49m\u001B[43m,\u001B[49m\u001B[43m \u001B[49m\u001B[38;5;241;43m*\u001B[39;49m\u001B[38;5;241;43m*\u001B[39;49m\u001B[43mkwds\u001B[49m\n\u001B[1;32m    758\u001B[0m \u001B[43m    \u001B[49m\u001B[43m)\u001B[49m\n",
      "File \u001B[0;32m~/repositories/LN-pathfinding/venv/lib/python3.10/site-packages/pyomo/opt/base/convert.py:97\u001B[0m, in \u001B[0;36mconvert_problem\u001B[0;34m(args, target_problem_type, valid_problem_types, has_capability, **kwds)\u001B[0m\n\u001B[1;32m     95\u001B[0m                 tmpkw \u001B[38;5;241m=\u001B[39m kwds\n\u001B[1;32m     96\u001B[0m                 tmpkw[\u001B[38;5;124m'\u001B[39m\u001B[38;5;124mcapabilities\u001B[39m\u001B[38;5;124m'\u001B[39m] \u001B[38;5;241m=\u001B[39m has_capability\n\u001B[0;32m---> 97\u001B[0m                 problem_files, symbol_map \u001B[38;5;241m=\u001B[39m \u001B[43mconverter\u001B[49m\u001B[38;5;241;43m.\u001B[39;49m\u001B[43mapply\u001B[49m\u001B[43m(\u001B[49m\u001B[38;5;241;43m*\u001B[39;49m\u001B[43mtmp\u001B[49m\u001B[43m,\u001B[49m\u001B[43m \u001B[49m\u001B[38;5;241;43m*\u001B[39;49m\u001B[38;5;241;43m*\u001B[39;49m\u001B[43mtmpkw\u001B[49m\u001B[43m)\u001B[49m\n\u001B[1;32m     98\u001B[0m                 \u001B[38;5;28;01mreturn\u001B[39;00m problem_files, ptype, symbol_map\n\u001B[1;32m    100\u001B[0m msg \u001B[38;5;241m=\u001B[39m \u001B[38;5;124m'\u001B[39m\u001B[38;5;124mNo conversion possible.  Source problem type: \u001B[39m\u001B[38;5;132;01m%s\u001B[39;00m\u001B[38;5;124m.  Valid target types: \u001B[39m\u001B[38;5;132;01m%s\u001B[39;00m\u001B[38;5;124m'\u001B[39m\n",
      "File \u001B[0;32m~/repositories/LN-pathfinding/venv/lib/python3.10/site-packages/pyomo/solvers/plugins/converter/model.py:78\u001B[0m, in \u001B[0;36mPyomoMIPConverter.apply\u001B[0;34m(self, *args, **kwds)\u001B[0m\n\u001B[1;32m     70\u001B[0m         symbol_map_id \u001B[38;5;241m=\u001B[39m instance\u001B[38;5;241m.\u001B[39mwrite(\n\u001B[1;32m     71\u001B[0m             problem_filename,\n\u001B[1;32m     72\u001B[0m             \u001B[38;5;28mformat\u001B[39m\u001B[38;5;241m=\u001B[39mProblemFormat\u001B[38;5;241m.\u001B[39mcpxlp,\n\u001B[0;32m   (...)\u001B[0m\n\u001B[1;32m     75\u001B[0m             \u001B[38;5;241m*\u001B[39m\u001B[38;5;241m*\u001B[39mio_options\n\u001B[1;32m     76\u001B[0m         )\n\u001B[1;32m     77\u001B[0m     \u001B[38;5;28;01melse\u001B[39;00m:\n\u001B[0;32m---> 78\u001B[0m         (problem_filename, symbol_map_id) \u001B[38;5;241m=\u001B[39m \u001B[43minstance\u001B[49m\u001B[38;5;241;43m.\u001B[39;49m\u001B[43mwrite\u001B[49m\u001B[43m(\u001B[49m\n\u001B[1;32m     79\u001B[0m \u001B[43m            \u001B[49m\u001B[43mfilename\u001B[49m\u001B[38;5;241;43m=\u001B[39;49m\u001B[43mproblem_filename\u001B[49m\u001B[43m,\u001B[49m\n\u001B[1;32m     80\u001B[0m \u001B[43m            \u001B[49m\u001B[38;5;28;43mformat\u001B[39;49m\u001B[38;5;241;43m=\u001B[39;49m\u001B[43mProblemFormat\u001B[49m\u001B[38;5;241;43m.\u001B[39;49m\u001B[43mcpxlp\u001B[49m\u001B[43m,\u001B[49m\n\u001B[1;32m     81\u001B[0m \u001B[43m            \u001B[49m\u001B[43msolver_capability\u001B[49m\u001B[38;5;241;43m=\u001B[39;49m\u001B[43mcapabilities\u001B[49m\u001B[43m,\u001B[49m\n\u001B[1;32m     82\u001B[0m \u001B[43m            \u001B[49m\u001B[43mio_options\u001B[49m\u001B[38;5;241;43m=\u001B[39;49m\u001B[43mio_options\u001B[49m\u001B[43m,\u001B[49m\n\u001B[1;32m     83\u001B[0m \u001B[43m        \u001B[49m\u001B[43m)\u001B[49m\n\u001B[1;32m     84\u001B[0m     \u001B[38;5;28;01mreturn\u001B[39;00m (problem_filename,), symbol_map_id\n\u001B[1;32m     85\u001B[0m \u001B[38;5;28;01melse\u001B[39;00m:\n\u001B[1;32m     86\u001B[0m     \u001B[38;5;66;03m#\u001B[39;00m\n\u001B[1;32m     87\u001B[0m     \u001B[38;5;66;03m# I'm simply exposing a fatal issue with\u001B[39;00m\n\u001B[0;32m   (...)\u001B[0m\n\u001B[1;32m     90\u001B[0m     \u001B[38;5;66;03m# arguments that can be sent to the writer?\u001B[39;00m\n\u001B[1;32m     91\u001B[0m     \u001B[38;5;66;03m#\u001B[39;00m\n",
      "File \u001B[0;32m~/repositories/LN-pathfinding/venv/lib/python3.10/site-packages/pyomo/core/base/block.py:1927\u001B[0m, in \u001B[0;36mBlockData.write\u001B[0;34m(self, filename, format, solver_capability, io_options, int_marker)\u001B[0m\n\u001B[1;32m   1924\u001B[0m     \u001B[38;5;28;01mdef\u001B[39;00m \u001B[38;5;21msolver_capability\u001B[39m(x):\n\u001B[1;32m   1925\u001B[0m         \u001B[38;5;28;01mreturn\u001B[39;00m \u001B[38;5;28;01mTrue\u001B[39;00m\n\u001B[0;32m-> 1927\u001B[0m (filename, smap) \u001B[38;5;241m=\u001B[39m \u001B[43mproblem_writer\u001B[49m\u001B[43m(\u001B[49m\u001B[38;5;28;43mself\u001B[39;49m\u001B[43m,\u001B[49m\u001B[43m \u001B[49m\u001B[43mfilename\u001B[49m\u001B[43m,\u001B[49m\u001B[43m \u001B[49m\u001B[43msolver_capability\u001B[49m\u001B[43m,\u001B[49m\u001B[43m \u001B[49m\u001B[43mio_options\u001B[49m\u001B[43m)\u001B[49m\n\u001B[1;32m   1928\u001B[0m smap_id \u001B[38;5;241m=\u001B[39m \u001B[38;5;28mid\u001B[39m(smap)\n\u001B[1;32m   1929\u001B[0m \u001B[38;5;28;01mif\u001B[39;00m \u001B[38;5;129;01mnot\u001B[39;00m \u001B[38;5;28mhasattr\u001B[39m(\u001B[38;5;28mself\u001B[39m, \u001B[38;5;124m'\u001B[39m\u001B[38;5;124msolutions\u001B[39m\u001B[38;5;124m'\u001B[39m):\n\u001B[1;32m   1930\u001B[0m     \u001B[38;5;66;03m# This is a bit of a hack.  The write() method was moved\u001B[39;00m\n\u001B[1;32m   1931\u001B[0m     \u001B[38;5;66;03m# here from PyomoModel to support the solution of arbitrary\u001B[39;00m\n\u001B[0;32m   (...)\u001B[0m\n\u001B[1;32m   1936\u001B[0m     \u001B[38;5;66;03m# dependency (we only need it here because we store the\u001B[39;00m\n\u001B[1;32m   1937\u001B[0m     \u001B[38;5;66;03m# SymbolMap returned by the writer in the solutions).\u001B[39;00m\n",
      "File \u001B[0;32m~/repositories/LN-pathfinding/venv/lib/python3.10/site-packages/pyomo/repn/plugins/lp_writer.py:208\u001B[0m, in \u001B[0;36mLPWriter.__call__\u001B[0;34m(self, model, filename, solver_capability, io_options)\u001B[0m\n\u001B[1;32m    205\u001B[0m     io_options[\u001B[38;5;124m'\u001B[39m\u001B[38;5;124mallow_quadratic_constraint\u001B[39m\u001B[38;5;124m'\u001B[39m] \u001B[38;5;241m=\u001B[39m qc\n\u001B[1;32m    207\u001B[0m \u001B[38;5;28;01mwith\u001B[39;00m \u001B[38;5;28mopen\u001B[39m(filename, \u001B[38;5;124m'\u001B[39m\u001B[38;5;124mw\u001B[39m\u001B[38;5;124m'\u001B[39m, newline\u001B[38;5;241m=\u001B[39m\u001B[38;5;124m'\u001B[39m\u001B[38;5;124m'\u001B[39m) \u001B[38;5;28;01mas\u001B[39;00m FILE:\n\u001B[0;32m--> 208\u001B[0m     info \u001B[38;5;241m=\u001B[39m \u001B[38;5;28;43mself\u001B[39;49m\u001B[38;5;241;43m.\u001B[39;49m\u001B[43mwrite\u001B[49m\u001B[43m(\u001B[49m\u001B[43mmodel\u001B[49m\u001B[43m,\u001B[49m\u001B[43m \u001B[49m\u001B[43mFILE\u001B[49m\u001B[43m,\u001B[49m\u001B[43m \u001B[49m\u001B[38;5;241;43m*\u001B[39;49m\u001B[38;5;241;43m*\u001B[39;49m\u001B[43mio_options\u001B[49m\u001B[43m)\u001B[49m\n\u001B[1;32m    209\u001B[0m \u001B[38;5;28;01mreturn\u001B[39;00m filename, info\u001B[38;5;241m.\u001B[39msymbol_map\n",
      "File \u001B[0;32m~/repositories/LN-pathfinding/venv/lib/python3.10/site-packages/pyomo/repn/plugins/lp_writer.py:241\u001B[0m, in \u001B[0;36mLPWriter.write\u001B[0;34m(self, model, ostream, **options)\u001B[0m\n\u001B[1;32m    237\u001B[0m \u001B[38;5;66;03m# Pause the GC, as the walker that generates the compiled LP\u001B[39;00m\n\u001B[1;32m    238\u001B[0m \u001B[38;5;66;03m# representation generates (and disposes of) a large number of\u001B[39;00m\n\u001B[1;32m    239\u001B[0m \u001B[38;5;66;03m# small objects.\u001B[39;00m\n\u001B[1;32m    240\u001B[0m \u001B[38;5;28;01mwith\u001B[39;00m PauseGC():\n\u001B[0;32m--> 241\u001B[0m     \u001B[38;5;28;01mreturn\u001B[39;00m \u001B[43m_LPWriter_impl\u001B[49m\u001B[43m(\u001B[49m\u001B[43mostream\u001B[49m\u001B[43m,\u001B[49m\u001B[43m \u001B[49m\u001B[43mconfig\u001B[49m\u001B[43m)\u001B[49m\u001B[38;5;241;43m.\u001B[39;49m\u001B[43mwrite\u001B[49m\u001B[43m(\u001B[49m\u001B[43mmodel\u001B[49m\u001B[43m)\u001B[49m\n",
      "File \u001B[0;32m~/repositories/LN-pathfinding/venv/lib/python3.10/site-packages/pyomo/repn/plugins/lp_writer.py:378\u001B[0m, in \u001B[0;36m_LPWriter_impl.write\u001B[0;34m(self, model)\u001B[0m\n\u001B[1;32m    376\u001B[0m repn \u001B[38;5;241m=\u001B[39m objective_visitor\u001B[38;5;241m.\u001B[39mwalk_expression(obj\u001B[38;5;241m.\u001B[39mexpr)\n\u001B[1;32m    377\u001B[0m \u001B[38;5;28;01mif\u001B[39;00m repn\u001B[38;5;241m.\u001B[39mnonlinear \u001B[38;5;129;01mis\u001B[39;00m \u001B[38;5;129;01mnot\u001B[39;00m \u001B[38;5;28;01mNone\u001B[39;00m:\n\u001B[0;32m--> 378\u001B[0m     \u001B[38;5;28;01mraise\u001B[39;00m \u001B[38;5;167;01mValueError\u001B[39;00m(\n\u001B[1;32m    379\u001B[0m         \u001B[38;5;124mf\u001B[39m\u001B[38;5;124m\"\u001B[39m\u001B[38;5;124mModel objective (\u001B[39m\u001B[38;5;132;01m{\u001B[39;00mobj\u001B[38;5;241m.\u001B[39mname\u001B[38;5;132;01m}\u001B[39;00m\u001B[38;5;124m) contains nonlinear terms that \u001B[39m\u001B[38;5;124m\"\u001B[39m\n\u001B[1;32m    380\u001B[0m         \u001B[38;5;124m\"\u001B[39m\u001B[38;5;124mcannot be written to LP format\u001B[39m\u001B[38;5;124m\"\u001B[39m\n\u001B[1;32m    381\u001B[0m     )\n\u001B[1;32m    382\u001B[0m \u001B[38;5;28;01mif\u001B[39;00m repn\u001B[38;5;241m.\u001B[39mconstant \u001B[38;5;129;01mor\u001B[39;00m \u001B[38;5;129;01mnot\u001B[39;00m (repn\u001B[38;5;241m.\u001B[39mlinear \u001B[38;5;129;01mor\u001B[39;00m \u001B[38;5;28mgetattr\u001B[39m(repn, \u001B[38;5;124m'\u001B[39m\u001B[38;5;124mquadratic\u001B[39m\u001B[38;5;124m'\u001B[39m, \u001B[38;5;28;01mNone\u001B[39;00m)):\n\u001B[1;32m    383\u001B[0m     \u001B[38;5;66;03m# Older versions of CPLEX (including 12.6) and all versions\u001B[39;00m\n\u001B[1;32m    384\u001B[0m     \u001B[38;5;66;03m# of GLPK (through 5.0) do not support constants in the\u001B[39;00m\n\u001B[0;32m   (...)\u001B[0m\n\u001B[1;32m    390\u001B[0m     \u001B[38;5;66;03m# objective, this will ensure we at least write out\u001B[39;00m\n\u001B[1;32m    391\u001B[0m     \u001B[38;5;66;03m# 0*ONE_VAR_CONSTANT.\u001B[39;00m\n\u001B[1;32m    392\u001B[0m     repn\u001B[38;5;241m.\u001B[39mlinear[\u001B[38;5;28mid\u001B[39m(ONE_VAR_CONSTANT)] \u001B[38;5;241m=\u001B[39m repn\u001B[38;5;241m.\u001B[39mconstant\n",
      "\u001B[0;31mValueError\u001B[0m: Model objective (successProbability) contains nonlinear terms that cannot be written to LP format"
     ]
    }
   ],
   "execution_count": 12
  }
 ],
 "metadata": {
  "kernelspec": {
   "display_name": "Python 3",
   "language": "python",
   "name": "python3"
  },
  "language_info": {
   "codemirror_mode": {
    "name": "ipython",
    "version": 2
   },
   "file_extension": ".py",
   "mimetype": "text/x-python",
   "name": "python",
   "nbconvert_exporter": "python",
   "pygments_lexer": "ipython2",
   "version": "2.7.6"
  }
 },
 "nbformat": 4,
 "nbformat_minor": 5
}
