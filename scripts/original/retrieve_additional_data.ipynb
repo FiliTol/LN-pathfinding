{
 "cells": [
  {
   "cell_type": "code",
   "id": "initial_id",
   "metadata": {
    "collapsed": true,
    "ExecuteTime": {
     "end_time": "2025-03-02T11:31:46.906301Z",
     "start_time": "2025-03-02T11:31:46.825520Z"
    }
   },
   "source": [
    "import requests\n",
    "import pandas as pd\n",
    "import time\n",
    "\n",
    "nodes = pd.read_csv(\"../../data/original/nodes.csv\")"
   ],
   "outputs": [],
   "execution_count": 6
  },
  {
   "metadata": {},
   "cell_type": "markdown",
   "source": "### Loop through all nodes",
   "id": "46d7a02fa4de39f3"
  },
  {
   "metadata": {
    "ExecuteTime": {
     "end_time": "2025-03-02T11:39:41.928360Z",
     "start_time": "2025-03-02T11:39:41.923029Z"
    }
   },
   "cell_type": "code",
   "source": [
    "def retrieve_node_data(key: str) -> dict:\n",
    "    \"\"\"\n",
    "    Function that retrieves a node data with the LN+ API\n",
    "    :param key: node public key\n",
    "    :return: dict containing node data\n",
    "    \"\"\"\n",
    "    try:\n",
    "        request = requests.get(f\"https://lightningnetwork.plus/api/2/get_node/pubkey={key}\")\n",
    "        request.raise_for_status()\n",
    "        dict_data = request.json()\n",
    "        dict_data.pop(\"profile_urls\", None)\n",
    "        \n",
    "        time.sleep(0.5)\n",
    "        \n",
    "        return dict_data\n",
    "    \n",
    "    except requests.exceptions.HTTPError as http_err:\n",
    "        print(f\"HTTP error occurred: {http_err}\")\n",
    "    except requests.exceptions.ConnectionError as conn_err:\n",
    "        print(f\"Connection error occurred: {conn_err}\")\n",
    "    except requests.exceptions.Timeout as timeout_err:\n",
    "        print(f\"Timeout error occurred: {timeout_err}\")\n",
    "    except requests.exceptions.RequestException as req_err:\n",
    "        print(f\"An error occurred: {req_err}\")\n",
    "    except Exception as e:\n",
    "        print(f\"An unexpected error occurred: {e}\")\n",
    "    return {}\n",
    "\n",
    "def additional_features_df(nodes: pd.DataFrame, rg_start: int = 1, rg_end: int = -1) -> pd.DataFrame:\n",
    "    \"\"\"\n",
    "    Function that creates the dataframe of additional features to be assigned to each vertex (node)\n",
    "    :param nodes: dataframe of nodes. Used to retrieve pubkey in the index range\n",
    "    :param rg_start: start index so search through in the nodes dataframe\n",
    "    :param rg_end: end index so search through in the nodes dataframe\n",
    "    :return: final dataframe containing additional features for each pubkey\n",
    "    \"\"\"\n",
    "    try:\n",
    "        df_list = []\n",
    "        pubkeys = nodes.loc[rg_start:rg_end, \"pub_key\"].to_list()\n",
    "        for k in pubkeys:\n",
    "            node_data = retrieve_node_data(k)\n",
    "            df_list.append(node_data)\n",
    "        df = pd.DataFrame.from_dict(df_list, orient='columns')\n",
    "        df.to_csv(f\"../../data/original/additional_features_{rg_start}_{rg_end}.csv\")\n",
    "        return print(\"Data retrieval session completed\")\n",
    "    except:\n",
    "        print(\"Something went wrong\")"
   ],
   "id": "f95da90da2390fec",
   "outputs": [],
   "execution_count": 11
  },
  {
   "metadata": {
    "ExecuteTime": {
     "end_time": "2025-03-02T11:40:08.066211Z",
     "start_time": "2025-03-02T11:39:42.818840Z"
    }
   },
   "cell_type": "code",
   "source": "additional_features_df(nodes=nodes, rg_start=1, rg_end=10)",
   "id": "2e3234f37232c198",
   "outputs": [
    {
     "name": "stdout",
     "output_type": "stream",
     "text": [
      "Data retrieval session completed\n"
     ]
    }
   ],
   "execution_count": 12
  }
 ],
 "metadata": {
  "kernelspec": {
   "display_name": "Python 3",
   "language": "python",
   "name": "python3"
  },
  "language_info": {
   "codemirror_mode": {
    "name": "ipython",
    "version": 2
   },
   "file_extension": ".py",
   "mimetype": "text/x-python",
   "name": "python",
   "nbconvert_exporter": "python",
   "pygments_lexer": "ipython2",
   "version": "2.7.6"
  }
 },
 "nbformat": 4,
 "nbformat_minor": 5
}
