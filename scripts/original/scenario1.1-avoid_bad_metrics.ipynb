{
 "cells": [
  {
   "metadata": {
    "ExecuteTime": {
     "end_time": "2025-03-15T20:09:12.881551Z",
     "start_time": "2025-03-15T20:09:11.766121Z"
    }
   },
   "cell_type": "code",
   "source": [
    "import pandas as pd\n",
    "from cleaning import create_demand\n",
    "import pyomo.environ as pyo\n",
    "import pyomo\n",
    "import random\n",
    "import matplotlib.pyplot as plt\n",
    "random.seed(874631)"
   ],
   "id": "initial_id",
   "outputs": [],
   "execution_count": 1
  },
  {
   "metadata": {},
   "cell_type": "markdown",
   "source": "# Data import",
   "id": "a4b2795dc42b8269"
  },
  {
   "metadata": {
    "ExecuteTime": {
     "end_time": "2025-03-15T20:09:13.012969Z",
     "start_time": "2025-03-15T20:09:12.883018Z"
    }
   },
   "cell_type": "code",
   "source": [
    "nodes = pd.read_pickle(\"../../data/original/nodes.pkl\")\n",
    "channels = pd.read_pickle(\"../../data/original/channels.pkl\")\n",
    "additional_features = pd.read_csv(\"../../data/original/additional_features.csv\")\n",
    "\n",
    "additional_features.set_index(\"pubkey\", inplace=True)"
   ],
   "id": "20748e4222156956",
   "outputs": [],
   "execution_count": 2
  },
  {
   "metadata": {
    "ExecuteTime": {
     "end_time": "2025-03-15T20:09:13.496547Z",
     "start_time": "2025-03-15T20:09:13.409980Z"
    }
   },
   "cell_type": "code",
   "source": [
    "channels[\"base_fee\"] = channels.loc[:, \"base_fee\"].apply(lambda x: random.uniform(0,100)) # if x==0 else x)\n",
    "channels[\"rate_fee\"] = channels.loc[:, \"rate_fee\"].apply(lambda x: random.uniform(0.001,0.1)) # if x==0 else x)"
   ],
   "id": "c04ed2234fa3beed",
   "outputs": [],
   "execution_count": 3
  },
  {
   "metadata": {
    "ExecuteTime": {
     "end_time": "2025-03-15T20:09:14.055655Z",
     "start_time": "2025-03-15T20:09:14.026208Z"
    }
   },
   "cell_type": "code",
   "source": "additional_features.head()",
   "id": "deadd1c5be91faef",
   "outputs": [
    {
     "data": {
      "text/plain": [
       "                                                    Unnamed: 0.3  \\\n",
       "pubkey                                                             \n",
       "0200000000727d3b67513c916f16975e3bf8f3304cf3fcf...             0   \n",
       "0200000000a3eff613189ca6c4070c89206ad658e286751...             1   \n",
       "020003b9499a97c8dfbbab6b196319db37ba9c37bccb604...             2   \n",
       "0200081eaa41b5661d3b512f5aae9d6abfb11ba1497a354...             3   \n",
       "020016201d389a44840f1f33be29288952f67c8ef6b3f98...             4   \n",
       "\n",
       "                                                    Unnamed: 0.2  \\\n",
       "pubkey                                                             \n",
       "0200000000727d3b67513c916f16975e3bf8f3304cf3fcf...           0.0   \n",
       "0200000000a3eff613189ca6c4070c89206ad658e286751...           1.0   \n",
       "020003b9499a97c8dfbbab6b196319db37ba9c37bccb604...           2.0   \n",
       "0200081eaa41b5661d3b512f5aae9d6abfb11ba1497a354...           3.0   \n",
       "020016201d389a44840f1f33be29288952f67c8ef6b3f98...           4.0   \n",
       "\n",
       "                                                    Unnamed: 0.1  Unnamed: 0  \\\n",
       "pubkey                                                                         \n",
       "0200000000727d3b67513c916f16975e3bf8f3304cf3fcf...           0.0           0   \n",
       "0200000000a3eff613189ca6c4070c89206ad658e286751...           1.0           1   \n",
       "020003b9499a97c8dfbbab6b196319db37ba9c37bccb604...           2.0           2   \n",
       "0200081eaa41b5661d3b512f5aae9d6abfb11ba1497a354...           3.0           3   \n",
       "020016201d389a44840f1f33be29288952f67c8ef6b3f98...           4.0           4   \n",
       "\n",
       "                                                                   alias  \\\n",
       "pubkey                                                                     \n",
       "0200000000727d3b67513c916f16975e3bf8f3304cf3fcf...    lightningspore.com   \n",
       "0200000000a3eff613189ca6c4070c89206ad658e286751...      pay.lnrouter.app   \n",
       "020003b9499a97c8dfbbab6b196319db37ba9c37bccb604...     BJCR_BTCPayServer   \n",
       "0200081eaa41b5661d3b512f5aae9d6abfb11ba1497a354...  0200081eaa41b5661d3b   \n",
       "020016201d389a44840f1f33be29288952f67c8ef6b3f98...        AlasPoorYorick   \n",
       "\n",
       "                                                   color_hex  open_channels  \\\n",
       "pubkey                                                                        \n",
       "0200000000727d3b67513c916f16975e3bf8f3304cf3fcf...   #ff5000           38.0   \n",
       "0200000000a3eff613189ca6c4070c89206ad658e286751...   #f8fbff            4.0   \n",
       "020003b9499a97c8dfbbab6b196319db37ba9c37bccb604...   #3399ff           40.0   \n",
       "0200081eaa41b5661d3b512f5aae9d6abfb11ba1497a354...   #3399ff            3.0   \n",
       "020016201d389a44840f1f33be29288952f67c8ef6b3f98...   #604bee            1.0   \n",
       "\n",
       "                                                       capacity  \\\n",
       "pubkey                                                            \n",
       "0200000000727d3b67513c916f16975e3bf8f3304cf3fcf...  128909413.0   \n",
       "0200000000a3eff613189ca6c4070c89206ad658e286751...   23780264.0   \n",
       "020003b9499a97c8dfbbab6b196319db37ba9c37bccb604...  198734206.0   \n",
       "0200081eaa41b5661d3b512f5aae9d6abfb11ba1497a354...     300000.0   \n",
       "020016201d389a44840f1f33be29288952f67c8ef6b3f98...    1000000.0   \n",
       "\n",
       "                                                    min_channel_size  \\\n",
       "pubkey                                                                 \n",
       "0200000000727d3b67513c916f16975e3bf8f3304cf3fcf...               NaN   \n",
       "0200000000a3eff613189ca6c4070c89206ad658e286751...               NaN   \n",
       "020003b9499a97c8dfbbab6b196319db37ba9c37bccb604...               0.0   \n",
       "0200081eaa41b5661d3b512f5aae9d6abfb11ba1497a354...               NaN   \n",
       "020016201d389a44840f1f33be29288952f67c8ef6b3f98...               0.0   \n",
       "\n",
       "                                                                                            address_1  \\\n",
       "pubkey                                                                                                  \n",
       "0200000000727d3b67513c916f16975e3bf8f3304cf3fcf...                                 35.84.234.241:9735   \n",
       "0200000000a3eff613189ca6c4070c89206ad658e286751...                                 159.69.16.168:9735   \n",
       "020003b9499a97c8dfbbab6b196319db37ba9c37bccb604...  vr47stl576kawzuogikujvopddkztcsjigvu2jgnkcztl5...   \n",
       "0200081eaa41b5661d3b512f5aae9d6abfb11ba1497a354...  lm63zodngkzqbol6lgadijh5p5xm6ltbekfxlbofvmnbkv...   \n",
       "020016201d389a44840f1f33be29288952f67c8ef6b3f98...  7vuykfnmgkarlk4xjew4ea6lj7qwbbggbox4b72abupu7s...   \n",
       "\n",
       "                                                    ...  \\\n",
       "pubkey                                              ...   \n",
       "0200000000727d3b67513c916f16975e3bf8f3304cf3fcf...  ...   \n",
       "0200000000a3eff613189ca6c4070c89206ad658e286751...  ...   \n",
       "020003b9499a97c8dfbbab6b196319db37ba9c37bccb604...  ...   \n",
       "0200081eaa41b5661d3b512f5aae9d6abfb11ba1497a354...  ...   \n",
       "020016201d389a44840f1f33be29288952f67c8ef6b3f98...  ...   \n",
       "\n",
       "                                                              lnp_updated_at  \\\n",
       "pubkey                                                                         \n",
       "0200000000727d3b67513c916f16975e3bf8f3304cf3fcf...  2025-03-01T22:52:15.596Z   \n",
       "0200000000a3eff613189ca6c4070c89206ad658e286751...  2025-03-01T17:34:36.856Z   \n",
       "020003b9499a97c8dfbbab6b196319db37ba9c37bccb604...  2025-03-01T15:04:43.076Z   \n",
       "0200081eaa41b5661d3b512f5aae9d6abfb11ba1497a354...  2025-03-01T14:19:59.503Z   \n",
       "020016201d389a44840f1f33be29288952f67c8ef6b3f98...  2024-08-02T03:24:59.748Z   \n",
       "\n",
       "                                                    lnp_rank  lnp_rank_name  \\\n",
       "pubkey                                                                        \n",
       "0200000000727d3b67513c916f16975e3bf8f3304cf3fcf...       8.0           Gold   \n",
       "0200000000a3eff613189ca6c4070c89206ad658e286751...       6.0       Tungsten   \n",
       "020003b9499a97c8dfbbab6b196319db37ba9c37bccb604...       7.0         Silver   \n",
       "0200081eaa41b5661d3b512f5aae9d6abfb11ba1497a354...       6.0       Tungsten   \n",
       "020016201d389a44840f1f33be29288952f67c8ef6b3f98...       0.0            NaN   \n",
       "\n",
       "                                                    prime    pro  \\\n",
       "pubkey                                                             \n",
       "0200000000727d3b67513c916f16975e3bf8f3304cf3fcf...  False  False   \n",
       "0200000000a3eff613189ca6c4070c89206ad658e286751...  False  False   \n",
       "020003b9499a97c8dfbbab6b196319db37ba9c37bccb604...   True  False   \n",
       "0200081eaa41b5661d3b512f5aae9d6abfb11ba1497a354...  False  False   \n",
       "020016201d389a44840f1f33be29288952f67c8ef6b3f98...   True  False   \n",
       "\n",
       "                                                    lnp_positive_ratings_received  \\\n",
       "pubkey                                                                              \n",
       "0200000000727d3b67513c916f16975e3bf8f3304cf3fcf...                            NaN   \n",
       "0200000000a3eff613189ca6c4070c89206ad658e286751...                            NaN   \n",
       "020003b9499a97c8dfbbab6b196319db37ba9c37bccb604...                           16.0   \n",
       "0200081eaa41b5661d3b512f5aae9d6abfb11ba1497a354...                            NaN   \n",
       "020016201d389a44840f1f33be29288952f67c8ef6b3f98...                           17.0   \n",
       "\n",
       "                                                    lnp_negative_ratings_received  \\\n",
       "pubkey                                                                              \n",
       "0200000000727d3b67513c916f16975e3bf8f3304cf3fcf...                            NaN   \n",
       "0200000000a3eff613189ca6c4070c89206ad658e286751...                            NaN   \n",
       "020003b9499a97c8dfbbab6b196319db37ba9c37bccb604...                            0.0   \n",
       "0200081eaa41b5661d3b512f5aae9d6abfb11ba1497a354...                            NaN   \n",
       "020016201d389a44840f1f33be29288952f67c8ef6b3f98...                            0.0   \n",
       "\n",
       "                                                   lnp_positive_ratings_given  \\\n",
       "pubkey                                                                          \n",
       "0200000000727d3b67513c916f16975e3bf8f3304cf3fcf...                        NaN   \n",
       "0200000000a3eff613189ca6c4070c89206ad658e286751...                        NaN   \n",
       "020003b9499a97c8dfbbab6b196319db37ba9c37bccb604...                       13.0   \n",
       "0200081eaa41b5661d3b512f5aae9d6abfb11ba1497a354...                        NaN   \n",
       "020016201d389a44840f1f33be29288952f67c8ef6b3f98...                       18.0   \n",
       "\n",
       "                                                   lnp_negative_ratings_given  \\\n",
       "pubkey                                                                          \n",
       "0200000000727d3b67513c916f16975e3bf8f3304cf3fcf...                        NaN   \n",
       "0200000000a3eff613189ca6c4070c89206ad658e286751...                        NaN   \n",
       "020003b9499a97c8dfbbab6b196319db37ba9c37bccb604...                        3.0   \n",
       "0200081eaa41b5661d3b512f5aae9d6abfb11ba1497a354...                        NaN   \n",
       "020016201d389a44840f1f33be29288952f67c8ef6b3f98...                        0.0   \n",
       "\n",
       "                                                                                           lnp_badges  \n",
       "pubkey                                                                                                 \n",
       "0200000000727d3b67513c916f16975e3bf8f3304cf3fcf...                                                 []  \n",
       "0200000000a3eff613189ca6c4070c89206ad658e286751...                                                 []  \n",
       "020003b9499a97c8dfbbab6b196319db37ba9c37bccb604...  [{'name': 'Opener', 'description': 'Opened a C...  \n",
       "0200081eaa41b5661d3b512f5aae9d6abfb11ba1497a354...                                                 []  \n",
       "020016201d389a44840f1f33be29288952f67c8ef6b3f98...  [{'name': 'Opener', 'description': 'Opened a C...  \n",
       "\n",
       "[5 rows x 44 columns]"
      ],
      "text/html": [
       "<div>\n",
       "<style scoped>\n",
       "    .dataframe tbody tr th:only-of-type {\n",
       "        vertical-align: middle;\n",
       "    }\n",
       "\n",
       "    .dataframe tbody tr th {\n",
       "        vertical-align: top;\n",
       "    }\n",
       "\n",
       "    .dataframe thead th {\n",
       "        text-align: right;\n",
       "    }\n",
       "</style>\n",
       "<table border=\"1\" class=\"dataframe\">\n",
       "  <thead>\n",
       "    <tr style=\"text-align: right;\">\n",
       "      <th></th>\n",
       "      <th>Unnamed: 0.3</th>\n",
       "      <th>Unnamed: 0.2</th>\n",
       "      <th>Unnamed: 0.1</th>\n",
       "      <th>Unnamed: 0</th>\n",
       "      <th>alias</th>\n",
       "      <th>color_hex</th>\n",
       "      <th>open_channels</th>\n",
       "      <th>capacity</th>\n",
       "      <th>min_channel_size</th>\n",
       "      <th>address_1</th>\n",
       "      <th>...</th>\n",
       "      <th>lnp_updated_at</th>\n",
       "      <th>lnp_rank</th>\n",
       "      <th>lnp_rank_name</th>\n",
       "      <th>prime</th>\n",
       "      <th>pro</th>\n",
       "      <th>lnp_positive_ratings_received</th>\n",
       "      <th>lnp_negative_ratings_received</th>\n",
       "      <th>lnp_positive_ratings_given</th>\n",
       "      <th>lnp_negative_ratings_given</th>\n",
       "      <th>lnp_badges</th>\n",
       "    </tr>\n",
       "    <tr>\n",
       "      <th>pubkey</th>\n",
       "      <th></th>\n",
       "      <th></th>\n",
       "      <th></th>\n",
       "      <th></th>\n",
       "      <th></th>\n",
       "      <th></th>\n",
       "      <th></th>\n",
       "      <th></th>\n",
       "      <th></th>\n",
       "      <th></th>\n",
       "      <th></th>\n",
       "      <th></th>\n",
       "      <th></th>\n",
       "      <th></th>\n",
       "      <th></th>\n",
       "      <th></th>\n",
       "      <th></th>\n",
       "      <th></th>\n",
       "      <th></th>\n",
       "      <th></th>\n",
       "      <th></th>\n",
       "    </tr>\n",
       "  </thead>\n",
       "  <tbody>\n",
       "    <tr>\n",
       "      <th>0200000000727d3b67513c916f16975e3bf8f3304cf3fcf0ed855e2ae41888f461</th>\n",
       "      <td>0</td>\n",
       "      <td>0.0</td>\n",
       "      <td>0.0</td>\n",
       "      <td>0</td>\n",
       "      <td>lightningspore.com</td>\n",
       "      <td>#ff5000</td>\n",
       "      <td>38.0</td>\n",
       "      <td>128909413.0</td>\n",
       "      <td>NaN</td>\n",
       "      <td>35.84.234.241:9735</td>\n",
       "      <td>...</td>\n",
       "      <td>2025-03-01T22:52:15.596Z</td>\n",
       "      <td>8.0</td>\n",
       "      <td>Gold</td>\n",
       "      <td>False</td>\n",
       "      <td>False</td>\n",
       "      <td>NaN</td>\n",
       "      <td>NaN</td>\n",
       "      <td>NaN</td>\n",
       "      <td>NaN</td>\n",
       "      <td>[]</td>\n",
       "    </tr>\n",
       "    <tr>\n",
       "      <th>0200000000a3eff613189ca6c4070c89206ad658e286751eca1f29262948247a5f</th>\n",
       "      <td>1</td>\n",
       "      <td>1.0</td>\n",
       "      <td>1.0</td>\n",
       "      <td>1</td>\n",
       "      <td>pay.lnrouter.app</td>\n",
       "      <td>#f8fbff</td>\n",
       "      <td>4.0</td>\n",
       "      <td>23780264.0</td>\n",
       "      <td>NaN</td>\n",
       "      <td>159.69.16.168:9735</td>\n",
       "      <td>...</td>\n",
       "      <td>2025-03-01T17:34:36.856Z</td>\n",
       "      <td>6.0</td>\n",
       "      <td>Tungsten</td>\n",
       "      <td>False</td>\n",
       "      <td>False</td>\n",
       "      <td>NaN</td>\n",
       "      <td>NaN</td>\n",
       "      <td>NaN</td>\n",
       "      <td>NaN</td>\n",
       "      <td>[]</td>\n",
       "    </tr>\n",
       "    <tr>\n",
       "      <th>020003b9499a97c8dfbbab6b196319db37ba9c37bccb60477f3c867175f417988e</th>\n",
       "      <td>2</td>\n",
       "      <td>2.0</td>\n",
       "      <td>2.0</td>\n",
       "      <td>2</td>\n",
       "      <td>BJCR_BTCPayServer</td>\n",
       "      <td>#3399ff</td>\n",
       "      <td>40.0</td>\n",
       "      <td>198734206.0</td>\n",
       "      <td>0.0</td>\n",
       "      <td>vr47stl576kawzuogikujvopddkztcsjigvu2jgnkcztl5...</td>\n",
       "      <td>...</td>\n",
       "      <td>2025-03-01T15:04:43.076Z</td>\n",
       "      <td>7.0</td>\n",
       "      <td>Silver</td>\n",
       "      <td>True</td>\n",
       "      <td>False</td>\n",
       "      <td>16.0</td>\n",
       "      <td>0.0</td>\n",
       "      <td>13.0</td>\n",
       "      <td>3.0</td>\n",
       "      <td>[{'name': 'Opener', 'description': 'Opened a C...</td>\n",
       "    </tr>\n",
       "    <tr>\n",
       "      <th>0200081eaa41b5661d3b512f5aae9d6abfb11ba1497a354e9217d9a18fbaa1e76b</th>\n",
       "      <td>3</td>\n",
       "      <td>3.0</td>\n",
       "      <td>3.0</td>\n",
       "      <td>3</td>\n",
       "      <td>0200081eaa41b5661d3b</td>\n",
       "      <td>#3399ff</td>\n",
       "      <td>3.0</td>\n",
       "      <td>300000.0</td>\n",
       "      <td>NaN</td>\n",
       "      <td>lm63zodngkzqbol6lgadijh5p5xm6ltbekfxlbofvmnbkv...</td>\n",
       "      <td>...</td>\n",
       "      <td>2025-03-01T14:19:59.503Z</td>\n",
       "      <td>6.0</td>\n",
       "      <td>Tungsten</td>\n",
       "      <td>False</td>\n",
       "      <td>False</td>\n",
       "      <td>NaN</td>\n",
       "      <td>NaN</td>\n",
       "      <td>NaN</td>\n",
       "      <td>NaN</td>\n",
       "      <td>[]</td>\n",
       "    </tr>\n",
       "    <tr>\n",
       "      <th>020016201d389a44840f1f33be29288952f67c8ef6b3f98726fda180b4185ca6e2</th>\n",
       "      <td>4</td>\n",
       "      <td>4.0</td>\n",
       "      <td>4.0</td>\n",
       "      <td>4</td>\n",
       "      <td>AlasPoorYorick</td>\n",
       "      <td>#604bee</td>\n",
       "      <td>1.0</td>\n",
       "      <td>1000000.0</td>\n",
       "      <td>0.0</td>\n",
       "      <td>7vuykfnmgkarlk4xjew4ea6lj7qwbbggbox4b72abupu7s...</td>\n",
       "      <td>...</td>\n",
       "      <td>2024-08-02T03:24:59.748Z</td>\n",
       "      <td>0.0</td>\n",
       "      <td>NaN</td>\n",
       "      <td>True</td>\n",
       "      <td>False</td>\n",
       "      <td>17.0</td>\n",
       "      <td>0.0</td>\n",
       "      <td>18.0</td>\n",
       "      <td>0.0</td>\n",
       "      <td>[{'name': 'Opener', 'description': 'Opened a C...</td>\n",
       "    </tr>\n",
       "  </tbody>\n",
       "</table>\n",
       "<p>5 rows × 44 columns</p>\n",
       "</div>"
      ]
     },
     "execution_count": 4,
     "metadata": {},
     "output_type": "execute_result"
    }
   ],
   "execution_count": 4
  },
  {
   "metadata": {
    "ExecuteTime": {
     "end_time": "2025-03-15T20:09:14.762867Z",
     "start_time": "2025-03-15T20:09:14.594422Z"
    }
   },
   "cell_type": "code",
   "source": "plt.hist(additional_features.loc[:, \"weighted_betweenness_rank\"], color='lightblue', ec='black', bins=15)",
   "id": "69d8af35716dc407",
   "outputs": [
    {
     "data": {
      "text/plain": [
       "(array([1102., 1073., 1300., 1178.,  857.,  586.,  150.,  594., 1198.,\n",
       "         550.,  834., 1084.,  972.,  252.,  248.]),\n",
       " array([1.00000000e+00, 1.15933333e+03, 2.31766667e+03, 3.47600000e+03,\n",
       "        4.63433333e+03, 5.79266667e+03, 6.95100000e+03, 8.10933333e+03,\n",
       "        9.26766667e+03, 1.04260000e+04, 1.15843333e+04, 1.27426667e+04,\n",
       "        1.39010000e+04, 1.50593333e+04, 1.62176667e+04, 1.73760000e+04]),\n",
       " <BarContainer object of 15 artists>)"
      ]
     },
     "execution_count": 5,
     "metadata": {},
     "output_type": "execute_result"
    },
    {
     "data": {
      "text/plain": [
       "<Figure size 640x480 with 1 Axes>"
      ],
      "image/png": "[encoded data removed]"
     },
     "metadata": {},
     "output_type": "display_data"
    }
   ],
   "execution_count": 5
  },
  {
   "metadata": {
    "ExecuteTime": {
     "end_time": "2025-03-15T20:09:15.320692Z",
     "start_time": "2025-03-15T20:09:15.188140Z"
    }
   },
   "cell_type": "code",
   "source": "plt.hist(additional_features.loc[:, \"weighted_hopness_rank\"], color='lightblue', ec='black', bins=15)",
   "id": "3eb4efd7e7009cfd",
   "outputs": [
    {
     "data": {
      "text/plain": [
       "(array([1094., 1065., 1116., 1064., 1185.,  563.,  159.,  594., 1198.,\n",
       "         550.,  834., 1084.,  972.,  252.,  248.]),\n",
       " array([1.00000000e+00, 1.15933333e+03, 2.31766667e+03, 3.47600000e+03,\n",
       "        4.63433333e+03, 5.79266667e+03, 6.95100000e+03, 8.10933333e+03,\n",
       "        9.26766667e+03, 1.04260000e+04, 1.15843333e+04, 1.27426667e+04,\n",
       "        1.39010000e+04, 1.50593333e+04, 1.62176667e+04, 1.73760000e+04]),\n",
       " <BarContainer object of 15 artists>)"
      ]
     },
     "execution_count": 6,
     "metadata": {},
     "output_type": "execute_result"
    },
    {
     "data": {
      "text/plain": [
       "<Figure size 640x480 with 1 Axes>"
      ],
      "image/png": "[encoded data removed]"
     },
     "metadata": {},
     "output_type": "display_data"
    }
   ],
   "execution_count": 6
  },
  {
   "metadata": {
    "ExecuteTime": {
     "end_time": "2025-03-15T20:09:15.898690Z",
     "start_time": "2025-03-15T20:09:15.725796Z"
    }
   },
   "cell_type": "code",
   "source": "plt.hist(additional_features.loc[:, \"weighted_hubness_rank\"], color='lightblue', ec='black', bins=15)",
   "id": "8d9cf09d0d673a88",
   "outputs": [
    {
     "data": {
      "text/plain": [
       "(array([1157., 1106., 1082., 1151., 1037.,  540.,  173.,  594., 1198.,\n",
       "         550.,  834., 1084.,  972.,  252.,  248.]),\n",
       " array([1.00000000e+00, 1.15933333e+03, 2.31766667e+03, 3.47600000e+03,\n",
       "        4.63433333e+03, 5.79266667e+03, 6.95100000e+03, 8.10933333e+03,\n",
       "        9.26766667e+03, 1.04260000e+04, 1.15843333e+04, 1.27426667e+04,\n",
       "        1.39010000e+04, 1.50593333e+04, 1.62176667e+04, 1.73760000e+04]),\n",
       " <BarContainer object of 15 artists>)"
      ]
     },
     "execution_count": 7,
     "metadata": {},
     "output_type": "execute_result"
    },
    {
     "data": {
      "text/plain": [
       "<Figure size 640x480 with 1 Axes>"
      ],
      "image/png": "[encoded data removed]"
     },
     "metadata": {},
     "output_type": "display_data"
    }
   ],
   "execution_count": 7
  },
  {
   "metadata": {},
   "cell_type": "markdown",
   "source": "## Modeling",
   "id": "7df6d25eef847cf7"
  },
  {
   "metadata": {
    "ExecuteTime": {
     "end_time": "2025-03-15T20:09:16.671678Z",
     "start_time": "2025-03-15T20:09:16.665407Z"
    }
   },
   "cell_type": "code",
   "source": "pyomo.common.timing.report_timing()",
   "id": "4a4e07a12106f0f2",
   "outputs": [
    {
     "data": {
      "text/plain": [
       "<pyomo.common.timing.report_timing at 0x7f94a274f190>"
      ]
     },
     "execution_count": 8,
     "metadata": {},
     "output_type": "execute_result"
    }
   ],
   "execution_count": 8
  },
  {
   "metadata": {
    "ExecuteTime": {
     "end_time": "2025-03-15T20:09:17.316004Z",
     "start_time": "2025-03-15T20:09:17.308058Z"
    }
   },
   "cell_type": "code",
   "source": [
    "# Multiplication to set the same base unit for all computations\n",
    "channels[\"capacity\"] = channels[\"capacity\"] * 1000000\n",
    "channels[\"base_fee\"] = channels[\"base_fee\"] * 1000000"
   ],
   "id": "eb5330e8d98289ec",
   "outputs": [],
   "execution_count": 9
  },
  {
   "metadata": {
    "ExecuteTime": {
     "end_time": "2025-03-15T20:09:19.848319Z",
     "start_time": "2025-03-15T20:09:17.915855Z"
    }
   },
   "cell_type": "code",
   "source": [
    "model = pyo.ConcreteModel(name=\"Min cost flow problem\")\n",
    "model.NODES = pyo.Set(initialize=nodes.index)\n",
    "model.CHANNELS = pyo.Set(initialize=[(channels.loc[i, \"node1_pub\"], channels.loc[i, \"node2_pub\"]) for i in channels.index])"
   ],
   "id": "52bc701c57020ae",
   "outputs": [
    {
     "name": "stdout",
     "output_type": "stream",
     "text": [
      "           0 seconds to construct Block ConcreteModel; 1 index total\n",
      "        0.04 seconds to construct Set NODES; 1 index total\n",
      "        0.25 seconds to construct Set CHANNELS; 1 index total\n"
     ]
    }
   ],
   "execution_count": 10
  },
  {
   "metadata": {
    "ExecuteTime": {
     "end_time": "2025-03-15T20:09:19.862492Z",
     "start_time": "2025-03-15T20:09:19.850389Z"
    }
   },
   "cell_type": "code",
   "source": [
    "transaction_amount = 1000000\n",
    "#nodes = create_demand(nodes, transaction_amount,\n",
    "#                      source=\"02b4098c3116124c0c4105295d3d2e65927d46e98e248d84cb6119da57e4ae31e3\",destination=\"0202f00d5f5c91a3c79113851b162c2b75f2cbd9fb2378fb4a4ce92d5ba1e63e08\")\n",
    "nodes = create_demand(nodes, transaction_amount, source=\"02b4098c3116124c0c4105295d3d2e65927d46e98e248d84cb6119da57e4ae31e3\")\n"
   ],
   "id": "71f0e54edb55901d",
   "outputs": [
    {
     "name": "stdout",
     "output_type": "stream",
     "text": [
      "Transaction of 1000000 sats.\n",
      "Sender: VeniceForever\n",
      "Receiver: 02d41ea2ed132ffcaaf9.\n"
     ]
    }
   ],
   "execution_count": 11
  },
  {
   "metadata": {
    "ExecuteTime": {
     "end_time": "2025-03-15T20:09:35.200281Z",
     "start_time": "2025-03-15T20:09:34.313139Z"
    }
   },
   "cell_type": "code",
   "source": [
    "model.x = pyo.Var(model.CHANNELS, domain=pyo.NonNegativeIntegers, bounds=(0,1))\n",
    "model.a = pyo.Var(model.CHANNELS, domain=pyo.NonNegativeReals, bounds=(0, max(nodes[\"demand\"])))\n",
    "model.i = pyo.Var(model.CHANNELS, domain=pyo.Integers)\n",
    "model.active_betweenness = pyo.Var(model.CHANNELS, within=pyo.Binary)\n",
    "model.active_hubness = pyo.Var(model.CHANNELS, within=pyo.Binary)\n",
    "model.active_hopness = pyo.Var(model.CHANNELS, within=pyo.Binary)"
   ],
   "id": "db6bf92632e748f7",
   "outputs": [
    {
     "name": "stdout",
     "output_type": "stream",
     "text": [
      "WARNING: Implicitly replacing the Component attribute x (type=<class\n",
      "'pyomo.core.base.var.IndexedVar'>) on block Min cost flow problem with a new\n",
      "Component (type=<class 'pyomo.core.base.var.IndexedVar'>). This is usually\n",
      "indicative of a modelling error. To avoid this warning, use\n",
      "block.del_component() and block.add_component().\n",
      "        0.17 seconds to construct Var x; 89898 indices total\n",
      "WARNING: Implicitly replacing the Component attribute a (type=<class\n",
      "'pyomo.core.base.var.IndexedVar'>) on block Min cost flow problem with a new\n",
      "Component (type=<class 'pyomo.core.base.var.IndexedVar'>). This is usually\n",
      "indicative of a modelling error. To avoid this warning, use\n",
      "block.del_component() and block.add_component().\n",
      "        0.18 seconds to construct Var a; 89898 indices total\n",
      "WARNING: Implicitly replacing the Component attribute i (type=<class\n",
      "'pyomo.core.base.var.IndexedVar'>) on block Min cost flow problem with a new\n",
      "Component (type=<class 'pyomo.core.base.var.IndexedVar'>). This is usually\n",
      "indicative of a modelling error. To avoid this warning, use\n",
      "block.del_component() and block.add_component().\n",
      "        0.17 seconds to construct Var i; 89898 indices total\n",
      "        0.08 seconds to construct Var active_betweenness; 89898 indices total\n",
      "        0.18 seconds to construct Var active_hubness; 89898 indices total\n",
      "        0.08 seconds to construct Var active_hopness; 89898 indices total\n"
     ]
    }
   ],
   "execution_count": 14
  },
  {
   "metadata": {
    "ExecuteTime": {
     "end_time": "2025-03-15T20:09:37.959033Z",
     "start_time": "2025-03-15T20:09:37.914495Z"
    }
   },
   "cell_type": "code",
   "source": [
    "channels.reset_index(inplace=True)\n",
    "channels.set_index([\"node1_pub\", \"node2_pub\"], inplace=True)\n",
    "channels.sort_index(inplace=True)"
   ],
   "id": "5d69bcd9f4cf6b47",
   "outputs": [],
   "execution_count": 15
  },
  {
   "metadata": {},
   "cell_type": "markdown",
   "source": [
    "### Objective function\n",
    "\n",
    "$$\n",
    "min \\sum_{} ^{} amount_i \\times feerate_{i} + x_{i} \\times basefee_{i}\n",
    "$$"
   ],
   "id": "75fbeb57061b26ae"
  },
  {
   "metadata": {
    "ExecuteTime": {
     "end_time": "2025-03-15T20:09:49.047172Z",
     "start_time": "2025-03-15T20:09:39.575617Z"
    }
   },
   "cell_type": "code",
   "source": [
    "#def objective_function(model: pyo.ConcreteModel):\n",
    "#    return sum(model.a[i] * channels.loc[i, \"rate_fee\"] for i in model.CHANNELS) + sum(model.x[i] * channels.loc[i, \"base_fee\"] for i in model.CHANNELS)\n",
    "\n",
    "def objective_function(model: pyo.ConcreteModel):\n",
    "    return sum(model.a[i] * channels.loc[i, \"rate_fee\"] + model.x[i] * channels.loc[i, \"base_fee\"] for i in model.CHANNELS)\n",
    "\n",
    "model.totalCost = pyo.Objective(rule=objective_function(model), sense=pyo.minimize)"
   ],
   "id": "f45ec00f2444e9d1",
   "outputs": [
    {
     "name": "stdout",
     "output_type": "stream",
     "text": [
      "           0 seconds to construct Objective totalCost; 1 index total\n"
     ]
    }
   ],
   "execution_count": 16
  },
  {
   "metadata": {},
   "cell_type": "markdown",
   "source": "### Constraints\n",
   "id": "861b0daa9b9cba75"
  },
  {
   "metadata": {},
   "cell_type": "markdown",
   "source": [
    "#### Capacity constraint\n",
    "\n",
    "$$amount_{i,j} \\le capacity_{i,j} \\times x_{i,j} \\text{ } \\forall (i,j) \\in E$$"
   ],
   "id": "e5ea238f92c81afb"
  },
  {
   "metadata": {
    "ExecuteTime": {
     "end_time": "2025-03-15T20:09:54.007419Z",
     "start_time": "2025-03-15T20:09:49.049244Z"
    }
   },
   "cell_type": "code",
   "source": [
    "def capacity_constraint(model: pyo.ConcreteModel, a, b):\n",
    "    return model.a[(a, b)] <= channels.loc[(a, b), \"capacity\"] * model.x[(a, b)]\n",
    "\n",
    "model.CapacityConstraint = pyo.Constraint(model.CHANNELS, rule=capacity_constraint, name=\"Capacity constraint\")"
   ],
   "id": "7d46c6418b15675a",
   "outputs": [
    {
     "name": "stdout",
     "output_type": "stream",
     "text": [
      "        4.95 seconds to construct Constraint CapacityConstraint; 89898 indices total\n"
     ]
    }
   ],
   "execution_count": 17
  },
  {
   "metadata": {},
   "cell_type": "markdown",
   "source": [
    "#### Flow balance constraint\n",
    "\n",
    "$$\\sum_{(s,i) \\in E} amount_{s,i} - \\sum_{(i,d) \\in E} amount_{i,d} = b_i \\text{ } \\forall i \\in V$$\n",
    "\n",
    "where $s$ is the source node, $d$ is the destination node, $i$ is every intermediary node\n"
   ],
   "id": "7adcde34bbdb4878"
  },
  {
   "metadata": {
    "ExecuteTime": {
     "end_time": "2025-03-15T20:09:57.424256Z",
     "start_time": "2025-03-15T20:09:54.009871Z"
    }
   },
   "cell_type": "code",
   "source": [
    "channels.reset_index(inplace=True)\n",
    "channels.set_index(\"channel_id\", inplace=True)\n",
    "\n",
    "def flow_balance_constraint(model: pyo.ConcreteModel, n: str):\n",
    "    InFlow = sum(model.a[(channels.loc[a, \"node1_pub\"], channels.loc[a, \"node2_pub\"])] for a in nodes.loc[n, 'incoming_channels'])\n",
    "    OutFlow = sum(model.a[(channels.loc[a, \"node1_pub\"], channels.loc[a, \"node2_pub\"])] for a in nodes.loc[n, 'outgoing_channels'])\n",
    "    return  OutFlow + nodes.loc[n, \"demand\"] == InFlow\n",
    "\n",
    "model.FlowBalanceConstraint = pyo.Constraint(model.NODES, rule=flow_balance_constraint, name=\"Flow balance constrain\")\n",
    "\n",
    "channels.reset_index(inplace=True)\n",
    "channels.set_index([\"node1_pub\", \"node2_pub\"], inplace=True)\n",
    "channels.sort_index(inplace=True) "
   ],
   "id": "d2b57765c3b53fc5",
   "outputs": [
    {
     "name": "stdout",
     "output_type": "stream",
     "text": [
      "        3.37 seconds to construct Constraint FlowBalanceConstraint; 11984 indices total\n"
     ]
    }
   ],
   "execution_count": 18
  },
  {
   "metadata": {},
   "cell_type": "markdown",
   "source": [
    "### Position improvement constraint\n",
    "\n",
    "We prefer routes that lead faster to central hubs in the network, because they tend to be on shortest paths between the majority of nodes.\n",
    "We assign an amount of improvement to each channel that is the delta between the average of 3 metric scores of the two peers of the channel.\n",
    "The improvement can be maximum the value of the delta.\n",
    "The amount of improvement at every point in the graph has to be negative, meaning that every step shall improve the positioning of the node for the metrics. \n",
    "If the node is a node in a set of highly connected nodes, then the net improvement for that node can be even positive, meaning that the delta incoming is smaller than the delta outgoing.\n",
    "\n",
    "$$improvement_{i,j} \\le BetweennessDelta_{i,j} \\times x_{i,j} \\text{ } \\forall (i,j) \\in E$$\n",
    "\n",
    "$$improvement_{i,j} \\le HubnessDelta{i,j} \\times x_{i,j} \\text{ } \\forall (i,j) \\in E$$\n",
    "\n",
    "$$improvement_{i,j} \\le HopnessDelta_{i,j} \\times x_{i,j} \\text{ } \\forall (i,j) \\in E$$\n",
    "\n"
   ],
   "id": "b3f00a6023649c3c"
  },
  {
   "metadata": {
    "ExecuteTime": {
     "end_time": "2025-03-15T20:09:58.807040Z",
     "start_time": "2025-03-15T20:09:57.463739Z"
    }
   },
   "cell_type": "code",
   "source": [
    "def improvement_betweenness_constraint(model, i, j):\n",
    "    return model.i[i, j] <= (additional_features.loc[j, \"weighted_betweenness_rank\"] - additional_features.loc[i, \"weighted_betweenness_rank\"]) * model.x[i, j] + (1 - model.active_betweenness[i, j]) * 1e6\n",
    "\n",
    "model.improvement_betweenness_constraint = pyo.Constraint(model.CHANNELS, rule=improvement_betweenness_constraint)\n",
    "\n",
    "def improvement_hubness_constraint(model, i, j):\n",
    "    return model.i[i, j] <= (additional_features.loc[j, \"weighted_betweenness_rank\"] - additional_features.loc[i, \"weighted_betweenness_rank\"]) * model.x[i, j] + (1 - model.active_hubness[i, j]) * 1e6\n",
    "\n",
    "model.improvement_hubness_constraint = pyo.Constraint(model.E, rule=improvement_hubness_constraint)\n",
    "\n",
    "def improvement_hopness_constraint(model, i, j):\n",
    "    return model.i[i, j] <= (additional_features.loc[j, \"weighted_betweenness_rank\"] - additional_features.loc[i, \"weighted_betweenness_rank\"]) * model.x[i, j] + (1 - model.active_hopness[i, j]) * 1e6\n",
    "\n",
    "model.improvement_hopness_constraint = pyo.Constraint(model.E, rule=improvement_hopness_constraint)\n",
    "\n",
    "# At least one of the active variables is 1\n",
    "\n",
    "def or_constraint(model, i, j):\n",
    "    return model.active_betweenness[i, j] + model.active_hubness[i, j] + model.active_hopness[i, j] >= 1\n",
    "\n",
    "model.or_condition_constraint = pyo.Constraint(model.E, rule=or_constraint)"
   ],
   "id": "139041e4dbfa7878",
   "outputs": [
    {
     "name": "stdout",
     "output_type": "stream",
     "text": [
      "ERROR: Rule failed when generating expression for Constraint\n",
      "improvement_betweenness_constraint with index\n",
      "('0207fded7f81647771ac646e49e9a029c956e8de911fa6b19c1055ab6b2ba350b2',\n",
      "'025d28dc4c4f5ce4194c31c3109129cd741fafc1ff2f6ea53f97de2f58877b2295'):\n",
      "KeyError: '0207fded7f81647771ac646e49e9a029c956e8de911fa6b19c1055ab6b2ba350b2'\n",
      "        0.53 seconds to construct Constraint improvement_betweenness_constraint; 89898 indices total\n",
      "ERROR: Constructing component 'improvement_betweenness_constraint' from\n",
      "data=None failed:\n",
      "        KeyError:\n",
      "        '0207fded7f81647771ac646e49e9a029c956e8de911fa6b19c1055ab6b2ba350b2'\n"
     ]
    },
    {
     "ename": "KeyError",
     "evalue": "'0207fded7f81647771ac646e49e9a029c956e8de911fa6b19c1055ab6b2ba350b2'",
     "output_type": "error",
     "traceback": [
      "\u001B[0;31m---------------------------------------------------------------------------\u001B[0m",
      "\u001B[0;31mKeyError\u001B[0m                                  Traceback (most recent call last)",
      "File \u001B[0;32m~/repositories/00_mine/LN-pathfinding/.venv/lib/python3.10/site-packages/pandas/core/indexes/base.py:3805\u001B[0m, in \u001B[0;36mIndex.get_loc\u001B[0;34m(self, key)\u001B[0m\n\u001B[1;32m   3804\u001B[0m \u001B[38;5;28;01mtry\u001B[39;00m:\n\u001B[0;32m-> 3805\u001B[0m     \u001B[38;5;28;01mreturn\u001B[39;00m \u001B[38;5;28;43mself\u001B[39;49m\u001B[38;5;241;43m.\u001B[39;49m\u001B[43m_engine\u001B[49m\u001B[38;5;241;43m.\u001B[39;49m\u001B[43mget_loc\u001B[49m\u001B[43m(\u001B[49m\u001B[43mcasted_key\u001B[49m\u001B[43m)\u001B[49m\n\u001B[1;32m   3806\u001B[0m \u001B[38;5;28;01mexcept\u001B[39;00m \u001B[38;5;167;01mKeyError\u001B[39;00m \u001B[38;5;28;01mas\u001B[39;00m err:\n",
      "File \u001B[0;32mindex.pyx:167\u001B[0m, in \u001B[0;36mpandas._libs.index.IndexEngine.get_loc\u001B[0;34m()\u001B[0m\n",
      "File \u001B[0;32mindex.pyx:191\u001B[0m, in \u001B[0;36mpandas._libs.index.IndexEngine.get_loc\u001B[0;34m()\u001B[0m\n",
      "File \u001B[0;32mindex.pyx:234\u001B[0m, in \u001B[0;36mpandas._libs.index.IndexEngine._get_loc_duplicates\u001B[0;34m()\u001B[0m\n",
      "File \u001B[0;32mindex.pyx:242\u001B[0m, in \u001B[0;36mpandas._libs.index.IndexEngine._maybe_get_bool_indexer\u001B[0;34m()\u001B[0m\n",
      "File \u001B[0;32mindex.pyx:134\u001B[0m, in \u001B[0;36mpandas._libs.index._unpack_bool_indexer\u001B[0;34m()\u001B[0m\n",
      "\u001B[0;31mKeyError\u001B[0m: '0207fded7f81647771ac646e49e9a029c956e8de911fa6b19c1055ab6b2ba350b2'",
      "\nThe above exception was the direct cause of the following exception:\n",
      "\u001B[0;31mKeyError\u001B[0m                                  Traceback (most recent call last)",
      "Cell \u001B[0;32mIn[20], line 4\u001B[0m\n\u001B[1;32m      1\u001B[0m \u001B[38;5;28;01mdef\u001B[39;00m \u001B[38;5;21mimprovement_betweenness_constraint\u001B[39m(model, i, j):\n\u001B[1;32m      2\u001B[0m     \u001B[38;5;28;01mreturn\u001B[39;00m model\u001B[38;5;241m.\u001B[39mi[i, j] \u001B[38;5;241m<\u001B[39m\u001B[38;5;241m=\u001B[39m (additional_features\u001B[38;5;241m.\u001B[39mloc[j, \u001B[38;5;124m\"\u001B[39m\u001B[38;5;124mweighted_betweenness_rank\u001B[39m\u001B[38;5;124m\"\u001B[39m] \u001B[38;5;241m-\u001B[39m additional_features\u001B[38;5;241m.\u001B[39mloc[i, \u001B[38;5;124m\"\u001B[39m\u001B[38;5;124mweighted_betweenness_rank\u001B[39m\u001B[38;5;124m\"\u001B[39m]) \u001B[38;5;241m*\u001B[39m model\u001B[38;5;241m.\u001B[39mx[i, j] \u001B[38;5;241m+\u001B[39m (\u001B[38;5;241m1\u001B[39m \u001B[38;5;241m-\u001B[39m model\u001B[38;5;241m.\u001B[39mactive_betweenness[i, j]) \u001B[38;5;241m*\u001B[39m \u001B[38;5;241m1e6\u001B[39m\n\u001B[0;32m----> 4\u001B[0m \u001B[43mmodel\u001B[49m\u001B[38;5;241;43m.\u001B[39;49m\u001B[43mimprovement_betweenness_constraint\u001B[49m \u001B[38;5;241m=\u001B[39m pyo\u001B[38;5;241m.\u001B[39mConstraint(model\u001B[38;5;241m.\u001B[39mCHANNELS, rule\u001B[38;5;241m=\u001B[39mimprovement_betweenness_constraint)\n\u001B[1;32m      6\u001B[0m \u001B[38;5;28;01mdef\u001B[39;00m \u001B[38;5;21mimprovement_hubness_constraint\u001B[39m(model, i, j):\n\u001B[1;32m      7\u001B[0m     \u001B[38;5;28;01mreturn\u001B[39;00m model\u001B[38;5;241m.\u001B[39mi[i, j] \u001B[38;5;241m<\u001B[39m\u001B[38;5;241m=\u001B[39m (additional_features\u001B[38;5;241m.\u001B[39mloc[j, \u001B[38;5;124m\"\u001B[39m\u001B[38;5;124mweighted_betweenness_rank\u001B[39m\u001B[38;5;124m\"\u001B[39m] \u001B[38;5;241m-\u001B[39m additional_features\u001B[38;5;241m.\u001B[39mloc[i, \u001B[38;5;124m\"\u001B[39m\u001B[38;5;124mweighted_betweenness_rank\u001B[39m\u001B[38;5;124m\"\u001B[39m]) \u001B[38;5;241m*\u001B[39m model\u001B[38;5;241m.\u001B[39mx[i, j] \u001B[38;5;241m+\u001B[39m (\u001B[38;5;241m1\u001B[39m \u001B[38;5;241m-\u001B[39m model\u001B[38;5;241m.\u001B[39mactive_hubness[i, j]) \u001B[38;5;241m*\u001B[39m \u001B[38;5;241m1e6\u001B[39m\n",
      "File \u001B[0;32m~/repositories/00_mine/LN-pathfinding/.venv/lib/python3.10/site-packages/pyomo/core/base/block.py:571\u001B[0m, in \u001B[0;36mBlockData.__setattr__\u001B[0;34m(self, name, val)\u001B[0m\n\u001B[1;32m    566\u001B[0m \u001B[38;5;28;01mif\u001B[39;00m name \u001B[38;5;129;01mnot\u001B[39;00m \u001B[38;5;129;01min\u001B[39;00m \u001B[38;5;28mself\u001B[39m\u001B[38;5;241m.\u001B[39m\u001B[38;5;18m__dict__\u001B[39m:\n\u001B[1;32m    567\u001B[0m     \u001B[38;5;28;01mif\u001B[39;00m \u001B[38;5;28misinstance\u001B[39m(val, Component):\n\u001B[1;32m    568\u001B[0m         \u001B[38;5;66;03m#\u001B[39;00m\n\u001B[1;32m    569\u001B[0m         \u001B[38;5;66;03m# Pyomo components are added with the add_component method.\u001B[39;00m\n\u001B[1;32m    570\u001B[0m         \u001B[38;5;66;03m#\u001B[39;00m\n\u001B[0;32m--> 571\u001B[0m         \u001B[38;5;28;43mself\u001B[39;49m\u001B[38;5;241;43m.\u001B[39;49m\u001B[43madd_component\u001B[49m\u001B[43m(\u001B[49m\u001B[43mname\u001B[49m\u001B[43m,\u001B[49m\u001B[43m \u001B[49m\u001B[43mval\u001B[49m\u001B[43m)\u001B[49m\n\u001B[1;32m    572\u001B[0m     \u001B[38;5;28;01melse\u001B[39;00m:\n\u001B[1;32m    573\u001B[0m         \u001B[38;5;66;03m#\u001B[39;00m\n\u001B[1;32m    574\u001B[0m         \u001B[38;5;66;03m# Other Python objects are added with the standard __setattr__\u001B[39;00m\n\u001B[1;32m    575\u001B[0m         \u001B[38;5;66;03m# method.\u001B[39;00m\n\u001B[1;32m    576\u001B[0m         \u001B[38;5;66;03m#\u001B[39;00m\n\u001B[1;32m    577\u001B[0m         \u001B[38;5;28msuper\u001B[39m(BlockData, \u001B[38;5;28mself\u001B[39m)\u001B[38;5;241m.\u001B[39m\u001B[38;5;21m__setattr__\u001B[39m(name, val)\n",
      "File \u001B[0;32m~/repositories/00_mine/LN-pathfinding/.venv/lib/python3.10/site-packages/pyomo/core/base/block.py:1116\u001B[0m, in \u001B[0;36mBlockData.add_component\u001B[0;34m(self, name, val)\u001B[0m\n\u001B[1;32m   1108\u001B[0m     logger\u001B[38;5;241m.\u001B[39mdebug(\n\u001B[1;32m   1109\u001B[0m         \u001B[38;5;124m\"\u001B[39m\u001B[38;5;124mConstructing \u001B[39m\u001B[38;5;132;01m%s\u001B[39;00m\u001B[38;5;124m \u001B[39m\u001B[38;5;124m'\u001B[39m\u001B[38;5;132;01m%s\u001B[39;00m\u001B[38;5;124m'\u001B[39m\u001B[38;5;124m on \u001B[39m\u001B[38;5;132;01m%s\u001B[39;00m\u001B[38;5;124m from data=\u001B[39m\u001B[38;5;132;01m%s\u001B[39;00m\u001B[38;5;124m\"\u001B[39m,\n\u001B[1;32m   1110\u001B[0m         val\u001B[38;5;241m.\u001B[39m\u001B[38;5;18m__class__\u001B[39m\u001B[38;5;241m.\u001B[39m\u001B[38;5;18m__name__\u001B[39m,\n\u001B[0;32m   (...)\u001B[0m\n\u001B[1;32m   1113\u001B[0m         \u001B[38;5;28mstr\u001B[39m(data),\n\u001B[1;32m   1114\u001B[0m     )\n\u001B[1;32m   1115\u001B[0m \u001B[38;5;28;01mtry\u001B[39;00m:\n\u001B[0;32m-> 1116\u001B[0m     \u001B[43mval\u001B[49m\u001B[38;5;241;43m.\u001B[39;49m\u001B[43mconstruct\u001B[49m\u001B[43m(\u001B[49m\u001B[43mdata\u001B[49m\u001B[43m)\u001B[49m\n\u001B[1;32m   1117\u001B[0m \u001B[38;5;28;01mexcept\u001B[39;00m:\n\u001B[1;32m   1118\u001B[0m     err \u001B[38;5;241m=\u001B[39m sys\u001B[38;5;241m.\u001B[39mexc_info()[\u001B[38;5;241m1\u001B[39m]\n",
      "File \u001B[0;32m~/repositories/00_mine/LN-pathfinding/.venv/lib/python3.10/site-packages/pyomo/core/base/constraint.py:720\u001B[0m, in \u001B[0;36mConstraint.construct\u001B[0;34m(self, data)\u001B[0m\n\u001B[1;32m    717\u001B[0m     \u001B[38;5;28;01melse\u001B[39;00m:\n\u001B[1;32m    718\u001B[0m         \u001B[38;5;66;03m# Bypass the index validation and create the member directly\u001B[39;00m\n\u001B[1;32m    719\u001B[0m         \u001B[38;5;28;01mfor\u001B[39;00m index \u001B[38;5;129;01min\u001B[39;00m \u001B[38;5;28mself\u001B[39m\u001B[38;5;241m.\u001B[39mindex_set():\n\u001B[0;32m--> 720\u001B[0m             \u001B[38;5;28mself\u001B[39m\u001B[38;5;241m.\u001B[39m_setitem_when_not_present(index, \u001B[43mrule\u001B[49m\u001B[43m(\u001B[49m\u001B[43mblock\u001B[49m\u001B[43m,\u001B[49m\u001B[43m \u001B[49m\u001B[43mindex\u001B[49m\u001B[43m)\u001B[49m)\n\u001B[1;32m    721\u001B[0m \u001B[38;5;28;01mexcept\u001B[39;00m \u001B[38;5;167;01mException\u001B[39;00m:\n\u001B[1;32m    722\u001B[0m     err \u001B[38;5;241m=\u001B[39m sys\u001B[38;5;241m.\u001B[39mexc_info()[\u001B[38;5;241m1\u001B[39m]\n",
      "File \u001B[0;32m~/repositories/00_mine/LN-pathfinding/.venv/lib/python3.10/site-packages/pyomo/core/base/initializer.py:314\u001B[0m, in \u001B[0;36mIndexedCallInitializer.__call__\u001B[0;34m(self, parent, idx)\u001B[0m\n\u001B[1;32m    308\u001B[0m \u001B[38;5;28;01mdef\u001B[39;00m \u001B[38;5;21m__call__\u001B[39m(\u001B[38;5;28mself\u001B[39m, parent, idx):\n\u001B[1;32m    309\u001B[0m     \u001B[38;5;66;03m# Note: this is called by a component using data from a Set (so\u001B[39;00m\n\u001B[1;32m    310\u001B[0m     \u001B[38;5;66;03m# any tuple-like type should have already been checked and\u001B[39;00m\n\u001B[1;32m    311\u001B[0m     \u001B[38;5;66;03m# converted to a tuple; or flattening is turned off and it is\u001B[39;00m\n\u001B[1;32m    312\u001B[0m     \u001B[38;5;66;03m# the user's responsibility to sort things out.\u001B[39;00m\n\u001B[1;32m    313\u001B[0m     \u001B[38;5;28;01mif\u001B[39;00m idx\u001B[38;5;241m.\u001B[39m\u001B[38;5;18m__class__\u001B[39m \u001B[38;5;129;01mis\u001B[39;00m \u001B[38;5;28mtuple\u001B[39m:\n\u001B[0;32m--> 314\u001B[0m         \u001B[38;5;28;01mreturn\u001B[39;00m \u001B[38;5;28;43mself\u001B[39;49m\u001B[38;5;241;43m.\u001B[39;49m\u001B[43m_fcn\u001B[49m\u001B[43m(\u001B[49m\u001B[43mparent\u001B[49m\u001B[43m,\u001B[49m\u001B[43m \u001B[49m\u001B[38;5;241;43m*\u001B[39;49m\u001B[43midx\u001B[49m\u001B[43m)\u001B[49m\n\u001B[1;32m    315\u001B[0m     \u001B[38;5;28;01melse\u001B[39;00m:\n\u001B[1;32m    316\u001B[0m         \u001B[38;5;28;01mreturn\u001B[39;00m \u001B[38;5;28mself\u001B[39m\u001B[38;5;241m.\u001B[39m_fcn(parent, idx)\n",
      "Cell \u001B[0;32mIn[20], line 2\u001B[0m, in \u001B[0;36mimprovement_betweenness_constraint\u001B[0;34m(model, i, j)\u001B[0m\n\u001B[1;32m      1\u001B[0m \u001B[38;5;28;01mdef\u001B[39;00m \u001B[38;5;21mimprovement_betweenness_constraint\u001B[39m(model, i, j):\n\u001B[0;32m----> 2\u001B[0m     \u001B[38;5;28;01mreturn\u001B[39;00m model\u001B[38;5;241m.\u001B[39mi[i, j] \u001B[38;5;241m<\u001B[39m\u001B[38;5;241m=\u001B[39m (additional_features\u001B[38;5;241m.\u001B[39mloc[j, \u001B[38;5;124m\"\u001B[39m\u001B[38;5;124mweighted_betweenness_rank\u001B[39m\u001B[38;5;124m\"\u001B[39m] \u001B[38;5;241m-\u001B[39m \u001B[43madditional_features\u001B[49m\u001B[38;5;241;43m.\u001B[39;49m\u001B[43mloc\u001B[49m\u001B[43m[\u001B[49m\u001B[43mi\u001B[49m\u001B[43m,\u001B[49m\u001B[43m \u001B[49m\u001B[38;5;124;43m\"\u001B[39;49m\u001B[38;5;124;43mweighted_betweenness_rank\u001B[39;49m\u001B[38;5;124;43m\"\u001B[39;49m\u001B[43m]\u001B[49m) \u001B[38;5;241m*\u001B[39m model\u001B[38;5;241m.\u001B[39mx[i, j] \u001B[38;5;241m+\u001B[39m (\u001B[38;5;241m1\u001B[39m \u001B[38;5;241m-\u001B[39m model\u001B[38;5;241m.\u001B[39mactive_betweenness[i, j]) \u001B[38;5;241m*\u001B[39m \u001B[38;5;241m1e6\u001B[39m\n",
      "File \u001B[0;32m~/repositories/00_mine/LN-pathfinding/.venv/lib/python3.10/site-packages/pandas/core/indexing.py:1184\u001B[0m, in \u001B[0;36m_LocationIndexer.__getitem__\u001B[0;34m(self, key)\u001B[0m\n\u001B[1;32m   1182\u001B[0m     \u001B[38;5;28;01mif\u001B[39;00m \u001B[38;5;28mself\u001B[39m\u001B[38;5;241m.\u001B[39m_is_scalar_access(key):\n\u001B[1;32m   1183\u001B[0m         \u001B[38;5;28;01mreturn\u001B[39;00m \u001B[38;5;28mself\u001B[39m\u001B[38;5;241m.\u001B[39mobj\u001B[38;5;241m.\u001B[39m_get_value(\u001B[38;5;241m*\u001B[39mkey, takeable\u001B[38;5;241m=\u001B[39m\u001B[38;5;28mself\u001B[39m\u001B[38;5;241m.\u001B[39m_takeable)\n\u001B[0;32m-> 1184\u001B[0m     \u001B[38;5;28;01mreturn\u001B[39;00m \u001B[38;5;28;43mself\u001B[39;49m\u001B[38;5;241;43m.\u001B[39;49m\u001B[43m_getitem_tuple\u001B[49m\u001B[43m(\u001B[49m\u001B[43mkey\u001B[49m\u001B[43m)\u001B[49m\n\u001B[1;32m   1185\u001B[0m \u001B[38;5;28;01melse\u001B[39;00m:\n\u001B[1;32m   1186\u001B[0m     \u001B[38;5;66;03m# we by definition only have the 0th axis\u001B[39;00m\n\u001B[1;32m   1187\u001B[0m     axis \u001B[38;5;241m=\u001B[39m \u001B[38;5;28mself\u001B[39m\u001B[38;5;241m.\u001B[39maxis \u001B[38;5;129;01mor\u001B[39;00m \u001B[38;5;241m0\u001B[39m\n",
      "File \u001B[0;32m~/repositories/00_mine/LN-pathfinding/.venv/lib/python3.10/site-packages/pandas/core/indexing.py:1368\u001B[0m, in \u001B[0;36m_LocIndexer._getitem_tuple\u001B[0;34m(self, tup)\u001B[0m\n\u001B[1;32m   1366\u001B[0m \u001B[38;5;28;01mwith\u001B[39;00m suppress(IndexingError):\n\u001B[1;32m   1367\u001B[0m     tup \u001B[38;5;241m=\u001B[39m \u001B[38;5;28mself\u001B[39m\u001B[38;5;241m.\u001B[39m_expand_ellipsis(tup)\n\u001B[0;32m-> 1368\u001B[0m     \u001B[38;5;28;01mreturn\u001B[39;00m \u001B[38;5;28;43mself\u001B[39;49m\u001B[38;5;241;43m.\u001B[39;49m\u001B[43m_getitem_lowerdim\u001B[49m\u001B[43m(\u001B[49m\u001B[43mtup\u001B[49m\u001B[43m)\u001B[49m\n\u001B[1;32m   1370\u001B[0m \u001B[38;5;66;03m# no multi-index, so validate all of the indexers\u001B[39;00m\n\u001B[1;32m   1371\u001B[0m tup \u001B[38;5;241m=\u001B[39m \u001B[38;5;28mself\u001B[39m\u001B[38;5;241m.\u001B[39m_validate_tuple_indexer(tup)\n",
      "File \u001B[0;32m~/repositories/00_mine/LN-pathfinding/.venv/lib/python3.10/site-packages/pandas/core/indexing.py:1065\u001B[0m, in \u001B[0;36m_LocationIndexer._getitem_lowerdim\u001B[0;34m(self, tup)\u001B[0m\n\u001B[1;32m   1061\u001B[0m \u001B[38;5;28;01mfor\u001B[39;00m i, key \u001B[38;5;129;01min\u001B[39;00m \u001B[38;5;28menumerate\u001B[39m(tup):\n\u001B[1;32m   1062\u001B[0m     \u001B[38;5;28;01mif\u001B[39;00m is_label_like(key):\n\u001B[1;32m   1063\u001B[0m         \u001B[38;5;66;03m# We don't need to check for tuples here because those are\u001B[39;00m\n\u001B[1;32m   1064\u001B[0m         \u001B[38;5;66;03m#  caught by the _is_nested_tuple_indexer check above.\u001B[39;00m\n\u001B[0;32m-> 1065\u001B[0m         section \u001B[38;5;241m=\u001B[39m \u001B[38;5;28;43mself\u001B[39;49m\u001B[38;5;241;43m.\u001B[39;49m\u001B[43m_getitem_axis\u001B[49m\u001B[43m(\u001B[49m\u001B[43mkey\u001B[49m\u001B[43m,\u001B[49m\u001B[43m \u001B[49m\u001B[43maxis\u001B[49m\u001B[38;5;241;43m=\u001B[39;49m\u001B[43mi\u001B[49m\u001B[43m)\u001B[49m\n\u001B[1;32m   1067\u001B[0m         \u001B[38;5;66;03m# We should never have a scalar section here, because\u001B[39;00m\n\u001B[1;32m   1068\u001B[0m         \u001B[38;5;66;03m#  _getitem_lowerdim is only called after a check for\u001B[39;00m\n\u001B[1;32m   1069\u001B[0m         \u001B[38;5;66;03m#  is_scalar_access, which that would be.\u001B[39;00m\n\u001B[1;32m   1070\u001B[0m         \u001B[38;5;28;01mif\u001B[39;00m section\u001B[38;5;241m.\u001B[39mndim \u001B[38;5;241m==\u001B[39m \u001B[38;5;28mself\u001B[39m\u001B[38;5;241m.\u001B[39mndim:\n\u001B[1;32m   1071\u001B[0m             \u001B[38;5;66;03m# we're in the middle of slicing through a MultiIndex\u001B[39;00m\n\u001B[1;32m   1072\u001B[0m             \u001B[38;5;66;03m# revise the key wrt to `section` by inserting an _NS\u001B[39;00m\n",
      "File \u001B[0;32m~/repositories/00_mine/LN-pathfinding/.venv/lib/python3.10/site-packages/pandas/core/indexing.py:1431\u001B[0m, in \u001B[0;36m_LocIndexer._getitem_axis\u001B[0;34m(self, key, axis)\u001B[0m\n\u001B[1;32m   1429\u001B[0m \u001B[38;5;66;03m# fall thru to straight lookup\u001B[39;00m\n\u001B[1;32m   1430\u001B[0m \u001B[38;5;28mself\u001B[39m\u001B[38;5;241m.\u001B[39m_validate_key(key, axis)\n\u001B[0;32m-> 1431\u001B[0m \u001B[38;5;28;01mreturn\u001B[39;00m \u001B[38;5;28;43mself\u001B[39;49m\u001B[38;5;241;43m.\u001B[39;49m\u001B[43m_get_label\u001B[49m\u001B[43m(\u001B[49m\u001B[43mkey\u001B[49m\u001B[43m,\u001B[49m\u001B[43m \u001B[49m\u001B[43maxis\u001B[49m\u001B[38;5;241;43m=\u001B[39;49m\u001B[43maxis\u001B[49m\u001B[43m)\u001B[49m\n",
      "File \u001B[0;32m~/repositories/00_mine/LN-pathfinding/.venv/lib/python3.10/site-packages/pandas/core/indexing.py:1381\u001B[0m, in \u001B[0;36m_LocIndexer._get_label\u001B[0;34m(self, label, axis)\u001B[0m\n\u001B[1;32m   1379\u001B[0m \u001B[38;5;28;01mdef\u001B[39;00m \u001B[38;5;21m_get_label\u001B[39m(\u001B[38;5;28mself\u001B[39m, label, axis: AxisInt):\n\u001B[1;32m   1380\u001B[0m     \u001B[38;5;66;03m# GH#5567 this will fail if the label is not present in the axis.\u001B[39;00m\n\u001B[0;32m-> 1381\u001B[0m     \u001B[38;5;28;01mreturn\u001B[39;00m \u001B[38;5;28;43mself\u001B[39;49m\u001B[38;5;241;43m.\u001B[39;49m\u001B[43mobj\u001B[49m\u001B[38;5;241;43m.\u001B[39;49m\u001B[43mxs\u001B[49m\u001B[43m(\u001B[49m\u001B[43mlabel\u001B[49m\u001B[43m,\u001B[49m\u001B[43m \u001B[49m\u001B[43maxis\u001B[49m\u001B[38;5;241;43m=\u001B[39;49m\u001B[43maxis\u001B[49m\u001B[43m)\u001B[49m\n",
      "File \u001B[0;32m~/repositories/00_mine/LN-pathfinding/.venv/lib/python3.10/site-packages/pandas/core/generic.py:4301\u001B[0m, in \u001B[0;36mNDFrame.xs\u001B[0;34m(self, key, axis, level, drop_level)\u001B[0m\n\u001B[1;32m   4299\u001B[0m             new_index \u001B[38;5;241m=\u001B[39m index[loc]\n\u001B[1;32m   4300\u001B[0m \u001B[38;5;28;01melse\u001B[39;00m:\n\u001B[0;32m-> 4301\u001B[0m     loc \u001B[38;5;241m=\u001B[39m \u001B[43mindex\u001B[49m\u001B[38;5;241;43m.\u001B[39;49m\u001B[43mget_loc\u001B[49m\u001B[43m(\u001B[49m\u001B[43mkey\u001B[49m\u001B[43m)\u001B[49m\n\u001B[1;32m   4303\u001B[0m     \u001B[38;5;28;01mif\u001B[39;00m \u001B[38;5;28misinstance\u001B[39m(loc, np\u001B[38;5;241m.\u001B[39mndarray):\n\u001B[1;32m   4304\u001B[0m         \u001B[38;5;28;01mif\u001B[39;00m loc\u001B[38;5;241m.\u001B[39mdtype \u001B[38;5;241m==\u001B[39m np\u001B[38;5;241m.\u001B[39mbool_:\n",
      "File \u001B[0;32m~/repositories/00_mine/LN-pathfinding/.venv/lib/python3.10/site-packages/pandas/core/indexes/base.py:3812\u001B[0m, in \u001B[0;36mIndex.get_loc\u001B[0;34m(self, key)\u001B[0m\n\u001B[1;32m   3807\u001B[0m     \u001B[38;5;28;01mif\u001B[39;00m \u001B[38;5;28misinstance\u001B[39m(casted_key, \u001B[38;5;28mslice\u001B[39m) \u001B[38;5;129;01mor\u001B[39;00m (\n\u001B[1;32m   3808\u001B[0m         \u001B[38;5;28misinstance\u001B[39m(casted_key, abc\u001B[38;5;241m.\u001B[39mIterable)\n\u001B[1;32m   3809\u001B[0m         \u001B[38;5;129;01mand\u001B[39;00m \u001B[38;5;28many\u001B[39m(\u001B[38;5;28misinstance\u001B[39m(x, \u001B[38;5;28mslice\u001B[39m) \u001B[38;5;28;01mfor\u001B[39;00m x \u001B[38;5;129;01min\u001B[39;00m casted_key)\n\u001B[1;32m   3810\u001B[0m     ):\n\u001B[1;32m   3811\u001B[0m         \u001B[38;5;28;01mraise\u001B[39;00m InvalidIndexError(key)\n\u001B[0;32m-> 3812\u001B[0m     \u001B[38;5;28;01mraise\u001B[39;00m \u001B[38;5;167;01mKeyError\u001B[39;00m(key) \u001B[38;5;28;01mfrom\u001B[39;00m \u001B[38;5;21;01merr\u001B[39;00m\n\u001B[1;32m   3813\u001B[0m \u001B[38;5;28;01mexcept\u001B[39;00m \u001B[38;5;167;01mTypeError\u001B[39;00m:\n\u001B[1;32m   3814\u001B[0m     \u001B[38;5;66;03m# If we have a listlike key, _check_indexing_error will raise\u001B[39;00m\n\u001B[1;32m   3815\u001B[0m     \u001B[38;5;66;03m#  InvalidIndexError. Otherwise we fall through and re-raise\u001B[39;00m\n\u001B[1;32m   3816\u001B[0m     \u001B[38;5;66;03m#  the TypeError.\u001B[39;00m\n\u001B[1;32m   3817\u001B[0m     \u001B[38;5;28mself\u001B[39m\u001B[38;5;241m.\u001B[39m_check_indexing_error(key)\n",
      "\u001B[0;31mKeyError\u001B[0m: '0207fded7f81647771ac646e49e9a029c956e8de911fa6b19c1055ab6b2ba350b2'"
     ]
    }
   ],
   "execution_count": 20
  },
  {
   "metadata": {},
   "cell_type": "markdown",
   "source": "## Solving the model",
   "id": "b8bc8c88087daf77"
  },
  {
   "metadata": {},
   "cell_type": "code",
   "source": [
    "#from pyomo.common.tempfiles import TempfileManager\n",
    "#TempfileManager.tempdir = \"/home/filippo/repositories/LN-pathfinding\""
   ],
   "id": "2dd413d5dd6de75f",
   "outputs": [],
   "execution_count": null
  },
  {
   "metadata": {},
   "cell_type": "code",
   "source": [
    "opt = pyo.SolverFactory('cbc')\n",
    "#opt = pyo.SolverFactory('cplex_direct')\n",
    "results = opt.solve(model, tee=True, keepfiles=True)\n",
    "\n",
    "if (results.solver.status == pyo.SolverStatus.ok) and (results.solver.termination_condition == pyo.TerminationCondition.optimal):\n",
    "    print('\\nOptimal solution found')\n",
    "elif results.solver.termination_condition == pyo.TerminationCondition.feasible:\n",
    "    print('\\nFeasible but not proven optimal solution found')\n",
    "elif results.solver.termination_condition == pyo.TerminationCondition.infeasible:\n",
    "    raise Exception(\"The model is infeasible\")\n",
    "else:\n",
    "    print('\\nSolver Status: ',  results.solver.status)\n",
    "    raise Exception(results.solver.status)\n",
    "\n",
    "print('\\nObject function value = ', model.Objective())\n"
   ],
   "id": "f88c7c0611694b3b",
   "outputs": [],
   "execution_count": null
  },
  {
   "metadata": {},
   "cell_type": "code",
   "source": [
    "#from pyomo.opt import SolverStatus, TerminationCondition\n",
    "\n",
    "print(\"Solver Status: \",  results.solver[0][\"System time\"])\n"
   ],
   "id": "8539cc0c87e2357b",
   "outputs": [],
   "execution_count": null
  },
  {
   "metadata": {},
   "cell_type": "code",
   "source": [
    "from decimal import Decimal\n",
    "pd.set_option('display.max_colwidth', 10000000000000000000000000000000000000000000000000000)\n",
    "DF_channels = pd.DataFrame()\n",
    "c = 0\n",
    "for index, value in model.a.extract_values().items():\n",
    "    if value > 0.1:\n",
    "        DF_channels.loc[c, \"source\"] = index[0]\n",
    "        DF_channels.loc[c, \"destination\"] = index[1]\n",
    "        try:\n",
    "            DF_channels.loc[c, \"source-alias\"] = nodes.loc[index[0], \"alias\"]\n",
    "        except KeyError:\n",
    "            print(\"Source alias not found in nodes database: placeholder inserted\")\n",
    "            DF_channels.loc[c, \"source-alias\"] = \"source-alias\"\n",
    "            pass\n",
    "        try:\n",
    "            DF_channels.loc[c, \"destination-alias\"] = nodes.loc[index[1], \"alias\"]\n",
    "        except KeyError:\n",
    "            print(\"Destination alias not found in nodes database: placeholder inserted\")\n",
    "            DF_channels.loc[c, \"destination-alias\"] = \"destination-alias\"\n",
    "            pass\n",
    "        DF_channels.loc[c, \"capacity\"] = Decimal(channels.loc[index, \"capacity\"]/1000000)\n",
    "        DF_channels.loc[c, \"amount\"] = Decimal(value/1000000)\n",
    "        DF_channels.loc[c, \"base_fee\"] = Decimal(channels.loc[(index[0], index[1]), \"base_fee\"]/1000000)\n",
    "        DF_channels.loc[c, \"rate_fee\"] = channels.loc[(index[0], index[1]), \"rate_fee\"]\n",
    "        #DF_channels.loc[c, \"used_fl\"] = channels.loc[]\n",
    "        c += 1\n",
    "\n",
    "DF_channels_pos = DF_channels[DF_channels[\"amount\"]!=0]"
   ],
   "id": "b7051d6dc41ce1a0",
   "outputs": [],
   "execution_count": null
  },
  {
   "metadata": {},
   "cell_type": "code",
   "source": "DF_channels[DF_channels[\"amount\"]> DF_channels[\"capacity\"]]",
   "id": "591cfe14bef33883",
   "outputs": [],
   "execution_count": null
  },
  {
   "metadata": {},
   "cell_type": "code",
   "source": [
    "DF_fixed = pd.DataFrame()\n",
    "c = 0\n",
    "for index, value in model.x.extract_values().items():\n",
    "    if value != 0:\n",
    "        DF_fixed.loc[c, \"source\"] = index[0]\n",
    "        DF_fixed.loc[c, \"destination\"] = index[1]\n",
    "        DF_fixed.loc[c, \"used\"] = Decimal(value)\n",
    "        c += 1\n",
    "\n",
    "DF_fixed_pos = DF_fixed[DF_fixed[\"used\"]!=0]\n",
    "DF_fixed_pos"
   ],
   "id": "4150b1232fe02328",
   "outputs": [],
   "execution_count": null
  },
  {
   "metadata": {},
   "cell_type": "markdown",
   "source": "### All data about channels on path",
   "id": "1dfb4bcd7e78f159"
  },
  {
   "metadata": {},
   "cell_type": "code",
   "source": [
    "intersection = DF_fixed_pos.merge(DF_channels_pos, on=[\"source\", \"destination\"], how=\"outer\")\n",
    "final = intersection[intersection[\"amount\"]>0]\n",
    "final"
   ],
   "id": "ab555f0c48920c85",
   "outputs": [],
   "execution_count": null
  },
  {
   "metadata": {},
   "cell_type": "code",
   "source": [
    "%%capture --no-stdout\n",
    "final[\"amount\"] = final[\"amount\"].astype(float)\n",
    "final[\"rate_fee\"] = final[\"rate_fee\"].astype(float)\n",
    "final[\"base_fee\"] = final[\"base_fee\"].astype(float)\n",
    "total_transaction_cost = sum(final[\"amount\"] * final[\"rate_fee\"] + final[\"base_fee\"])\n",
    "perc_cost = (total_transaction_cost * 100) / transaction_amount\n",
    "print(f\"Transacting {transaction_amount} sats costs {total_transaction_cost} ({perc_cost}% of transaction amount)\")"
   ],
   "id": "5cb9ca4869b126de",
   "outputs": [],
   "execution_count": null
  },
  {
   "metadata": {},
   "cell_type": "code",
   "source": [
    "import networkx as nx\n",
    "import matplotlib.pyplot as plt\n",
    "\n",
    "# edges list construction\n",
    "edges_df = final[[\"source-alias\", \"destination-alias\"]]\n",
    "\n",
    "G = nx.from_pandas_edgelist(edges_df, \"source-alias\", \"destination-alias\", create_using=nx.DiGraph())\n",
    "\n",
    "#plt.figure(figsize=(8, 6))\n",
    "#pos = nx.spring_layout(G)\n",
    "#nx.draw(G, pos, with_labels=True, node_size=2000, node_color='lightblue', font_size=10, font_color='black', font_weight='bold', arrows=True)\n",
    "#plt.title(\"Graph from DataFrame of Edges\")\n",
    "#plt.show()\n",
    "\n",
    "\n",
    "plt.figure(figsize=(8, 6))\n",
    "pos = nx.spring_layout(G)  # positions for all nodes\n",
    "nx.draw(G, pos, with_labels=True, node_size=1000, node_color='lightblue', font_size=10, font_color='black', font_weight='bold', arrows=True)\n",
    "plt.title(\"Graph with Uniform Node Size\")\n",
    "plt.show()"
   ],
   "id": "d7e96330eab65421",
   "outputs": [],
   "execution_count": null
  },
  {
   "metadata": {},
   "cell_type": "code",
   "source": [
    "for i in nx.strongly_connected_components(G):\n",
    "    print(i)"
   ],
   "id": "ba678151d648b088",
   "outputs": [],
   "execution_count": null
  },
  {
   "metadata": {},
   "cell_type": "code",
   "source": [
    "final[\"amount\"] = final[\"amount\"].astype(float)\n",
    "final[\"rate_fee\"] = final[\"rate_fee\"].astype(float)\n",
    "final[\"base_fee\"] = final[\"base_fee\"].astype(float)\n",
    "total_transaction_cost = sum(final[\"amount\"] * final[\"rate_fee\"] + final[\"base_fee\"])\n",
    "perc_cost = (total_transaction_cost * 100) / transaction_amount\n",
    "print(f\"Transacting {transaction_amount} sats costs {total_transaction_cost} ({perc_cost}% of transaction amount)\")\n",
    "print(\"Solver Status: \", results.solver[0][\"System time\"])"
   ],
   "id": "85a5678d800efad8",
   "outputs": [],
   "execution_count": null
  },
  {
   "metadata": {},
   "cell_type": "code",
   "source": [
    "#from collections import Counter\n",
    "#results = [tuple(i) for i in DF_channels_pos[[\"source-alias\", \"destination-alias\"]].to_numpy()]\n",
    "#unwrap = [e for i in results for e in i]\n",
    "#extremes = [j for j in unwrap if Counter(unwrap)[j] == 1]\n",
    "#def return_source(l: list):\n",
    "#    if l[0] in [i for i, j in results]:\n",
    "#        return l[0]\n",
    "#    else: \n",
    "#        return l[1]\n",
    "#sequence = []        \n",
    "#source = return_source(extremes)\n",
    "#sequence.append(source)\n",
    "#while len(sequence) <= len(results):\n",
    "#    for i,j in results:\n",
    "#        if i == sequence[-1]:\n",
    "#            sequence.append(j)\n",
    "#for i in sequence:\n",
    "#    print(\"⬇️\", i)"
   ],
   "id": "6388d7bda8ced731",
   "outputs": [],
   "execution_count": null
  }
 ],
 "metadata": {
  "kernelspec": {
   "display_name": "Python 3",
   "language": "python",
   "name": "python3"
  },
  "language_info": {
   "codemirror_mode": {
    "name": "ipython",
    "version": 2
   },
   "file_extension": ".py",
   "mimetype": "text/x-python",
   "name": "python",
   "nbconvert_exporter": "python",
   "pygments_lexer": "ipython2",
   "version": "2.7.6"
  }
 },
 "nbformat": 4,
 "nbformat_minor": 5
}
