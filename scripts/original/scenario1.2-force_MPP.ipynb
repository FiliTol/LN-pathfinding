{
 "cells": [
  {
   "metadata": {
    "ExecuteTime": {
     "end_time": "2025-02-03T21:18:21.461587Z",
     "start_time": "2025-02-03T21:18:20.809271Z"
    }
   },
   "cell_type": "code",
   "source": [
    "import pandas as pd\n",
    "from cleaning import create_demand\n",
    "import pyomo.environ as pyo\n",
    "import pyomo"
   ],
   "id": "initial_id",
   "outputs": [],
   "execution_count": 1
  },
  {
   "metadata": {},
   "cell_type": "markdown",
   "source": "# Data import",
   "id": "a4b2795dc42b8269"
  },
  {
   "metadata": {
    "ExecuteTime": {
     "end_time": "2025-02-03T21:18:21.937534Z",
     "start_time": "2025-02-03T21:18:21.877176Z"
    }
   },
   "cell_type": "code",
   "source": [
    "nodes = pd.read_pickle(\"../../data/original/nodes.pkl\")\n",
    "channels = pd.read_pickle(\"../../data/original/channels.pkl\")"
   ],
   "id": "20748e4222156956",
   "outputs": [],
   "execution_count": 2
  },
  {
   "metadata": {},
   "cell_type": "markdown",
   "source": "## Modeling",
   "id": "7df6d25eef847cf7"
  },
  {
   "metadata": {
    "ExecuteTime": {
     "end_time": "2025-02-03T21:18:22.654916Z",
     "start_time": "2025-02-03T21:18:22.647325Z"
    }
   },
   "cell_type": "code",
   "source": "pyomo.common.timing.report_timing()",
   "id": "4a4e07a12106f0f2",
   "outputs": [
    {
     "data": {
      "text/plain": [
       "<pyomo.common.timing.report_timing at 0x7f5ecb8c63b0>"
      ]
     },
     "execution_count": 3,
     "metadata": {},
     "output_type": "execute_result"
    }
   ],
   "execution_count": 3
  },
  {
   "metadata": {
    "ExecuteTime": {
     "end_time": "2025-02-03T21:18:23.225062Z",
     "start_time": "2025-02-03T21:18:23.210554Z"
    }
   },
   "cell_type": "code",
   "source": [
    "# Multiplication to set the same base unit for all computations\n",
    "channels[\"capacity\"] = channels[\"capacity\"] * 1000000\n",
    "channels[\"base_fee\"] = channels[\"base_fee\"] * 1000000"
   ],
   "id": "eb5330e8d98289ec",
   "outputs": [],
   "execution_count": 4
  },
  {
   "metadata": {
    "ExecuteTime": {
     "end_time": "2025-02-03T21:18:25.561931Z",
     "start_time": "2025-02-03T21:18:23.753353Z"
    }
   },
   "cell_type": "code",
   "source": [
    "model = pyo.ConcreteModel(name=\"Min cost flow problem\")\n",
    "model.NODES = pyo.Set(initialize=nodes.index)\n",
    "model.CHANNELS = pyo.Set(initialize=[(channels.loc[i, \"node1_pub\"], channels.loc[i, \"node2_pub\"]) for i in channels.index])"
   ],
   "id": "52bc701c57020ae",
   "outputs": [
    {
     "name": "stdout",
     "output_type": "stream",
     "text": [
      "           0 seconds to construct Block ConcreteModel; 1 index total\n",
      "        0.03 seconds to construct Set NODES; 1 index total\n",
      "        0.22 seconds to construct Set CHANNELS; 1 index total\n"
     ]
    }
   ],
   "execution_count": 5
  },
  {
   "metadata": {
    "ExecuteTime": {
     "end_time": "2025-02-03T21:21:54.536487Z",
     "start_time": "2025-02-03T21:21:54.526643Z"
    }
   },
   "cell_type": "code",
   "source": [
    "transaction_amount = 10000\n",
    "nodes = create_demand(nodes, transaction_amount,\n",
    "                      source=\"02b4098c3116124c0c4105295d3d2e65927d46e98e248d84cb6119da57e4ae31e3\",destination=\"0202f00d5f5c91a3c79113851b162c2b75f2cbd9fb2378fb4a4ce92d5ba1e63e08\")"
   ],
   "id": "71f0e54edb55901d",
   "outputs": [
    {
     "name": "stdout",
     "output_type": "stream",
     "text": [
      "Transaction of 10000 sats.\n",
      "Sender: VeniceForever\n",
      "Receiver: ShatSat412.\n"
     ]
    }
   ],
   "execution_count": 14
  },
  {
   "metadata": {
    "ExecuteTime": {
     "end_time": "2025-02-03T21:18:25.884401Z",
     "start_time": "2025-02-03T21:18:25.575673Z"
    }
   },
   "cell_type": "code",
   "source": [
    "model.x = pyo.Var(model.CHANNELS, domain=pyo.NonNegativeIntegers, bounds=(0,1))\n",
    "model.a = pyo.Var(model.CHANNELS, domain=pyo.NonNegativeReals, bounds=(0, max(nodes[\"demand\"])))"
   ],
   "id": "db6bf92632e748f7",
   "outputs": [
    {
     "name": "stdout",
     "output_type": "stream",
     "text": [
      "        0.14 seconds to construct Var x; 89898 indices total\n",
      "        0.15 seconds to construct Var a; 89898 indices total\n"
     ]
    }
   ],
   "execution_count": 7
  },
  {
   "metadata": {
    "ExecuteTime": {
     "end_time": "2025-02-03T21:18:26.624253Z",
     "start_time": "2025-02-03T21:18:26.582886Z"
    }
   },
   "cell_type": "code",
   "source": [
    "channels.reset_index(inplace=True)\n",
    "channels.set_index([\"node1_pub\", \"node2_pub\"], inplace=True)\n",
    "channels.sort_index(inplace=True)"
   ],
   "id": "5d69bcd9f4cf6b47",
   "outputs": [],
   "execution_count": 8
  },
  {
   "metadata": {},
   "cell_type": "markdown",
   "source": [
    "### Objective function\n",
    "\n",
    "$$\n",
    "min \\sum_{} ^{} amount_i \\times feerate_{i} + x_{i} \\times basefee_{i}\n",
    "$$"
   ],
   "id": "75fbeb57061b26ae"
  },
  {
   "metadata": {
    "ExecuteTime": {
     "end_time": "2025-02-03T21:18:37.349222Z",
     "start_time": "2025-02-03T21:18:27.383283Z"
    }
   },
   "cell_type": "code",
   "source": [
    "#def objective_function(model: pyo.ConcreteModel):\n",
    "#    return sum(model.a[i] * channels.loc[i, \"rate_fee\"] for i in model.CHANNELS) + sum(model.x[i] * channels.loc[i, \"base_fee\"] for i in model.CHANNELS)\n",
    "\n",
    "def objective_function(model: pyo.ConcreteModel):\n",
    "    return sum(model.a[i] * channels.loc[i, \"rate_fee\"] + model.x[i] * channels.loc[i, \"base_fee\"] for i in model.CHANNELS)\n",
    "\n",
    "model.totalCost = pyo.Objective(rule=objective_function(model), sense=pyo.minimize)"
   ],
   "id": "f45ec00f2444e9d1",
   "outputs": [
    {
     "name": "stdout",
     "output_type": "stream",
     "text": [
      "           0 seconds to construct Objective totalCost; 1 index total\n"
     ]
    }
   ],
   "execution_count": 9
  },
  {
   "metadata": {},
   "cell_type": "markdown",
   "source": "### Constraints\n",
   "id": "861b0daa9b9cba75"
  },
  {
   "metadata": {},
   "cell_type": "markdown",
   "source": [
    "#### Capacity constraint\n",
    "\n",
    "$$amount_{i,j} \\le capacity_{i,j} \\times x_{i,j} \\text{ } \\forall (i,j) \\in E$$"
   ],
   "id": "e5ea238f92c81afb"
  },
  {
   "metadata": {
    "ExecuteTime": {
     "end_time": "2025-02-03T21:18:44.071374Z",
     "start_time": "2025-02-03T21:18:37.350646Z"
    }
   },
   "cell_type": "code",
   "source": [
    "def capacity_constraint(model: pyo.ConcreteModel, a, b):\n",
    "    return model.a[(a, b)] <= channels.loc[(a, b), \"capacity\"] * model.x[(a, b)]\n",
    "\n",
    "model.CapacityConstraint = pyo.Constraint(model.CHANNELS, rule=capacity_constraint, name=\"Capacity constraint\")"
   ],
   "id": "7d46c6418b15675a",
   "outputs": [
    {
     "name": "stdout",
     "output_type": "stream",
     "text": [
      "        6.72 seconds to construct Constraint CapacityConstraint; 89898 indices total\n"
     ]
    }
   ],
   "execution_count": 10
  },
  {
   "metadata": {},
   "cell_type": "markdown",
   "source": [
    "#### Avoid channel draining constraint\n",
    "\n",
    "Avoid to get most of the channel liquidity moved in one routing transaction by imposing a max cap to the amount routable through channels. This amount is proportionate to the channel capacity"
   ],
   "id": "39bf99aa4ecc5556"
  },
  {
   "metadata": {},
   "cell_type": "code",
   "outputs": [],
   "execution_count": null,
   "source": [
    "#def avoid_channel_draining_constraint(model: pyo.ConcreteModel, a, b):\n",
    "#    return model.a[(a, b)] <= channels.loc[(a, b), \"capacity\"] * model.x[(a, b)]\n",
    "#\n",
    "#model.CapacityConstraint = pyo.Constraint(model.CHANNELS, rule=capacity_constraint, name=\"Channel Draining Constraint\")"
   ],
   "id": "a95d3dbdb6d64fdf"
  },
  {
   "metadata": {},
   "cell_type": "markdown",
   "source": [
    "### Force Multi Path Payment with even splitting (EV) Constraint\n",
    "\n",
    "This constraint enforces every payment to be using at least two parallel paths between two intermediary nodes (excluding source and destination nodes)\n",
    "\n",
    "$$\n",
    "\\sum_{(i,n) \\in E} x_{i,n} = \\sum_{(n,j) \\in E} x_{n,j} \\text{ } \\forall n \\in V \\bigwedge i \\notin \\{n, s, d\\}\n",
    "$$\n",
    "\n",
    "and \n",
    "\n",
    "$$\n",
    "\\sum_{(i,n) \\in E} x_{i,n} = 2 \\text{ } \\forall n \\in V \\bigwedge i \\notin \\{n, s, d\\}\n",
    "$$\n",
    "\n",
    "where $s$ is the source node, with a negative demand and $d$ is the destination node, with positive demand.\n"
   ],
   "id": "3e1f8c47116b157"
  },
  {
   "metadata": {
    "ExecuteTime": {
     "end_time": "2025-02-03T21:22:57.547975Z",
     "start_time": "2025-02-03T21:22:00.377143Z"
    }
   },
   "cell_type": "code",
   "source": [
    "s = nodes[nodes[\"demand\"] < 0].index.values\n",
    "d = nodes[nodes[\"demand\"] > 0].index.values\n",
    "intermediaries = [(i, j) for i, j in channels.index if i != s and j != d]\n",
    "\n",
    "\n",
    "def number_channels_rule(model: pyo.ConcreteModel, n):\n",
    "    incoming = [model.x[(i, j)] for i, j in intermediaries if j == n]\n",
    "    outgoing = [model.x[(i, j)] for i, j in intermediaries if i == n]\n",
    "    return sum(incoming) == sum(outgoing)\n",
    "\n",
    "\n",
    "model.NumberChannelsConstraint = pyo.Constraint(model.NODES, rule=number_channels_rule,\n",
    "                                                name=\"Number channels constraint\")"
   ],
   "id": "c8ba06dd4980219d",
   "outputs": [
    {
     "name": "stdout",
     "output_type": "stream",
     "text": [
      "WARNING: Implicitly replacing the Component attribute NumberChannelsConstraint\n",
      "(type=<class 'pyomo.core.base.constraint.IndexedConstraint'>) on block Min\n",
      "cost flow problem with a new Component (type=<class\n",
      "'pyomo.core.base.constraint.IndexedConstraint'>). This is usually indicative\n",
      "of a modelling error. To avoid this warning, use block.del_component() and\n",
      "block.add_component().\n",
      "       56.70 seconds to construct Constraint NumberChannelsConstraint; 11984 indices total\n"
     ]
    }
   ],
   "execution_count": 15
  },
  {
   "metadata": {
    "ExecuteTime": {
     "end_time": "2025-02-03T21:22:57.816463Z",
     "start_time": "2025-02-03T21:22:57.549662Z"
    }
   },
   "cell_type": "code",
   "source": [
    "def number_channels_cap_rule(model: pyo.ConcreteModel, n):\n",
    "    incoming = [model.x[(i, j)] for i, j in intermediaries if j == n]\n",
    "    return sum(incoming) >= 2\n",
    "model.NumberChannelsCapRule = pyo.Constraint(model.NODES, rule=number_channels_cap_rule,\n",
    "                                             name=\"Number channels cap constraint\")"
   ],
   "id": "97f8ceea6337907d",
   "outputs": [
    {
     "name": "stdout",
     "output_type": "stream",
     "text": [
      "WARNING: Implicitly replacing the Component attribute NumberChannelsCapRule\n",
      "(type=<class 'pyomo.core.base.constraint.IndexedConstraint'>) on block Min\n",
      "cost flow problem with a new Component (type=<class\n",
      "'pyomo.core.base.constraint.IndexedConstraint'>). This is usually indicative\n",
      "of a modelling error. To avoid this warning, use block.del_component() and\n",
      "block.add_component().\n",
      "ERROR: Rule failed when generating expression for Constraint\n",
      "NumberChannelsCapRule with index\n",
      "0202f00d5f5c91a3c79113851b162c2b75f2cbd9fb2378fb4a4ce92d5ba1e63e08:\n",
      "ValueError: Invalid constraint expression. The constraint expression resolved\n",
      "to a trivial Boolean (False) instead of a Pyomo object. Please modify your\n",
      "rule to return Constraint.Infeasible instead of False.\n",
      "\n",
      "    Error thrown for Constraint 'NumberChannelsCapRule[0202f00d5f5c91a3c791138\n",
      "    51b162c2b75f2cbd9fb2378fb4a4ce92d5ba1e63e08]'\n",
      "        0.18 seconds to construct Constraint NumberChannelsCapRule; 11984 indices total\n",
      "ERROR: Constructing component 'NumberChannelsCapRule' from data=None failed:\n",
      "        ValueError: Invalid constraint expression. The constraint expression\n",
      "        resolved to a trivial Boolean (False) instead of a Pyomo object.\n",
      "        Please modify your rule to return Constraint.Infeasible instead of\n",
      "        False.\n",
      "\n",
      "    Error thrown for Constraint 'NumberChannelsCapRule[0202f00d5f5c91a3c791138\n",
      "    51b162c2b75f2cbd9fb2378fb4a4ce92d5ba1e63e08]'\n"
     ]
    },
    {
     "ename": "ValueError",
     "evalue": "Invalid constraint expression. The constraint expression resolved to a trivial Boolean (False) instead of a Pyomo object. Please modify your rule to return Constraint.Infeasible instead of False.\n\nError thrown for Constraint 'NumberChannelsCapRule[0202f00d5f5c91a3c79113851b162c2b75f2cbd9fb2378fb4a4ce92d5ba1e63e08]'",
     "output_type": "error",
     "traceback": [
      "\u001B[0;31m---------------------------------------------------------------------------\u001B[0m",
      "\u001B[0;31mValueError\u001B[0m                                Traceback (most recent call last)",
      "Cell \u001B[0;32mIn[16], line 4\u001B[0m\n\u001B[1;32m      2\u001B[0m     incoming \u001B[38;5;241m=\u001B[39m [model\u001B[38;5;241m.\u001B[39mx[(i, j)] \u001B[38;5;28;01mfor\u001B[39;00m i, j \u001B[38;5;129;01min\u001B[39;00m intermediaries \u001B[38;5;28;01mif\u001B[39;00m j \u001B[38;5;241m==\u001B[39m n]\n\u001B[1;32m      3\u001B[0m     \u001B[38;5;28;01mreturn\u001B[39;00m \u001B[38;5;28msum\u001B[39m(incoming) \u001B[38;5;241m>\u001B[39m\u001B[38;5;241m=\u001B[39m \u001B[38;5;241m2\u001B[39m\n\u001B[0;32m----> 4\u001B[0m \u001B[43mmodel\u001B[49m\u001B[38;5;241;43m.\u001B[39;49m\u001B[43mNumberChannelsCapRule\u001B[49m \u001B[38;5;241m=\u001B[39m pyo\u001B[38;5;241m.\u001B[39mConstraint(model\u001B[38;5;241m.\u001B[39mNODES, rule\u001B[38;5;241m=\u001B[39mnumber_channels_cap_rule,\n\u001B[1;32m      5\u001B[0m                                              name\u001B[38;5;241m=\u001B[39m\u001B[38;5;124m\"\u001B[39m\u001B[38;5;124mNumber channels cap constraint\u001B[39m\u001B[38;5;124m\"\u001B[39m)\n",
      "File \u001B[0;32m~/repositories/LN-pathfinding/venv/lib/python3.10/site-packages/pyomo/core/base/block.py:601\u001B[0m, in \u001B[0;36mBlockData.__setattr__\u001B[0;34m(self, name, val)\u001B[0m\n\u001B[1;32m    592\u001B[0m     logger\u001B[38;5;241m.\u001B[39mwarning(\n\u001B[1;32m    593\u001B[0m         \u001B[38;5;124m\"\u001B[39m\u001B[38;5;124mImplicitly replacing the Component attribute \u001B[39m\u001B[38;5;124m\"\u001B[39m\n\u001B[1;32m    594\u001B[0m         \u001B[38;5;124m\"\u001B[39m\u001B[38;5;132;01m%s\u001B[39;00m\u001B[38;5;124m (type=\u001B[39m\u001B[38;5;132;01m%s\u001B[39;00m\u001B[38;5;124m) on block \u001B[39m\u001B[38;5;132;01m%s\u001B[39;00m\u001B[38;5;124m with a new Component (type=\u001B[39m\u001B[38;5;132;01m%s\u001B[39;00m\u001B[38;5;124m).\u001B[39m\u001B[38;5;124m\"\u001B[39m\n\u001B[0;32m   (...)\u001B[0m\n\u001B[1;32m    598\u001B[0m         \u001B[38;5;241m%\u001B[39m (name, \u001B[38;5;28mtype\u001B[39m(\u001B[38;5;28mself\u001B[39m\u001B[38;5;241m.\u001B[39mcomponent(name)), \u001B[38;5;28mself\u001B[39m\u001B[38;5;241m.\u001B[39mname, \u001B[38;5;28mtype\u001B[39m(val))\n\u001B[1;32m    599\u001B[0m     )\n\u001B[1;32m    600\u001B[0m     \u001B[38;5;28mself\u001B[39m\u001B[38;5;241m.\u001B[39mdel_component(name)\n\u001B[0;32m--> 601\u001B[0m     \u001B[38;5;28;43mself\u001B[39;49m\u001B[38;5;241;43m.\u001B[39;49m\u001B[43madd_component\u001B[49m\u001B[43m(\u001B[49m\u001B[43mname\u001B[49m\u001B[43m,\u001B[49m\u001B[43m \u001B[49m\u001B[43mval\u001B[49m\u001B[43m)\u001B[49m\n\u001B[1;32m    602\u001B[0m \u001B[38;5;28;01melse\u001B[39;00m:\n\u001B[1;32m    603\u001B[0m     \u001B[38;5;66;03m#\u001B[39;00m\n\u001B[1;32m    604\u001B[0m     \u001B[38;5;66;03m# The incoming value is not a component, so we set the\u001B[39;00m\n\u001B[0;32m   (...)\u001B[0m\n\u001B[1;32m    611\u001B[0m     \u001B[38;5;66;03m# generated while setting the value.\u001B[39;00m\n\u001B[1;32m    612\u001B[0m     \u001B[38;5;66;03m#\u001B[39;00m\n\u001B[1;32m    613\u001B[0m     \u001B[38;5;28;01mtry\u001B[39;00m:\n",
      "File \u001B[0;32m~/repositories/LN-pathfinding/venv/lib/python3.10/site-packages/pyomo/core/base/block.py:1116\u001B[0m, in \u001B[0;36mBlockData.add_component\u001B[0;34m(self, name, val)\u001B[0m\n\u001B[1;32m   1108\u001B[0m     logger\u001B[38;5;241m.\u001B[39mdebug(\n\u001B[1;32m   1109\u001B[0m         \u001B[38;5;124m\"\u001B[39m\u001B[38;5;124mConstructing \u001B[39m\u001B[38;5;132;01m%s\u001B[39;00m\u001B[38;5;124m \u001B[39m\u001B[38;5;124m'\u001B[39m\u001B[38;5;132;01m%s\u001B[39;00m\u001B[38;5;124m'\u001B[39m\u001B[38;5;124m on \u001B[39m\u001B[38;5;132;01m%s\u001B[39;00m\u001B[38;5;124m from data=\u001B[39m\u001B[38;5;132;01m%s\u001B[39;00m\u001B[38;5;124m\"\u001B[39m,\n\u001B[1;32m   1110\u001B[0m         val\u001B[38;5;241m.\u001B[39m\u001B[38;5;18m__class__\u001B[39m\u001B[38;5;241m.\u001B[39m\u001B[38;5;18m__name__\u001B[39m,\n\u001B[0;32m   (...)\u001B[0m\n\u001B[1;32m   1113\u001B[0m         \u001B[38;5;28mstr\u001B[39m(data),\n\u001B[1;32m   1114\u001B[0m     )\n\u001B[1;32m   1115\u001B[0m \u001B[38;5;28;01mtry\u001B[39;00m:\n\u001B[0;32m-> 1116\u001B[0m     \u001B[43mval\u001B[49m\u001B[38;5;241;43m.\u001B[39;49m\u001B[43mconstruct\u001B[49m\u001B[43m(\u001B[49m\u001B[43mdata\u001B[49m\u001B[43m)\u001B[49m\n\u001B[1;32m   1117\u001B[0m \u001B[38;5;28;01mexcept\u001B[39;00m:\n\u001B[1;32m   1118\u001B[0m     err \u001B[38;5;241m=\u001B[39m sys\u001B[38;5;241m.\u001B[39mexc_info()[\u001B[38;5;241m1\u001B[39m]\n",
      "File \u001B[0;32m~/repositories/LN-pathfinding/venv/lib/python3.10/site-packages/pyomo/core/base/constraint.py:720\u001B[0m, in \u001B[0;36mConstraint.construct\u001B[0;34m(self, data)\u001B[0m\n\u001B[1;32m    717\u001B[0m     \u001B[38;5;28;01melse\u001B[39;00m:\n\u001B[1;32m    718\u001B[0m         \u001B[38;5;66;03m# Bypass the index validation and create the member directly\u001B[39;00m\n\u001B[1;32m    719\u001B[0m         \u001B[38;5;28;01mfor\u001B[39;00m index \u001B[38;5;129;01min\u001B[39;00m \u001B[38;5;28mself\u001B[39m\u001B[38;5;241m.\u001B[39mindex_set():\n\u001B[0;32m--> 720\u001B[0m             \u001B[38;5;28;43mself\u001B[39;49m\u001B[38;5;241;43m.\u001B[39;49m\u001B[43m_setitem_when_not_present\u001B[49m\u001B[43m(\u001B[49m\u001B[43mindex\u001B[49m\u001B[43m,\u001B[49m\u001B[43m \u001B[49m\u001B[43mrule\u001B[49m\u001B[43m(\u001B[49m\u001B[43mblock\u001B[49m\u001B[43m,\u001B[49m\u001B[43m \u001B[49m\u001B[43mindex\u001B[49m\u001B[43m)\u001B[49m\u001B[43m)\u001B[49m\n\u001B[1;32m    721\u001B[0m \u001B[38;5;28;01mexcept\u001B[39;00m \u001B[38;5;167;01mException\u001B[39;00m:\n\u001B[1;32m    722\u001B[0m     err \u001B[38;5;241m=\u001B[39m sys\u001B[38;5;241m.\u001B[39mexc_info()[\u001B[38;5;241m1\u001B[39m]\n",
      "File \u001B[0;32m~/repositories/LN-pathfinding/venv/lib/python3.10/site-packages/pyomo/core/base/indexed_component.py:1107\u001B[0m, in \u001B[0;36mIndexedComponent._setitem_when_not_present\u001B[0;34m(self, index, value)\u001B[0m\n\u001B[1;32m   1105\u001B[0m \u001B[38;5;28;01mtry\u001B[39;00m:\n\u001B[1;32m   1106\u001B[0m     \u001B[38;5;28;01mif\u001B[39;00m value \u001B[38;5;129;01mis\u001B[39;00m \u001B[38;5;129;01mnot\u001B[39;00m _NotSpecified:\n\u001B[0;32m-> 1107\u001B[0m         \u001B[43mobj\u001B[49m\u001B[38;5;241;43m.\u001B[39;49m\u001B[43mset_value\u001B[49m\u001B[43m(\u001B[49m\u001B[43mvalue\u001B[49m\u001B[43m)\u001B[49m\n\u001B[1;32m   1108\u001B[0m \u001B[38;5;28;01mexcept\u001B[39;00m:\n\u001B[1;32m   1109\u001B[0m     \u001B[38;5;28mself\u001B[39m\u001B[38;5;241m.\u001B[39m_data\u001B[38;5;241m.\u001B[39mpop(index, \u001B[38;5;28;01mNone\u001B[39;00m)\n",
      "File \u001B[0;32m~/repositories/LN-pathfinding/venv/lib/python3.10/site-packages/pyomo/core/base/constraint.py:401\u001B[0m, in \u001B[0;36mConstraintData.set_value\u001B[0;34m(self, expr)\u001B[0m\n\u001B[1;32m    398\u001B[0m     \u001B[38;5;28;01mraise\u001B[39;00m \u001B[38;5;167;01mValueError\u001B[39;00m(_rule_returned_none_error \u001B[38;5;241m%\u001B[39m (\u001B[38;5;28mself\u001B[39m\u001B[38;5;241m.\u001B[39mname,))\n\u001B[1;32m    400\u001B[0m \u001B[38;5;28;01melif\u001B[39;00m expr\u001B[38;5;241m.\u001B[39m\u001B[38;5;18m__class__\u001B[39m \u001B[38;5;129;01mis\u001B[39;00m \u001B[38;5;28mbool\u001B[39m:\n\u001B[0;32m--> 401\u001B[0m     \u001B[38;5;28;01mraise\u001B[39;00m \u001B[38;5;167;01mValueError\u001B[39;00m(\n\u001B[1;32m    402\u001B[0m         \u001B[38;5;124m\"\u001B[39m\u001B[38;5;124mInvalid constraint expression. The constraint \u001B[39m\u001B[38;5;124m\"\u001B[39m\n\u001B[1;32m    403\u001B[0m         \u001B[38;5;124m\"\u001B[39m\u001B[38;5;124mexpression resolved to a trivial Boolean (\u001B[39m\u001B[38;5;132;01m%s\u001B[39;00m\u001B[38;5;124m) \u001B[39m\u001B[38;5;124m\"\u001B[39m\n\u001B[1;32m    404\u001B[0m         \u001B[38;5;124m\"\u001B[39m\u001B[38;5;124minstead of a Pyomo object. Please modify your \u001B[39m\u001B[38;5;124m\"\u001B[39m\n\u001B[1;32m    405\u001B[0m         \u001B[38;5;124m\"\u001B[39m\u001B[38;5;124mrule to return Constraint.\u001B[39m\u001B[38;5;132;01m%s\u001B[39;00m\u001B[38;5;124m instead of \u001B[39m\u001B[38;5;132;01m%s\u001B[39;00m\u001B[38;5;124m.\u001B[39m\u001B[38;5;124m\"\u001B[39m\n\u001B[1;32m    406\u001B[0m         \u001B[38;5;124m\"\u001B[39m\u001B[38;5;130;01m\\n\u001B[39;00m\u001B[38;5;130;01m\\n\u001B[39;00m\u001B[38;5;124mError thrown for Constraint \u001B[39m\u001B[38;5;124m'\u001B[39m\u001B[38;5;132;01m%s\u001B[39;00m\u001B[38;5;124m'\u001B[39m\u001B[38;5;124m\"\u001B[39m\n\u001B[1;32m    407\u001B[0m         \u001B[38;5;241m%\u001B[39m (expr, \u001B[38;5;124m\"\u001B[39m\u001B[38;5;124mFeasible\u001B[39m\u001B[38;5;124m\"\u001B[39m \u001B[38;5;28;01mif\u001B[39;00m expr \u001B[38;5;28;01melse\u001B[39;00m \u001B[38;5;124m\"\u001B[39m\u001B[38;5;124mInfeasible\u001B[39m\u001B[38;5;124m\"\u001B[39m, expr, \u001B[38;5;28mself\u001B[39m\u001B[38;5;241m.\u001B[39mname)\n\u001B[1;32m    408\u001B[0m     )\n\u001B[1;32m    410\u001B[0m \u001B[38;5;28;01melse\u001B[39;00m:\n\u001B[1;32m    411\u001B[0m     \u001B[38;5;28;01mtry\u001B[39;00m:\n",
      "\u001B[0;31mValueError\u001B[0m: Invalid constraint expression. The constraint expression resolved to a trivial Boolean (False) instead of a Pyomo object. Please modify your rule to return Constraint.Infeasible instead of False.\n\nError thrown for Constraint 'NumberChannelsCapRule[0202f00d5f5c91a3c79113851b162c2b75f2cbd9fb2378fb4a4ce92d5ba1e63e08]'"
     ]
    }
   ],
   "execution_count": 16
  },
  {
   "metadata": {},
   "cell_type": "markdown",
   "source": [
    "#### Flow balance constraint\n",
    "\n",
    "$$\\sum_{(s,i) \\in E} amount_{s,i} - \\sum_{(i,t) \\in E} amount_{i,d} = b_i \\text{ } \\forall i \\in V$$\n",
    "\n",
    "where $s$ is the source node, $d$ is the destination node, $i$ is every intermediary node\n"
   ],
   "id": "7adcde34bbdb4878"
  },
  {
   "metadata": {},
   "cell_type": "code",
   "source": [
    "channels.reset_index(inplace=True)\n",
    "channels.set_index(\"channel_id\", inplace=True)\n",
    "\n",
    "def flow_balance_constraint(model: pyo.ConcreteModel, n: str):\n",
    "    InFlow = sum(model.a[(channels.loc[a, \"node1_pub\"], channels.loc[a, \"node2_pub\"])] for a in nodes.loc[n, 'incoming_channels'])\n",
    "    OutFlow = sum(model.a[(channels.loc[a, \"node1_pub\"], channels.loc[a, \"node2_pub\"])] for a in nodes.loc[n, 'outgoing_channels'])\n",
    "    return  OutFlow + nodes.loc[n, \"demand\"] == InFlow\n",
    "\n",
    "model.FlowBalanceConstraint = pyo.Constraint(model.NODES, rule=flow_balance_constraint, name=\"Flow balance constrain\")\n",
    "\n",
    "channels.reset_index(inplace=True)\n",
    "channels.set_index([\"node1_pub\", \"node2_pub\"], inplace=True)\n",
    "channels.sort_index(inplace=True) "
   ],
   "id": "d2b57765c3b53fc5",
   "outputs": [],
   "execution_count": null
  },
  {
   "metadata": {},
   "cell_type": "markdown",
   "source": "## Solving the model",
   "id": "b8bc8c88087daf77"
  },
  {
   "metadata": {},
   "cell_type": "code",
   "source": [
    "#from pyomo.common.tempfiles import TempfileManager\n",
    "#TempfileManager.tempdir = \"/home/filippo/repositories/LN-pathfinding\""
   ],
   "id": "2dd413d5dd6de75f",
   "outputs": [],
   "execution_count": null
  },
  {
   "metadata": {},
   "cell_type": "code",
   "source": [
    "opt = pyo.SolverFactory('cbc')\n",
    "#opt = pyo.SolverFactory('cplex_direct')\n",
    "results = opt.solve(model, tee=True, keepfiles=True)\n",
    "\n",
    "if (results.solver.status == pyo.SolverStatus.ok) and (results.solver.termination_condition == pyo.TerminationCondition.optimal):\n",
    "    print('\\nOptimal solution found')\n",
    "elif results.solver.termination_condition == pyo.TerminationCondition.feasible:\n",
    "    print('\\nFeasible but not proven optimal solution found')\n",
    "elif results.solver.termination_condition == pyo.TerminationCondition.infeasible:\n",
    "    raise Exception(\"The model is infeasible\")\n",
    "else:\n",
    "    print('\\nSolver Status: ',  results.solver.status)\n",
    "    raise Exception(results.solver.status)\n",
    "\n",
    "print('\\nObject function value = ', model.Objective())\n"
   ],
   "id": "f88c7c0611694b3b",
   "outputs": [],
   "execution_count": null
  },
  {
   "metadata": {},
   "cell_type": "code",
   "source": [
    "#from pyomo.opt import SolverStatus, TerminationCondition\n",
    "\n",
    "print(\"Solver Status: \",  results.solver[0][\"System time\"])\n"
   ],
   "id": "8539cc0c87e2357b",
   "outputs": [],
   "execution_count": null
  },
  {
   "metadata": {},
   "cell_type": "code",
   "source": [
    "from decimal import Decimal\n",
    "pd.set_option('display.max_colwidth', 10000000000000000000000000000000000000000000000000000)\n",
    "DF_channels = pd.DataFrame()\n",
    "c = 0\n",
    "for index, value in model.a.extract_values().items():\n",
    "    if value > 0.1:\n",
    "        DF_channels.loc[c, \"source\"] = index[0]\n",
    "        DF_channels.loc[c, \"destination\"] = index[1]\n",
    "        try:\n",
    "            DF_channels.loc[c, \"source-alias\"] = nodes.loc[index[0], \"alias\"]\n",
    "        except KeyError:\n",
    "            print(\"Source alias not found in nodes database: placeholder inserted\")\n",
    "            DF_channels.loc[c, \"source-alias\"] = \"source-alias\"\n",
    "            pass\n",
    "        try:\n",
    "            DF_channels.loc[c, \"destination-alias\"] = nodes.loc[index[1], \"alias\"]\n",
    "        except KeyError:\n",
    "            print(\"Destination alias not found in nodes database: placeholder inserted\")\n",
    "            DF_channels.loc[c, \"destination-alias\"] = \"destination-alias\"\n",
    "            pass\n",
    "        DF_channels.loc[c, \"capacity\"] = Decimal(channels.loc[index, \"capacity\"]/1000000)\n",
    "        DF_channels.loc[c, \"amount\"] = Decimal(value/1000000)\n",
    "        DF_channels.loc[c, \"base_fee\"] = Decimal(channels.loc[(index[0], index[1]), \"base_fee\"]/1000000)\n",
    "        DF_channels.loc[c, \"rate_fee\"] = channels.loc[(index[0], index[1]), \"rate_fee\"]\n",
    "        #DF_channels.loc[c, \"used_fl\"] = channels.loc[]\n",
    "        c += 1\n",
    "\n",
    "DF_channels_pos = DF_channels[DF_channels[\"amount\"]!=0]"
   ],
   "id": "b7051d6dc41ce1a0",
   "outputs": [],
   "execution_count": null
  },
  {
   "metadata": {},
   "cell_type": "code",
   "source": "DF_channels[DF_channels[\"amount\"]> DF_channels[\"capacity\"]]",
   "id": "591cfe14bef33883",
   "outputs": [],
   "execution_count": null
  },
  {
   "metadata": {},
   "cell_type": "code",
   "source": [
    "DF_fixed = pd.DataFrame()\n",
    "c = 0\n",
    "for index, value in model.x.extract_values().items():\n",
    "    if value != 0:\n",
    "        DF_fixed.loc[c, \"source\"] = index[0]\n",
    "        DF_fixed.loc[c, \"destination\"] = index[1]\n",
    "        DF_fixed.loc[c, \"used\"] = Decimal(value)\n",
    "        c += 1\n",
    "\n",
    "DF_fixed_pos = DF_fixed[DF_fixed[\"used\"]!=0]\n",
    "DF_fixed_pos"
   ],
   "id": "4150b1232fe02328",
   "outputs": [],
   "execution_count": null
  },
  {
   "metadata": {},
   "cell_type": "markdown",
   "source": "### All data about channels on path",
   "id": "1dfb4bcd7e78f159"
  },
  {
   "metadata": {},
   "cell_type": "code",
   "source": [
    "intersection = DF_fixed_pos.merge(DF_channels_pos, on=[\"source\", \"destination\"], how=\"outer\")\n",
    "final = intersection[intersection[\"amount\"]>0]\n",
    "final"
   ],
   "id": "ab555f0c48920c85",
   "outputs": [],
   "execution_count": null
  },
  {
   "metadata": {},
   "cell_type": "code",
   "source": [
    "%%capture --no-stdout\n",
    "final[\"amount\"] = final[\"amount\"].astype(float)\n",
    "final[\"rate_fee\"] = final[\"rate_fee\"].astype(float)\n",
    "final[\"base_fee\"] = final[\"base_fee\"].astype(float)\n",
    "total_transaction_cost = sum(final[\"amount\"] * final[\"rate_fee\"] + final[\"base_fee\"])\n",
    "perc_cost = (total_transaction_cost * 100) / transaction_amount\n",
    "print(f\"Transacting {transaction_amount} sats costs {total_transaction_cost} ({perc_cost}% of transaction amount)\")"
   ],
   "id": "5cb9ca4869b126de",
   "outputs": [],
   "execution_count": null
  },
  {
   "metadata": {},
   "cell_type": "code",
   "source": [
    "import networkx as nx\n",
    "import matplotlib.pyplot as plt\n",
    "\n",
    "# edges list construction\n",
    "edges_df = final[[\"source-alias\", \"destination-alias\"]]\n",
    "\n",
    "G = nx.from_pandas_edgelist(edges_df, \"source-alias\", \"destination-alias\", create_using=nx.DiGraph())\n",
    "\n",
    "#plt.figure(figsize=(8, 6))\n",
    "#pos = nx.spring_layout(G)\n",
    "#nx.draw(G, pos, with_labels=True, node_size=2000, node_color='lightblue', font_size=10, font_color='black', font_weight='bold', arrows=True)\n",
    "#plt.title(\"Graph from DataFrame of Edges\")\n",
    "#plt.show()\n",
    "\n",
    "\n",
    "plt.figure(figsize=(8, 6))\n",
    "pos = nx.spring_layout(G)  # positions for all nodes\n",
    "nx.draw(G, pos, with_labels=True, node_size=1000, node_color='lightblue', font_size=10, font_color='black', font_weight='bold', arrows=True)\n",
    "plt.title(\"Graph with Uniform Node Size\")\n",
    "plt.show()"
   ],
   "id": "d7e96330eab65421",
   "outputs": [],
   "execution_count": null
  },
  {
   "metadata": {},
   "cell_type": "code",
   "source": [
    "for i in nx.strongly_connected_components(G):\n",
    "    print(i)"
   ],
   "id": "ba678151d648b088",
   "outputs": [],
   "execution_count": null
  },
  {
   "metadata": {},
   "cell_type": "code",
   "source": [
    "final[\"amount\"] = final[\"amount\"].astype(float)\n",
    "final[\"rate_fee\"] = final[\"rate_fee\"].astype(float)\n",
    "final[\"base_fee\"] = final[\"base_fee\"].astype(float)\n",
    "total_transaction_cost = sum(final[\"amount\"] * final[\"rate_fee\"] + final[\"base_fee\"])\n",
    "perc_cost = (total_transaction_cost * 100) / transaction_amount\n",
    "print(f\"Transacting {transaction_amount} sats costs {total_transaction_cost} ({perc_cost}% of transaction amount)\")\n",
    "print(\"Solver Status: \", results.solver[0][\"System time\"])"
   ],
   "id": "85a5678d800efad8",
   "outputs": [],
   "execution_count": null
  },
  {
   "metadata": {},
   "cell_type": "code",
   "source": [
    "#from collections import Counter\n",
    "#results = [tuple(i) for i in DF_channels_pos[[\"source-alias\", \"destination-alias\"]].to_numpy()]\n",
    "#unwrap = [e for i in results for e in i]\n",
    "#extremes = [j for j in unwrap if Counter(unwrap)[j] == 1]\n",
    "#def return_source(l: list):\n",
    "#    if l[0] in [i for i, j in results]:\n",
    "#        return l[0]\n",
    "#    else: \n",
    "#        return l[1]\n",
    "#sequence = []        \n",
    "#source = return_source(extremes)\n",
    "#sequence.append(source)\n",
    "#while len(sequence) <= len(results):\n",
    "#    for i,j in results:\n",
    "#        if i == sequence[-1]:\n",
    "#            sequence.append(j)\n",
    "#for i in sequence:\n",
    "#    print(\"⬇️\", i)"
   ],
   "id": "6388d7bda8ced731",
   "outputs": [],
   "execution_count": null
  }
 ],
 "metadata": {
  "kernelspec": {
   "display_name": "Python 3",
   "language": "python",
   "name": "python3"
  },
  "language_info": {
   "codemirror_mode": {
    "name": "ipython",
    "version": 2
   },
   "file_extension": ".py",
   "mimetype": "text/x-python",
   "name": "python",
   "nbconvert_exporter": "python",
   "pygments_lexer": "ipython2",
   "version": "2.7.6"
  }
 },
 "nbformat": 4,
 "nbformat_minor": 5
}
