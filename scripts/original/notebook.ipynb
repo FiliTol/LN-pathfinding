{
 "cells": [
  {
   "metadata": {
    "ExecuteTime": {
     "end_time": "2024-07-14T15:47:51.109551Z",
     "start_time": "2024-07-14T15:47:50.262919Z"
    }
   },
   "cell_type": "code",
   "source": [
    "import pandas as pd\n",
    "from scripts.mock.mock_cleaning import create_demand\n",
    "import pyomo.environ as pyo"
   ],
   "id": "initial_id",
   "outputs": [],
   "execution_count": 1
  },
  {
   "metadata": {},
   "cell_type": "markdown",
   "source": "# Data import",
   "id": "a4b2795dc42b8269"
  },
  {
   "metadata": {
    "ExecuteTime": {
     "end_time": "2024-07-14T15:47:51.173126Z",
     "start_time": "2024-07-14T15:47:51.110644Z"
    }
   },
   "cell_type": "code",
   "source": [
    "nodes = pd.read_pickle(\"../../data/original/nodes.pkl\")\n",
    "channels = pd.read_pickle(\"../../data/original/channels.pkl\")"
   ],
   "id": "20748e4222156956",
   "outputs": [],
   "execution_count": 2
  },
  {
   "metadata": {
    "ExecuteTime": {
     "end_time": "2024-07-14T15:47:51.431769Z",
     "start_time": "2024-07-14T15:47:51.174158Z"
    }
   },
   "cell_type": "code",
   "source": [
    "#nodes.to_csv(\"../../data/original/nodes.csv\")\n",
    "#channels.to_csv(\"../../data/original/channels.csv\")"
   ],
   "id": "eb53fe80903c0b72",
   "outputs": [],
   "execution_count": 3
  },
  {
   "metadata": {},
   "cell_type": "markdown",
   "source": "## Modeling",
   "id": "7df6d25eef847cf7"
  },
  {
   "metadata": {},
   "cell_type": "markdown",
   "source": [
    "Change the logic of CHANNELS set construction by considering the pair of nodes as the edge identifier.\n",
    "In this way I also have to deal with:\n",
    "- [X] multiedges, aka multiple edges between two nodes. I can not consider those for simplicity\n",
    "- [X] directed relationship. I need to understand if flipping the channels - as done before - can be reasonable. I also need to determine if the flipped pair of nodes is considered a valid index by pyomo."
   ],
   "id": "7beaae236912d3d9"
  },
  {
   "metadata": {
    "ExecuteTime": {
     "end_time": "2024-07-14T15:47:51.500649Z",
     "start_time": "2024-07-14T15:47:51.432902Z"
    }
   },
   "cell_type": "code",
   "source": [
    "### Note that the following are arbitrary policies, that can be changed as needed.\n",
    "### Deal with multi-edges (aka multiple channels between two peers):\n",
    "### - average rate fee\n",
    "### - average base fee,\n",
    "### - average capacity\n",
    "### - keep one of the two channel ids\n",
    "#aggregation_dict = {\n",
    "#    \"channel_id\": \"first\",\n",
    "#    \"rate_fee\": \"mean\",\n",
    "#    \"base_fee\": \"mean\",\n",
    "#    \"capacity\": \"sum\"\n",
    "#}\n",
    "#channels.reset_index(inplace=True)\n",
    "#channels = channels.groupby([\"node1_pub\", \"node2_pub\"]).agg(aggregation_dict)\n",
    "#channels.reset_index(inplace=True)\n",
    "#channels.set_index(\"channel_id\", inplace=True)"
   ],
   "id": "9971ca8b199551bd",
   "outputs": [],
   "execution_count": 4
  },
  {
   "metadata": {
    "ExecuteTime": {
     "end_time": "2024-07-14T15:47:52.082491Z",
     "start_time": "2024-07-14T15:47:51.503007Z"
    }
   },
   "cell_type": "code",
   "source": [
    "### To delete from [outgoing] and [incoming] lists the multi-edge\n",
    "#for i in nodes.index:\n",
    "#    chan = []\n",
    "#    for l in nodes.loc[i, \"outgoing_channels\"]:\n",
    "#        if l in channels.index:\n",
    "#            chan.append(l)\n",
    "#    nodes.at[i, \"outgoing_channels\"] = chan\n",
    "#\n",
    "#for i in nodes.index:\n",
    "#    chan = []\n",
    "#    for l in nodes.loc[i, \"incoming_channels\"]:\n",
    "#        if l in channels.index:\n",
    "#            chan.append(l)\n",
    "#    nodes.at[i, \"incoming_channels\"] = chan"
   ],
   "id": "ec42416f821aa1df",
   "outputs": [],
   "execution_count": 5
  },
  {
   "metadata": {
    "ExecuteTime": {
     "end_time": "2024-07-14T15:49:52.470480Z",
     "start_time": "2024-07-14T15:47:52.083689Z"
    }
   },
   "cell_type": "code",
   "source": [
    "## Add to the nodes dataset the list of peers (nodes who have a channel with the N node)\n",
    "#channels.reset_index(inplace=True)\n",
    "#channels.set_index([\"node1_pub\", \"node2_pub\"], inplace=True)\n",
    "#nodes[\"peers\"] = None\n",
    "#for n in nodes.index:\n",
    "#    peers = []\n",
    "#    for c in nodes.loc[n, \"outgoing_channels\"]:\n",
    "#        source, destination = channels[channels[\"channel_id\"]==c].index[0]\n",
    "#        #print(f\"For node {n}, the channel {c} is {source} --> {destination}\")\n",
    "#        try:\n",
    "#            assert source == n\n",
    "#            peers.append(destination)\n",
    "#        except AssertionError as e:\n",
    "#            print(f\"{source} is NOT equal to {n} for channel {c}\")\n",
    "#    #print(peers)\n",
    "#    nodes.at[n, \"peers\"] = peers\n",
    "#channels.reset_index(inplace=True)\n",
    "#channels.set_index(\"channel_id\", inplace=True)"
   ],
   "id": "76abb4b23ad7c498",
   "outputs": [],
   "execution_count": 6
  },
  {
   "metadata": {
    "ExecuteTime": {
     "end_time": "2024-07-14T15:49:53.326061Z",
     "start_time": "2024-07-14T15:49:52.471453Z"
    }
   },
   "cell_type": "code",
   "source": [
    "model = pyo.ConcreteModel(name=\"Min cost flow problem\")\n",
    "model.NODES = pyo.Set(initialize=nodes.index)\n",
    "model.CHANNELS = pyo.Set(initialize=[(channels.loc[i, \"node1_pub\"], channels.loc[i, \"node2_pub\"]) for i in channels.index])"
   ],
   "id": "52bc701c57020ae",
   "outputs": [],
   "execution_count": 7
  },
  {
   "metadata": {
    "ExecuteTime": {
     "end_time": "2024-07-14T15:49:53.333250Z",
     "start_time": "2024-07-14T15:49:53.327111Z"
    }
   },
   "cell_type": "code",
   "source": "nodes = create_demand(nodes, 100000)",
   "id": "71f0e54edb55901d",
   "outputs": [
    {
     "name": "stdout",
     "output_type": "stream",
     "text": [
      "Transaction of 100000 sats.\n",
      "Sender: gocharlie-lightning-node-1\n",
      "Receiver: the_holy_cheese_grater.\n"
     ]
    }
   ],
   "execution_count": 8
  },
  {
   "metadata": {
    "ExecuteTime": {
     "end_time": "2024-07-14T15:49:53.480419Z",
     "start_time": "2024-07-14T15:49:53.334864Z"
    }
   },
   "cell_type": "code",
   "source": [
    "model.x = pyo.Var(model.CHANNELS, domain=pyo.Binary)\n",
    "model.a = pyo.Var(model.CHANNELS, domain=pyo.NonNegativeReals, bounds=(0, max(nodes[\"demand\"])))"
   ],
   "id": "db6bf92632e748f7",
   "outputs": [],
   "execution_count": 9
  },
  {
   "metadata": {
    "ExecuteTime": {
     "end_time": "2024-07-14T15:49:53.518883Z",
     "start_time": "2024-07-14T15:49:53.481738Z"
    }
   },
   "cell_type": "code",
   "source": [
    "channels.reset_index(inplace=True)\n",
    "channels.set_index([\"node1_pub\", \"node2_pub\"], inplace=True)\n",
    "channels.sort_index(inplace=True)"
   ],
   "id": "5d69bcd9f4cf6b47",
   "outputs": [],
   "execution_count": 10
  },
  {
   "metadata": {
    "ExecuteTime": {
     "end_time": "2024-07-14T15:49:57.906184Z",
     "start_time": "2024-07-14T15:49:53.520612Z"
    }
   },
   "cell_type": "code",
   "source": [
    "def objective_function(model: pyo.ConcreteModel):\n",
    "    return sum(model.a[i] * channels.loc[i, \"rate_fee\"] for i in model.CHANNELS) + sum(model.x[i] * channels.loc[i, \"base_fee\"] for i in model.CHANNELS)\n",
    "\n",
    "model.totalCost = pyo.Objective(rule=objective_function(model), sense=pyo.minimize)"
   ],
   "id": "f45ec00f2444e9d1",
   "outputs": [],
   "execution_count": 11
  },
  {
   "metadata": {},
   "cell_type": "markdown",
   "source": [
    "### Constraints\n",
    "\n",
    "#### Number of paths rule\n",
    "\n",
    "This constraint enforces the symmetrical splitting into different channels of the amount along the path. Specifically, the number of used incoming channels for a node shall be equal to the number of used outgoing channels.\n",
    "\n",
    "$$\n",
    "\\sum_{(i,n) \\in E} x_{i,n} - \\sum_{(n,j) \\in E} x_{n,j} = 0 \\text{ } \\forall n \\in V\n",
    "$$\n"
   ],
   "id": "861b0daa9b9cba75"
  },
  {
   "metadata": {
    "ExecuteTime": {
     "end_time": "2024-07-14T15:50:47.737811Z",
     "start_time": "2024-07-14T15:49:57.907213Z"
    }
   },
   "cell_type": "code",
   "source": [
    "def number_path_rule(model: pyo.ConcreteModel, n):\n",
    "    outgoing = [model.x[(i, j)] for i, j in channels.index if i == n]\n",
    "    incoming = [model.x[(i, j)] for i, j in channels.index if j == n]\n",
    "    return sum(incoming) == sum(outgoing)\n",
    "\n",
    "model.NumberPathConstraint = pyo.Constraint(model.NODES, rule=number_path_rule, name=\"Number path constraint\")"
   ],
   "id": "18806ec06d1c79b5",
   "outputs": [],
   "execution_count": 12
  },
  {
   "metadata": {},
   "cell_type": "markdown",
   "source": [
    "#### Capacity constraint\n",
    "\n",
    "$$amount_{i,j} \\le capacity_{i,j} \\times x_{i,j} \\text{ } \\forall (i,j) \\in E$$"
   ],
   "id": "e5ea238f92c81afb"
  },
  {
   "metadata": {
    "ExecuteTime": {
     "end_time": "2024-07-14T15:50:50.621263Z",
     "start_time": "2024-07-14T15:50:47.738789Z"
    }
   },
   "cell_type": "code",
   "source": [
    "def capacity_constraint(model: pyo.ConcreteModel, a, b):\n",
    "    return model.a[(a, b)] <=  channels.loc[(a, b), \"capacity\"] * model.x[(a, b)]\n",
    "\n",
    "model.CapacityConstraint = pyo.Constraint(model.CHANNELS, rule=capacity_constraint, name=\"Capacity constraint\")"
   ],
   "id": "7d46c6418b15675a",
   "outputs": [],
   "execution_count": 13
  },
  {
   "metadata": {},
   "cell_type": "markdown",
   "source": [
    "#### Flow balance constraint\n",
    "\n",
    "$$\\sum_{(s,i) \\in E} amount_{si} - \\sum_{(i,t) \\in E} amount_{it} = b_i \\text{ } \\forall i \\in V$$\n"
   ],
   "id": "7adcde34bbdb4878"
  },
  {
   "metadata": {
    "ExecuteTime": {
     "end_time": "2024-07-14T15:50:52.466586Z",
     "start_time": "2024-07-14T15:50:50.623523Z"
    }
   },
   "cell_type": "code",
   "source": [
    "channels.reset_index(inplace=True)\n",
    "channels.set_index(\"channel_id\", inplace=True)\n",
    "\n",
    "def flow_balance_constraint(model: pyo.ConcreteModel, n: str):\n",
    "    InFlow = sum(model.a[(channels.loc[a, \"node1_pub\"], channels.loc[a, \"node2_pub\"])] for a in nodes.loc[n, 'incoming_channels'])\n",
    "    OutFlow = sum(model.a[(channels.loc[a, \"node1_pub\"], channels.loc[a, \"node2_pub\"])] for a in nodes.loc[n, 'outgoing_channels'])\n",
    "    return  OutFlow + nodes.loc[n, \"demand\"] == InFlow\n",
    "\n",
    "model.FlowBalanceConstraint = pyo.Constraint(model.NODES, rule=flow_balance_constraint, name=\"Flow balance constrain\")\n",
    "\n",
    "channels.reset_index(inplace=True)\n",
    "channels.set_index([\"node1_pub\", \"node2_pub\"], inplace=True)\n",
    "channels.sort_index(inplace=True) "
   ],
   "id": "d2b57765c3b53fc5",
   "outputs": [],
   "execution_count": 14
  },
  {
   "metadata": {},
   "cell_type": "markdown",
   "source": "## Solving the model",
   "id": "b8bc8c88087daf77"
  },
  {
   "metadata": {
    "ExecuteTime": {
     "end_time": "2024-07-14T15:51:19.902213Z",
     "start_time": "2024-07-14T15:50:52.467449Z"
    }
   },
   "cell_type": "code",
   "source": [
    "opt = pyo.SolverFactory('cbc')\n",
    "results = opt.solve(model, tee=True)\n",
    "\n",
    "if (results.solver.status == pyo.SolverStatus.ok) and (results.solver.termination_condition == pyo.TerminationCondition.optimal):\n",
    "    print('\\nOptimal solution found')\n",
    "elif results.solver.termination_condition == pyo.TerminationCondition.feasible:\n",
    "    print('\\nFeasible but not proven optimal solution found')\n",
    "elif results.solver.termination_condition == pyo.TerminationCondition.infeasible:\n",
    "    raise Exception(\"The model is infeasible\")\n",
    "else:\n",
    "    print('\\nSolver Status: ',  results.solver.status)\n",
    "    raise Exception(results.solver.status)\n",
    "\n",
    "print('\\nObject function value = ', model.Objective())\n"
   ],
   "id": "f88c7c0611694b3b",
   "outputs": [
    {
     "name": "stdout",
     "output_type": "stream",
     "text": [
      "Welcome to the CBC MILP Solver \n",
      "Version: 2.10.8 \n",
      "Build Date: May  9 2022 \n",
      "\n",
      "command line - /usr/bin/cbc -printingOptions all -import /tmp/tmp8jbulb2q.pyomo.lp -stat=1 -solve -solu /tmp/tmp8jbulb2q.pyomo.soln (default strategy 1)\n",
      "Option for printingOptions changed from normal to all\n",
      "Presolve 51411 (-7319) rows, 89054 (-4942) columns and 257450 (-23778) elements\n",
      "Statistics for presolved model\n",
      "Original problem has 46998 integers (46998 of which binary)\n",
      "Presolved problem has 44527 integers (44527 of which binary)\n",
      "==== 20800 zero objective 3049 different\n",
      "==== absolute objective values 3049 different\n",
      "==== for integers 17284 zero objective 794 different\n",
      "==== for integers absolute objective values 794 different\n",
      "===== end objective counts\n",
      "\n",
      "\n",
      "Problem has 51411 rows, 89054 columns (68254 with objective) and 257450 elements\n",
      "There are 4502 singletons with objective \n",
      "Column breakdown:\n",
      "0 of type 0.0->inf, 44527 of type 0.0->up, 0 of type lo->inf, \n",
      "0 of type lo->up, 0 of type free, 0 of type fixed, \n",
      "0 of type -inf->0.0, 0 of type -inf->up, 44527 of type 0.0->1.0 \n",
      "Row breakdown:\n",
      "6882 of type E 0.0, 0 of type E 1.0, 0 of type E -1.0, \n",
      "2 of type E other, 0 of type G 0.0, 0 of type G 1.0, \n",
      "0 of type G other, 44527 of type L 0.0, 0 of type L 1.0, \n",
      "0 of type L other, 0 of type Range 0.0->1.0, 0 of type Range other, \n",
      "0 of type Free \n",
      "Continuous objective value is 0.914167 - 15.12 seconds\n",
      "Cgl0004I processed model has 49160 rows, 84552 columns (42276 integer (42276 of which binary)) and 252948 elements\n",
      "Cbc0038I Initial state - 0 integers unsatisfied sum - 7.43849e-15\n",
      "Cbc0038I Solution found of 5.6\n",
      "Cbc0038I Relaxing continuous gives 5.6\n",
      "Cbc0038I Before mini branch and bound, 42276 integers at bound fixed and 42276 continuous\n",
      "Cbc0038I Mini branch and bound did not improve solution (16.92 seconds)\n",
      "Cbc0038I After 16.95 seconds - Feasibility pump exiting with objective of 5.6 - took 0.14 seconds\n",
      "Cbc0012I Integer solution of 5.6 found by feasibility pump after 0 iterations and 0 nodes (16.97 seconds)\n",
      "Cbc0001I Search completed - best objective 5.6, took 0 iterations and 0 nodes (17.02 seconds)\n",
      "Cbc0035I Maximum depth 0, 0 variables fixed on reduced cost\n",
      "Cuts at root node changed objective from 5.6 to 5.6\n",
      "Probing was tried 0 times and created 0 cuts of which 0 were active after adding rounds of cuts (0.000 seconds)\n",
      "Gomory was tried 0 times and created 0 cuts of which 0 were active after adding rounds of cuts (0.000 seconds)\n",
      "Knapsack was tried 0 times and created 0 cuts of which 0 were active after adding rounds of cuts (0.000 seconds)\n",
      "Clique was tried 0 times and created 0 cuts of which 0 were active after adding rounds of cuts (0.000 seconds)\n",
      "MixedIntegerRounding2 was tried 0 times and created 0 cuts of which 0 were active after adding rounds of cuts (0.000 seconds)\n",
      "FlowCover was tried 0 times and created 0 cuts of which 0 were active after adding rounds of cuts (0.000 seconds)\n",
      "TwoMirCuts was tried 0 times and created 0 cuts of which 0 were active after adding rounds of cuts (0.000 seconds)\n",
      "ZeroHalf was tried 0 times and created 0 cuts of which 0 were active after adding rounds of cuts (0.000 seconds)\n",
      "\n",
      "Result - Optimal solution found\n",
      "\n",
      "Objective value:                5.60000000\n",
      "Enumerated nodes:               0\n",
      "Total iterations:               0\n",
      "Time (CPU seconds):             24.57\n",
      "Time (Wallclock seconds):       24.76\n",
      "\n",
      "Total time (CPU seconds):       25.14   (Wallclock seconds):       25.35\n",
      "\n",
      "\n",
      "Optimal solution found\n",
      "\n",
      "Object function value =  <pyomo.core.base.block._generic_component_decorator object at 0x7f96b8b22f80>\n"
     ]
    }
   ],
   "execution_count": 15
  },
  {
   "metadata": {
    "ExecuteTime": {
     "end_time": "2024-07-14T16:15:48.809323Z",
     "start_time": "2024-07-14T16:15:48.774438Z"
    }
   },
   "cell_type": "code",
   "source": [
    "from decimal import Decimal\n",
    "DF_channels = pd.DataFrame()\n",
    "c = 0\n",
    "for index, value in model.a.extract_values().items():\n",
    "    if value != 0:\n",
    "        DF_channels.loc[c, \"source\"] = index[0]\n",
    "        DF_channels.loc[c, \"destination\"] = index[1]\n",
    "        DF_channels.loc[c, \"source-alias\"] = nodes.loc[index[0], \"alias\"]\n",
    "        DF_channels.loc[c, \"destination-alias\"] = nodes.loc[index[1], \"alias\"]\n",
    "        DF_channels.loc[c, \"capacity\"] = channels.loc[index, \"capacity\"]\n",
    "        DF_channels.loc[c, \"amount\"] = Decimal(value)\n",
    "        DF_channels.loc[c, \"base_fee\"] = channels.loc[(index[0], index[1]), \"base_fee\"]\n",
    "        DF_channels.loc[c, \"rate_fee\"] = channels.loc[(index[0], index[1]), \"rate_fee\"]\n",
    "        c += 1\n",
    "\n",
    "DF_channels_pos = DF_channels[DF_channels[\"amount\"]!=0]\n",
    "DF_channels_pos"
   ],
   "id": "b7051d6dc41ce1a0",
   "outputs": [
    {
     "data": {
      "text/plain": [
       "                                              source  \\\n",
       "0  02881003525adb05fef7f73eacc8f31903791ced708a4f...   \n",
       "1  029267159e8ed64dc44f1deda34c918f45c7ba2d6b2533...   \n",
       "2  029efe15ef5f0fcc2fdd6b910405e78056b28c9b64e1fe...   \n",
       "3  032d5a4b5a6a344ca15f6284e3e149f4716a1af782ffbb...   \n",
       "4  035e4ff418fc8b5554c5d9eea66396c227bd429a3251c8...   \n",
       "5  0364913d18a19c671bb36dd04d6ad5be0fe8f2894314c3...   \n",
       "6  039174f846626c6053ba80f5443d0db33da384f1dde135...   \n",
       "\n",
       "                                         destination  \\\n",
       "0  035e4ff418fc8b5554c5d9eea66396c227bd429a3251c8...   \n",
       "1  029efe15ef5f0fcc2fdd6b910405e78056b28c9b64e1fe...   \n",
       "2  039174f846626c6053ba80f5443d0db33da384f1dde135...   \n",
       "3  0364913d18a19c671bb36dd04d6ad5be0fe8f2894314c3...   \n",
       "4  029267159e8ed64dc44f1deda34c918f45c7ba2d6b2533...   \n",
       "5  02cca6c5c966fcf61d121e3a70e03a1cd9eeeea024b26e...   \n",
       "6  032d5a4b5a6a344ca15f6284e3e149f4716a1af782ffbb...   \n",
       "\n",
       "                 source-alias        destination-alias    capacity  amount  \\\n",
       "0  gocharlie-lightning-node-1      WalletOfSatoshi.com   5000000.0  100000   \n",
       "1                      Ludwig  adam.masterofpearls.net   5933222.0  100000   \n",
       "2     adam.masterofpearls.net    e960fd8385a1603003727   2000000.0  100000   \n",
       "3                      tka.jp              LQwD-Canada  10000000.0  100000   \n",
       "4         WalletOfSatoshi.com                   Ludwig  10000000.0  100000   \n",
       "5                 LQwD-Canada   the_holy_cheese_grater   2000000.0  100000   \n",
       "6       e960fd8385a1603003727                   tka.jp  10000000.0  100000   \n",
       "\n",
       "   base_fee  rate_fee  \n",
       "0       0.0  0.000010  \n",
       "1       0.0  0.000000  \n",
       "2       0.0  0.000000  \n",
       "3       1.0  0.000001  \n",
       "4       0.0  0.000000  \n",
       "5       1.0  0.000005  \n",
       "6       0.0  0.000000  "
      ],
      "text/html": [
       "<div>\n",
       "<style scoped>\n",
       "    .dataframe tbody tr th:only-of-type {\n",
       "        vertical-align: middle;\n",
       "    }\n",
       "\n",
       "    .dataframe tbody tr th {\n",
       "        vertical-align: top;\n",
       "    }\n",
       "\n",
       "    .dataframe thead th {\n",
       "        text-align: right;\n",
       "    }\n",
       "</style>\n",
       "<table border=\"1\" class=\"dataframe\">\n",
       "  <thead>\n",
       "    <tr style=\"text-align: right;\">\n",
       "      <th></th>\n",
       "      <th>source</th>\n",
       "      <th>destination</th>\n",
       "      <th>source-alias</th>\n",
       "      <th>destination-alias</th>\n",
       "      <th>capacity</th>\n",
       "      <th>amount</th>\n",
       "      <th>base_fee</th>\n",
       "      <th>rate_fee</th>\n",
       "    </tr>\n",
       "  </thead>\n",
       "  <tbody>\n",
       "    <tr>\n",
       "      <th>0</th>\n",
       "      <td>02881003525adb05fef7f73eacc8f31903791ced708a4f...</td>\n",
       "      <td>035e4ff418fc8b5554c5d9eea66396c227bd429a3251c8...</td>\n",
       "      <td>gocharlie-lightning-node-1</td>\n",
       "      <td>WalletOfSatoshi.com</td>\n",
       "      <td>5000000.0</td>\n",
       "      <td>100000</td>\n",
       "      <td>0.0</td>\n",
       "      <td>0.000010</td>\n",
       "    </tr>\n",
       "    <tr>\n",
       "      <th>1</th>\n",
       "      <td>029267159e8ed64dc44f1deda34c918f45c7ba2d6b2533...</td>\n",
       "      <td>029efe15ef5f0fcc2fdd6b910405e78056b28c9b64e1fe...</td>\n",
       "      <td>Ludwig</td>\n",
       "      <td>adam.masterofpearls.net</td>\n",
       "      <td>5933222.0</td>\n",
       "      <td>100000</td>\n",
       "      <td>0.0</td>\n",
       "      <td>0.000000</td>\n",
       "    </tr>\n",
       "    <tr>\n",
       "      <th>2</th>\n",
       "      <td>029efe15ef5f0fcc2fdd6b910405e78056b28c9b64e1fe...</td>\n",
       "      <td>039174f846626c6053ba80f5443d0db33da384f1dde135...</td>\n",
       "      <td>adam.masterofpearls.net</td>\n",
       "      <td>e960fd8385a1603003727</td>\n",
       "      <td>2000000.0</td>\n",
       "      <td>100000</td>\n",
       "      <td>0.0</td>\n",
       "      <td>0.000000</td>\n",
       "    </tr>\n",
       "    <tr>\n",
       "      <th>3</th>\n",
       "      <td>032d5a4b5a6a344ca15f6284e3e149f4716a1af782ffbb...</td>\n",
       "      <td>0364913d18a19c671bb36dd04d6ad5be0fe8f2894314c3...</td>\n",
       "      <td>tka.jp</td>\n",
       "      <td>LQwD-Canada</td>\n",
       "      <td>10000000.0</td>\n",
       "      <td>100000</td>\n",
       "      <td>1.0</td>\n",
       "      <td>0.000001</td>\n",
       "    </tr>\n",
       "    <tr>\n",
       "      <th>4</th>\n",
       "      <td>035e4ff418fc8b5554c5d9eea66396c227bd429a3251c8...</td>\n",
       "      <td>029267159e8ed64dc44f1deda34c918f45c7ba2d6b2533...</td>\n",
       "      <td>WalletOfSatoshi.com</td>\n",
       "      <td>Ludwig</td>\n",
       "      <td>10000000.0</td>\n",
       "      <td>100000</td>\n",
       "      <td>0.0</td>\n",
       "      <td>0.000000</td>\n",
       "    </tr>\n",
       "    <tr>\n",
       "      <th>5</th>\n",
       "      <td>0364913d18a19c671bb36dd04d6ad5be0fe8f2894314c3...</td>\n",
       "      <td>02cca6c5c966fcf61d121e3a70e03a1cd9eeeea024b26e...</td>\n",
       "      <td>LQwD-Canada</td>\n",
       "      <td>the_holy_cheese_grater</td>\n",
       "      <td>2000000.0</td>\n",
       "      <td>100000</td>\n",
       "      <td>1.0</td>\n",
       "      <td>0.000005</td>\n",
       "    </tr>\n",
       "    <tr>\n",
       "      <th>6</th>\n",
       "      <td>039174f846626c6053ba80f5443d0db33da384f1dde135...</td>\n",
       "      <td>032d5a4b5a6a344ca15f6284e3e149f4716a1af782ffbb...</td>\n",
       "      <td>e960fd8385a1603003727</td>\n",
       "      <td>tka.jp</td>\n",
       "      <td>10000000.0</td>\n",
       "      <td>100000</td>\n",
       "      <td>0.0</td>\n",
       "      <td>0.000000</td>\n",
       "    </tr>\n",
       "  </tbody>\n",
       "</table>\n",
       "</div>"
      ]
     },
     "execution_count": 30,
     "metadata": {},
     "output_type": "execute_result"
    }
   ],
   "execution_count": 30
  },
  {
   "metadata": {
    "ExecuteTime": {
     "end_time": "2024-07-14T15:52:55.742488Z",
     "start_time": "2024-07-14T15:52:55.720639Z"
    }
   },
   "cell_type": "code",
   "source": "DF_channels[DF_channels[\"amount\"]> DF_channels[\"capacity\"]]",
   "id": "591cfe14bef33883",
   "outputs": [
    {
     "data": {
      "text/plain": [
       "Empty DataFrame\n",
       "Columns: [source, destination, capacity, amount]\n",
       "Index: []"
      ],
      "text/html": [
       "<div>\n",
       "<style scoped>\n",
       "    .dataframe tbody tr th:only-of-type {\n",
       "        vertical-align: middle;\n",
       "    }\n",
       "\n",
       "    .dataframe tbody tr th {\n",
       "        vertical-align: top;\n",
       "    }\n",
       "\n",
       "    .dataframe thead th {\n",
       "        text-align: right;\n",
       "    }\n",
       "</style>\n",
       "<table border=\"1\" class=\"dataframe\">\n",
       "  <thead>\n",
       "    <tr style=\"text-align: right;\">\n",
       "      <th></th>\n",
       "      <th>source</th>\n",
       "      <th>destination</th>\n",
       "      <th>capacity</th>\n",
       "      <th>amount</th>\n",
       "    </tr>\n",
       "  </thead>\n",
       "  <tbody>\n",
       "  </tbody>\n",
       "</table>\n",
       "</div>"
      ]
     },
     "execution_count": 17,
     "metadata": {},
     "output_type": "execute_result"
    }
   ],
   "execution_count": 17
  },
  {
   "metadata": {
    "ExecuteTime": {
     "end_time": "2024-07-14T16:15:10.885825Z",
     "start_time": "2024-07-14T16:15:10.765815Z"
    }
   },
   "cell_type": "code",
   "source": [
    "DF_fixed = pd.DataFrame()\n",
    "c = 0\n",
    "for index, value in model.x.extract_values().items():\n",
    "    if value != 0:\n",
    "        DF_fixed.loc[c, \"source\"] = index[0]\n",
    "        DF_fixed.loc[c, \"destination\"] = index[1]\n",
    "        DF_fixed.loc[c, \"used\"] = Decimal(value)\n",
    "        c += 1\n",
    "\n",
    "DF_fixed_pos = DF_fixed[DF_fixed[\"used\"]!=0]\n",
    "DF_fixed_pos"
   ],
   "id": "4150b1232fe02328",
   "outputs": [
    {
     "data": {
      "text/plain": [
       "                                                source  \\\n",
       "0    0205198c099c45acedf988445f71da087ca39cd80847e5...   \n",
       "1    02062a64c5d381c77f8ef679133e6207b995d33914c97c...   \n",
       "2    0207fded7f81647771ac646e49e9a029c956e8de911fa6...   \n",
       "3    020b831768ded7615eef25b34639c14b912496137ff521...   \n",
       "4    020fc7e62c9956a34bcdba309a4809ccfd7adcae4b8b64...   \n",
       "..                                                 ...   \n",
       "227  03ecb39d80deaf6a934bac97ba514ef9709560e765c640...   \n",
       "228  03ed75f1ec977b78f26e509cda991f28d30fa6ee6138d9...   \n",
       "229  03fbe1c1baedbc99b2642ae524d9c2a6f12b771a3ab91e...   \n",
       "230  03fc8c900ee8f98e056ca2f2865466fed915dc61757b1a...   \n",
       "231  03fe5c808c601dd884d9f3a10873099ad6075820856e0a...   \n",
       "\n",
       "                                           destination used  \n",
       "0    03d65c1c321cf8417e1565fb654896219b6fae33eeb62d...    1  \n",
       "1    03bbdf5faaa9cb0ef87fca90fe31df13b9ca6203c26455...    1  \n",
       "2    025d28dc4c4f5ce4194c31c3109129cd741fafc1ff2f6e...    1  \n",
       "3    02eb34fafb08611c48cb3f220121e5278f29b1e122f677...    1  \n",
       "4    02fcc5bfc48e83f06c04483a2985e1c390cb0f35058baa...    1  \n",
       "..                                                 ...  ...  \n",
       "227  0379221a4051d4171490e43e4a09e218a02941f06996b7...    1  \n",
       "228  02c2fc4df9c9a3480a9ead094c19fd3a64888e09372827...    1  \n",
       "229  02df315ed19636d66272e2ebbc1f413e460ac5a004810b...    1  \n",
       "230  02830c79a405aebe208ffd005397689e02cd04f0438f77...    1  \n",
       "231  0290fb6ecd5865f7a973e1d48ffbc2612f80f6a2defbd6...    1  \n",
       "\n",
       "[232 rows x 3 columns]"
      ],
      "text/html": [
       "<div>\n",
       "<style scoped>\n",
       "    .dataframe tbody tr th:only-of-type {\n",
       "        vertical-align: middle;\n",
       "    }\n",
       "\n",
       "    .dataframe tbody tr th {\n",
       "        vertical-align: top;\n",
       "    }\n",
       "\n",
       "    .dataframe thead th {\n",
       "        text-align: right;\n",
       "    }\n",
       "</style>\n",
       "<table border=\"1\" class=\"dataframe\">\n",
       "  <thead>\n",
       "    <tr style=\"text-align: right;\">\n",
       "      <th></th>\n",
       "      <th>source</th>\n",
       "      <th>destination</th>\n",
       "      <th>used</th>\n",
       "    </tr>\n",
       "  </thead>\n",
       "  <tbody>\n",
       "    <tr>\n",
       "      <th>0</th>\n",
       "      <td>0205198c099c45acedf988445f71da087ca39cd80847e5...</td>\n",
       "      <td>03d65c1c321cf8417e1565fb654896219b6fae33eeb62d...</td>\n",
       "      <td>1</td>\n",
       "    </tr>\n",
       "    <tr>\n",
       "      <th>1</th>\n",
       "      <td>02062a64c5d381c77f8ef679133e6207b995d33914c97c...</td>\n",
       "      <td>03bbdf5faaa9cb0ef87fca90fe31df13b9ca6203c26455...</td>\n",
       "      <td>1</td>\n",
       "    </tr>\n",
       "    <tr>\n",
       "      <th>2</th>\n",
       "      <td>0207fded7f81647771ac646e49e9a029c956e8de911fa6...</td>\n",
       "      <td>025d28dc4c4f5ce4194c31c3109129cd741fafc1ff2f6e...</td>\n",
       "      <td>1</td>\n",
       "    </tr>\n",
       "    <tr>\n",
       "      <th>3</th>\n",
       "      <td>020b831768ded7615eef25b34639c14b912496137ff521...</td>\n",
       "      <td>02eb34fafb08611c48cb3f220121e5278f29b1e122f677...</td>\n",
       "      <td>1</td>\n",
       "    </tr>\n",
       "    <tr>\n",
       "      <th>4</th>\n",
       "      <td>020fc7e62c9956a34bcdba309a4809ccfd7adcae4b8b64...</td>\n",
       "      <td>02fcc5bfc48e83f06c04483a2985e1c390cb0f35058baa...</td>\n",
       "      <td>1</td>\n",
       "    </tr>\n",
       "    <tr>\n",
       "      <th>...</th>\n",
       "      <td>...</td>\n",
       "      <td>...</td>\n",
       "      <td>...</td>\n",
       "    </tr>\n",
       "    <tr>\n",
       "      <th>227</th>\n",
       "      <td>03ecb39d80deaf6a934bac97ba514ef9709560e765c640...</td>\n",
       "      <td>0379221a4051d4171490e43e4a09e218a02941f06996b7...</td>\n",
       "      <td>1</td>\n",
       "    </tr>\n",
       "    <tr>\n",
       "      <th>228</th>\n",
       "      <td>03ed75f1ec977b78f26e509cda991f28d30fa6ee6138d9...</td>\n",
       "      <td>02c2fc4df9c9a3480a9ead094c19fd3a64888e09372827...</td>\n",
       "      <td>1</td>\n",
       "    </tr>\n",
       "    <tr>\n",
       "      <th>229</th>\n",
       "      <td>03fbe1c1baedbc99b2642ae524d9c2a6f12b771a3ab91e...</td>\n",
       "      <td>02df315ed19636d66272e2ebbc1f413e460ac5a004810b...</td>\n",
       "      <td>1</td>\n",
       "    </tr>\n",
       "    <tr>\n",
       "      <th>230</th>\n",
       "      <td>03fc8c900ee8f98e056ca2f2865466fed915dc61757b1a...</td>\n",
       "      <td>02830c79a405aebe208ffd005397689e02cd04f0438f77...</td>\n",
       "      <td>1</td>\n",
       "    </tr>\n",
       "    <tr>\n",
       "      <th>231</th>\n",
       "      <td>03fe5c808c601dd884d9f3a10873099ad6075820856e0a...</td>\n",
       "      <td>0290fb6ecd5865f7a973e1d48ffbc2612f80f6a2defbd6...</td>\n",
       "      <td>1</td>\n",
       "    </tr>\n",
       "  </tbody>\n",
       "</table>\n",
       "<p>232 rows × 3 columns</p>\n",
       "</div>"
      ]
     },
     "execution_count": 29,
     "metadata": {},
     "output_type": "execute_result"
    }
   ],
   "execution_count": 29
  },
  {
   "metadata": {
    "ExecuteTime": {
     "end_time": "2024-07-14T16:15:52.943696Z",
     "start_time": "2024-07-14T16:15:52.934548Z"
    }
   },
   "cell_type": "code",
   "source": [
    "intersection = DF_fixed_pos.merge(DF_channels_pos, on=[\"source\", \"destination\"], how=\"outer\")\n",
    "intersection"
   ],
   "id": "ab555f0c48920c85",
   "outputs": [
    {
     "data": {
      "text/plain": [
       "                                                source  \\\n",
       "0    0205198c099c45acedf988445f71da087ca39cd80847e5...   \n",
       "1    02062a64c5d381c77f8ef679133e6207b995d33914c97c...   \n",
       "2    0207fded7f81647771ac646e49e9a029c956e8de911fa6...   \n",
       "3    020b831768ded7615eef25b34639c14b912496137ff521...   \n",
       "4    020fc7e62c9956a34bcdba309a4809ccfd7adcae4b8b64...   \n",
       "..                                                 ...   \n",
       "227  03ecb39d80deaf6a934bac97ba514ef9709560e765c640...   \n",
       "228  03ed75f1ec977b78f26e509cda991f28d30fa6ee6138d9...   \n",
       "229  03fbe1c1baedbc99b2642ae524d9c2a6f12b771a3ab91e...   \n",
       "230  03fc8c900ee8f98e056ca2f2865466fed915dc61757b1a...   \n",
       "231  03fe5c808c601dd884d9f3a10873099ad6075820856e0a...   \n",
       "\n",
       "                                           destination used source-alias  \\\n",
       "0    03d65c1c321cf8417e1565fb654896219b6fae33eeb62d...    1          NaN   \n",
       "1    03bbdf5faaa9cb0ef87fca90fe31df13b9ca6203c26455...    1          NaN   \n",
       "2    025d28dc4c4f5ce4194c31c3109129cd741fafc1ff2f6e...    1          NaN   \n",
       "3    02eb34fafb08611c48cb3f220121e5278f29b1e122f677...    1          NaN   \n",
       "4    02fcc5bfc48e83f06c04483a2985e1c390cb0f35058baa...    1          NaN   \n",
       "..                                                 ...  ...          ...   \n",
       "227  0379221a4051d4171490e43e4a09e218a02941f06996b7...    1          NaN   \n",
       "228  02c2fc4df9c9a3480a9ead094c19fd3a64888e09372827...    1          NaN   \n",
       "229  02df315ed19636d66272e2ebbc1f413e460ac5a004810b...    1          NaN   \n",
       "230  02830c79a405aebe208ffd005397689e02cd04f0438f77...    1          NaN   \n",
       "231  0290fb6ecd5865f7a973e1d48ffbc2612f80f6a2defbd6...    1          NaN   \n",
       "\n",
       "    destination-alias  capacity amount  base_fee  rate_fee  \n",
       "0                 NaN       NaN    NaN       NaN       NaN  \n",
       "1                 NaN       NaN    NaN       NaN       NaN  \n",
       "2                 NaN       NaN    NaN       NaN       NaN  \n",
       "3                 NaN       NaN    NaN       NaN       NaN  \n",
       "4                 NaN       NaN    NaN       NaN       NaN  \n",
       "..                ...       ...    ...       ...       ...  \n",
       "227               NaN       NaN    NaN       NaN       NaN  \n",
       "228               NaN       NaN    NaN       NaN       NaN  \n",
       "229               NaN       NaN    NaN       NaN       NaN  \n",
       "230               NaN       NaN    NaN       NaN       NaN  \n",
       "231               NaN       NaN    NaN       NaN       NaN  \n",
       "\n",
       "[232 rows x 9 columns]"
      ],
      "text/html": [
       "<div>\n",
       "<style scoped>\n",
       "    .dataframe tbody tr th:only-of-type {\n",
       "        vertical-align: middle;\n",
       "    }\n",
       "\n",
       "    .dataframe tbody tr th {\n",
       "        vertical-align: top;\n",
       "    }\n",
       "\n",
       "    .dataframe thead th {\n",
       "        text-align: right;\n",
       "    }\n",
       "</style>\n",
       "<table border=\"1\" class=\"dataframe\">\n",
       "  <thead>\n",
       "    <tr style=\"text-align: right;\">\n",
       "      <th></th>\n",
       "      <th>source</th>\n",
       "      <th>destination</th>\n",
       "      <th>used</th>\n",
       "      <th>source-alias</th>\n",
       "      <th>destination-alias</th>\n",
       "      <th>capacity</th>\n",
       "      <th>amount</th>\n",
       "      <th>base_fee</th>\n",
       "      <th>rate_fee</th>\n",
       "    </tr>\n",
       "  </thead>\n",
       "  <tbody>\n",
       "    <tr>\n",
       "      <th>0</th>\n",
       "      <td>0205198c099c45acedf988445f71da087ca39cd80847e5...</td>\n",
       "      <td>03d65c1c321cf8417e1565fb654896219b6fae33eeb62d...</td>\n",
       "      <td>1</td>\n",
       "      <td>NaN</td>\n",
       "      <td>NaN</td>\n",
       "      <td>NaN</td>\n",
       "      <td>NaN</td>\n",
       "      <td>NaN</td>\n",
       "      <td>NaN</td>\n",
       "    </tr>\n",
       "    <tr>\n",
       "      <th>1</th>\n",
       "      <td>02062a64c5d381c77f8ef679133e6207b995d33914c97c...</td>\n",
       "      <td>03bbdf5faaa9cb0ef87fca90fe31df13b9ca6203c26455...</td>\n",
       "      <td>1</td>\n",
       "      <td>NaN</td>\n",
       "      <td>NaN</td>\n",
       "      <td>NaN</td>\n",
       "      <td>NaN</td>\n",
       "      <td>NaN</td>\n",
       "      <td>NaN</td>\n",
       "    </tr>\n",
       "    <tr>\n",
       "      <th>2</th>\n",
       "      <td>0207fded7f81647771ac646e49e9a029c956e8de911fa6...</td>\n",
       "      <td>025d28dc4c4f5ce4194c31c3109129cd741fafc1ff2f6e...</td>\n",
       "      <td>1</td>\n",
       "      <td>NaN</td>\n",
       "      <td>NaN</td>\n",
       "      <td>NaN</td>\n",
       "      <td>NaN</td>\n",
       "      <td>NaN</td>\n",
       "      <td>NaN</td>\n",
       "    </tr>\n",
       "    <tr>\n",
       "      <th>3</th>\n",
       "      <td>020b831768ded7615eef25b34639c14b912496137ff521...</td>\n",
       "      <td>02eb34fafb08611c48cb3f220121e5278f29b1e122f677...</td>\n",
       "      <td>1</td>\n",
       "      <td>NaN</td>\n",
       "      <td>NaN</td>\n",
       "      <td>NaN</td>\n",
       "      <td>NaN</td>\n",
       "      <td>NaN</td>\n",
       "      <td>NaN</td>\n",
       "    </tr>\n",
       "    <tr>\n",
       "      <th>4</th>\n",
       "      <td>020fc7e62c9956a34bcdba309a4809ccfd7adcae4b8b64...</td>\n",
       "      <td>02fcc5bfc48e83f06c04483a2985e1c390cb0f35058baa...</td>\n",
       "      <td>1</td>\n",
       "      <td>NaN</td>\n",
       "      <td>NaN</td>\n",
       "      <td>NaN</td>\n",
       "      <td>NaN</td>\n",
       "      <td>NaN</td>\n",
       "      <td>NaN</td>\n",
       "    </tr>\n",
       "    <tr>\n",
       "      <th>...</th>\n",
       "      <td>...</td>\n",
       "      <td>...</td>\n",
       "      <td>...</td>\n",
       "      <td>...</td>\n",
       "      <td>...</td>\n",
       "      <td>...</td>\n",
       "      <td>...</td>\n",
       "      <td>...</td>\n",
       "      <td>...</td>\n",
       "    </tr>\n",
       "    <tr>\n",
       "      <th>227</th>\n",
       "      <td>03ecb39d80deaf6a934bac97ba514ef9709560e765c640...</td>\n",
       "      <td>0379221a4051d4171490e43e4a09e218a02941f06996b7...</td>\n",
       "      <td>1</td>\n",
       "      <td>NaN</td>\n",
       "      <td>NaN</td>\n",
       "      <td>NaN</td>\n",
       "      <td>NaN</td>\n",
       "      <td>NaN</td>\n",
       "      <td>NaN</td>\n",
       "    </tr>\n",
       "    <tr>\n",
       "      <th>228</th>\n",
       "      <td>03ed75f1ec977b78f26e509cda991f28d30fa6ee6138d9...</td>\n",
       "      <td>02c2fc4df9c9a3480a9ead094c19fd3a64888e09372827...</td>\n",
       "      <td>1</td>\n",
       "      <td>NaN</td>\n",
       "      <td>NaN</td>\n",
       "      <td>NaN</td>\n",
       "      <td>NaN</td>\n",
       "      <td>NaN</td>\n",
       "      <td>NaN</td>\n",
       "    </tr>\n",
       "    <tr>\n",
       "      <th>229</th>\n",
       "      <td>03fbe1c1baedbc99b2642ae524d9c2a6f12b771a3ab91e...</td>\n",
       "      <td>02df315ed19636d66272e2ebbc1f413e460ac5a004810b...</td>\n",
       "      <td>1</td>\n",
       "      <td>NaN</td>\n",
       "      <td>NaN</td>\n",
       "      <td>NaN</td>\n",
       "      <td>NaN</td>\n",
       "      <td>NaN</td>\n",
       "      <td>NaN</td>\n",
       "    </tr>\n",
       "    <tr>\n",
       "      <th>230</th>\n",
       "      <td>03fc8c900ee8f98e056ca2f2865466fed915dc61757b1a...</td>\n",
       "      <td>02830c79a405aebe208ffd005397689e02cd04f0438f77...</td>\n",
       "      <td>1</td>\n",
       "      <td>NaN</td>\n",
       "      <td>NaN</td>\n",
       "      <td>NaN</td>\n",
       "      <td>NaN</td>\n",
       "      <td>NaN</td>\n",
       "      <td>NaN</td>\n",
       "    </tr>\n",
       "    <tr>\n",
       "      <th>231</th>\n",
       "      <td>03fe5c808c601dd884d9f3a10873099ad6075820856e0a...</td>\n",
       "      <td>0290fb6ecd5865f7a973e1d48ffbc2612f80f6a2defbd6...</td>\n",
       "      <td>1</td>\n",
       "      <td>NaN</td>\n",
       "      <td>NaN</td>\n",
       "      <td>NaN</td>\n",
       "      <td>NaN</td>\n",
       "      <td>NaN</td>\n",
       "      <td>NaN</td>\n",
       "    </tr>\n",
       "  </tbody>\n",
       "</table>\n",
       "<p>232 rows × 9 columns</p>\n",
       "</div>"
      ]
     },
     "execution_count": 31,
     "metadata": {},
     "output_type": "execute_result"
    }
   ],
   "execution_count": 31
  }
 ],
 "metadata": {
  "kernelspec": {
   "display_name": "Python 3",
   "language": "python",
   "name": "python3"
  },
  "language_info": {
   "codemirror_mode": {
    "name": "ipython",
    "version": 2
   },
   "file_extension": ".py",
   "mimetype": "text/x-python",
   "name": "python",
   "nbconvert_exporter": "python",
   "pygments_lexer": "ipython2",
   "version": "2.7.6"
  }
 },
 "nbformat": 4,
 "nbformat_minor": 5
}
