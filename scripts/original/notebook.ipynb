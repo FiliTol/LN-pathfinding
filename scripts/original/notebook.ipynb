{
 "cells": [
  {
   "metadata": {
    "ExecuteTime": {
     "end_time": "2024-07-15T09:11:22.330411Z",
     "start_time": "2024-07-15T09:11:21.066036Z"
    }
   },
   "cell_type": "code",
   "source": [
    "import pandas as pd\n",
    "from scripts.mock.mock_cleaning import create_demand\n",
    "import pyomo.environ as pyo"
   ],
   "id": "initial_id",
   "outputs": [],
   "execution_count": 1
  },
  {
   "metadata": {},
   "cell_type": "markdown",
   "source": "# Data import",
   "id": "a4b2795dc42b8269"
  },
  {
   "metadata": {
    "ExecuteTime": {
     "end_time": "2024-07-15T09:11:23.023134Z",
     "start_time": "2024-07-15T09:11:22.893611Z"
    }
   },
   "cell_type": "code",
   "source": [
    "nodes = pd.read_pickle(\"../../data/original/nodes.pkl\")\n",
    "channels = pd.read_pickle(\"../../data/original/channels.pkl\")"
   ],
   "id": "20748e4222156956",
   "outputs": [],
   "execution_count": 2
  },
  {
   "metadata": {},
   "cell_type": "markdown",
   "source": "## Modeling",
   "id": "7df6d25eef847cf7"
  },
  {
   "metadata": {},
   "cell_type": "markdown",
   "source": [
    "Change the logic of CHANNELS set construction by considering the pair of nodes as the edge identifier.\n",
    "In this way I also have to deal with:\n",
    "- [X] multiedges, aka multiple edges between two nodes. I can not consider those for simplicity\n",
    "- [X] directed relationship. I need to understand if flipping the channels - as done before - can be reasonable. I also need to determine if the flipped pair of nodes is considered a valid index by pyomo."
   ],
   "id": "7beaae236912d3d9"
  },
  {
   "metadata": {
    "ExecuteTime": {
     "end_time": "2024-07-15T09:12:42.833674Z",
     "start_time": "2024-07-15T09:12:38.255740Z"
    }
   },
   "cell_type": "code",
   "source": [
    "model = pyo.ConcreteModel(name=\"Min cost flow problem\")\n",
    "model.NODES = pyo.Set(initialize=nodes.index)\n",
    "model.CHANNELS = pyo.Set(initialize=[(channels.loc[i, \"node1_pub\"], channels.loc[i, \"node2_pub\"]) for i in channels.index])"
   ],
   "id": "52bc701c57020ae",
   "outputs": [],
   "execution_count": 7
  },
  {
   "metadata": {
    "ExecuteTime": {
     "end_time": "2024-07-15T09:12:44.478462Z",
     "start_time": "2024-07-15T09:12:44.460307Z"
    }
   },
   "cell_type": "code",
   "source": "nodes = create_demand(nodes, 100000)",
   "id": "71f0e54edb55901d",
   "outputs": [
    {
     "name": "stdout",
     "output_type": "stream",
     "text": [
      "Transaction of 100000 sats.\n",
      "Sender: HighlighterSupermarket\n",
      "Receiver: Odin 17.4 10:00.\n"
     ]
    }
   ],
   "execution_count": 8
  },
  {
   "metadata": {
    "ExecuteTime": {
     "end_time": "2024-07-15T09:13:32.641666Z",
     "start_time": "2024-07-15T09:13:32.013441Z"
    }
   },
   "cell_type": "code",
   "source": [
    "model.x = pyo.Var(model.CHANNELS, domain=pyo.Binary)\n",
    "model.a = pyo.Var(model.CHANNELS, domain=pyo.NonNegativeReals, bounds=(0, max(nodes[\"demand\"])))"
   ],
   "id": "db6bf92632e748f7",
   "outputs": [],
   "execution_count": 9
  },
  {
   "metadata": {
    "ExecuteTime": {
     "end_time": "2024-07-15T09:13:33.526094Z",
     "start_time": "2024-07-15T09:13:33.425145Z"
    }
   },
   "cell_type": "code",
   "source": [
    "channels.reset_index(inplace=True)\n",
    "channels.set_index([\"node1_pub\", \"node2_pub\"], inplace=True)\n",
    "channels.sort_index(inplace=True)"
   ],
   "id": "5d69bcd9f4cf6b47",
   "outputs": [],
   "execution_count": 10
  },
  {
   "metadata": {
    "ExecuteTime": {
     "end_time": "2024-07-15T09:13:54.922226Z",
     "start_time": "2024-07-15T09:13:34.649306Z"
    }
   },
   "cell_type": "code",
   "source": [
    "def objective_function(model: pyo.ConcreteModel):\n",
    "    return sum(model.a[i] * channels.loc[i, \"rate_fee\"] for i in model.CHANNELS) + sum(model.x[i] * channels.loc[i, \"base_fee\"] for i in model.CHANNELS)\n",
    "\n",
    "model.totalCost = pyo.Objective(rule=objective_function(model), sense=pyo.minimize)"
   ],
   "id": "f45ec00f2444e9d1",
   "outputs": [],
   "execution_count": 11
  },
  {
   "metadata": {},
   "cell_type": "markdown",
   "source": [
    "### Constraints\n",
    "\n",
    "#### Number of paths rule\n",
    "\n",
    "This constraint enforces the symmetrical splitting into different channels of the amount along the path. Specifically, the number of used incoming channels for a node shall be equal to the number of used outgoing channels.\n",
    "\n",
    "$$\n",
    "\\sum_{(i,n) \\in E} x_{i,n} - \\sum_{(n,j) \\in E} x_{n,j} = 0 \\text{ } \\forall n \\in V\n",
    "$$\n"
   ],
   "id": "861b0daa9b9cba75"
  },
  {
   "metadata": {
    "ExecuteTime": {
     "end_time": "2024-07-15T09:20:50.331493Z",
     "start_time": "2024-07-15T09:13:56.934772Z"
    }
   },
   "cell_type": "code",
   "source": [
    "def number_path_rule(model: pyo.ConcreteModel, n):\n",
    "    outgoing = [model.x[(i, j)] for i, j in channels.index if i == n]\n",
    "    incoming = [model.x[(i, j)] for i, j in channels.index if j == n]\n",
    "    return sum(incoming) == sum(outgoing)\n",
    "\n",
    "model.NumberPathConstraint = pyo.Constraint(model.NODES, rule=number_path_rule, name=\"Number path constraint\")"
   ],
   "id": "18806ec06d1c79b5",
   "outputs": [],
   "execution_count": 12
  },
  {
   "metadata": {},
   "cell_type": "markdown",
   "source": [
    "#### Capacity constraint\n",
    "\n",
    "$$amount_{i,j} \\le capacity_{i,j} \\times x_{i,j} \\text{ } \\forall (i,j) \\in E$$"
   ],
   "id": "e5ea238f92c81afb"
  },
  {
   "metadata": {
    "ExecuteTime": {
     "end_time": "2024-07-15T09:22:45.013040Z",
     "start_time": "2024-07-15T09:22:30.604316Z"
    }
   },
   "cell_type": "code",
   "source": [
    "def capacity_constraint(model: pyo.ConcreteModel, a, b):\n",
    "    return model.a[(a, b)] <=  channels.loc[(a, b), \"capacity\"] * model.x[(a, b)]\n",
    "\n",
    "model.CapacityConstraint = pyo.Constraint(model.CHANNELS, rule=capacity_constraint, name=\"Capacity constraint\")"
   ],
   "id": "7d46c6418b15675a",
   "outputs": [],
   "execution_count": 13
  },
  {
   "metadata": {},
   "cell_type": "markdown",
   "source": [
    "#### Flow balance constraint\n",
    "\n",
    "$$\\sum_{(s,i) \\in E} amount_{si} - \\sum_{(i,t) \\in E} amount_{it} = b_i \\text{ } \\forall i \\in V$$\n"
   ],
   "id": "7adcde34bbdb4878"
  },
  {
   "metadata": {
    "ExecuteTime": {
     "end_time": "2024-07-15T09:23:00.583159Z",
     "start_time": "2024-07-15T09:22:51.257579Z"
    }
   },
   "cell_type": "code",
   "source": [
    "channels.reset_index(inplace=True)\n",
    "channels.set_index(\"channel_id\", inplace=True)\n",
    "\n",
    "def flow_balance_constraint(model: pyo.ConcreteModel, n: str):\n",
    "    InFlow = sum(model.a[(channels.loc[a, \"node1_pub\"], channels.loc[a, \"node2_pub\"])] for a in nodes.loc[n, 'incoming_channels'])\n",
    "    OutFlow = sum(model.a[(channels.loc[a, \"node1_pub\"], channels.loc[a, \"node2_pub\"])] for a in nodes.loc[n, 'outgoing_channels'])\n",
    "    return  OutFlow + nodes.loc[n, \"demand\"] == InFlow\n",
    "\n",
    "model.FlowBalanceConstraint = pyo.Constraint(model.NODES, rule=flow_balance_constraint, name=\"Flow balance constrain\")\n",
    "\n",
    "channels.reset_index(inplace=True)\n",
    "channels.set_index([\"node1_pub\", \"node2_pub\"], inplace=True)\n",
    "channels.sort_index(inplace=True) "
   ],
   "id": "d2b57765c3b53fc5",
   "outputs": [],
   "execution_count": 14
  },
  {
   "metadata": {},
   "cell_type": "markdown",
   "source": "## Solving the model",
   "id": "b8bc8c88087daf77"
  },
  {
   "metadata": {
    "ExecuteTime": {
     "end_time": "2024-07-15T09:27:03.826917Z",
     "start_time": "2024-07-15T09:23:02.799410Z"
    }
   },
   "cell_type": "code",
   "source": [
    "opt = pyo.SolverFactory('cbc')\n",
    "results = opt.solve(model, tee=True)\n",
    "\n",
    "if (results.solver.status == pyo.SolverStatus.ok) and (results.solver.termination_condition == pyo.TerminationCondition.optimal):\n",
    "    print('\\nOptimal solution found')\n",
    "elif results.solver.termination_condition == pyo.TerminationCondition.feasible:\n",
    "    print('\\nFeasible but not proven optimal solution found')\n",
    "elif results.solver.termination_condition == pyo.TerminationCondition.infeasible:\n",
    "    raise Exception(\"The model is infeasible\")\n",
    "else:\n",
    "    print('\\nSolver Status: ',  results.solver.status)\n",
    "    raise Exception(results.solver.status)\n",
    "\n",
    "print('\\nObject function value = ', model.Objective())\n"
   ],
   "id": "f88c7c0611694b3b",
   "outputs": [
    {
     "name": "stdout",
     "output_type": "stream",
     "text": [
      "Welcome to the CBC MILP Solver \n",
      "Version: 2.10.8 \n",
      "Build Date: May  9 2022 \n",
      "\n",
      "command line - /usr/bin/cbc -printingOptions all -import /tmp/tmpak5ttg0e.pyomo.lp -stat=1 -solve -solu /tmp/tmpak5ttg0e.pyomo.soln (default strategy 1)\n",
      "Option for printingOptions changed from normal to all\n",
      "Presolve 95188 (-18678) rows, 166432 (-13364) columns and 477128 (-61160) elements\n",
      "Statistics for presolved model\n",
      "Original problem has 89898 integers (89898 of which binary)\n",
      "Presolved problem has 83216 integers (83216 of which binary)\n",
      "==== 38072 zero objective 3879 different\n",
      "==== absolute objective values 3879 different\n",
      "==== for integers 31696 zero objective 1018 different\n",
      "==== for integers absolute objective values 1018 different\n",
      "===== end objective counts\n",
      "\n",
      "\n",
      "Problem has 95188 rows, 166432 columns (128360 with objective) and 477128 elements\n",
      "There are 10564 singletons with objective \n",
      "Column breakdown:\n",
      "0 of type 0.0->inf, 83216 of type 0.0->up, 0 of type lo->inf, \n",
      "0 of type lo->up, 0 of type free, 0 of type fixed, \n",
      "0 of type -inf->0.0, 0 of type -inf->up, 83216 of type 0.0->1.0 \n",
      "Row breakdown:\n",
      "11970 of type E 0.0, 0 of type E 1.0, 0 of type E -1.0, \n",
      "2 of type E other, 0 of type G 0.0, 0 of type G 1.0, \n",
      "0 of type G other, 83216 of type L 0.0, 0 of type L 1.0, \n",
      "0 of type L other, 0 of type Range 0.0->1.0, 0 of type Range other, \n",
      "0 of type Free \n",
      "Continuous objective value is 24.6095 - 165.96 seconds\n",
      "Cgl0004I processed model has 89906 rows, 155868 columns (77934 integer (77934 of which binary)) and 466564 elements\n",
      "Cbc0038I Initial state - 0 integers unsatisfied sum - 1.33227e-15\n",
      "Cbc0038I Solution found of 28.201\n",
      "Cbc0038I Relaxing continuous gives 28.201\n",
      "Cbc0038I Before mini branch and bound, 77934 integers at bound fixed and 77934 continuous\n",
      "Cbc0038I Mini branch and bound did not improve solution (180.63 seconds)\n",
      "Cbc0038I Freeing continuous variables gives a solution of 28.201\n",
      "Cbc0038I After 180.73 seconds - Feasibility pump exiting with objective of 28.201 - took 0.63 seconds\n",
      "Cbc0012I Integer solution of 28.201 found by feasibility pump after 0 iterations and 0 nodes (180.81 seconds)\n",
      "Cbc0001I Search completed - best objective 28.201, took 0 iterations and 0 nodes (181.10 seconds)\n",
      "Cbc0035I Maximum depth 0, 0 variables fixed on reduced cost\n",
      "Cuts at root node changed objective from 28.201 to 28.201\n",
      "Probing was tried 0 times and created 0 cuts of which 0 were active after adding rounds of cuts (0.000 seconds)\n",
      "Gomory was tried 0 times and created 0 cuts of which 0 were active after adding rounds of cuts (0.000 seconds)\n",
      "Knapsack was tried 0 times and created 0 cuts of which 0 were active after adding rounds of cuts (0.000 seconds)\n",
      "Clique was tried 0 times and created 0 cuts of which 0 were active after adding rounds of cuts (0.000 seconds)\n",
      "MixedIntegerRounding2 was tried 0 times and created 0 cuts of which 0 were active after adding rounds of cuts (0.000 seconds)\n",
      "FlowCover was tried 0 times and created 0 cuts of which 0 were active after adding rounds of cuts (0.000 seconds)\n",
      "TwoMirCuts was tried 0 times and created 0 cuts of which 0 were active after adding rounds of cuts (0.000 seconds)\n",
      "ZeroHalf was tried 0 times and created 0 cuts of which 0 were active after adding rounds of cuts (0.000 seconds)\n",
      "\n",
      "Result - Optimal solution found\n",
      "\n",
      "Objective value:                28.20100000\n",
      "Enumerated nodes:               0\n",
      "Total iterations:               0\n",
      "Time (CPU seconds):             225.02\n",
      "Time (Wallclock seconds):       226.41\n",
      "\n",
      "Total time (CPU seconds):       228.61   (Wallclock seconds):       230.12\n",
      "\n",
      "\n",
      "Optimal solution found\n",
      "\n",
      "Object function value =  <pyomo.core.base.block._generic_component_decorator object at 0x7f6848b336d0>\n"
     ]
    }
   ],
   "execution_count": 15
  },
  {
   "metadata": {
    "ExecuteTime": {
     "end_time": "2024-07-15T09:27:11.441367Z",
     "start_time": "2024-07-15T09:27:11.293786Z"
    }
   },
   "cell_type": "code",
   "source": [
    "from decimal import Decimal\n",
    "DF_channels = pd.DataFrame()\n",
    "c = 0\n",
    "for index, value in model.a.extract_values().items():\n",
    "    if value != 0:\n",
    "        DF_channels.loc[c, \"source\"] = index[0]\n",
    "        DF_channels.loc[c, \"destination\"] = index[1]\n",
    "        DF_channels.loc[c, \"source-alias\"] = nodes.loc[index[0], \"alias\"]\n",
    "        DF_channels.loc[c, \"destination-alias\"] = nodes.loc[index[1], \"alias\"]\n",
    "        DF_channels.loc[c, \"capacity\"] = channels.loc[index, \"capacity\"]\n",
    "        DF_channels.loc[c, \"amount\"] = Decimal(value)\n",
    "        DF_channels.loc[c, \"base_fee\"] = channels.loc[(index[0], index[1]), \"base_fee\"]\n",
    "        DF_channels.loc[c, \"rate_fee\"] = channels.loc[(index[0], index[1]), \"rate_fee\"]\n",
    "        c += 1\n",
    "\n",
    "DF_channels_pos = DF_channels[DF_channels[\"amount\"]!=0]\n",
    "DF_channels_pos"
   ],
   "id": "b7051d6dc41ce1a0",
   "outputs": [
    {
     "data": {
      "text/plain": [
       "                                              source  \\\n",
       "0  027fc4bbf73eeb128262948c8ad068ec243e569ead212f...   \n",
       "1  02cfdc6b60e5931d174a342b20b50d6a2a17c6e4ef8e07...   \n",
       "2  030751b547f0e59c40086bd6a2b5efbaaccfa850aa5af5...   \n",
       "3  035adfeca8fc95de5e2e9dbf9be39ac577b510e7dad0ad...   \n",
       "4  03a93b87bf9f052b8e862d51ebbac4ce5e97b5f4137563...   \n",
       "\n",
       "                                         destination            source-alias  \\\n",
       "0  02cfdc6b60e5931d174a342b20b50d6a2a17c6e4ef8e07...  HighlighterSupermarket   \n",
       "1  035adfeca8fc95de5e2e9dbf9be39ac577b510e7dad0ad...              Voltage-C2   \n",
       "2  02c551a80ba5758c845fc4d554a234e119082fa36f30d1...               RatPoison   \n",
       "3  03a93b87bf9f052b8e862d51ebbac4ce5e97b5f4137563...              TennisNbtc   \n",
       "4  030751b547f0e59c40086bd6a2b5efbaaccfa850aa5af5...            cyberdyne.sh   \n",
       "\n",
       "  destination-alias    capacity  amount  base_fee  rate_fee  \n",
       "0        Voltage-C2    500000.0  100000     1.000  0.000240  \n",
       "1        TennisNbtc   7100000.0  100000     0.000  0.000000  \n",
       "2   Odin 17.4 10:00   1000000.0  100000     1.000  0.000001  \n",
       "3      cyberdyne.sh  10000000.0  100000     0.100  0.000000  \n",
       "4         RatPoison   4000000.0  100000     0.001  0.000000  "
      ],
      "text/html": [
       "<div>\n",
       "<style scoped>\n",
       "    .dataframe tbody tr th:only-of-type {\n",
       "        vertical-align: middle;\n",
       "    }\n",
       "\n",
       "    .dataframe tbody tr th {\n",
       "        vertical-align: top;\n",
       "    }\n",
       "\n",
       "    .dataframe thead th {\n",
       "        text-align: right;\n",
       "    }\n",
       "</style>\n",
       "<table border=\"1\" class=\"dataframe\">\n",
       "  <thead>\n",
       "    <tr style=\"text-align: right;\">\n",
       "      <th></th>\n",
       "      <th>source</th>\n",
       "      <th>destination</th>\n",
       "      <th>source-alias</th>\n",
       "      <th>destination-alias</th>\n",
       "      <th>capacity</th>\n",
       "      <th>amount</th>\n",
       "      <th>base_fee</th>\n",
       "      <th>rate_fee</th>\n",
       "    </tr>\n",
       "  </thead>\n",
       "  <tbody>\n",
       "    <tr>\n",
       "      <th>0</th>\n",
       "      <td>027fc4bbf73eeb128262948c8ad068ec243e569ead212f...</td>\n",
       "      <td>02cfdc6b60e5931d174a342b20b50d6a2a17c6e4ef8e07...</td>\n",
       "      <td>HighlighterSupermarket</td>\n",
       "      <td>Voltage-C2</td>\n",
       "      <td>500000.0</td>\n",
       "      <td>100000</td>\n",
       "      <td>1.000</td>\n",
       "      <td>0.000240</td>\n",
       "    </tr>\n",
       "    <tr>\n",
       "      <th>1</th>\n",
       "      <td>02cfdc6b60e5931d174a342b20b50d6a2a17c6e4ef8e07...</td>\n",
       "      <td>035adfeca8fc95de5e2e9dbf9be39ac577b510e7dad0ad...</td>\n",
       "      <td>Voltage-C2</td>\n",
       "      <td>TennisNbtc</td>\n",
       "      <td>7100000.0</td>\n",
       "      <td>100000</td>\n",
       "      <td>0.000</td>\n",
       "      <td>0.000000</td>\n",
       "    </tr>\n",
       "    <tr>\n",
       "      <th>2</th>\n",
       "      <td>030751b547f0e59c40086bd6a2b5efbaaccfa850aa5af5...</td>\n",
       "      <td>02c551a80ba5758c845fc4d554a234e119082fa36f30d1...</td>\n",
       "      <td>RatPoison</td>\n",
       "      <td>Odin 17.4 10:00</td>\n",
       "      <td>1000000.0</td>\n",
       "      <td>100000</td>\n",
       "      <td>1.000</td>\n",
       "      <td>0.000001</td>\n",
       "    </tr>\n",
       "    <tr>\n",
       "      <th>3</th>\n",
       "      <td>035adfeca8fc95de5e2e9dbf9be39ac577b510e7dad0ad...</td>\n",
       "      <td>03a93b87bf9f052b8e862d51ebbac4ce5e97b5f4137563...</td>\n",
       "      <td>TennisNbtc</td>\n",
       "      <td>cyberdyne.sh</td>\n",
       "      <td>10000000.0</td>\n",
       "      <td>100000</td>\n",
       "      <td>0.100</td>\n",
       "      <td>0.000000</td>\n",
       "    </tr>\n",
       "    <tr>\n",
       "      <th>4</th>\n",
       "      <td>03a93b87bf9f052b8e862d51ebbac4ce5e97b5f4137563...</td>\n",
       "      <td>030751b547f0e59c40086bd6a2b5efbaaccfa850aa5af5...</td>\n",
       "      <td>cyberdyne.sh</td>\n",
       "      <td>RatPoison</td>\n",
       "      <td>4000000.0</td>\n",
       "      <td>100000</td>\n",
       "      <td>0.001</td>\n",
       "      <td>0.000000</td>\n",
       "    </tr>\n",
       "  </tbody>\n",
       "</table>\n",
       "</div>"
      ]
     },
     "execution_count": 16,
     "metadata": {},
     "output_type": "execute_result"
    }
   ],
   "execution_count": 16
  },
  {
   "metadata": {
    "ExecuteTime": {
     "end_time": "2024-07-15T09:27:37.525071Z",
     "start_time": "2024-07-15T09:27:37.508923Z"
    }
   },
   "cell_type": "code",
   "source": "DF_channels[DF_channels[\"amount\"]> DF_channels[\"capacity\"]]",
   "id": "591cfe14bef33883",
   "outputs": [
    {
     "data": {
      "text/plain": [
       "Empty DataFrame\n",
       "Columns: [source, destination, source-alias, destination-alias, capacity, amount, base_fee, rate_fee]\n",
       "Index: []"
      ],
      "text/html": [
       "<div>\n",
       "<style scoped>\n",
       "    .dataframe tbody tr th:only-of-type {\n",
       "        vertical-align: middle;\n",
       "    }\n",
       "\n",
       "    .dataframe tbody tr th {\n",
       "        vertical-align: top;\n",
       "    }\n",
       "\n",
       "    .dataframe thead th {\n",
       "        text-align: right;\n",
       "    }\n",
       "</style>\n",
       "<table border=\"1\" class=\"dataframe\">\n",
       "  <thead>\n",
       "    <tr style=\"text-align: right;\">\n",
       "      <th></th>\n",
       "      <th>source</th>\n",
       "      <th>destination</th>\n",
       "      <th>source-alias</th>\n",
       "      <th>destination-alias</th>\n",
       "      <th>capacity</th>\n",
       "      <th>amount</th>\n",
       "      <th>base_fee</th>\n",
       "      <th>rate_fee</th>\n",
       "    </tr>\n",
       "  </thead>\n",
       "  <tbody>\n",
       "  </tbody>\n",
       "</table>\n",
       "</div>"
      ]
     },
     "execution_count": 17,
     "metadata": {},
     "output_type": "execute_result"
    }
   ],
   "execution_count": 17
  },
  {
   "metadata": {},
   "cell_type": "code",
   "source": [
    "DF_fixed = pd.DataFrame()\n",
    "c = 0\n",
    "for index, value in model.x.extract_values().items():\n",
    "    if value != 0:\n",
    "        DF_fixed.loc[c, \"source\"] = index[0]\n",
    "        DF_fixed.loc[c, \"destination\"] = index[1]\n",
    "        DF_fixed.loc[c, \"used\"] = Decimal(value)\n",
    "        c += 1\n",
    "\n",
    "DF_fixed_pos = DF_fixed[DF_fixed[\"used\"]!=0]\n",
    "DF_fixed_pos"
   ],
   "id": "4150b1232fe02328",
   "outputs": [],
   "execution_count": null
  },
  {
   "metadata": {},
   "cell_type": "code",
   "source": [
    "intersection = DF_fixed_pos.merge(DF_channels_pos, on=[\"source\", \"destination\"], how=\"outer\")\n",
    "intersection"
   ],
   "id": "ab555f0c48920c85",
   "outputs": [],
   "execution_count": null
  }
 ],
 "metadata": {
  "kernelspec": {
   "display_name": "Python 3",
   "language": "python",
   "name": "python3"
  },
  "language_info": {
   "codemirror_mode": {
    "name": "ipython",
    "version": 2
   },
   "file_extension": ".py",
   "mimetype": "text/x-python",
   "name": "python",
   "nbconvert_exporter": "python",
   "pygments_lexer": "ipython2",
   "version": "2.7.6"
  }
 },
 "nbformat": 4,
 "nbformat_minor": 5
}
