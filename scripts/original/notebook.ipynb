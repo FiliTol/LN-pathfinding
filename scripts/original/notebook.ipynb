{
 "cells": [
  {
   "metadata": {
    "ExecuteTime": {
     "end_time": "2024-07-08T15:28:03.475739Z",
     "start_time": "2024-07-08T15:28:01.580617Z"
    }
   },
   "cell_type": "code",
   "source": [
    "import pandas as pd\n",
    "from scripts.mock.mock_cleaning import create_demand\n",
    "import pyomo.environ as pyo"
   ],
   "id": "initial_id",
   "outputs": [],
   "execution_count": 1
  },
  {
   "metadata": {},
   "cell_type": "markdown",
   "source": "# Data import",
   "id": "a4b2795dc42b8269"
  },
  {
   "metadata": {
    "ExecuteTime": {
     "end_time": "2024-07-08T15:28:03.685582Z",
     "start_time": "2024-07-08T15:28:03.491655Z"
    }
   },
   "cell_type": "code",
   "source": [
    "nodes = pd.read_pickle(\"../data/original/nodes.pkl\")\n",
    "channels = pd.read_pickle(\"../data/original/channels.pkl\")"
   ],
   "id": "20748e4222156956",
   "outputs": [],
   "execution_count": 2
  },
  {
   "metadata": {
    "ExecuteTime": {
     "end_time": "2024-07-08T15:28:04.925009Z",
     "start_time": "2024-07-08T15:28:03.688277Z"
    }
   },
   "cell_type": "code",
   "source": [
    "nodes.to_csv(\"../data/original/nodes.csv\")\n",
    "channels.to_csv(\"../data/original/channels.csv\")"
   ],
   "id": "eb53fe80903c0b72",
   "outputs": [],
   "execution_count": 3
  },
  {
   "metadata": {},
   "cell_type": "markdown",
   "source": "## Modeling",
   "id": "7df6d25eef847cf7"
  },
  {
   "metadata": {},
   "cell_type": "markdown",
   "source": [
    "Change the logic of CHANNELS set construction by considering the pair of nodes as the edge identifier.\n",
    "In this way I also have to deal with:\n",
    "- [X] multiedges, aka multiple edges between two nodes. I can not consider those for simplicity\n",
    "- [X] directed relationship. I need to understand if flipping the channels - as done before - can be reasonable. I also need to determine if the flipped pair of nodes is considered a valid index by pyomo."
   ],
   "id": "7beaae236912d3d9"
  },
  {
   "metadata": {
    "ExecuteTime": {
     "end_time": "2024-07-08T15:28:05.027193Z",
     "start_time": "2024-07-08T15:28:04.929496Z"
    }
   },
   "cell_type": "code",
   "source": [
    "## Note that the following are arbitrary policies, that can be changed as needed.\n",
    "## Deal with multi-edges (aka multiple channels between two peers):\n",
    "## - average rate fee\n",
    "## - average base fee,\n",
    "## - average capacity\n",
    "## - keep one of the two channel ids\n",
    "aggregation_dict = {\n",
    "    \"channel_id\": \"first\",\n",
    "    \"rate_fee\": \"mean\",\n",
    "    \"base_fee\": \"mean\",\n",
    "    \"capacity\": \"sum\"\n",
    "}\n",
    "channels.reset_index(inplace=True)\n",
    "channels = channels.groupby([\"node1_pub\", \"node2_pub\"]).agg(aggregation_dict)\n",
    "channels.reset_index(inplace=True)\n",
    "channels.set_index(\"channel_id\", inplace=True)"
   ],
   "id": "9971ca8b199551bd",
   "outputs": [],
   "execution_count": 4
  },
  {
   "metadata": {
    "ExecuteTime": {
     "end_time": "2024-07-08T15:28:06.922275Z",
     "start_time": "2024-07-08T15:28:05.030138Z"
    }
   },
   "cell_type": "code",
   "source": [
    "## To delete from [outgoing] and [incoming] lists the multi-edge\n",
    "for i in nodes.index:\n",
    "    chan = []\n",
    "    for l in nodes.loc[i, \"outgoing_channels\"]:\n",
    "        if l in channels.index:\n",
    "            chan.append(l)\n",
    "    nodes.at[i, \"outgoing_channels\"] = chan\n",
    "\n",
    "for i in nodes.index:\n",
    "    chan = []\n",
    "    for l in nodes.loc[i, \"incoming_channels\"]:\n",
    "        if l in channels.index:\n",
    "            chan.append(l)\n",
    "    nodes.at[i, \"incoming_channels\"] = chan"
   ],
   "id": "ec42416f821aa1df",
   "outputs": [],
   "execution_count": 5
  },
  {
   "metadata": {
    "ExecuteTime": {
     "end_time": "2024-07-08T15:28:10.310643Z",
     "start_time": "2024-07-08T15:28:06.925260Z"
    }
   },
   "cell_type": "code",
   "source": [
    "model = pyo.ConcreteModel(name=\"Min cost flow problem\")\n",
    "model.NODES = pyo.Set(initialize=nodes.index)\n",
    "model.CHANNELS = pyo.Set(initialize=[(channels.loc[i, \"node1_pub\"], channels.loc[i, \"node2_pub\"]) for i in channels.index])"
   ],
   "id": "52bc701c57020ae",
   "outputs": [],
   "execution_count": 6
  },
  {
   "metadata": {
    "ExecuteTime": {
     "end_time": "2024-07-08T15:28:10.334810Z",
     "start_time": "2024-07-08T15:28:10.314635Z"
    }
   },
   "cell_type": "code",
   "source": "nodes = create_demand(nodes, 1000)",
   "id": "71f0e54edb55901d",
   "outputs": [
    {
     "name": "stdout",
     "output_type": "stream",
     "text": [
      "Transaction of 1000 sats.\n",
      "Sender: gocharlie-lightning-node-1\n",
      "Receiver: the_holy_cheese_grater.\n"
     ]
    }
   ],
   "execution_count": 7
  },
  {
   "metadata": {
    "ExecuteTime": {
     "end_time": "2024-07-08T15:28:10.785146Z",
     "start_time": "2024-07-08T15:28:10.339085Z"
    }
   },
   "cell_type": "code",
   "source": [
    "model.x = pyo.Var(model.CHANNELS, domain=pyo.Binary)\n",
    "model.a = pyo.Var(model.CHANNELS, domain=pyo.NonNegativeReals, bounds=(0, max(nodes[\"demand\"])))"
   ],
   "id": "db6bf92632e748f7",
   "outputs": [],
   "execution_count": 8
  },
  {
   "metadata": {
    "ExecuteTime": {
     "end_time": "2024-07-08T15:28:10.867380Z",
     "start_time": "2024-07-08T15:28:10.790393Z"
    }
   },
   "cell_type": "code",
   "source": [
    "channels.reset_index(inplace=True)\n",
    "channels.set_index([\"node1_pub\", \"node2_pub\"], inplace=True)\n",
    "channels.sort_index(inplace=True)"
   ],
   "id": "5d69bcd9f4cf6b47",
   "outputs": [],
   "execution_count": 9
  },
  {
   "metadata": {
    "ExecuteTime": {
     "end_time": "2024-07-08T15:28:27.104814Z",
     "start_time": "2024-07-08T15:28:10.875662Z"
    }
   },
   "cell_type": "code",
   "source": [
    "def objective_function(model: pyo.ConcreteModel):\n",
    "    return sum(model.a[i] * channels.loc[i, \"rate_fee\"] for i in model.CHANNELS) + sum(model.x[i] * channels.loc[i, \"base_fee\"] for i in model.CHANNELS)\n",
    "\n",
    "model.totalCost = pyo.Objective(rule=objective_function(model), sense=pyo.minimize)"
   ],
   "id": "f45ec00f2444e9d1",
   "outputs": [],
   "execution_count": 10
  },
  {
   "metadata": {},
   "cell_type": "markdown",
   "source": [
    "### Constraints\n",
    "\n",
    "#### Capacity constraint\n",
    "\n",
    "$$amount_{i,j} \\le capacity_{i,j} \\times x_{i,j} \\text{ } \\forall (i,j) \\in E$$\n"
   ],
   "id": "861b0daa9b9cba75"
  },
  {
   "metadata": {
    "ExecuteTime": {
     "end_time": "2024-07-08T15:28:40.070419Z",
     "start_time": "2024-07-08T15:28:27.107558Z"
    }
   },
   "cell_type": "code",
   "source": [
    "def capacity_constraint(model: pyo.ConcreteModel, a, b):\n",
    "    return model.a[(a, b)] <=  channels.loc[(a, b), \"capacity\"] * (1 if channels.loc[(a,b), \"base_fee\"]<1 else model.x[(a, b)])\n",
    "\n",
    "model.CapacityConstraint = pyo.Constraint(model.CHANNELS, rule=capacity_constraint, name=\"Capacity constraint\")"
   ],
   "id": "7d46c6418b15675a",
   "outputs": [],
   "execution_count": 11
  },
  {
   "metadata": {},
   "cell_type": "markdown",
   "source": [
    "#### Flow balance constraint\n",
    "\n",
    "$$\\sum_{(s,i) \\in E} amount_{si} - \\sum_{(i,t) \\in E} amount_{it} = b_i \\text{ } \\forall i \\in V$$\n"
   ],
   "id": "7adcde34bbdb4878"
  },
  {
   "metadata": {
    "ExecuteTime": {
     "end_time": "2024-07-08T15:28:44.531544Z",
     "start_time": "2024-07-08T15:28:40.072820Z"
    }
   },
   "cell_type": "code",
   "source": [
    "channels.reset_index(inplace=True)\n",
    "channels.set_index(\"channel_id\", inplace=True)\n",
    "\n",
    "def flow_balance_constraint(model: pyo.ConcreteModel, n: str):\n",
    "    return sum(model.a[(channels.loc[a, \"node1_pub\"], channels.loc[a, \"node2_pub\"])] for a in nodes.loc[n, 'incoming_channels']) - sum(model.a[(channels.loc[a, \"node1_pub\"], channels.loc[a, \"node2_pub\"])] for a in nodes.loc[n, 'outgoing_channels']) == nodes.loc[n, \"demand\"]\n",
    "\n",
    "model.FlowBalanceConstraint = pyo.Constraint(model.NODES, rule=flow_balance_constraint, name=\"Flow balance constrain\")\n",
    "\n",
    "channels.reset_index(inplace=True)\n",
    "channels.set_index([\"node1_pub\", \"node2_pub\"], inplace=True)\n",
    "channels.sort_index(inplace=True) "
   ],
   "id": "d2b57765c3b53fc5",
   "outputs": [],
   "execution_count": 12
  },
  {
   "metadata": {},
   "cell_type": "markdown",
   "source": "## Solving the model",
   "id": "b8bc8c88087daf77"
  },
  {
   "metadata": {
    "ExecuteTime": {
     "end_time": "2024-07-08T15:28:57.611022Z",
     "start_time": "2024-07-08T15:28:44.534400Z"
    }
   },
   "cell_type": "code",
   "source": [
    "opt = pyo.SolverFactory('cbc')\n",
    "results = opt.solve(model, tee=True)\n",
    "\n",
    "if (results.solver.status == pyo.SolverStatus.ok) and (results.solver.termination_condition == pyo.TerminationCondition.optimal):\n",
    "    print('\\nOptimal solution found')\n",
    "elif results.solver.termination_condition == pyo.TerminationCondition.feasible:\n",
    "    print('\\nFeasible but not proven optimal solution found')\n",
    "elif results.solver.termination_condition == pyo.TerminationCondition.infeasible:\n",
    "    raise Exception(\"The model is infeasible\")\n",
    "else:\n",
    "    print('\\nSolver Status: ',  results.solver.status)\n",
    "    raise Exception(results.solver.status)\n",
    "\n",
    "print('\\nObject function value = ', model.Objective())\n"
   ],
   "id": "f88c7c0611694b3b",
   "outputs": [
    {
     "name": "stdout",
     "output_type": "stream",
     "text": [
      "Welcome to the CBC MILP Solver \n",
      "Version: 2.10.8 \n",
      "Build Date: May  9 2022 \n",
      "\n",
      "command line - /usr/bin/cbc -printingOptions all -import /tmp/tmp3fxz9iki.pyomo.lp -stat=1 -solve -solu /tmp/tmp3fxz9iki.pyomo.soln (default strategy 1)\n",
      "Option for printingOptions changed from normal to all\n",
      "Presolve 27648 (-25216) rows, 68669 (-7243) columns and 132589 (-32237) elements\n",
      "Statistics for presolved model\n",
      "Original problem has 28914 integers (28914 of which binary)\n",
      "Presolved problem has 24206 integers (24206 of which binary)\n",
      "==== 3511 zero objective 2665 different\n",
      "==== absolute objective values 2665 different\n",
      "==== for integers 0 zero objective 389 different\n",
      "==== for integers absolute objective values 389 different\n",
      "===== end objective counts\n",
      "\n",
      "\n",
      "Problem has 27648 rows, 68669 columns (65158 with objective) and 132589 elements\n",
      "There are 25084 singletons with objective \n",
      "Column breakdown:\n",
      "0 of type 0.0->inf, 44463 of type 0.0->up, 0 of type lo->inf, \n",
      "0 of type lo->up, 0 of type free, 0 of type fixed, \n",
      "0 of type -inf->0.0, 0 of type -inf->up, 24206 of type 0.0->1.0 \n",
      "Row breakdown:\n",
      "3435 of type E 0.0, 0 of type E 1.0, 0 of type E -1.0, \n",
      "2 of type E other, 0 of type G 0.0, 0 of type G 1.0, \n",
      "0 of type G other, 24206 of type L 0.0, 0 of type L 1.0, \n",
      "0 of type L other, 0 of type Range 0.0->1.0, 5 of type Range other, \n",
      "0 of type Free \n",
      "Continuous objective value is 0.0076 - 3.48 seconds\n",
      "Cgl0004I processed model has 23988 rows, 62801 columns (20546 integer (20546 of which binary)) and 125269 elements\n",
      "Cbc0038I Initial state - 0 integers unsatisfied sum - 0\n",
      "Cbc0038I Solution found of 1.015\n",
      "Cbc0038I Relaxing continuous gives 1.015\n",
      "Cbc0038I Before mini branch and bound, 20546 integers at bound fixed and 42238 continuous\n",
      "Cbc0038I Mini branch and bound did not improve solution (6.11 seconds)\n",
      "Cbc0038I After 6.13 seconds - Feasibility pump exiting with objective of 1.015 - took 0.14 seconds\n",
      "Cbc0012I Integer solution of 1.015 found by feasibility pump after 0 iterations and 0 nodes (6.18 seconds)\n",
      "Cbc0001I Search completed - best objective 1.015, took 0 iterations and 0 nodes (6.23 seconds)\n",
      "Cbc0035I Maximum depth 0, 0 variables fixed on reduced cost\n",
      "Cuts at root node changed objective from 1.015 to 1.015\n",
      "Probing was tried 0 times and created 0 cuts of which 0 were active after adding rounds of cuts (0.000 seconds)\n",
      "Gomory was tried 0 times and created 0 cuts of which 0 were active after adding rounds of cuts (0.000 seconds)\n",
      "Knapsack was tried 0 times and created 0 cuts of which 0 were active after adding rounds of cuts (0.000 seconds)\n",
      "Clique was tried 0 times and created 0 cuts of which 0 were active after adding rounds of cuts (0.000 seconds)\n",
      "MixedIntegerRounding2 was tried 0 times and created 0 cuts of which 0 were active after adding rounds of cuts (0.000 seconds)\n",
      "FlowCover was tried 0 times and created 0 cuts of which 0 were active after adding rounds of cuts (0.000 seconds)\n",
      "TwoMirCuts was tried 0 times and created 0 cuts of which 0 were active after adding rounds of cuts (0.000 seconds)\n",
      "ZeroHalf was tried 0 times and created 0 cuts of which 0 were active after adding rounds of cuts (0.000 seconds)\n",
      "\n",
      "Result - Optimal solution found\n",
      "\n",
      "Objective value:                1.01500000\n",
      "Enumerated nodes:               0\n",
      "Total iterations:               0\n",
      "Time (CPU seconds):             8.00\n",
      "Time (Wallclock seconds):       8.22\n",
      "\n",
      "Total time (CPU seconds):       8.76   (Wallclock seconds):       9.03\n",
      "\n",
      "\n",
      "Optimal solution found\n",
      "\n",
      "Object function value =  <pyomo.core.base.block._generic_component_decorator object at 0x7f747ad77d00>\n"
     ]
    }
   ],
   "execution_count": 13
  },
  {
   "metadata": {
    "ExecuteTime": {
     "end_time": "2024-07-08T15:32:49.161124Z",
     "start_time": "2024-07-08T15:28:57.613853Z"
    }
   },
   "cell_type": "code",
   "source": [
    "from decimal import Decimal\n",
    "DF = pd.DataFrame()\n",
    "c = 0\n",
    "for index, value in model.a.extract_values().items():\n",
    "    DF.loc[c, \"amount\"] = Decimal(value)\n",
    "    DF.loc[c, \"source\"] = index[0]\n",
    "    DF.loc[c, \"destination\"] = index[1]\n",
    "    c += 1"
   ],
   "id": "b7051d6dc41ce1a0",
   "outputs": [],
   "execution_count": 14
  },
  {
   "metadata": {
    "ExecuteTime": {
     "end_time": "2024-07-08T15:43:00.613032Z",
     "start_time": "2024-07-08T15:43:00.581298Z"
    }
   },
   "cell_type": "code",
   "source": "DF[DF[\"amount\"]>0]",
   "id": "591cfe14bef33883",
   "outputs": [
    {
     "data": {
      "text/plain": [
       "      amount                                             source  \\\n",
       "6482    1000  0255f20d53b9a53c0d22268217894ccb90b11b86f95609...   \n",
       "9189     500  0270a26e0772d0cde73d870cbadf632c5377f83ed02d97...   \n",
       "10780   1000  02881003525adb05fef7f73eacc8f31903791ced708a4f...   \n",
       "10874    500  02896feeb3e4146691f8110a0c39cb785064ce40a4e320...   \n",
       "16868    500  02cfdc6b60e5931d174a342b20b50d6a2a17c6e4ef8e07...   \n",
       "17157    500  02cfdc6b60e5931d174a342b20b50d6a2a17c6e4ef8e07...   \n",
       "30288   1000  035e4ff418fc8b5554c5d9eea66396c227bd429a3251c8...   \n",
       "31428    500  03641a88d80a2a85bbecd770577aca9b5495616e9fef63...   \n",
       "31447    500  03641a88d80a2a85bbecd770577aca9b5495616e9fef63...   \n",
       "31760   1000  0364913d18a19c671bb36dd04d6ad5be0fe8f2894314c3...   \n",
       "32236   1000  0364913d18a19c671bb36dd04d6ad5be0fe8f2894314c3...   \n",
       "39118    500  03a09f56bba3d2c200cc55eda2f1f069564a97c1fb7434...   \n",
       "39173    500  03a09f56bba3d2c200cc55eda2f1f069564a97c1fb7434...   \n",
       "39743   1000  03a93b87bf9f052b8e862d51ebbac4ce5e97b5f4137563...   \n",
       "43938    500  03d607f3e69fd032524a867b288216bfab263b6eaee4e0...   \n",
       "44083    500  03d607f3e69fd032524a867b288216bfab263b6eaee4e0...   \n",
       "45428    500  03e81689bfd18d0accb28d720ed222209b1a5f2c682530...   \n",
       "45514    500  03e86afe389d298f8f53a2f09fcc4d50cdd34e2fbd8f32...   \n",
       "\n",
       "                                             destination  \n",
       "6482   029efe15ef5f0fcc2fdd6b910405e78056b28c9b64e1fe...  \n",
       "9189   03011e480a671ac71dbc3fc3e8fe0db32bb9a10cc4d824...  \n",
       "10780  035e4ff418fc8b5554c5d9eea66396c227bd429a3251c8...  \n",
       "10874  02bd3e6dfab3347a9b058777ea075ded4b77605eece977...  \n",
       "16868  0270a26e0772d0cde73d870cbadf632c5377f83ed02d97...  \n",
       "17157  03a93b87bf9f052b8e862d51ebbac4ce5e97b5f4137563...  \n",
       "30288  0255f20d53b9a53c0d22268217894ccb90b11b86f95609...  \n",
       "31428  03011e480a671ac71dbc3fc3e8fe0db32bb9a10cc4d824...  \n",
       "31447  03a93b87bf9f052b8e862d51ebbac4ce5e97b5f4137563...  \n",
       "31760  02cca6c5c966fcf61d121e3a70e03a1cd9eeeea024b26e...  \n",
       "32236  039174f846626c6053ba80f5443d0db33da384f1dde135...  \n",
       "39118  02896feeb3e4146691f8110a0c39cb785064ce40a4e320...  \n",
       "39173  03e86afe389d298f8f53a2f09fcc4d50cdd34e2fbd8f32...  \n",
       "39743  039174f846626c6053ba80f5443d0db33da384f1dde135...  \n",
       "43938  02bd3e6dfab3347a9b058777ea075ded4b77605eece977...  \n",
       "44083  03e81689bfd18d0accb28d720ed222209b1a5f2c682530...  \n",
       "45428  029efe15ef5f0fcc2fdd6b910405e78056b28c9b64e1fe...  \n",
       "45514  029efe15ef5f0fcc2fdd6b910405e78056b28c9b64e1fe...  "
      ],
      "text/html": [
       "<div>\n",
       "<style scoped>\n",
       "    .dataframe tbody tr th:only-of-type {\n",
       "        vertical-align: middle;\n",
       "    }\n",
       "\n",
       "    .dataframe tbody tr th {\n",
       "        vertical-align: top;\n",
       "    }\n",
       "\n",
       "    .dataframe thead th {\n",
       "        text-align: right;\n",
       "    }\n",
       "</style>\n",
       "<table border=\"1\" class=\"dataframe\">\n",
       "  <thead>\n",
       "    <tr style=\"text-align: right;\">\n",
       "      <th></th>\n",
       "      <th>amount</th>\n",
       "      <th>source</th>\n",
       "      <th>destination</th>\n",
       "    </tr>\n",
       "  </thead>\n",
       "  <tbody>\n",
       "    <tr>\n",
       "      <th>6482</th>\n",
       "      <td>1000</td>\n",
       "      <td>0255f20d53b9a53c0d22268217894ccb90b11b86f95609...</td>\n",
       "      <td>029efe15ef5f0fcc2fdd6b910405e78056b28c9b64e1fe...</td>\n",
       "    </tr>\n",
       "    <tr>\n",
       "      <th>9189</th>\n",
       "      <td>500</td>\n",
       "      <td>0270a26e0772d0cde73d870cbadf632c5377f83ed02d97...</td>\n",
       "      <td>03011e480a671ac71dbc3fc3e8fe0db32bb9a10cc4d824...</td>\n",
       "    </tr>\n",
       "    <tr>\n",
       "      <th>10780</th>\n",
       "      <td>1000</td>\n",
       "      <td>02881003525adb05fef7f73eacc8f31903791ced708a4f...</td>\n",
       "      <td>035e4ff418fc8b5554c5d9eea66396c227bd429a3251c8...</td>\n",
       "    </tr>\n",
       "    <tr>\n",
       "      <th>10874</th>\n",
       "      <td>500</td>\n",
       "      <td>02896feeb3e4146691f8110a0c39cb785064ce40a4e320...</td>\n",
       "      <td>02bd3e6dfab3347a9b058777ea075ded4b77605eece977...</td>\n",
       "    </tr>\n",
       "    <tr>\n",
       "      <th>16868</th>\n",
       "      <td>500</td>\n",
       "      <td>02cfdc6b60e5931d174a342b20b50d6a2a17c6e4ef8e07...</td>\n",
       "      <td>0270a26e0772d0cde73d870cbadf632c5377f83ed02d97...</td>\n",
       "    </tr>\n",
       "    <tr>\n",
       "      <th>17157</th>\n",
       "      <td>500</td>\n",
       "      <td>02cfdc6b60e5931d174a342b20b50d6a2a17c6e4ef8e07...</td>\n",
       "      <td>03a93b87bf9f052b8e862d51ebbac4ce5e97b5f4137563...</td>\n",
       "    </tr>\n",
       "    <tr>\n",
       "      <th>30288</th>\n",
       "      <td>1000</td>\n",
       "      <td>035e4ff418fc8b5554c5d9eea66396c227bd429a3251c8...</td>\n",
       "      <td>0255f20d53b9a53c0d22268217894ccb90b11b86f95609...</td>\n",
       "    </tr>\n",
       "    <tr>\n",
       "      <th>31428</th>\n",
       "      <td>500</td>\n",
       "      <td>03641a88d80a2a85bbecd770577aca9b5495616e9fef63...</td>\n",
       "      <td>03011e480a671ac71dbc3fc3e8fe0db32bb9a10cc4d824...</td>\n",
       "    </tr>\n",
       "    <tr>\n",
       "      <th>31447</th>\n",
       "      <td>500</td>\n",
       "      <td>03641a88d80a2a85bbecd770577aca9b5495616e9fef63...</td>\n",
       "      <td>03a93b87bf9f052b8e862d51ebbac4ce5e97b5f4137563...</td>\n",
       "    </tr>\n",
       "    <tr>\n",
       "      <th>31760</th>\n",
       "      <td>1000</td>\n",
       "      <td>0364913d18a19c671bb36dd04d6ad5be0fe8f2894314c3...</td>\n",
       "      <td>02cca6c5c966fcf61d121e3a70e03a1cd9eeeea024b26e...</td>\n",
       "    </tr>\n",
       "    <tr>\n",
       "      <th>32236</th>\n",
       "      <td>1000</td>\n",
       "      <td>0364913d18a19c671bb36dd04d6ad5be0fe8f2894314c3...</td>\n",
       "      <td>039174f846626c6053ba80f5443d0db33da384f1dde135...</td>\n",
       "    </tr>\n",
       "    <tr>\n",
       "      <th>39118</th>\n",
       "      <td>500</td>\n",
       "      <td>03a09f56bba3d2c200cc55eda2f1f069564a97c1fb7434...</td>\n",
       "      <td>02896feeb3e4146691f8110a0c39cb785064ce40a4e320...</td>\n",
       "    </tr>\n",
       "    <tr>\n",
       "      <th>39173</th>\n",
       "      <td>500</td>\n",
       "      <td>03a09f56bba3d2c200cc55eda2f1f069564a97c1fb7434...</td>\n",
       "      <td>03e86afe389d298f8f53a2f09fcc4d50cdd34e2fbd8f32...</td>\n",
       "    </tr>\n",
       "    <tr>\n",
       "      <th>39743</th>\n",
       "      <td>1000</td>\n",
       "      <td>03a93b87bf9f052b8e862d51ebbac4ce5e97b5f4137563...</td>\n",
       "      <td>039174f846626c6053ba80f5443d0db33da384f1dde135...</td>\n",
       "    </tr>\n",
       "    <tr>\n",
       "      <th>43938</th>\n",
       "      <td>500</td>\n",
       "      <td>03d607f3e69fd032524a867b288216bfab263b6eaee4e0...</td>\n",
       "      <td>02bd3e6dfab3347a9b058777ea075ded4b77605eece977...</td>\n",
       "    </tr>\n",
       "    <tr>\n",
       "      <th>44083</th>\n",
       "      <td>500</td>\n",
       "      <td>03d607f3e69fd032524a867b288216bfab263b6eaee4e0...</td>\n",
       "      <td>03e81689bfd18d0accb28d720ed222209b1a5f2c682530...</td>\n",
       "    </tr>\n",
       "    <tr>\n",
       "      <th>45428</th>\n",
       "      <td>500</td>\n",
       "      <td>03e81689bfd18d0accb28d720ed222209b1a5f2c682530...</td>\n",
       "      <td>029efe15ef5f0fcc2fdd6b910405e78056b28c9b64e1fe...</td>\n",
       "    </tr>\n",
       "    <tr>\n",
       "      <th>45514</th>\n",
       "      <td>500</td>\n",
       "      <td>03e86afe389d298f8f53a2f09fcc4d50cdd34e2fbd8f32...</td>\n",
       "      <td>029efe15ef5f0fcc2fdd6b910405e78056b28c9b64e1fe...</td>\n",
       "    </tr>\n",
       "  </tbody>\n",
       "</table>\n",
       "</div>"
      ]
     },
     "execution_count": 18,
     "metadata": {},
     "output_type": "execute_result"
    }
   ],
   "execution_count": 18
  },
  {
   "metadata": {
    "ExecuteTime": {
     "end_time": "2024-07-08T15:32:49.237579Z",
     "start_time": "2024-07-08T15:32:49.204701Z"
    }
   },
   "cell_type": "code",
   "source": [
    "nodes.reset_index(inplace=True)\n",
    "DF_nodes = nodes[nodes[\"pub_key\"].isin(DF.loc[DF[\"amount\"] > 0, \"source\"].tolist()) & nodes[\"pub_key\"].isin(DF.loc[DF[\"amount\"] > 0, \"source\"].tolist())]\n",
    "nodes.set_index(\"pub_key\", inplace=True)\n"
   ],
   "id": "4150b1232fe02328",
   "outputs": [],
   "execution_count": 16
  },
  {
   "metadata": {
    "ExecuteTime": {
     "end_time": "2024-07-08T15:43:14.800760Z",
     "start_time": "2024-07-08T15:43:14.752569Z"
    }
   },
   "cell_type": "code",
   "source": "DF_nodes",
   "id": "e62a3ace2f4b2d06",
   "outputs": [
    {
     "data": {
      "text/plain": [
       "                                                pub_key  \\\n",
       "953   0255f20d53b9a53c0d22268217894ccb90b11b86f95609...   \n",
       "1215  0270a26e0772d0cde73d870cbadf632c5377f83ed02d97...   \n",
       "1467  02881003525adb05fef7f73eacc8f31903791ced708a4f...   \n",
       "1478  02896feeb3e4146691f8110a0c39cb785064ce40a4e320...   \n",
       "2305  02cfdc6b60e5931d174a342b20b50d6a2a17c6e4ef8e07...   \n",
       "3950  035e4ff418fc8b5554c5d9eea66396c227bd429a3251c8...   \n",
       "4038  03641a88d80a2a85bbecd770577aca9b5495616e9fef63...   \n",
       "4044  0364913d18a19c671bb36dd04d6ad5be0fe8f2894314c3...   \n",
       "4754  03a09f56bba3d2c200cc55eda2f1f069564a97c1fb7434...   \n",
       "4850  03a93b87bf9f052b8e862d51ebbac4ce5e97b5f4137563...   \n",
       "5377  03d607f3e69fd032524a867b288216bfab263b6eaee4e0...   \n",
       "5598  03e81689bfd18d0accb28d720ed222209b1a5f2c682530...   \n",
       "5605  03e86afe389d298f8f53a2f09fcc4d50cdd34e2fbd8f32...   \n",
       "\n",
       "                           alias addresses  \\\n",
       "953                   Wayfinder🦆         1   \n",
       "1215          Veritas Immortalis         3   \n",
       "1467  gocharlie-lightning-node-1         1   \n",
       "1478               Bank of Japan         1   \n",
       "2305                  Voltage-C2         3   \n",
       "3950         WalletOfSatoshi.com         2   \n",
       "4038                    Nodelou🐈         3   \n",
       "4044                 LQwD-Canada         3   \n",
       "4754               Einundzwanzig         3   \n",
       "4850                cyberdyne.sh         3   \n",
       "5377                   Bitrefill         2   \n",
       "5598  Rust-eze (now BoltTrustiC)         3   \n",
       "5605                 BTC Nigeria         3   \n",
       "\n",
       "                                      outgoing_channels  \\\n",
       "953   [892269079203676166, 892269079203676167, 89226...   \n",
       "1215  [880957303602937857, 880957303602937858, 88854...   \n",
       "1467  [913568818378309632, 913595206853197825, 91363...   \n",
       "1478  [921231314997280769, 921639233795653633, 92211...   \n",
       "2305  [877709346199437312, 877908357781782532, 87812...   \n",
       "3950  [770826920361984001, 877632380469575681, 87768...   \n",
       "4038  [878189832724283393, 879275050761977857, 88256...   \n",
       "4044  [886592300790185991, 886592300790185996, 88659...   \n",
       "4754  [883498275136798720, 883719276806995969, 88385...   \n",
       "4850  [878739588584177665, 879336623436333057, 88035...   \n",
       "5377  [877726938508689409, 877755525773852672, 87898...   \n",
       "5598  [878104070856966145, 878724195396419584, 88108...   \n",
       "5605  [878798962202705921, 878853937854021633, 87908...   \n",
       "\n",
       "                                      incoming_channels  demand  \n",
       "953   [INV892269079203676166, INV892269079203676167,...       0  \n",
       "1215  [INV880957303602937857, INV880957303602937858,...       0  \n",
       "1467  [INV913568818378309632, INV913595206853197825,...   -1000  \n",
       "1478  [INV921231314997280769, INV921639233795653633,...       0  \n",
       "2305  [INV877709346199437312, INV877908357781782532,...       0  \n",
       "3950  [INV770826920361984001, INV877632380469575681,...       0  \n",
       "4038  [INV878189832724283393, INV879275050761977857,...       0  \n",
       "4044  [INV886592300790185991, INV886592300790185996,...       0  \n",
       "4754  [INV883498275136798720, INV883719276806995969,...       0  \n",
       "4850  [INV878739588584177665, INV879336623436333057,...       0  \n",
       "5377  [INV877726938508689409, INV877755525773852672,...       0  \n",
       "5598  [INV878104070856966145, INV878724195396419584,...       0  \n",
       "5605  [INV878798962202705921, INV878853937854021633,...       0  "
      ],
      "text/html": [
       "<div>\n",
       "<style scoped>\n",
       "    .dataframe tbody tr th:only-of-type {\n",
       "        vertical-align: middle;\n",
       "    }\n",
       "\n",
       "    .dataframe tbody tr th {\n",
       "        vertical-align: top;\n",
       "    }\n",
       "\n",
       "    .dataframe thead th {\n",
       "        text-align: right;\n",
       "    }\n",
       "</style>\n",
       "<table border=\"1\" class=\"dataframe\">\n",
       "  <thead>\n",
       "    <tr style=\"text-align: right;\">\n",
       "      <th></th>\n",
       "      <th>pub_key</th>\n",
       "      <th>alias</th>\n",
       "      <th>addresses</th>\n",
       "      <th>outgoing_channels</th>\n",
       "      <th>incoming_channels</th>\n",
       "      <th>demand</th>\n",
       "    </tr>\n",
       "  </thead>\n",
       "  <tbody>\n",
       "    <tr>\n",
       "      <th>953</th>\n",
       "      <td>0255f20d53b9a53c0d22268217894ccb90b11b86f95609...</td>\n",
       "      <td>Wayfinder🦆</td>\n",
       "      <td>1</td>\n",
       "      <td>[892269079203676166, 892269079203676167, 89226...</td>\n",
       "      <td>[INV892269079203676166, INV892269079203676167,...</td>\n",
       "      <td>0</td>\n",
       "    </tr>\n",
       "    <tr>\n",
       "      <th>1215</th>\n",
       "      <td>0270a26e0772d0cde73d870cbadf632c5377f83ed02d97...</td>\n",
       "      <td>Veritas Immortalis</td>\n",
       "      <td>3</td>\n",
       "      <td>[880957303602937857, 880957303602937858, 88854...</td>\n",
       "      <td>[INV880957303602937857, INV880957303602937858,...</td>\n",
       "      <td>0</td>\n",
       "    </tr>\n",
       "    <tr>\n",
       "      <th>1467</th>\n",
       "      <td>02881003525adb05fef7f73eacc8f31903791ced708a4f...</td>\n",
       "      <td>gocharlie-lightning-node-1</td>\n",
       "      <td>1</td>\n",
       "      <td>[913568818378309632, 913595206853197825, 91363...</td>\n",
       "      <td>[INV913568818378309632, INV913595206853197825,...</td>\n",
       "      <td>-1000</td>\n",
       "    </tr>\n",
       "    <tr>\n",
       "      <th>1478</th>\n",
       "      <td>02896feeb3e4146691f8110a0c39cb785064ce40a4e320...</td>\n",
       "      <td>Bank of Japan</td>\n",
       "      <td>1</td>\n",
       "      <td>[921231314997280769, 921639233795653633, 92211...</td>\n",
       "      <td>[INV921231314997280769, INV921639233795653633,...</td>\n",
       "      <td>0</td>\n",
       "    </tr>\n",
       "    <tr>\n",
       "      <th>2305</th>\n",
       "      <td>02cfdc6b60e5931d174a342b20b50d6a2a17c6e4ef8e07...</td>\n",
       "      <td>Voltage-C2</td>\n",
       "      <td>3</td>\n",
       "      <td>[877709346199437312, 877908357781782532, 87812...</td>\n",
       "      <td>[INV877709346199437312, INV877908357781782532,...</td>\n",
       "      <td>0</td>\n",
       "    </tr>\n",
       "    <tr>\n",
       "      <th>3950</th>\n",
       "      <td>035e4ff418fc8b5554c5d9eea66396c227bd429a3251c8...</td>\n",
       "      <td>WalletOfSatoshi.com</td>\n",
       "      <td>2</td>\n",
       "      <td>[770826920361984001, 877632380469575681, 87768...</td>\n",
       "      <td>[INV770826920361984001, INV877632380469575681,...</td>\n",
       "      <td>0</td>\n",
       "    </tr>\n",
       "    <tr>\n",
       "      <th>4038</th>\n",
       "      <td>03641a88d80a2a85bbecd770577aca9b5495616e9fef63...</td>\n",
       "      <td>Nodelou🐈</td>\n",
       "      <td>3</td>\n",
       "      <td>[878189832724283393, 879275050761977857, 88256...</td>\n",
       "      <td>[INV878189832724283393, INV879275050761977857,...</td>\n",
       "      <td>0</td>\n",
       "    </tr>\n",
       "    <tr>\n",
       "      <th>4044</th>\n",
       "      <td>0364913d18a19c671bb36dd04d6ad5be0fe8f2894314c3...</td>\n",
       "      <td>LQwD-Canada</td>\n",
       "      <td>3</td>\n",
       "      <td>[886592300790185991, 886592300790185996, 88659...</td>\n",
       "      <td>[INV886592300790185991, INV886592300790185996,...</td>\n",
       "      <td>0</td>\n",
       "    </tr>\n",
       "    <tr>\n",
       "      <th>4754</th>\n",
       "      <td>03a09f56bba3d2c200cc55eda2f1f069564a97c1fb7434...</td>\n",
       "      <td>Einundzwanzig</td>\n",
       "      <td>3</td>\n",
       "      <td>[883498275136798720, 883719276806995969, 88385...</td>\n",
       "      <td>[INV883498275136798720, INV883719276806995969,...</td>\n",
       "      <td>0</td>\n",
       "    </tr>\n",
       "    <tr>\n",
       "      <th>4850</th>\n",
       "      <td>03a93b87bf9f052b8e862d51ebbac4ce5e97b5f4137563...</td>\n",
       "      <td>cyberdyne.sh</td>\n",
       "      <td>3</td>\n",
       "      <td>[878739588584177665, 879336623436333057, 88035...</td>\n",
       "      <td>[INV878739588584177665, INV879336623436333057,...</td>\n",
       "      <td>0</td>\n",
       "    </tr>\n",
       "    <tr>\n",
       "      <th>5377</th>\n",
       "      <td>03d607f3e69fd032524a867b288216bfab263b6eaee4e0...</td>\n",
       "      <td>Bitrefill</td>\n",
       "      <td>2</td>\n",
       "      <td>[877726938508689409, 877755525773852672, 87898...</td>\n",
       "      <td>[INV877726938508689409, INV877755525773852672,...</td>\n",
       "      <td>0</td>\n",
       "    </tr>\n",
       "    <tr>\n",
       "      <th>5598</th>\n",
       "      <td>03e81689bfd18d0accb28d720ed222209b1a5f2c682530...</td>\n",
       "      <td>Rust-eze (now BoltTrustiC)</td>\n",
       "      <td>3</td>\n",
       "      <td>[878104070856966145, 878724195396419584, 88108...</td>\n",
       "      <td>[INV878104070856966145, INV878724195396419584,...</td>\n",
       "      <td>0</td>\n",
       "    </tr>\n",
       "    <tr>\n",
       "      <th>5605</th>\n",
       "      <td>03e86afe389d298f8f53a2f09fcc4d50cdd34e2fbd8f32...</td>\n",
       "      <td>BTC Nigeria</td>\n",
       "      <td>3</td>\n",
       "      <td>[878798962202705921, 878853937854021633, 87908...</td>\n",
       "      <td>[INV878798962202705921, INV878853937854021633,...</td>\n",
       "      <td>0</td>\n",
       "    </tr>\n",
       "  </tbody>\n",
       "</table>\n",
       "</div>"
      ]
     },
     "execution_count": 19,
     "metadata": {},
     "output_type": "execute_result"
    }
   ],
   "execution_count": 19
  }
 ],
 "metadata": {
  "kernelspec": {
   "display_name": "Python 3",
   "language": "python",
   "name": "python3"
  },
  "language_info": {
   "codemirror_mode": {
    "name": "ipython",
    "version": 2
   },
   "file_extension": ".py",
   "mimetype": "text/x-python",
   "name": "python",
   "nbconvert_exporter": "python",
   "pygments_lexer": "ipython2",
   "version": "2.7.6"
  }
 },
 "nbformat": 4,
 "nbformat_minor": 5
}
