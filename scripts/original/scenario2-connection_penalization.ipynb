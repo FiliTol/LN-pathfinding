{
 "cells": [
  {
   "metadata": {
    "ExecuteTime": {
     "end_time": "2025-02-15T15:31:18.176080Z",
     "start_time": "2025-02-15T15:31:17.529603Z"
    }
   },
   "cell_type": "code",
   "source": [
    "import decimal\n",
    "\n",
    "import pandas as pd\n",
    "from cleaning import create_demand\n",
    "import pyomo.environ as pyo\n",
    "import pyomo\n",
    "from pandas import DataFrame\n",
    "import decimal\n",
    "import random"
   ],
   "id": "initial_id",
   "outputs": [],
   "execution_count": 1
  },
  {
   "metadata": {},
   "cell_type": "markdown",
   "source": [
    "Lightning Network nodes can have multiple type of connections to be used.\n",
    "Specifically, every node can be an hidden node - thus leveraging privacy\n",
    "preserving communication protocols like Tor or I2P - or can use a clearnet connection,\n",
    "with a standard IPv4 or IPv6 (or both) address.\n",
    "\n",
    "In order to assign the \"connection type\" feature to each node, the following mapping\n",
    "has been implemented:\n",
    "\n",
    "- 1 if the node uses a privacy preserving protocol, eg it works as an hidden service;\n",
    "- 2 if the node is a clearned with an IPv4 or IPv6 address;\n",
    "- 3 if the node uses both connection typologies (eg both clearnet and onion)\n",
    " \n",
    "Note that the score is independent from the number of addresses of each kind.\n",
    "Thus if a node where to\n",
    "have both an IPv4 and IPv6, the score would be 2 despite the support to two clearnet protocols.\n",
    "\n",
    "The goal of this second scenario is to compute the shortest path with minimum cost between two nodes,\n",
    "considering that privacy preserving nodes are, on average, more prone to higher latency, thus\n",
    "causing payment failures and thus increasing the payment time.\n",
    "\n",
    "In order to reproduce this scenario, we assign a penalization to the usage of channels that have a\n",
    "connection type different from 3, which is the connection type associated with a wider range\n",
    "of communication protocols and thus is likely to be associated with lower latency or less connection issues.\n"
   ],
   "id": "1d506aff74aeaf46"
  },
  {
   "metadata": {},
   "cell_type": "markdown",
   "source": "# Data import",
   "id": "a4b2795dc42b8269"
  },
  {
   "metadata": {
    "ExecuteTime": {
     "end_time": "2025-02-15T15:31:18.277898Z",
     "start_time": "2025-02-15T15:31:18.177863Z"
    }
   },
   "cell_type": "code",
   "source": [
    "nodes = pd.read_pickle(\"../../data/original/nodes.pkl\")\n",
    "channels = pd.read_pickle(\"../../data/original/channels.pkl\")"
   ],
   "id": "20748e4222156956",
   "outputs": [],
   "execution_count": 2
  },
  {
   "metadata": {
    "ExecuteTime": {
     "end_time": "2025-02-15T15:31:18.363131Z",
     "start_time": "2025-02-15T15:31:18.278782Z"
    }
   },
   "cell_type": "code",
   "source": [
    "channels[\"base_fee\"] = channels.loc[:, \"base_fee\"].apply(lambda x: random.uniform(0,10)) # if x==0 else x)\n",
    "channels[\"rate_fee\"] = channels.loc[:, \"rate_fee\"].apply(lambda x: random.uniform(0.001,0.1)) # if x==0 else x)"
   ],
   "id": "ce16fa50a45e9b2f",
   "outputs": [],
   "execution_count": 3
  },
  {
   "metadata": {
    "ExecuteTime": {
     "end_time": "2025-02-15T15:31:18.374989Z",
     "start_time": "2025-02-15T15:31:18.365222Z"
    }
   },
   "cell_type": "code",
   "source": [
    "def drop_not_mapped(df_nodes: DataFrame, df_channels: DataFrame) -> DataFrame:\n",
    "    \"\"\"\n",
    "    Drop channels that have at least one peer not appearing in the nodes dataframe.\n",
    "    :param df_nodes: nodes dataframe\n",
    "    :param df_channels: channels dataframe\n",
    "    :return: filtered channels dataframe containing only the channels\n",
    "    whose peers partecipants both appear in the nodes dataframe\n",
    "    \"\"\"\n",
    "    df_channels = df_channels[\n",
    "        df_channels.loc[:, \"node1_pub\"].isin(df_nodes.index) &\n",
    "        df_channels.loc[:, \"node2_pub\"].isin(df_nodes.index)\n",
    "        ]\n",
    "    return df_channels\n",
    "\n",
    "\n",
    "def drop_missing_addresses(df_nodes: DataFrame) -> DataFrame:\n",
    "    \"\"\"\n",
    "    Drop the nodes that have an unknown address type (which is 0).\n",
    "    :param df_nodes: nodes dataframe\n",
    "    :return: nodes dataframe without the nodes with address ==0\n",
    "    \"\"\"\n",
    "    return df_nodes.loc[df_nodes.loc[:, \"addresses\"] != 0, :]\n",
    "\n",
    "\n",
    "#channels = drop_not_mapped(nodes, channels)\n",
    "nodes = drop_missing_addresses(nodes)"
   ],
   "id": "b29a4e364a766d66",
   "outputs": [],
   "execution_count": 4
  },
  {
   "metadata": {},
   "cell_type": "markdown",
   "source": "## Modeling",
   "id": "7df6d25eef847cf7"
  },
  {
   "metadata": {
    "ExecuteTime": {
     "end_time": "2025-02-15T15:31:18.385277Z",
     "start_time": "2025-02-15T15:31:18.376259Z"
    }
   },
   "cell_type": "code",
   "source": "pyomo.common.timing.report_timing()",
   "id": "4a4e07a12106f0f2",
   "outputs": [
    {
     "data": {
      "text/plain": [
       "<pyomo.common.timing.report_timing at 0x7f81bb0dece0>"
      ]
     },
     "execution_count": 5,
     "metadata": {},
     "output_type": "execute_result"
    }
   ],
   "execution_count": 5
  },
  {
   "metadata": {
    "ExecuteTime": {
     "end_time": "2025-02-15T15:31:18.398041Z",
     "start_time": "2025-02-15T15:31:18.386809Z"
    }
   },
   "cell_type": "code",
   "source": [
    "# Multiplication to set the same base unit for all computations\n",
    "channels[\"capacity\"] = channels[\"capacity\"] * 1000000\n",
    "channels[\"base_fee\"] = channels[\"base_fee\"] * 1000000"
   ],
   "id": "eb5330e8d98289ec",
   "outputs": [],
   "execution_count": 6
  },
  {
   "metadata": {
    "ExecuteTime": {
     "end_time": "2025-02-15T15:31:20.883232Z",
     "start_time": "2025-02-15T15:31:18.399983Z"
    }
   },
   "cell_type": "code",
   "source": [
    "model = pyo.ConcreteModel(name=\"Min cost flow problem\")\n",
    "model.NODES = pyo.Set(initialize=nodes.index)\n",
    "model.CHANNELS = pyo.Set(initialize=[(channels.loc[i, \"node1_pub\"], channels.loc[i, \"node2_pub\"]) for i in channels.index])"
   ],
   "id": "52bc701c57020ae",
   "outputs": [
    {
     "name": "stdout",
     "output_type": "stream",
     "text": [
      "           0 seconds to construct Block ConcreteModel; 1 index total\n",
      "        0.02 seconds to construct Set NODES; 1 index total\n",
      "        0.26 seconds to construct Set CHANNELS; 1 index total\n"
     ]
    }
   ],
   "execution_count": 7
  },
  {
   "metadata": {
    "ExecuteTime": {
     "end_time": "2025-02-15T15:31:20.897664Z",
     "start_time": "2025-02-15T15:31:20.885452Z"
    }
   },
   "cell_type": "code",
   "source": [
    "transaction_amount = 500000\n",
    "nodes = create_demand(nodes, transaction_amount,\n",
    "                      source=\"02b4098c3116124c0c4105295d3d2e65927d46e98e248d84cb6119da57e4ae31e3\",destination=\"0202f00d5f5c91a3c79113851b162c2b75f2cbd9fb2378fb4a4ce92d5ba1e63e08\")"
   ],
   "id": "71f0e54edb55901d",
   "outputs": [
    {
     "name": "stdout",
     "output_type": "stream",
     "text": [
      "Transaction of 500000 sats.\n",
      "Sender: VeniceForever\n",
      "Receiver: ShatSat412.\n"
     ]
    }
   ],
   "execution_count": 8
  },
  {
   "metadata": {
    "ExecuteTime": {
     "end_time": "2025-02-15T15:31:21.182981Z",
     "start_time": "2025-02-15T15:31:20.899436Z"
    }
   },
   "cell_type": "code",
   "source": [
    "model.x = pyo.Var(model.CHANNELS, domain=pyo.Binary)\n",
    "model.a = pyo.Var(model.CHANNELS, domain=pyo.NonNegativeReals, bounds=(0, max(nodes[\"demand\"])))"
   ],
   "id": "db6bf92632e748f7",
   "outputs": [
    {
     "name": "stdout",
     "output_type": "stream",
     "text": [
      "        0.13 seconds to construct Var x; 89898 indices total\n",
      "        0.13 seconds to construct Var a; 89898 indices total\n"
     ]
    }
   ],
   "execution_count": 9
  },
  {
   "metadata": {
    "ExecuteTime": {
     "end_time": "2025-02-15T15:31:21.228640Z",
     "start_time": "2025-02-15T15:31:21.187395Z"
    }
   },
   "cell_type": "code",
   "source": [
    "channels.reset_index(inplace=True)\n",
    "channels.set_index([\"node1_pub\", \"node2_pub\"], inplace=True)\n",
    "channels.sort_index(inplace=True)"
   ],
   "id": "5d69bcd9f4cf6b47",
   "outputs": [],
   "execution_count": 10
  },
  {
   "metadata": {},
   "cell_type": "markdown",
   "source": [
    "### Objective function\n",
    "\n",
    "$$\n",
    "min \\sum_{i \\in E} ^{} amount_i \\times feerate_{i} + x_{i} \\times basefee_{i} + x_{i} \\times \\frac{1}{(min(addresses_{node1_{i}}, addresses_{node2_{i}}))^4}\n",
    "$$"
   ],
   "id": "75fbeb57061b26ae"
  },
  {
   "metadata": {},
   "cell_type": "markdown",
   "source": [
    "Note that here we need to handle also the situation in which a node has only one channel, thus\n",
    "its pubkey appears only as node1_pub (or node2_pub). Thus we need an exception handling when looking\n",
    "for the minimum between the two addresses scores.\n",
    "Note also that we consider the minimum between the two addresses scores because we want to penalize\n",
    "the lower scores. Since we are minimizing the objective function, we assign a 1/min_score as a penalization coefficient"
   ],
   "id": "b04d1477d868c1e8"
  },
  {
   "metadata": {
    "ExecuteTime": {
     "end_time": "2025-02-15T15:31:25.173088Z",
     "start_time": "2025-02-15T15:31:21.230444Z"
    }
   },
   "cell_type": "code",
   "source": [
    "# The following code adds a column to the channels dataframe which contains the min score of addresses for each channel\n",
    "channels.loc[:, \"addresses\"] = 0.0001\n",
    "for i in channels.index:\n",
    "    try:\n",
    "        channels.at[i, \"addresses\"] = min([nodes.loc[i[0], \"addresses\"], nodes.loc[i[1], \"addresses\"]])\n",
    "    except KeyError:\n",
    "        try:\n",
    "            channels.at[i, \"addresses\"] = nodes.loc[i[0], \"addresses\"]\n",
    "        except KeyError:\n",
    "            try:\n",
    "                channels.at[i, \"addresses\"] = nodes.loc[i[1], \"addresses\"]\n",
    "            except:\n",
    "                pass\n"
   ],
   "id": "2f1240e86a5e36e8",
   "outputs": [],
   "execution_count": 11
  },
  {
   "metadata": {
    "ExecuteTime": {
     "end_time": "2025-02-15T15:31:37.154374Z",
     "start_time": "2025-02-15T15:31:25.174422Z"
    }
   },
   "cell_type": "code",
   "source": [
    "def objective_function(model: pyo.ConcreteModel):\n",
    "    return sum(\n",
    "        model.a[i] * channels.loc[i, \"rate_fee\"] +\n",
    "        model.x[i] * channels.loc[i, \"base_fee\"] +\n",
    "        model.x[i] * 1/(channels.loc[i, \"addresses\"])**4\n",
    "        for i in model.CHANNELS)\n",
    "\n",
    "#def objective_function(model: pyo.ConcreteModel):\n",
    "#    \"\"\"\n",
    "#    Note that here we need to handle also the situation in which a node has only one channel, thus\n",
    "#    its pubkey appears only as node1_pub (or node2_pub). Thus we need an exception handling when looking\n",
    "#    for the minimum between the two addresses scores.\n",
    "#    Note also that we consider the minimum between the two addresses scores because we want to penalize\n",
    "#    the lower scores. Since we are minimizing the objective function, we assign a 1/min_score as a penalization coefficient\n",
    "#    \"\"\"\n",
    "#    return sum(\n",
    "#        model.a[i] * channels.loc[i, \"rate_fee\"] +\n",
    "#        model.x[i] * channels.loc[i, \"base_fee\"] +\n",
    "#        model.x[i] * (\n",
    "#            1 / min(\n",
    "#                (nodes.loc[i[0], \"addresses\"], nodes.loc[i[1], \"addresses\"])#,\n",
    "#                #default=float('inf')\n",
    "#            )\n",
    "#            if (\n",
    "#                   i[0] in nodes.index and i[1] in nodes.index and\n",
    "#                   pd.notnull(nodes.loc[i[0], \"addresses\"]) and\n",
    "#                   pd.notnull(nodes.loc[i[1], \"addresses\"])\n",
    "#            )\n",
    "#            else\n",
    "#            (\n",
    "#                nodes.loc[i[0], \"addresses\"] if pd.notnull(nodes.loc[i[0], \"addresses\"]) else (\n",
    "#                    nodes.loc[i[1], \"addresses\"] if pd.notnull\n",
    "#                else 0.0001\n",
    "#                )\n",
    "#            )\n",
    "#        )\n",
    "#        for i in model.CHANNELS\n",
    "#    )\n",
    "\n",
    "\n",
    "model.totalCost = pyo.Objective(rule=objective_function(model), sense=pyo.minimize)"
   ],
   "id": "357b3ec1886f884a",
   "outputs": [
    {
     "name": "stdout",
     "output_type": "stream",
     "text": [
      "           0 seconds to construct Objective totalCost; 1 index total\n"
     ]
    }
   ],
   "execution_count": 12
  },
  {
   "metadata": {},
   "cell_type": "markdown",
   "source": [
    "### Constraints\n",
    "\n",
    "#### Symmetric channel flow rule\n",
    "\n",
    "This constraint enforces the symmetry between the number of channel incoming and outgoing from an intermediary node (excluding source and destination nodes)\n",
    "\n",
    "$$\n",
    "\\sum_{(i,n) \\in E} x_{i,n} = \\sum_{(n,j) \\in E} x_{n,j} \\text{ } \\forall n \\in V \\bigwedge i \\ne \\{n, s, d\\}\n",
    "$$\n",
    "\n",
    "where $s$ is the source node, with a negative demand and $d$ is the destination node, with positive demand."
   ],
   "id": "861b0daa9b9cba75"
  },
  {
   "metadata": {
    "ExecuteTime": {
     "end_time": "2025-02-15T15:31:37.663775Z",
     "start_time": "2025-02-15T15:31:37.155453Z"
    }
   },
   "cell_type": "code",
   "source": [
    "s = nodes[nodes[\"demand\"] < 0].index.values\n",
    "d = nodes[nodes[\"demand\"] > 0].index.values\n",
    "intermediaries = [(i, j) for i, j in channels.index if i != s and j != d]"
   ],
   "id": "fb28e372cf7ca6b5",
   "outputs": [],
   "execution_count": 13
  },
  {
   "metadata": {
    "ExecuteTime": {
     "end_time": "2025-02-15T15:32:26.933786Z",
     "start_time": "2025-02-15T15:31:37.664765Z"
    }
   },
   "cell_type": "code",
   "source": [
    "def number_channels_rule(model: pyo.ConcreteModel, n):\n",
    "    incoming = [model.x[(i, j)] for i, j in intermediaries if j == n]\n",
    "    outgoing = [model.x[(i, j)] for i, j in intermediaries if i == n]\n",
    "    return sum(incoming) == sum(outgoing)\n",
    "\n",
    "model.NumberChannelsConstraint = pyo.Constraint(model.NODES, rule=number_channels_rule, name=\"Number channels constraint\")"
   ],
   "id": "f030e01165abfbbd",
   "outputs": [
    {
     "name": "stdout",
     "output_type": "stream",
     "text": [
      "       49.26 seconds to construct Constraint NumberChannelsConstraint; 11312 indices total\n"
     ]
    }
   ],
   "execution_count": 14
  },
  {
   "metadata": {},
   "cell_type": "markdown",
   "source": [
    "#### Capacity constraint\n",
    "\n",
    "$$amount_{i,j} \\le capacity_{i,j} \\times x_{i,j} \\text{ } \\forall (i,j) \\in E$$"
   ],
   "id": "e5ea238f92c81afb"
  },
  {
   "metadata": {
    "ExecuteTime": {
     "end_time": "2025-02-15T15:32:32.325618Z",
     "start_time": "2025-02-15T15:32:26.934930Z"
    }
   },
   "cell_type": "code",
   "source": [
    "def capacity_constraint(model: pyo.ConcreteModel, a, b):\n",
    "    return model.a[(a, b)] <= channels.loc[(a, b), \"capacity\"] * model.x[(a, b)]\n",
    "\n",
    "model.CapacityConstraint = pyo.Constraint(model.CHANNELS, rule=capacity_constraint, name=\"Capacity constraint\")"
   ],
   "id": "7d46c6418b15675a",
   "outputs": [
    {
     "name": "stdout",
     "output_type": "stream",
     "text": [
      "        5.39 seconds to construct Constraint CapacityConstraint; 89898 indices total\n"
     ]
    }
   ],
   "execution_count": 15
  },
  {
   "metadata": {},
   "cell_type": "markdown",
   "source": [
    "#### Flow balance constraint\n",
    "\n",
    "$$\\sum_{(s,i) \\in E} amount_{s,i} - \\sum_{(i,t) \\in E} amount_{i,d} = b_i \\text{ } \\forall i \\in V$$\n",
    "\n",
    "where $s$ is the source node, $d$ is the destination node, $i$ is every intermediary node\n"
   ],
   "id": "7adcde34bbdb4878"
  },
  {
   "metadata": {
    "ExecuteTime": {
     "end_time": "2025-02-15T15:32:35.676612Z",
     "start_time": "2025-02-15T15:32:32.326742Z"
    }
   },
   "cell_type": "code",
   "source": [
    "channels.reset_index(inplace=True)\n",
    "channels.set_index(\"channel_id\", inplace=True)\n",
    "\n",
    "def flow_balance_constraint(model: pyo.ConcreteModel, n: str):\n",
    "    InFlow = sum(model.a[(channels.loc[a, \"node1_pub\"], channels.loc[a, \"node2_pub\"])] for a in nodes.loc[n, 'incoming_channels'])\n",
    "    OutFlow = sum(model.a[(channels.loc[a, \"node1_pub\"], channels.loc[a, \"node2_pub\"])] for a in nodes.loc[n, 'outgoing_channels'])\n",
    "    return  OutFlow + nodes.loc[n, \"demand\"] == InFlow\n",
    "\n",
    "model.FlowBalanceConstraint = pyo.Constraint(model.NODES, rule=flow_balance_constraint, name=\"Flow balance constrain\")\n",
    "\n",
    "channels.reset_index(inplace=True)\n",
    "channels.set_index([\"node1_pub\", \"node2_pub\"], inplace=True)\n",
    "channels.sort_index(inplace=True) "
   ],
   "id": "d2b57765c3b53fc5",
   "outputs": [
    {
     "name": "stdout",
     "output_type": "stream",
     "text": [
      "        3.30 seconds to construct Constraint FlowBalanceConstraint; 11312 indices total\n"
     ]
    }
   ],
   "execution_count": 16
  },
  {
   "metadata": {},
   "cell_type": "markdown",
   "source": [
    "#### Avoid Onion Nodes constraint\n",
    "\n",
    "$$\n",
    "\n",
    "$$"
   ],
   "id": "8b8da35ad19ecfe7"
  },
  {
   "metadata": {},
   "cell_type": "markdown",
   "source": "## Solving the model",
   "id": "b8bc8c88087daf77"
  },
  {
   "metadata": {
    "ExecuteTime": {
     "end_time": "2025-02-15T15:32:35.681317Z",
     "start_time": "2025-02-15T15:32:35.678238Z"
    }
   },
   "cell_type": "code",
   "source": [
    "from pyomo.common.tempfiles import TempfileManager\n",
    "#TempfileManager.tempdir = \"/home/filippo/repositories/LN-pathfinding\""
   ],
   "id": "b7c634463823c9aa",
   "outputs": [],
   "execution_count": 17
  },
  {
   "metadata": {
    "ExecuteTime": {
     "end_time": "2025-02-15T15:36:54.796369Z",
     "start_time": "2025-02-15T15:32:35.682634Z"
    }
   },
   "cell_type": "code",
   "source": [
    "opt = pyo.SolverFactory('cbc')\n",
    "#opt = pyo.SolverFactory('/opt/ibm/ILOG/CPLEX_Studio_Community2212/cplex/bin/x86-64_linux/cplex')\n",
    "results = opt.solve(model, tee=True, keepfiles=True)\n",
    "\n",
    "if (results.solver.status == pyo.SolverStatus.ok) and (results.solver.termination_condition == pyo.TerminationCondition.optimal):\n",
    "    print('\\nOptimal solution found')\n",
    "elif results.solver.termination_condition == pyo.TerminationCondition.feasible:\n",
    "    print('\\nFeasible but not proven optimal solution found')\n",
    "elif results.solver.termination_condition == pyo.TerminationCondition.infeasible:\n",
    "    raise Exception(\"The model is infeasible\")\n",
    "else:\n",
    "    print('\\nSolver Status: ',  results.solver.status)\n",
    "    raise Exception(results.solver.status)\n",
    "\n",
    "print('\\nObject function value = ', model.Objective())\n"
   ],
   "id": "f88c7c0611694b3b",
   "outputs": [
    {
     "name": "stdout",
     "output_type": "stream",
     "text": [
      "           0 seconds to construct Var ONE_VAR_CONSTANT; 1 index total\n",
      "      [    2.48] Generated LP representation\n",
      "Solver log file: '/tmp/tmpqah5jb95.cbc.log'\n",
      "Solver solution file: '/tmp/tmpqkkq5mp_.pyomo.soln'\n",
      "Solver problem files: ('/tmp/tmpqkkq5mp_.pyomo.lp',)\n",
      "Welcome to the CBC MILP Solver \n",
      "Version: 2.10.8 \n",
      "Build Date: May  9 2022 \n",
      "\n",
      "command line - /usr/bin/cbc -printingOptions all -import /tmp/tmpqkkq5mp_.pyomo.lp -stat=1 -solve -solu /tmp/tmpqkkq5mp_.pyomo.soln (default strategy 1)\n",
      "Option for printingOptions changed from normal to all\n",
      "Presolve 96121 (-16401) rows, 168842 (-10954) columns and 479238 (-54594) elements\n",
      "Statistics for presolved model\n",
      "Original problem has 89898 integers (89898 of which binary)\n",
      "Presolved problem has 84421 integers (84421 of which binary)\n",
      "==== 0 zero objective 168842 different\n",
      "==== absolute objective values 168842 different\n",
      "==== for integers 0 zero objective 84421 different\n",
      "==== for integers absolute objective values 84421 different\n",
      "===== end objective counts\n",
      "\n",
      "\n",
      "Problem has 96121 rows, 168842 columns (168842 with objective) and 479238 elements\n",
      "There are 10964 singletons with objective \n",
      "Column breakdown:\n",
      "0 of type 0.0->inf, 84421 of type 0.0->up, 0 of type lo->inf, \n",
      "0 of type lo->up, 0 of type free, 0 of type fixed, \n",
      "0 of type -inf->0.0, 0 of type -inf->up, 84421 of type 0.0->1.0 \n",
      "Row breakdown:\n",
      "11698 of type E 0.0, 0 of type E 1.0, 0 of type E -1.0, \n",
      "2 of type E other, 0 of type G 0.0, 0 of type G 1.0, \n",
      "0 of type G other, 84421 of type L 0.0, 0 of type L 1.0, \n",
      "0 of type L other, 0 of type Range 0.0->1.0, 0 of type Range other, \n",
      "0 of type Free \n",
      "Continuous objective value is 1.74252e+10 - 8.77 seconds\n",
      "Cgl0002I 34 variables fixed\n",
      "Cgl0004I processed model has 90656 rows, 157912 columns (78956 integer (78956 of which binary)) and 468308 elements\n",
      "Cbc0038I Initial state - 0 integers unsatisfied sum - 3.47191e-15\n",
      "Cbc0038I Solution found of 1.74578e+10\n",
      "Cbc0038I Relaxing continuous gives 1.74578e+10\n",
      "Cbc0038I Before mini branch and bound, 78956 integers at bound fixed and 78948 continuous\n",
      "Cbc0038I Mini branch and bound did not improve solution (11.26 seconds)\n",
      "Cbc0038I After 11.28 seconds - Feasibility pump exiting with objective of 1.74578e+10 - took 0.18 seconds\n",
      "Cbc0012I Integer solution of 1.7457781e+10 found by feasibility pump after 0 iterations and 0 nodes (62.10 seconds)\n",
      "Cbc0038I Full problem 90656 rows 157912 columns, reduced to 0 rows 0 columns\n",
      "Cbc0001I Search completed - best objective 17457781472.23415, took 0 iterations and 0 nodes (62.54 seconds)\n",
      "Cbc0035I Maximum depth 0, 73567 variables fixed on reduced cost\n",
      "Cuts at root node changed objective from 1.74578e+10 to 1.74578e+10\n",
      "Probing was tried 0 times and created 0 cuts of which 0 were active after adding rounds of cuts (0.000 seconds)\n",
      "Gomory was tried 0 times and created 0 cuts of which 0 were active after adding rounds of cuts (0.000 seconds)\n",
      "Knapsack was tried 0 times and created 0 cuts of which 0 were active after adding rounds of cuts (0.000 seconds)\n",
      "Clique was tried 0 times and created 0 cuts of which 0 were active after adding rounds of cuts (0.000 seconds)\n",
      "MixedIntegerRounding2 was tried 0 times and created 0 cuts of which 0 were active after adding rounds of cuts (0.000 seconds)\n",
      "FlowCover was tried 0 times and created 0 cuts of which 0 were active after adding rounds of cuts (0.000 seconds)\n",
      "TwoMirCuts was tried 0 times and created 0 cuts of which 0 were active after adding rounds of cuts (0.000 seconds)\n",
      "ZeroHalf was tried 0 times and created 0 cuts of which 0 were active after adding rounds of cuts (0.000 seconds)\n",
      "\n",
      "Result - Optimal solution found\n",
      "\n",
      "Objective value:                17457781472.23414612\n",
      "Enumerated nodes:               0\n",
      "Total iterations:               0\n",
      "Time (CPU seconds):             252.94\n",
      "Time (Wallclock seconds):       253.44\n",
      "\n",
      "Total time (CPU seconds):       254.40   (Wallclock seconds):       254.97\n",
      "\n",
      "\n",
      "Optimal solution found\n",
      "\n",
      "Object function value =  <pyomo.core.base.block._generic_component_decorator object at 0x7f81b3f1db10>\n"
     ]
    }
   ],
   "execution_count": 18
  },
  {
   "metadata": {
    "ExecuteTime": {
     "end_time": "2025-02-15T15:36:54.848759Z",
     "start_time": "2025-02-15T15:36:54.798333Z"
    }
   },
   "cell_type": "code",
   "source": [
    "from decimal import Decimal\n",
    "pd.set_option('display.max_colwidth', 10000000000000000000000000000000000000000000000000000)\n",
    "DF_channels = pd.DataFrame()\n",
    "c = 0\n",
    "for index, value in model.a.extract_values().items():\n",
    "    if value > 0.1:\n",
    "        DF_channels.loc[c, \"source\"] = index[0]\n",
    "        DF_channels.loc[c, \"destination\"] = index[1]\n",
    "        try:\n",
    "            DF_channels.loc[c, \"source-alias\"] = nodes.loc[index[0], \"alias\"]\n",
    "        except KeyError:\n",
    "            print(\"Source alias not found in nodes database: placeholder inserted\")\n",
    "            DF_channels.loc[c, \"source-alias\"] = \"source-alias\"\n",
    "            pass\n",
    "        try:\n",
    "            DF_channels.loc[c, \"destination-alias\"] = nodes.loc[index[1], \"alias\"]\n",
    "        except KeyError:\n",
    "            print(\"Destination alias not found in nodes database: placeholder inserted\")\n",
    "            DF_channels.loc[c, \"destination-alias\"] = \"destination-alias\"\n",
    "            pass\n",
    "        DF_channels.loc[c, \"capacity\"] = Decimal(channels.loc[index, \"capacity\"]/1000000)\n",
    "        DF_channels.loc[c, \"amount\"] = Decimal(value/1000000)\n",
    "        DF_channels.loc[c, \"base_fee\"] = Decimal(channels.loc[(index[0], index[1]), \"base_fee\"]/1000000)\n",
    "        DF_channels.loc[c, \"rate_fee\"] = channels.loc[(index[0], index[1]), \"rate_fee\"]\n",
    "        DF_channels.loc[c, \"addresses\"] = channels.loc[(index[0], index[1]), \"addresses\"]\n",
    "        #DF_channels.loc[c, \"used_fl\"] = channels.loc[]\n",
    "        c += 1\n",
    "\n",
    "DF_channels_pos = DF_channels[DF_channels[\"amount\"]!=0]"
   ],
   "id": "b7051d6dc41ce1a0",
   "outputs": [
    {
     "name": "stdout",
     "output_type": "stream",
     "text": [
      "Source alias not found in nodes database: placeholder inserted\n",
      "Destination alias not found in nodes database: placeholder inserted\n"
     ]
    }
   ],
   "execution_count": 19
  },
  {
   "metadata": {
    "ExecuteTime": {
     "end_time": "2025-02-15T15:36:54.858008Z",
     "start_time": "2025-02-15T15:36:54.849854Z"
    }
   },
   "cell_type": "code",
   "source": "DF_channels[DF_channels[\"amount\"]> DF_channels[\"capacity\"]]",
   "id": "591cfe14bef33883",
   "outputs": [
    {
     "data": {
      "text/plain": [
       "Empty DataFrame\n",
       "Columns: [source, destination, source-alias, destination-alias, capacity, amount, base_fee, rate_fee, addresses]\n",
       "Index: []"
      ],
      "text/html": [
       "<div>\n",
       "<style scoped>\n",
       "    .dataframe tbody tr th:only-of-type {\n",
       "        vertical-align: middle;\n",
       "    }\n",
       "\n",
       "    .dataframe tbody tr th {\n",
       "        vertical-align: top;\n",
       "    }\n",
       "\n",
       "    .dataframe thead th {\n",
       "        text-align: right;\n",
       "    }\n",
       "</style>\n",
       "<table border=\"1\" class=\"dataframe\">\n",
       "  <thead>\n",
       "    <tr style=\"text-align: right;\">\n",
       "      <th></th>\n",
       "      <th>source</th>\n",
       "      <th>destination</th>\n",
       "      <th>source-alias</th>\n",
       "      <th>destination-alias</th>\n",
       "      <th>capacity</th>\n",
       "      <th>amount</th>\n",
       "      <th>base_fee</th>\n",
       "      <th>rate_fee</th>\n",
       "      <th>addresses</th>\n",
       "    </tr>\n",
       "  </thead>\n",
       "  <tbody>\n",
       "  </tbody>\n",
       "</table>\n",
       "</div>"
      ]
     },
     "execution_count": 20,
     "metadata": {},
     "output_type": "execute_result"
    }
   ],
   "execution_count": 20
  },
  {
   "metadata": {
    "ExecuteTime": {
     "end_time": "2025-02-15T15:36:54.906886Z",
     "start_time": "2025-02-15T15:36:54.859392Z"
    }
   },
   "cell_type": "code",
   "source": [
    "DF_fixed = pd.DataFrame()\n",
    "c = 0\n",
    "for index, value in model.x.extract_values().items():\n",
    "    if value != 0:\n",
    "        DF_fixed.loc[c, \"source\"] = index[0]\n",
    "        DF_fixed.loc[c, \"destination\"] = index[1]\n",
    "        DF_fixed.loc[c, \"used\"] = Decimal(value)\n",
    "        c += 1\n",
    "\n",
    "DF_fixed_pos = DF_fixed[DF_fixed[\"used\"]!=0]\n",
    "DF_fixed_pos"
   ],
   "id": "4150b1232fe02328",
   "outputs": [
    {
     "data": {
      "text/plain": [
       "                                                               source  \\\n",
       "0  0208d92b2d406094d794b2a6a512f585dbbdee810a870283b9c5bafc4fec8ac0aa   \n",
       "1  0231eccc6510eb2e1c97c8a190d6ea096784aa7c358355442055aac8b20654f932   \n",
       "2  0249e6f5303d08f0681c0e7f95cbbdeac1e20c9b45c4f2765f2ddbfbdad25d9997   \n",
       "3  026f46207fd290a33cbd86e29b3ad0a47cdd44ab9aa5267cde66483e10aa9d3180   \n",
       "4  02ad4afb6e50ae4635ec5ddf5a57c44d4cc4b376ac6580f78cda0454a86e5fa6c2   \n",
       "5  02b4098c3116124c0c4105295d3d2e65927d46e98e248d84cb6119da57e4ae31e3   \n",
       "6  035e4ff418fc8b5554c5d9eea66396c227bd429a3251c8cbc711002ba215bfc226   \n",
       "7  035e4ff418fc8b5554c5d9eea66396c227bd429a3251c8cbc711002ba215bfc226   \n",
       "8  03864ef025fde8fb587d989186ce6a4a186895ee44a926bfc370e2c366597a3f8f   \n",
       "9  03cde60a6323f7122d5178255766e38114b4722ede08f7c9e0c5df9b912cc201d6   \n",
       "\n",
       "                                                          destination used  \n",
       "0  03864ef025fde8fb587d989186ce6a4a186895ee44a926bfc370e2c366597a3f8f    1  \n",
       "1  02ad4afb6e50ae4635ec5ddf5a57c44d4cc4b376ac6580f78cda0454a86e5fa6c2    1  \n",
       "2  035e4ff418fc8b5554c5d9eea66396c227bd429a3251c8cbc711002ba215bfc226    1  \n",
       "3  0208d92b2d406094d794b2a6a512f585dbbdee810a870283b9c5bafc4fec8ac0aa    1  \n",
       "4  03cde60a6323f7122d5178255766e38114b4722ede08f7c9e0c5df9b912cc201d6    1  \n",
       "5  026f46207fd290a33cbd86e29b3ad0a47cdd44ab9aa5267cde66483e10aa9d3180    1  \n",
       "6  0202f00d5f5c91a3c79113851b162c2b75f2cbd9fb2378fb4a4ce92d5ba1e63e08    1  \n",
       "7  0231eccc6510eb2e1c97c8a190d6ea096784aa7c358355442055aac8b20654f932    1  \n",
       "8  0382e6dcd8e534cd6a680ebb96e22b85deed55171800afa1b8fcde9125428da414    1  \n",
       "9  026f46207fd290a33cbd86e29b3ad0a47cdd44ab9aa5267cde66483e10aa9d3180    1  "
      ],
      "text/html": [
       "<div>\n",
       "<style scoped>\n",
       "    .dataframe tbody tr th:only-of-type {\n",
       "        vertical-align: middle;\n",
       "    }\n",
       "\n",
       "    .dataframe tbody tr th {\n",
       "        vertical-align: top;\n",
       "    }\n",
       "\n",
       "    .dataframe thead th {\n",
       "        text-align: right;\n",
       "    }\n",
       "</style>\n",
       "<table border=\"1\" class=\"dataframe\">\n",
       "  <thead>\n",
       "    <tr style=\"text-align: right;\">\n",
       "      <th></th>\n",
       "      <th>source</th>\n",
       "      <th>destination</th>\n",
       "      <th>used</th>\n",
       "    </tr>\n",
       "  </thead>\n",
       "  <tbody>\n",
       "    <tr>\n",
       "      <th>0</th>\n",
       "      <td>0208d92b2d406094d794b2a6a512f585dbbdee810a870283b9c5bafc4fec8ac0aa</td>\n",
       "      <td>03864ef025fde8fb587d989186ce6a4a186895ee44a926bfc370e2c366597a3f8f</td>\n",
       "      <td>1</td>\n",
       "    </tr>\n",
       "    <tr>\n",
       "      <th>1</th>\n",
       "      <td>0231eccc6510eb2e1c97c8a190d6ea096784aa7c358355442055aac8b20654f932</td>\n",
       "      <td>02ad4afb6e50ae4635ec5ddf5a57c44d4cc4b376ac6580f78cda0454a86e5fa6c2</td>\n",
       "      <td>1</td>\n",
       "    </tr>\n",
       "    <tr>\n",
       "      <th>2</th>\n",
       "      <td>0249e6f5303d08f0681c0e7f95cbbdeac1e20c9b45c4f2765f2ddbfbdad25d9997</td>\n",
       "      <td>035e4ff418fc8b5554c5d9eea66396c227bd429a3251c8cbc711002ba215bfc226</td>\n",
       "      <td>1</td>\n",
       "    </tr>\n",
       "    <tr>\n",
       "      <th>3</th>\n",
       "      <td>026f46207fd290a33cbd86e29b3ad0a47cdd44ab9aa5267cde66483e10aa9d3180</td>\n",
       "      <td>0208d92b2d406094d794b2a6a512f585dbbdee810a870283b9c5bafc4fec8ac0aa</td>\n",
       "      <td>1</td>\n",
       "    </tr>\n",
       "    <tr>\n",
       "      <th>4</th>\n",
       "      <td>02ad4afb6e50ae4635ec5ddf5a57c44d4cc4b376ac6580f78cda0454a86e5fa6c2</td>\n",
       "      <td>03cde60a6323f7122d5178255766e38114b4722ede08f7c9e0c5df9b912cc201d6</td>\n",
       "      <td>1</td>\n",
       "    </tr>\n",
       "    <tr>\n",
       "      <th>5</th>\n",
       "      <td>02b4098c3116124c0c4105295d3d2e65927d46e98e248d84cb6119da57e4ae31e3</td>\n",
       "      <td>026f46207fd290a33cbd86e29b3ad0a47cdd44ab9aa5267cde66483e10aa9d3180</td>\n",
       "      <td>1</td>\n",
       "    </tr>\n",
       "    <tr>\n",
       "      <th>6</th>\n",
       "      <td>035e4ff418fc8b5554c5d9eea66396c227bd429a3251c8cbc711002ba215bfc226</td>\n",
       "      <td>0202f00d5f5c91a3c79113851b162c2b75f2cbd9fb2378fb4a4ce92d5ba1e63e08</td>\n",
       "      <td>1</td>\n",
       "    </tr>\n",
       "    <tr>\n",
       "      <th>7</th>\n",
       "      <td>035e4ff418fc8b5554c5d9eea66396c227bd429a3251c8cbc711002ba215bfc226</td>\n",
       "      <td>0231eccc6510eb2e1c97c8a190d6ea096784aa7c358355442055aac8b20654f932</td>\n",
       "      <td>1</td>\n",
       "    </tr>\n",
       "    <tr>\n",
       "      <th>8</th>\n",
       "      <td>03864ef025fde8fb587d989186ce6a4a186895ee44a926bfc370e2c366597a3f8f</td>\n",
       "      <td>0382e6dcd8e534cd6a680ebb96e22b85deed55171800afa1b8fcde9125428da414</td>\n",
       "      <td>1</td>\n",
       "    </tr>\n",
       "    <tr>\n",
       "      <th>9</th>\n",
       "      <td>03cde60a6323f7122d5178255766e38114b4722ede08f7c9e0c5df9b912cc201d6</td>\n",
       "      <td>026f46207fd290a33cbd86e29b3ad0a47cdd44ab9aa5267cde66483e10aa9d3180</td>\n",
       "      <td>1</td>\n",
       "    </tr>\n",
       "  </tbody>\n",
       "</table>\n",
       "</div>"
      ]
     },
     "execution_count": 21,
     "metadata": {},
     "output_type": "execute_result"
    }
   ],
   "execution_count": 21
  },
  {
   "metadata": {},
   "cell_type": "markdown",
   "source": "### All data about channels on path",
   "id": "1dfb4bcd7e78f159"
  },
  {
   "metadata": {
    "ExecuteTime": {
     "end_time": "2025-02-15T15:36:54.918900Z",
     "start_time": "2025-02-15T15:36:54.908143Z"
    }
   },
   "cell_type": "code",
   "source": [
    "intersection = DF_fixed_pos.merge(DF_channels_pos, on=[\"source\", \"destination\"], how=\"outer\")\n",
    "final = intersection[intersection[\"amount\"]>0]"
   ],
   "id": "ab555f0c48920c85",
   "outputs": [],
   "execution_count": 22
  },
  {
   "metadata": {},
   "cell_type": "markdown",
   "source": "### Compute transaction costs",
   "id": "cffd94641ce2f0b2"
  },
  {
   "metadata": {
    "ExecuteTime": {
     "end_time": "2025-02-15T15:36:54.937200Z",
     "start_time": "2025-02-15T15:36:54.920488Z"
    }
   },
   "cell_type": "code",
   "source": "final",
   "id": "95f32a46309109b4",
   "outputs": [
    {
     "data": {
      "text/plain": [
       "                                                               source  \\\n",
       "0  0208d92b2d406094d794b2a6a512f585dbbdee810a870283b9c5bafc4fec8ac0aa   \n",
       "2  0249e6f5303d08f0681c0e7f95cbbdeac1e20c9b45c4f2765f2ddbfbdad25d9997   \n",
       "3  026f46207fd290a33cbd86e29b3ad0a47cdd44ab9aa5267cde66483e10aa9d3180   \n",
       "5  02b4098c3116124c0c4105295d3d2e65927d46e98e248d84cb6119da57e4ae31e3   \n",
       "6  035e4ff418fc8b5554c5d9eea66396c227bd429a3251c8cbc711002ba215bfc226   \n",
       "8  03864ef025fde8fb587d989186ce6a4a186895ee44a926bfc370e2c366597a3f8f   \n",
       "\n",
       "                                                          destination used  \\\n",
       "0  03864ef025fde8fb587d989186ce6a4a186895ee44a926bfc370e2c366597a3f8f    1   \n",
       "2  035e4ff418fc8b5554c5d9eea66396c227bd429a3251c8cbc711002ba215bfc226    1   \n",
       "3  0208d92b2d406094d794b2a6a512f585dbbdee810a870283b9c5bafc4fec8ac0aa    1   \n",
       "5  026f46207fd290a33cbd86e29b3ad0a47cdd44ab9aa5267cde66483e10aa9d3180    1   \n",
       "6  0202f00d5f5c91a3c79113851b162c2b75f2cbd9fb2378fb4a4ce92d5ba1e63e08    1   \n",
       "8  0382e6dcd8e534cd6a680ebb96e22b85deed55171800afa1b8fcde9125428da414    1   \n",
       "\n",
       "          source-alias    destination-alias  capacity  amount  \\\n",
       "0               Eprahs                ACINQ   2000000  500000   \n",
       "2         source-alias  WalletOfSatoshi.com  12000000  500000   \n",
       "3         Authenticity               Eprahs   7000000  500000   \n",
       "5        VeniceForever         Authenticity   1500000  500000   \n",
       "6  WalletOfSatoshi.com           ShatSat412  15000000  500000   \n",
       "8                ACINQ    destination-alias   1000000  500000   \n",
       "\n",
       "                                               base_fee  rate_fee  addresses  \n",
       "0   8.2770352789502563695123171783052384853363037109375  0.004424        1.0  \n",
       "2  5.72966084350420867821185311186127364635467529296875  0.001799        2.0  \n",
       "3      5.7430100628236715465391171164810657501220703125  0.001683        1.0  \n",
       "5  7.43303490020382628955530890380032360553741455078125  0.019437        1.0  \n",
       "6    6.746623167364052875427660183049738407135009765625  0.006080        1.0  \n",
       "8   5.9523124535762992337595278513617813587188720703125  0.001410        3.0  "
      ],
      "text/html": [
       "<div>\n",
       "<style scoped>\n",
       "    .dataframe tbody tr th:only-of-type {\n",
       "        vertical-align: middle;\n",
       "    }\n",
       "\n",
       "    .dataframe tbody tr th {\n",
       "        vertical-align: top;\n",
       "    }\n",
       "\n",
       "    .dataframe thead th {\n",
       "        text-align: right;\n",
       "    }\n",
       "</style>\n",
       "<table border=\"1\" class=\"dataframe\">\n",
       "  <thead>\n",
       "    <tr style=\"text-align: right;\">\n",
       "      <th></th>\n",
       "      <th>source</th>\n",
       "      <th>destination</th>\n",
       "      <th>used</th>\n",
       "      <th>source-alias</th>\n",
       "      <th>destination-alias</th>\n",
       "      <th>capacity</th>\n",
       "      <th>amount</th>\n",
       "      <th>base_fee</th>\n",
       "      <th>rate_fee</th>\n",
       "      <th>addresses</th>\n",
       "    </tr>\n",
       "  </thead>\n",
       "  <tbody>\n",
       "    <tr>\n",
       "      <th>0</th>\n",
       "      <td>0208d92b2d406094d794b2a6a512f585dbbdee810a870283b9c5bafc4fec8ac0aa</td>\n",
       "      <td>03864ef025fde8fb587d989186ce6a4a186895ee44a926bfc370e2c366597a3f8f</td>\n",
       "      <td>1</td>\n",
       "      <td>Eprahs</td>\n",
       "      <td>ACINQ</td>\n",
       "      <td>2000000</td>\n",
       "      <td>500000</td>\n",
       "      <td>8.2770352789502563695123171783052384853363037109375</td>\n",
       "      <td>0.004424</td>\n",
       "      <td>1.0</td>\n",
       "    </tr>\n",
       "    <tr>\n",
       "      <th>2</th>\n",
       "      <td>0249e6f5303d08f0681c0e7f95cbbdeac1e20c9b45c4f2765f2ddbfbdad25d9997</td>\n",
       "      <td>035e4ff418fc8b5554c5d9eea66396c227bd429a3251c8cbc711002ba215bfc226</td>\n",
       "      <td>1</td>\n",
       "      <td>source-alias</td>\n",
       "      <td>WalletOfSatoshi.com</td>\n",
       "      <td>12000000</td>\n",
       "      <td>500000</td>\n",
       "      <td>5.72966084350420867821185311186127364635467529296875</td>\n",
       "      <td>0.001799</td>\n",
       "      <td>2.0</td>\n",
       "    </tr>\n",
       "    <tr>\n",
       "      <th>3</th>\n",
       "      <td>026f46207fd290a33cbd86e29b3ad0a47cdd44ab9aa5267cde66483e10aa9d3180</td>\n",
       "      <td>0208d92b2d406094d794b2a6a512f585dbbdee810a870283b9c5bafc4fec8ac0aa</td>\n",
       "      <td>1</td>\n",
       "      <td>Authenticity</td>\n",
       "      <td>Eprahs</td>\n",
       "      <td>7000000</td>\n",
       "      <td>500000</td>\n",
       "      <td>5.7430100628236715465391171164810657501220703125</td>\n",
       "      <td>0.001683</td>\n",
       "      <td>1.0</td>\n",
       "    </tr>\n",
       "    <tr>\n",
       "      <th>5</th>\n",
       "      <td>02b4098c3116124c0c4105295d3d2e65927d46e98e248d84cb6119da57e4ae31e3</td>\n",
       "      <td>026f46207fd290a33cbd86e29b3ad0a47cdd44ab9aa5267cde66483e10aa9d3180</td>\n",
       "      <td>1</td>\n",
       "      <td>VeniceForever</td>\n",
       "      <td>Authenticity</td>\n",
       "      <td>1500000</td>\n",
       "      <td>500000</td>\n",
       "      <td>7.43303490020382628955530890380032360553741455078125</td>\n",
       "      <td>0.019437</td>\n",
       "      <td>1.0</td>\n",
       "    </tr>\n",
       "    <tr>\n",
       "      <th>6</th>\n",
       "      <td>035e4ff418fc8b5554c5d9eea66396c227bd429a3251c8cbc711002ba215bfc226</td>\n",
       "      <td>0202f00d5f5c91a3c79113851b162c2b75f2cbd9fb2378fb4a4ce92d5ba1e63e08</td>\n",
       "      <td>1</td>\n",
       "      <td>WalletOfSatoshi.com</td>\n",
       "      <td>ShatSat412</td>\n",
       "      <td>15000000</td>\n",
       "      <td>500000</td>\n",
       "      <td>6.746623167364052875427660183049738407135009765625</td>\n",
       "      <td>0.006080</td>\n",
       "      <td>1.0</td>\n",
       "    </tr>\n",
       "    <tr>\n",
       "      <th>8</th>\n",
       "      <td>03864ef025fde8fb587d989186ce6a4a186895ee44a926bfc370e2c366597a3f8f</td>\n",
       "      <td>0382e6dcd8e534cd6a680ebb96e22b85deed55171800afa1b8fcde9125428da414</td>\n",
       "      <td>1</td>\n",
       "      <td>ACINQ</td>\n",
       "      <td>destination-alias</td>\n",
       "      <td>1000000</td>\n",
       "      <td>500000</td>\n",
       "      <td>5.9523124535762992337595278513617813587188720703125</td>\n",
       "      <td>0.001410</td>\n",
       "      <td>3.0</td>\n",
       "    </tr>\n",
       "  </tbody>\n",
       "</table>\n",
       "</div>"
      ]
     },
     "execution_count": 23,
     "metadata": {},
     "output_type": "execute_result"
    }
   ],
   "execution_count": 23
  },
  {
   "metadata": {
    "ExecuteTime": {
     "end_time": "2025-02-15T15:36:54.949276Z",
     "start_time": "2025-02-15T15:36:54.939217Z"
    }
   },
   "cell_type": "code",
   "source": [
    "%%capture --no-stdout\n",
    "final[\"amount\"] = final[\"amount\"].astype(float)\n",
    "final[\"rate_fee\"] = final[\"rate_fee\"].astype(float)\n",
    "final[\"base_fee\"] = final[\"base_fee\"].astype(float)"
   ],
   "id": "cd242aef7e57fb2a",
   "outputs": [],
   "execution_count": 24
  },
  {
   "metadata": {
    "ExecuteTime": {
     "end_time": "2025-02-15T15:36:54.962801Z",
     "start_time": "2025-02-15T15:36:54.950914Z"
    }
   },
   "cell_type": "code",
   "source": [
    "total_transaction_cost = sum(final[\"amount\"]*final[\"rate_fee\"] + final[\"base_fee\"])\n",
    "perc_cost = (total_transaction_cost * 100) / transaction_amount\n",
    "print(f\"Transacting {transaction_amount} sats costs {total_transaction_cost} ({perc_cost}% of transaction amount)\")"
   ],
   "id": "69cc227421898dde",
   "outputs": [
    {
     "name": "stdout",
     "output_type": "stream",
     "text": [
      "Transacting 500000 sats costs 17456.40013352253 (3.491280026704506% of transaction amount)\n"
     ]
    }
   ],
   "execution_count": 25
  },
  {
   "metadata": {
    "ExecuteTime": {
     "end_time": "2025-02-15T15:36:54.972611Z",
     "start_time": "2025-02-15T15:36:54.964500Z"
    }
   },
   "cell_type": "code",
   "source": "print(\"Solver Status: \",  results.solver[0][\"System time\"])",
   "id": "c0a82b19e7ce617b",
   "outputs": [
    {
     "name": "stdout",
     "output_type": "stream",
     "text": [
      "Solver Status:  254.4\n"
     ]
    }
   ],
   "execution_count": 26
  },
  {
   "metadata": {
    "ExecuteTime": {
     "end_time": "2025-02-15T15:36:54.982195Z",
     "start_time": "2025-02-15T15:36:54.973890Z"
    }
   },
   "cell_type": "code",
   "source": [
    "\n",
    "%%capture --no-stderr\n"
   ],
   "id": "2d6fe0f46435e6f8",
   "outputs": [],
   "execution_count": 27
  },
  {
   "metadata": {
    "ExecuteTime": {
     "end_time": "2025-02-15T15:36:55.579499Z",
     "start_time": "2025-02-15T15:36:54.985770Z"
    }
   },
   "cell_type": "code",
   "source": [
    "import networkx as nx\n",
    "import matplotlib.pyplot as plt\n",
    "\n",
    "# edges list construction\n",
    "edges_df = final[[\"source-alias\", \"destination-alias\"]]\n",
    "\n",
    "G = nx.from_pandas_edgelist(edges_df, \"source-alias\", \"destination-alias\", create_using=nx.DiGraph())\n",
    "\n",
    "plt.figure(figsize=(8, 6))\n",
    "pos = nx.circular_layout(G)\n",
    "nx.draw(G, pos, with_labels=True, node_size=1000, node_color='lightblue', font_size=10, font_color='black',\n",
    "        font_weight='bold', arrows=True)\n",
    "plt.title(\"Graph with Uniform Node Size\")\n",
    "plt.show()"
   ],
   "id": "d07724e41a3fb60",
   "outputs": [
    {
     "data": {
      "text/plain": [
       "<Figure size 800x600 with 1 Axes>"
      ],
      "image/png": "[encoded data removed]"
     },
     "metadata": {},
     "output_type": "display_data"
    }
   ],
   "execution_count": 28
  },
  {
   "metadata": {
    "ExecuteTime": {
     "end_time": "2025-02-15T15:36:55.586047Z",
     "start_time": "2025-02-15T15:36:55.581548Z"
    }
   },
   "cell_type": "code",
   "source": [
    "for i in nx.strongly_connected_components(G):\n",
    "    print(i)"
   ],
   "id": "b58c4e51a69168d8",
   "outputs": [
    {
     "name": "stdout",
     "output_type": "stream",
     "text": [
      "{'destination-alias'}\n",
      "{'ACINQ'}\n",
      "{'Eprahs'}\n",
      "{'ShatSat412'}\n",
      "{'WalletOfSatoshi.com'}\n",
      "{'source-alias'}\n",
      "{'Authenticity'}\n",
      "{'VeniceForever'}\n"
     ]
    }
   ],
   "execution_count": 29
  },
  {
   "metadata": {
    "ExecuteTime": {
     "end_time": "2025-02-15T15:36:55.603592Z",
     "start_time": "2025-02-15T15:36:55.587919Z"
    }
   },
   "cell_type": "code",
   "source": [
    "#from collections import Counter\n",
    "##results = [tuple(i) for i in DF_channels_pos[[\"source-alias\", \"destination-alias\"]].to_numpy()]\n",
    "#results = [tuple(i) for i in final[[\"source-alias\", \"destination-alias\"]].to_numpy()]\n",
    "#unwrap = [e for i in results for e in i]\n",
    "#extremes = [j for j in unwrap if Counter(unwrap)[j] == 1]\n",
    "#def return_source(l: list):\n",
    "#    if l[0] in [i for i, j in results]:\n",
    "#        return l[0]\n",
    "#    else: \n",
    "#        return l[1]\n",
    "#sequence = []        \n",
    "#source = return_source(extremes)\n",
    "#sequence.append(source)\n",
    "#while len(sequence) <= len(results):\n",
    "#    for i,j in results:\n",
    "#        if i == sequence[-1]:\n",
    "#            sequence.append(j)\n",
    "#for i in sequence:\n",
    "#    print(\"⬇️\", i)"
   ],
   "id": "6388d7bda8ced731",
   "outputs": [],
   "execution_count": 30
  }
 ],
 "metadata": {
  "kernelspec": {
   "display_name": "Python 3",
   "language": "python",
   "name": "python3"
  },
  "language_info": {
   "codemirror_mode": {
    "name": "ipython",
    "version": 2
   },
   "file_extension": ".py",
   "mimetype": "text/x-python",
   "name": "python",
   "nbconvert_exporter": "python",
   "pygments_lexer": "ipython2",
   "version": "2.7.6"
  }
 },
 "nbformat": 4,
 "nbformat_minor": 5
}
