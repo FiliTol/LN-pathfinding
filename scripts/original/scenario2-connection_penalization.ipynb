{
 "cells": [
  {
   "metadata": {
    "ExecuteTime": {
     "end_time": "2025-01-23T20:31:30.502384Z",
     "start_time": "2025-01-23T20:31:30.070980Z"
    }
   },
   "cell_type": "code",
   "source": [
    "import decimal\n",
    "\n",
    "import pandas as pd\n",
    "from cleaning import create_demand\n",
    "import pyomo.environ as pyo\n",
    "import pyomo\n",
    "from pandas import DataFrame\n",
    "import decimal"
   ],
   "id": "initial_id",
   "outputs": [],
   "execution_count": 1
  },
  {
   "metadata": {},
   "cell_type": "markdown",
   "source": [
    "Lightning Network nodes can have multiple type of connections to be used.\n",
    "Specifically, every node can be an hidden node - thus leveraging privacy\n",
    "preserving communication protocols like Tor or I2P - or can use a clearnet connection,\n",
    "with a standard IPv4 or IPv6 (or both) address.\n",
    "\n",
    "In order to assign the \"connection type\" feature to each node, the following mapping\n",
    "has been implemented:\n",
    "\n",
    "- 1 if the node uses a privacy preserving protocol, eg it works as an hidden service;\n",
    "- 2 if the node is a clearned with an IPv4 or IPv6 address;\n",
    "- 3 if the node uses both connection typologies (eg both clearnet and onion)\n",
    " \n",
    "Note that the score is independent from the number of addresses of each kind.\n",
    "Thus if a node where to\n",
    "have both an IPv4 and IPv6, the score would be 2 despite the support to two clearnet protocols.\n",
    "\n",
    "The goal of this second scenario is to compute the shortest path with minimum cost between two nodes,\n",
    "considering that privacy preserving nodes are, on average, more prone to higher latency, thus\n",
    "causing payment failures and thus increasing the payment time.\n",
    "\n",
    "In order to reproduce this scenario, we assign a penalization to the usage of channels that have a\n",
    "connection type different from 3, which is the connection type associated with a wider range\n",
    "of communication protocols and thus is likely to be associated with lower latency or less connection issues.\n",
    "\n",
    "##### Alternative formulation\n",
    "\n",
    "Setup the problem considering a constraint such that the address code has to be at least 2, meaning that we avoid nodes who have an onion only connection because they are associated to higher latency."
   ],
   "id": "1d506aff74aeaf46"
  },
  {
   "metadata": {},
   "cell_type": "markdown",
   "source": "# Data import",
   "id": "a4b2795dc42b8269"
  },
  {
   "metadata": {
    "ExecuteTime": {
     "end_time": "2025-01-23T20:31:30.578891Z",
     "start_time": "2025-01-23T20:31:30.503495Z"
    }
   },
   "cell_type": "code",
   "source": [
    "nodes = pd.read_pickle(\"../../data/original/nodes.pkl\")\n",
    "channels = pd.read_pickle(\"../../data/original/channels.pkl\")"
   ],
   "id": "20748e4222156956",
   "outputs": [],
   "execution_count": 2
  },
  {
   "metadata": {
    "ExecuteTime": {
     "end_time": "2025-01-23T20:31:30.588951Z",
     "start_time": "2025-01-23T20:31:30.580465Z"
    }
   },
   "cell_type": "code",
   "source": [
    "def drop_not_mapped(df_nodes: DataFrame, df_channels: DataFrame) -> DataFrame:\n",
    "    \"\"\"\n",
    "    Drop channels that have at least one peer not appearing in the nodes dataframe.\n",
    "    :param df_nodes: nodes dataframe\n",
    "    :param df_channels: channels dataframe\n",
    "    :return: filtered channels dataframe containing only the channels\n",
    "    whose peers partecipants both appear in the nodes dataframe\n",
    "    \"\"\"\n",
    "    df_channels = df_channels[\n",
    "        df_channels.loc[:, \"node1_pub\"].isin(df_nodes.index) &\n",
    "        df_channels.loc[:, \"node2_pub\"].isin(df_nodes.index)\n",
    "        ]\n",
    "    return df_channels\n",
    "\n",
    "\n",
    "def drop_missing_addresses(df_nodes: DataFrame) -> DataFrame:\n",
    "    \"\"\"\n",
    "    Drop the nodes that have an unknown address type (which is 0).\n",
    "    :param df_nodes: nodes dataframe\n",
    "    :return: nodes dataframe without the nodes with address ==0\n",
    "    \"\"\"\n",
    "    return df_nodes.loc[df_nodes.loc[:, \"addresses\"] != 0, :]\n",
    "\n",
    "\n",
    "#channels = drop_not_mapped(nodes, channels)\n",
    "nodes = drop_missing_addresses(nodes)"
   ],
   "id": "b29a4e364a766d66",
   "outputs": [],
   "execution_count": 3
  },
  {
   "metadata": {},
   "cell_type": "markdown",
   "source": "## Modeling",
   "id": "7df6d25eef847cf7"
  },
  {
   "metadata": {
    "ExecuteTime": {
     "end_time": "2025-01-23T20:31:30.598150Z",
     "start_time": "2025-01-23T20:31:30.590515Z"
    }
   },
   "cell_type": "code",
   "source": "pyomo.common.timing.report_timing()",
   "id": "4a4e07a12106f0f2",
   "outputs": [
    {
     "data": {
      "text/plain": [
       "<pyomo.common.timing.report_timing at 0x7fdd273bbd90>"
      ]
     },
     "execution_count": 4,
     "metadata": {},
     "output_type": "execute_result"
    }
   ],
   "execution_count": 4
  },
  {
   "metadata": {
    "ExecuteTime": {
     "end_time": "2025-01-23T20:31:30.610785Z",
     "start_time": "2025-01-23T20:31:30.600686Z"
    }
   },
   "cell_type": "code",
   "source": [
    "# Multiplication to set the same base unit for all computations\n",
    "channels[\"capacity\"] = channels[\"capacity\"] * 1000000\n",
    "channels[\"base_fee\"] = channels[\"base_fee\"] * 1000000"
   ],
   "id": "eb5330e8d98289ec",
   "outputs": [],
   "execution_count": 5
  },
  {
   "metadata": {
    "ExecuteTime": {
     "end_time": "2025-01-23T20:31:32.268368Z",
     "start_time": "2025-01-23T20:31:30.611807Z"
    }
   },
   "cell_type": "code",
   "source": [
    "model = pyo.ConcreteModel(name=\"Min cost flow problem\")\n",
    "model.NODES = pyo.Set(initialize=nodes.index)\n",
    "model.CHANNELS = pyo.Set(initialize=[(channels.loc[i, \"node1_pub\"], channels.loc[i, \"node2_pub\"]) for i in channels.index])"
   ],
   "id": "52bc701c57020ae",
   "outputs": [
    {
     "name": "stdout",
     "output_type": "stream",
     "text": [
      "           0 seconds to construct Block ConcreteModel; 1 index total\n",
      "        0.02 seconds to construct Set NODES; 1 index total\n",
      "        0.18 seconds to construct Set CHANNELS; 1 index total\n"
     ]
    }
   ],
   "execution_count": 6
  },
  {
   "metadata": {
    "ExecuteTime": {
     "end_time": "2025-01-23T20:31:32.276574Z",
     "start_time": "2025-01-23T20:31:32.269270Z"
    }
   },
   "cell_type": "code",
   "source": [
    "transaction_amount = 500000\n",
    "nodes = create_demand(nodes, transaction_amount,\n",
    "                      source=\"02b4098c3116124c0c4105295d3d2e65927d46e98e248d84cb6119da57e4ae31e3\",destination=\"0202f00d5f5c91a3c79113851b162c2b75f2cbd9fb2378fb4a4ce92d5ba1e63e08\")"
   ],
   "id": "71f0e54edb55901d",
   "outputs": [
    {
     "name": "stdout",
     "output_type": "stream",
     "text": [
      "Transaction of 500000 sats.\n",
      "Sender: VeniceForever\n",
      "Receiver: ShatSat412.\n"
     ]
    }
   ],
   "execution_count": 7
  },
  {
   "metadata": {
    "ExecuteTime": {
     "end_time": "2025-01-23T20:31:32.527180Z",
     "start_time": "2025-01-23T20:31:32.277509Z"
    }
   },
   "cell_type": "code",
   "source": [
    "model.x = pyo.Var(model.CHANNELS, domain=pyo.Binary)\n",
    "model.a = pyo.Var(model.CHANNELS, domain=pyo.NonNegativeReals, bounds=(0, max(nodes[\"demand\"])))"
   ],
   "id": "db6bf92632e748f7",
   "outputs": [
    {
     "name": "stdout",
     "output_type": "stream",
     "text": [
      "        0.11 seconds to construct Var x; 89898 indices total\n",
      "        0.13 seconds to construct Var a; 89898 indices total\n"
     ]
    }
   ],
   "execution_count": 8
  },
  {
   "metadata": {
    "ExecuteTime": {
     "end_time": "2025-01-23T20:31:32.559515Z",
     "start_time": "2025-01-23T20:31:32.528045Z"
    }
   },
   "cell_type": "code",
   "source": [
    "channels.reset_index(inplace=True)\n",
    "channels.set_index([\"node1_pub\", \"node2_pub\"], inplace=True)\n",
    "channels.sort_index(inplace=True)"
   ],
   "id": "5d69bcd9f4cf6b47",
   "outputs": [],
   "execution_count": 9
  },
  {
   "metadata": {},
   "cell_type": "markdown",
   "source": [
    "### Objective function\n",
    "\n",
    "$$\n",
    "min \\sum_{i \\in E} ^{} amount_i \\times feerate_{i} + x_{i} \\times basefee_{i} + x_{i} \\times \\frac{1}{(min(addresses_{node1_{i}}, addresses_{node2_{i}}))^4}\n",
    "$$"
   ],
   "id": "75fbeb57061b26ae"
  },
  {
   "metadata": {},
   "cell_type": "markdown",
   "source": [
    "Note that here we need to handle also the situation in which a node has only one channel, thus\n",
    "its pubkey appears only as node1_pub (or node2_pub). Thus we need an exception handling when looking\n",
    "for the minimum between the two addresses scores.\n",
    "Note also that we consider the minimum between the two addresses scores because we want to penalize\n",
    "the lower scores. Since we are minimizing the objective function, we assign a 1/min_score as a penalization coefficient"
   ],
   "id": "b04d1477d868c1e8"
  },
  {
   "metadata": {
    "ExecuteTime": {
     "end_time": "2025-01-23T20:31:35.907807Z",
     "start_time": "2025-01-23T20:31:32.560630Z"
    }
   },
   "cell_type": "code",
   "source": [
    "# The following code adds a column to the channels dataframe which contains the min score of addresses for each channel\n",
    "channels.loc[:, \"addresses\"] = 0.0001\n",
    "for i in channels.index:\n",
    "    try:\n",
    "        channels.at[i, \"addresses\"] = min([nodes.loc[i[0], \"addresses\"], nodes.loc[i[1], \"addresses\"]])\n",
    "    except KeyError:\n",
    "        try:\n",
    "            channels.at[i, \"addresses\"] = nodes.loc[i[0], \"addresses\"]\n",
    "        except KeyError:\n",
    "            try:\n",
    "                channels.at[i, \"addresses\"] = nodes.loc[i[1], \"addresses\"]\n",
    "            except:\n",
    "                pass\n"
   ],
   "id": "2f1240e86a5e36e8",
   "outputs": [],
   "execution_count": 10
  },
  {
   "metadata": {
    "ExecuteTime": {
     "end_time": "2025-01-23T20:31:46.945932Z",
     "start_time": "2025-01-23T20:31:35.908892Z"
    }
   },
   "cell_type": "code",
   "source": [
    "def objective_function(model: pyo.ConcreteModel):\n",
    "    return sum(\n",
    "        model.a[i] * channels.loc[i, \"rate_fee\"] +\n",
    "        model.x[i] * channels.loc[i, \"base_fee\"] +\n",
    "        model.x[i] * 1/(channels.loc[i, \"addresses\"])**4\n",
    "        for i in model.CHANNELS)\n",
    "\n",
    "#def objective_function(model: pyo.ConcreteModel):\n",
    "#    \"\"\"\n",
    "#    Note that here we need to handle also the situation in which a node has only one channel, thus\n",
    "#    its pubkey appears only as node1_pub (or node2_pub). Thus we need an exception handling when looking\n",
    "#    for the minimum between the two addresses scores.\n",
    "#    Note also that we consider the minimum between the two addresses scores because we want to penalize\n",
    "#    the lower scores. Since we are minimizing the objective function, we assign a 1/min_score as a penalization coefficient\n",
    "#    \"\"\"\n",
    "#    return sum(\n",
    "#        model.a[i] * channels.loc[i, \"rate_fee\"] +\n",
    "#        model.x[i] * channels.loc[i, \"base_fee\"] +\n",
    "#        model.x[i] * (\n",
    "#            1 / min(\n",
    "#                (nodes.loc[i[0], \"addresses\"], nodes.loc[i[1], \"addresses\"])#,\n",
    "#                #default=float('inf')\n",
    "#            )\n",
    "#            if (\n",
    "#                   i[0] in nodes.index and i[1] in nodes.index and\n",
    "#                   pd.notnull(nodes.loc[i[0], \"addresses\"]) and\n",
    "#                   pd.notnull(nodes.loc[i[1], \"addresses\"])\n",
    "#            )\n",
    "#            else\n",
    "#            (\n",
    "#                nodes.loc[i[0], \"addresses\"] if pd.notnull(nodes.loc[i[0], \"addresses\"]) else (\n",
    "#                    nodes.loc[i[1], \"addresses\"] if pd.notnull\n",
    "#                else 0.0001\n",
    "#                )\n",
    "#            )\n",
    "#        )\n",
    "#        for i in model.CHANNELS\n",
    "#    )\n",
    "\n",
    "\n",
    "model.totalCost = pyo.Objective(rule=objective_function(model), sense=pyo.minimize)"
   ],
   "id": "357b3ec1886f884a",
   "outputs": [
    {
     "name": "stdout",
     "output_type": "stream",
     "text": [
      "           0 seconds to construct Objective totalCost; 1 index total\n"
     ]
    }
   ],
   "execution_count": 11
  },
  {
   "metadata": {},
   "cell_type": "markdown",
   "source": [
    "### Constraints\n",
    "\n",
    "#### Symmetric channel flow rule\n",
    "\n",
    "This constraint enforces the symmetry between the number of channel incoming and outgoing from an intermediary node (excluding source and destination nodes)\n",
    "\n",
    "$$\n",
    "\\sum_{(i,n) \\in E} x_{i,n} = \\sum_{(n,j) \\in E} x_{n,j} \\text{ } \\forall n \\in V \\bigwedge i \\ne \\{n, s, d\\}\n",
    "$$\n",
    "\n",
    "where $s$ is the source node, with a negative demand and $d$ is the destination node, with positive demand."
   ],
   "id": "861b0daa9b9cba75"
  },
  {
   "metadata": {
    "ExecuteTime": {
     "end_time": "2025-01-23T20:31:47.408112Z",
     "start_time": "2025-01-23T20:31:46.946973Z"
    }
   },
   "cell_type": "code",
   "source": [
    "s = nodes[nodes[\"demand\"] < 0].index.values\n",
    "d = nodes[nodes[\"demand\"] > 0].index.values\n",
    "intermediaries = [(i, j) for i, j in channels.index if i != s and j != d]"
   ],
   "id": "fb28e372cf7ca6b5",
   "outputs": [],
   "execution_count": 12
  },
  {
   "metadata": {
    "ExecuteTime": {
     "end_time": "2025-01-23T20:32:33.766045Z",
     "start_time": "2025-01-23T20:31:47.409095Z"
    }
   },
   "cell_type": "code",
   "source": [
    "def number_channels_rule(model: pyo.ConcreteModel, n):\n",
    "    incoming = [model.x[(i, j)] for i, j in intermediaries if j == n]\n",
    "    outgoing = [model.x[(i, j)] for i, j in intermediaries if i == n]\n",
    "    return sum(incoming) == sum(outgoing)\n",
    "\n",
    "model.NumberChannelsConstraint = pyo.Constraint(model.NODES, rule=number_channels_rule, name=\"Number channels constraint\")"
   ],
   "id": "f030e01165abfbbd",
   "outputs": [
    {
     "name": "stdout",
     "output_type": "stream",
     "text": [
      "       46.35 seconds to construct Constraint NumberChannelsConstraint; 11312 indices total\n"
     ]
    }
   ],
   "execution_count": 13
  },
  {
   "metadata": {},
   "cell_type": "markdown",
   "source": [
    "#### Capacity constraint\n",
    "\n",
    "$$amount_{i,j} \\le capacity_{i,j} \\times x_{i,j} \\text{ } \\forall (i,j) \\in E$$"
   ],
   "id": "e5ea238f92c81afb"
  },
  {
   "metadata": {
    "ExecuteTime": {
     "end_time": "2025-01-23T20:32:38.442335Z",
     "start_time": "2025-01-23T20:32:33.768727Z"
    }
   },
   "cell_type": "code",
   "source": [
    "def capacity_constraint(model: pyo.ConcreteModel, a, b):\n",
    "    return model.a[(a, b)] <= channels.loc[(a, b), \"capacity\"] * model.x[(a, b)]\n",
    "\n",
    "model.CapacityConstraint = pyo.Constraint(model.CHANNELS, rule=capacity_constraint, name=\"Capacity constraint\")"
   ],
   "id": "7d46c6418b15675a",
   "outputs": [
    {
     "name": "stdout",
     "output_type": "stream",
     "text": [
      "        4.67 seconds to construct Constraint CapacityConstraint; 89898 indices total\n"
     ]
    }
   ],
   "execution_count": 14
  },
  {
   "metadata": {},
   "cell_type": "markdown",
   "source": [
    "#### Flow balance constraint\n",
    "\n",
    "$$\\sum_{(s,i) \\in E} amount_{s,i} - \\sum_{(i,t) \\in E} amount_{i,d} = b_i \\text{ } \\forall i \\in V$$\n",
    "\n",
    "where $s$ is the source node, $d$ is the destination node, $i$ is every intermediary node\n"
   ],
   "id": "7adcde34bbdb4878"
  },
  {
   "metadata": {
    "ExecuteTime": {
     "end_time": "2025-01-23T20:32:41.321599Z",
     "start_time": "2025-01-23T20:32:38.443457Z"
    }
   },
   "cell_type": "code",
   "source": [
    "channels.reset_index(inplace=True)\n",
    "channels.set_index(\"channel_id\", inplace=True)\n",
    "\n",
    "def flow_balance_constraint(model: pyo.ConcreteModel, n: str):\n",
    "    InFlow = sum(model.a[(channels.loc[a, \"node1_pub\"], channels.loc[a, \"node2_pub\"])] for a in nodes.loc[n, 'incoming_channels'])\n",
    "    OutFlow = sum(model.a[(channels.loc[a, \"node1_pub\"], channels.loc[a, \"node2_pub\"])] for a in nodes.loc[n, 'outgoing_channels'])\n",
    "    return  OutFlow + nodes.loc[n, \"demand\"] == InFlow\n",
    "\n",
    "model.FlowBalanceConstraint = pyo.Constraint(model.NODES, rule=flow_balance_constraint, name=\"Flow balance constrain\")\n",
    "\n",
    "channels.reset_index(inplace=True)\n",
    "channels.set_index([\"node1_pub\", \"node2_pub\"], inplace=True)\n",
    "channels.sort_index(inplace=True) "
   ],
   "id": "d2b57765c3b53fc5",
   "outputs": [
    {
     "name": "stdout",
     "output_type": "stream",
     "text": [
      "        2.84 seconds to construct Constraint FlowBalanceConstraint; 11312 indices total\n"
     ]
    }
   ],
   "execution_count": 15
  },
  {
   "metadata": {},
   "cell_type": "markdown",
   "source": [
    "#### Avoid Onion Nodes constraint\n",
    "\n",
    "$$\n",
    "\n",
    "$$"
   ],
   "id": "8b8da35ad19ecfe7"
  },
  {
   "metadata": {},
   "cell_type": "markdown",
   "source": "## Solving the model",
   "id": "b8bc8c88087daf77"
  },
  {
   "metadata": {
    "ExecuteTime": {
     "end_time": "2025-01-23T20:32:41.324965Z",
     "start_time": "2025-01-23T20:32:41.322824Z"
    }
   },
   "cell_type": "code",
   "source": [
    "from pyomo.common.tempfiles import TempfileManager\n",
    "#TempfileManager.tempdir = \"/home/filippo/repositories/LN-pathfinding\""
   ],
   "id": "b7c634463823c9aa",
   "outputs": [],
   "execution_count": 16
  },
  {
   "metadata": {
    "ExecuteTime": {
     "end_time": "2025-01-23T20:34:02.083259Z",
     "start_time": "2025-01-23T20:32:41.325707Z"
    }
   },
   "cell_type": "code",
   "source": [
    "opt = pyo.SolverFactory('cbc')\n",
    "#opt = pyo.SolverFactory('/opt/ibm/ILOG/CPLEX_Studio_Community2212/cplex/bin/x86-64_linux/cplex')\n",
    "results = opt.solve(model, tee=True, keepfiles=True)\n",
    "\n",
    "if (results.solver.status == pyo.SolverStatus.ok) and (results.solver.termination_condition == pyo.TerminationCondition.optimal):\n",
    "    print('\\nOptimal solution found')\n",
    "elif results.solver.termination_condition == pyo.TerminationCondition.feasible:\n",
    "    print('\\nFeasible but not proven optimal solution found')\n",
    "elif results.solver.termination_condition == pyo.TerminationCondition.infeasible:\n",
    "    raise Exception(\"The model is infeasible\")\n",
    "else:\n",
    "    print('\\nSolver Status: ',  results.solver.status)\n",
    "    raise Exception(results.solver.status)\n",
    "\n",
    "print('\\nObject function value = ', model.Objective())\n"
   ],
   "id": "f88c7c0611694b3b",
   "outputs": [
    {
     "name": "stdout",
     "output_type": "stream",
     "text": [
      "           0 seconds to construct Var ONE_VAR_CONSTANT; 1 index total\n",
      "      [    2.07] Generated LP representation\n",
      "Solver log file: '/tmp/tmp6ee4cdp5.cbc.log'\n",
      "Solver solution file: '/tmp/tmp5f47rq45.pyomo.soln'\n",
      "Solver problem files: ('/tmp/tmp5f47rq45.pyomo.lp',)\n",
      "Welcome to the CBC MILP Solver \n",
      "Version: 2.10.8 \n",
      "Build Date: May  9 2022 \n",
      "\n",
      "command line - /usr/bin/cbc -printingOptions all -import /tmp/tmp5f47rq45.pyomo.lp -stat=1 -solve -solu /tmp/tmp5f47rq45.pyomo.soln (default strategy 1)\n",
      "Option for printingOptions changed from normal to all\n",
      "Presolve 96086 (-16436) rows, 168772 (-11024) columns and 479168 (-54664) elements\n",
      "Statistics for presolved model\n",
      "Original problem has 89898 integers (89898 of which binary)\n",
      "Presolved problem has 84386 integers (84386 of which binary)\n",
      "==== 6414 zero objective 4291 different\n",
      "==== absolute objective values 4291 different\n",
      "==== for integers 0 zero objective 1391 different\n",
      "==== for integers absolute objective values 1391 different\n",
      "===== end objective counts\n",
      "\n",
      "\n",
      "Problem has 96086 rows, 168772 columns (162358 with objective) and 479168 elements\n",
      "There are 10894 singletons with objective \n",
      "Column breakdown:\n",
      "0 of type 0.0->inf, 84386 of type 0.0->up, 0 of type lo->inf, \n",
      "0 of type lo->up, 0 of type free, 0 of type fixed, \n",
      "0 of type -inf->0.0, 0 of type -inf->up, 84386 of type 0.0->1.0 \n",
      "Row breakdown:\n",
      "11698 of type E 0.0, 0 of type E 1.0, 0 of type E -1.0, \n",
      "2 of type E other, 0 of type G 0.0, 0 of type G 1.0, \n",
      "0 of type G other, 84386 of type L 0.0, 0 of type L 1.0, \n",
      "0 of type L other, 0 of type Range 0.0->1.0, 0 of type Range other, \n",
      "0 of type Free \n",
      "Continuous objective value is 5.08833e+07 - 24.46 seconds\n",
      "Cgl0002I 34 variables fixed\n",
      "Cgl0004I processed model has 90656 rows, 157912 columns (78956 integer (78956 of which binary)) and 468308 elements\n",
      "Cbc0038I Initial state - 0 integers unsatisfied sum - 1.51691e-14\n",
      "Cbc0038I Solution found of 5.3e+07\n",
      "Cbc0038I Relaxing continuous gives 5.3e+07\n",
      "Cbc0038I Before mini branch and bound, 78956 integers at bound fixed and 78948 continuous\n",
      "Cbc0038I Mini branch and bound did not improve solution (28.31 seconds)\n",
      "Cbc0038I After 28.35 seconds - Feasibility pump exiting with objective of 5.3e+07 - took 0.32 seconds\n",
      "Cbc0012I Integer solution of 53000005 found by feasibility pump after 0 iterations and 0 nodes (28.40 seconds)\n",
      "Cbc0001I Search completed - best objective 53000005.4992284, took 0 iterations and 0 nodes (28.48 seconds)\n",
      "Cbc0035I Maximum depth 0, 0 variables fixed on reduced cost\n",
      "Cuts at root node changed objective from 5.3e+07 to 5.3e+07\n",
      "Probing was tried 0 times and created 0 cuts of which 0 were active after adding rounds of cuts (0.000 seconds)\n",
      "Gomory was tried 0 times and created 0 cuts of which 0 were active after adding rounds of cuts (0.000 seconds)\n",
      "Knapsack was tried 0 times and created 0 cuts of which 0 were active after adding rounds of cuts (0.000 seconds)\n",
      "Clique was tried 0 times and created 0 cuts of which 0 were active after adding rounds of cuts (0.000 seconds)\n",
      "MixedIntegerRounding2 was tried 0 times and created 0 cuts of which 0 were active after adding rounds of cuts (0.000 seconds)\n",
      "FlowCover was tried 0 times and created 0 cuts of which 0 were active after adding rounds of cuts (0.000 seconds)\n",
      "TwoMirCuts was tried 0 times and created 0 cuts of which 0 were active after adding rounds of cuts (0.000 seconds)\n",
      "ZeroHalf was tried 0 times and created 0 cuts of which 0 were active after adding rounds of cuts (0.000 seconds)\n",
      "\n",
      "Result - Optimal solution found\n",
      "\n",
      "Objective value:                53000005.49922840\n",
      "Enumerated nodes:               0\n",
      "Total iterations:               0\n",
      "Time (CPU seconds):             74.87\n",
      "Time (Wallclock seconds):       75.44\n",
      "\n",
      "Total time (CPU seconds):       76.34   (Wallclock seconds):       76.99\n",
      "\n",
      "\n",
      "Optimal solution found\n",
      "\n",
      "Object function value =  <pyomo.core.base.block._generic_component_decorator object at 0x7fdd25036830>\n"
     ]
    }
   ],
   "execution_count": 17
  },
  {
   "metadata": {
    "ExecuteTime": {
     "end_time": "2025-01-23T20:34:02.136673Z",
     "start_time": "2025-01-23T20:34:02.084355Z"
    }
   },
   "cell_type": "code",
   "source": [
    "from decimal import Decimal\n",
    "pd.set_option('display.max_colwidth', 10000000000000000000000000000000000000000000000000000)\n",
    "DF_channels = pd.DataFrame()\n",
    "c = 0\n",
    "for index, value in model.a.extract_values().items():\n",
    "    if value > 0.1:\n",
    "        DF_channels.loc[c, \"source\"] = index[0]\n",
    "        DF_channels.loc[c, \"destination\"] = index[1]\n",
    "        try:\n",
    "            DF_channels.loc[c, \"source-alias\"] = nodes.loc[index[0], \"alias\"]\n",
    "        except KeyError:\n",
    "            print(\"Source alias not found in nodes database: placeholder inserted\")\n",
    "            DF_channels.loc[c, \"source-alias\"] = \"source-alias\"\n",
    "            pass\n",
    "        try:\n",
    "            DF_channels.loc[c, \"destination-alias\"] = nodes.loc[index[1], \"alias\"]\n",
    "        except KeyError:\n",
    "            print(\"Destination alias not found in nodes database: placeholder inserted\")\n",
    "            DF_channels.loc[c, \"destination-alias\"] = \"destination-alias\"\n",
    "            pass\n",
    "        DF_channels.loc[c, \"capacity\"] = Decimal(channels.loc[index, \"capacity\"]/1000000)\n",
    "        DF_channels.loc[c, \"amount\"] = Decimal(value/1000000)\n",
    "        DF_channels.loc[c, \"base_fee\"] = Decimal(channels.loc[(index[0], index[1]), \"base_fee\"]/1000000)\n",
    "        DF_channels.loc[c, \"rate_fee\"] = channels.loc[(index[0], index[1]), \"rate_fee\"]\n",
    "        DF_channels.loc[c, \"addresses\"] = channels.loc[(index[0], index[1]), \"addresses\"]\n",
    "        #DF_channels.loc[c, \"used_fl\"] = channels.loc[]\n",
    "        c += 1\n",
    "\n",
    "DF_channels_pos = DF_channels[DF_channels[\"amount\"]!=0]"
   ],
   "id": "b7051d6dc41ce1a0",
   "outputs": [
    {
     "name": "stdout",
     "output_type": "stream",
     "text": [
      "Source alias not found in nodes database: placeholder inserted\n",
      "Destination alias not found in nodes database: placeholder inserted\n"
     ]
    }
   ],
   "execution_count": 18
  },
  {
   "metadata": {
    "ExecuteTime": {
     "end_time": "2025-01-23T20:34:02.144633Z",
     "start_time": "2025-01-23T20:34:02.137686Z"
    }
   },
   "cell_type": "code",
   "source": "DF_channels[DF_channels[\"amount\"]> DF_channels[\"capacity\"]]",
   "id": "591cfe14bef33883",
   "outputs": [
    {
     "data": {
      "text/plain": [
       "Empty DataFrame\n",
       "Columns: [source, destination, source-alias, destination-alias, capacity, amount, base_fee, rate_fee, addresses]\n",
       "Index: []"
      ],
      "text/html": [
       "<div>\n",
       "<style scoped>\n",
       "    .dataframe tbody tr th:only-of-type {\n",
       "        vertical-align: middle;\n",
       "    }\n",
       "\n",
       "    .dataframe tbody tr th {\n",
       "        vertical-align: top;\n",
       "    }\n",
       "\n",
       "    .dataframe thead th {\n",
       "        text-align: right;\n",
       "    }\n",
       "</style>\n",
       "<table border=\"1\" class=\"dataframe\">\n",
       "  <thead>\n",
       "    <tr style=\"text-align: right;\">\n",
       "      <th></th>\n",
       "      <th>source</th>\n",
       "      <th>destination</th>\n",
       "      <th>source-alias</th>\n",
       "      <th>destination-alias</th>\n",
       "      <th>capacity</th>\n",
       "      <th>amount</th>\n",
       "      <th>base_fee</th>\n",
       "      <th>rate_fee</th>\n",
       "      <th>addresses</th>\n",
       "    </tr>\n",
       "  </thead>\n",
       "  <tbody>\n",
       "  </tbody>\n",
       "</table>\n",
       "</div>"
      ]
     },
     "execution_count": 19,
     "metadata": {},
     "output_type": "execute_result"
    }
   ],
   "execution_count": 19
  },
  {
   "metadata": {
    "ExecuteTime": {
     "end_time": "2025-01-23T20:34:02.187180Z",
     "start_time": "2025-01-23T20:34:02.145802Z"
    }
   },
   "cell_type": "code",
   "source": [
    "DF_fixed = pd.DataFrame()\n",
    "c = 0\n",
    "for index, value in model.x.extract_values().items():\n",
    "    if value != 0:\n",
    "        DF_fixed.loc[c, \"source\"] = index[0]\n",
    "        DF_fixed.loc[c, \"destination\"] = index[1]\n",
    "        DF_fixed.loc[c, \"used\"] = Decimal(value)\n",
    "        c += 1\n",
    "\n",
    "DF_fixed_pos = DF_fixed[DF_fixed[\"used\"]!=0]\n",
    "DF_fixed_pos"
   ],
   "id": "4150b1232fe02328",
   "outputs": [
    {
     "data": {
      "text/plain": [
       "                                                                source  \\\n",
       "0   0208d92b2d406094d794b2a6a512f585dbbdee810a870283b9c5bafc4fec8ac0aa   \n",
       "1   026be7f5f2f6649cb9eca52009bb855fc036814da1b703310041966a1912763d91   \n",
       "2   02b4098c3116124c0c4105295d3d2e65927d46e98e248d84cb6119da57e4ae31e3   \n",
       "3   02bc400b9df471549c1a2071a61be27460e9726d3399370671514dd8356606bd81   \n",
       "4   02dbdd45505ca50500f78b0c52e73747415147e0c5ca28d72450d18884c54771d8   \n",
       "5   02ddb472c8edf0624dec5544507b705aae67d42a6cc2db133ba7e843fd5ce90135   \n",
       "6   02f0c7b731ca40a285d7c12aa1c5c7c7caa4598d3d6d34904c3714cd0d47852640   \n",
       "7   02f1a8c87607f415c8f22c00593002775941dea48869ce23096af27b0cfdcc0b69   \n",
       "8   034f3f792988c43f41c65a839acdfa48647204bb99aca7de426f7c80b0dcf7a4a6   \n",
       "9   03641a88d80a2a85bbecd770577aca9b5495616e9fef63d66ef2631b7cca1d395d   \n",
       "10  0378a5312ca36773971df43f833b571d024fd7d5d216fbdf7e241b710714ef1be1   \n",
       "11  037f66e84e38fc2787d578599dfe1fcb7b71f9de4fb1e453c5ab85c05f5ce8c2e3   \n",
       "12  03ac0cf6da1916725f86d49ab35275b7b362054845e85c33ac181118aac266ebb7   \n",
       "13  03c8e5f583585cac1de2b7503a6ccd3c12ba477cfd139cd4905be504c2f48e86bd   \n",
       "14  03c8e5f583585cac1de2b7503a6ccd3c12ba477cfd139cd4905be504c2f48e86bd   \n",
       "15  03d6b14390cd178d670aa2d57c93d9519feaae7d1e34264d8bbb7932d47b75a50d   \n",
       "16  03e81689bfd18d0accb28d720ed222209b1a5f2c6825308772beac75b1fe35d491   \n",
       "\n",
       "                                                           destination used  \n",
       "0   034f3f792988c43f41c65a839acdfa48647204bb99aca7de426f7c80b0dcf7a4a6    1  \n",
       "1   03e81689bfd18d0accb28d720ed222209b1a5f2c6825308772beac75b1fe35d491    1  \n",
       "2   0208d92b2d406094d794b2a6a512f585dbbdee810a870283b9c5bafc4fec8ac0aa    1  \n",
       "3   037f66e84e38fc2787d578599dfe1fcb7b71f9de4fb1e453c5ab85c05f5ce8c2e3    1  \n",
       "4   03641a88d80a2a85bbecd770577aca9b5495616e9fef63d66ef2631b7cca1d395d    1  \n",
       "5   026be7f5f2f6649cb9eca52009bb855fc036814da1b703310041966a1912763d91    1  \n",
       "6   03c8e5f583585cac1de2b7503a6ccd3c12ba477cfd139cd4905be504c2f48e86bd    1  \n",
       "7   0208d92b2d406094d794b2a6a512f585dbbdee810a870283b9c5bafc4fec8ac0aa    1  \n",
       "8   02ddb472c8edf0624dec5544507b705aae67d42a6cc2db133ba7e843fd5ce90135    1  \n",
       "9   02bc400b9df471549c1a2071a61be27460e9726d3399370671514dd8356606bd81    1  \n",
       "10  03a1f3afd646d77bdaf545cceaf079bab6057eae52c6319b63b5803d0989d6a72f    1  \n",
       "11  02f0c7b731ca40a285d7c12aa1c5c7c7caa4598d3d6d34904c3714cd0d47852640    1  \n",
       "12  03d6b14390cd178d670aa2d57c93d9519feaae7d1e34264d8bbb7932d47b75a50d    1  \n",
       "13  0202f00d5f5c91a3c79113851b162c2b75f2cbd9fb2378fb4a4ce92d5ba1e63e08    1  \n",
       "14  02f1a8c87607f415c8f22c00593002775941dea48869ce23096af27b0cfdcc0b69    1  \n",
       "15  03ac0cf6da1916725f86d49ab35275b7b362054845e85c33ac181118aac266ebb7    1  \n",
       "16  0378a5312ca36773971df43f833b571d024fd7d5d216fbdf7e241b710714ef1be1    1  "
      ],
      "text/html": [
       "<div>\n",
       "<style scoped>\n",
       "    .dataframe tbody tr th:only-of-type {\n",
       "        vertical-align: middle;\n",
       "    }\n",
       "\n",
       "    .dataframe tbody tr th {\n",
       "        vertical-align: top;\n",
       "    }\n",
       "\n",
       "    .dataframe thead th {\n",
       "        text-align: right;\n",
       "    }\n",
       "</style>\n",
       "<table border=\"1\" class=\"dataframe\">\n",
       "  <thead>\n",
       "    <tr style=\"text-align: right;\">\n",
       "      <th></th>\n",
       "      <th>source</th>\n",
       "      <th>destination</th>\n",
       "      <th>used</th>\n",
       "    </tr>\n",
       "  </thead>\n",
       "  <tbody>\n",
       "    <tr>\n",
       "      <th>0</th>\n",
       "      <td>0208d92b2d406094d794b2a6a512f585dbbdee810a870283b9c5bafc4fec8ac0aa</td>\n",
       "      <td>034f3f792988c43f41c65a839acdfa48647204bb99aca7de426f7c80b0dcf7a4a6</td>\n",
       "      <td>1</td>\n",
       "    </tr>\n",
       "    <tr>\n",
       "      <th>1</th>\n",
       "      <td>026be7f5f2f6649cb9eca52009bb855fc036814da1b703310041966a1912763d91</td>\n",
       "      <td>03e81689bfd18d0accb28d720ed222209b1a5f2c6825308772beac75b1fe35d491</td>\n",
       "      <td>1</td>\n",
       "    </tr>\n",
       "    <tr>\n",
       "      <th>2</th>\n",
       "      <td>02b4098c3116124c0c4105295d3d2e65927d46e98e248d84cb6119da57e4ae31e3</td>\n",
       "      <td>0208d92b2d406094d794b2a6a512f585dbbdee810a870283b9c5bafc4fec8ac0aa</td>\n",
       "      <td>1</td>\n",
       "    </tr>\n",
       "    <tr>\n",
       "      <th>3</th>\n",
       "      <td>02bc400b9df471549c1a2071a61be27460e9726d3399370671514dd8356606bd81</td>\n",
       "      <td>037f66e84e38fc2787d578599dfe1fcb7b71f9de4fb1e453c5ab85c05f5ce8c2e3</td>\n",
       "      <td>1</td>\n",
       "    </tr>\n",
       "    <tr>\n",
       "      <th>4</th>\n",
       "      <td>02dbdd45505ca50500f78b0c52e73747415147e0c5ca28d72450d18884c54771d8</td>\n",
       "      <td>03641a88d80a2a85bbecd770577aca9b5495616e9fef63d66ef2631b7cca1d395d</td>\n",
       "      <td>1</td>\n",
       "    </tr>\n",
       "    <tr>\n",
       "      <th>5</th>\n",
       "      <td>02ddb472c8edf0624dec5544507b705aae67d42a6cc2db133ba7e843fd5ce90135</td>\n",
       "      <td>026be7f5f2f6649cb9eca52009bb855fc036814da1b703310041966a1912763d91</td>\n",
       "      <td>1</td>\n",
       "    </tr>\n",
       "    <tr>\n",
       "      <th>6</th>\n",
       "      <td>02f0c7b731ca40a285d7c12aa1c5c7c7caa4598d3d6d34904c3714cd0d47852640</td>\n",
       "      <td>03c8e5f583585cac1de2b7503a6ccd3c12ba477cfd139cd4905be504c2f48e86bd</td>\n",
       "      <td>1</td>\n",
       "    </tr>\n",
       "    <tr>\n",
       "      <th>7</th>\n",
       "      <td>02f1a8c87607f415c8f22c00593002775941dea48869ce23096af27b0cfdcc0b69</td>\n",
       "      <td>0208d92b2d406094d794b2a6a512f585dbbdee810a870283b9c5bafc4fec8ac0aa</td>\n",
       "      <td>1</td>\n",
       "    </tr>\n",
       "    <tr>\n",
       "      <th>8</th>\n",
       "      <td>034f3f792988c43f41c65a839acdfa48647204bb99aca7de426f7c80b0dcf7a4a6</td>\n",
       "      <td>02ddb472c8edf0624dec5544507b705aae67d42a6cc2db133ba7e843fd5ce90135</td>\n",
       "      <td>1</td>\n",
       "    </tr>\n",
       "    <tr>\n",
       "      <th>9</th>\n",
       "      <td>03641a88d80a2a85bbecd770577aca9b5495616e9fef63d66ef2631b7cca1d395d</td>\n",
       "      <td>02bc400b9df471549c1a2071a61be27460e9726d3399370671514dd8356606bd81</td>\n",
       "      <td>1</td>\n",
       "    </tr>\n",
       "    <tr>\n",
       "      <th>10</th>\n",
       "      <td>0378a5312ca36773971df43f833b571d024fd7d5d216fbdf7e241b710714ef1be1</td>\n",
       "      <td>03a1f3afd646d77bdaf545cceaf079bab6057eae52c6319b63b5803d0989d6a72f</td>\n",
       "      <td>1</td>\n",
       "    </tr>\n",
       "    <tr>\n",
       "      <th>11</th>\n",
       "      <td>037f66e84e38fc2787d578599dfe1fcb7b71f9de4fb1e453c5ab85c05f5ce8c2e3</td>\n",
       "      <td>02f0c7b731ca40a285d7c12aa1c5c7c7caa4598d3d6d34904c3714cd0d47852640</td>\n",
       "      <td>1</td>\n",
       "    </tr>\n",
       "    <tr>\n",
       "      <th>12</th>\n",
       "      <td>03ac0cf6da1916725f86d49ab35275b7b362054845e85c33ac181118aac266ebb7</td>\n",
       "      <td>03d6b14390cd178d670aa2d57c93d9519feaae7d1e34264d8bbb7932d47b75a50d</td>\n",
       "      <td>1</td>\n",
       "    </tr>\n",
       "    <tr>\n",
       "      <th>13</th>\n",
       "      <td>03c8e5f583585cac1de2b7503a6ccd3c12ba477cfd139cd4905be504c2f48e86bd</td>\n",
       "      <td>0202f00d5f5c91a3c79113851b162c2b75f2cbd9fb2378fb4a4ce92d5ba1e63e08</td>\n",
       "      <td>1</td>\n",
       "    </tr>\n",
       "    <tr>\n",
       "      <th>14</th>\n",
       "      <td>03c8e5f583585cac1de2b7503a6ccd3c12ba477cfd139cd4905be504c2f48e86bd</td>\n",
       "      <td>02f1a8c87607f415c8f22c00593002775941dea48869ce23096af27b0cfdcc0b69</td>\n",
       "      <td>1</td>\n",
       "    </tr>\n",
       "    <tr>\n",
       "      <th>15</th>\n",
       "      <td>03d6b14390cd178d670aa2d57c93d9519feaae7d1e34264d8bbb7932d47b75a50d</td>\n",
       "      <td>03ac0cf6da1916725f86d49ab35275b7b362054845e85c33ac181118aac266ebb7</td>\n",
       "      <td>1</td>\n",
       "    </tr>\n",
       "    <tr>\n",
       "      <th>16</th>\n",
       "      <td>03e81689bfd18d0accb28d720ed222209b1a5f2c6825308772beac75b1fe35d491</td>\n",
       "      <td>0378a5312ca36773971df43f833b571d024fd7d5d216fbdf7e241b710714ef1be1</td>\n",
       "      <td>1</td>\n",
       "    </tr>\n",
       "  </tbody>\n",
       "</table>\n",
       "</div>"
      ]
     },
     "execution_count": 20,
     "metadata": {},
     "output_type": "execute_result"
    }
   ],
   "execution_count": 20
  },
  {
   "metadata": {},
   "cell_type": "markdown",
   "source": "### All data about channels on path",
   "id": "1dfb4bcd7e78f159"
  },
  {
   "metadata": {
    "ExecuteTime": {
     "end_time": "2025-01-23T20:34:02.198049Z",
     "start_time": "2025-01-23T20:34:02.188347Z"
    }
   },
   "cell_type": "code",
   "source": [
    "intersection = DF_fixed_pos.merge(DF_channels_pos, on=[\"source\", \"destination\"], how=\"outer\")\n",
    "final = intersection[intersection[\"amount\"]>0]"
   ],
   "id": "ab555f0c48920c85",
   "outputs": [],
   "execution_count": 21
  },
  {
   "metadata": {},
   "cell_type": "markdown",
   "source": "### Compute transaction costs",
   "id": "cffd94641ce2f0b2"
  },
  {
   "metadata": {
    "ExecuteTime": {
     "end_time": "2025-01-23T20:34:02.214923Z",
     "start_time": "2025-01-23T20:34:02.199154Z"
    }
   },
   "cell_type": "code",
   "source": "final",
   "id": "95f32a46309109b4",
   "outputs": [
    {
     "data": {
      "text/plain": [
       "                                                                source  \\\n",
       "0   0208d92b2d406094d794b2a6a512f585dbbdee810a870283b9c5bafc4fec8ac0aa   \n",
       "1   026be7f5f2f6649cb9eca52009bb855fc036814da1b703310041966a1912763d91   \n",
       "2   02b4098c3116124c0c4105295d3d2e65927d46e98e248d84cb6119da57e4ae31e3   \n",
       "3   02bc400b9df471549c1a2071a61be27460e9726d3399370671514dd8356606bd81   \n",
       "4   02dbdd45505ca50500f78b0c52e73747415147e0c5ca28d72450d18884c54771d8   \n",
       "5   02ddb472c8edf0624dec5544507b705aae67d42a6cc2db133ba7e843fd5ce90135   \n",
       "6   02f0c7b731ca40a285d7c12aa1c5c7c7caa4598d3d6d34904c3714cd0d47852640   \n",
       "8   034f3f792988c43f41c65a839acdfa48647204bb99aca7de426f7c80b0dcf7a4a6   \n",
       "9   03641a88d80a2a85bbecd770577aca9b5495616e9fef63d66ef2631b7cca1d395d   \n",
       "10  0378a5312ca36773971df43f833b571d024fd7d5d216fbdf7e241b710714ef1be1   \n",
       "11  037f66e84e38fc2787d578599dfe1fcb7b71f9de4fb1e453c5ab85c05f5ce8c2e3   \n",
       "13  03c8e5f583585cac1de2b7503a6ccd3c12ba477cfd139cd4905be504c2f48e86bd   \n",
       "16  03e81689bfd18d0accb28d720ed222209b1a5f2c6825308772beac75b1fe35d491   \n",
       "\n",
       "                                                           destination used  \\\n",
       "0   034f3f792988c43f41c65a839acdfa48647204bb99aca7de426f7c80b0dcf7a4a6    1   \n",
       "1   03e81689bfd18d0accb28d720ed222209b1a5f2c6825308772beac75b1fe35d491    1   \n",
       "2   0208d92b2d406094d794b2a6a512f585dbbdee810a870283b9c5bafc4fec8ac0aa    1   \n",
       "3   037f66e84e38fc2787d578599dfe1fcb7b71f9de4fb1e453c5ab85c05f5ce8c2e3    1   \n",
       "4   03641a88d80a2a85bbecd770577aca9b5495616e9fef63d66ef2631b7cca1d395d    1   \n",
       "5   026be7f5f2f6649cb9eca52009bb855fc036814da1b703310041966a1912763d91    1   \n",
       "6   03c8e5f583585cac1de2b7503a6ccd3c12ba477cfd139cd4905be504c2f48e86bd    1   \n",
       "8   02ddb472c8edf0624dec5544507b705aae67d42a6cc2db133ba7e843fd5ce90135    1   \n",
       "9   02bc400b9df471549c1a2071a61be27460e9726d3399370671514dd8356606bd81    1   \n",
       "10  03a1f3afd646d77bdaf545cceaf079bab6057eae52c6319b63b5803d0989d6a72f    1   \n",
       "11  02f0c7b731ca40a285d7c12aa1c5c7c7caa4598d3d6d34904c3714cd0d47852640    1   \n",
       "13  0202f00d5f5c91a3c79113851b162c2b75f2cbd9fb2378fb4a4ce92d5ba1e63e08    1   \n",
       "16  0378a5312ca36773971df43f833b571d024fd7d5d216fbdf7e241b710714ef1be1    1   \n",
       "\n",
       "                  source-alias           destination-alias   capacity  amount  \\\n",
       "0                       Eprahs                     hexagon    1000000  500000   \n",
       "1                     Sats4Fun  Rust-eze (now BoltTrustiC)    2000000  500000   \n",
       "2                VeniceForever                      Eprahs    1500000  500000   \n",
       "3                    Aldebaran                 HODLmeTight   10000000  500000   \n",
       "4                 source-alias                    Nodelou🐈    5000000  500000   \n",
       "5            AfricaFreeRouting                    Sats4Fun    2000000  500000   \n",
       "6                     Henwen 🐷                      Strike   10000000  500000   \n",
       "8                      hexagon           AfricaFreeRouting    2000000  500000   \n",
       "9                     Nodelou🐈                   Aldebaran    5000000  500000   \n",
       "10                      OneKey           destination-alias  200000000  500000   \n",
       "11                 HODLmeTight                    Henwen 🐷   10000000  500000   \n",
       "13                      Strike                  ShatSat412   10000000  500000   \n",
       "16  Rust-eze (now BoltTrustiC)                      OneKey   10000000  500000   \n",
       "\n",
       "   base_fee  rate_fee  addresses  \n",
       "0         1    0.0000        1.0  \n",
       "1         0    0.0000        3.0  \n",
       "2         1    0.0000        1.0  \n",
       "3         0    0.0000        3.0  \n",
       "4         0    0.0000        3.0  \n",
       "5         0    0.0000        3.0  \n",
       "6         0    0.0000        2.0  \n",
       "8         0    0.0000        1.0  \n",
       "9         0    0.0000        3.0  \n",
       "10        0    0.0000        2.0  \n",
       "11        0    0.0000        2.0  \n",
       "13        1    0.0001        1.0  \n",
       "16        0    0.0000        2.0  "
      ],
      "text/html": [
       "<div>\n",
       "<style scoped>\n",
       "    .dataframe tbody tr th:only-of-type {\n",
       "        vertical-align: middle;\n",
       "    }\n",
       "\n",
       "    .dataframe tbody tr th {\n",
       "        vertical-align: top;\n",
       "    }\n",
       "\n",
       "    .dataframe thead th {\n",
       "        text-align: right;\n",
       "    }\n",
       "</style>\n",
       "<table border=\"1\" class=\"dataframe\">\n",
       "  <thead>\n",
       "    <tr style=\"text-align: right;\">\n",
       "      <th></th>\n",
       "      <th>source</th>\n",
       "      <th>destination</th>\n",
       "      <th>used</th>\n",
       "      <th>source-alias</th>\n",
       "      <th>destination-alias</th>\n",
       "      <th>capacity</th>\n",
       "      <th>amount</th>\n",
       "      <th>base_fee</th>\n",
       "      <th>rate_fee</th>\n",
       "      <th>addresses</th>\n",
       "    </tr>\n",
       "  </thead>\n",
       "  <tbody>\n",
       "    <tr>\n",
       "      <th>0</th>\n",
       "      <td>0208d92b2d406094d794b2a6a512f585dbbdee810a870283b9c5bafc4fec8ac0aa</td>\n",
       "      <td>034f3f792988c43f41c65a839acdfa48647204bb99aca7de426f7c80b0dcf7a4a6</td>\n",
       "      <td>1</td>\n",
       "      <td>Eprahs</td>\n",
       "      <td>hexagon</td>\n",
       "      <td>1000000</td>\n",
       "      <td>500000</td>\n",
       "      <td>1</td>\n",
       "      <td>0.0000</td>\n",
       "      <td>1.0</td>\n",
       "    </tr>\n",
       "    <tr>\n",
       "      <th>1</th>\n",
       "      <td>026be7f5f2f6649cb9eca52009bb855fc036814da1b703310041966a1912763d91</td>\n",
       "      <td>03e81689bfd18d0accb28d720ed222209b1a5f2c6825308772beac75b1fe35d491</td>\n",
       "      <td>1</td>\n",
       "      <td>Sats4Fun</td>\n",
       "      <td>Rust-eze (now BoltTrustiC)</td>\n",
       "      <td>2000000</td>\n",
       "      <td>500000</td>\n",
       "      <td>0</td>\n",
       "      <td>0.0000</td>\n",
       "      <td>3.0</td>\n",
       "    </tr>\n",
       "    <tr>\n",
       "      <th>2</th>\n",
       "      <td>02b4098c3116124c0c4105295d3d2e65927d46e98e248d84cb6119da57e4ae31e3</td>\n",
       "      <td>0208d92b2d406094d794b2a6a512f585dbbdee810a870283b9c5bafc4fec8ac0aa</td>\n",
       "      <td>1</td>\n",
       "      <td>VeniceForever</td>\n",
       "      <td>Eprahs</td>\n",
       "      <td>1500000</td>\n",
       "      <td>500000</td>\n",
       "      <td>1</td>\n",
       "      <td>0.0000</td>\n",
       "      <td>1.0</td>\n",
       "    </tr>\n",
       "    <tr>\n",
       "      <th>3</th>\n",
       "      <td>02bc400b9df471549c1a2071a61be27460e9726d3399370671514dd8356606bd81</td>\n",
       "      <td>037f66e84e38fc2787d578599dfe1fcb7b71f9de4fb1e453c5ab85c05f5ce8c2e3</td>\n",
       "      <td>1</td>\n",
       "      <td>Aldebaran</td>\n",
       "      <td>HODLmeTight</td>\n",
       "      <td>10000000</td>\n",
       "      <td>500000</td>\n",
       "      <td>0</td>\n",
       "      <td>0.0000</td>\n",
       "      <td>3.0</td>\n",
       "    </tr>\n",
       "    <tr>\n",
       "      <th>4</th>\n",
       "      <td>02dbdd45505ca50500f78b0c52e73747415147e0c5ca28d72450d18884c54771d8</td>\n",
       "      <td>03641a88d80a2a85bbecd770577aca9b5495616e9fef63d66ef2631b7cca1d395d</td>\n",
       "      <td>1</td>\n",
       "      <td>source-alias</td>\n",
       "      <td>Nodelou🐈</td>\n",
       "      <td>5000000</td>\n",
       "      <td>500000</td>\n",
       "      <td>0</td>\n",
       "      <td>0.0000</td>\n",
       "      <td>3.0</td>\n",
       "    </tr>\n",
       "    <tr>\n",
       "      <th>5</th>\n",
       "      <td>02ddb472c8edf0624dec5544507b705aae67d42a6cc2db133ba7e843fd5ce90135</td>\n",
       "      <td>026be7f5f2f6649cb9eca52009bb855fc036814da1b703310041966a1912763d91</td>\n",
       "      <td>1</td>\n",
       "      <td>AfricaFreeRouting</td>\n",
       "      <td>Sats4Fun</td>\n",
       "      <td>2000000</td>\n",
       "      <td>500000</td>\n",
       "      <td>0</td>\n",
       "      <td>0.0000</td>\n",
       "      <td>3.0</td>\n",
       "    </tr>\n",
       "    <tr>\n",
       "      <th>6</th>\n",
       "      <td>02f0c7b731ca40a285d7c12aa1c5c7c7caa4598d3d6d34904c3714cd0d47852640</td>\n",
       "      <td>03c8e5f583585cac1de2b7503a6ccd3c12ba477cfd139cd4905be504c2f48e86bd</td>\n",
       "      <td>1</td>\n",
       "      <td>Henwen 🐷</td>\n",
       "      <td>Strike</td>\n",
       "      <td>10000000</td>\n",
       "      <td>500000</td>\n",
       "      <td>0</td>\n",
       "      <td>0.0000</td>\n",
       "      <td>2.0</td>\n",
       "    </tr>\n",
       "    <tr>\n",
       "      <th>8</th>\n",
       "      <td>034f3f792988c43f41c65a839acdfa48647204bb99aca7de426f7c80b0dcf7a4a6</td>\n",
       "      <td>02ddb472c8edf0624dec5544507b705aae67d42a6cc2db133ba7e843fd5ce90135</td>\n",
       "      <td>1</td>\n",
       "      <td>hexagon</td>\n",
       "      <td>AfricaFreeRouting</td>\n",
       "      <td>2000000</td>\n",
       "      <td>500000</td>\n",
       "      <td>0</td>\n",
       "      <td>0.0000</td>\n",
       "      <td>1.0</td>\n",
       "    </tr>\n",
       "    <tr>\n",
       "      <th>9</th>\n",
       "      <td>03641a88d80a2a85bbecd770577aca9b5495616e9fef63d66ef2631b7cca1d395d</td>\n",
       "      <td>02bc400b9df471549c1a2071a61be27460e9726d3399370671514dd8356606bd81</td>\n",
       "      <td>1</td>\n",
       "      <td>Nodelou🐈</td>\n",
       "      <td>Aldebaran</td>\n",
       "      <td>5000000</td>\n",
       "      <td>500000</td>\n",
       "      <td>0</td>\n",
       "      <td>0.0000</td>\n",
       "      <td>3.0</td>\n",
       "    </tr>\n",
       "    <tr>\n",
       "      <th>10</th>\n",
       "      <td>0378a5312ca36773971df43f833b571d024fd7d5d216fbdf7e241b710714ef1be1</td>\n",
       "      <td>03a1f3afd646d77bdaf545cceaf079bab6057eae52c6319b63b5803d0989d6a72f</td>\n",
       "      <td>1</td>\n",
       "      <td>OneKey</td>\n",
       "      <td>destination-alias</td>\n",
       "      <td>200000000</td>\n",
       "      <td>500000</td>\n",
       "      <td>0</td>\n",
       "      <td>0.0000</td>\n",
       "      <td>2.0</td>\n",
       "    </tr>\n",
       "    <tr>\n",
       "      <th>11</th>\n",
       "      <td>037f66e84e38fc2787d578599dfe1fcb7b71f9de4fb1e453c5ab85c05f5ce8c2e3</td>\n",
       "      <td>02f0c7b731ca40a285d7c12aa1c5c7c7caa4598d3d6d34904c3714cd0d47852640</td>\n",
       "      <td>1</td>\n",
       "      <td>HODLmeTight</td>\n",
       "      <td>Henwen 🐷</td>\n",
       "      <td>10000000</td>\n",
       "      <td>500000</td>\n",
       "      <td>0</td>\n",
       "      <td>0.0000</td>\n",
       "      <td>2.0</td>\n",
       "    </tr>\n",
       "    <tr>\n",
       "      <th>13</th>\n",
       "      <td>03c8e5f583585cac1de2b7503a6ccd3c12ba477cfd139cd4905be504c2f48e86bd</td>\n",
       "      <td>0202f00d5f5c91a3c79113851b162c2b75f2cbd9fb2378fb4a4ce92d5ba1e63e08</td>\n",
       "      <td>1</td>\n",
       "      <td>Strike</td>\n",
       "      <td>ShatSat412</td>\n",
       "      <td>10000000</td>\n",
       "      <td>500000</td>\n",
       "      <td>1</td>\n",
       "      <td>0.0001</td>\n",
       "      <td>1.0</td>\n",
       "    </tr>\n",
       "    <tr>\n",
       "      <th>16</th>\n",
       "      <td>03e81689bfd18d0accb28d720ed222209b1a5f2c6825308772beac75b1fe35d491</td>\n",
       "      <td>0378a5312ca36773971df43f833b571d024fd7d5d216fbdf7e241b710714ef1be1</td>\n",
       "      <td>1</td>\n",
       "      <td>Rust-eze (now BoltTrustiC)</td>\n",
       "      <td>OneKey</td>\n",
       "      <td>10000000</td>\n",
       "      <td>500000</td>\n",
       "      <td>0</td>\n",
       "      <td>0.0000</td>\n",
       "      <td>2.0</td>\n",
       "    </tr>\n",
       "  </tbody>\n",
       "</table>\n",
       "</div>"
      ]
     },
     "execution_count": 22,
     "metadata": {},
     "output_type": "execute_result"
    }
   ],
   "execution_count": 22
  },
  {
   "metadata": {
    "ExecuteTime": {
     "end_time": "2025-01-23T20:34:02.224887Z",
     "start_time": "2025-01-23T20:34:02.216275Z"
    }
   },
   "cell_type": "code",
   "source": [
    "%%capture --no-stdout\n",
    "final[\"amount\"] = final[\"amount\"].astype(float)\n",
    "final[\"rate_fee\"] = final[\"rate_fee\"].astype(float)\n",
    "final[\"base_fee\"] = final[\"base_fee\"].astype(float)"
   ],
   "id": "cd242aef7e57fb2a",
   "outputs": [],
   "execution_count": 23
  },
  {
   "metadata": {
    "ExecuteTime": {
     "end_time": "2025-01-23T20:34:02.241093Z",
     "start_time": "2025-01-23T20:34:02.226245Z"
    }
   },
   "cell_type": "code",
   "source": [
    "total_transaction_cost = sum(final[\"amount\"]*final[\"rate_fee\"] + final[\"base_fee\"])\n",
    "perc_cost = (total_transaction_cost * 100) / transaction_amount\n",
    "print(f\"Transacting {transaction_amount} sats costs {total_transaction_cost} ({perc_cost}% of transaction amount)\")"
   ],
   "id": "69cc227421898dde",
   "outputs": [
    {
     "name": "stdout",
     "output_type": "stream",
     "text": [
      "Transacting 500000 sats costs 53.0 (0.0106% of transaction amount)\n"
     ]
    }
   ],
   "execution_count": 24
  },
  {
   "metadata": {
    "ExecuteTime": {
     "end_time": "2025-01-23T20:34:02.250385Z",
     "start_time": "2025-01-23T20:34:02.242495Z"
    }
   },
   "cell_type": "code",
   "source": "print(\"Solver Status: \",  results.solver[0][\"System time\"])",
   "id": "c0a82b19e7ce617b",
   "outputs": [
    {
     "name": "stdout",
     "output_type": "stream",
     "text": [
      "Solver Status:  76.34\n"
     ]
    }
   ],
   "execution_count": 25
  },
  {
   "metadata": {
    "ExecuteTime": {
     "end_time": "2025-01-23T20:34:02.259731Z",
     "start_time": "2025-01-23T20:34:02.251890Z"
    }
   },
   "cell_type": "code",
   "source": [
    "\n",
    "%%capture --no-stderr\n"
   ],
   "id": "2d6fe0f46435e6f8",
   "outputs": [],
   "execution_count": 26
  },
  {
   "metadata": {
    "ExecuteTime": {
     "end_time": "2025-01-23T20:34:02.743009Z",
     "start_time": "2025-01-23T20:34:02.261252Z"
    }
   },
   "cell_type": "code",
   "source": [
    "import networkx as nx\n",
    "import matplotlib.pyplot as plt\n",
    "\n",
    "# edges list construction\n",
    "edges_df = final[[\"source-alias\", \"destination-alias\"]]\n",
    "\n",
    "G = nx.from_pandas_edgelist(edges_df, \"source-alias\", \"destination-alias\", create_using=nx.DiGraph())\n",
    "\n",
    "plt.figure(figsize=(8, 6))\n",
    "pos = nx.circular_layout(G)\n",
    "nx.draw(G, pos, with_labels=True, node_size=1000, node_color='lightblue', font_size=10, font_color='black',\n",
    "        font_weight='bold', arrows=True)\n",
    "plt.title(\"Graph with Uniform Node Size\")\n",
    "plt.show()"
   ],
   "id": "d07724e41a3fb60",
   "outputs": [
    {
     "name": "stderr",
     "output_type": "stream",
     "text": [
      "/home/filippo/repositories/LN-pathfinding/venv/lib/python3.10/site-packages/IPython/core/pylabtools.py:170: UserWarning: Glyph 128008 (\\N{CAT}) missing from font(s) DejaVu Sans.\n",
      "  fig.canvas.print_figure(bytes_io, **kw)\n",
      "/home/filippo/repositories/LN-pathfinding/venv/lib/python3.10/site-packages/IPython/core/pylabtools.py:170: UserWarning: Glyph 128055 (\\N{PIG FACE}) missing from font(s) DejaVu Sans.\n",
      "  fig.canvas.print_figure(bytes_io, **kw)\n"
     ]
    },
    {
     "data": {
      "text/plain": [
       "<Figure size 800x600 with 1 Axes>"
      ],
      "image/png": "[encoded data removed]"
     },
     "metadata": {},
     "output_type": "display_data"
    }
   ],
   "execution_count": 27
  },
  {
   "metadata": {
    "ExecuteTime": {
     "end_time": "2025-01-23T20:34:02.748166Z",
     "start_time": "2025-01-23T20:34:02.744382Z"
    }
   },
   "cell_type": "code",
   "source": [
    "for i in nx.strongly_connected_components(G):\n",
    "    print(i)"
   ],
   "id": "b58c4e51a69168d8",
   "outputs": [
    {
     "name": "stdout",
     "output_type": "stream",
     "text": [
      "{'destination-alias'}\n",
      "{'OneKey'}\n",
      "{'Rust-eze (now BoltTrustiC)'}\n",
      "{'Sats4Fun'}\n",
      "{'AfricaFreeRouting'}\n",
      "{'hexagon'}\n",
      "{'Eprahs'}\n",
      "{'VeniceForever'}\n",
      "{'ShatSat412'}\n",
      "{'Strike'}\n",
      "{'Henwen 🐷'}\n",
      "{'HODLmeTight'}\n",
      "{'Aldebaran'}\n",
      "{'Nodelou🐈'}\n",
      "{'source-alias'}\n"
     ]
    }
   ],
   "execution_count": 28
  },
  {
   "metadata": {
    "ExecuteTime": {
     "end_time": "2025-01-23T20:34:02.764645Z",
     "start_time": "2025-01-23T20:34:02.748905Z"
    }
   },
   "cell_type": "code",
   "source": [
    "#from collections import Counter\n",
    "##results = [tuple(i) for i in DF_channels_pos[[\"source-alias\", \"destination-alias\"]].to_numpy()]\n",
    "#results = [tuple(i) for i in final[[\"source-alias\", \"destination-alias\"]].to_numpy()]\n",
    "#unwrap = [e for i in results for e in i]\n",
    "#extremes = [j for j in unwrap if Counter(unwrap)[j] == 1]\n",
    "#def return_source(l: list):\n",
    "#    if l[0] in [i for i, j in results]:\n",
    "#        return l[0]\n",
    "#    else: \n",
    "#        return l[1]\n",
    "#sequence = []        \n",
    "#source = return_source(extremes)\n",
    "#sequence.append(source)\n",
    "#while len(sequence) <= len(results):\n",
    "#    for i,j in results:\n",
    "#        if i == sequence[-1]:\n",
    "#            sequence.append(j)\n",
    "#for i in sequence:\n",
    "#    print(\"⬇️\", i)"
   ],
   "id": "6388d7bda8ced731",
   "outputs": [],
   "execution_count": 29
  }
 ],
 "metadata": {
  "kernelspec": {
   "display_name": "Python 3",
   "language": "python",
   "name": "python3"
  },
  "language_info": {
   "codemirror_mode": {
    "name": "ipython",
    "version": 2
   },
   "file_extension": ".py",
   "mimetype": "text/x-python",
   "name": "python",
   "nbconvert_exporter": "python",
   "pygments_lexer": "ipython2",
   "version": "2.7.6"
  }
 },
 "nbformat": 4,
 "nbformat_minor": 5
}
