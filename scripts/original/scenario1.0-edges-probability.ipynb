{
 "cells": [
  {
   "metadata": {
    "ExecuteTime": {
     "end_time": "2025-02-06T22:07:04.875897Z",
     "start_time": "2025-02-06T22:07:04.435693Z"
    }
   },
   "cell_type": "code",
   "source": [
    "import pandas as pd\n",
    "from cleaning import create_demand\n",
    "import pyomo.environ as pyo\n",
    "import pyomo\n",
    "import numpy as np"
   ],
   "id": "initial_id",
   "outputs": [],
   "execution_count": 1
  },
  {
   "metadata": {},
   "cell_type": "markdown",
   "source": "# Data import",
   "id": "a4b2795dc42b8269"
  },
  {
   "metadata": {
    "ExecuteTime": {
     "end_time": "2025-02-06T22:07:04.963266Z",
     "start_time": "2025-02-06T22:07:04.877166Z"
    }
   },
   "cell_type": "code",
   "source": [
    "nodes = pd.read_pickle(\"../../data/original/nodes.pkl\")\n",
    "channels = pd.read_pickle(\"../../data/original/channels.pkl\")"
   ],
   "id": "20748e4222156956",
   "outputs": [],
   "execution_count": 2
  },
  {
   "metadata": {},
   "cell_type": "markdown",
   "source": "## Modeling",
   "id": "7df6d25eef847cf7"
  },
  {
   "metadata": {
    "ExecuteTime": {
     "end_time": "2025-02-06T22:07:04.980454Z",
     "start_time": "2025-02-06T22:07:04.964581Z"
    }
   },
   "cell_type": "code",
   "source": "pyomo.common.timing.report_timing()",
   "id": "4a4e07a12106f0f2",
   "outputs": [
    {
     "data": {
      "text/plain": [
       "<pyomo.common.timing.report_timing at 0x7f24267c2350>"
      ]
     },
     "execution_count": 3,
     "metadata": {},
     "output_type": "execute_result"
    }
   ],
   "execution_count": 3
  },
  {
   "metadata": {
    "ExecuteTime": {
     "end_time": "2025-02-06T22:07:04.989549Z",
     "start_time": "2025-02-06T22:07:04.982744Z"
    }
   },
   "cell_type": "code",
   "source": [
    "# Multiplication to set the same base unit for all computations\n",
    "channels[\"capacity\"] = channels[\"capacity\"] * 1000000\n",
    "channels[\"base_fee\"] = channels[\"base_fee\"] * 1000000"
   ],
   "id": "eb5330e8d98289ec",
   "outputs": [],
   "execution_count": 4
  },
  {
   "metadata": {
    "ExecuteTime": {
     "end_time": "2025-02-06T22:07:06.929189Z",
     "start_time": "2025-02-06T22:07:04.990752Z"
    }
   },
   "cell_type": "code",
   "source": [
    "model = pyo.ConcreteModel(name=\"Min cost flow problem\")\n",
    "model.NODES = pyo.Set(initialize=nodes.index)\n",
    "model.CHANNELS = pyo.Set(initialize=[(channels.loc[i, \"node1_pub\"], channels.loc[i, \"node2_pub\"]) for i in channels.index])"
   ],
   "id": "52bc701c57020ae",
   "outputs": [
    {
     "name": "stdout",
     "output_type": "stream",
     "text": [
      "           0 seconds to construct Block ConcreteModel; 1 index total\n",
      "        0.02 seconds to construct Set NODES; 1 index total\n",
      "        0.34 seconds to construct Set CHANNELS; 1 index total\n"
     ]
    }
   ],
   "execution_count": 5
  },
  {
   "metadata": {
    "ExecuteTime": {
     "end_time": "2025-02-06T22:07:06.940374Z",
     "start_time": "2025-02-06T22:07:06.930255Z"
    }
   },
   "cell_type": "code",
   "source": [
    "transaction_amount = 200000\n",
    "nodes = create_demand(nodes, transaction_amount,\n",
    "                      source=\"02b4098c3116124c0c4105295d3d2e65927d46e98e248d84cb6119da57e4ae31e3\",destination=\"0202f00d5f5c91a3c79113851b162c2b75f2cbd9fb2378fb4a4ce92d5ba1e63e08\")"
   ],
   "id": "71f0e54edb55901d",
   "outputs": [
    {
     "name": "stdout",
     "output_type": "stream",
     "text": [
      "Transaction of 200000 sats.\n",
      "Sender: VeniceForever\n",
      "Receiver: ShatSat412.\n"
     ]
    }
   ],
   "execution_count": 6
  },
  {
   "metadata": {
    "ExecuteTime": {
     "end_time": "2025-02-06T22:07:07.197230Z",
     "start_time": "2025-02-06T22:07:06.941753Z"
    }
   },
   "cell_type": "code",
   "source": [
    "model.x = pyo.Var(model.CHANNELS, domain=pyo.NonNegativeIntegers, bounds=(0,1))\n",
    "model.a = pyo.Var(model.CHANNELS, domain=pyo.NonNegativeReals, bounds=(0, max(nodes[\"demand\"])))"
   ],
   "id": "db6bf92632e748f7",
   "outputs": [
    {
     "name": "stdout",
     "output_type": "stream",
     "text": [
      "        0.12 seconds to construct Var x; 89898 indices total\n",
      "        0.11 seconds to construct Var a; 89898 indices total\n"
     ]
    }
   ],
   "execution_count": 7
  },
  {
   "metadata": {
    "ExecuteTime": {
     "end_time": "2025-02-06T22:07:07.227994Z",
     "start_time": "2025-02-06T22:07:07.198185Z"
    }
   },
   "cell_type": "code",
   "source": [
    "channels.reset_index(inplace=True)\n",
    "channels.set_index([\"node1_pub\", \"node2_pub\"], inplace=True)\n",
    "channels.sort_index(inplace=True)"
   ],
   "id": "5d69bcd9f4cf6b47",
   "outputs": [],
   "execution_count": 8
  },
  {
   "metadata": {},
   "cell_type": "markdown",
   "source": [
    "### Objective function\n",
    "\n",
    "$$\n",
    "min \\sum_{} ^{} amount_i \\times feerate_{i} + x_{i} \\times basefee_{i} \\times \\frac{1}{Prob}\n",
    "$$"
   ],
   "id": "75fbeb57061b26ae"
  },
  {
   "metadata": {
    "ExecuteTime": {
     "end_time": "2025-02-06T22:17:23.312535Z",
     "start_time": "2025-02-06T22:17:23.301013Z"
    }
   },
   "cell_type": "code",
   "source": [
    "## Uniform distribution\n",
    "channels[\"prob\"] = np.random.uniform(low=0, high=channels[\"capacity\"])/channels[\"capacity\"]"
   ],
   "id": "8c1b653fc177fb64",
   "outputs": [],
   "execution_count": 30
  },
  {
   "metadata": {
    "ExecuteTime": {
     "end_time": "2025-02-06T22:16:55.898908Z",
     "start_time": "2025-02-06T22:16:55.889751Z"
    }
   },
   "cell_type": "code",
   "source": "channels",
   "id": "9df3704cdc311ff1",
   "outputs": [
    {
     "data": {
      "text/plain": [
       "                                                                                                                                                  channel_id  \\\n",
       "node1_pub                                                          node2_pub                                                                                   \n",
       "0200000000727d3b67513c916f16975e3bf8f3304cf3fcf0ed855e2ae41888f461 0360a41eb8c3fe09782ef6c984acbb003b0e1ebc4fe10ae01bab0e80d76618c8f4     914492408312299520   \n",
       "0200000000a3eff613189ca6c4070c89206ad658e286751eca1f29262948247a5f 02e4971e61a3f55718ae31e2eed19aaf2e32caf3eb5ef5ff03e01aa3ada8907e78     858567948297371650   \n",
       "                                                                   02f1a8c87607f415c8f22c00593002775941dea48869ce23096af27b0cfdcc0b69     838135723780210689   \n",
       "                                                                   02f460ae6d3d3e104f8afe520ae0cff3d94c35c2ba8df66da89f3c8006a265b90a     837978493509959681   \n",
       "020003b9499a97c8dfbbab6b196319db37ba9c37bccb60477f3c867175f417988e 0205198c099c45acedf988445f71da087ca39cd80847e53a7819e8f4e45768d7d3     906034964784021504   \n",
       "...                                                                                                                                                      ...   \n",
       "03ffc95f28306c88f5c033774ac5e59c30f6cc91e76af6cd65769803e918942352 02cc79b8d771cc79d323bd71e54ef1780cab50e7c0ef2a4beb625fc9dcbbcc6d24  INV865354134044606465   \n",
       "                                                                   02f1a8c87607f415c8f22c00593002775941dea48869ce23096af27b0cfdcc0b69  INV865369527244357633   \n",
       "03ffcd6f3e5880b2ce51de42ab922ec3c224fc47843396d84b2314c3fcbdb8bf85 0217890e3aad8d35bc054f43acc00084b25229ecff0ab68debd82883ad65ee8266  INV770366225064394752   \n",
       "                                                                   028c8c9b0b588d00afabe905799aee0225a9315cdb63d7646b7ff7cf02fe4bf643  INV770918179822239744   \n",
       "                                                                   02a04446caa81636d60d63b066f2814cbd3a6b5c258e3172cbdded7a16e2cfff4c  INV770630107742011392   \n",
       "\n",
       "                                                                                                                                       rate_fee  \\\n",
       "node1_pub                                                          node2_pub                                                                      \n",
       "0200000000727d3b67513c916f16975e3bf8f3304cf3fcf0ed855e2ae41888f461 0360a41eb8c3fe09782ef6c984acbb003b0e1ebc4fe10ae01bab0e80d76618c8f4  0.000050   \n",
       "0200000000a3eff613189ca6c4070c89206ad658e286751eca1f29262948247a5f 02e4971e61a3f55718ae31e2eed19aaf2e32caf3eb5ef5ff03e01aa3ada8907e78  0.000000   \n",
       "                                                                   02f1a8c87607f415c8f22c00593002775941dea48869ce23096af27b0cfdcc0b69  0.000100   \n",
       "                                                                   02f460ae6d3d3e104f8afe520ae0cff3d94c35c2ba8df66da89f3c8006a265b90a  0.000048   \n",
       "020003b9499a97c8dfbbab6b196319db37ba9c37bccb60477f3c867175f417988e 0205198c099c45acedf988445f71da087ca39cd80847e53a7819e8f4e45768d7d3  0.000200   \n",
       "...                                                                                                                                         ...   \n",
       "03ffc95f28306c88f5c033774ac5e59c30f6cc91e76af6cd65769803e918942352 02cc79b8d771cc79d323bd71e54ef1780cab50e7c0ef2a4beb625fc9dcbbcc6d24  0.000163   \n",
       "                                                                   02f1a8c87607f415c8f22c00593002775941dea48869ce23096af27b0cfdcc0b69  0.000100   \n",
       "03ffcd6f3e5880b2ce51de42ab922ec3c224fc47843396d84b2314c3fcbdb8bf85 0217890e3aad8d35bc054f43acc00084b25229ecff0ab68debd82883ad65ee8266  0.000001   \n",
       "                                                                   028c8c9b0b588d00afabe905799aee0225a9315cdb63d7646b7ff7cf02fe4bf643  0.000001   \n",
       "                                                                   02a04446caa81636d60d63b066f2814cbd3a6b5c258e3172cbdded7a16e2cfff4c  0.000600   \n",
       "\n",
       "                                                                                                                                        base_fee  \\\n",
       "node1_pub                                                          node2_pub                                                                       \n",
       "0200000000727d3b67513c916f16975e3bf8f3304cf3fcf0ed855e2ae41888f461 0360a41eb8c3fe09782ef6c984acbb003b0e1ebc4fe10ae01bab0e80d76618c8f4  1000000.0   \n",
       "0200000000a3eff613189ca6c4070c89206ad658e286751eca1f29262948247a5f 02e4971e61a3f55718ae31e2eed19aaf2e32caf3eb5ef5ff03e01aa3ada8907e78        0.0   \n",
       "                                                                   02f1a8c87607f415c8f22c00593002775941dea48869ce23096af27b0cfdcc0b69        0.0   \n",
       "                                                                   02f460ae6d3d3e104f8afe520ae0cff3d94c35c2ba8df66da89f3c8006a265b90a  1000000.0   \n",
       "020003b9499a97c8dfbbab6b196319db37ba9c37bccb60477f3c867175f417988e 0205198c099c45acedf988445f71da087ca39cd80847e53a7819e8f4e45768d7d3        0.0   \n",
       "...                                                                                                                                          ...   \n",
       "03ffc95f28306c88f5c033774ac5e59c30f6cc91e76af6cd65769803e918942352 02cc79b8d771cc79d323bd71e54ef1780cab50e7c0ef2a4beb625fc9dcbbcc6d24  1000000.0   \n",
       "                                                                   02f1a8c87607f415c8f22c00593002775941dea48869ce23096af27b0cfdcc0b69        0.0   \n",
       "03ffcd6f3e5880b2ce51de42ab922ec3c224fc47843396d84b2314c3fcbdb8bf85 0217890e3aad8d35bc054f43acc00084b25229ecff0ab68debd82883ad65ee8266  1000000.0   \n",
       "                                                                   028c8c9b0b588d00afabe905799aee0225a9315cdb63d7646b7ff7cf02fe4bf643   250000.0   \n",
       "                                                                   02a04446caa81636d60d63b066f2814cbd3a6b5c258e3172cbdded7a16e2cfff4c  9998000.0   \n",
       "\n",
       "                                                                                                                                             capacity  \\\n",
       "node1_pub                                                          node2_pub                                                                            \n",
       "0200000000727d3b67513c916f16975e3bf8f3304cf3fcf0ed855e2ae41888f461 0360a41eb8c3fe09782ef6c984acbb003b0e1ebc4fe10ae01bab0e80d76618c8f4   5000000000000   \n",
       "0200000000a3eff613189ca6c4070c89206ad658e286751eca1f29262948247a5f 02e4971e61a3f55718ae31e2eed19aaf2e32caf3eb5ef5ff03e01aa3ada8907e78   5000000000000   \n",
       "                                                                   02f1a8c87607f415c8f22c00593002775941dea48869ce23096af27b0cfdcc0b69  10000000000000   \n",
       "                                                                   02f460ae6d3d3e104f8afe520ae0cff3d94c35c2ba8df66da89f3c8006a265b90a   5069420000000   \n",
       "020003b9499a97c8dfbbab6b196319db37ba9c37bccb60477f3c867175f417988e 0205198c099c45acedf988445f71da087ca39cd80847e53a7819e8f4e45768d7d3  10000000000000   \n",
       "...                                                                                                                                               ...   \n",
       "03ffc95f28306c88f5c033774ac5e59c30f6cc91e76af6cd65769803e918942352 02cc79b8d771cc79d323bd71e54ef1780cab50e7c0ef2a4beb625fc9dcbbcc6d24    500000000000   \n",
       "                                                                   02f1a8c87607f415c8f22c00593002775941dea48869ce23096af27b0cfdcc0b69   1000000000000   \n",
       "03ffcd6f3e5880b2ce51de42ab922ec3c224fc47843396d84b2314c3fcbdb8bf85 0217890e3aad8d35bc054f43acc00084b25229ecff0ab68debd82883ad65ee8266    272586000000   \n",
       "                                                                   028c8c9b0b588d00afabe905799aee0225a9315cdb63d7646b7ff7cf02fe4bf643     50000000000   \n",
       "                                                                   02a04446caa81636d60d63b066f2814cbd3a6b5c258e3172cbdded7a16e2cfff4c    118000000000   \n",
       "\n",
       "                                                                                                                                           prob  \n",
       "node1_pub                                                          node2_pub                                                                     \n",
       "0200000000727d3b67513c916f16975e3bf8f3304cf3fcf0ed855e2ae41888f461 0360a41eb8c3fe09782ef6c984acbb003b0e1ebc4fe10ae01bab0e80d76618c8f4  0.756669  \n",
       "0200000000a3eff613189ca6c4070c89206ad658e286751eca1f29262948247a5f 02e4971e61a3f55718ae31e2eed19aaf2e32caf3eb5ef5ff03e01aa3ada8907e78  0.926448  \n",
       "                                                                   02f1a8c87607f415c8f22c00593002775941dea48869ce23096af27b0cfdcc0b69  0.521187  \n",
       "                                                                   02f460ae6d3d3e104f8afe520ae0cff3d94c35c2ba8df66da89f3c8006a265b90a  0.583003  \n",
       "020003b9499a97c8dfbbab6b196319db37ba9c37bccb60477f3c867175f417988e 0205198c099c45acedf988445f71da087ca39cd80847e53a7819e8f4e45768d7d3  0.957571  \n",
       "...                                                                                                                                         ...  \n",
       "03ffc95f28306c88f5c033774ac5e59c30f6cc91e76af6cd65769803e918942352 02cc79b8d771cc79d323bd71e54ef1780cab50e7c0ef2a4beb625fc9dcbbcc6d24  0.373656  \n",
       "                                                                   02f1a8c87607f415c8f22c00593002775941dea48869ce23096af27b0cfdcc0b69  0.613431  \n",
       "03ffcd6f3e5880b2ce51de42ab922ec3c224fc47843396d84b2314c3fcbdb8bf85 0217890e3aad8d35bc054f43acc00084b25229ecff0ab68debd82883ad65ee8266  0.210506  \n",
       "                                                                   028c8c9b0b588d00afabe905799aee0225a9315cdb63d7646b7ff7cf02fe4bf643  0.910509  \n",
       "                                                                   02a04446caa81636d60d63b066f2814cbd3a6b5c258e3172cbdded7a16e2cfff4c  0.116434  \n",
       "\n",
       "[89898 rows x 5 columns]"
      ],
      "text/html": [
       "<div>\n",
       "<style scoped>\n",
       "    .dataframe tbody tr th:only-of-type {\n",
       "        vertical-align: middle;\n",
       "    }\n",
       "\n",
       "    .dataframe tbody tr th {\n",
       "        vertical-align: top;\n",
       "    }\n",
       "\n",
       "    .dataframe thead th {\n",
       "        text-align: right;\n",
       "    }\n",
       "</style>\n",
       "<table border=\"1\" class=\"dataframe\">\n",
       "  <thead>\n",
       "    <tr style=\"text-align: right;\">\n",
       "      <th></th>\n",
       "      <th></th>\n",
       "      <th>channel_id</th>\n",
       "      <th>rate_fee</th>\n",
       "      <th>base_fee</th>\n",
       "      <th>capacity</th>\n",
       "      <th>prob</th>\n",
       "    </tr>\n",
       "    <tr>\n",
       "      <th>node1_pub</th>\n",
       "      <th>node2_pub</th>\n",
       "      <th></th>\n",
       "      <th></th>\n",
       "      <th></th>\n",
       "      <th></th>\n",
       "      <th></th>\n",
       "    </tr>\n",
       "  </thead>\n",
       "  <tbody>\n",
       "    <tr>\n",
       "      <th>0200000000727d3b67513c916f16975e3bf8f3304cf3fcf0ed855e2ae41888f461</th>\n",
       "      <th>0360a41eb8c3fe09782ef6c984acbb003b0e1ebc4fe10ae01bab0e80d76618c8f4</th>\n",
       "      <td>914492408312299520</td>\n",
       "      <td>0.000050</td>\n",
       "      <td>1000000.0</td>\n",
       "      <td>5000000000000</td>\n",
       "      <td>0.756669</td>\n",
       "    </tr>\n",
       "    <tr>\n",
       "      <th rowspan=\"3\" valign=\"top\">0200000000a3eff613189ca6c4070c89206ad658e286751eca1f29262948247a5f</th>\n",
       "      <th>02e4971e61a3f55718ae31e2eed19aaf2e32caf3eb5ef5ff03e01aa3ada8907e78</th>\n",
       "      <td>858567948297371650</td>\n",
       "      <td>0.000000</td>\n",
       "      <td>0.0</td>\n",
       "      <td>5000000000000</td>\n",
       "      <td>0.926448</td>\n",
       "    </tr>\n",
       "    <tr>\n",
       "      <th>02f1a8c87607f415c8f22c00593002775941dea48869ce23096af27b0cfdcc0b69</th>\n",
       "      <td>838135723780210689</td>\n",
       "      <td>0.000100</td>\n",
       "      <td>0.0</td>\n",
       "      <td>10000000000000</td>\n",
       "      <td>0.521187</td>\n",
       "    </tr>\n",
       "    <tr>\n",
       "      <th>02f460ae6d3d3e104f8afe520ae0cff3d94c35c2ba8df66da89f3c8006a265b90a</th>\n",
       "      <td>837978493509959681</td>\n",
       "      <td>0.000048</td>\n",
       "      <td>1000000.0</td>\n",
       "      <td>5069420000000</td>\n",
       "      <td>0.583003</td>\n",
       "    </tr>\n",
       "    <tr>\n",
       "      <th>020003b9499a97c8dfbbab6b196319db37ba9c37bccb60477f3c867175f417988e</th>\n",
       "      <th>0205198c099c45acedf988445f71da087ca39cd80847e53a7819e8f4e45768d7d3</th>\n",
       "      <td>906034964784021504</td>\n",
       "      <td>0.000200</td>\n",
       "      <td>0.0</td>\n",
       "      <td>10000000000000</td>\n",
       "      <td>0.957571</td>\n",
       "    </tr>\n",
       "    <tr>\n",
       "      <th>...</th>\n",
       "      <th>...</th>\n",
       "      <td>...</td>\n",
       "      <td>...</td>\n",
       "      <td>...</td>\n",
       "      <td>...</td>\n",
       "      <td>...</td>\n",
       "    </tr>\n",
       "    <tr>\n",
       "      <th rowspan=\"2\" valign=\"top\">03ffc95f28306c88f5c033774ac5e59c30f6cc91e76af6cd65769803e918942352</th>\n",
       "      <th>02cc79b8d771cc79d323bd71e54ef1780cab50e7c0ef2a4beb625fc9dcbbcc6d24</th>\n",
       "      <td>INV865354134044606465</td>\n",
       "      <td>0.000163</td>\n",
       "      <td>1000000.0</td>\n",
       "      <td>500000000000</td>\n",
       "      <td>0.373656</td>\n",
       "    </tr>\n",
       "    <tr>\n",
       "      <th>02f1a8c87607f415c8f22c00593002775941dea48869ce23096af27b0cfdcc0b69</th>\n",
       "      <td>INV865369527244357633</td>\n",
       "      <td>0.000100</td>\n",
       "      <td>0.0</td>\n",
       "      <td>1000000000000</td>\n",
       "      <td>0.613431</td>\n",
       "    </tr>\n",
       "    <tr>\n",
       "      <th rowspan=\"3\" valign=\"top\">03ffcd6f3e5880b2ce51de42ab922ec3c224fc47843396d84b2314c3fcbdb8bf85</th>\n",
       "      <th>0217890e3aad8d35bc054f43acc00084b25229ecff0ab68debd82883ad65ee8266</th>\n",
       "      <td>INV770366225064394752</td>\n",
       "      <td>0.000001</td>\n",
       "      <td>1000000.0</td>\n",
       "      <td>272586000000</td>\n",
       "      <td>0.210506</td>\n",
       "    </tr>\n",
       "    <tr>\n",
       "      <th>028c8c9b0b588d00afabe905799aee0225a9315cdb63d7646b7ff7cf02fe4bf643</th>\n",
       "      <td>INV770918179822239744</td>\n",
       "      <td>0.000001</td>\n",
       "      <td>250000.0</td>\n",
       "      <td>50000000000</td>\n",
       "      <td>0.910509</td>\n",
       "    </tr>\n",
       "    <tr>\n",
       "      <th>02a04446caa81636d60d63b066f2814cbd3a6b5c258e3172cbdded7a16e2cfff4c</th>\n",
       "      <td>INV770630107742011392</td>\n",
       "      <td>0.000600</td>\n",
       "      <td>9998000.0</td>\n",
       "      <td>118000000000</td>\n",
       "      <td>0.116434</td>\n",
       "    </tr>\n",
       "  </tbody>\n",
       "</table>\n",
       "<p>89898 rows × 5 columns</p>\n",
       "</div>"
      ]
     },
     "execution_count": 29,
     "metadata": {},
     "output_type": "execute_result"
    }
   ],
   "execution_count": 29
  },
  {
   "metadata": {
    "ExecuteTime": {
     "end_time": "2025-02-06T22:07:18.904443Z",
     "start_time": "2025-02-06T22:07:07.237934Z"
    }
   },
   "cell_type": "code",
   "source": [
    "#def objective_function(model: pyo.ConcreteModel):\n",
    "#    return sum(model.a[i] * channels.loc[i, \"rate_fee\"] for i in model.CHANNELS) + sum(model.x[i] * channels.loc[i, \"base_fee\"] for i in model.CHANNELS)\n",
    "\n",
    "def objective_function(model: pyo.ConcreteModel):\n",
    "    return sum(model.a[i] * channels.loc[i, \"rate_fee\"] + model.x[i] * channels.loc[i, \"base_fee\"] + (1/channels.loc[i, \"prob\"]) for i in model.CHANNELS)\n",
    "\n",
    "model.totalCost = pyo.Objective(rule=objective_function(model), sense=pyo.minimize)"
   ],
   "id": "f45ec00f2444e9d1",
   "outputs": [
    {
     "name": "stdout",
     "output_type": "stream",
     "text": [
      "           0 seconds to construct Objective totalCost; 1 index total\n"
     ]
    }
   ],
   "execution_count": 10
  },
  {
   "metadata": {},
   "cell_type": "markdown",
   "source": "### Constraints\n",
   "id": "861b0daa9b9cba75"
  },
  {
   "metadata": {},
   "cell_type": "markdown",
   "source": [
    "#### Capacity constraint\n",
    "\n",
    "$$amount_{i,j} \\le capacity_{i,j} \\times x_{i,j} \\text{ } \\forall (i,j) \\in E$$"
   ],
   "id": "e5ea238f92c81afb"
  },
  {
   "metadata": {
    "ExecuteTime": {
     "end_time": "2025-02-06T22:07:23.935466Z",
     "start_time": "2025-02-06T22:07:18.905405Z"
    }
   },
   "cell_type": "code",
   "source": [
    "def capacity_constraint(model: pyo.ConcreteModel, a, b):\n",
    "    return model.a[(a, b)] <= channels.loc[(a, b), \"capacity\"] * model.x[(a, b)]\n",
    "\n",
    "model.CapacityConstraint = pyo.Constraint(model.CHANNELS, rule=capacity_constraint, name=\"Capacity constraint\")"
   ],
   "id": "7d46c6418b15675a",
   "outputs": [
    {
     "name": "stdout",
     "output_type": "stream",
     "text": [
      "        5.03 seconds to construct Constraint CapacityConstraint; 89898 indices total\n"
     ]
    }
   ],
   "execution_count": 11
  },
  {
   "metadata": {},
   "cell_type": "markdown",
   "source": [
    "#### Flow balance constraint\n",
    "\n",
    "$$\\sum_{(s,i) \\in E} amount_{s,i} - \\sum_{(i,t) \\in E} amount_{i,d} = b_i \\text{ } \\forall i \\in V$$\n",
    "\n",
    "where $s$ is the source node, $d$ is the destination node, $i$ is every intermediary node\n"
   ],
   "id": "7adcde34bbdb4878"
  },
  {
   "metadata": {
    "ExecuteTime": {
     "end_time": "2025-02-06T22:07:27.331101Z",
     "start_time": "2025-02-06T22:07:23.936409Z"
    }
   },
   "cell_type": "code",
   "source": [
    "channels.reset_index(inplace=True)\n",
    "channels.set_index(\"channel_id\", inplace=True)\n",
    "\n",
    "def flow_balance_constraint(model: pyo.ConcreteModel, n: str):\n",
    "    InFlow = sum(model.a[(channels.loc[a, \"node1_pub\"], channels.loc[a, \"node2_pub\"])] for a in nodes.loc[n, 'incoming_channels'])\n",
    "    OutFlow = sum(model.a[(channels.loc[a, \"node1_pub\"], channels.loc[a, \"node2_pub\"])] for a in nodes.loc[n, 'outgoing_channels'])\n",
    "    return  OutFlow + nodes.loc[n, \"demand\"] == InFlow\n",
    "\n",
    "model.FlowBalanceConstraint = pyo.Constraint(model.NODES, rule=flow_balance_constraint, name=\"Flow balance constrain\")\n",
    "\n",
    "channels.reset_index(inplace=True)\n",
    "channels.set_index([\"node1_pub\", \"node2_pub\"], inplace=True)\n",
    "channels.sort_index(inplace=True) "
   ],
   "id": "d2b57765c3b53fc5",
   "outputs": [
    {
     "name": "stdout",
     "output_type": "stream",
     "text": [
      "        3.36 seconds to construct Constraint FlowBalanceConstraint; 11984 indices total\n"
     ]
    }
   ],
   "execution_count": 12
  },
  {
   "metadata": {},
   "cell_type": "markdown",
   "source": "",
   "id": "8c223eaeec0f4f6e"
  },
  {
   "metadata": {},
   "cell_type": "markdown",
   "source": "## Solving the model",
   "id": "b8bc8c88087daf77"
  },
  {
   "metadata": {
    "ExecuteTime": {
     "end_time": "2025-02-06T22:07:27.335119Z",
     "start_time": "2025-02-06T22:07:27.332215Z"
    }
   },
   "cell_type": "code",
   "source": [
    "#from pyomo.common.tempfiles import TempfileManager\n",
    "#TempfileManager.tempdir = \"/home/filippo/repositories/LN-pathfinding\""
   ],
   "id": "2dd413d5dd6de75f",
   "outputs": [],
   "execution_count": 13
  },
  {
   "metadata": {
    "ExecuteTime": {
     "end_time": "2025-02-06T22:07:34.322851Z",
     "start_time": "2025-02-06T22:07:27.336469Z"
    }
   },
   "cell_type": "code",
   "source": [
    "opt = pyo.SolverFactory('cbc')\n",
    "#opt = pyo.SolverFactory('cplex_direct')\n",
    "results = opt.solve(model, tee=True, keepfiles=True)\n",
    "\n",
    "if (results.solver.status == pyo.SolverStatus.ok) and (results.solver.termination_condition == pyo.TerminationCondition.optimal):\n",
    "    print('\\nOptimal solution found')\n",
    "elif results.solver.termination_condition == pyo.TerminationCondition.feasible:\n",
    "    print('\\nFeasible but not proven optimal solution found')\n",
    "elif results.solver.termination_condition == pyo.TerminationCondition.infeasible:\n",
    "    raise Exception(\"The model is infeasible\")\n",
    "else:\n",
    "    print('\\nSolver Status: ',  results.solver.status)\n",
    "    raise Exception(results.solver.status)\n",
    "\n",
    "print('\\nObject function value = ', model.Objective())\n"
   ],
   "id": "f88c7c0611694b3b",
   "outputs": [
    {
     "name": "stdout",
     "output_type": "stream",
     "text": [
      "           0 seconds to construct Var ONE_VAR_CONSTANT; 1 index total\n",
      "      [    2.19] Generated LP representation\n",
      "Solver log file: '/tmp/tmpkj1azmbi.cbc.log'\n",
      "Solver solution file: '/tmp/tmpyfrbukao.pyomo.soln'\n",
      "Solver problem files: ('/tmp/tmpyfrbukao.pyomo.lp',)\n",
      "Welcome to the CBC MILP Solver \n",
      "Version: 2.10.8 \n",
      "Build Date: May  9 2022 \n",
      "\n",
      "command line - /usr/bin/cbc -printingOptions all -import /tmp/tmpyfrbukao.pyomo.lp -stat=1 -solve -solu /tmp/tmpyfrbukao.pyomo.soln (default strategy 1)\n",
      "Option for printingOptions changed from normal to all\n",
      "Presolve 61043 (-40839) rows, 138206 (-41591) columns and 265393 (-93649) elements\n",
      "Statistics for presolved model\n",
      "Original problem has 89898 integers (89898 of which binary)\n",
      "Presolved problem has 55058 integers (55058 of which binary)\n",
      "==== 6362 zero objective 3865 different\n",
      "==== absolute objective values 3865 different\n",
      "==== for integers 0 zero objective 967 different\n",
      "==== for integers absolute objective values 967 different\n",
      "===== end objective counts\n",
      "\n",
      "\n",
      "Problem has 61043 rows, 138206 columns (131844 with objective) and 265393 elements\n",
      "There are 56868 singletons with objective \n",
      "Column breakdown:\n",
      "0 of type 0.0->inf, 83148 of type 0.0->up, 0 of type lo->inf, \n",
      "0 of type lo->up, 0 of type free, 0 of type fixed, \n",
      "0 of type -inf->0.0, 0 of type -inf->up, 55058 of type 0.0->1.0 \n",
      "Row breakdown:\n",
      "5975 of type E 0.0, 0 of type E 1.0, 0 of type E -1.0, \n",
      "2 of type E other, 0 of type G 0.0, 0 of type G 1.0, \n",
      "0 of type G other, 55058 of type L 0.0, 0 of type L 1.0, \n",
      "0 of type L other, 0 of type Range 0.0->1.0, 8 of type Range other, \n",
      "0 of type Free \n",
      "Continuous objective value is 1.7451e+18 - 0.34 seconds\n",
      "Cgl0004I processed model has 52223 rows, 124103 columns (46238 integer (46238 of which binary)) and 247753 elements\n",
      "Cbc0038I Initial state - 0 integers unsatisfied sum - 8.01732e-16\n",
      "Cbc0038I Solution found of 1.7451e+18\n",
      "Cbc0038I Relaxing continuous gives 1.7451e+18\n",
      "Cbc0038I Before mini branch and bound, 46238 integers at bound fixed and 77844 continuous\n",
      "Cbc0038I Mini branch and bound did not improve solution (1.33 seconds)\n",
      "Cbc0038I After 1.33 seconds - Feasibility pump exiting with objective of 1.7451e+18 - took 0.13 seconds\n",
      "Cbc0012I Integer solution of 1.7451e+18 found by feasibility pump after 0 iterations and 0 nodes (1.46 seconds)\n",
      "Cbc0012I Integer solution of 1.7451e+18 found by DiveCoefficient after 0 iterations and 0 nodes (1.62 seconds)\n",
      "Cbc0038I Full problem 52223 rows 124103 columns, reduced to 1809 rows 20341 columns\n",
      "Cbc0001I Search completed - best objective 1.745099985982319e+18, took 0 iterations and 0 nodes (1.88 seconds)\n",
      "Cbc0035I Maximum depth 0, 3995 variables fixed on reduced cost\n",
      "Cuts at root node changed objective from 1.7451e+18 to 1.7451e+18\n",
      "Probing was tried 0 times and created 0 cuts of which 0 were active after adding rounds of cuts (0.000 seconds)\n",
      "Gomory was tried 0 times and created 0 cuts of which 0 were active after adding rounds of cuts (0.000 seconds)\n",
      "Knapsack was tried 0 times and created 0 cuts of which 0 were active after adding rounds of cuts (0.000 seconds)\n",
      "Clique was tried 0 times and created 0 cuts of which 0 were active after adding rounds of cuts (0.000 seconds)\n",
      "MixedIntegerRounding2 was tried 0 times and created 0 cuts of which 0 were active after adding rounds of cuts (0.000 seconds)\n",
      "FlowCover was tried 0 times and created 0 cuts of which 0 were active after adding rounds of cuts (0.000 seconds)\n",
      "TwoMirCuts was tried 0 times and created 0 cuts of which 0 were active after adding rounds of cuts (0.000 seconds)\n",
      "ZeroHalf was tried 0 times and created 0 cuts of which 0 were active after adding rounds of cuts (0.000 seconds)\n",
      "\n",
      "Result - Optimal solution found\n",
      "\n",
      "Objective value:                1745099985982319360.00000000\n",
      "Enumerated nodes:               0\n",
      "Total iterations:               0\n",
      "Time (CPU seconds):             2.50\n",
      "Time (Wallclock seconds):       2.72\n",
      "\n",
      "Total time (CPU seconds):       3.15   (Wallclock seconds):       3.43\n",
      "\n",
      "\n",
      "Optimal solution found\n",
      "\n",
      "Object function value =  <pyomo.core.base.block._generic_component_decorator object at 0x7f241bbba380>\n"
     ]
    }
   ],
   "execution_count": 14
  },
  {
   "metadata": {
    "ExecuteTime": {
     "end_time": "2025-02-06T22:07:34.326438Z",
     "start_time": "2025-02-06T22:07:34.323737Z"
    }
   },
   "cell_type": "code",
   "source": [
    "#from pyomo.opt import SolverStatus, TerminationCondition\n",
    "\n",
    "print(\"Solver Status: \",  results.solver[0][\"System time\"])\n"
   ],
   "id": "8539cc0c87e2357b",
   "outputs": [
    {
     "name": "stdout",
     "output_type": "stream",
     "text": [
      "Solver Status:  3.15\n"
     ]
    }
   ],
   "execution_count": 15
  },
  {
   "metadata": {
    "ExecuteTime": {
     "end_time": "2025-02-06T22:07:34.382117Z",
     "start_time": "2025-02-06T22:07:34.327348Z"
    }
   },
   "cell_type": "code",
   "source": [
    "from decimal import Decimal\n",
    "pd.set_option('display.max_colwidth', 10000000000000000000000000000000000000000000000000000)\n",
    "DF_channels = pd.DataFrame()\n",
    "c = 0\n",
    "for index, value in model.a.extract_values().items():\n",
    "    if value > 0.1:\n",
    "        DF_channels.loc[c, \"source\"] = index[0]\n",
    "        DF_channels.loc[c, \"destination\"] = index[1]\n",
    "        try:\n",
    "            DF_channels.loc[c, \"source-alias\"] = nodes.loc[index[0], \"alias\"]\n",
    "        except KeyError:\n",
    "            print(\"Source alias not found in nodes database: placeholder inserted\")\n",
    "            DF_channels.loc[c, \"source-alias\"] = \"source-alias\"\n",
    "            pass\n",
    "        try:\n",
    "            DF_channels.loc[c, \"destination-alias\"] = nodes.loc[index[1], \"alias\"]\n",
    "        except KeyError:\n",
    "            print(\"Destination alias not found in nodes database: placeholder inserted\")\n",
    "            DF_channels.loc[c, \"destination-alias\"] = \"destination-alias\"\n",
    "            pass\n",
    "        DF_channels.loc[c, \"capacity\"] = Decimal(channels.loc[index, \"capacity\"]/1000000)\n",
    "        DF_channels.loc[c, \"amount\"] = Decimal(value/1000000)\n",
    "        DF_channels.loc[c, \"base_fee\"] = Decimal(channels.loc[(index[0], index[1]), \"base_fee\"]/1000000)\n",
    "        DF_channels.loc[c, \"rate_fee\"] = channels.loc[(index[0], index[1]), \"rate_fee\"]\n",
    "        #DF_channels.loc[c, \"used_fl\"] = channels.loc[]\n",
    "        c += 1\n",
    "\n",
    "DF_channels_pos = DF_channels[DF_channels[\"amount\"]!=0]"
   ],
   "id": "b7051d6dc41ce1a0",
   "outputs": [],
   "execution_count": 16
  },
  {
   "metadata": {
    "ExecuteTime": {
     "end_time": "2025-02-06T22:07:34.390970Z",
     "start_time": "2025-02-06T22:07:34.383067Z"
    }
   },
   "cell_type": "code",
   "source": "DF_channels[DF_channels[\"amount\"]> DF_channels[\"capacity\"]]",
   "id": "591cfe14bef33883",
   "outputs": [
    {
     "data": {
      "text/plain": [
       "Empty DataFrame\n",
       "Columns: [source, destination, source-alias, destination-alias, capacity, amount, base_fee, rate_fee]\n",
       "Index: []"
      ],
      "text/html": [
       "<div>\n",
       "<style scoped>\n",
       "    .dataframe tbody tr th:only-of-type {\n",
       "        vertical-align: middle;\n",
       "    }\n",
       "\n",
       "    .dataframe tbody tr th {\n",
       "        vertical-align: top;\n",
       "    }\n",
       "\n",
       "    .dataframe thead th {\n",
       "        text-align: right;\n",
       "    }\n",
       "</style>\n",
       "<table border=\"1\" class=\"dataframe\">\n",
       "  <thead>\n",
       "    <tr style=\"text-align: right;\">\n",
       "      <th></th>\n",
       "      <th>source</th>\n",
       "      <th>destination</th>\n",
       "      <th>source-alias</th>\n",
       "      <th>destination-alias</th>\n",
       "      <th>capacity</th>\n",
       "      <th>amount</th>\n",
       "      <th>base_fee</th>\n",
       "      <th>rate_fee</th>\n",
       "    </tr>\n",
       "  </thead>\n",
       "  <tbody>\n",
       "  </tbody>\n",
       "</table>\n",
       "</div>"
      ]
     },
     "execution_count": 17,
     "metadata": {},
     "output_type": "execute_result"
    }
   ],
   "execution_count": 17
  },
  {
   "metadata": {
    "ExecuteTime": {
     "end_time": "2025-02-06T22:08:14.211401Z",
     "start_time": "2025-02-06T22:07:34.392001Z"
    }
   },
   "cell_type": "code",
   "source": [
    "DF_fixed = pd.DataFrame()\n",
    "c = 0\n",
    "for index, value in model.x.extract_values().items():\n",
    "    if value != 0:\n",
    "        DF_fixed.loc[c, \"source\"] = index[0]\n",
    "        DF_fixed.loc[c, \"destination\"] = index[1]\n",
    "        DF_fixed.loc[c, \"used\"] = Decimal(value)\n",
    "        c += 1\n",
    "\n",
    "DF_fixed_pos = DF_fixed[DF_fixed[\"used\"]!=0]\n",
    "DF_fixed_pos"
   ],
   "id": "4150b1232fe02328",
   "outputs": [
    {
     "data": {
      "text/plain": [
       "                                                                   source  \\\n",
       "0      0200000000a3eff613189ca6c4070c89206ad658e286751eca1f29262948247a5f   \n",
       "1      0200000000a3eff613189ca6c4070c89206ad658e286751eca1f29262948247a5f   \n",
       "2      020003b9499a97c8dfbbab6b196319db37ba9c37bccb60477f3c867175f417988e   \n",
       "3      020003b9499a97c8dfbbab6b196319db37ba9c37bccb60477f3c867175f417988e   \n",
       "4      020003b9499a97c8dfbbab6b196319db37ba9c37bccb60477f3c867175f417988e   \n",
       "...                                                                   ...   \n",
       "34823  03ffb24c4740fd13bc69680c4adebba8c332ad63a9a8ee44a541831eeb73d8e72b   \n",
       "34824  03ffb24c4740fd13bc69680c4adebba8c332ad63a9a8ee44a541831eeb73d8e72b   \n",
       "34825  03ffb24c4740fd13bc69680c4adebba8c332ad63a9a8ee44a541831eeb73d8e72b   \n",
       "34826  03ffbc206a416bbf89a7092ac28e7a9e2cd99231f9b4db71f125e38cef8eb4bcda   \n",
       "34827  03ffc95f28306c88f5c033774ac5e59c30f6cc91e76af6cd65769803e918942352   \n",
       "\n",
       "                                                              destination used  \n",
       "0      02e4971e61a3f55718ae31e2eed19aaf2e32caf3eb5ef5ff03e01aa3ada8907e78    1  \n",
       "1      02f1a8c87607f415c8f22c00593002775941dea48869ce23096af27b0cfdcc0b69    1  \n",
       "2      0205198c099c45acedf988445f71da087ca39cd80847e53a7819e8f4e45768d7d3    1  \n",
       "3      0208dfa005c47a8ae85363d12c54007a38550ca0d6f1c559ee11caaac8221eccd6    1  \n",
       "4      020f7c502e19ccb375d4abc689f2c1feb6816961d4a1e2dcfa8813f11c3bc9a5e1    1  \n",
       "...                                                                   ...  ...  \n",
       "34823  0283a2c4416a4803590d46fc104a8df50455c84cb25e9efe494b3ad4739bb5b3f7    1  \n",
       "34824  0324ba2392e25bff76abd0b1f7e4b53b5f82aa53fddc3419b051b6c801db9e2247    1  \n",
       "34825  03910da61c1b42e135f134ed92a537c758d1edac5436efbec5ee8cec1928e1a095    1  \n",
       "34826  026a0d374752a27ae489c37d6b37d76d9d7f8ad27a469d091d740018bbfbfdcf3a    1  \n",
       "34827  02f1a8c87607f415c8f22c00593002775941dea48869ce23096af27b0cfdcc0b69    1  \n",
       "\n",
       "[34828 rows x 3 columns]"
      ],
      "text/html": [
       "<div>\n",
       "<style scoped>\n",
       "    .dataframe tbody tr th:only-of-type {\n",
       "        vertical-align: middle;\n",
       "    }\n",
       "\n",
       "    .dataframe tbody tr th {\n",
       "        vertical-align: top;\n",
       "    }\n",
       "\n",
       "    .dataframe thead th {\n",
       "        text-align: right;\n",
       "    }\n",
       "</style>\n",
       "<table border=\"1\" class=\"dataframe\">\n",
       "  <thead>\n",
       "    <tr style=\"text-align: right;\">\n",
       "      <th></th>\n",
       "      <th>source</th>\n",
       "      <th>destination</th>\n",
       "      <th>used</th>\n",
       "    </tr>\n",
       "  </thead>\n",
       "  <tbody>\n",
       "    <tr>\n",
       "      <th>0</th>\n",
       "      <td>0200000000a3eff613189ca6c4070c89206ad658e286751eca1f29262948247a5f</td>\n",
       "      <td>02e4971e61a3f55718ae31e2eed19aaf2e32caf3eb5ef5ff03e01aa3ada8907e78</td>\n",
       "      <td>1</td>\n",
       "    </tr>\n",
       "    <tr>\n",
       "      <th>1</th>\n",
       "      <td>0200000000a3eff613189ca6c4070c89206ad658e286751eca1f29262948247a5f</td>\n",
       "      <td>02f1a8c87607f415c8f22c00593002775941dea48869ce23096af27b0cfdcc0b69</td>\n",
       "      <td>1</td>\n",
       "    </tr>\n",
       "    <tr>\n",
       "      <th>2</th>\n",
       "      <td>020003b9499a97c8dfbbab6b196319db37ba9c37bccb60477f3c867175f417988e</td>\n",
       "      <td>0205198c099c45acedf988445f71da087ca39cd80847e53a7819e8f4e45768d7d3</td>\n",
       "      <td>1</td>\n",
       "    </tr>\n",
       "    <tr>\n",
       "      <th>3</th>\n",
       "      <td>020003b9499a97c8dfbbab6b196319db37ba9c37bccb60477f3c867175f417988e</td>\n",
       "      <td>0208dfa005c47a8ae85363d12c54007a38550ca0d6f1c559ee11caaac8221eccd6</td>\n",
       "      <td>1</td>\n",
       "    </tr>\n",
       "    <tr>\n",
       "      <th>4</th>\n",
       "      <td>020003b9499a97c8dfbbab6b196319db37ba9c37bccb60477f3c867175f417988e</td>\n",
       "      <td>020f7c502e19ccb375d4abc689f2c1feb6816961d4a1e2dcfa8813f11c3bc9a5e1</td>\n",
       "      <td>1</td>\n",
       "    </tr>\n",
       "    <tr>\n",
       "      <th>...</th>\n",
       "      <td>...</td>\n",
       "      <td>...</td>\n",
       "      <td>...</td>\n",
       "    </tr>\n",
       "    <tr>\n",
       "      <th>34823</th>\n",
       "      <td>03ffb24c4740fd13bc69680c4adebba8c332ad63a9a8ee44a541831eeb73d8e72b</td>\n",
       "      <td>0283a2c4416a4803590d46fc104a8df50455c84cb25e9efe494b3ad4739bb5b3f7</td>\n",
       "      <td>1</td>\n",
       "    </tr>\n",
       "    <tr>\n",
       "      <th>34824</th>\n",
       "      <td>03ffb24c4740fd13bc69680c4adebba8c332ad63a9a8ee44a541831eeb73d8e72b</td>\n",
       "      <td>0324ba2392e25bff76abd0b1f7e4b53b5f82aa53fddc3419b051b6c801db9e2247</td>\n",
       "      <td>1</td>\n",
       "    </tr>\n",
       "    <tr>\n",
       "      <th>34825</th>\n",
       "      <td>03ffb24c4740fd13bc69680c4adebba8c332ad63a9a8ee44a541831eeb73d8e72b</td>\n",
       "      <td>03910da61c1b42e135f134ed92a537c758d1edac5436efbec5ee8cec1928e1a095</td>\n",
       "      <td>1</td>\n",
       "    </tr>\n",
       "    <tr>\n",
       "      <th>34826</th>\n",
       "      <td>03ffbc206a416bbf89a7092ac28e7a9e2cd99231f9b4db71f125e38cef8eb4bcda</td>\n",
       "      <td>026a0d374752a27ae489c37d6b37d76d9d7f8ad27a469d091d740018bbfbfdcf3a</td>\n",
       "      <td>1</td>\n",
       "    </tr>\n",
       "    <tr>\n",
       "      <th>34827</th>\n",
       "      <td>03ffc95f28306c88f5c033774ac5e59c30f6cc91e76af6cd65769803e918942352</td>\n",
       "      <td>02f1a8c87607f415c8f22c00593002775941dea48869ce23096af27b0cfdcc0b69</td>\n",
       "      <td>1</td>\n",
       "    </tr>\n",
       "  </tbody>\n",
       "</table>\n",
       "<p>34828 rows × 3 columns</p>\n",
       "</div>"
      ]
     },
     "execution_count": 18,
     "metadata": {},
     "output_type": "execute_result"
    }
   ],
   "execution_count": 18
  },
  {
   "metadata": {},
   "cell_type": "markdown",
   "source": "### All data about channels on path",
   "id": "1dfb4bcd7e78f159"
  },
  {
   "metadata": {
    "ExecuteTime": {
     "end_time": "2025-02-06T22:08:14.233307Z",
     "start_time": "2025-02-06T22:08:14.212590Z"
    }
   },
   "cell_type": "code",
   "source": [
    "intersection = DF_fixed_pos.merge(DF_channels_pos, on=[\"source\", \"destination\"], how=\"outer\")\n",
    "final = intersection[intersection[\"amount\"]>0]\n",
    "final"
   ],
   "id": "ab555f0c48920c85",
   "outputs": [
    {
     "data": {
      "text/plain": [
       "                                                                   source  \\\n",
       "5582   025f1456582e70c4c06b61d5c8ed3ce229e6d0db538be337a2dc6d163b0ebc05a5   \n",
       "5758   0260fab633066ed7b1d9b9b8a0fac87e1579d1709e874d28a0d171a1f5c43bb877   \n",
       "11034  02b4098c3116124c0c4105295d3d2e65927d46e98e248d84cb6119da57e4ae31e3   \n",
       "14619  02f0c7b731ca40a285d7c12aa1c5c7c7caa4598d3d6d34904c3714cd0d47852640   \n",
       "15325  02f49ea881d143aa97a8ab464d1fcbe8da54d2b226c87cfab40a674e656a5149bd   \n",
       "27332  038c5b2d6a0fe180d1be557d49f7f982190957edf20a4c05a305d7aed17c156ef0   \n",
       "27446  038dea9341a1be887457b117ef70e8a4a87ca03163e0cda3f1e2254e2a7590d3ac   \n",
       "31385  03c8e5f583585cac1de2b7503a6ccd3c12ba477cfd139cd4905be504c2f48e86bd   \n",
       "\n",
       "                                                              destination  \\\n",
       "5582   038c5b2d6a0fe180d1be557d49f7f982190957edf20a4c05a305d7aed17c156ef0   \n",
       "5758   02f0c7b731ca40a285d7c12aa1c5c7c7caa4598d3d6d34904c3714cd0d47852640   \n",
       "11034  038dea9341a1be887457b117ef70e8a4a87ca03163e0cda3f1e2254e2a7590d3ac   \n",
       "14619  03c8e5f583585cac1de2b7503a6ccd3c12ba477cfd139cd4905be504c2f48e86bd   \n",
       "15325  025f1456582e70c4c06b61d5c8ed3ce229e6d0db538be337a2dc6d163b0ebc05a5   \n",
       "27332  0260fab633066ed7b1d9b9b8a0fac87e1579d1709e874d28a0d171a1f5c43bb877   \n",
       "27446  02f49ea881d143aa97a8ab464d1fcbe8da54d2b226c87cfab40a674e656a5149bd   \n",
       "31385  0202f00d5f5c91a3c79113851b162c2b75f2cbd9fb2378fb4a4ce92d5ba1e63e08   \n",
       "\n",
       "      used            source-alias       destination-alias  capacity  amount  \\\n",
       "5582     1  Moon (paywithmoon.com)               Nodebrook   5000000  200000   \n",
       "5758     1               TangoBolt                Henwen 🐷  10000000  200000   \n",
       "11034    1           VeniceForever               tantundem    500000  200000   \n",
       "14619    1                Henwen 🐷                  Strike  10000000  200000   \n",
       "15325    1              sol-system  Moon (paywithmoon.com)    200000  200000   \n",
       "27332    1               Nodebrook               TangoBolt   5000000  200000   \n",
       "27446    1               tantundem              sol-system    500000  200000   \n",
       "31385    1                  Strike              ShatSat412  10000000  200000   \n",
       "\n",
       "                                                             base_fee  \\\n",
       "5582                                                                0   \n",
       "5758                                                                0   \n",
       "11034  0.001000000000000000020816681711721685132943093776702880859375   \n",
       "14619                                                               0   \n",
       "15325                                                               1   \n",
       "27332                                                               0   \n",
       "27446                                                               0   \n",
       "31385                                                               1   \n",
       "\n",
       "       rate_fee  \n",
       "5582   0.000000  \n",
       "5758   0.000000  \n",
       "11034  0.000000  \n",
       "14619  0.000000  \n",
       "15325  0.000001  \n",
       "27332  0.000000  \n",
       "27446  0.000000  \n",
       "31385  0.000100  "
      ],
      "text/html": [
       "<div>\n",
       "<style scoped>\n",
       "    .dataframe tbody tr th:only-of-type {\n",
       "        vertical-align: middle;\n",
       "    }\n",
       "\n",
       "    .dataframe tbody tr th {\n",
       "        vertical-align: top;\n",
       "    }\n",
       "\n",
       "    .dataframe thead th {\n",
       "        text-align: right;\n",
       "    }\n",
       "</style>\n",
       "<table border=\"1\" class=\"dataframe\">\n",
       "  <thead>\n",
       "    <tr style=\"text-align: right;\">\n",
       "      <th></th>\n",
       "      <th>source</th>\n",
       "      <th>destination</th>\n",
       "      <th>used</th>\n",
       "      <th>source-alias</th>\n",
       "      <th>destination-alias</th>\n",
       "      <th>capacity</th>\n",
       "      <th>amount</th>\n",
       "      <th>base_fee</th>\n",
       "      <th>rate_fee</th>\n",
       "    </tr>\n",
       "  </thead>\n",
       "  <tbody>\n",
       "    <tr>\n",
       "      <th>5582</th>\n",
       "      <td>025f1456582e70c4c06b61d5c8ed3ce229e6d0db538be337a2dc6d163b0ebc05a5</td>\n",
       "      <td>038c5b2d6a0fe180d1be557d49f7f982190957edf20a4c05a305d7aed17c156ef0</td>\n",
       "      <td>1</td>\n",
       "      <td>Moon (paywithmoon.com)</td>\n",
       "      <td>Nodebrook</td>\n",
       "      <td>5000000</td>\n",
       "      <td>200000</td>\n",
       "      <td>0</td>\n",
       "      <td>0.000000</td>\n",
       "    </tr>\n",
       "    <tr>\n",
       "      <th>5758</th>\n",
       "      <td>0260fab633066ed7b1d9b9b8a0fac87e1579d1709e874d28a0d171a1f5c43bb877</td>\n",
       "      <td>02f0c7b731ca40a285d7c12aa1c5c7c7caa4598d3d6d34904c3714cd0d47852640</td>\n",
       "      <td>1</td>\n",
       "      <td>TangoBolt</td>\n",
       "      <td>Henwen 🐷</td>\n",
       "      <td>10000000</td>\n",
       "      <td>200000</td>\n",
       "      <td>0</td>\n",
       "      <td>0.000000</td>\n",
       "    </tr>\n",
       "    <tr>\n",
       "      <th>11034</th>\n",
       "      <td>02b4098c3116124c0c4105295d3d2e65927d46e98e248d84cb6119da57e4ae31e3</td>\n",
       "      <td>038dea9341a1be887457b117ef70e8a4a87ca03163e0cda3f1e2254e2a7590d3ac</td>\n",
       "      <td>1</td>\n",
       "      <td>VeniceForever</td>\n",
       "      <td>tantundem</td>\n",
       "      <td>500000</td>\n",
       "      <td>200000</td>\n",
       "      <td>0.001000000000000000020816681711721685132943093776702880859375</td>\n",
       "      <td>0.000000</td>\n",
       "    </tr>\n",
       "    <tr>\n",
       "      <th>14619</th>\n",
       "      <td>02f0c7b731ca40a285d7c12aa1c5c7c7caa4598d3d6d34904c3714cd0d47852640</td>\n",
       "      <td>03c8e5f583585cac1de2b7503a6ccd3c12ba477cfd139cd4905be504c2f48e86bd</td>\n",
       "      <td>1</td>\n",
       "      <td>Henwen 🐷</td>\n",
       "      <td>Strike</td>\n",
       "      <td>10000000</td>\n",
       "      <td>200000</td>\n",
       "      <td>0</td>\n",
       "      <td>0.000000</td>\n",
       "    </tr>\n",
       "    <tr>\n",
       "      <th>15325</th>\n",
       "      <td>02f49ea881d143aa97a8ab464d1fcbe8da54d2b226c87cfab40a674e656a5149bd</td>\n",
       "      <td>025f1456582e70c4c06b61d5c8ed3ce229e6d0db538be337a2dc6d163b0ebc05a5</td>\n",
       "      <td>1</td>\n",
       "      <td>sol-system</td>\n",
       "      <td>Moon (paywithmoon.com)</td>\n",
       "      <td>200000</td>\n",
       "      <td>200000</td>\n",
       "      <td>1</td>\n",
       "      <td>0.000001</td>\n",
       "    </tr>\n",
       "    <tr>\n",
       "      <th>27332</th>\n",
       "      <td>038c5b2d6a0fe180d1be557d49f7f982190957edf20a4c05a305d7aed17c156ef0</td>\n",
       "      <td>0260fab633066ed7b1d9b9b8a0fac87e1579d1709e874d28a0d171a1f5c43bb877</td>\n",
       "      <td>1</td>\n",
       "      <td>Nodebrook</td>\n",
       "      <td>TangoBolt</td>\n",
       "      <td>5000000</td>\n",
       "      <td>200000</td>\n",
       "      <td>0</td>\n",
       "      <td>0.000000</td>\n",
       "    </tr>\n",
       "    <tr>\n",
       "      <th>27446</th>\n",
       "      <td>038dea9341a1be887457b117ef70e8a4a87ca03163e0cda3f1e2254e2a7590d3ac</td>\n",
       "      <td>02f49ea881d143aa97a8ab464d1fcbe8da54d2b226c87cfab40a674e656a5149bd</td>\n",
       "      <td>1</td>\n",
       "      <td>tantundem</td>\n",
       "      <td>sol-system</td>\n",
       "      <td>500000</td>\n",
       "      <td>200000</td>\n",
       "      <td>0</td>\n",
       "      <td>0.000000</td>\n",
       "    </tr>\n",
       "    <tr>\n",
       "      <th>31385</th>\n",
       "      <td>03c8e5f583585cac1de2b7503a6ccd3c12ba477cfd139cd4905be504c2f48e86bd</td>\n",
       "      <td>0202f00d5f5c91a3c79113851b162c2b75f2cbd9fb2378fb4a4ce92d5ba1e63e08</td>\n",
       "      <td>1</td>\n",
       "      <td>Strike</td>\n",
       "      <td>ShatSat412</td>\n",
       "      <td>10000000</td>\n",
       "      <td>200000</td>\n",
       "      <td>1</td>\n",
       "      <td>0.000100</td>\n",
       "    </tr>\n",
       "  </tbody>\n",
       "</table>\n",
       "</div>"
      ]
     },
     "execution_count": 19,
     "metadata": {},
     "output_type": "execute_result"
    }
   ],
   "execution_count": 19
  },
  {
   "metadata": {
    "ExecuteTime": {
     "end_time": "2025-02-06T22:08:14.239561Z",
     "start_time": "2025-02-06T22:08:14.234276Z"
    }
   },
   "cell_type": "code",
   "source": [
    "%%capture --no-stdout\n",
    "final[\"amount\"] = final[\"amount\"].astype(float)\n",
    "final[\"rate_fee\"] = final[\"rate_fee\"].astype(float)\n",
    "final[\"base_fee\"] = final[\"base_fee\"].astype(float)\n",
    "total_transaction_cost = sum(final[\"amount\"] * final[\"rate_fee\"] + final[\"base_fee\"])\n",
    "perc_cost = (total_transaction_cost * 100) / transaction_amount\n",
    "print(f\"Transacting {transaction_amount} sats costs {total_transaction_cost} ({perc_cost}% of transaction amount)\")"
   ],
   "id": "5cb9ca4869b126de",
   "outputs": [
    {
     "name": "stdout",
     "output_type": "stream",
     "text": [
      "Transacting 200000 sats costs 22.201 (0.0111005% of transaction amount)\n"
     ]
    }
   ],
   "execution_count": 20
  },
  {
   "metadata": {
    "ExecuteTime": {
     "end_time": "2025-02-06T22:08:15.078591Z",
     "start_time": "2025-02-06T22:08:14.240509Z"
    }
   },
   "cell_type": "code",
   "source": [
    "import networkx as nx\n",
    "import matplotlib.pyplot as plt\n",
    "\n",
    "# edges list construction\n",
    "edges_df = final[[\"source-alias\", \"destination-alias\"]]\n",
    "\n",
    "G = nx.from_pandas_edgelist(edges_df, \"source-alias\", \"destination-alias\", create_using=nx.DiGraph())\n",
    "\n",
    "#plt.figure(figsize=(8, 6))\n",
    "#pos = nx.spring_layout(G)\n",
    "#nx.draw(G, pos, with_labels=True, node_size=2000, node_color='lightblue', font_size=10, font_color='black', font_weight='bold', arrows=True)\n",
    "#plt.title(\"Graph from DataFrame of Edges\")\n",
    "#plt.show()\n",
    "\n",
    "\n",
    "plt.figure(figsize=(8, 6))\n",
    "#pos = nx.spring_layout(G) \n",
    "#pos = nx.circular_layout(G)\n",
    "#pos = nx.planar_layout(G)\n",
    "pos = nx.shell_layout(G)\n",
    "nx.draw(G, pos, with_labels=True, node_size=1000, node_color='lightblue', font_size=10, font_color='black', font_weight='bold', arrows=True)\n",
    "plt.title(\"Graph with Uniform Node Size\")\n",
    "plt.show()"
   ],
   "id": "d7e96330eab65421",
   "outputs": [
    {
     "name": "stderr",
     "output_type": "stream",
     "text": [
      "/home/filippo/repositories/LN-pathfinding/venv/lib/python3.10/site-packages/IPython/core/pylabtools.py:170: UserWarning: Glyph 128055 (\\N{PIG FACE}) missing from font(s) DejaVu Sans.\n",
      "  fig.canvas.print_figure(bytes_io, **kw)\n"
     ]
    },
    {
     "data": {
      "text/plain": [
       "<Figure size 800x600 with 1 Axes>"
      ],
      "image/png": "[encoded data removed]"
     },
     "metadata": {},
     "output_type": "display_data"
    }
   ],
   "execution_count": 21
  },
  {
   "metadata": {
    "ExecuteTime": {
     "end_time": "2025-02-06T22:08:15.083188Z",
     "start_time": "2025-02-06T22:08:15.079765Z"
    }
   },
   "cell_type": "code",
   "source": [
    "for i in nx.strongly_connected_components(G):\n",
    "    print(i)"
   ],
   "id": "ba678151d648b088",
   "outputs": [
    {
     "name": "stdout",
     "output_type": "stream",
     "text": [
      "{'ShatSat412'}\n",
      "{'Strike'}\n",
      "{'Henwen 🐷'}\n",
      "{'TangoBolt'}\n",
      "{'Nodebrook'}\n",
      "{'Moon (paywithmoon.com)'}\n",
      "{'sol-system'}\n",
      "{'tantundem'}\n",
      "{'VeniceForever'}\n"
     ]
    }
   ],
   "execution_count": 22
  },
  {
   "metadata": {
    "ExecuteTime": {
     "end_time": "2025-02-06T22:08:15.125679Z",
     "start_time": "2025-02-06T22:08:15.084085Z"
    }
   },
   "cell_type": "code",
   "source": [
    "final[\"amount\"] = final[\"amount\"].astype(float)\n",
    "final[\"rate_fee\"] = final[\"rate_fee\"].astype(float)\n",
    "final[\"base_fee\"] = final[\"base_fee\"].astype(float)\n",
    "total_transaction_cost = sum(final[\"amount\"] * final[\"rate_fee\"] + final[\"base_fee\"])\n",
    "perc_cost = (total_transaction_cost * 100) / transaction_amount\n",
    "print(f\"Transacting {transaction_amount} sats costs {total_transaction_cost} ({perc_cost}% of transaction amount)\")\n",
    "print(\"Solver Status: \", results.solver[0][\"System time\"])"
   ],
   "id": "85a5678d800efad8",
   "outputs": [
    {
     "name": "stdout",
     "output_type": "stream",
     "text": [
      "Transacting 200000 sats costs 22.201 (0.0111005% of transaction amount)\n",
      "Solver Status:  3.15\n"
     ]
    },
    {
     "name": "stderr",
     "output_type": "stream",
     "text": [
      "/tmp/ipykernel_34702/930812685.py:1: SettingWithCopyWarning: \n",
      "A value is trying to be set on a copy of a slice from a DataFrame.\n",
      "Try using .loc[row_indexer,col_indexer] = value instead\n",
      "\n",
      "See the caveats in the documentation: https://pandas.pydata.org/pandas-docs/stable/user_guide/indexing.html#returning-a-view-versus-a-copy\n",
      "  final[\"amount\"] = final[\"amount\"].astype(float)\n",
      "/tmp/ipykernel_34702/930812685.py:2: SettingWithCopyWarning: \n",
      "A value is trying to be set on a copy of a slice from a DataFrame.\n",
      "Try using .loc[row_indexer,col_indexer] = value instead\n",
      "\n",
      "See the caveats in the documentation: https://pandas.pydata.org/pandas-docs/stable/user_guide/indexing.html#returning-a-view-versus-a-copy\n",
      "  final[\"rate_fee\"] = final[\"rate_fee\"].astype(float)\n",
      "/tmp/ipykernel_34702/930812685.py:3: SettingWithCopyWarning: \n",
      "A value is trying to be set on a copy of a slice from a DataFrame.\n",
      "Try using .loc[row_indexer,col_indexer] = value instead\n",
      "\n",
      "See the caveats in the documentation: https://pandas.pydata.org/pandas-docs/stable/user_guide/indexing.html#returning-a-view-versus-a-copy\n",
      "  final[\"base_fee\"] = final[\"base_fee\"].astype(float)\n"
     ]
    }
   ],
   "execution_count": 23
  },
  {
   "metadata": {
    "ExecuteTime": {
     "end_time": "2025-02-06T22:08:15.145768Z",
     "start_time": "2025-02-06T22:08:15.126880Z"
    }
   },
   "cell_type": "code",
   "source": [
    "#from collections import Counter\n",
    "#results = [tuple(i) for i in DF_channels_pos[[\"source-alias\", \"destination-alias\"]].to_numpy()]\n",
    "#unwrap = [e for i in results for e in i]\n",
    "#extremes = [j for j in unwrap if Counter(unwrap)[j] == 1]\n",
    "#def return_source(l: list):\n",
    "#    if l[0] in [i for i, j in results]:\n",
    "#        return l[0]\n",
    "#    else: \n",
    "#        return l[1]\n",
    "#sequence = []        \n",
    "#source = return_source(extremes)\n",
    "#sequence.append(source)\n",
    "#while len(sequence) <= len(results):\n",
    "#    for i,j in results:\n",
    "#        if i == sequence[-1]:\n",
    "#            sequence.append(j)\n",
    "#for i in sequence:\n",
    "#    print(\"⬇️\", i)"
   ],
   "id": "6388d7bda8ced731",
   "outputs": [],
   "execution_count": 24
  }
 ],
 "metadata": {
  "kernelspec": {
   "display_name": "Python 3",
   "language": "python",
   "name": "python3"
  },
  "language_info": {
   "codemirror_mode": {
    "name": "ipython",
    "version": 2
   },
   "file_extension": ".py",
   "mimetype": "text/x-python",
   "name": "python",
   "nbconvert_exporter": "python",
   "pygments_lexer": "ipython2",
   "version": "2.7.6"
  }
 },
 "nbformat": 4,
 "nbformat_minor": 5
}
