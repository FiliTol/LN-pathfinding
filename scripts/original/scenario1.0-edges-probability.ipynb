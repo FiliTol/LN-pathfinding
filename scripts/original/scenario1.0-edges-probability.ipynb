{
 "cells": [
  {
   "metadata": {
    "ExecuteTime": {
     "end_time": "2025-02-15T15:13:02.720469Z",
     "start_time": "2025-02-15T15:13:01.997114Z"
    }
   },
   "cell_type": "code",
   "source": [
    "import pandas as pd\n",
    "from cleaning import create_demand\n",
    "import pyomo.environ as pyo\n",
    "import pyomo\n",
    "import numpy as np\n",
    "import random"
   ],
   "id": "initial_id",
   "outputs": [],
   "execution_count": 1
  },
  {
   "metadata": {},
   "cell_type": "markdown",
   "source": "# Data import",
   "id": "a4b2795dc42b8269"
  },
  {
   "metadata": {
    "ExecuteTime": {
     "end_time": "2025-02-15T15:13:02.851658Z",
     "start_time": "2025-02-15T15:13:02.724238Z"
    }
   },
   "cell_type": "code",
   "source": [
    "nodes = pd.read_pickle(\"../../data/original/nodes.pkl\")\n",
    "channels = pd.read_pickle(\"../../data/original/channels.pkl\")"
   ],
   "id": "20748e4222156956",
   "outputs": [],
   "execution_count": 2
  },
  {
   "metadata": {
    "ExecuteTime": {
     "end_time": "2025-02-15T15:13:02.953539Z",
     "start_time": "2025-02-15T15:13:02.852959Z"
    }
   },
   "cell_type": "code",
   "source": [
    "channels[\"base_fee\"] = channels.loc[:, \"base_fee\"].apply(lambda x: random.uniform(0,100)) # if x==0 else x)\n",
    "channels[\"rate_fee\"] = channels.loc[:, \"rate_fee\"].apply(lambda x: random.uniform(0.001,0.1)) # if x==0 else x)"
   ],
   "id": "966c0cd4b1a08561",
   "outputs": [],
   "execution_count": 3
  },
  {
   "metadata": {},
   "cell_type": "markdown",
   "source": "## Modeling",
   "id": "7df6d25eef847cf7"
  },
  {
   "metadata": {
    "ExecuteTime": {
     "end_time": "2025-02-15T15:13:02.962313Z",
     "start_time": "2025-02-15T15:13:02.955143Z"
    }
   },
   "cell_type": "code",
   "source": "pyomo.common.timing.report_timing()",
   "id": "4a4e07a12106f0f2",
   "outputs": [
    {
     "data": {
      "text/plain": [
       "<pyomo.common.timing.report_timing at 0x7f98b1b5afe0>"
      ]
     },
     "execution_count": 4,
     "metadata": {},
     "output_type": "execute_result"
    }
   ],
   "execution_count": 4
  },
  {
   "metadata": {
    "ExecuteTime": {
     "end_time": "2025-02-15T15:13:02.975270Z",
     "start_time": "2025-02-15T15:13:02.964052Z"
    }
   },
   "cell_type": "code",
   "source": [
    "# Multiplication to set the same base unit for all computations\n",
    "channels[\"capacity\"] = channels[\"capacity\"] * 1000000\n",
    "channels[\"base_fee\"] = channels[\"base_fee\"] * 1000000"
   ],
   "id": "eb5330e8d98289ec",
   "outputs": [],
   "execution_count": 5
  },
  {
   "metadata": {
    "ExecuteTime": {
     "end_time": "2025-02-15T15:13:05.959846Z",
     "start_time": "2025-02-15T15:13:02.977039Z"
    }
   },
   "cell_type": "code",
   "source": [
    "model = pyo.ConcreteModel(name=\"Min cost flow problem\")\n",
    "model.NODES = pyo.Set(initialize=nodes.index)\n",
    "model.CHANNELS = pyo.Set(initialize=[(channels.loc[i, \"node1_pub\"], channels.loc[i, \"node2_pub\"]) for i in channels.index])"
   ],
   "id": "52bc701c57020ae",
   "outputs": [
    {
     "name": "stdout",
     "output_type": "stream",
     "text": [
      "           0 seconds to construct Block ConcreteModel; 1 index total\n",
      "        0.03 seconds to construct Set NODES; 1 index total\n",
      "        0.39 seconds to construct Set CHANNELS; 1 index total\n"
     ]
    }
   ],
   "execution_count": 6
  },
  {
   "metadata": {
    "ExecuteTime": {
     "end_time": "2025-02-15T15:13:05.971555Z",
     "start_time": "2025-02-15T15:13:05.961103Z"
    }
   },
   "cell_type": "code",
   "source": [
    "transaction_amount = 1000000\n",
    "nodes = create_demand(nodes, transaction_amount,\n",
    "                      source=\"02b4098c3116124c0c4105295d3d2e65927d46e98e248d84cb6119da57e4ae31e3\",destination=\"0202f00d5f5c91a3c79113851b162c2b75f2cbd9fb2378fb4a4ce92d5ba1e63e08\")"
   ],
   "id": "71f0e54edb55901d",
   "outputs": [
    {
     "name": "stdout",
     "output_type": "stream",
     "text": [
      "Transaction of 1000000 sats.\n",
      "Sender: VeniceForever\n",
      "Receiver: ShatSat412.\n"
     ]
    }
   ],
   "execution_count": 7
  },
  {
   "metadata": {
    "ExecuteTime": {
     "end_time": "2025-02-15T15:13:06.274717Z",
     "start_time": "2025-02-15T15:13:05.973071Z"
    }
   },
   "cell_type": "code",
   "source": [
    "model.x = pyo.Var(model.CHANNELS, domain=pyo.NonNegativeIntegers, bounds=(0,1))\n",
    "model.a = pyo.Var(model.CHANNELS, domain=pyo.NonNegativeReals, bounds=(0, max(nodes[\"demand\"])))"
   ],
   "id": "db6bf92632e748f7",
   "outputs": [
    {
     "name": "stdout",
     "output_type": "stream",
     "text": [
      "        0.15 seconds to construct Var x; 89898 indices total\n",
      "        0.14 seconds to construct Var a; 89898 indices total\n"
     ]
    }
   ],
   "execution_count": 8
  },
  {
   "metadata": {
    "ExecuteTime": {
     "end_time": "2025-02-15T15:13:06.314234Z",
     "start_time": "2025-02-15T15:13:06.275765Z"
    }
   },
   "cell_type": "code",
   "source": [
    "channels.reset_index(inplace=True)\n",
    "channels.set_index([\"node1_pub\", \"node2_pub\"], inplace=True)\n",
    "channels.sort_index(inplace=True)"
   ],
   "id": "5d69bcd9f4cf6b47",
   "outputs": [],
   "execution_count": 9
  },
  {
   "metadata": {},
   "cell_type": "markdown",
   "source": [
    "### Objective function\n",
    "\n",
    "$$\n",
    "min \\sum_{} ^{} amount_i \\times feerate_{i} + x_{i} \\times basefee_{i} + x_{i} \\times \\frac{1}{Prob_{i}}\n",
    "$$"
   ],
   "id": "75fbeb57061b26ae"
  },
  {
   "metadata": {
    "ExecuteTime": {
     "end_time": "2025-02-15T15:13:06.332033Z",
     "start_time": "2025-02-15T15:13:06.316821Z"
    }
   },
   "cell_type": "code",
   "source": [
    "## Uniform distribution\n",
    "channels[\"prob\"] = np.random.uniform(low=0, high=channels[\"capacity\"])/channels[\"capacity\"]"
   ],
   "id": "8c1b653fc177fb64",
   "outputs": [],
   "execution_count": 10
  },
  {
   "metadata": {
    "ExecuteTime": {
     "end_time": "2025-02-15T15:13:06.346947Z",
     "start_time": "2025-02-15T15:13:06.333257Z"
    }
   },
   "cell_type": "code",
   "source": "channels",
   "id": "9df3704cdc311ff1",
   "outputs": [
    {
     "data": {
      "text/plain": [
       "                                                                                                                  channel_id  \\\n",
       "node1_pub                                          node2_pub                                                                   \n",
       "0200000000727d3b67513c916f16975e3bf8f3304cf3fcf... 0360a41eb8c3fe09782ef6c984acbb003b0e1ebc4fe10ae...     914492408312299520   \n",
       "0200000000a3eff613189ca6c4070c89206ad658e286751... 02e4971e61a3f55718ae31e2eed19aaf2e32caf3eb5ef5f...     858567948297371650   \n",
       "                                                   02f1a8c87607f415c8f22c00593002775941dea48869ce2...     838135723780210689   \n",
       "                                                   02f460ae6d3d3e104f8afe520ae0cff3d94c35c2ba8df66...     837978493509959681   \n",
       "020003b9499a97c8dfbbab6b196319db37ba9c37bccb604... 0205198c099c45acedf988445f71da087ca39cd80847e53...     906034964784021504   \n",
       "...                                                                                                                      ...   \n",
       "03ffc95f28306c88f5c033774ac5e59c30f6cc91e76af6c... 02cc79b8d771cc79d323bd71e54ef1780cab50e7c0ef2a4...  INV865354134044606465   \n",
       "                                                   02f1a8c87607f415c8f22c00593002775941dea48869ce2...  INV865369527244357633   \n",
       "03ffcd6f3e5880b2ce51de42ab922ec3c224fc47843396d... 0217890e3aad8d35bc054f43acc00084b25229ecff0ab68...  INV770366225064394752   \n",
       "                                                   028c8c9b0b588d00afabe905799aee0225a9315cdb63d76...  INV770918179822239744   \n",
       "                                                   02a04446caa81636d60d63b066f2814cbd3a6b5c258e317...  INV770630107742011392   \n",
       "\n",
       "                                                                                                       rate_fee  \\\n",
       "node1_pub                                          node2_pub                                                      \n",
       "0200000000727d3b67513c916f16975e3bf8f3304cf3fcf... 0360a41eb8c3fe09782ef6c984acbb003b0e1ebc4fe10ae...  0.042266   \n",
       "0200000000a3eff613189ca6c4070c89206ad658e286751... 02e4971e61a3f55718ae31e2eed19aaf2e32caf3eb5ef5f...  0.052581   \n",
       "                                                   02f1a8c87607f415c8f22c00593002775941dea48869ce2...  0.041422   \n",
       "                                                   02f460ae6d3d3e104f8afe520ae0cff3d94c35c2ba8df66...  0.051075   \n",
       "020003b9499a97c8dfbbab6b196319db37ba9c37bccb604... 0205198c099c45acedf988445f71da087ca39cd80847e53...  0.085725   \n",
       "...                                                                                                         ...   \n",
       "03ffc95f28306c88f5c033774ac5e59c30f6cc91e76af6c... 02cc79b8d771cc79d323bd71e54ef1780cab50e7c0ef2a4...  0.095116   \n",
       "                                                   02f1a8c87607f415c8f22c00593002775941dea48869ce2...  0.047020   \n",
       "03ffcd6f3e5880b2ce51de42ab922ec3c224fc47843396d... 0217890e3aad8d35bc054f43acc00084b25229ecff0ab68...  0.010804   \n",
       "                                                   028c8c9b0b588d00afabe905799aee0225a9315cdb63d76...  0.090326   \n",
       "                                                   02a04446caa81636d60d63b066f2814cbd3a6b5c258e317...  0.039696   \n",
       "\n",
       "                                                                                                           base_fee  \\\n",
       "node1_pub                                          node2_pub                                                          \n",
       "0200000000727d3b67513c916f16975e3bf8f3304cf3fcf... 0360a41eb8c3fe09782ef6c984acbb003b0e1ebc4fe10ae...  8.148249e+07   \n",
       "0200000000a3eff613189ca6c4070c89206ad658e286751... 02e4971e61a3f55718ae31e2eed19aaf2e32caf3eb5ef5f...  8.351388e+07   \n",
       "                                                   02f1a8c87607f415c8f22c00593002775941dea48869ce2...  4.201910e+07   \n",
       "                                                   02f460ae6d3d3e104f8afe520ae0cff3d94c35c2ba8df66...  1.306398e+06   \n",
       "020003b9499a97c8dfbbab6b196319db37ba9c37bccb604... 0205198c099c45acedf988445f71da087ca39cd80847e53...  6.489835e+07   \n",
       "...                                                                                                             ...   \n",
       "03ffc95f28306c88f5c033774ac5e59c30f6cc91e76af6c... 02cc79b8d771cc79d323bd71e54ef1780cab50e7c0ef2a4...  9.733953e+07   \n",
       "                                                   02f1a8c87607f415c8f22c00593002775941dea48869ce2...  7.433171e+07   \n",
       "03ffcd6f3e5880b2ce51de42ab922ec3c224fc47843396d... 0217890e3aad8d35bc054f43acc00084b25229ecff0ab68...  2.911101e+07   \n",
       "                                                   028c8c9b0b588d00afabe905799aee0225a9315cdb63d76...  9.347984e+07   \n",
       "                                                   02a04446caa81636d60d63b066f2814cbd3a6b5c258e317...  5.015577e+07   \n",
       "\n",
       "                                                                                                             capacity  \\\n",
       "node1_pub                                          node2_pub                                                            \n",
       "0200000000727d3b67513c916f16975e3bf8f3304cf3fcf... 0360a41eb8c3fe09782ef6c984acbb003b0e1ebc4fe10ae...   5000000000000   \n",
       "0200000000a3eff613189ca6c4070c89206ad658e286751... 02e4971e61a3f55718ae31e2eed19aaf2e32caf3eb5ef5f...   5000000000000   \n",
       "                                                   02f1a8c87607f415c8f22c00593002775941dea48869ce2...  10000000000000   \n",
       "                                                   02f460ae6d3d3e104f8afe520ae0cff3d94c35c2ba8df66...   5069420000000   \n",
       "020003b9499a97c8dfbbab6b196319db37ba9c37bccb604... 0205198c099c45acedf988445f71da087ca39cd80847e53...  10000000000000   \n",
       "...                                                                                                               ...   \n",
       "03ffc95f28306c88f5c033774ac5e59c30f6cc91e76af6c... 02cc79b8d771cc79d323bd71e54ef1780cab50e7c0ef2a4...    500000000000   \n",
       "                                                   02f1a8c87607f415c8f22c00593002775941dea48869ce2...   1000000000000   \n",
       "03ffcd6f3e5880b2ce51de42ab922ec3c224fc47843396d... 0217890e3aad8d35bc054f43acc00084b25229ecff0ab68...    272586000000   \n",
       "                                                   028c8c9b0b588d00afabe905799aee0225a9315cdb63d76...     50000000000   \n",
       "                                                   02a04446caa81636d60d63b066f2814cbd3a6b5c258e317...    118000000000   \n",
       "\n",
       "                                                                                                           prob  \n",
       "node1_pub                                          node2_pub                                                     \n",
       "0200000000727d3b67513c916f16975e3bf8f3304cf3fcf... 0360a41eb8c3fe09782ef6c984acbb003b0e1ebc4fe10ae...  0.217962  \n",
       "0200000000a3eff613189ca6c4070c89206ad658e286751... 02e4971e61a3f55718ae31e2eed19aaf2e32caf3eb5ef5f...  0.592058  \n",
       "                                                   02f1a8c87607f415c8f22c00593002775941dea48869ce2...  0.593952  \n",
       "                                                   02f460ae6d3d3e104f8afe520ae0cff3d94c35c2ba8df66...  0.204922  \n",
       "020003b9499a97c8dfbbab6b196319db37ba9c37bccb604... 0205198c099c45acedf988445f71da087ca39cd80847e53...  0.285008  \n",
       "...                                                                                                         ...  \n",
       "03ffc95f28306c88f5c033774ac5e59c30f6cc91e76af6c... 02cc79b8d771cc79d323bd71e54ef1780cab50e7c0ef2a4...  0.405095  \n",
       "                                                   02f1a8c87607f415c8f22c00593002775941dea48869ce2...  0.409171  \n",
       "03ffcd6f3e5880b2ce51de42ab922ec3c224fc47843396d... 0217890e3aad8d35bc054f43acc00084b25229ecff0ab68...  0.820572  \n",
       "                                                   028c8c9b0b588d00afabe905799aee0225a9315cdb63d76...  0.447622  \n",
       "                                                   02a04446caa81636d60d63b066f2814cbd3a6b5c258e317...  0.033933  \n",
       "\n",
       "[89898 rows x 5 columns]"
      ],
      "text/html": [
       "<div>\n",
       "<style scoped>\n",
       "    .dataframe tbody tr th:only-of-type {\n",
       "        vertical-align: middle;\n",
       "    }\n",
       "\n",
       "    .dataframe tbody tr th {\n",
       "        vertical-align: top;\n",
       "    }\n",
       "\n",
       "    .dataframe thead th {\n",
       "        text-align: right;\n",
       "    }\n",
       "</style>\n",
       "<table border=\"1\" class=\"dataframe\">\n",
       "  <thead>\n",
       "    <tr style=\"text-align: right;\">\n",
       "      <th></th>\n",
       "      <th></th>\n",
       "      <th>channel_id</th>\n",
       "      <th>rate_fee</th>\n",
       "      <th>base_fee</th>\n",
       "      <th>capacity</th>\n",
       "      <th>prob</th>\n",
       "    </tr>\n",
       "    <tr>\n",
       "      <th>node1_pub</th>\n",
       "      <th>node2_pub</th>\n",
       "      <th></th>\n",
       "      <th></th>\n",
       "      <th></th>\n",
       "      <th></th>\n",
       "      <th></th>\n",
       "    </tr>\n",
       "  </thead>\n",
       "  <tbody>\n",
       "    <tr>\n",
       "      <th>0200000000727d3b67513c916f16975e3bf8f3304cf3fcf0ed855e2ae41888f461</th>\n",
       "      <th>0360a41eb8c3fe09782ef6c984acbb003b0e1ebc4fe10ae01bab0e80d76618c8f4</th>\n",
       "      <td>914492408312299520</td>\n",
       "      <td>0.042266</td>\n",
       "      <td>8.148249e+07</td>\n",
       "      <td>5000000000000</td>\n",
       "      <td>0.217962</td>\n",
       "    </tr>\n",
       "    <tr>\n",
       "      <th rowspan=\"3\" valign=\"top\">0200000000a3eff613189ca6c4070c89206ad658e286751eca1f29262948247a5f</th>\n",
       "      <th>02e4971e61a3f55718ae31e2eed19aaf2e32caf3eb5ef5ff03e01aa3ada8907e78</th>\n",
       "      <td>858567948297371650</td>\n",
       "      <td>0.052581</td>\n",
       "      <td>8.351388e+07</td>\n",
       "      <td>5000000000000</td>\n",
       "      <td>0.592058</td>\n",
       "    </tr>\n",
       "    <tr>\n",
       "      <th>02f1a8c87607f415c8f22c00593002775941dea48869ce23096af27b0cfdcc0b69</th>\n",
       "      <td>838135723780210689</td>\n",
       "      <td>0.041422</td>\n",
       "      <td>4.201910e+07</td>\n",
       "      <td>10000000000000</td>\n",
       "      <td>0.593952</td>\n",
       "    </tr>\n",
       "    <tr>\n",
       "      <th>02f460ae6d3d3e104f8afe520ae0cff3d94c35c2ba8df66da89f3c8006a265b90a</th>\n",
       "      <td>837978493509959681</td>\n",
       "      <td>0.051075</td>\n",
       "      <td>1.306398e+06</td>\n",
       "      <td>5069420000000</td>\n",
       "      <td>0.204922</td>\n",
       "    </tr>\n",
       "    <tr>\n",
       "      <th>020003b9499a97c8dfbbab6b196319db37ba9c37bccb60477f3c867175f417988e</th>\n",
       "      <th>0205198c099c45acedf988445f71da087ca39cd80847e53a7819e8f4e45768d7d3</th>\n",
       "      <td>906034964784021504</td>\n",
       "      <td>0.085725</td>\n",
       "      <td>6.489835e+07</td>\n",
       "      <td>10000000000000</td>\n",
       "      <td>0.285008</td>\n",
       "    </tr>\n",
       "    <tr>\n",
       "      <th>...</th>\n",
       "      <th>...</th>\n",
       "      <td>...</td>\n",
       "      <td>...</td>\n",
       "      <td>...</td>\n",
       "      <td>...</td>\n",
       "      <td>...</td>\n",
       "    </tr>\n",
       "    <tr>\n",
       "      <th rowspan=\"2\" valign=\"top\">03ffc95f28306c88f5c033774ac5e59c30f6cc91e76af6cd65769803e918942352</th>\n",
       "      <th>02cc79b8d771cc79d323bd71e54ef1780cab50e7c0ef2a4beb625fc9dcbbcc6d24</th>\n",
       "      <td>INV865354134044606465</td>\n",
       "      <td>0.095116</td>\n",
       "      <td>9.733953e+07</td>\n",
       "      <td>500000000000</td>\n",
       "      <td>0.405095</td>\n",
       "    </tr>\n",
       "    <tr>\n",
       "      <th>02f1a8c87607f415c8f22c00593002775941dea48869ce23096af27b0cfdcc0b69</th>\n",
       "      <td>INV865369527244357633</td>\n",
       "      <td>0.047020</td>\n",
       "      <td>7.433171e+07</td>\n",
       "      <td>1000000000000</td>\n",
       "      <td>0.409171</td>\n",
       "    </tr>\n",
       "    <tr>\n",
       "      <th rowspan=\"3\" valign=\"top\">03ffcd6f3e5880b2ce51de42ab922ec3c224fc47843396d84b2314c3fcbdb8bf85</th>\n",
       "      <th>0217890e3aad8d35bc054f43acc00084b25229ecff0ab68debd82883ad65ee8266</th>\n",
       "      <td>INV770366225064394752</td>\n",
       "      <td>0.010804</td>\n",
       "      <td>2.911101e+07</td>\n",
       "      <td>272586000000</td>\n",
       "      <td>0.820572</td>\n",
       "    </tr>\n",
       "    <tr>\n",
       "      <th>028c8c9b0b588d00afabe905799aee0225a9315cdb63d7646b7ff7cf02fe4bf643</th>\n",
       "      <td>INV770918179822239744</td>\n",
       "      <td>0.090326</td>\n",
       "      <td>9.347984e+07</td>\n",
       "      <td>50000000000</td>\n",
       "      <td>0.447622</td>\n",
       "    </tr>\n",
       "    <tr>\n",
       "      <th>02a04446caa81636d60d63b066f2814cbd3a6b5c258e3172cbdded7a16e2cfff4c</th>\n",
       "      <td>INV770630107742011392</td>\n",
       "      <td>0.039696</td>\n",
       "      <td>5.015577e+07</td>\n",
       "      <td>118000000000</td>\n",
       "      <td>0.033933</td>\n",
       "    </tr>\n",
       "  </tbody>\n",
       "</table>\n",
       "<p>89898 rows × 5 columns</p>\n",
       "</div>"
      ]
     },
     "execution_count": 11,
     "metadata": {},
     "output_type": "execute_result"
    }
   ],
   "execution_count": 11
  },
  {
   "metadata": {
    "ExecuteTime": {
     "end_time": "2025-02-15T15:13:17.977732Z",
     "start_time": "2025-02-15T15:13:06.348039Z"
    }
   },
   "cell_type": "code",
   "source": [
    "#def objective_function(model: pyo.ConcreteModel):\n",
    "#    return sum(model.a[i] * channels.loc[i, \"rate_fee\"] for i in model.CHANNELS) + sum(model.x[i] * channels.loc[i, \"base_fee\"] for i in model.CHANNELS)\n",
    "\n",
    "def objective_function(model: pyo.ConcreteModel):\n",
    "    return sum(model.a[i] * channels.loc[i, \"rate_fee\"] + model.x[i] * channels.loc[i, \"base_fee\"] + model.x[i] * (1/channels.loc[i, \"prob\"]) for i in model.CHANNELS)\n",
    "\n",
    "model.totalCost = pyo.Objective(rule=objective_function(model), sense=pyo.minimize)"
   ],
   "id": "f45ec00f2444e9d1",
   "outputs": [
    {
     "name": "stdout",
     "output_type": "stream",
     "text": [
      "           0 seconds to construct Objective totalCost; 1 index total\n"
     ]
    }
   ],
   "execution_count": 12
  },
  {
   "metadata": {},
   "cell_type": "markdown",
   "source": "### Constraints\n",
   "id": "861b0daa9b9cba75"
  },
  {
   "metadata": {},
   "cell_type": "markdown",
   "source": [
    "#### Capacity constraint\n",
    "\n",
    "$$amount_{i,j} \\le capacity_{i,j} \\times x_{i,j} \\text{ } \\forall (i,j) \\in E$$"
   ],
   "id": "e5ea238f92c81afb"
  },
  {
   "metadata": {
    "ExecuteTime": {
     "end_time": "2025-02-15T15:13:24.043403Z",
     "start_time": "2025-02-15T15:13:17.979323Z"
    }
   },
   "cell_type": "code",
   "source": [
    "def capacity_constraint(model: pyo.ConcreteModel, a, b):\n",
    "    return model.a[(a, b)] <= channels.loc[(a, b), \"capacity\"] * model.x[(a, b)]\n",
    "\n",
    "model.CapacityConstraint = pyo.Constraint(model.CHANNELS, rule=capacity_constraint, name=\"Capacity constraint\")"
   ],
   "id": "7d46c6418b15675a",
   "outputs": [
    {
     "name": "stdout",
     "output_type": "stream",
     "text": [
      "        6.06 seconds to construct Constraint CapacityConstraint; 89898 indices total\n"
     ]
    }
   ],
   "execution_count": 13
  },
  {
   "metadata": {},
   "cell_type": "markdown",
   "source": [
    "#### Flow balance constraint\n",
    "\n",
    "$$\\sum_{(s,i) \\in E} amount_{s,i} - \\sum_{(i,t) \\in E} amount_{i,d} = b_i \\text{ } \\forall i \\in V$$\n",
    "\n",
    "where $s$ is the source node, $d$ is the destination node, $i$ is every intermediary node\n"
   ],
   "id": "7adcde34bbdb4878"
  },
  {
   "metadata": {
    "ExecuteTime": {
     "end_time": "2025-02-15T15:13:27.666468Z",
     "start_time": "2025-02-15T15:13:24.044526Z"
    }
   },
   "cell_type": "code",
   "source": [
    "channels.reset_index(inplace=True)\n",
    "channels.set_index(\"channel_id\", inplace=True)\n",
    "\n",
    "def flow_balance_constraint(model: pyo.ConcreteModel, n: str):\n",
    "    InFlow = sum(model.a[(channels.loc[a, \"node1_pub\"], channels.loc[a, \"node2_pub\"])] for a in nodes.loc[n, 'incoming_channels'])\n",
    "    OutFlow = sum(model.a[(channels.loc[a, \"node1_pub\"], channels.loc[a, \"node2_pub\"])] for a in nodes.loc[n, 'outgoing_channels'])\n",
    "    return  OutFlow + nodes.loc[n, \"demand\"] == InFlow\n",
    "\n",
    "model.FlowBalanceConstraint = pyo.Constraint(model.NODES, rule=flow_balance_constraint, name=\"Flow balance constrain\")\n",
    "\n",
    "channels.reset_index(inplace=True)\n",
    "channels.set_index([\"node1_pub\", \"node2_pub\"], inplace=True)\n",
    "channels.sort_index(inplace=True) "
   ],
   "id": "d2b57765c3b53fc5",
   "outputs": [
    {
     "name": "stdout",
     "output_type": "stream",
     "text": [
      "        3.58 seconds to construct Constraint FlowBalanceConstraint; 11984 indices total\n"
     ]
    }
   ],
   "execution_count": 14
  },
  {
   "metadata": {},
   "cell_type": "markdown",
   "source": "",
   "id": "8c223eaeec0f4f6e"
  },
  {
   "metadata": {},
   "cell_type": "markdown",
   "source": "## Solving the model",
   "id": "b8bc8c88087daf77"
  },
  {
   "metadata": {
    "ExecuteTime": {
     "end_time": "2025-02-15T15:13:27.670943Z",
     "start_time": "2025-02-15T15:13:27.667707Z"
    }
   },
   "cell_type": "code",
   "source": [
    "#from pyomo.common.tempfiles import TempfileManager\n",
    "#TempfileManager.tempdir = \"/home/filippo/repositories/LN-pathfinding\""
   ],
   "id": "2dd413d5dd6de75f",
   "outputs": [],
   "execution_count": 15
  },
  {
   "metadata": {
    "ExecuteTime": {
     "end_time": "2025-02-15T15:14:41.882710Z",
     "start_time": "2025-02-15T15:13:27.672684Z"
    }
   },
   "cell_type": "code",
   "source": [
    "opt = pyo.SolverFactory('cbc')\n",
    "#opt = pyo.SolverFactory('cplex_direct')\n",
    "results = opt.solve(model, tee=True, keepfiles=True)\n",
    "\n",
    "if (results.solver.status == pyo.SolverStatus.ok) and (results.solver.termination_condition == pyo.TerminationCondition.optimal):\n",
    "    print('\\nOptimal solution found')\n",
    "elif results.solver.termination_condition == pyo.TerminationCondition.feasible:\n",
    "    print('\\nFeasible but not proven optimal solution found')\n",
    "elif results.solver.termination_condition == pyo.TerminationCondition.infeasible:\n",
    "    raise Exception(\"The model is infeasible\")\n",
    "else:\n",
    "    print('\\nSolver Status: ',  results.solver.status)\n",
    "    raise Exception(results.solver.status)\n",
    "\n",
    "print('\\nObject function value = ', model.Objective())\n"
   ],
   "id": "f88c7c0611694b3b",
   "outputs": [
    {
     "name": "stdout",
     "output_type": "stream",
     "text": [
      "           0 seconds to construct Var ONE_VAR_CONSTANT; 1 index total\n",
      "      [    1.97] Generated LP representation\n",
      "Solver log file: '/tmp/tmpk9er7iv3.cbc.log'\n",
      "Solver solution file: '/tmp/tmpv8wihavj.pyomo.soln'\n",
      "Solver problem files: ('/tmp/tmpv8wihavj.pyomo.lp',)\n",
      "Welcome to the CBC MILP Solver \n",
      "Version: 2.10.8 \n",
      "Build Date: May  9 2022 \n",
      "\n",
      "command line - /usr/bin/cbc -printingOptions all -import /tmp/tmpv8wihavj.pyomo.lp -stat=1 -solve -solu /tmp/tmpv8wihavj.pyomo.soln (default strategy 1)\n",
      "Option for printingOptions changed from normal to all\n",
      "Presolve 95884 (-5998) rows, 173818 (-5978) columns and 335144 (-23898) elements\n",
      "Statistics for presolved model\n",
      "Original problem has 89898 integers (89898 of which binary)\n",
      "Presolved problem has 89898 integers (89898 of which binary)\n",
      "==== 0 zero objective 173818 different\n",
      "==== absolute objective values 173818 different\n",
      "==== for integers 0 zero objective 89898 different\n",
      "==== for integers absolute objective values 89898 different\n",
      "===== end objective counts\n",
      "\n",
      "\n",
      "Problem has 95884 rows, 173818 columns (173818 with objective) and 335144 elements\n",
      "There are 89906 singletons with objective \n",
      "Column breakdown:\n",
      "0 of type 0.0->inf, 83920 of type 0.0->up, 0 of type lo->inf, \n",
      "0 of type lo->up, 0 of type free, 0 of type fixed, \n",
      "0 of type -inf->0.0, 0 of type -inf->up, 89898 of type 0.0->1.0 \n",
      "Row breakdown:\n",
      "5984 of type E 0.0, 0 of type E 1.0, 0 of type E -1.0, \n",
      "2 of type E other, 0 of type G 0.0, 0 of type G 1.0, \n",
      "0 of type G other, 89898 of type L 0.0, 0 of type L 1.0, \n",
      "0 of type L other, 0 of type Range 0.0->1.0, 0 of type Range other, \n",
      "0 of type Free \n",
      "Continuous objective value is 7.5392e+10 - 14.72 seconds\n",
      "Cgl0004I processed model has 83920 rows, 155868 columns (77934 integer (77934 of which binary)) and 311216 elements\n",
      "Cbc0038I Initial state - 9 integers unsatisfied sum - 4.5\n",
      "Cbc0038I Pass   1: (16.96 seconds) suminf.    4.50000 (9) obj. 7.54957e+10 iterations 748\n",
      "Cbc0038I Pass   2: (17.01 seconds) suminf.    4.50000 (9) obj. 7.54957e+10 iterations 0\n",
      "Cbc0038I Pass   3: (17.09 seconds) suminf.    4.50000 (9) obj. 8.87903e+10 iterations 264\n",
      "Cbc0038I Pass   4: (17.13 seconds) suminf.    4.50000 (9) obj. 8.87903e+10 iterations 0\n",
      "Cbc0038I Pass   5: (17.17 seconds) suminf.    4.50000 (9) obj. 8.87903e+10 iterations 0\n",
      "Cbc0038I Pass   6: (17.31 seconds) suminf.    4.50000 (9) obj. 1.01043e+11 iterations 326\n",
      "Cbc0038I Pass   7: (17.38 seconds) suminf.    4.50000 (9) obj. 1.01043e+11 iterations 2\n",
      "Cbc0038I Pass   8: (17.42 seconds) suminf.    4.50000 (9) obj. 1.01043e+11 iterations 0\n",
      "Cbc0038I Pass   9: (17.91 seconds) suminf.    4.50000 (9) obj. 1.11259e+11 iterations 599\n",
      "Cbc0038I Pass  10: (18.02 seconds) suminf.    4.50000 (9) obj. 1.11259e+11 iterations 45\n",
      "Cbc0038I Pass  11: (18.06 seconds) suminf.    4.50000 (9) obj. 1.11259e+11 iterations 0\n",
      "Cbc0038I Pass  12: (18.13 seconds) suminf.    4.50000 (9) obj. 1.23229e+11 iterations 253\n",
      "Cbc0038I Pass  13: (18.16 seconds) suminf.    4.50000 (9) obj. 1.23229e+11 iterations 0\n",
      "Cbc0038I Pass  14: (18.20 seconds) suminf.    4.50000 (9) obj. 1.23229e+11 iterations 0\n",
      "Cbc0038I Pass  15: (18.26 seconds) suminf.    4.50000 (9) obj. 1.33792e+11 iterations 249\n",
      "Cbc0038I Pass  16: (18.30 seconds) suminf.    4.50000 (9) obj. 1.33792e+11 iterations 0\n",
      "Cbc0038I Pass  17: (18.33 seconds) suminf.    4.50000 (9) obj. 1.33792e+11 iterations 0\n",
      "Cbc0038I Pass  18: (18.40 seconds) suminf.    4.50000 (9) obj. 1.44718e+11 iterations 247\n",
      "Cbc0038I Pass  19: (18.43 seconds) suminf.    4.50000 (9) obj. 1.44718e+11 iterations 0\n",
      "Cbc0038I Pass  20: (18.47 seconds) suminf.    4.50000 (9) obj. 1.44718e+11 iterations 0\n",
      "Cbc0038I Pass  21: (18.53 seconds) suminf.    4.50000 (9) obj. 1.55007e+11 iterations 249\n",
      "Cbc0038I Pass  22: (18.57 seconds) suminf.    4.50000 (9) obj. 1.55007e+11 iterations 0\n",
      "Cbc0038I Pass  23: (18.60 seconds) suminf.    4.50000 (9) obj. 1.55007e+11 iterations 0\n",
      "Cbc0038I Pass  24: (18.67 seconds) suminf.    4.50000 (9) obj. 1.64537e+11 iterations 252\n",
      "Cbc0038I Pass  25: (18.70 seconds) suminf.    4.50000 (9) obj. 1.64537e+11 iterations 0\n",
      "Cbc0038I Pass  26: (18.74 seconds) suminf.    4.50000 (9) obj. 1.64537e+11 iterations 0\n",
      "Cbc0038I Pass  27: (18.80 seconds) suminf.    4.50000 (9) obj. 1.74002e+11 iterations 271\n",
      "Cbc0038I Pass  28: (18.84 seconds) suminf.    4.50000 (9) obj. 1.74002e+11 iterations 0\n",
      "Cbc0038I Pass  29: (18.87 seconds) suminf.    4.50000 (9) obj. 1.74002e+11 iterations 0\n",
      "Cbc0038I Pass  30: (18.94 seconds) suminf.    4.50000 (9) obj. 1.81364e+11 iterations 214\n",
      "Cbc0038I Rounding solution of 7.57134e+10 is better than previous of 1e+50\n",
      "\n",
      "Cbc0038I Before mini branch and bound, 75643 integers at bound fixed and 77920 continuous\n",
      "Cbc0038I Full problem 83920 rows 155868 columns, reduced to 9 rows 10 columns\n",
      "Cbc0038I Mini branch and bound improved solution from 7.57134e+10 to 7.57134e+10 (19.13 seconds)\n",
      "Cbc0038I Round again with cutoff of 7.56916e+10\n",
      "Cbc0038I Reduced cost fixing fixed 1 variables on major pass 2\n",
      "Cbc0038I Pass  30: (19.35 seconds) suminf.    4.50000 (9) obj. 7.54957e+10 iterations 0\n",
      "Cbc0038I Pass  31: (20.72 seconds) suminf.    4.47100 (10) obj. 7.56916e+10 iterations 1282\n",
      "Cbc0038I Pass  32: (22.41 seconds) suminf.    4.48022 (11) obj. 7.56916e+10 iterations 1273\n",
      "Cbc0038I Pass  33: (23.09 seconds) suminf.    4.45222 (11) obj. 7.56916e+10 iterations 503\n",
      "Cbc0038I Pass  34: (24.00 seconds) suminf.    4.47100 (10) obj. 7.56916e+10 iterations 640\n",
      "Cbc0038I Pass  35: (24.22 seconds) suminf.    4.47100 (10) obj. 7.56916e+10 iterations 0\n",
      "Cbc0038I Pass  36: (24.67 seconds) suminf.    4.47100 (10) obj. 7.56916e+10 iterations 11\n",
      "Cbc0038I Pass  37: (25.13 seconds) suminf.    4.47100 (10) obj. 7.56916e+10 iterations 55\n",
      "Cbc0038I Pass  38: (25.42 seconds) suminf.    4.47100 (10) obj. 7.56916e+10 iterations 0\n",
      "Cbc0038I Pass  39: (27.83 seconds) suminf.    4.45552 (10) obj. 7.56916e+10 iterations 2705\n",
      "Cbc0038I Pass  40: (28.34 seconds) suminf.    4.45552 (10) obj. 7.56916e+10 iterations 199\n",
      "Cbc0038I Pass  41: (28.95 seconds) suminf.    4.47100 (10) obj. 7.56916e+10 iterations 379\n",
      "Cbc0038I Pass  42: (29.49 seconds) suminf.    4.47100 (10) obj. 7.56916e+10 iterations 249\n",
      "Cbc0038I Pass  43: (29.96 seconds) suminf.    4.47100 (10) obj. 7.56916e+10 iterations 122\n",
      "Cbc0038I Pass  44: (30.39 seconds) suminf.    4.47100 (10) obj. 7.56916e+10 iterations 44\n",
      "Cbc0038I Pass  45: (31.97 seconds) suminf.    4.51972 (10) obj. 7.56916e+10 iterations 1734\n",
      "Cbc0038I Pass  46: (32.18 seconds) suminf.    4.51972 (10) obj. 7.56916e+10 iterations 0\n",
      "Cbc0038I Pass  47: (32.60 seconds) suminf.    4.51972 (10) obj. 7.56916e+10 iterations 5\n",
      "Cbc0038I Pass  48: (34.30 seconds) suminf.    4.49866 (11) obj. 7.56916e+10 iterations 1674\n",
      "Cbc0038I Pass  49: (35.15 seconds) suminf.    4.49677 (11) obj. 7.56916e+10 iterations 449\n",
      "Cbc0038I Pass  50: (36.02 seconds) suminf.    4.49804 (10) obj. 7.56916e+10 iterations 500\n",
      "Cbc0038I Pass  51: (36.50 seconds) suminf.    4.49804 (10) obj. 7.56916e+10 iterations 77\n",
      "Cbc0038I Pass  52: (38.27 seconds) suminf.    4.49699 (10) obj. 7.56916e+10 iterations 1956\n",
      "Cbc0038I Pass  53: (38.49 seconds) suminf.    4.49699 (10) obj. 7.56916e+10 iterations 0\n",
      "Cbc0038I Pass  54: (38.70 seconds) suminf.    4.49699 (10) obj. 7.56916e+10 iterations 0\n",
      "Cbc0038I Pass  55: (39.35 seconds) suminf.    4.49804 (10) obj. 7.56916e+10 iterations 396\n",
      "Cbc0038I Pass  56: (39.84 seconds) suminf.    4.49804 (10) obj. 7.56916e+10 iterations 77\n",
      "Cbc0038I Pass  57: (40.95 seconds) suminf.    4.49866 (11) obj. 7.56916e+10 iterations 813\n",
      "Cbc0038I Pass  58: (42.80 seconds) suminf.    4.52608 (10) obj. 7.56916e+10 iterations 1806\n",
      "Cbc0038I Pass  59: (43.23 seconds) suminf.    4.52608 (10) obj. 7.56916e+10 iterations 4\n",
      "Cbc0038I No solution found this major pass\n",
      "Cbc0038I Before mini branch and bound, 77825 integers at bound fixed and 70023 continuous\n",
      "Cbc0038I Full problem 83920 rows 155868 columns, reduced to 19 rows 23 columns\n",
      "Cbc0038I Mini branch and bound did not improve solution (43.37 seconds)\n",
      "Cbc0038I After 43.37 seconds - Feasibility pump exiting with objective of 7.57134e+10 - took 27.78 seconds\n",
      "Cbc0012I Integer solution of 7.5713368e+10 found by feasibility pump after 0 iterations and 0 nodes (50.33 seconds)\n",
      "Cbc0038I Full problem 83920 rows 155868 columns, reduced to 9 rows 10 columns\n",
      "Cbc0031I 1 added rows had average density of 6\n",
      "Cbc0013I At root node, 10 cuts changed objective from 7.5495692e+10 to 7.5713368e+10 in 1 passes\n",
      "Cbc0014I Cut generator 0 (Probing) - 0 row cuts average 0.0 elements, 0 column cuts (0 active)  in 0.040 seconds - new frequency is -100\n",
      "Cbc0014I Cut generator 1 (Gomory) - 0 row cuts average 0.0 elements, 0 column cuts (0 active)  in 0.013 seconds - new frequency is -100\n",
      "Cbc0014I Cut generator 2 (Knapsack) - 1 row cuts average 6.0 elements, 0 column cuts (0 active)  in 0.035 seconds - new frequency is 1\n",
      "Cbc0014I Cut generator 3 (Clique) - 0 row cuts average 0.0 elements, 0 column cuts (0 active)  in 0.001 seconds - new frequency is -100\n",
      "Cbc0014I Cut generator 4 (MixedIntegerRounding2) - 0 row cuts average 0.0 elements, 0 column cuts (0 active)  in 0.016 seconds - new frequency is -100\n",
      "Cbc0014I Cut generator 5 (FlowCover) - 0 row cuts average 0.0 elements, 0 column cuts (0 active)  in 0.006 seconds - new frequency is -100\n",
      "Cbc0014I Cut generator 6 (TwoMirCuts) - 9 row cuts average 1.0 elements, 0 column cuts (0 active)  in 0.024 seconds - new frequency is -100\n",
      "Cbc0001I Search completed - best objective 75713368114.08723, took 18 iterations and 0 nodes (51.22 seconds)\n",
      "Cbc0035I Maximum depth 0, 1 variables fixed on reduced cost\n",
      "0  Obj 7.5495692e+10 Primal inf 4.4999991 (9) Dual inf 387885.41 (5765)\n",
      "Perturbing problem by 0.001% of 2.487612e+09 - largest nonzero change 0 ( 0%) - largest zero change 1.9999653e-05\n",
      "66  Obj 7.5508303e+10 Primal inf 3.9999992 (8) Dual inf 42544.206 (1904)\n",
      "72  Obj 7.5640781e+10 Primal inf 0.9999998 (2) Dual inf 63715.603 (1984)\n",
      "150  Obj 7.5713368e+10 Dual inf 134.48576 (104)\n",
      "160  Obj 7.5713368e+10 Dual inf 272.39966 (133)\n",
      "215  Obj 7.5713368e+10\n",
      "Optimal - objective value 7.5713368e+10\n",
      "Cuts at root node changed objective from 7.54957e+10 to 7.57134e+10\n",
      "Probing was tried 1 times and created 0 cuts of which 0 were active after adding rounds of cuts (0.040 seconds)\n",
      "Gomory was tried 1 times and created 0 cuts of which 0 were active after adding rounds of cuts (0.013 seconds)\n",
      "Knapsack was tried 1 times and created 1 cuts of which 0 were active after adding rounds of cuts (0.035 seconds)\n",
      "Clique was tried 1 times and created 0 cuts of which 0 were active after adding rounds of cuts (0.001 seconds)\n",
      "MixedIntegerRounding2 was tried 1 times and created 0 cuts of which 0 were active after adding rounds of cuts (0.016 seconds)\n",
      "FlowCover was tried 1 times and created 0 cuts of which 0 were active after adding rounds of cuts (0.006 seconds)\n",
      "TwoMirCuts was tried 1 times and created 9 cuts of which 0 were active after adding rounds of cuts (0.024 seconds)\n",
      "ZeroHalf was tried 1 times and created 0 cuts of which 0 were active after adding rounds of cuts (0.000 seconds)\n",
      "\n",
      "Result - Optimal solution found\n",
      "\n",
      "Objective value:                75713368114.08723450\n",
      "Enumerated nodes:               0\n",
      "Total iterations:               18\n",
      "Time (CPU seconds):             69.53\n",
      "Time (Wallclock seconds):       69.80\n",
      "\n",
      "Total time (CPU seconds):       70.17   (Wallclock seconds):       70.48\n",
      "\n",
      "\n",
      "Optimal solution found\n",
      "\n",
      "Object function value =  <pyomo.core.base.block._generic_component_decorator object at 0x7f98b0015840>\n"
     ]
    }
   ],
   "execution_count": 16
  },
  {
   "metadata": {
    "ExecuteTime": {
     "end_time": "2025-02-15T15:14:41.887054Z",
     "start_time": "2025-02-15T15:14:41.883747Z"
    }
   },
   "cell_type": "code",
   "source": [
    "#from pyomo.opt import SolverStatus, TerminationCondition\n",
    "\n",
    "print(\"Solver Status: \",  results.solver[0][\"System time\"])\n"
   ],
   "id": "8539cc0c87e2357b",
   "outputs": [
    {
     "name": "stdout",
     "output_type": "stream",
     "text": [
      "Solver Status:  70.17\n"
     ]
    }
   ],
   "execution_count": 17
  },
  {
   "metadata": {
    "ExecuteTime": {
     "end_time": "2025-02-15T15:14:41.965730Z",
     "start_time": "2025-02-15T15:14:41.888559Z"
    }
   },
   "cell_type": "code",
   "source": [
    "from decimal import Decimal\n",
    "pd.set_option('display.max_colwidth', 10000000000000000000000000000000000000000000000000000)\n",
    "DF_channels = pd.DataFrame()\n",
    "c = 0\n",
    "for index, value in model.a.extract_values().items():\n",
    "    if value > 0.1:\n",
    "        DF_channels.loc[c, \"source\"] = index[0]\n",
    "        DF_channels.loc[c, \"destination\"] = index[1]\n",
    "        try:\n",
    "            DF_channels.loc[c, \"source-alias\"] = nodes.loc[index[0], \"alias\"]\n",
    "        except KeyError:\n",
    "            print(\"Source alias not found in nodes database: placeholder inserted\")\n",
    "            DF_channels.loc[c, \"source-alias\"] = \"source-alias\"\n",
    "            pass\n",
    "        try:\n",
    "            DF_channels.loc[c, \"destination-alias\"] = nodes.loc[index[1], \"alias\"]\n",
    "        except KeyError:\n",
    "            print(\"Destination alias not found in nodes database: placeholder inserted\")\n",
    "            DF_channels.loc[c, \"destination-alias\"] = \"destination-alias\"\n",
    "            pass\n",
    "        DF_channels.loc[c, \"capacity\"] = Decimal(channels.loc[index, \"capacity\"]/1000000)\n",
    "        DF_channels.loc[c, \"amount\"] = Decimal(value/1000000)\n",
    "        DF_channels.loc[c, \"base_fee\"] = Decimal(channels.loc[(index[0], index[1]), \"base_fee\"]/1000000)\n",
    "        DF_channels.loc[c, \"rate_fee\"] = channels.loc[(index[0], index[1]), \"rate_fee\"]\n",
    "        #DF_channels.loc[c, \"used_fl\"] = channels.loc[]\n",
    "        c += 1\n",
    "\n",
    "DF_channels_pos = DF_channels[DF_channels[\"amount\"]!=0]"
   ],
   "id": "b7051d6dc41ce1a0",
   "outputs": [],
   "execution_count": 18
  },
  {
   "metadata": {
    "ExecuteTime": {
     "end_time": "2025-02-15T15:14:41.974345Z",
     "start_time": "2025-02-15T15:14:41.967229Z"
    }
   },
   "cell_type": "code",
   "source": "DF_channels[DF_channels[\"amount\"]> DF_channels[\"capacity\"]]",
   "id": "591cfe14bef33883",
   "outputs": [
    {
     "data": {
      "text/plain": [
       "Empty DataFrame\n",
       "Columns: [source, destination, source-alias, destination-alias, capacity, amount, base_fee, rate_fee]\n",
       "Index: []"
      ],
      "text/html": [
       "<div>\n",
       "<style scoped>\n",
       "    .dataframe tbody tr th:only-of-type {\n",
       "        vertical-align: middle;\n",
       "    }\n",
       "\n",
       "    .dataframe tbody tr th {\n",
       "        vertical-align: top;\n",
       "    }\n",
       "\n",
       "    .dataframe thead th {\n",
       "        text-align: right;\n",
       "    }\n",
       "</style>\n",
       "<table border=\"1\" class=\"dataframe\">\n",
       "  <thead>\n",
       "    <tr style=\"text-align: right;\">\n",
       "      <th></th>\n",
       "      <th>source</th>\n",
       "      <th>destination</th>\n",
       "      <th>source-alias</th>\n",
       "      <th>destination-alias</th>\n",
       "      <th>capacity</th>\n",
       "      <th>amount</th>\n",
       "      <th>base_fee</th>\n",
       "      <th>rate_fee</th>\n",
       "    </tr>\n",
       "  </thead>\n",
       "  <tbody>\n",
       "  </tbody>\n",
       "</table>\n",
       "</div>"
      ]
     },
     "execution_count": 19,
     "metadata": {},
     "output_type": "execute_result"
    }
   ],
   "execution_count": 19
  },
  {
   "metadata": {
    "ExecuteTime": {
     "end_time": "2025-02-15T15:14:42.029599Z",
     "start_time": "2025-02-15T15:14:41.975847Z"
    }
   },
   "cell_type": "code",
   "source": [
    "DF_fixed = pd.DataFrame()\n",
    "c = 0\n",
    "for index, value in model.x.extract_values().items():\n",
    "    if value != 0:\n",
    "        DF_fixed.loc[c, \"source\"] = index[0]\n",
    "        DF_fixed.loc[c, \"destination\"] = index[1]\n",
    "        DF_fixed.loc[c, \"used\"] = Decimal(value)\n",
    "        c += 1\n",
    "\n",
    "DF_fixed_pos = DF_fixed[DF_fixed[\"used\"]!=0]\n",
    "DF_fixed_pos"
   ],
   "id": "4150b1232fe02328",
   "outputs": [
    {
     "data": {
      "text/plain": [
       "                                                                source  \\\n",
       "0   02103f1826be6287c8430e653de06ef16d94b3106c01937a78f5ae2c89bd40f234   \n",
       "1   023619ad26f17792d0c217202587651af088ecb637a3fd3e54b42c4b5f71947318   \n",
       "2   026f46207fd290a33cbd86e29b3ad0a47cdd44ab9aa5267cde66483e10aa9d3180   \n",
       "3   02b4098c3116124c0c4105295d3d2e65927d46e98e248d84cb6119da57e4ae31e3   \n",
       "4   02b4098c3116124c0c4105295d3d2e65927d46e98e248d84cb6119da57e4ae31e3   \n",
       "5   02ba54585837609251865ba9835a32fbeb07f96abc20767dedaafeb17a2e5b8acf   \n",
       "6   030c3f19d742ca294a55c00376b3b355c3c90d61c6b6b39554dbc7ac19b141c14f   \n",
       "7   0357853bbdbeda5b662783f391f29bd10194e2254d0f091eb4116a0b405001dd52   \n",
       "8   037659a0ac8eb3b8d0a720114efc861d3a940382dcfa1403746b4f8f6b2e8810ba   \n",
       "9   03c5bfa5cab7e52e7cebc45fd1b86ea30ad518648651314563452b78b822333660   \n",
       "10  03e7d1b2db2f6909365a066a2b40d5ef3a66f1c4d70d8cac3337e09ff2fd2d408f   \n",
       "\n",
       "                                                           destination used  \n",
       "0   03c5bfa5cab7e52e7cebc45fd1b86ea30ad518648651314563452b78b822333660    1  \n",
       "1   02ba54585837609251865ba9835a32fbeb07f96abc20767dedaafeb17a2e5b8acf    1  \n",
       "2   03e7d1b2db2f6909365a066a2b40d5ef3a66f1c4d70d8cac3337e09ff2fd2d408f    1  \n",
       "3   023619ad26f17792d0c217202587651af088ecb637a3fd3e54b42c4b5f71947318    1  \n",
       "4   026f46207fd290a33cbd86e29b3ad0a47cdd44ab9aa5267cde66483e10aa9d3180    1  \n",
       "5   0202f00d5f5c91a3c79113851b162c2b75f2cbd9fb2378fb4a4ce92d5ba1e63e08    1  \n",
       "6   02103f1826be6287c8430e653de06ef16d94b3106c01937a78f5ae2c89bd40f234    1  \n",
       "7   030c3f19d742ca294a55c00376b3b355c3c90d61c6b6b39554dbc7ac19b141c14f    1  \n",
       "8   0357853bbdbeda5b662783f391f29bd10194e2254d0f091eb4116a0b405001dd52    1  \n",
       "9   0202f00d5f5c91a3c79113851b162c2b75f2cbd9fb2378fb4a4ce92d5ba1e63e08    1  \n",
       "10  037659a0ac8eb3b8d0a720114efc861d3a940382dcfa1403746b4f8f6b2e8810ba    1  "
      ],
      "text/html": [
       "<div>\n",
       "<style scoped>\n",
       "    .dataframe tbody tr th:only-of-type {\n",
       "        vertical-align: middle;\n",
       "    }\n",
       "\n",
       "    .dataframe tbody tr th {\n",
       "        vertical-align: top;\n",
       "    }\n",
       "\n",
       "    .dataframe thead th {\n",
       "        text-align: right;\n",
       "    }\n",
       "</style>\n",
       "<table border=\"1\" class=\"dataframe\">\n",
       "  <thead>\n",
       "    <tr style=\"text-align: right;\">\n",
       "      <th></th>\n",
       "      <th>source</th>\n",
       "      <th>destination</th>\n",
       "      <th>used</th>\n",
       "    </tr>\n",
       "  </thead>\n",
       "  <tbody>\n",
       "    <tr>\n",
       "      <th>0</th>\n",
       "      <td>02103f1826be6287c8430e653de06ef16d94b3106c01937a78f5ae2c89bd40f234</td>\n",
       "      <td>03c5bfa5cab7e52e7cebc45fd1b86ea30ad518648651314563452b78b822333660</td>\n",
       "      <td>1</td>\n",
       "    </tr>\n",
       "    <tr>\n",
       "      <th>1</th>\n",
       "      <td>023619ad26f17792d0c217202587651af088ecb637a3fd3e54b42c4b5f71947318</td>\n",
       "      <td>02ba54585837609251865ba9835a32fbeb07f96abc20767dedaafeb17a2e5b8acf</td>\n",
       "      <td>1</td>\n",
       "    </tr>\n",
       "    <tr>\n",
       "      <th>2</th>\n",
       "      <td>026f46207fd290a33cbd86e29b3ad0a47cdd44ab9aa5267cde66483e10aa9d3180</td>\n",
       "      <td>03e7d1b2db2f6909365a066a2b40d5ef3a66f1c4d70d8cac3337e09ff2fd2d408f</td>\n",
       "      <td>1</td>\n",
       "    </tr>\n",
       "    <tr>\n",
       "      <th>3</th>\n",
       "      <td>02b4098c3116124c0c4105295d3d2e65927d46e98e248d84cb6119da57e4ae31e3</td>\n",
       "      <td>023619ad26f17792d0c217202587651af088ecb637a3fd3e54b42c4b5f71947318</td>\n",
       "      <td>1</td>\n",
       "    </tr>\n",
       "    <tr>\n",
       "      <th>4</th>\n",
       "      <td>02b4098c3116124c0c4105295d3d2e65927d46e98e248d84cb6119da57e4ae31e3</td>\n",
       "      <td>026f46207fd290a33cbd86e29b3ad0a47cdd44ab9aa5267cde66483e10aa9d3180</td>\n",
       "      <td>1</td>\n",
       "    </tr>\n",
       "    <tr>\n",
       "      <th>5</th>\n",
       "      <td>02ba54585837609251865ba9835a32fbeb07f96abc20767dedaafeb17a2e5b8acf</td>\n",
       "      <td>0202f00d5f5c91a3c79113851b162c2b75f2cbd9fb2378fb4a4ce92d5ba1e63e08</td>\n",
       "      <td>1</td>\n",
       "    </tr>\n",
       "    <tr>\n",
       "      <th>6</th>\n",
       "      <td>030c3f19d742ca294a55c00376b3b355c3c90d61c6b6b39554dbc7ac19b141c14f</td>\n",
       "      <td>02103f1826be6287c8430e653de06ef16d94b3106c01937a78f5ae2c89bd40f234</td>\n",
       "      <td>1</td>\n",
       "    </tr>\n",
       "    <tr>\n",
       "      <th>7</th>\n",
       "      <td>0357853bbdbeda5b662783f391f29bd10194e2254d0f091eb4116a0b405001dd52</td>\n",
       "      <td>030c3f19d742ca294a55c00376b3b355c3c90d61c6b6b39554dbc7ac19b141c14f</td>\n",
       "      <td>1</td>\n",
       "    </tr>\n",
       "    <tr>\n",
       "      <th>8</th>\n",
       "      <td>037659a0ac8eb3b8d0a720114efc861d3a940382dcfa1403746b4f8f6b2e8810ba</td>\n",
       "      <td>0357853bbdbeda5b662783f391f29bd10194e2254d0f091eb4116a0b405001dd52</td>\n",
       "      <td>1</td>\n",
       "    </tr>\n",
       "    <tr>\n",
       "      <th>9</th>\n",
       "      <td>03c5bfa5cab7e52e7cebc45fd1b86ea30ad518648651314563452b78b822333660</td>\n",
       "      <td>0202f00d5f5c91a3c79113851b162c2b75f2cbd9fb2378fb4a4ce92d5ba1e63e08</td>\n",
       "      <td>1</td>\n",
       "    </tr>\n",
       "    <tr>\n",
       "      <th>10</th>\n",
       "      <td>03e7d1b2db2f6909365a066a2b40d5ef3a66f1c4d70d8cac3337e09ff2fd2d408f</td>\n",
       "      <td>037659a0ac8eb3b8d0a720114efc861d3a940382dcfa1403746b4f8f6b2e8810ba</td>\n",
       "      <td>1</td>\n",
       "    </tr>\n",
       "  </tbody>\n",
       "</table>\n",
       "</div>"
      ]
     },
     "execution_count": 20,
     "metadata": {},
     "output_type": "execute_result"
    }
   ],
   "execution_count": 20
  },
  {
   "metadata": {},
   "cell_type": "markdown",
   "source": "### All data about channels on path",
   "id": "1dfb4bcd7e78f159"
  },
  {
   "metadata": {
    "ExecuteTime": {
     "end_time": "2025-02-15T15:14:42.049964Z",
     "start_time": "2025-02-15T15:14:42.031495Z"
    }
   },
   "cell_type": "code",
   "source": [
    "intersection = DF_fixed_pos.merge(DF_channels_pos, on=[\"source\", \"destination\"], how=\"outer\")\n",
    "final = intersection[intersection[\"amount\"]>0]\n",
    "final"
   ],
   "id": "ab555f0c48920c85",
   "outputs": [
    {
     "data": {
      "text/plain": [
       "                                                                source  \\\n",
       "0   02103f1826be6287c8430e653de06ef16d94b3106c01937a78f5ae2c89bd40f234   \n",
       "1   023619ad26f17792d0c217202587651af088ecb637a3fd3e54b42c4b5f71947318   \n",
       "2   026f46207fd290a33cbd86e29b3ad0a47cdd44ab9aa5267cde66483e10aa9d3180   \n",
       "3   02b4098c3116124c0c4105295d3d2e65927d46e98e248d84cb6119da57e4ae31e3   \n",
       "4   02b4098c3116124c0c4105295d3d2e65927d46e98e248d84cb6119da57e4ae31e3   \n",
       "5   02ba54585837609251865ba9835a32fbeb07f96abc20767dedaafeb17a2e5b8acf   \n",
       "6   030c3f19d742ca294a55c00376b3b355c3c90d61c6b6b39554dbc7ac19b141c14f   \n",
       "7   0357853bbdbeda5b662783f391f29bd10194e2254d0f091eb4116a0b405001dd52   \n",
       "8   037659a0ac8eb3b8d0a720114efc861d3a940382dcfa1403746b4f8f6b2e8810ba   \n",
       "9   03c5bfa5cab7e52e7cebc45fd1b86ea30ad518648651314563452b78b822333660   \n",
       "10  03e7d1b2db2f6909365a066a2b40d5ef3a66f1c4d70d8cac3337e09ff2fd2d408f   \n",
       "\n",
       "                                                           destination used  \\\n",
       "0   03c5bfa5cab7e52e7cebc45fd1b86ea30ad518648651314563452b78b822333660    1   \n",
       "1   02ba54585837609251865ba9835a32fbeb07f96abc20767dedaafeb17a2e5b8acf    1   \n",
       "2   03e7d1b2db2f6909365a066a2b40d5ef3a66f1c4d70d8cac3337e09ff2fd2d408f    1   \n",
       "3   023619ad26f17792d0c217202587651af088ecb637a3fd3e54b42c4b5f71947318    1   \n",
       "4   026f46207fd290a33cbd86e29b3ad0a47cdd44ab9aa5267cde66483e10aa9d3180    1   \n",
       "5   0202f00d5f5c91a3c79113851b162c2b75f2cbd9fb2378fb4a4ce92d5ba1e63e08    1   \n",
       "6   02103f1826be6287c8430e653de06ef16d94b3106c01937a78f5ae2c89bd40f234    1   \n",
       "7   030c3f19d742ca294a55c00376b3b355c3c90d61c6b6b39554dbc7ac19b141c14f    1   \n",
       "8   0357853bbdbeda5b662783f391f29bd10194e2254d0f091eb4116a0b405001dd52    1   \n",
       "9   0202f00d5f5c91a3c79113851b162c2b75f2cbd9fb2378fb4a4ce92d5ba1e63e08    1   \n",
       "10  037659a0ac8eb3b8d0a720114efc861d3a940382dcfa1403746b4f8f6b2e8810ba    1   \n",
       "\n",
       "         source-alias  destination-alias  capacity  amount  \\\n",
       "0   node on the boat⛵         Clack Bank   4000000  500000   \n",
       "1         btc.honk.pw   Don Quixote Bank    500000  500000   \n",
       "2        Authenticity        routemaster   4000000  500000   \n",
       "3       VeniceForever        btc.honk.pw    500000  500000   \n",
       "4       VeniceForever       Authenticity   1500000  500000   \n",
       "5    Don Quixote Bank         ShatSat412   1010101  500000   \n",
       "6   Bitrefill Routing  node on the boat⛵   1000000  500000   \n",
       "7            SteelRat  Bitrefill Routing   2000000  500000   \n",
       "8        nicehash-ln1           SteelRat   2000000  500000   \n",
       "9          Clack Bank         ShatSat412   1010101  500000   \n",
       "10        routemaster       nicehash-ln1  21999999  500000   \n",
       "\n",
       "                                               base_fee  rate_fee  \n",
       "0     41.9270783365768267003659275360405445098876953125  0.003311  \n",
       "1   25.901204694404857065137548488564789295196533203125  0.021402  \n",
       "2      71.583846094477593169358442537486553192138671875  0.005596  \n",
       "3          80.87314993861991752055473625659942626953125  0.018208  \n",
       "4    55.58885698356561277932996745221316814422607421875  0.053233  \n",
       "5    32.64955713871869846798290382139384746551513671875  0.030378  \n",
       "6       25.22248354556398908243863843381404876708984375  0.003884  \n",
       "7      48.686883461424969254949246533215045928955078125  0.002710  \n",
       "8       73.59028769807679282166645862162113189697265625  0.002586  \n",
       "9     42.2216589409667761856326251290738582611083984375  0.007348  \n",
       "10    43.8821129692397420285487896762788295745849609375  0.001686  "
      ],
      "text/html": [
       "<div>\n",
       "<style scoped>\n",
       "    .dataframe tbody tr th:only-of-type {\n",
       "        vertical-align: middle;\n",
       "    }\n",
       "\n",
       "    .dataframe tbody tr th {\n",
       "        vertical-align: top;\n",
       "    }\n",
       "\n",
       "    .dataframe thead th {\n",
       "        text-align: right;\n",
       "    }\n",
       "</style>\n",
       "<table border=\"1\" class=\"dataframe\">\n",
       "  <thead>\n",
       "    <tr style=\"text-align: right;\">\n",
       "      <th></th>\n",
       "      <th>source</th>\n",
       "      <th>destination</th>\n",
       "      <th>used</th>\n",
       "      <th>source-alias</th>\n",
       "      <th>destination-alias</th>\n",
       "      <th>capacity</th>\n",
       "      <th>amount</th>\n",
       "      <th>base_fee</th>\n",
       "      <th>rate_fee</th>\n",
       "    </tr>\n",
       "  </thead>\n",
       "  <tbody>\n",
       "    <tr>\n",
       "      <th>0</th>\n",
       "      <td>02103f1826be6287c8430e653de06ef16d94b3106c01937a78f5ae2c89bd40f234</td>\n",
       "      <td>03c5bfa5cab7e52e7cebc45fd1b86ea30ad518648651314563452b78b822333660</td>\n",
       "      <td>1</td>\n",
       "      <td>node on the boat⛵</td>\n",
       "      <td>Clack Bank</td>\n",
       "      <td>4000000</td>\n",
       "      <td>500000</td>\n",
       "      <td>41.9270783365768267003659275360405445098876953125</td>\n",
       "      <td>0.003311</td>\n",
       "    </tr>\n",
       "    <tr>\n",
       "      <th>1</th>\n",
       "      <td>023619ad26f17792d0c217202587651af088ecb637a3fd3e54b42c4b5f71947318</td>\n",
       "      <td>02ba54585837609251865ba9835a32fbeb07f96abc20767dedaafeb17a2e5b8acf</td>\n",
       "      <td>1</td>\n",
       "      <td>btc.honk.pw</td>\n",
       "      <td>Don Quixote Bank</td>\n",
       "      <td>500000</td>\n",
       "      <td>500000</td>\n",
       "      <td>25.901204694404857065137548488564789295196533203125</td>\n",
       "      <td>0.021402</td>\n",
       "    </tr>\n",
       "    <tr>\n",
       "      <th>2</th>\n",
       "      <td>026f46207fd290a33cbd86e29b3ad0a47cdd44ab9aa5267cde66483e10aa9d3180</td>\n",
       "      <td>03e7d1b2db2f6909365a066a2b40d5ef3a66f1c4d70d8cac3337e09ff2fd2d408f</td>\n",
       "      <td>1</td>\n",
       "      <td>Authenticity</td>\n",
       "      <td>routemaster</td>\n",
       "      <td>4000000</td>\n",
       "      <td>500000</td>\n",
       "      <td>71.583846094477593169358442537486553192138671875</td>\n",
       "      <td>0.005596</td>\n",
       "    </tr>\n",
       "    <tr>\n",
       "      <th>3</th>\n",
       "      <td>02b4098c3116124c0c4105295d3d2e65927d46e98e248d84cb6119da57e4ae31e3</td>\n",
       "      <td>023619ad26f17792d0c217202587651af088ecb637a3fd3e54b42c4b5f71947318</td>\n",
       "      <td>1</td>\n",
       "      <td>VeniceForever</td>\n",
       "      <td>btc.honk.pw</td>\n",
       "      <td>500000</td>\n",
       "      <td>500000</td>\n",
       "      <td>80.87314993861991752055473625659942626953125</td>\n",
       "      <td>0.018208</td>\n",
       "    </tr>\n",
       "    <tr>\n",
       "      <th>4</th>\n",
       "      <td>02b4098c3116124c0c4105295d3d2e65927d46e98e248d84cb6119da57e4ae31e3</td>\n",
       "      <td>026f46207fd290a33cbd86e29b3ad0a47cdd44ab9aa5267cde66483e10aa9d3180</td>\n",
       "      <td>1</td>\n",
       "      <td>VeniceForever</td>\n",
       "      <td>Authenticity</td>\n",
       "      <td>1500000</td>\n",
       "      <td>500000</td>\n",
       "      <td>55.58885698356561277932996745221316814422607421875</td>\n",
       "      <td>0.053233</td>\n",
       "    </tr>\n",
       "    <tr>\n",
       "      <th>5</th>\n",
       "      <td>02ba54585837609251865ba9835a32fbeb07f96abc20767dedaafeb17a2e5b8acf</td>\n",
       "      <td>0202f00d5f5c91a3c79113851b162c2b75f2cbd9fb2378fb4a4ce92d5ba1e63e08</td>\n",
       "      <td>1</td>\n",
       "      <td>Don Quixote Bank</td>\n",
       "      <td>ShatSat412</td>\n",
       "      <td>1010101</td>\n",
       "      <td>500000</td>\n",
       "      <td>32.64955713871869846798290382139384746551513671875</td>\n",
       "      <td>0.030378</td>\n",
       "    </tr>\n",
       "    <tr>\n",
       "      <th>6</th>\n",
       "      <td>030c3f19d742ca294a55c00376b3b355c3c90d61c6b6b39554dbc7ac19b141c14f</td>\n",
       "      <td>02103f1826be6287c8430e653de06ef16d94b3106c01937a78f5ae2c89bd40f234</td>\n",
       "      <td>1</td>\n",
       "      <td>Bitrefill Routing</td>\n",
       "      <td>node on the boat⛵</td>\n",
       "      <td>1000000</td>\n",
       "      <td>500000</td>\n",
       "      <td>25.22248354556398908243863843381404876708984375</td>\n",
       "      <td>0.003884</td>\n",
       "    </tr>\n",
       "    <tr>\n",
       "      <th>7</th>\n",
       "      <td>0357853bbdbeda5b662783f391f29bd10194e2254d0f091eb4116a0b405001dd52</td>\n",
       "      <td>030c3f19d742ca294a55c00376b3b355c3c90d61c6b6b39554dbc7ac19b141c14f</td>\n",
       "      <td>1</td>\n",
       "      <td>SteelRat</td>\n",
       "      <td>Bitrefill Routing</td>\n",
       "      <td>2000000</td>\n",
       "      <td>500000</td>\n",
       "      <td>48.686883461424969254949246533215045928955078125</td>\n",
       "      <td>0.002710</td>\n",
       "    </tr>\n",
       "    <tr>\n",
       "      <th>8</th>\n",
       "      <td>037659a0ac8eb3b8d0a720114efc861d3a940382dcfa1403746b4f8f6b2e8810ba</td>\n",
       "      <td>0357853bbdbeda5b662783f391f29bd10194e2254d0f091eb4116a0b405001dd52</td>\n",
       "      <td>1</td>\n",
       "      <td>nicehash-ln1</td>\n",
       "      <td>SteelRat</td>\n",
       "      <td>2000000</td>\n",
       "      <td>500000</td>\n",
       "      <td>73.59028769807679282166645862162113189697265625</td>\n",
       "      <td>0.002586</td>\n",
       "    </tr>\n",
       "    <tr>\n",
       "      <th>9</th>\n",
       "      <td>03c5bfa5cab7e52e7cebc45fd1b86ea30ad518648651314563452b78b822333660</td>\n",
       "      <td>0202f00d5f5c91a3c79113851b162c2b75f2cbd9fb2378fb4a4ce92d5ba1e63e08</td>\n",
       "      <td>1</td>\n",
       "      <td>Clack Bank</td>\n",
       "      <td>ShatSat412</td>\n",
       "      <td>1010101</td>\n",
       "      <td>500000</td>\n",
       "      <td>42.2216589409667761856326251290738582611083984375</td>\n",
       "      <td>0.007348</td>\n",
       "    </tr>\n",
       "    <tr>\n",
       "      <th>10</th>\n",
       "      <td>03e7d1b2db2f6909365a066a2b40d5ef3a66f1c4d70d8cac3337e09ff2fd2d408f</td>\n",
       "      <td>037659a0ac8eb3b8d0a720114efc861d3a940382dcfa1403746b4f8f6b2e8810ba</td>\n",
       "      <td>1</td>\n",
       "      <td>routemaster</td>\n",
       "      <td>nicehash-ln1</td>\n",
       "      <td>21999999</td>\n",
       "      <td>500000</td>\n",
       "      <td>43.8821129692397420285487896762788295745849609375</td>\n",
       "      <td>0.001686</td>\n",
       "    </tr>\n",
       "  </tbody>\n",
       "</table>\n",
       "</div>"
      ]
     },
     "execution_count": 21,
     "metadata": {},
     "output_type": "execute_result"
    }
   ],
   "execution_count": 21
  },
  {
   "metadata": {
    "ExecuteTime": {
     "end_time": "2025-02-15T15:14:42.061548Z",
     "start_time": "2025-02-15T15:14:42.051521Z"
    }
   },
   "cell_type": "code",
   "source": [
    "%%capture --no-stdout\n",
    "final[\"amount\"] = final[\"amount\"].astype(float)\n",
    "final[\"rate_fee\"] = final[\"rate_fee\"].astype(float)\n",
    "final[\"base_fee\"] = final[\"base_fee\"].astype(float)\n",
    "total_transaction_cost = sum(final[\"amount\"] * final[\"rate_fee\"] + final[\"base_fee\"])\n",
    "perc_cost = (total_transaction_cost * 100) / transaction_amount\n",
    "print(f\"Transacting {transaction_amount} sats costs {total_transaction_cost} ({perc_cost}% of transaction amount)\")"
   ],
   "id": "5cb9ca4869b126de",
   "outputs": [
    {
     "name": "stdout",
     "output_type": "stream",
     "text": [
      "Transacting 1000000 sats costs 75713.36806759292 (7.571336806759292% of transaction amount)\n"
     ]
    }
   ],
   "execution_count": 22
  },
  {
   "metadata": {
    "ExecuteTime": {
     "end_time": "2025-02-15T15:14:42.853597Z",
     "start_time": "2025-02-15T15:14:42.063250Z"
    }
   },
   "cell_type": "code",
   "source": [
    "import networkx as nx\n",
    "import matplotlib.pyplot as plt\n",
    "\n",
    "# edges list construction\n",
    "edges_df = final[[\"source-alias\", \"destination-alias\"]]\n",
    "\n",
    "G = nx.from_pandas_edgelist(edges_df, \"source-alias\", \"destination-alias\", create_using=nx.DiGraph())\n",
    "\n",
    "#plt.figure(figsize=(8, 6))\n",
    "#pos = nx.spring_layout(G)\n",
    "#nx.draw(G, pos, with_labels=True, node_size=2000, node_color='lightblue', font_size=10, font_color='black', font_weight='bold', arrows=True)\n",
    "#plt.title(\"Graph from DataFrame of Edges\")\n",
    "#plt.show()\n",
    "\n",
    "\n",
    "plt.figure(figsize=(8, 6))\n",
    "pos = nx.spring_layout(G) \n",
    "#pos = nx.circular_layout(G)\n",
    "#pos = nx.planar_layout(G)\n",
    "#pos = nx.shell_layout(G)\n",
    "nx.draw(G, pos, with_labels=True, node_size=1000, node_color='lightblue', font_size=10, font_color='black', font_weight='bold', arrows=True)\n",
    "plt.title(\"Graph with Uniform Node Size\")\n",
    "plt.show()"
   ],
   "id": "d7e96330eab65421",
   "outputs": [
    {
     "name": "stderr",
     "output_type": "stream",
     "text": [
      "/home/filippo/repositories/LN-pathfinding/venv/lib/python3.10/site-packages/IPython/core/pylabtools.py:170: UserWarning: Glyph 9973 (\\N{SAILBOAT}) missing from font(s) DejaVu Sans.\n",
      "  fig.canvas.print_figure(bytes_io, **kw)\n"
     ]
    },
    {
     "data": {
      "text/plain": [
       "<Figure size 800x600 with 1 Axes>"
      ],
      "image/png": "[encoded data removed]"
     },
     "metadata": {},
     "output_type": "display_data"
    }
   ],
   "execution_count": 23
  },
  {
   "metadata": {
    "ExecuteTime": {
     "end_time": "2025-02-15T15:14:42.859411Z",
     "start_time": "2025-02-15T15:14:42.854887Z"
    }
   },
   "cell_type": "code",
   "source": [
    "for i in nx.strongly_connected_components(G):\n",
    "    print(i)"
   ],
   "id": "ba678151d648b088",
   "outputs": [
    {
     "name": "stdout",
     "output_type": "stream",
     "text": [
      "{'ShatSat412'}\n",
      "{'Clack Bank'}\n",
      "{'node on the boat⛵'}\n",
      "{'Don Quixote Bank'}\n",
      "{'btc.honk.pw'}\n",
      "{'Bitrefill Routing'}\n",
      "{'SteelRat'}\n",
      "{'nicehash-ln1'}\n",
      "{'routemaster'}\n",
      "{'Authenticity'}\n",
      "{'VeniceForever'}\n"
     ]
    }
   ],
   "execution_count": 24
  },
  {
   "metadata": {
    "ExecuteTime": {
     "end_time": "2025-02-15T15:14:42.871823Z",
     "start_time": "2025-02-15T15:14:42.861166Z"
    }
   },
   "cell_type": "code",
   "source": [
    "final[\"amount\"] = final[\"amount\"].astype(float)\n",
    "final[\"rate_fee\"] = final[\"rate_fee\"].astype(float)\n",
    "final[\"base_fee\"] = final[\"base_fee\"].astype(float)\n",
    "total_transaction_cost = sum(final[\"amount\"] * final[\"rate_fee\"] + final[\"base_fee\"])\n",
    "perc_cost = (total_transaction_cost * 100) / transaction_amount\n",
    "print(f\"Transacting {transaction_amount} sats costs {total_transaction_cost} ({perc_cost}% of transaction amount)\")\n",
    "print(\"Solver Status: \", results.solver[0][\"System time\"])"
   ],
   "id": "85a5678d800efad8",
   "outputs": [
    {
     "name": "stdout",
     "output_type": "stream",
     "text": [
      "Transacting 1000000 sats costs 75713.36806759292 (7.571336806759292% of transaction amount)\n",
      "Solver Status:  70.17\n"
     ]
    }
   ],
   "execution_count": 25
  },
  {
   "metadata": {
    "ExecuteTime": {
     "end_time": "2025-02-15T15:14:42.881936Z",
     "start_time": "2025-02-15T15:14:42.873311Z"
    }
   },
   "cell_type": "code",
   "source": [
    "#from collections import Counter\n",
    "#results = [tuple(i) for i in DF_channels_pos[[\"source-alias\", \"destination-alias\"]].to_numpy()]\n",
    "#unwrap = [e for i in results for e in i]\n",
    "#extremes = [j for j in unwrap if Counter(unwrap)[j] == 1]\n",
    "#def return_source(l: list):\n",
    "#    if l[0] in [i for i, j in results]:\n",
    "#        return l[0]\n",
    "#    else: \n",
    "#        return l[1]\n",
    "#sequence = []        \n",
    "#source = return_source(extremes)\n",
    "#sequence.append(source)\n",
    "#while len(sequence) <= len(results):\n",
    "#    for i,j in results:\n",
    "#        if i == sequence[-1]:\n",
    "#            sequence.append(j)\n",
    "#for i in sequence:\n",
    "#    print(\"⬇️\", i)"
   ],
   "id": "6388d7bda8ced731",
   "outputs": [],
   "execution_count": 26
  }
 ],
 "metadata": {
  "kernelspec": {
   "display_name": "Python 3",
   "language": "python",
   "name": "python3"
  },
  "language_info": {
   "codemirror_mode": {
    "name": "ipython",
    "version": 2
   },
   "file_extension": ".py",
   "mimetype": "text/x-python",
   "name": "python",
   "nbconvert_exporter": "python",
   "pygments_lexer": "ipython2",
   "version": "2.7.6"
  }
 },
 "nbformat": 4,
 "nbformat_minor": 5
}
