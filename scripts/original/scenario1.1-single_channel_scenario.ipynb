{
 "cells": [
  {
   "metadata": {
    "ExecuteTime": {
     "end_time": "2025-03-09T15:41:02.988131Z",
     "start_time": "2025-03-09T15:41:02.537622Z"
    }
   },
   "cell_type": "code",
   "source": [
    "import pandas as pd\n",
    "from cleaning import create_demand\n",
    "import pyomo.environ as pyo\n",
    "import pyomo\n",
    "import random"
   ],
   "id": "initial_id",
   "outputs": [],
   "execution_count": 1
  },
  {
   "metadata": {},
   "cell_type": "markdown",
   "source": "# Data import",
   "id": "a4b2795dc42b8269"
  },
  {
   "metadata": {
    "ExecuteTime": {
     "end_time": "2025-03-09T15:41:03.066533Z",
     "start_time": "2025-03-09T15:41:02.989288Z"
    }
   },
   "cell_type": "code",
   "source": [
    "nodes = pd.read_pickle(\"../../data/original/nodes.pkl\")\n",
    "channels = pd.read_pickle(\"../../data/original/channels.pkl\")"
   ],
   "id": "20748e4222156956",
   "outputs": [],
   "execution_count": 2
  },
  {
   "metadata": {
    "ExecuteTime": {
     "end_time": "2025-03-09T15:41:03.134770Z",
     "start_time": "2025-03-09T15:41:03.067734Z"
    }
   },
   "cell_type": "code",
   "source": [
    "channels[\"base_fee\"] = channels.loc[:, \"base_fee\"].apply(lambda x: random.uniform(0,100)) # if x==0 else x)\n",
    "channels[\"rate_fee\"] = channels.loc[:, \"rate_fee\"].apply(lambda x: random.uniform(0.001,0.1)) # if x==0 else x)"
   ],
   "id": "a4ca55f47021bb83",
   "outputs": [],
   "execution_count": 3
  },
  {
   "metadata": {},
   "cell_type": "markdown",
   "source": "## Modeling",
   "id": "7df6d25eef847cf7"
  },
  {
   "metadata": {
    "ExecuteTime": {
     "end_time": "2025-03-09T15:41:03.141385Z",
     "start_time": "2025-03-09T15:41:03.136013Z"
    }
   },
   "cell_type": "code",
   "source": "pyomo.common.timing.report_timing()",
   "id": "4a4e07a12106f0f2",
   "outputs": [
    {
     "data": {
      "text/plain": [
       "<pyomo.common.timing.report_timing at 0x7fd5b0cb9840>"
      ]
     },
     "execution_count": 4,
     "metadata": {},
     "output_type": "execute_result"
    }
   ],
   "execution_count": 4
  },
  {
   "metadata": {
    "ExecuteTime": {
     "end_time": "2025-03-09T15:41:03.153877Z",
     "start_time": "2025-03-09T15:41:03.143554Z"
    }
   },
   "cell_type": "code",
   "source": [
    "# Multiplication to set the same base unit for all computations\n",
    "channels[\"capacity\"] = channels[\"capacity\"] * 1000000\n",
    "channels[\"base_fee\"] = channels[\"base_fee\"] * 1000000"
   ],
   "id": "eb5330e8d98289ec",
   "outputs": [],
   "execution_count": 5
  },
  {
   "metadata": {
    "ExecuteTime": {
     "end_time": "2025-03-09T15:41:04.907708Z",
     "start_time": "2025-03-09T15:41:03.154887Z"
    }
   },
   "cell_type": "code",
   "source": [
    "model = pyo.ConcreteModel(name=\"Min cost flow problem\")\n",
    "model.NODES = pyo.Set(initialize=nodes.index)\n",
    "model.CHANNELS = pyo.Set(initialize=[(channels.loc[i, \"node1_pub\"], channels.loc[i, \"node2_pub\"]) for i in channels.index])"
   ],
   "id": "52bc701c57020ae",
   "outputs": [
    {
     "name": "stdout",
     "output_type": "stream",
     "text": [
      "           0 seconds to construct Block ConcreteModel; 1 index total\n",
      "        0.02 seconds to construct Set NODES; 1 index total\n",
      "        0.24 seconds to construct Set CHANNELS; 1 index total\n"
     ]
    }
   ],
   "execution_count": 6
  },
  {
   "metadata": {
    "ExecuteTime": {
     "end_time": "2025-03-09T15:41:04.917666Z",
     "start_time": "2025-03-09T15:41:04.909178Z"
    }
   },
   "cell_type": "code",
   "source": [
    "transaction_amount = 1000000\n",
    "nodes = create_demand(nodes, transaction_amount,\n",
    "                      source=\"02b4098c3116124c0c4105295d3d2e65927d46e98e248d84cb6119da57e4ae31e3\",destination=\"0202f00d5f5c91a3c79113851b162c2b75f2cbd9fb2378fb4a4ce92d5ba1e63e08\")"
   ],
   "id": "71f0e54edb55901d",
   "outputs": [
    {
     "name": "stdout",
     "output_type": "stream",
     "text": [
      "Transaction of 1000000 sats.\n",
      "Sender: VeniceForever\n",
      "Receiver: ShatSat412.\n"
     ]
    }
   ],
   "execution_count": 7
  },
  {
   "metadata": {
    "ExecuteTime": {
     "end_time": "2025-03-09T15:41:05.185525Z",
     "start_time": "2025-03-09T15:41:04.918670Z"
    }
   },
   "cell_type": "code",
   "source": [
    "model.x = pyo.Var(model.CHANNELS, domain=pyo.Binary)\n",
    "model.a = pyo.Var(model.CHANNELS, domain=pyo.NonNegativeReals, bounds=(0, max(nodes[\"demand\"])))"
   ],
   "id": "db6bf92632e748f7",
   "outputs": [
    {
     "name": "stdout",
     "output_type": "stream",
     "text": [
      "        0.13 seconds to construct Var x; 89898 indices total\n",
      "        0.12 seconds to construct Var a; 89898 indices total\n"
     ]
    }
   ],
   "execution_count": 8
  },
  {
   "metadata": {
    "ExecuteTime": {
     "end_time": "2025-03-09T15:41:05.218770Z",
     "start_time": "2025-03-09T15:41:05.186536Z"
    }
   },
   "cell_type": "code",
   "source": [
    "channels.reset_index(inplace=True)\n",
    "channels.set_index([\"node1_pub\", \"node2_pub\"], inplace=True)\n",
    "channels.sort_index(inplace=True)"
   ],
   "id": "5d69bcd9f4cf6b47",
   "outputs": [],
   "execution_count": 9
  },
  {
   "metadata": {},
   "cell_type": "markdown",
   "source": [
    "### Objective function\n",
    "\n",
    "$$\n",
    "min \\sum_{} ^{} amount_i \\times feerate_{i} + x_{i} \\times basefee_{i}\n",
    "$$"
   ],
   "id": "75fbeb57061b26ae"
  },
  {
   "metadata": {
    "ExecuteTime": {
     "end_time": "2025-03-09T15:41:12.829017Z",
     "start_time": "2025-03-09T15:41:05.219957Z"
    }
   },
   "cell_type": "code",
   "source": [
    "#def objective_function(model: pyo.ConcreteModel):\n",
    "#    return sum(model.a[i] * channels.loc[i, \"rate_fee\"] for i in model.CHANNELS) + sum(model.x[i] * channels.loc[i, \"base_fee\"] for i in model.CHANNELS)\n",
    "\n",
    "def objective_function(model: pyo.ConcreteModel):\n",
    "    return sum(model.a[i] * channels.loc[i, \"rate_fee\"] + model.x[i] * channels.loc[i, \"base_fee\"] for i in model.CHANNELS)\n",
    "\n",
    "model.totalCost = pyo.Objective(rule=objective_function(model), sense=pyo.minimize)"
   ],
   "id": "f45ec00f2444e9d1",
   "outputs": [
    {
     "name": "stdout",
     "output_type": "stream",
     "text": [
      "           0 seconds to construct Objective totalCost; 1 index total\n"
     ]
    }
   ],
   "execution_count": 10
  },
  {
   "metadata": {},
   "cell_type": "markdown",
   "source": [
    "### Constraints\n",
    "\n",
    "#### Symmetric channel flow rule\n",
    "\n",
    "This constraint enforces the symmetry between the number of channel incoming and outgoing from an intermediary node (excluding source and destination nodes)\n",
    "\n",
    "$$\n",
    "\\sum_{(i,n) \\in E} x_{i,n} \\ge \\sum_{(n,j) \\in E} x_{n,j} \\text{ } \\forall n \\in V \\bigwedge i \\notin \\{n, s, d\\}\n",
    "$$\n",
    "\n",
    "where $s$ is the source node, with a negative demand and $d$ is the destination node, with positive demand."
   ],
   "id": "861b0daa9b9cba75"
  },
  {
   "metadata": {
    "ExecuteTime": {
     "end_time": "2025-03-09T15:41:13.248189Z",
     "start_time": "2025-03-09T15:41:12.830115Z"
    }
   },
   "cell_type": "code",
   "source": [
    "s = nodes[nodes[\"demand\"] < 0].index.values\n",
    "d = nodes[nodes[\"demand\"] > 0].index.values\n",
    "intermediaries = [(i, j) for i, j in channels.index if i != s and j != d]"
   ],
   "id": "fb28e372cf7ca6b5",
   "outputs": [],
   "execution_count": 11
  },
  {
   "metadata": {
    "ExecuteTime": {
     "end_time": "2025-03-09T15:42:01.214553Z",
     "start_time": "2025-03-09T15:41:13.249524Z"
    }
   },
   "cell_type": "code",
   "source": [
    "def number_channels_rule(model: pyo.ConcreteModel, n):\n",
    "    incoming = [model.x[(i, j)] for i, j in intermediaries if j == n]\n",
    "    outgoing = [model.x[(i, j)] for i, j in intermediaries if i == n]\n",
    "    return sum(incoming) >= sum(outgoing)\n",
    "\n",
    "model.NumberChannelsConstraint = pyo.Constraint(model.NODES, rule=number_channels_rule, name=\"Number channels constraint\")"
   ],
   "id": "f030e01165abfbbd",
   "outputs": [
    {
     "name": "stdout",
     "output_type": "stream",
     "text": [
      "       47.96 seconds to construct Constraint NumberChannelsConstraint; 11984 indices total\n"
     ]
    }
   ],
   "execution_count": 12
  },
  {
   "metadata": {},
   "cell_type": "markdown",
   "source": [
    "#### Capacity constraint\n",
    "\n",
    "$$amount_{i,j} \\le capacity_{i,j} \\times x_{i,j} \\text{ } \\forall (i,j) \\in E$$"
   ],
   "id": "e5ea238f92c81afb"
  },
  {
   "metadata": {
    "ExecuteTime": {
     "end_time": "2025-03-09T15:42:05.928514Z",
     "start_time": "2025-03-09T15:42:01.215522Z"
    }
   },
   "cell_type": "code",
   "source": [
    "def capacity_constraint(model: pyo.ConcreteModel, a, b):\n",
    "    return model.a[(a, b)] <= channels.loc[(a, b), \"capacity\"] * model.x[(a, b)]\n",
    "\n",
    "model.CapacityConstraint = pyo.Constraint(model.CHANNELS, rule=capacity_constraint, name=\"Capacity constraint\")"
   ],
   "id": "7d46c6418b15675a",
   "outputs": [
    {
     "name": "stdout",
     "output_type": "stream",
     "text": [
      "        4.71 seconds to construct Constraint CapacityConstraint; 89898 indices total\n"
     ]
    }
   ],
   "execution_count": 13
  },
  {
   "metadata": {},
   "cell_type": "markdown",
   "source": [
    "#### Flow balance constraint\n",
    "\n",
    "$$\\sum_{(s,i) \\in E} amount_{s,i} - \\sum_{(i,t) \\in E} amount_{i,d} = b_i \\text{ } \\forall i \\in V$$\n",
    "\n",
    "where $s$ is the source node, $d$ is the destination node, $i$ is every intermediary node\n"
   ],
   "id": "7adcde34bbdb4878"
  },
  {
   "metadata": {
    "ExecuteTime": {
     "end_time": "2025-03-09T15:42:09.148504Z",
     "start_time": "2025-03-09T15:42:05.930853Z"
    }
   },
   "cell_type": "code",
   "source": [
    "channels.reset_index(inplace=True)\n",
    "channels.set_index(\"channel_id\", inplace=True)\n",
    "\n",
    "def flow_balance_constraint(model: pyo.ConcreteModel, n: str):\n",
    "    InFlow = sum(model.a[(channels.loc[a, \"node1_pub\"], channels.loc[a, \"node2_pub\"])] for a in nodes.loc[n, 'incoming_channels'])\n",
    "    OutFlow = sum(model.a[(channels.loc[a, \"node1_pub\"], channels.loc[a, \"node2_pub\"])] for a in nodes.loc[n, 'outgoing_channels'])\n",
    "    return  OutFlow + nodes.loc[n, \"demand\"] == InFlow\n",
    "\n",
    "model.FlowBalanceConstraint = pyo.Constraint(model.NODES, rule=flow_balance_constraint, name=\"Flow balance constrain\")\n",
    "\n",
    "channels.reset_index(inplace=True)\n",
    "channels.set_index([\"node1_pub\", \"node2_pub\"], inplace=True)\n",
    "channels.sort_index(inplace=True) "
   ],
   "id": "d2b57765c3b53fc5",
   "outputs": [
    {
     "name": "stdout",
     "output_type": "stream",
     "text": [
      "        3.18 seconds to construct Constraint FlowBalanceConstraint; 11984 indices total\n"
     ]
    }
   ],
   "execution_count": 14
  },
  {
   "metadata": {},
   "cell_type": "markdown",
   "source": "## Solving the model",
   "id": "b8bc8c88087daf77"
  },
  {
   "metadata": {
    "ExecuteTime": {
     "end_time": "2025-03-09T15:42:09.151495Z",
     "start_time": "2025-03-09T15:42:09.149403Z"
    }
   },
   "cell_type": "code",
   "source": [
    "#from pyomo.common.tempfiles import TempfileManager\n",
    "#TempfileManager.tempdir = \"/home/filippo/repositories/LN-pathfinding\""
   ],
   "id": "2dd413d5dd6de75f",
   "outputs": [],
   "execution_count": 15
  },
  {
   "metadata": {
    "ExecuteTime": {
     "end_time": "2025-03-09T16:06:26.291394Z",
     "start_time": "2025-03-09T15:42:09.152304Z"
    }
   },
   "cell_type": "code",
   "source": [
    "opt = pyo.SolverFactory('cbc')\n",
    "#opt = pyo.SolverFactory('cplex_direct')\n",
    "results = opt.solve(model, tee=True, keepfiles=True)\n",
    "\n",
    "if (results.solver.status == pyo.SolverStatus.ok) and (results.solver.termination_condition == pyo.TerminationCondition.optimal):\n",
    "    print('\\nOptimal solution found')\n",
    "elif results.solver.termination_condition == pyo.TerminationCondition.feasible:\n",
    "    print('\\nFeasible but not proven optimal solution found')\n",
    "elif results.solver.termination_condition == pyo.TerminationCondition.infeasible:\n",
    "    raise Exception(\"The model is infeasible\")\n",
    "else:\n",
    "    print('\\nSolver Status: ',  results.solver.status)\n",
    "    raise Exception(results.solver.status)\n",
    "\n",
    "print('\\nObject function value = ', model.Objective())\n"
   ],
   "id": "f88c7c0611694b3b",
   "outputs": [
    {
     "name": "stdout",
     "output_type": "stream",
     "text": [
      "           0 seconds to construct Var ONE_VAR_CONSTANT; 1 index total\n",
      "      [    2.14] Generated LP representation\n",
      "Solver log file: '/tmp/tmpik6rmuzs.cbc.log'\n",
      "Solver solution file: '/tmp/tmp0c9zf2yi.pyomo.soln'\n",
      "Solver problem files: ('/tmp/tmp0c9zf2yi.pyomo.lp',)\n",
      "Welcome to the CBC MILP Solver \n",
      "Version: 2.10.8 \n",
      "Build Date: May  9 2022 \n",
      "\n",
      "command line - /usr/bin/cbc -printingOptions all -import /tmp/tmp0c9zf2yi.pyomo.lp -stat=1 -solve -solu /tmp/tmp0c9zf2yi.pyomo.soln (default strategy 1)\n",
      "Option for printingOptions changed from normal to all\n",
      "Presolve 107839 (-6027) rows, 173764 (-6032) columns and 514153 (-24067) elements\n",
      "Statistics for presolved model\n",
      "Original problem has 89898 integers (89898 of which binary)\n",
      "Presolved problem has 89871 integers (89871 of which binary)\n",
      "==== 0 zero objective 173764 different\n",
      "==== absolute objective values 173764 different\n",
      "==== for integers 0 zero objective 89871 different\n",
      "==== for integers absolute objective values 89871 different\n",
      "===== end objective counts\n",
      "\n",
      "\n",
      "Problem has 107839 rows, 173764 columns (173764 with objective) and 514153 elements\n",
      "There are 50 singletons with objective \n",
      "Column breakdown:\n",
      "0 of type 0.0->inf, 83893 of type 0.0->up, 0 of type lo->inf, \n",
      "0 of type lo->up, 0 of type free, 0 of type fixed, \n",
      "0 of type -inf->0.0, 0 of type -inf->up, 89871 of type 0.0->1.0 \n",
      "Row breakdown:\n",
      "5984 of type E 0.0, 0 of type E 1.0, 0 of type E -1.0, \n",
      "2 of type E other, 0 of type G 0.0, 0 of type G 1.0, \n",
      "0 of type G other, 101853 of type L 0.0, 0 of type L 1.0, \n",
      "0 of type L other, 0 of type Range 0.0->1.0, 0 of type Range other, \n",
      "0 of type Free \n",
      "Continuous objective value is 5.18936e+10 - 8.96 seconds\n",
      "Cgl0002I 27 variables fixed\n",
      "Cgl0003I 0 fixed, 0 tightened bounds, 0 strengthened rows, 40 substitutions\n",
      "Cgl0004I processed model has 95828 rows, 167716 columns (89809 integer (89809 of which binary)) and 490131 elements\n",
      "Cbc0038I Initial state - 12 integers unsatisfied sum - 1.97319\n",
      "Cbc0038I Pass   1: (11.46 seconds) suminf.    0.67369 (4) obj. 5.49479e+10 iterations 6028\n",
      "Cbc0038I Pass   2: (11.58 seconds) suminf.    0.00000 (0) obj. 5.28066e+10 iterations 448\n",
      "Cbc0038I Solution found of 5.28066e+10\n",
      "Cbc0038I Relaxing continuous gives 5.28066e+10\n",
      "Cbc0038I Before mini branch and bound, 89795 integers at bound fixed and 73917 continuous\n",
      "Cbc0038I Mini branch and bound did not improve solution (20.46 seconds)\n",
      "Cbc0038I Round again with cutoff of 5.27314e+10\n",
      "Cbc0038I Pass   3: (25.38 seconds) suminf.    0.84648 (7) obj. 5.27314e+10 iterations 12005\n",
      "Cbc0038I Pass   4: (26.30 seconds) suminf.    0.15492 (6) obj. 5.27314e+10 iterations 2547\n",
      "Cbc0038I Pass   5: (29.71 seconds) suminf.    0.49994 (4) obj. 5.27314e+10 iterations 10626\n",
      "Cbc0038I Pass   6: (31.50 seconds) suminf.    0.35925 (2) obj. 5.27314e+10 iterations 4063\n",
      "Cbc0038I Pass   7: (34.34 seconds) suminf.    2.69039 (22) obj. 5.27314e+10 iterations 7883\n",
      "Cbc0038I Pass   8: (35.54 seconds) suminf.    2.13851 (16) obj. 5.27314e+10 iterations 1897\n",
      "Cbc0038I Pass   9: (37.23 seconds) suminf.    1.77529 (91) obj. 5.27314e+10 iterations 3884\n",
      "Cbc0038I Pass  10: (39.63 seconds) suminf.    1.49997 (10) obj. 5.27314e+10 iterations 3159\n",
      "Cbc0038I Pass  11: (44.39 seconds) suminf.    3.44227 (11) obj. 5.27314e+10 iterations 9616\n",
      "Cbc0038I Pass  12: (44.94 seconds) suminf.    3.44227 (11) obj. 5.27314e+10 iterations 612\n",
      "Cbc0038I Pass  13: (47.56 seconds) suminf.    2.99272 (11) obj. 5.27314e+10 iterations 6804\n",
      "Cbc0038I Pass  14: (48.18 seconds) suminf.    1.80922 (10) obj. 5.27314e+10 iterations 863\n",
      "Cbc0038I Pass  15: (49.01 seconds) suminf.    1.80922 (10) obj. 5.27314e+10 iterations 1099\n",
      "Cbc0038I Pass  16: (51.83 seconds) suminf.    2.69456 (11) obj. 5.27314e+10 iterations 6833\n",
      "Cbc0038I Pass  17: (52.62 seconds) suminf.    1.54798 (9) obj. 5.27314e+10 iterations 1017\n",
      "Cbc0038I Pass  18: (53.37 seconds) suminf.    1.25811 (8) obj. 5.27314e+10 iterations 933\n",
      "Cbc0038I Pass  19: (57.66 seconds) suminf.    1.86723 (9) obj. 5.27314e+10 iterations 9857\n",
      "Cbc0038I Pass  20: (59.70 seconds) suminf.    3.46536 (14) obj. 5.27314e+10 iterations 3209\n",
      "Cbc0038I Pass  21: (61.18 seconds) suminf.    2.04071 (12) obj. 5.27314e+10 iterations 2726\n",
      "Cbc0038I Pass  22: (63.72 seconds) suminf.    1.71742 (11) obj. 5.27314e+10 iterations 4334\n",
      "Cbc0038I Pass  23: (73.23 seconds) suminf.    3.09829 (11) obj. 5.27314e+10 iterations 17593\n",
      "Cbc0038I Pass  24: (73.96 seconds) suminf.    1.92339 (10) obj. 5.27314e+10 iterations 1088\n",
      "Cbc0038I Pass  25: (74.55 seconds) suminf.    1.92339 (10) obj. 5.27314e+10 iterations 689\n",
      "Cbc0038I Pass  26: (82.59 seconds) suminf.    2.06081 (12) obj. 5.27314e+10 iterations 11471\n",
      "Cbc0038I Pass  27: (85.41 seconds) suminf.    1.79367 (11) obj. 5.27314e+10 iterations 1470\n",
      "Cbc0038I Pass  28: (87.65 seconds) suminf.    1.77535 (16) obj. 5.27314e+10 iterations 3947\n",
      "Cbc0038I Pass  29: (88.69 seconds) suminf.    1.77535 (16) obj. 5.27314e+10 iterations 657\n",
      "Cbc0038I Pass  30: (93.06 seconds) suminf.    2.79803 (11) obj. 5.27314e+10 iterations 7807\n",
      "Cbc0038I Pass  31: (94.05 seconds) suminf.    1.44604 (9) obj. 5.27314e+10 iterations 1268\n",
      "Cbc0038I Pass  32: (95.39 seconds) suminf.    1.36985 (10) obj. 5.27314e+10 iterations 1684\n",
      "Cbc0038I No solution found this major pass\n",
      "Cbc0038I Before mini branch and bound, 89631 integers at bound fixed and 51654 continuous\n",
      "Cbc0038I Mini branch and bound did not improve solution (96.70 seconds)\n",
      "Cbc0038I After 96.70 seconds - Feasibility pump exiting with objective of 5.28066e+10 - took 86.66 seconds\n",
      "Cbc0012I Integer solution of 5.2806648e+10 found by feasibility pump after 0 iterations and 0 nodes (105.07 seconds)\n",
      "Cbc0038I Full problem 95828 rows 167716 columns, reduced to 0 rows 0 columns\n",
      "Cbc0031I 9 added rows had average density of 7.3333333\n",
      "Cbc0013I At root node, 9 cuts changed objective from 5.2054065e+10 to 5.2378553e+10 in 2 passes\n",
      "Cbc0014I Cut generator 0 (Probing) - 0 row cuts average 0.0 elements, 0 column cuts (0 active)  in 0.098 seconds - new frequency is -100\n",
      "Cbc0014I Cut generator 1 (Gomory) - 0 row cuts average 0.0 elements, 0 column cuts (0 active)  in 0.021 seconds - new frequency is -100\n",
      "Cbc0014I Cut generator 2 (Knapsack) - 3 row cuts average 17.7 elements, 0 column cuts (0 active)  in 0.089 seconds - new frequency is 1\n",
      "Cbc0014I Cut generator 3 (Clique) - 0 row cuts average 0.0 elements, 0 column cuts (0 active)  in 0.002 seconds - new frequency is -100\n",
      "Cbc0014I Cut generator 4 (MixedIntegerRounding2) - 0 row cuts average 0.0 elements, 0 column cuts (0 active)  in 0.051 seconds - new frequency is -100\n",
      "Cbc0014I Cut generator 5 (FlowCover) - 0 row cuts average 0.0 elements, 0 column cuts (0 active)  in 0.016 seconds - new frequency is -100\n",
      "Cbc0014I Cut generator 6 (TwoMirCuts) - 9 row cuts average 2.0 elements, 0 column cuts (0 active)  in 0.049 seconds - new frequency is 1\n",
      "Cbc0004I Integer solution of 5.2378553e+10 found after 429 iterations and 0 nodes (1438.28 seconds)\n",
      "Cbc0001I Search completed - best objective 52378552638.4267, took 429 iterations and 0 nodes (1438.33 seconds)\n",
      "Cbc0035I Maximum depth 0, 0 variables fixed on reduced cost\n",
      "Cuts at root node changed objective from 5.20541e+10 to 5.23786e+10\n",
      "Probing was tried 2 times and created 0 cuts of which 0 were active after adding rounds of cuts (0.098 seconds)\n",
      "Gomory was tried 2 times and created 0 cuts of which 0 were active after adding rounds of cuts (0.021 seconds)\n",
      "Knapsack was tried 2 times and created 3 cuts of which 0 were active after adding rounds of cuts (0.089 seconds)\n",
      "Clique was tried 2 times and created 0 cuts of which 0 were active after adding rounds of cuts (0.002 seconds)\n",
      "MixedIntegerRounding2 was tried 2 times and created 0 cuts of which 0 were active after adding rounds of cuts (0.051 seconds)\n",
      "FlowCover was tried 2 times and created 0 cuts of which 0 were active after adding rounds of cuts (0.016 seconds)\n",
      "TwoMirCuts was tried 2 times and created 9 cuts of which 0 were active after adding rounds of cuts (0.049 seconds)\n",
      "ZeroHalf was tried 1 times and created 0 cuts of which 0 were active after adding rounds of cuts (0.065 seconds)\n",
      "\n",
      "Result - Optimal solution found\n",
      "\n",
      "Objective value:                52378552638.42669678\n",
      "Enumerated nodes:               0\n",
      "Total iterations:               429\n",
      "Time (CPU seconds):             1451.44\n",
      "Time (Wallclock seconds):       1452.95\n",
      "\n",
      "Total time (CPU seconds):       1452.12   (Wallclock seconds):       1453.66\n",
      "\n",
      "\n",
      "Optimal solution found\n",
      "\n",
      "Object function value =  <pyomo.core.base.block._generic_component_decorator object at 0x7fd5a581b2b0>\n"
     ]
    }
   ],
   "execution_count": 16
  },
  {
   "metadata": {
    "ExecuteTime": {
     "end_time": "2025-03-09T16:06:26.295007Z",
     "start_time": "2025-03-09T16:06:26.292664Z"
    }
   },
   "cell_type": "code",
   "source": [
    "#from pyomo.opt import SolverStatus, TerminationCondition\n",
    "\n",
    "print(\"Solver Status: \",  results.solver[0][\"System time\"])\n"
   ],
   "id": "8539cc0c87e2357b",
   "outputs": [
    {
     "name": "stdout",
     "output_type": "stream",
     "text": [
      "Solver Status:  1452.12\n"
     ]
    }
   ],
   "execution_count": 17
  },
  {
   "metadata": {
    "ExecuteTime": {
     "end_time": "2025-03-09T16:06:26.350382Z",
     "start_time": "2025-03-09T16:06:26.295718Z"
    }
   },
   "cell_type": "code",
   "source": [
    "from decimal import Decimal\n",
    "pd.set_option('display.max_colwidth', 10000000000000000000000000000000000000000000000000000)\n",
    "DF_channels = pd.DataFrame()\n",
    "c = 0\n",
    "for index, value in model.a.extract_values().items():\n",
    "    if value > 0.1:\n",
    "        DF_channels.loc[c, \"source\"] = index[0]\n",
    "        DF_channels.loc[c, \"destination\"] = index[1]\n",
    "        try:\n",
    "            DF_channels.loc[c, \"source-alias\"] = nodes.loc[index[0], \"alias\"]\n",
    "        except KeyError:\n",
    "            print(\"Source alias not found in nodes database: placeholder inserted\")\n",
    "            DF_channels.loc[c, \"source-alias\"] = \"source-alias\"\n",
    "            pass\n",
    "        try:\n",
    "            DF_channels.loc[c, \"destination-alias\"] = nodes.loc[index[1], \"alias\"]\n",
    "        except KeyError:\n",
    "            print(\"Destination alias not found in nodes database: placeholder inserted\")\n",
    "            DF_channels.loc[c, \"destination-alias\"] = \"destination-alias\"\n",
    "            pass\n",
    "        DF_channels.loc[c, \"capacity\"] = Decimal(channels.loc[index, \"capacity\"]/1000000)\n",
    "        DF_channels.loc[c, \"amount\"] = Decimal(value/1000000)\n",
    "        DF_channels.loc[c, \"base_fee\"] = Decimal(channels.loc[(index[0], index[1]), \"base_fee\"]/1000000)\n",
    "        DF_channels.loc[c, \"rate_fee\"] = channels.loc[(index[0], index[1]), \"rate_fee\"]\n",
    "        #DF_channels.loc[c, \"used_fl\"] = channels.loc[]\n",
    "        c += 1\n",
    "\n",
    "DF_channels_pos = DF_channels[DF_channels[\"amount\"]!=0]"
   ],
   "id": "b7051d6dc41ce1a0",
   "outputs": [],
   "execution_count": 18
  },
  {
   "metadata": {
    "ExecuteTime": {
     "end_time": "2025-03-09T16:06:26.356977Z",
     "start_time": "2025-03-09T16:06:26.351235Z"
    }
   },
   "cell_type": "code",
   "source": "DF_channels[DF_channels[\"amount\"]> DF_channels[\"capacity\"]]",
   "id": "591cfe14bef33883",
   "outputs": [
    {
     "data": {
      "text/plain": [
       "Empty DataFrame\n",
       "Columns: [source, destination, source-alias, destination-alias, capacity, amount, base_fee, rate_fee]\n",
       "Index: []"
      ],
      "text/html": [
       "<div>\n",
       "<style scoped>\n",
       "    .dataframe tbody tr th:only-of-type {\n",
       "        vertical-align: middle;\n",
       "    }\n",
       "\n",
       "    .dataframe tbody tr th {\n",
       "        vertical-align: top;\n",
       "    }\n",
       "\n",
       "    .dataframe thead th {\n",
       "        text-align: right;\n",
       "    }\n",
       "</style>\n",
       "<table border=\"1\" class=\"dataframe\">\n",
       "  <thead>\n",
       "    <tr style=\"text-align: right;\">\n",
       "      <th></th>\n",
       "      <th>source</th>\n",
       "      <th>destination</th>\n",
       "      <th>source-alias</th>\n",
       "      <th>destination-alias</th>\n",
       "      <th>capacity</th>\n",
       "      <th>amount</th>\n",
       "      <th>base_fee</th>\n",
       "      <th>rate_fee</th>\n",
       "    </tr>\n",
       "  </thead>\n",
       "  <tbody>\n",
       "  </tbody>\n",
       "</table>\n",
       "</div>"
      ]
     },
     "execution_count": 19,
     "metadata": {},
     "output_type": "execute_result"
    }
   ],
   "execution_count": 19
  },
  {
   "metadata": {
    "ExecuteTime": {
     "end_time": "2025-03-09T16:06:26.399309Z",
     "start_time": "2025-03-09T16:06:26.357763Z"
    }
   },
   "cell_type": "code",
   "source": [
    "DF_fixed = pd.DataFrame()\n",
    "c = 0\n",
    "for index, value in model.x.extract_values().items():\n",
    "    if value != 0:\n",
    "        DF_fixed.loc[c, \"source\"] = index[0]\n",
    "        DF_fixed.loc[c, \"destination\"] = index[1]\n",
    "        DF_fixed.loc[c, \"used\"] = Decimal(value)\n",
    "        c += 1\n",
    "\n",
    "DF_fixed_pos = DF_fixed[DF_fixed[\"used\"]!=0]\n",
    "DF_fixed_pos"
   ],
   "id": "4150b1232fe02328",
   "outputs": [
    {
     "data": {
      "text/plain": [
       "                                                                source  \\\n",
       "0   0207ed361128e101a16605fd8e7b491e2d28f7db1677363c9712a3907523a414d2   \n",
       "1   0208d92b2d406094d794b2a6a512f585dbbdee810a870283b9c5bafc4fec8ac0aa   \n",
       "2   0217890e3aad8d35bc054f43acc00084b25229ecff0ab68debd82883ad65ee8266   \n",
       "3   021bdd1130960703e0a2c08ebfcac464af42b0643431684a355f4710aa50d022fa   \n",
       "4   02287f754427019e74b88c8f3779ce09bcf2c3eefd3e24c1eb7b011b35d9d883af   \n",
       "5   0260fab633066ed7b1d9b9b8a0fac87e1579d1709e874d28a0d171a1f5c43bb877   \n",
       "6   026ea7b98d5ac0e8052addfa57fdefb5e504d470e7fd2fb56a5ab68f0fe6677255   \n",
       "7   0294ac3e099def03c12a37e30fe5364b1223fd60069869142ef96580c8439c2e0a   \n",
       "8   0294ac3e099def03c12a37e30fe5364b1223fd60069869142ef96580c8439c2e0a   \n",
       "9   0294ac3e099def03c12a37e30fe5364b1223fd60069869142ef96580c8439c2e0a   \n",
       "10  029efe15ef5f0fcc2fdd6b910405e78056b28c9b64e1feff5f13b8dce307e67cad   \n",
       "11  02b4098c3116124c0c4105295d3d2e65927d46e98e248d84cb6119da57e4ae31e3   \n",
       "12  02c746cf01c7f8687f54bc1780a26a74664f22e3ac2724467f103fa2a1450e7c0e   \n",
       "13  02cad4ec4c8b0dc2c7035a1898f979c8c7169bdff74e01ad6ca7aea59d85c59e8b   \n",
       "14  02ceb27f3d4e32b83f37dff8bad8cc802dc0f380ca0193e90514ae25bc32c7542e   \n",
       "15  02dc8e1989f6250411e6e30137ee1e984ad7f8d3aa51454f0a40faef0e98052381   \n",
       "16  02f1a8c87607f415c8f22c00593002775941dea48869ce23096af27b0cfdcc0b69   \n",
       "17  030c3f19d742ca294a55c00376b3b355c3c90d61c6b6b39554dbc7ac19b141c14f   \n",
       "18  033e9ce4e8f0e68f7db49ffb6b9eecc10605f3f3fcb3c630545887749ab515b9c7   \n",
       "19  0364913d18a19c671bb36dd04d6ad5be0fe8f2894314c36a9db3f03c2d414907e1   \n",
       "20  037659a0ac8eb3b8d0a720114efc861d3a940382dcfa1403746b4f8f6b2e8810ba   \n",
       "21  03864ef025fde8fb587d989186ce6a4a186895ee44a926bfc370e2c366597a3f8f   \n",
       "22  0386efd6861c73cc85357a7d477e7a3b078f1b95d3e512689b28a63b155a794080   \n",
       "23  038923428a9119b3cdb258a7026696291c0878b65f7cb734a2fcb5d49e0a85dfe1   \n",
       "24  039579519ab55f82c8e20a90ebbbd3865c474694afda992ef9bab5d59516d38b3e   \n",
       "25  03a93b87bf9f052b8e862d51ebbac4ce5e97b5f4137563cd5128548d7f5978dda9   \n",
       "26  03b5f8abdeaa55089e77f3bc98a8eb1d00ac8d64f1c695aaaee21e244b257860ed   \n",
       "27  03bd6d28432d67effa2b2b89dd5fd68697940e8a8f2fbb84aaae90d584295b03bf   \n",
       "28  03e0c30f830e4f0e198d830b855935aae4d1a99536f9aedbabcade66e146a4b9b6   \n",
       "\n",
       "                                                           destination used  \n",
       "0   0364913d18a19c671bb36dd04d6ad5be0fe8f2894314c36a9db3f03c2d414907e1    1  \n",
       "1   0294ac3e099def03c12a37e30fe5364b1223fd60069869142ef96580c8439c2e0a    1  \n",
       "2   0202f00d5f5c91a3c79113851b162c2b75f2cbd9fb2378fb4a4ce92d5ba1e63e08    1  \n",
       "3   030c3f19d742ca294a55c00376b3b355c3c90d61c6b6b39554dbc7ac19b141c14f    1  \n",
       "4   033e9ce4e8f0e68f7db49ffb6b9eecc10605f3f3fcb3c630545887749ab515b9c7    1  \n",
       "5   0207ed361128e101a16605fd8e7b491e2d28f7db1677363c9712a3907523a414d2    1  \n",
       "6   037659a0ac8eb3b8d0a720114efc861d3a940382dcfa1403746b4f8f6b2e8810ba    1  \n",
       "7   021bdd1130960703e0a2c08ebfcac464af42b0643431684a355f4710aa50d022fa    1  \n",
       "8   02287f754427019e74b88c8f3779ce09bcf2c3eefd3e24c1eb7b011b35d9d883af    1  \n",
       "9   029efe15ef5f0fcc2fdd6b910405e78056b28c9b64e1feff5f13b8dce307e67cad    1  \n",
       "10  03a93b87bf9f052b8e862d51ebbac4ce5e97b5f4137563cd5128548d7f5978dda9    1  \n",
       "11  0208d92b2d406094d794b2a6a512f585dbbdee810a870283b9c5bafc4fec8ac0aa    1  \n",
       "12  0217890e3aad8d35bc054f43acc00084b25229ecff0ab68debd82883ad65ee8266    1  \n",
       "13  0386efd6861c73cc85357a7d477e7a3b078f1b95d3e512689b28a63b155a794080    1  \n",
       "14  0294ac3e099def03c12a37e30fe5364b1223fd60069869142ef96580c8439c2e0a    1  \n",
       "15  0208d92b2d406094d794b2a6a512f585dbbdee810a870283b9c5bafc4fec8ac0aa    1  \n",
       "16  03e0c30f830e4f0e198d830b855935aae4d1a99536f9aedbabcade66e146a4b9b6    1  \n",
       "17  0202f00d5f5c91a3c79113851b162c2b75f2cbd9fb2378fb4a4ce92d5ba1e63e08    1  \n",
       "18  02c746cf01c7f8687f54bc1780a26a74664f22e3ac2724467f103fa2a1450e7c0e    1  \n",
       "19  02ceb27f3d4e32b83f37dff8bad8cc802dc0f380ca0193e90514ae25bc32c7542e    1  \n",
       "20  02cad4ec4c8b0dc2c7035a1898f979c8c7169bdff74e01ad6ca7aea59d85c59e8b    1  \n",
       "21  039579519ab55f82c8e20a90ebbbd3865c474694afda992ef9bab5d59516d38b3e    1  \n",
       "22  02dc8e1989f6250411e6e30137ee1e984ad7f8d3aa51454f0a40faef0e98052381    1  \n",
       "23  0260fab633066ed7b1d9b9b8a0fac87e1579d1709e874d28a0d171a1f5c43bb877    1  \n",
       "24  02f1a8c87607f415c8f22c00593002775941dea48869ce23096af27b0cfdcc0b69    1  \n",
       "25  03bd6d28432d67effa2b2b89dd5fd68697940e8a8f2fbb84aaae90d584295b03bf    1  \n",
       "26  03864ef025fde8fb587d989186ce6a4a186895ee44a926bfc370e2c366597a3f8f    1  \n",
       "27  0217890e3aad8d35bc054f43acc00084b25229ecff0ab68debd82883ad65ee8266    1  \n",
       "28  0294ac3e099def03c12a37e30fe5364b1223fd60069869142ef96580c8439c2e0a    1  "
      ],
      "text/html": [
       "<div>\n",
       "<style scoped>\n",
       "    .dataframe tbody tr th:only-of-type {\n",
       "        vertical-align: middle;\n",
       "    }\n",
       "\n",
       "    .dataframe tbody tr th {\n",
       "        vertical-align: top;\n",
       "    }\n",
       "\n",
       "    .dataframe thead th {\n",
       "        text-align: right;\n",
       "    }\n",
       "</style>\n",
       "<table border=\"1\" class=\"dataframe\">\n",
       "  <thead>\n",
       "    <tr style=\"text-align: right;\">\n",
       "      <th></th>\n",
       "      <th>source</th>\n",
       "      <th>destination</th>\n",
       "      <th>used</th>\n",
       "    </tr>\n",
       "  </thead>\n",
       "  <tbody>\n",
       "    <tr>\n",
       "      <th>0</th>\n",
       "      <td>0207ed361128e101a16605fd8e7b491e2d28f7db1677363c9712a3907523a414d2</td>\n",
       "      <td>0364913d18a19c671bb36dd04d6ad5be0fe8f2894314c36a9db3f03c2d414907e1</td>\n",
       "      <td>1</td>\n",
       "    </tr>\n",
       "    <tr>\n",
       "      <th>1</th>\n",
       "      <td>0208d92b2d406094d794b2a6a512f585dbbdee810a870283b9c5bafc4fec8ac0aa</td>\n",
       "      <td>0294ac3e099def03c12a37e30fe5364b1223fd60069869142ef96580c8439c2e0a</td>\n",
       "      <td>1</td>\n",
       "    </tr>\n",
       "    <tr>\n",
       "      <th>2</th>\n",
       "      <td>0217890e3aad8d35bc054f43acc00084b25229ecff0ab68debd82883ad65ee8266</td>\n",
       "      <td>0202f00d5f5c91a3c79113851b162c2b75f2cbd9fb2378fb4a4ce92d5ba1e63e08</td>\n",
       "      <td>1</td>\n",
       "    </tr>\n",
       "    <tr>\n",
       "      <th>3</th>\n",
       "      <td>021bdd1130960703e0a2c08ebfcac464af42b0643431684a355f4710aa50d022fa</td>\n",
       "      <td>030c3f19d742ca294a55c00376b3b355c3c90d61c6b6b39554dbc7ac19b141c14f</td>\n",
       "      <td>1</td>\n",
       "    </tr>\n",
       "    <tr>\n",
       "      <th>4</th>\n",
       "      <td>02287f754427019e74b88c8f3779ce09bcf2c3eefd3e24c1eb7b011b35d9d883af</td>\n",
       "      <td>033e9ce4e8f0e68f7db49ffb6b9eecc10605f3f3fcb3c630545887749ab515b9c7</td>\n",
       "      <td>1</td>\n",
       "    </tr>\n",
       "    <tr>\n",
       "      <th>5</th>\n",
       "      <td>0260fab633066ed7b1d9b9b8a0fac87e1579d1709e874d28a0d171a1f5c43bb877</td>\n",
       "      <td>0207ed361128e101a16605fd8e7b491e2d28f7db1677363c9712a3907523a414d2</td>\n",
       "      <td>1</td>\n",
       "    </tr>\n",
       "    <tr>\n",
       "      <th>6</th>\n",
       "      <td>026ea7b98d5ac0e8052addfa57fdefb5e504d470e7fd2fb56a5ab68f0fe6677255</td>\n",
       "      <td>037659a0ac8eb3b8d0a720114efc861d3a940382dcfa1403746b4f8f6b2e8810ba</td>\n",
       "      <td>1</td>\n",
       "    </tr>\n",
       "    <tr>\n",
       "      <th>7</th>\n",
       "      <td>0294ac3e099def03c12a37e30fe5364b1223fd60069869142ef96580c8439c2e0a</td>\n",
       "      <td>021bdd1130960703e0a2c08ebfcac464af42b0643431684a355f4710aa50d022fa</td>\n",
       "      <td>1</td>\n",
       "    </tr>\n",
       "    <tr>\n",
       "      <th>8</th>\n",
       "      <td>0294ac3e099def03c12a37e30fe5364b1223fd60069869142ef96580c8439c2e0a</td>\n",
       "      <td>02287f754427019e74b88c8f3779ce09bcf2c3eefd3e24c1eb7b011b35d9d883af</td>\n",
       "      <td>1</td>\n",
       "    </tr>\n",
       "    <tr>\n",
       "      <th>9</th>\n",
       "      <td>0294ac3e099def03c12a37e30fe5364b1223fd60069869142ef96580c8439c2e0a</td>\n",
       "      <td>029efe15ef5f0fcc2fdd6b910405e78056b28c9b64e1feff5f13b8dce307e67cad</td>\n",
       "      <td>1</td>\n",
       "    </tr>\n",
       "    <tr>\n",
       "      <th>10</th>\n",
       "      <td>029efe15ef5f0fcc2fdd6b910405e78056b28c9b64e1feff5f13b8dce307e67cad</td>\n",
       "      <td>03a93b87bf9f052b8e862d51ebbac4ce5e97b5f4137563cd5128548d7f5978dda9</td>\n",
       "      <td>1</td>\n",
       "    </tr>\n",
       "    <tr>\n",
       "      <th>11</th>\n",
       "      <td>02b4098c3116124c0c4105295d3d2e65927d46e98e248d84cb6119da57e4ae31e3</td>\n",
       "      <td>0208d92b2d406094d794b2a6a512f585dbbdee810a870283b9c5bafc4fec8ac0aa</td>\n",
       "      <td>1</td>\n",
       "    </tr>\n",
       "    <tr>\n",
       "      <th>12</th>\n",
       "      <td>02c746cf01c7f8687f54bc1780a26a74664f22e3ac2724467f103fa2a1450e7c0e</td>\n",
       "      <td>0217890e3aad8d35bc054f43acc00084b25229ecff0ab68debd82883ad65ee8266</td>\n",
       "      <td>1</td>\n",
       "    </tr>\n",
       "    <tr>\n",
       "      <th>13</th>\n",
       "      <td>02cad4ec4c8b0dc2c7035a1898f979c8c7169bdff74e01ad6ca7aea59d85c59e8b</td>\n",
       "      <td>0386efd6861c73cc85357a7d477e7a3b078f1b95d3e512689b28a63b155a794080</td>\n",
       "      <td>1</td>\n",
       "    </tr>\n",
       "    <tr>\n",
       "      <th>14</th>\n",
       "      <td>02ceb27f3d4e32b83f37dff8bad8cc802dc0f380ca0193e90514ae25bc32c7542e</td>\n",
       "      <td>0294ac3e099def03c12a37e30fe5364b1223fd60069869142ef96580c8439c2e0a</td>\n",
       "      <td>1</td>\n",
       "    </tr>\n",
       "    <tr>\n",
       "      <th>15</th>\n",
       "      <td>02dc8e1989f6250411e6e30137ee1e984ad7f8d3aa51454f0a40faef0e98052381</td>\n",
       "      <td>0208d92b2d406094d794b2a6a512f585dbbdee810a870283b9c5bafc4fec8ac0aa</td>\n",
       "      <td>1</td>\n",
       "    </tr>\n",
       "    <tr>\n",
       "      <th>16</th>\n",
       "      <td>02f1a8c87607f415c8f22c00593002775941dea48869ce23096af27b0cfdcc0b69</td>\n",
       "      <td>03e0c30f830e4f0e198d830b855935aae4d1a99536f9aedbabcade66e146a4b9b6</td>\n",
       "      <td>1</td>\n",
       "    </tr>\n",
       "    <tr>\n",
       "      <th>17</th>\n",
       "      <td>030c3f19d742ca294a55c00376b3b355c3c90d61c6b6b39554dbc7ac19b141c14f</td>\n",
       "      <td>0202f00d5f5c91a3c79113851b162c2b75f2cbd9fb2378fb4a4ce92d5ba1e63e08</td>\n",
       "      <td>1</td>\n",
       "    </tr>\n",
       "    <tr>\n",
       "      <th>18</th>\n",
       "      <td>033e9ce4e8f0e68f7db49ffb6b9eecc10605f3f3fcb3c630545887749ab515b9c7</td>\n",
       "      <td>02c746cf01c7f8687f54bc1780a26a74664f22e3ac2724467f103fa2a1450e7c0e</td>\n",
       "      <td>1</td>\n",
       "    </tr>\n",
       "    <tr>\n",
       "      <th>19</th>\n",
       "      <td>0364913d18a19c671bb36dd04d6ad5be0fe8f2894314c36a9db3f03c2d414907e1</td>\n",
       "      <td>02ceb27f3d4e32b83f37dff8bad8cc802dc0f380ca0193e90514ae25bc32c7542e</td>\n",
       "      <td>1</td>\n",
       "    </tr>\n",
       "    <tr>\n",
       "      <th>20</th>\n",
       "      <td>037659a0ac8eb3b8d0a720114efc861d3a940382dcfa1403746b4f8f6b2e8810ba</td>\n",
       "      <td>02cad4ec4c8b0dc2c7035a1898f979c8c7169bdff74e01ad6ca7aea59d85c59e8b</td>\n",
       "      <td>1</td>\n",
       "    </tr>\n",
       "    <tr>\n",
       "      <th>21</th>\n",
       "      <td>03864ef025fde8fb587d989186ce6a4a186895ee44a926bfc370e2c366597a3f8f</td>\n",
       "      <td>039579519ab55f82c8e20a90ebbbd3865c474694afda992ef9bab5d59516d38b3e</td>\n",
       "      <td>1</td>\n",
       "    </tr>\n",
       "    <tr>\n",
       "      <th>22</th>\n",
       "      <td>0386efd6861c73cc85357a7d477e7a3b078f1b95d3e512689b28a63b155a794080</td>\n",
       "      <td>02dc8e1989f6250411e6e30137ee1e984ad7f8d3aa51454f0a40faef0e98052381</td>\n",
       "      <td>1</td>\n",
       "    </tr>\n",
       "    <tr>\n",
       "      <th>23</th>\n",
       "      <td>038923428a9119b3cdb258a7026696291c0878b65f7cb734a2fcb5d49e0a85dfe1</td>\n",
       "      <td>0260fab633066ed7b1d9b9b8a0fac87e1579d1709e874d28a0d171a1f5c43bb877</td>\n",
       "      <td>1</td>\n",
       "    </tr>\n",
       "    <tr>\n",
       "      <th>24</th>\n",
       "      <td>039579519ab55f82c8e20a90ebbbd3865c474694afda992ef9bab5d59516d38b3e</td>\n",
       "      <td>02f1a8c87607f415c8f22c00593002775941dea48869ce23096af27b0cfdcc0b69</td>\n",
       "      <td>1</td>\n",
       "    </tr>\n",
       "    <tr>\n",
       "      <th>25</th>\n",
       "      <td>03a93b87bf9f052b8e862d51ebbac4ce5e97b5f4137563cd5128548d7f5978dda9</td>\n",
       "      <td>03bd6d28432d67effa2b2b89dd5fd68697940e8a8f2fbb84aaae90d584295b03bf</td>\n",
       "      <td>1</td>\n",
       "    </tr>\n",
       "    <tr>\n",
       "      <th>26</th>\n",
       "      <td>03b5f8abdeaa55089e77f3bc98a8eb1d00ac8d64f1c695aaaee21e244b257860ed</td>\n",
       "      <td>03864ef025fde8fb587d989186ce6a4a186895ee44a926bfc370e2c366597a3f8f</td>\n",
       "      <td>1</td>\n",
       "    </tr>\n",
       "    <tr>\n",
       "      <th>27</th>\n",
       "      <td>03bd6d28432d67effa2b2b89dd5fd68697940e8a8f2fbb84aaae90d584295b03bf</td>\n",
       "      <td>0217890e3aad8d35bc054f43acc00084b25229ecff0ab68debd82883ad65ee8266</td>\n",
       "      <td>1</td>\n",
       "    </tr>\n",
       "    <tr>\n",
       "      <th>28</th>\n",
       "      <td>03e0c30f830e4f0e198d830b855935aae4d1a99536f9aedbabcade66e146a4b9b6</td>\n",
       "      <td>0294ac3e099def03c12a37e30fe5364b1223fd60069869142ef96580c8439c2e0a</td>\n",
       "      <td>1</td>\n",
       "    </tr>\n",
       "  </tbody>\n",
       "</table>\n",
       "</div>"
      ]
     },
     "execution_count": 20,
     "metadata": {},
     "output_type": "execute_result"
    }
   ],
   "execution_count": 20
  },
  {
   "metadata": {},
   "cell_type": "markdown",
   "source": "### All data about channels on path",
   "id": "1dfb4bcd7e78f159"
  },
  {
   "metadata": {
    "ExecuteTime": {
     "end_time": "2025-03-09T16:06:26.413497Z",
     "start_time": "2025-03-09T16:06:26.400341Z"
    }
   },
   "cell_type": "code",
   "source": [
    "intersection = DF_fixed_pos.merge(DF_channels_pos, on=[\"source\", \"destination\"], how=\"outer\")\n",
    "final = intersection[intersection[\"amount\"]>0]\n",
    "final"
   ],
   "id": "ab555f0c48920c85",
   "outputs": [
    {
     "data": {
      "text/plain": [
       "                                                                source  \\\n",
       "1   0208d92b2d406094d794b2a6a512f585dbbdee810a870283b9c5bafc4fec8ac0aa   \n",
       "2   0217890e3aad8d35bc054f43acc00084b25229ecff0ab68debd82883ad65ee8266   \n",
       "3   021bdd1130960703e0a2c08ebfcac464af42b0643431684a355f4710aa50d022fa   \n",
       "4   02287f754427019e74b88c8f3779ce09bcf2c3eefd3e24c1eb7b011b35d9d883af   \n",
       "7   0294ac3e099def03c12a37e30fe5364b1223fd60069869142ef96580c8439c2e0a   \n",
       "8   0294ac3e099def03c12a37e30fe5364b1223fd60069869142ef96580c8439c2e0a   \n",
       "9   0294ac3e099def03c12a37e30fe5364b1223fd60069869142ef96580c8439c2e0a   \n",
       "10  029efe15ef5f0fcc2fdd6b910405e78056b28c9b64e1feff5f13b8dce307e67cad   \n",
       "11  02b4098c3116124c0c4105295d3d2e65927d46e98e248d84cb6119da57e4ae31e3   \n",
       "12  02c746cf01c7f8687f54bc1780a26a74664f22e3ac2724467f103fa2a1450e7c0e   \n",
       "17  030c3f19d742ca294a55c00376b3b355c3c90d61c6b6b39554dbc7ac19b141c14f   \n",
       "18  033e9ce4e8f0e68f7db49ffb6b9eecc10605f3f3fcb3c630545887749ab515b9c7   \n",
       "25  03a93b87bf9f052b8e862d51ebbac4ce5e97b5f4137563cd5128548d7f5978dda9   \n",
       "27  03bd6d28432d67effa2b2b89dd5fd68697940e8a8f2fbb84aaae90d584295b03bf   \n",
       "\n",
       "                                                           destination used  \\\n",
       "1   0294ac3e099def03c12a37e30fe5364b1223fd60069869142ef96580c8439c2e0a    1   \n",
       "2   0202f00d5f5c91a3c79113851b162c2b75f2cbd9fb2378fb4a4ce92d5ba1e63e08    1   \n",
       "3   030c3f19d742ca294a55c00376b3b355c3c90d61c6b6b39554dbc7ac19b141c14f    1   \n",
       "4   033e9ce4e8f0e68f7db49ffb6b9eecc10605f3f3fcb3c630545887749ab515b9c7    1   \n",
       "7   021bdd1130960703e0a2c08ebfcac464af42b0643431684a355f4710aa50d022fa    1   \n",
       "8   02287f754427019e74b88c8f3779ce09bcf2c3eefd3e24c1eb7b011b35d9d883af    1   \n",
       "9   029efe15ef5f0fcc2fdd6b910405e78056b28c9b64e1feff5f13b8dce307e67cad    1   \n",
       "10  03a93b87bf9f052b8e862d51ebbac4ce5e97b5f4137563cd5128548d7f5978dda9    1   \n",
       "11  0208d92b2d406094d794b2a6a512f585dbbdee810a870283b9c5bafc4fec8ac0aa    1   \n",
       "12  0217890e3aad8d35bc054f43acc00084b25229ecff0ab68debd82883ad65ee8266    1   \n",
       "17  0202f00d5f5c91a3c79113851b162c2b75f2cbd9fb2378fb4a4ce92d5ba1e63e08    1   \n",
       "18  02c746cf01c7f8687f54bc1780a26a74664f22e3ac2724467f103fa2a1450e7c0e    1   \n",
       "25  03bd6d28432d67effa2b2b89dd5fd68697940e8a8f2fbb84aaae90d584295b03bf    1   \n",
       "27  0217890e3aad8d35bc054f43acc00084b25229ecff0ab68debd82883ad65ee8266    1   \n",
       "\n",
       "               source-alias        destination-alias   capacity   amount  \\\n",
       "1                    Eprahs                      okx   10000000  1000000   \n",
       "2        1ML.com node ALPHA               ShatSat412     267599   267599   \n",
       "3                   NodeBTC        Bitrefill Routing    3000000   732401   \n",
       "4             TheSpielplatz            LNBϟG [Hub-2]   20201454   100000   \n",
       "7                       okx                  NodeBTC    4000000   732401   \n",
       "8                       okx            TheSpielplatz    8000000   100000   \n",
       "9                       okx  adam.masterofpearls.net  820000000   167599   \n",
       "10  adam.masterofpearls.net             cyberdyne.sh   20000000   167599   \n",
       "11            VeniceForever                   Eprahs    1500000  1000000   \n",
       "12                 LNJCJNET       1ML.com node ALPHA     100000   100000   \n",
       "17        Bitrefill Routing               ShatSat412   20000000   732401   \n",
       "18            LNBϟG [Hub-2]                 LNJCJNET    1000000   100000   \n",
       "25             cyberdyne.sh              ClearMoney⚡   16000000   167599   \n",
       "27              ClearMoney⚡       1ML.com node ALPHA    3000000   167599   \n",
       "\n",
       "                                                base_fee  rate_fee  \n",
       "1     44.23799737234207185565537656657397747039794921875  0.007749  \n",
       "2     34.92882981163182165573743986897170543670654296875  0.001735  \n",
       "3       97.376038804653973102176678366959095001220703125  0.005858  \n",
       "4     13.99372900261121088760774000547826290130615234375  0.004961  \n",
       "7     9.517589152265781393680299515835940837860107421875  0.006287  \n",
       "8         89.6934099226428998008486814796924591064453125  0.002360  \n",
       "9     39.86242422644331639958181767724454402923583984375  0.007918  \n",
       "10     40.3057448482728517547002411447465419769287109375  0.001504  \n",
       "11   15.144972467609573385516341659240424633026123046875  0.027109  \n",
       "12      52.050851781489740233155316673219203948974609375  0.001430  \n",
       "17   24.685827696737018044359501800499856472015380859375  0.005523  \n",
       "18     70.5553328714451168934829183854162693023681640625  0.002565  \n",
       "25      77.541673220570345392843591980636119842529296875  0.002473  \n",
       "27  15.5027310874478967406275842222385108470916748046875  0.002042  "
      ],
      "text/html": [
       "<div>\n",
       "<style scoped>\n",
       "    .dataframe tbody tr th:only-of-type {\n",
       "        vertical-align: middle;\n",
       "    }\n",
       "\n",
       "    .dataframe tbody tr th {\n",
       "        vertical-align: top;\n",
       "    }\n",
       "\n",
       "    .dataframe thead th {\n",
       "        text-align: right;\n",
       "    }\n",
       "</style>\n",
       "<table border=\"1\" class=\"dataframe\">\n",
       "  <thead>\n",
       "    <tr style=\"text-align: right;\">\n",
       "      <th></th>\n",
       "      <th>source</th>\n",
       "      <th>destination</th>\n",
       "      <th>used</th>\n",
       "      <th>source-alias</th>\n",
       "      <th>destination-alias</th>\n",
       "      <th>capacity</th>\n",
       "      <th>amount</th>\n",
       "      <th>base_fee</th>\n",
       "      <th>rate_fee</th>\n",
       "    </tr>\n",
       "  </thead>\n",
       "  <tbody>\n",
       "    <tr>\n",
       "      <th>1</th>\n",
       "      <td>0208d92b2d406094d794b2a6a512f585dbbdee810a870283b9c5bafc4fec8ac0aa</td>\n",
       "      <td>0294ac3e099def03c12a37e30fe5364b1223fd60069869142ef96580c8439c2e0a</td>\n",
       "      <td>1</td>\n",
       "      <td>Eprahs</td>\n",
       "      <td>okx</td>\n",
       "      <td>10000000</td>\n",
       "      <td>1000000</td>\n",
       "      <td>44.23799737234207185565537656657397747039794921875</td>\n",
       "      <td>0.007749</td>\n",
       "    </tr>\n",
       "    <tr>\n",
       "      <th>2</th>\n",
       "      <td>0217890e3aad8d35bc054f43acc00084b25229ecff0ab68debd82883ad65ee8266</td>\n",
       "      <td>0202f00d5f5c91a3c79113851b162c2b75f2cbd9fb2378fb4a4ce92d5ba1e63e08</td>\n",
       "      <td>1</td>\n",
       "      <td>1ML.com node ALPHA</td>\n",
       "      <td>ShatSat412</td>\n",
       "      <td>267599</td>\n",
       "      <td>267599</td>\n",
       "      <td>34.92882981163182165573743986897170543670654296875</td>\n",
       "      <td>0.001735</td>\n",
       "    </tr>\n",
       "    <tr>\n",
       "      <th>3</th>\n",
       "      <td>021bdd1130960703e0a2c08ebfcac464af42b0643431684a355f4710aa50d022fa</td>\n",
       "      <td>030c3f19d742ca294a55c00376b3b355c3c90d61c6b6b39554dbc7ac19b141c14f</td>\n",
       "      <td>1</td>\n",
       "      <td>NodeBTC</td>\n",
       "      <td>Bitrefill Routing</td>\n",
       "      <td>3000000</td>\n",
       "      <td>732401</td>\n",
       "      <td>97.376038804653973102176678366959095001220703125</td>\n",
       "      <td>0.005858</td>\n",
       "    </tr>\n",
       "    <tr>\n",
       "      <th>4</th>\n",
       "      <td>02287f754427019e74b88c8f3779ce09bcf2c3eefd3e24c1eb7b011b35d9d883af</td>\n",
       "      <td>033e9ce4e8f0e68f7db49ffb6b9eecc10605f3f3fcb3c630545887749ab515b9c7</td>\n",
       "      <td>1</td>\n",
       "      <td>TheSpielplatz</td>\n",
       "      <td>LNBϟG [Hub-2]</td>\n",
       "      <td>20201454</td>\n",
       "      <td>100000</td>\n",
       "      <td>13.99372900261121088760774000547826290130615234375</td>\n",
       "      <td>0.004961</td>\n",
       "    </tr>\n",
       "    <tr>\n",
       "      <th>7</th>\n",
       "      <td>0294ac3e099def03c12a37e30fe5364b1223fd60069869142ef96580c8439c2e0a</td>\n",
       "      <td>021bdd1130960703e0a2c08ebfcac464af42b0643431684a355f4710aa50d022fa</td>\n",
       "      <td>1</td>\n",
       "      <td>okx</td>\n",
       "      <td>NodeBTC</td>\n",
       "      <td>4000000</td>\n",
       "      <td>732401</td>\n",
       "      <td>9.517589152265781393680299515835940837860107421875</td>\n",
       "      <td>0.006287</td>\n",
       "    </tr>\n",
       "    <tr>\n",
       "      <th>8</th>\n",
       "      <td>0294ac3e099def03c12a37e30fe5364b1223fd60069869142ef96580c8439c2e0a</td>\n",
       "      <td>02287f754427019e74b88c8f3779ce09bcf2c3eefd3e24c1eb7b011b35d9d883af</td>\n",
       "      <td>1</td>\n",
       "      <td>okx</td>\n",
       "      <td>TheSpielplatz</td>\n",
       "      <td>8000000</td>\n",
       "      <td>100000</td>\n",
       "      <td>89.6934099226428998008486814796924591064453125</td>\n",
       "      <td>0.002360</td>\n",
       "    </tr>\n",
       "    <tr>\n",
       "      <th>9</th>\n",
       "      <td>0294ac3e099def03c12a37e30fe5364b1223fd60069869142ef96580c8439c2e0a</td>\n",
       "      <td>029efe15ef5f0fcc2fdd6b910405e78056b28c9b64e1feff5f13b8dce307e67cad</td>\n",
       "      <td>1</td>\n",
       "      <td>okx</td>\n",
       "      <td>adam.masterofpearls.net</td>\n",
       "      <td>820000000</td>\n",
       "      <td>167599</td>\n",
       "      <td>39.86242422644331639958181767724454402923583984375</td>\n",
       "      <td>0.007918</td>\n",
       "    </tr>\n",
       "    <tr>\n",
       "      <th>10</th>\n",
       "      <td>029efe15ef5f0fcc2fdd6b910405e78056b28c9b64e1feff5f13b8dce307e67cad</td>\n",
       "      <td>03a93b87bf9f052b8e862d51ebbac4ce5e97b5f4137563cd5128548d7f5978dda9</td>\n",
       "      <td>1</td>\n",
       "      <td>adam.masterofpearls.net</td>\n",
       "      <td>cyberdyne.sh</td>\n",
       "      <td>20000000</td>\n",
       "      <td>167599</td>\n",
       "      <td>40.3057448482728517547002411447465419769287109375</td>\n",
       "      <td>0.001504</td>\n",
       "    </tr>\n",
       "    <tr>\n",
       "      <th>11</th>\n",
       "      <td>02b4098c3116124c0c4105295d3d2e65927d46e98e248d84cb6119da57e4ae31e3</td>\n",
       "      <td>0208d92b2d406094d794b2a6a512f585dbbdee810a870283b9c5bafc4fec8ac0aa</td>\n",
       "      <td>1</td>\n",
       "      <td>VeniceForever</td>\n",
       "      <td>Eprahs</td>\n",
       "      <td>1500000</td>\n",
       "      <td>1000000</td>\n",
       "      <td>15.144972467609573385516341659240424633026123046875</td>\n",
       "      <td>0.027109</td>\n",
       "    </tr>\n",
       "    <tr>\n",
       "      <th>12</th>\n",
       "      <td>02c746cf01c7f8687f54bc1780a26a74664f22e3ac2724467f103fa2a1450e7c0e</td>\n",
       "      <td>0217890e3aad8d35bc054f43acc00084b25229ecff0ab68debd82883ad65ee8266</td>\n",
       "      <td>1</td>\n",
       "      <td>LNJCJNET</td>\n",
       "      <td>1ML.com node ALPHA</td>\n",
       "      <td>100000</td>\n",
       "      <td>100000</td>\n",
       "      <td>52.050851781489740233155316673219203948974609375</td>\n",
       "      <td>0.001430</td>\n",
       "    </tr>\n",
       "    <tr>\n",
       "      <th>17</th>\n",
       "      <td>030c3f19d742ca294a55c00376b3b355c3c90d61c6b6b39554dbc7ac19b141c14f</td>\n",
       "      <td>0202f00d5f5c91a3c79113851b162c2b75f2cbd9fb2378fb4a4ce92d5ba1e63e08</td>\n",
       "      <td>1</td>\n",
       "      <td>Bitrefill Routing</td>\n",
       "      <td>ShatSat412</td>\n",
       "      <td>20000000</td>\n",
       "      <td>732401</td>\n",
       "      <td>24.685827696737018044359501800499856472015380859375</td>\n",
       "      <td>0.005523</td>\n",
       "    </tr>\n",
       "    <tr>\n",
       "      <th>18</th>\n",
       "      <td>033e9ce4e8f0e68f7db49ffb6b9eecc10605f3f3fcb3c630545887749ab515b9c7</td>\n",
       "      <td>02c746cf01c7f8687f54bc1780a26a74664f22e3ac2724467f103fa2a1450e7c0e</td>\n",
       "      <td>1</td>\n",
       "      <td>LNBϟG [Hub-2]</td>\n",
       "      <td>LNJCJNET</td>\n",
       "      <td>1000000</td>\n",
       "      <td>100000</td>\n",
       "      <td>70.5553328714451168934829183854162693023681640625</td>\n",
       "      <td>0.002565</td>\n",
       "    </tr>\n",
       "    <tr>\n",
       "      <th>25</th>\n",
       "      <td>03a93b87bf9f052b8e862d51ebbac4ce5e97b5f4137563cd5128548d7f5978dda9</td>\n",
       "      <td>03bd6d28432d67effa2b2b89dd5fd68697940e8a8f2fbb84aaae90d584295b03bf</td>\n",
       "      <td>1</td>\n",
       "      <td>cyberdyne.sh</td>\n",
       "      <td>ClearMoney⚡</td>\n",
       "      <td>16000000</td>\n",
       "      <td>167599</td>\n",
       "      <td>77.541673220570345392843591980636119842529296875</td>\n",
       "      <td>0.002473</td>\n",
       "    </tr>\n",
       "    <tr>\n",
       "      <th>27</th>\n",
       "      <td>03bd6d28432d67effa2b2b89dd5fd68697940e8a8f2fbb84aaae90d584295b03bf</td>\n",
       "      <td>0217890e3aad8d35bc054f43acc00084b25229ecff0ab68debd82883ad65ee8266</td>\n",
       "      <td>1</td>\n",
       "      <td>ClearMoney⚡</td>\n",
       "      <td>1ML.com node ALPHA</td>\n",
       "      <td>3000000</td>\n",
       "      <td>167599</td>\n",
       "      <td>15.5027310874478967406275842222385108470916748046875</td>\n",
       "      <td>0.002042</td>\n",
       "    </tr>\n",
       "  </tbody>\n",
       "</table>\n",
       "</div>"
      ]
     },
     "execution_count": 21,
     "metadata": {},
     "output_type": "execute_result"
    }
   ],
   "execution_count": 21
  },
  {
   "metadata": {
    "ExecuteTime": {
     "end_time": "2025-03-09T16:06:26.423513Z",
     "start_time": "2025-03-09T16:06:26.414210Z"
    }
   },
   "cell_type": "code",
   "source": [
    "%%capture --no-stdout\n",
    "final[\"amount\"] = final[\"amount\"].astype(float)\n",
    "final[\"rate_fee\"] = final[\"rate_fee\"].astype(float)\n",
    "final[\"base_fee\"] = final[\"base_fee\"].astype(float)\n",
    "total_transaction_cost = sum(final[\"amount\"] * final[\"rate_fee\"] + final[\"base_fee\"])\n",
    "perc_cost = (total_transaction_cost * 100) / transaction_amount\n",
    "print(f\"Transacting {transaction_amount} sats costs {total_transaction_cost} ({perc_cost}% of transaction amount)\")"
   ],
   "id": "5cb9ca4869b126de",
   "outputs": [
    {
     "name": "stdout",
     "output_type": "stream",
     "text": [
      "Transacting 1000000 sats costs 52354.32842417347 (5.235432842417347% of transaction amount)\n"
     ]
    }
   ],
   "execution_count": 22
  },
  {
   "metadata": {
    "ExecuteTime": {
     "end_time": "2025-03-09T16:06:26.862786Z",
     "start_time": "2025-03-09T16:06:26.424180Z"
    }
   },
   "cell_type": "code",
   "source": [
    "\n",
    "import networkx as nx\n",
    "import matplotlib.pyplot as plt\n",
    "\n",
    "# edges list construction\n",
    "edges_df = final[[\"source-alias\", \"destination-alias\"]]\n",
    "\n",
    "G = nx.from_pandas_edgelist(edges_df, \"source-alias\", \"destination-alias\", create_using=nx.DiGraph())\n",
    "\n",
    "plt.figure(figsize=(8, 6))\n",
    "pos = nx.circular_layout(G)\n",
    "nx.draw(G, pos, with_labels=True, node_size=1000, node_color='lightblue', font_size=10, font_color='black', font_weight='bold', arrows=True)\n",
    "plt.title(\"Graph with Uniform Node Size\")\n",
    "plt.show()\n"
   ],
   "id": "8f169c0f625c78b1",
   "outputs": [
    {
     "data": {
      "text/plain": [
       "<Figure size 800x600 with 1 Axes>"
      ],
      "image/png": "[encoded data removed]"
     },
     "metadata": {},
     "output_type": "display_data"
    }
   ],
   "execution_count": 23
  },
  {
   "metadata": {
    "ExecuteTime": {
     "end_time": "2025-03-09T16:06:26.867428Z",
     "start_time": "2025-03-09T16:06:26.863980Z"
    }
   },
   "cell_type": "code",
   "source": [
    "for i in nx.strongly_connected_components(G):\n",
    "    print(i)"
   ],
   "id": "a16ef50f5f0d0245",
   "outputs": [
    {
     "name": "stdout",
     "output_type": "stream",
     "text": [
      "{'ShatSat412'}\n",
      "{'Bitrefill Routing'}\n",
      "{'NodeBTC'}\n",
      "{'1ML.com node ALPHA'}\n",
      "{'LNJCJNET'}\n",
      "{'LNBϟG [Hub-2]'}\n",
      "{'TheSpielplatz'}\n",
      "{'ClearMoney⚡'}\n",
      "{'cyberdyne.sh'}\n",
      "{'adam.masterofpearls.net'}\n",
      "{'okx'}\n",
      "{'Eprahs'}\n",
      "{'VeniceForever'}\n"
     ]
    }
   ],
   "execution_count": 24
  },
  {
   "metadata": {
    "ExecuteTime": {
     "end_time": "2025-03-09T16:06:26.906656Z",
     "start_time": "2025-03-09T16:06:26.868331Z"
    }
   },
   "cell_type": "code",
   "source": [
    "final\n",
    "final[\"amount\"] = final[\"amount\"].astype(float)\n",
    "final[\"rate_fee\"] = final[\"rate_fee\"].astype(float)\n",
    "final[\"base_fee\"] = final[\"base_fee\"].astype(float)\n",
    "total_transaction_cost = sum(final[\"amount\"] * final[\"rate_fee\"] + final[\"base_fee\"])\n",
    "perc_cost = (total_transaction_cost * 100) / transaction_amount\n",
    "print(f\"Transacting {transaction_amount} sats costs {total_transaction_cost} ({perc_cost}% of transaction amount)\")\n",
    "print(\"Solver Status: \", results.solver[0][\"System time\"])"
   ],
   "id": "42de42b9e4dcdf7b",
   "outputs": [
    {
     "name": "stdout",
     "output_type": "stream",
     "text": [
      "Transacting 1000000 sats costs 52354.32842417347 (5.235432842417347% of transaction amount)\n",
      "Solver Status:  1452.12\n"
     ]
    },
    {
     "name": "stderr",
     "output_type": "stream",
     "text": [
      "/tmp/ipykernel_59573/2595053910.py:2: SettingWithCopyWarning: \n",
      "A value is trying to be set on a copy of a slice from a DataFrame.\n",
      "Try using .loc[row_indexer,col_indexer] = value instead\n",
      "\n",
      "See the caveats in the documentation: https://pandas.pydata.org/pandas-docs/stable/user_guide/indexing.html#returning-a-view-versus-a-copy\n",
      "  final[\"amount\"] = final[\"amount\"].astype(float)\n",
      "/tmp/ipykernel_59573/2595053910.py:3: SettingWithCopyWarning: \n",
      "A value is trying to be set on a copy of a slice from a DataFrame.\n",
      "Try using .loc[row_indexer,col_indexer] = value instead\n",
      "\n",
      "See the caveats in the documentation: https://pandas.pydata.org/pandas-docs/stable/user_guide/indexing.html#returning-a-view-versus-a-copy\n",
      "  final[\"rate_fee\"] = final[\"rate_fee\"].astype(float)\n",
      "/tmp/ipykernel_59573/2595053910.py:4: SettingWithCopyWarning: \n",
      "A value is trying to be set on a copy of a slice from a DataFrame.\n",
      "Try using .loc[row_indexer,col_indexer] = value instead\n",
      "\n",
      "See the caveats in the documentation: https://pandas.pydata.org/pandas-docs/stable/user_guide/indexing.html#returning-a-view-versus-a-copy\n",
      "  final[\"base_fee\"] = final[\"base_fee\"].astype(float)\n"
     ]
    }
   ],
   "execution_count": 25
  },
  {
   "metadata": {
    "ExecuteTime": {
     "end_time": "2025-03-09T16:06:26.915592Z",
     "start_time": "2025-03-09T16:06:26.907868Z"
    }
   },
   "cell_type": "code",
   "source": [
    "#from collections import Counter\n",
    "#results = [tuple(i) for i in DF_channels_pos[[\"source-alias\", \"destination-alias\"]].to_numpy()]\n",
    "#unwrap = [e for i in results for e in i]\n",
    "#extremes = [j for j in unwrap if Counter(unwrap)[j] == 1]\n",
    "#def return_source(l: list):\n",
    "#    if l[0] in [i for i, j in results]:\n",
    "#        return l[0]\n",
    "#    else: \n",
    "#        return l[1]\n",
    "#sequence = []        \n",
    "#source = return_source(extremes)\n",
    "#sequence.append(source)\n",
    "#while len(sequence) <= len(results):\n",
    "#    for i,j in results:\n",
    "#        if i == sequence[-1]:\n",
    "#            sequence.append(j)\n",
    "#for i in sequence:\n",
    "#    print(\"⬇️\", i)"
   ],
   "id": "6388d7bda8ced731",
   "outputs": [],
   "execution_count": 26
  }
 ],
 "metadata": {
  "kernelspec": {
   "display_name": "Python 3",
   "language": "python",
   "name": "python3"
  },
  "language_info": {
   "codemirror_mode": {
    "name": "ipython",
    "version": 2
   },
   "file_extension": ".py",
   "mimetype": "text/x-python",
   "name": "python",
   "nbconvert_exporter": "python",
   "pygments_lexer": "ipython2",
   "version": "2.7.6"
  }
 },
 "nbformat": 4,
 "nbformat_minor": 5
}
