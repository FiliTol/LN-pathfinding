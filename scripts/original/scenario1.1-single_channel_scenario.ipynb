{
 "cells": [
  {
   "metadata": {
    "ExecuteTime": {
     "end_time": "2025-01-18T20:27:07.246114Z",
     "start_time": "2025-01-18T20:27:06.820370Z"
    }
   },
   "cell_type": "code",
   "source": [
    "import pandas as pd\n",
    "from cleaning import create_demand\n",
    "import pyomo.environ as pyo\n",
    "import pyomo"
   ],
   "id": "initial_id",
   "outputs": [],
   "execution_count": 1
  },
  {
   "metadata": {},
   "cell_type": "markdown",
   "source": "# Data import",
   "id": "a4b2795dc42b8269"
  },
  {
   "metadata": {
    "ExecuteTime": {
     "end_time": "2025-01-18T20:27:07.332667Z",
     "start_time": "2025-01-18T20:27:07.247284Z"
    }
   },
   "cell_type": "code",
   "source": [
    "nodes = pd.read_pickle(\"../../data/original/nodes.pkl\")\n",
    "channels = pd.read_pickle(\"../../data/original/channels.pkl\")"
   ],
   "id": "20748e4222156956",
   "outputs": [],
   "execution_count": 2
  },
  {
   "metadata": {},
   "cell_type": "markdown",
   "source": "## Modeling",
   "id": "7df6d25eef847cf7"
  },
  {
   "metadata": {
    "ExecuteTime": {
     "end_time": "2025-01-18T20:27:07.338418Z",
     "start_time": "2025-01-18T20:27:07.333540Z"
    }
   },
   "cell_type": "code",
   "source": "pyomo.common.timing.report_timing()",
   "id": "4a4e07a12106f0f2",
   "outputs": [
    {
     "data": {
      "text/plain": [
       "<pyomo.common.timing.report_timing at 0x7f786dee63b0>"
      ]
     },
     "execution_count": 3,
     "metadata": {},
     "output_type": "execute_result"
    }
   ],
   "execution_count": 3
  },
  {
   "metadata": {
    "ExecuteTime": {
     "end_time": "2025-01-18T20:27:07.349764Z",
     "start_time": "2025-01-18T20:27:07.340391Z"
    }
   },
   "cell_type": "code",
   "source": [
    "# Multiplication to set the same base unit for all computations\n",
    "channels[\"capacity\"] = channels[\"capacity\"] * 1000000\n",
    "channels[\"base_fee\"] = channels[\"base_fee\"] * 1000000"
   ],
   "id": "eb5330e8d98289ec",
   "outputs": [],
   "execution_count": 4
  },
  {
   "metadata": {
    "ExecuteTime": {
     "end_time": "2025-01-18T20:27:09.112Z",
     "start_time": "2025-01-18T20:27:07.350819Z"
    }
   },
   "cell_type": "code",
   "source": [
    "model = pyo.ConcreteModel(name=\"Min cost flow problem\")\n",
    "model.NODES = pyo.Set(initialize=nodes.index)\n",
    "model.CHANNELS = pyo.Set(initialize=[(channels.loc[i, \"node1_pub\"], channels.loc[i, \"node2_pub\"]) for i in channels.index])"
   ],
   "id": "52bc701c57020ae",
   "outputs": [
    {
     "name": "stdout",
     "output_type": "stream",
     "text": [
      "           0 seconds to construct Block ConcreteModel; 1 index total\n",
      "        0.02 seconds to construct Set NODES; 1 index total\n",
      "        0.18 seconds to construct Set CHANNELS; 1 index total\n"
     ]
    }
   ],
   "execution_count": 5
  },
  {
   "metadata": {
    "ExecuteTime": {
     "end_time": "2025-01-18T20:27:09.120465Z",
     "start_time": "2025-01-18T20:27:09.112875Z"
    }
   },
   "cell_type": "code",
   "source": [
    "transaction_amount = 100000\n",
    "nodes = create_demand(nodes, transaction_amount,\n",
    "                      source=\"02b4098c3116124c0c4105295d3d2e65927d46e98e248d84cb6119da57e4ae31e3\",destination=\"0202f00d5f5c91a3c79113851b162c2b75f2cbd9fb2378fb4a4ce92d5ba1e63e08\")"
   ],
   "id": "71f0e54edb55901d",
   "outputs": [
    {
     "name": "stdout",
     "output_type": "stream",
     "text": [
      "Transaction of 100000 sats.\n",
      "Sender: VeniceForever\n",
      "Receiver: ShatSat412.\n"
     ]
    }
   ],
   "execution_count": 6
  },
  {
   "metadata": {
    "ExecuteTime": {
     "end_time": "2025-01-18T20:27:09.377789Z",
     "start_time": "2025-01-18T20:27:09.121416Z"
    }
   },
   "cell_type": "code",
   "source": [
    "model.x = pyo.Var(model.CHANNELS, domain=pyo.Binary)\n",
    "model.a = pyo.Var(model.CHANNELS, domain=pyo.NonNegativeReals, bounds=(0, max(nodes[\"demand\"])))"
   ],
   "id": "db6bf92632e748f7",
   "outputs": [
    {
     "name": "stdout",
     "output_type": "stream",
     "text": [
      "        0.11 seconds to construct Var x; 89898 indices total\n",
      "        0.13 seconds to construct Var a; 89898 indices total\n"
     ]
    }
   ],
   "execution_count": 7
  },
  {
   "metadata": {
    "ExecuteTime": {
     "end_time": "2025-01-18T20:27:09.406938Z",
     "start_time": "2025-01-18T20:27:09.378872Z"
    }
   },
   "cell_type": "code",
   "source": [
    "channels.reset_index(inplace=True)\n",
    "channels.set_index([\"node1_pub\", \"node2_pub\"], inplace=True)\n",
    "channels.sort_index(inplace=True)"
   ],
   "id": "5d69bcd9f4cf6b47",
   "outputs": [],
   "execution_count": 8
  },
  {
   "metadata": {},
   "cell_type": "markdown",
   "source": [
    "### Objective function\n",
    "\n",
    "$$\n",
    "min \\sum_{} ^{} amount_i \\times feerate_{i} + x_{i} \\times basefee_{i}\n",
    "$$"
   ],
   "id": "75fbeb57061b26ae"
  },
  {
   "metadata": {
    "ExecuteTime": {
     "end_time": "2025-01-18T20:27:16.926277Z",
     "start_time": "2025-01-18T20:27:09.408103Z"
    }
   },
   "cell_type": "code",
   "source": [
    "#def objective_function(model: pyo.ConcreteModel):\n",
    "#    return sum(model.a[i] * channels.loc[i, \"rate_fee\"] for i in model.CHANNELS) + sum(model.x[i] * channels.loc[i, \"base_fee\"] for i in model.CHANNELS)\n",
    "\n",
    "def objective_function(model: pyo.ConcreteModel):\n",
    "    return sum(model.a[i] * channels.loc[i, \"rate_fee\"] + model.x[i] * channels.loc[i, \"base_fee\"] for i in model.CHANNELS)\n",
    "\n",
    "model.totalCost = pyo.Objective(rule=objective_function(model), sense=pyo.minimize)"
   ],
   "id": "f45ec00f2444e9d1",
   "outputs": [
    {
     "name": "stdout",
     "output_type": "stream",
     "text": [
      "           0 seconds to construct Objective totalCost; 1 index total\n"
     ]
    }
   ],
   "execution_count": 9
  },
  {
   "metadata": {},
   "cell_type": "markdown",
   "source": [
    "### Constraints\n",
    "\n",
    "#### Symmetric channel flow rule\n",
    "\n",
    "This constraint enforces the symmetry between the number of channel incoming and outgoing from an intermediary node (excluding source and destination nodes)\n",
    "\n",
    "$$\n",
    "\\sum_{(i,n) \\in E} x_{i,n} = \\sum_{(n,j) \\in E} x_{n,j} \\text{ } \\forall n \\in V \\bigwedge i \\ne \\{n, s, d\\}\n",
    "$$\n",
    "\n",
    "where $s$ is the source node, with a negative demand and $d$ is the destination node, with positive demand."
   ],
   "id": "861b0daa9b9cba75"
  },
  {
   "metadata": {
    "ExecuteTime": {
     "end_time": "2025-01-18T20:27:17.351436Z",
     "start_time": "2025-01-18T20:27:16.928004Z"
    }
   },
   "cell_type": "code",
   "source": [
    "s = nodes[nodes[\"demand\"] < 0].index.values\n",
    "d = nodes[nodes[\"demand\"] > 0].index.values\n",
    "intermediaries = [(i, j) for i, j in channels.index if i != s and j != d]"
   ],
   "id": "fb28e372cf7ca6b5",
   "outputs": [],
   "execution_count": 10
  },
  {
   "metadata": {
    "ExecuteTime": {
     "end_time": "2025-01-18T20:28:09.562284Z",
     "start_time": "2025-01-18T20:27:17.352532Z"
    }
   },
   "cell_type": "code",
   "source": [
    "def number_channels_rule(model: pyo.ConcreteModel, n):\n",
    "    incoming = [model.x[(i, j)] for i, j in intermediaries if j == n]\n",
    "    outgoing = [model.x[(i, j)] for i, j in intermediaries if i == n]\n",
    "    return sum(incoming) == sum(outgoing)\n",
    "\n",
    "model.NumberChannelsConstraint = pyo.Constraint(model.NODES, rule=number_channels_rule, name=\"Number channels constraint\")"
   ],
   "id": "f030e01165abfbbd",
   "outputs": [
    {
     "name": "stdout",
     "output_type": "stream",
     "text": [
      "       52.21 seconds to construct Constraint NumberChannelsConstraint; 11984 indices total\n"
     ]
    }
   ],
   "execution_count": 11
  },
  {
   "metadata": {},
   "cell_type": "markdown",
   "source": [
    "#### Capacity constraint\n",
    "\n",
    "$$amount_{i,j} \\le capacity_{i,j} \\times x_{i,j} \\text{ } \\forall (i,j) \\in E$$"
   ],
   "id": "e5ea238f92c81afb"
  },
  {
   "metadata": {
    "ExecuteTime": {
     "end_time": "2025-01-18T20:28:14.502235Z",
     "start_time": "2025-01-18T20:28:09.563495Z"
    }
   },
   "cell_type": "code",
   "source": [
    "def capacity_constraint(model: pyo.ConcreteModel, a, b):\n",
    "    return model.a[(a, b)] <= channels.loc[(a, b), \"capacity\"] * model.x[(a, b)]\n",
    "\n",
    "model.CapacityConstraint = pyo.Constraint(model.CHANNELS, rule=capacity_constraint, name=\"Capacity constraint\")"
   ],
   "id": "7d46c6418b15675a",
   "outputs": [
    {
     "name": "stdout",
     "output_type": "stream",
     "text": [
      "        4.94 seconds to construct Constraint CapacityConstraint; 89898 indices total\n"
     ]
    }
   ],
   "execution_count": 12
  },
  {
   "metadata": {},
   "cell_type": "markdown",
   "source": [
    "#### Flow balance constraint\n",
    "\n",
    "$$\\sum_{(s,i) \\in E} amount_{s,i} - \\sum_{(i,t) \\in E} amount_{i,d} = b_i \\text{ } \\forall i \\in V$$\n",
    "\n",
    "where $s$ is the source node, $d$ is the destination node, $i$ is every intermediary node\n"
   ],
   "id": "7adcde34bbdb4878"
  },
  {
   "metadata": {
    "ExecuteTime": {
     "end_time": "2025-01-18T20:28:17.792900Z",
     "start_time": "2025-01-18T20:28:14.503318Z"
    }
   },
   "cell_type": "code",
   "source": [
    "channels.reset_index(inplace=True)\n",
    "channels.set_index(\"channel_id\", inplace=True)\n",
    "\n",
    "def flow_balance_constraint(model: pyo.ConcreteModel, n: str):\n",
    "    InFlow = sum(model.a[(channels.loc[a, \"node1_pub\"], channels.loc[a, \"node2_pub\"])] for a in nodes.loc[n, 'incoming_channels'])\n",
    "    OutFlow = sum(model.a[(channels.loc[a, \"node1_pub\"], channels.loc[a, \"node2_pub\"])] for a in nodes.loc[n, 'outgoing_channels'])\n",
    "    return  OutFlow + nodes.loc[n, \"demand\"] == InFlow\n",
    "\n",
    "model.FlowBalanceConstraint = pyo.Constraint(model.NODES, rule=flow_balance_constraint, name=\"Flow balance constrain\")\n",
    "\n",
    "channels.reset_index(inplace=True)\n",
    "channels.set_index([\"node1_pub\", \"node2_pub\"], inplace=True)\n",
    "channels.sort_index(inplace=True) "
   ],
   "id": "d2b57765c3b53fc5",
   "outputs": [
    {
     "name": "stdout",
     "output_type": "stream",
     "text": [
      "        3.25 seconds to construct Constraint FlowBalanceConstraint; 11984 indices total\n"
     ]
    }
   ],
   "execution_count": 13
  },
  {
   "metadata": {},
   "cell_type": "markdown",
   "source": "## Solving the model",
   "id": "b8bc8c88087daf77"
  },
  {
   "metadata": {
    "ExecuteTime": {
     "end_time": "2025-01-18T20:28:17.796120Z",
     "start_time": "2025-01-18T20:28:17.793824Z"
    }
   },
   "cell_type": "code",
   "source": [
    "from pyomo.common.tempfiles import TempfileManager\n",
    "TempfileManager.tempdir = \"/home/filippo/repositories/LN-pathfinding\""
   ],
   "id": "2dd413d5dd6de75f",
   "outputs": [],
   "execution_count": 14
  },
  {
   "metadata": {
    "ExecuteTime": {
     "end_time": "2025-01-18T20:28:58.772403Z",
     "start_time": "2025-01-18T20:28:17.797089Z"
    }
   },
   "cell_type": "code",
   "source": [
    "opt = pyo.SolverFactory('cbc')\n",
    "#opt = pyo.SolverFactory('cplex_direct')\n",
    "results = opt.solve(model, tee=True, keepfiles=True)\n",
    "\n",
    "if (results.solver.status == pyo.SolverStatus.ok) and (results.solver.termination_condition == pyo.TerminationCondition.optimal):\n",
    "    print('\\nOptimal solution found')\n",
    "elif results.solver.termination_condition == pyo.TerminationCondition.feasible:\n",
    "    print('\\nFeasible but not proven optimal solution found')\n",
    "elif results.solver.termination_condition == pyo.TerminationCondition.infeasible:\n",
    "    raise Exception(\"The model is infeasible\")\n",
    "else:\n",
    "    print('\\nSolver Status: ',  results.solver.status)\n",
    "    raise Exception(results.solver.status)\n",
    "\n",
    "print('\\nObject function value = ', model.Objective())\n"
   ],
   "id": "f88c7c0611694b3b",
   "outputs": [
    {
     "name": "stdout",
     "output_type": "stream",
     "text": [
      "           0 seconds to construct Var ONE_VAR_CONSTANT; 1 index total\n",
      "      [    2.27] Generated LP representation\n",
      "Solver log file: '/home/filippo/repositories/LN-pathfinding/tmp6u27n6ck.cbc.log'\n",
      "Solver solution file: '/home/filippo/repositories/LN-pathfinding/tmpf7crzrb6.pyomo.soln'\n",
      "Solver problem files: ('/home/filippo/repositories/LN-pathfinding/tmpf7crzrb6.pyomo.lp',)\n",
      "Welcome to the CBC MILP Solver \n",
      "Version: 2.10.8 \n",
      "Build Date: May  9 2022 \n",
      "\n",
      "command line - /usr/bin/cbc -printingOptions all -import /home/filippo/repositories/LN-pathfinding/tmpf7crzrb6.pyomo.lp -stat=1 -solve -solu /home/filippo/repositories/LN-pathfinding/tmpf7crzrb6.pyomo.soln (default strategy 1)\n",
      "Option for printingOptions changed from normal to all\n",
      "Presolve 95149 (-18717) rows, 166362 (-13434) columns and 476850 (-61370) elements\n",
      "Statistics for presolved model\n",
      "Original problem has 89898 integers (89898 of which binary)\n",
      "Presolved problem has 83179 integers (83179 of which binary)\n",
      "==== 38051 zero objective 3917 different\n",
      "==== absolute objective values 3917 different\n",
      "==== for integers 31675 zero objective 1022 different\n",
      "==== for integers absolute objective values 1022 different\n",
      "===== end objective counts\n",
      "\n",
      "\n",
      "Problem has 95149 rows, 166362 columns (128311 with objective) and 476850 elements\n",
      "There are 10596 singletons with objective \n",
      "Column breakdown:\n",
      "0 of type 0.0->inf, 83183 of type 0.0->up, 0 of type lo->inf, \n",
      "0 of type lo->up, 0 of type free, 0 of type fixed, \n",
      "0 of type -inf->0.0, 0 of type -inf->up, 83179 of type 0.0->1.0 \n",
      "Row breakdown:\n",
      "11968 of type E 0.0, 0 of type E 1.0, 0 of type E -1.0, \n",
      "2 of type E other, 0 of type G 0.0, 0 of type G 1.0, \n",
      "0 of type G other, 83179 of type L 0.0, 0 of type L 1.0, \n",
      "0 of type L other, 0 of type Range 0.0->1.0, 0 of type Range other, \n",
      "0 of type Free \n",
      "Continuous objective value is 1.01829e+07 - 29.10 seconds\n",
      "Cgl0002I 34 variables fixed\n",
      "Cgl0004I processed model has 89866 rows, 155796 columns (77896 integer (77896 of which binary)) and 466284 elements\n",
      "Cbc0038I Initial state - 0 integers unsatisfied sum - 2.69605e-15\n",
      "Cbc0038I Solution found of 1.2001e+07\n",
      "Cbc0038I Relaxing continuous gives 1.2001e+07\n",
      "Cbc0038I Before mini branch and bound, 77896 integers at bound fixed and 77893 continuous\n",
      "Cbc0038I Mini branch and bound did not improve solution (32.32 seconds)\n",
      "Cbc0038I After 32.35 seconds - Feasibility pump exiting with objective of 1.2001e+07 - took 0.20 seconds\n",
      "Cbc0012I Integer solution of 12001000 found by feasibility pump after 0 iterations and 0 nodes (33.47 seconds)\n",
      "Cbc0001I Search completed - best objective 12001000, took 0 iterations and 0 nodes (33.52 seconds)\n",
      "Cbc0035I Maximum depth 0, 0 variables fixed on reduced cost\n",
      "Cuts at root node changed objective from 1.2001e+07 to 1.2001e+07\n",
      "Probing was tried 0 times and created 0 cuts of which 0 were active after adding rounds of cuts (0.000 seconds)\n",
      "Gomory was tried 0 times and created 0 cuts of which 0 were active after adding rounds of cuts (0.000 seconds)\n",
      "Knapsack was tried 0 times and created 0 cuts of which 0 were active after adding rounds of cuts (0.000 seconds)\n",
      "Clique was tried 0 times and created 0 cuts of which 0 were active after adding rounds of cuts (0.000 seconds)\n",
      "MixedIntegerRounding2 was tried 0 times and created 0 cuts of which 0 were active after adding rounds of cuts (0.000 seconds)\n",
      "FlowCover was tried 0 times and created 0 cuts of which 0 were active after adding rounds of cuts (0.000 seconds)\n",
      "TwoMirCuts was tried 0 times and created 0 cuts of which 0 were active after adding rounds of cuts (0.000 seconds)\n",
      "ZeroHalf was tried 0 times and created 0 cuts of which 0 were active after adding rounds of cuts (0.000 seconds)\n",
      "\n",
      "Result - Optimal solution found\n",
      "\n",
      "Objective value:                12001000.00000000\n",
      "Enumerated nodes:               0\n",
      "Total iterations:               0\n",
      "Time (CPU seconds):             35.26\n",
      "Time (Wallclock seconds):       35.67\n",
      "\n",
      "Total time (CPU seconds):       36.62   (Wallclock seconds):       37.09\n",
      "\n",
      "\n",
      "Optimal solution found\n",
      "\n",
      "Object function value =  <pyomo.core.base.block._generic_component_decorator object at 0x7f7862e8a5c0>\n"
     ]
    }
   ],
   "execution_count": 15
  },
  {
   "metadata": {
    "ExecuteTime": {
     "end_time": "2025-01-18T20:28:58.780858Z",
     "start_time": "2025-01-18T20:28:58.774136Z"
    }
   },
   "cell_type": "code",
   "source": [
    "#from pyomo.opt import SolverStatus, TerminationCondition\n",
    "\n",
    "print(\"Solver Status: \",  results.solver[0][\"System time\"])\n"
   ],
   "id": "8539cc0c87e2357b",
   "outputs": [
    {
     "name": "stdout",
     "output_type": "stream",
     "text": [
      "Solver Status:  36.62\n"
     ]
    }
   ],
   "execution_count": 16
  },
  {
   "metadata": {
    "ExecuteTime": {
     "end_time": "2025-01-18T20:28:58.843858Z",
     "start_time": "2025-01-18T20:28:58.782157Z"
    }
   },
   "cell_type": "code",
   "source": [
    "from decimal import Decimal\n",
    "pd.set_option('display.max_colwidth', 10000000000000000000000000000000000000000000000000000)\n",
    "DF_channels = pd.DataFrame()\n",
    "c = 0\n",
    "for index, value in model.a.extract_values().items():\n",
    "    if value > 0.1:\n",
    "        DF_channels.loc[c, \"source\"] = index[0]\n",
    "        DF_channels.loc[c, \"destination\"] = index[1]\n",
    "        try:\n",
    "            DF_channels.loc[c, \"source-alias\"] = nodes.loc[index[0], \"alias\"]\n",
    "        except KeyError:\n",
    "            print(\"Source alias not found in nodes database: placeholder inserted\")\n",
    "            DF_channels.loc[c, \"source-alias\"] = \"source-alias\"\n",
    "            pass\n",
    "        try:\n",
    "            DF_channels.loc[c, \"destination-alias\"] = nodes.loc[index[1], \"alias\"]\n",
    "        except KeyError:\n",
    "            print(\"Destination alias not found in nodes database: placeholder inserted\")\n",
    "            DF_channels.loc[c, \"destination-alias\"] = \"destination-alias\"\n",
    "            pass\n",
    "        DF_channels.loc[c, \"capacity\"] = Decimal(channels.loc[index, \"capacity\"]/1000000)\n",
    "        DF_channels.loc[c, \"amount\"] = Decimal(value/1000000)\n",
    "        DF_channels.loc[c, \"base_fee\"] = Decimal(channels.loc[(index[0], index[1]), \"base_fee\"]/1000000)\n",
    "        DF_channels.loc[c, \"rate_fee\"] = channels.loc[(index[0], index[1]), \"rate_fee\"]\n",
    "        #DF_channels.loc[c, \"used_fl\"] = channels.loc[]\n",
    "        c += 1\n",
    "\n",
    "DF_channels_pos = DF_channels[DF_channels[\"amount\"]!=0]"
   ],
   "id": "b7051d6dc41ce1a0",
   "outputs": [],
   "execution_count": 17
  },
  {
   "metadata": {
    "ExecuteTime": {
     "end_time": "2025-01-18T20:28:58.850521Z",
     "start_time": "2025-01-18T20:28:58.844756Z"
    }
   },
   "cell_type": "code",
   "source": "DF_channels[DF_channels[\"amount\"]> DF_channels[\"capacity\"]]",
   "id": "591cfe14bef33883",
   "outputs": [
    {
     "data": {
      "text/plain": [
       "Empty DataFrame\n",
       "Columns: [source, destination, source-alias, destination-alias, capacity, amount, base_fee, rate_fee]\n",
       "Index: []"
      ],
      "text/html": [
       "<div>\n",
       "<style scoped>\n",
       "    .dataframe tbody tr th:only-of-type {\n",
       "        vertical-align: middle;\n",
       "    }\n",
       "\n",
       "    .dataframe tbody tr th {\n",
       "        vertical-align: top;\n",
       "    }\n",
       "\n",
       "    .dataframe thead th {\n",
       "        text-align: right;\n",
       "    }\n",
       "</style>\n",
       "<table border=\"1\" class=\"dataframe\">\n",
       "  <thead>\n",
       "    <tr style=\"text-align: right;\">\n",
       "      <th></th>\n",
       "      <th>source</th>\n",
       "      <th>destination</th>\n",
       "      <th>source-alias</th>\n",
       "      <th>destination-alias</th>\n",
       "      <th>capacity</th>\n",
       "      <th>amount</th>\n",
       "      <th>base_fee</th>\n",
       "      <th>rate_fee</th>\n",
       "    </tr>\n",
       "  </thead>\n",
       "  <tbody>\n",
       "  </tbody>\n",
       "</table>\n",
       "</div>"
      ]
     },
     "execution_count": 18,
     "metadata": {},
     "output_type": "execute_result"
    }
   ],
   "execution_count": 18
  },
  {
   "metadata": {
    "ExecuteTime": {
     "end_time": "2025-01-18T20:29:00.059634Z",
     "start_time": "2025-01-18T20:28:58.851430Z"
    }
   },
   "cell_type": "code",
   "source": [
    "DF_fixed = pd.DataFrame()\n",
    "c = 0\n",
    "for index, value in model.x.extract_values().items():\n",
    "    if value != 0:\n",
    "        DF_fixed.loc[c, \"source\"] = index[0]\n",
    "        DF_fixed.loc[c, \"destination\"] = index[1]\n",
    "        DF_fixed.loc[c, \"used\"] = Decimal(value)\n",
    "        c += 1\n",
    "\n",
    "DF_fixed_pos = DF_fixed[DF_fixed[\"used\"]!=0]\n",
    "DF_fixed_pos"
   ],
   "id": "4150b1232fe02328",
   "outputs": [
    {
     "data": {
      "text/plain": [
       "                                                                  source  \\\n",
       "0     02001828ca7eb8e44d4d78b5c1ea609cd3744be823c22cd69d895eff2f9345892d   \n",
       "1     0204edf87f5ee7d4e29a43756c87ff4f3152f3ea5de34867df6a665a3920b37e21   \n",
       "2     02055838411dba34c72329e9872fc66d2f0dc0292c049d1313122cdec12c8d5883   \n",
       "3     02062a64c5d381c77f8ef679133e6207b995d33914c97c072f854eda8ef4e6ea78   \n",
       "4     0207271bbe0a744d5ec18e3aecd54904feb5e498c2fa65e4802b7710f26b61daa2   \n",
       "...                                                                  ...   \n",
       "1394  03fd8cc2d81e7f52c05b799372c2dc16120fe1723f3d8dbd26bca8ab26bbddffad   \n",
       "1395  03fe824c5b3a0fb78e7f2844bfd052c8fe729b48ce1ffb15ce7aeef9a63e5ee761   \n",
       "1396  03fee917a3c0636f95d2529985a57ed185da42f35413f86a9e5d2d109100f15bd1   \n",
       "1397  03ff3e6c4078f9bad09f27100366b1e226f55331a3a66fb30201a7ddbac2b63bfd   \n",
       "1398  03ff5613bcb4cca582dab93b53bd274bc746c9f33c72d4d9e2feb533dd59cb1362   \n",
       "\n",
       "                                                             destination used  \n",
       "0     030b252eb8bb0f5e79af393d26dd5204f3c525af8b84043c4f5fcd7c9482c15a23    1  \n",
       "1     02473eb084d0410351e343547c68dac1961d1c8e18d0da3c1e4888d113d8f8eab8    1  \n",
       "2     0337d0c749f89d24e75427e1fec4ce2ed4f7d5a38c2196bc69825aa9e439696ec4    1  \n",
       "3     03bbdf5faaa9cb0ef87fca90fe31df13b9ca6203c264558e006a1c764ac1ea6874    1  \n",
       "4     02315fe3619ffdea2561bcacecada87b226723f471a59fdbfec18c4e84bcf785b2    1  \n",
       "...                                                                  ...  ...  \n",
       "1394  02315fe3619ffdea2561bcacecada87b226723f471a59fdbfec18c4e84bcf785b2    1  \n",
       "1395  030b252eb8bb0f5e79af393d26dd5204f3c525af8b84043c4f5fcd7c9482c15a23    1  \n",
       "1396  03cde60a6323f7122d5178255766e38114b4722ede08f7c9e0c5df9b912cc201d6    1  \n",
       "1397  03c4b52dab7fe8ea9be955f16c8bb0c763c3eb2cbe12867a24dd3f4378d5c0fb92    1  \n",
       "1398  02315fe3619ffdea2561bcacecada87b226723f471a59fdbfec18c4e84bcf785b2    1  \n",
       "\n",
       "[1399 rows x 3 columns]"
      ],
      "text/html": [
       "<div>\n",
       "<style scoped>\n",
       "    .dataframe tbody tr th:only-of-type {\n",
       "        vertical-align: middle;\n",
       "    }\n",
       "\n",
       "    .dataframe tbody tr th {\n",
       "        vertical-align: top;\n",
       "    }\n",
       "\n",
       "    .dataframe thead th {\n",
       "        text-align: right;\n",
       "    }\n",
       "</style>\n",
       "<table border=\"1\" class=\"dataframe\">\n",
       "  <thead>\n",
       "    <tr style=\"text-align: right;\">\n",
       "      <th></th>\n",
       "      <th>source</th>\n",
       "      <th>destination</th>\n",
       "      <th>used</th>\n",
       "    </tr>\n",
       "  </thead>\n",
       "  <tbody>\n",
       "    <tr>\n",
       "      <th>0</th>\n",
       "      <td>02001828ca7eb8e44d4d78b5c1ea609cd3744be823c22cd69d895eff2f9345892d</td>\n",
       "      <td>030b252eb8bb0f5e79af393d26dd5204f3c525af8b84043c4f5fcd7c9482c15a23</td>\n",
       "      <td>1</td>\n",
       "    </tr>\n",
       "    <tr>\n",
       "      <th>1</th>\n",
       "      <td>0204edf87f5ee7d4e29a43756c87ff4f3152f3ea5de34867df6a665a3920b37e21</td>\n",
       "      <td>02473eb084d0410351e343547c68dac1961d1c8e18d0da3c1e4888d113d8f8eab8</td>\n",
       "      <td>1</td>\n",
       "    </tr>\n",
       "    <tr>\n",
       "      <th>2</th>\n",
       "      <td>02055838411dba34c72329e9872fc66d2f0dc0292c049d1313122cdec12c8d5883</td>\n",
       "      <td>0337d0c749f89d24e75427e1fec4ce2ed4f7d5a38c2196bc69825aa9e439696ec4</td>\n",
       "      <td>1</td>\n",
       "    </tr>\n",
       "    <tr>\n",
       "      <th>3</th>\n",
       "      <td>02062a64c5d381c77f8ef679133e6207b995d33914c97c072f854eda8ef4e6ea78</td>\n",
       "      <td>03bbdf5faaa9cb0ef87fca90fe31df13b9ca6203c264558e006a1c764ac1ea6874</td>\n",
       "      <td>1</td>\n",
       "    </tr>\n",
       "    <tr>\n",
       "      <th>4</th>\n",
       "      <td>0207271bbe0a744d5ec18e3aecd54904feb5e498c2fa65e4802b7710f26b61daa2</td>\n",
       "      <td>02315fe3619ffdea2561bcacecada87b226723f471a59fdbfec18c4e84bcf785b2</td>\n",
       "      <td>1</td>\n",
       "    </tr>\n",
       "    <tr>\n",
       "      <th>...</th>\n",
       "      <td>...</td>\n",
       "      <td>...</td>\n",
       "      <td>...</td>\n",
       "    </tr>\n",
       "    <tr>\n",
       "      <th>1394</th>\n",
       "      <td>03fd8cc2d81e7f52c05b799372c2dc16120fe1723f3d8dbd26bca8ab26bbddffad</td>\n",
       "      <td>02315fe3619ffdea2561bcacecada87b226723f471a59fdbfec18c4e84bcf785b2</td>\n",
       "      <td>1</td>\n",
       "    </tr>\n",
       "    <tr>\n",
       "      <th>1395</th>\n",
       "      <td>03fe824c5b3a0fb78e7f2844bfd052c8fe729b48ce1ffb15ce7aeef9a63e5ee761</td>\n",
       "      <td>030b252eb8bb0f5e79af393d26dd5204f3c525af8b84043c4f5fcd7c9482c15a23</td>\n",
       "      <td>1</td>\n",
       "    </tr>\n",
       "    <tr>\n",
       "      <th>1396</th>\n",
       "      <td>03fee917a3c0636f95d2529985a57ed185da42f35413f86a9e5d2d109100f15bd1</td>\n",
       "      <td>03cde60a6323f7122d5178255766e38114b4722ede08f7c9e0c5df9b912cc201d6</td>\n",
       "      <td>1</td>\n",
       "    </tr>\n",
       "    <tr>\n",
       "      <th>1397</th>\n",
       "      <td>03ff3e6c4078f9bad09f27100366b1e226f55331a3a66fb30201a7ddbac2b63bfd</td>\n",
       "      <td>03c4b52dab7fe8ea9be955f16c8bb0c763c3eb2cbe12867a24dd3f4378d5c0fb92</td>\n",
       "      <td>1</td>\n",
       "    </tr>\n",
       "    <tr>\n",
       "      <th>1398</th>\n",
       "      <td>03ff5613bcb4cca582dab93b53bd274bc746c9f33c72d4d9e2feb533dd59cb1362</td>\n",
       "      <td>02315fe3619ffdea2561bcacecada87b226723f471a59fdbfec18c4e84bcf785b2</td>\n",
       "      <td>1</td>\n",
       "    </tr>\n",
       "  </tbody>\n",
       "</table>\n",
       "<p>1399 rows × 3 columns</p>\n",
       "</div>"
      ]
     },
     "execution_count": 19,
     "metadata": {},
     "output_type": "execute_result"
    }
   ],
   "execution_count": 19
  },
  {
   "metadata": {},
   "cell_type": "markdown",
   "source": "### All data about channels on path",
   "id": "1dfb4bcd7e78f159"
  },
  {
   "metadata": {
    "ExecuteTime": {
     "end_time": "2025-01-18T20:29:00.074301Z",
     "start_time": "2025-01-18T20:29:00.061603Z"
    }
   },
   "cell_type": "code",
   "source": [
    "intersection = DF_fixed_pos.merge(DF_channels_pos, on=[\"source\", \"destination\"], how=\"outer\")\n",
    "final = intersection[intersection[\"amount\"]>0]\n",
    "final"
   ],
   "id": "ab555f0c48920c85",
   "outputs": [
    {
     "data": {
      "text/plain": [
       "                                                                  source  \\\n",
       "640   02b4098c3116124c0c4105295d3d2e65927d46e98e248d84cb6119da57e4ae31e3   \n",
       "768   02f0c7b731ca40a285d7c12aa1c5c7c7caa4598d3d6d34904c3714cd0d47852640   \n",
       "800   02f49ea881d143aa97a8ab464d1fcbe8da54d2b226c87cfab40a674e656a5149bd   \n",
       "991   033b63e4a9931dc151037acbce12f4f8968c86f5655cf102bbfa85a26bd4adc6d9   \n",
       "1049  035e4ff418fc8b5554c5d9eea66396c227bd429a3251c8cbc711002ba215bfc226   \n",
       "1134  038dea9341a1be887457b117ef70e8a4a87ca03163e0cda3f1e2254e2a7590d3ac   \n",
       "1303  03c8e5f583585cac1de2b7503a6ccd3c12ba477cfd139cd4905be504c2f48e86bd   \n",
       "\n",
       "                                                             destination used  \\\n",
       "640   038dea9341a1be887457b117ef70e8a4a87ca03163e0cda3f1e2254e2a7590d3ac    1   \n",
       "768   033b63e4a9931dc151037acbce12f4f8968c86f5655cf102bbfa85a26bd4adc6d9    1   \n",
       "800   035e4ff418fc8b5554c5d9eea66396c227bd429a3251c8cbc711002ba215bfc226    1   \n",
       "991   03c8e5f583585cac1de2b7503a6ccd3c12ba477cfd139cd4905be504c2f48e86bd    1   \n",
       "1049  02f0c7b731ca40a285d7c12aa1c5c7c7caa4598d3d6d34904c3714cd0d47852640    1   \n",
       "1134  02f49ea881d143aa97a8ab464d1fcbe8da54d2b226c87cfab40a674e656a5149bd    1   \n",
       "1303  0202f00d5f5c91a3c79113851b162c2b75f2cbd9fb2378fb4a4ce92d5ba1e63e08    1   \n",
       "\n",
       "             source-alias    destination-alias  capacity  amount  \\\n",
       "640         VeniceForever            tantundem    500000  100000   \n",
       "768              Henwen 🐷              Garlic🧄  15000000  100000   \n",
       "800            sol-system  WalletOfSatoshi.com   5000000  100000   \n",
       "991               Garlic🧄               Strike  25000000  100000   \n",
       "1049  WalletOfSatoshi.com             Henwen 🐷  15000000  100000   \n",
       "1134            tantundem           sol-system    500000  100000   \n",
       "1303               Strike           ShatSat412  10000000  100000   \n",
       "\n",
       "                                                            base_fee  rate_fee  \n",
       "640   0.001000000000000000020816681711721685132943093776702880859375   0.00000  \n",
       "768                                                                0   0.00000  \n",
       "800                                                                0   0.00001  \n",
       "991                                                                0   0.00000  \n",
       "1049                                                               0   0.00000  \n",
       "1134                                                               0   0.00000  \n",
       "1303                                                               1   0.00010  "
      ],
      "text/html": [
       "<div>\n",
       "<style scoped>\n",
       "    .dataframe tbody tr th:only-of-type {\n",
       "        vertical-align: middle;\n",
       "    }\n",
       "\n",
       "    .dataframe tbody tr th {\n",
       "        vertical-align: top;\n",
       "    }\n",
       "\n",
       "    .dataframe thead th {\n",
       "        text-align: right;\n",
       "    }\n",
       "</style>\n",
       "<table border=\"1\" class=\"dataframe\">\n",
       "  <thead>\n",
       "    <tr style=\"text-align: right;\">\n",
       "      <th></th>\n",
       "      <th>source</th>\n",
       "      <th>destination</th>\n",
       "      <th>used</th>\n",
       "      <th>source-alias</th>\n",
       "      <th>destination-alias</th>\n",
       "      <th>capacity</th>\n",
       "      <th>amount</th>\n",
       "      <th>base_fee</th>\n",
       "      <th>rate_fee</th>\n",
       "    </tr>\n",
       "  </thead>\n",
       "  <tbody>\n",
       "    <tr>\n",
       "      <th>640</th>\n",
       "      <td>02b4098c3116124c0c4105295d3d2e65927d46e98e248d84cb6119da57e4ae31e3</td>\n",
       "      <td>038dea9341a1be887457b117ef70e8a4a87ca03163e0cda3f1e2254e2a7590d3ac</td>\n",
       "      <td>1</td>\n",
       "      <td>VeniceForever</td>\n",
       "      <td>tantundem</td>\n",
       "      <td>500000</td>\n",
       "      <td>100000</td>\n",
       "      <td>0.001000000000000000020816681711721685132943093776702880859375</td>\n",
       "      <td>0.00000</td>\n",
       "    </tr>\n",
       "    <tr>\n",
       "      <th>768</th>\n",
       "      <td>02f0c7b731ca40a285d7c12aa1c5c7c7caa4598d3d6d34904c3714cd0d47852640</td>\n",
       "      <td>033b63e4a9931dc151037acbce12f4f8968c86f5655cf102bbfa85a26bd4adc6d9</td>\n",
       "      <td>1</td>\n",
       "      <td>Henwen 🐷</td>\n",
       "      <td>Garlic🧄</td>\n",
       "      <td>15000000</td>\n",
       "      <td>100000</td>\n",
       "      <td>0</td>\n",
       "      <td>0.00000</td>\n",
       "    </tr>\n",
       "    <tr>\n",
       "      <th>800</th>\n",
       "      <td>02f49ea881d143aa97a8ab464d1fcbe8da54d2b226c87cfab40a674e656a5149bd</td>\n",
       "      <td>035e4ff418fc8b5554c5d9eea66396c227bd429a3251c8cbc711002ba215bfc226</td>\n",
       "      <td>1</td>\n",
       "      <td>sol-system</td>\n",
       "      <td>WalletOfSatoshi.com</td>\n",
       "      <td>5000000</td>\n",
       "      <td>100000</td>\n",
       "      <td>0</td>\n",
       "      <td>0.00001</td>\n",
       "    </tr>\n",
       "    <tr>\n",
       "      <th>991</th>\n",
       "      <td>033b63e4a9931dc151037acbce12f4f8968c86f5655cf102bbfa85a26bd4adc6d9</td>\n",
       "      <td>03c8e5f583585cac1de2b7503a6ccd3c12ba477cfd139cd4905be504c2f48e86bd</td>\n",
       "      <td>1</td>\n",
       "      <td>Garlic🧄</td>\n",
       "      <td>Strike</td>\n",
       "      <td>25000000</td>\n",
       "      <td>100000</td>\n",
       "      <td>0</td>\n",
       "      <td>0.00000</td>\n",
       "    </tr>\n",
       "    <tr>\n",
       "      <th>1049</th>\n",
       "      <td>035e4ff418fc8b5554c5d9eea66396c227bd429a3251c8cbc711002ba215bfc226</td>\n",
       "      <td>02f0c7b731ca40a285d7c12aa1c5c7c7caa4598d3d6d34904c3714cd0d47852640</td>\n",
       "      <td>1</td>\n",
       "      <td>WalletOfSatoshi.com</td>\n",
       "      <td>Henwen 🐷</td>\n",
       "      <td>15000000</td>\n",
       "      <td>100000</td>\n",
       "      <td>0</td>\n",
       "      <td>0.00000</td>\n",
       "    </tr>\n",
       "    <tr>\n",
       "      <th>1134</th>\n",
       "      <td>038dea9341a1be887457b117ef70e8a4a87ca03163e0cda3f1e2254e2a7590d3ac</td>\n",
       "      <td>02f49ea881d143aa97a8ab464d1fcbe8da54d2b226c87cfab40a674e656a5149bd</td>\n",
       "      <td>1</td>\n",
       "      <td>tantundem</td>\n",
       "      <td>sol-system</td>\n",
       "      <td>500000</td>\n",
       "      <td>100000</td>\n",
       "      <td>0</td>\n",
       "      <td>0.00000</td>\n",
       "    </tr>\n",
       "    <tr>\n",
       "      <th>1303</th>\n",
       "      <td>03c8e5f583585cac1de2b7503a6ccd3c12ba477cfd139cd4905be504c2f48e86bd</td>\n",
       "      <td>0202f00d5f5c91a3c79113851b162c2b75f2cbd9fb2378fb4a4ce92d5ba1e63e08</td>\n",
       "      <td>1</td>\n",
       "      <td>Strike</td>\n",
       "      <td>ShatSat412</td>\n",
       "      <td>10000000</td>\n",
       "      <td>100000</td>\n",
       "      <td>1</td>\n",
       "      <td>0.00010</td>\n",
       "    </tr>\n",
       "  </tbody>\n",
       "</table>\n",
       "</div>"
      ]
     },
     "execution_count": 20,
     "metadata": {},
     "output_type": "execute_result"
    }
   ],
   "execution_count": 20
  },
  {
   "metadata": {
    "ExecuteTime": {
     "end_time": "2025-01-18T20:29:00.087364Z",
     "start_time": "2025-01-18T20:29:00.075422Z"
    }
   },
   "cell_type": "code",
   "source": [
    "%%capture --no-stdout\n",
    "final[\"amount\"] = final[\"amount\"].astype(float)\n",
    "final[\"rate_fee\"] = final[\"rate_fee\"].astype(float)\n",
    "final[\"base_fee\"] = final[\"base_fee\"].astype(float)\n",
    "total_transaction_cost = sum(final[\"amount\"] * final[\"rate_fee\"] + final[\"base_fee\"])\n",
    "perc_cost = (total_transaction_cost * 100) / transaction_amount\n",
    "print(f\"Transacting {transaction_amount} sats costs {total_transaction_cost} ({perc_cost}% of transaction amount)\")"
   ],
   "id": "5cb9ca4869b126de",
   "outputs": [
    {
     "name": "stdout",
     "output_type": "stream",
     "text": [
      "Transacting 100000 sats costs 12.001 (0.012001% of transaction amount)\n"
     ]
    }
   ],
   "execution_count": 21
  },
  {
   "metadata": {
    "ExecuteTime": {
     "end_time": "2025-01-18T20:29:00.732180Z",
     "start_time": "2025-01-18T20:29:00.088864Z"
    }
   },
   "cell_type": "code",
   "source": [
    "\n",
    "import networkx as nx\n",
    "import matplotlib.pyplot as plt\n",
    "\n",
    "# edges list construction\n",
    "edges_df = final[[\"source-alias\", \"destination-alias\"]]\n",
    "\n",
    "G = nx.from_pandas_edgelist(edges_df, \"source-alias\", \"destination-alias\", create_using=nx.DiGraph())\n",
    "\n",
    "plt.figure(figsize=(8, 6))\n",
    "pos = nx.circular_layout(G)\n",
    "nx.draw(G, pos, with_labels=True, node_size=1000, node_color='lightblue', font_size=10, font_color='black', font_weight='bold', arrows=True)\n",
    "plt.title(\"Graph with Uniform Node Size\")\n",
    "plt.show()\n"
   ],
   "id": "8f169c0f625c78b1",
   "outputs": [
    {
     "name": "stderr",
     "output_type": "stream",
     "text": [
      "/home/filippo/repositories/LN-pathfinding/venv/lib/python3.10/site-packages/IPython/core/pylabtools.py:170: UserWarning: Glyph 128055 (\\N{PIG FACE}) missing from font(s) DejaVu Sans.\n",
      "  fig.canvas.print_figure(bytes_io, **kw)\n",
      "/home/filippo/repositories/LN-pathfinding/venv/lib/python3.10/site-packages/IPython/core/pylabtools.py:170: UserWarning: Glyph 129476 (\\N{GARLIC}) missing from font(s) DejaVu Sans.\n",
      "  fig.canvas.print_figure(bytes_io, **kw)\n"
     ]
    },
    {
     "data": {
      "text/plain": [
       "<Figure size 800x600 with 1 Axes>"
      ],
      "image/png": "[encoded data removed]"
     },
     "metadata": {},
     "output_type": "display_data"
    }
   ],
   "execution_count": 22
  },
  {
   "metadata": {
    "ExecuteTime": {
     "end_time": "2025-01-18T20:29:00.735856Z",
     "start_time": "2025-01-18T20:29:00.733425Z"
    }
   },
   "cell_type": "code",
   "source": [
    "#from collections import Counter\n",
    "#results = [tuple(i) for i in DF_channels_pos[[\"source-alias\", \"destination-alias\"]].to_numpy()]\n",
    "#unwrap = [e for i in results for e in i]\n",
    "#extremes = [j for j in unwrap if Counter(unwrap)[j] == 1]\n",
    "#def return_source(l: list):\n",
    "#    if l[0] in [i for i, j in results]:\n",
    "#        return l[0]\n",
    "#    else: \n",
    "#        return l[1]\n",
    "#sequence = []        \n",
    "#source = return_source(extremes)\n",
    "#sequence.append(source)\n",
    "#while len(sequence) <= len(results):\n",
    "#    for i,j in results:\n",
    "#        if i == sequence[-1]:\n",
    "#            sequence.append(j)\n",
    "#for i in sequence:\n",
    "#    print(\"⬇️\", i)"
   ],
   "id": "6388d7bda8ced731",
   "outputs": [],
   "execution_count": 23
  }
 ],
 "metadata": {
  "kernelspec": {
   "display_name": "Python 3",
   "language": "python",
   "name": "python3"
  },
  "language_info": {
   "codemirror_mode": {
    "name": "ipython",
    "version": 2
   },
   "file_extension": ".py",
   "mimetype": "text/x-python",
   "name": "python",
   "nbconvert_exporter": "python",
   "pygments_lexer": "ipython2",
   "version": "2.7.6"
  }
 },
 "nbformat": 4,
 "nbformat_minor": 5
}
