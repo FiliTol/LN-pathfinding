{
 "cells": [
  {
   "metadata": {
    "ExecuteTime": {
     "end_time": "2025-02-15T15:21:07.946796Z",
     "start_time": "2025-02-15T15:21:07.218019Z"
    }
   },
   "cell_type": "code",
   "source": [
    "import pandas as pd\n",
    "from cleaning import create_demand\n",
    "import pyomo.environ as pyo\n",
    "import pyomo\n",
    "import random"
   ],
   "id": "initial_id",
   "outputs": [],
   "execution_count": 1
  },
  {
   "metadata": {},
   "cell_type": "markdown",
   "source": "# Data import",
   "id": "a4b2795dc42b8269"
  },
  {
   "metadata": {
    "ExecuteTime": {
     "end_time": "2025-02-15T15:21:08.052559Z",
     "start_time": "2025-02-15T15:21:07.948802Z"
    }
   },
   "cell_type": "code",
   "source": [
    "nodes = pd.read_pickle(\"../../data/original/nodes.pkl\")\n",
    "channels = pd.read_pickle(\"../../data/original/channels.pkl\")"
   ],
   "id": "20748e4222156956",
   "outputs": [],
   "execution_count": 2
  },
  {
   "metadata": {
    "ExecuteTime": {
     "end_time": "2025-02-15T15:21:08.152149Z",
     "start_time": "2025-02-15T15:21:08.053708Z"
    }
   },
   "cell_type": "code",
   "source": [
    "channels[\"base_fee\"] = channels.loc[:, \"base_fee\"].apply(lambda x: random.uniform(0,100)) # if x==0 else x)\n",
    "channels[\"rate_fee\"] = channels.loc[:, \"rate_fee\"].apply(lambda x: random.uniform(0.001,0.1)) # if x==0 else x)"
   ],
   "id": "a4ca55f47021bb83",
   "outputs": [],
   "execution_count": 3
  },
  {
   "metadata": {},
   "cell_type": "markdown",
   "source": "## Modeling",
   "id": "7df6d25eef847cf7"
  },
  {
   "metadata": {
    "ExecuteTime": {
     "end_time": "2025-02-15T15:21:08.161956Z",
     "start_time": "2025-02-15T15:21:08.154621Z"
    }
   },
   "cell_type": "code",
   "source": "pyomo.common.timing.report_timing()",
   "id": "4a4e07a12106f0f2",
   "outputs": [
    {
     "data": {
      "text/plain": [
       "<pyomo.common.timing.report_timing at 0x7f8dcd247010>"
      ]
     },
     "execution_count": 4,
     "metadata": {},
     "output_type": "execute_result"
    }
   ],
   "execution_count": 4
  },
  {
   "metadata": {
    "ExecuteTime": {
     "end_time": "2025-02-15T15:21:08.175109Z",
     "start_time": "2025-02-15T15:21:08.163842Z"
    }
   },
   "cell_type": "code",
   "source": [
    "# Multiplication to set the same base unit for all computations\n",
    "channels[\"capacity\"] = channels[\"capacity\"] * 1000000\n",
    "channels[\"base_fee\"] = channels[\"base_fee\"] * 1000000"
   ],
   "id": "eb5330e8d98289ec",
   "outputs": [],
   "execution_count": 5
  },
  {
   "metadata": {
    "ExecuteTime": {
     "end_time": "2025-02-15T15:21:10.283831Z",
     "start_time": "2025-02-15T15:21:08.176969Z"
    }
   },
   "cell_type": "code",
   "source": [
    "model = pyo.ConcreteModel(name=\"Min cost flow problem\")\n",
    "model.NODES = pyo.Set(initialize=nodes.index)\n",
    "model.CHANNELS = pyo.Set(initialize=[(channels.loc[i, \"node1_pub\"], channels.loc[i, \"node2_pub\"]) for i in channels.index])"
   ],
   "id": "52bc701c57020ae",
   "outputs": [
    {
     "name": "stdout",
     "output_type": "stream",
     "text": [
      "           0 seconds to construct Block ConcreteModel; 1 index total\n",
      "        0.03 seconds to construct Set NODES; 1 index total\n",
      "        0.20 seconds to construct Set CHANNELS; 1 index total\n"
     ]
    }
   ],
   "execution_count": 6
  },
  {
   "metadata": {
    "ExecuteTime": {
     "end_time": "2025-02-15T15:21:10.298483Z",
     "start_time": "2025-02-15T15:21:10.285316Z"
    }
   },
   "cell_type": "code",
   "source": [
    "transaction_amount = 100000\n",
    "nodes = create_demand(nodes, transaction_amount,\n",
    "                      source=\"02b4098c3116124c0c4105295d3d2e65927d46e98e248d84cb6119da57e4ae31e3\",destination=\"0202f00d5f5c91a3c79113851b162c2b75f2cbd9fb2378fb4a4ce92d5ba1e63e08\")"
   ],
   "id": "71f0e54edb55901d",
   "outputs": [
    {
     "name": "stdout",
     "output_type": "stream",
     "text": [
      "Transaction of 100000 sats.\n",
      "Sender: VeniceForever\n",
      "Receiver: ShatSat412.\n"
     ]
    }
   ],
   "execution_count": 7
  },
  {
   "metadata": {
    "ExecuteTime": {
     "end_time": "2025-02-15T15:21:10.575740Z",
     "start_time": "2025-02-15T15:21:10.300372Z"
    }
   },
   "cell_type": "code",
   "source": [
    "model.x = pyo.Var(model.CHANNELS, domain=pyo.Binary)\n",
    "model.a = pyo.Var(model.CHANNELS, domain=pyo.NonNegativeReals, bounds=(0, max(nodes[\"demand\"])))"
   ],
   "id": "db6bf92632e748f7",
   "outputs": [
    {
     "name": "stdout",
     "output_type": "stream",
     "text": [
      "        0.12 seconds to construct Var x; 89898 indices total\n",
      "        0.14 seconds to construct Var a; 89898 indices total\n"
     ]
    }
   ],
   "execution_count": 8
  },
  {
   "metadata": {
    "ExecuteTime": {
     "end_time": "2025-02-15T15:21:10.617647Z",
     "start_time": "2025-02-15T15:21:10.577287Z"
    }
   },
   "cell_type": "code",
   "source": [
    "channels.reset_index(inplace=True)\n",
    "channels.set_index([\"node1_pub\", \"node2_pub\"], inplace=True)\n",
    "channels.sort_index(inplace=True)"
   ],
   "id": "5d69bcd9f4cf6b47",
   "outputs": [],
   "execution_count": 9
  },
  {
   "metadata": {},
   "cell_type": "markdown",
   "source": [
    "### Objective function\n",
    "\n",
    "$$\n",
    "min \\sum_{} ^{} amount_i \\times feerate_{i} + x_{i} \\times basefee_{i}\n",
    "$$"
   ],
   "id": "75fbeb57061b26ae"
  },
  {
   "metadata": {
    "ExecuteTime": {
     "end_time": "2025-02-15T15:21:17.913937Z",
     "start_time": "2025-02-15T15:21:10.621078Z"
    }
   },
   "cell_type": "code",
   "source": [
    "#def objective_function(model: pyo.ConcreteModel):\n",
    "#    return sum(model.a[i] * channels.loc[i, \"rate_fee\"] for i in model.CHANNELS) + sum(model.x[i] * channels.loc[i, \"base_fee\"] for i in model.CHANNELS)\n",
    "\n",
    "def objective_function(model: pyo.ConcreteModel):\n",
    "    return sum(model.a[i] * channels.loc[i, \"rate_fee\"] + model.x[i] * channels.loc[i, \"base_fee\"] for i in model.CHANNELS)\n",
    "\n",
    "model.totalCost = pyo.Objective(rule=objective_function(model), sense=pyo.minimize)"
   ],
   "id": "f45ec00f2444e9d1",
   "outputs": [
    {
     "name": "stdout",
     "output_type": "stream",
     "text": [
      "           0 seconds to construct Objective totalCost; 1 index total\n"
     ]
    }
   ],
   "execution_count": 10
  },
  {
   "metadata": {},
   "cell_type": "markdown",
   "source": [
    "### Constraints\n",
    "\n",
    "#### Symmetric channel flow rule\n",
    "\n",
    "This constraint enforces the symmetry between the number of channel incoming and outgoing from an intermediary node (excluding source and destination nodes)\n",
    "\n",
    "$$\n",
    "\\sum_{(i,n) \\in E} x_{i,n} = \\sum_{(n,j) \\in E} x_{n,j} \\text{ } \\forall n \\in V \\bigwedge i \\notin \\{n, s, d\\}\n",
    "$$\n",
    "\n",
    "where $s$ is the source node, with a negative demand and $d$ is the destination node, with positive demand."
   ],
   "id": "861b0daa9b9cba75"
  },
  {
   "metadata": {
    "ExecuteTime": {
     "end_time": "2025-02-15T15:21:18.401252Z",
     "start_time": "2025-02-15T15:21:17.915182Z"
    }
   },
   "cell_type": "code",
   "source": [
    "s = nodes[nodes[\"demand\"] < 0].index.values\n",
    "d = nodes[nodes[\"demand\"] > 0].index.values\n",
    "intermediaries = [(i, j) for i, j in channels.index if i != s and j != d]"
   ],
   "id": "fb28e372cf7ca6b5",
   "outputs": [],
   "execution_count": 11
  },
  {
   "metadata": {
    "ExecuteTime": {
     "end_time": "2025-02-15T15:22:13.849378Z",
     "start_time": "2025-02-15T15:21:18.402425Z"
    }
   },
   "cell_type": "code",
   "source": [
    "def number_channels_rule(model: pyo.ConcreteModel, n):\n",
    "    incoming = [model.x[(i, j)] for i, j in intermediaries if j == n]\n",
    "    outgoing = [model.x[(i, j)] for i, j in intermediaries if i == n]\n",
    "    return sum(incoming) == sum(outgoing)\n",
    "\n",
    "model.NumberChannelsConstraint = pyo.Constraint(model.NODES, rule=number_channels_rule, name=\"Number channels constraint\")"
   ],
   "id": "f030e01165abfbbd",
   "outputs": [
    {
     "name": "stdout",
     "output_type": "stream",
     "text": [
      "       55.44 seconds to construct Constraint NumberChannelsConstraint; 11984 indices total\n"
     ]
    }
   ],
   "execution_count": 12
  },
  {
   "metadata": {},
   "cell_type": "markdown",
   "source": [
    "#### Capacity constraint\n",
    "\n",
    "$$amount_{i,j} \\le capacity_{i,j} \\times x_{i,j} \\text{ } \\forall (i,j) \\in E$$"
   ],
   "id": "e5ea238f92c81afb"
  },
  {
   "metadata": {
    "ExecuteTime": {
     "end_time": "2025-02-15T15:22:19.763971Z",
     "start_time": "2025-02-15T15:22:13.851219Z"
    }
   },
   "cell_type": "code",
   "source": [
    "def capacity_constraint(model: pyo.ConcreteModel, a, b):\n",
    "    return model.a[(a, b)] <= channels.loc[(a, b), \"capacity\"] * model.x[(a, b)]\n",
    "\n",
    "model.CapacityConstraint = pyo.Constraint(model.CHANNELS, rule=capacity_constraint, name=\"Capacity constraint\")"
   ],
   "id": "7d46c6418b15675a",
   "outputs": [
    {
     "name": "stdout",
     "output_type": "stream",
     "text": [
      "        5.91 seconds to construct Constraint CapacityConstraint; 89898 indices total\n"
     ]
    }
   ],
   "execution_count": 13
  },
  {
   "metadata": {},
   "cell_type": "markdown",
   "source": [
    "#### Flow balance constraint\n",
    "\n",
    "$$\\sum_{(s,i) \\in E} amount_{s,i} - \\sum_{(i,t) \\in E} amount_{i,d} = b_i \\text{ } \\forall i \\in V$$\n",
    "\n",
    "where $s$ is the source node, $d$ is the destination node, $i$ is every intermediary node\n"
   ],
   "id": "7adcde34bbdb4878"
  },
  {
   "metadata": {
    "ExecuteTime": {
     "end_time": "2025-02-15T15:22:23.312778Z",
     "start_time": "2025-02-15T15:22:19.765507Z"
    }
   },
   "cell_type": "code",
   "source": [
    "channels.reset_index(inplace=True)\n",
    "channels.set_index(\"channel_id\", inplace=True)\n",
    "\n",
    "def flow_balance_constraint(model: pyo.ConcreteModel, n: str):\n",
    "    InFlow = sum(model.a[(channels.loc[a, \"node1_pub\"], channels.loc[a, \"node2_pub\"])] for a in nodes.loc[n, 'incoming_channels'])\n",
    "    OutFlow = sum(model.a[(channels.loc[a, \"node1_pub\"], channels.loc[a, \"node2_pub\"])] for a in nodes.loc[n, 'outgoing_channels'])\n",
    "    return  OutFlow + nodes.loc[n, \"demand\"] == InFlow\n",
    "\n",
    "model.FlowBalanceConstraint = pyo.Constraint(model.NODES, rule=flow_balance_constraint, name=\"Flow balance constrain\")\n",
    "\n",
    "channels.reset_index(inplace=True)\n",
    "channels.set_index([\"node1_pub\", \"node2_pub\"], inplace=True)\n",
    "channels.sort_index(inplace=True) "
   ],
   "id": "d2b57765c3b53fc5",
   "outputs": [
    {
     "name": "stdout",
     "output_type": "stream",
     "text": [
      "        3.49 seconds to construct Constraint FlowBalanceConstraint; 11984 indices total\n"
     ]
    }
   ],
   "execution_count": 14
  },
  {
   "metadata": {},
   "cell_type": "markdown",
   "source": "## Solving the model",
   "id": "b8bc8c88087daf77"
  },
  {
   "metadata": {
    "ExecuteTime": {
     "end_time": "2025-02-15T15:22:23.316675Z",
     "start_time": "2025-02-15T15:22:23.314089Z"
    }
   },
   "cell_type": "code",
   "source": [
    "#from pyomo.common.tempfiles import TempfileManager\n",
    "#TempfileManager.tempdir = \"/home/filippo/repositories/LN-pathfinding\""
   ],
   "id": "2dd413d5dd6de75f",
   "outputs": [],
   "execution_count": 15
  },
  {
   "metadata": {
    "ExecuteTime": {
     "end_time": "2025-02-15T15:24:22.259279Z",
     "start_time": "2025-02-15T15:22:23.318058Z"
    }
   },
   "cell_type": "code",
   "source": [
    "opt = pyo.SolverFactory('cbc')\n",
    "#opt = pyo.SolverFactory('cplex_direct')\n",
    "results = opt.solve(model, tee=True, keepfiles=True)\n",
    "\n",
    "if (results.solver.status == pyo.SolverStatus.ok) and (results.solver.termination_condition == pyo.TerminationCondition.optimal):\n",
    "    print('\\nOptimal solution found')\n",
    "elif results.solver.termination_condition == pyo.TerminationCondition.feasible:\n",
    "    print('\\nFeasible but not proven optimal solution found')\n",
    "elif results.solver.termination_condition == pyo.TerminationCondition.infeasible:\n",
    "    raise Exception(\"The model is infeasible\")\n",
    "else:\n",
    "    print('\\nSolver Status: ',  results.solver.status)\n",
    "    raise Exception(results.solver.status)\n",
    "\n",
    "print('\\nObject function value = ', model.Objective())\n"
   ],
   "id": "f88c7c0611694b3b",
   "outputs": [
    {
     "name": "stdout",
     "output_type": "stream",
     "text": [
      "           0 seconds to construct Var ONE_VAR_CONSTANT; 1 index total\n",
      "      [    2.48] Generated LP representation\n",
      "Solver log file: '/tmp/tmpo9t4h4d2.cbc.log'\n",
      "Solver solution file: '/tmp/tmpo74bn6g_.pyomo.soln'\n",
      "Solver problem files: ('/tmp/tmpo74bn6g_.pyomo.lp',)\n",
      "Welcome to the CBC MILP Solver \n",
      "Version: 2.10.8 \n",
      "Build Date: May  9 2022 \n",
      "\n",
      "command line - /usr/bin/cbc -printingOptions all -import /tmp/tmpo74bn6g_.pyomo.lp -stat=1 -solve -solu /tmp/tmpo74bn6g_.pyomo.soln (default strategy 1)\n",
      "Option for printingOptions changed from normal to all\n",
      "Presolve 95856 (-18010) rows, 167772 (-12024) columns and 478264 (-59956) elements\n",
      "Statistics for presolved model\n",
      "Original problem has 89898 integers (89898 of which binary)\n",
      "Presolved problem has 83886 integers (83886 of which binary)\n",
      "==== 0 zero objective 167772 different\n",
      "==== absolute objective values 167772 different\n",
      "==== for integers 0 zero objective 83886 different\n",
      "==== for integers absolute objective values 83886 different\n",
      "===== end objective counts\n",
      "\n",
      "\n",
      "Problem has 95856 rows, 167772 columns (167772 with objective) and 478264 elements\n",
      "There are 12006 singletons with objective \n",
      "Column breakdown:\n",
      "0 of type 0.0->inf, 83886 of type 0.0->up, 0 of type lo->inf, \n",
      "0 of type lo->up, 0 of type free, 0 of type fixed, \n",
      "0 of type -inf->0.0, 0 of type -inf->up, 83886 of type 0.0->1.0 \n",
      "Row breakdown:\n",
      "11968 of type E 0.0, 0 of type E 1.0, 0 of type E -1.0, \n",
      "2 of type E other, 0 of type G 0.0, 0 of type G 1.0, \n",
      "0 of type G other, 83886 of type L 0.0, 0 of type L 1.0, \n",
      "0 of type L other, 0 of type Range 0.0->1.0, 0 of type Range other, \n",
      "0 of type Free \n",
      "Continuous objective value is 4.41647e+09 - 5.42 seconds\n",
      "Cgl0002I 34 variables fixed\n",
      "Cgl0004I processed model has 89870 rows, 155800 columns (77900 integer (77900 of which binary)) and 466292 elements\n",
      "Cbc0038I Initial state - 0 integers unsatisfied sum - 4.44089e-16\n",
      "Cbc0038I Solution found of 4.69997e+09\n",
      "Cbc0038I Relaxing continuous gives 4.69997e+09\n",
      "Cbc0038I Before mini branch and bound, 77900 integers at bound fixed and 77896 continuous\n",
      "Cbc0038I Mini branch and bound did not improve solution (7.83 seconds)\n",
      "Cbc0038I After 7.86 seconds - Feasibility pump exiting with objective of 4.69997e+09 - took 0.18 seconds\n",
      "Cbc0012I Integer solution of 4.6999691e+09 found by feasibility pump after 0 iterations and 0 nodes (9.84 seconds)\n",
      "Cbc0001I Search completed - best objective 4699969132.883235, took 0 iterations and 0 nodes (9.89 seconds)\n",
      "Cbc0035I Maximum depth 0, 0 variables fixed on reduced cost\n",
      "Cuts at root node changed objective from 4.69997e+09 to 4.69997e+09\n",
      "Probing was tried 0 times and created 0 cuts of which 0 were active after adding rounds of cuts (0.000 seconds)\n",
      "Gomory was tried 0 times and created 0 cuts of which 0 were active after adding rounds of cuts (0.000 seconds)\n",
      "Knapsack was tried 0 times and created 0 cuts of which 0 were active after adding rounds of cuts (0.000 seconds)\n",
      "Clique was tried 0 times and created 0 cuts of which 0 were active after adding rounds of cuts (0.000 seconds)\n",
      "MixedIntegerRounding2 was tried 0 times and created 0 cuts of which 0 were active after adding rounds of cuts (0.000 seconds)\n",
      "FlowCover was tried 0 times and created 0 cuts of which 0 were active after adding rounds of cuts (0.000 seconds)\n",
      "TwoMirCuts was tried 0 times and created 0 cuts of which 0 were active after adding rounds of cuts (0.000 seconds)\n",
      "ZeroHalf was tried 0 times and created 0 cuts of which 0 were active after adding rounds of cuts (0.000 seconds)\n",
      "\n",
      "Result - Optimal solution found\n",
      "\n",
      "Objective value:                4699969132.88323498\n",
      "Enumerated nodes:               0\n",
      "Total iterations:               0\n",
      "Time (CPU seconds):             113.06\n",
      "Time (Wallclock seconds):       113.47\n",
      "\n",
      "Total time (CPU seconds):       114.57   (Wallclock seconds):       115.01\n",
      "\n",
      "\n",
      "Optimal solution found\n",
      "\n",
      "Object function value =  <pyomo.core.base.block._generic_component_decorator object at 0x7f8dc1f87ca0>\n"
     ]
    }
   ],
   "execution_count": 16
  },
  {
   "metadata": {
    "ExecuteTime": {
     "end_time": "2025-02-15T15:24:22.263563Z",
     "start_time": "2025-02-15T15:24:22.260821Z"
    }
   },
   "cell_type": "code",
   "source": [
    "#from pyomo.opt import SolverStatus, TerminationCondition\n",
    "\n",
    "print(\"Solver Status: \",  results.solver[0][\"System time\"])\n"
   ],
   "id": "8539cc0c87e2357b",
   "outputs": [
    {
     "name": "stdout",
     "output_type": "stream",
     "text": [
      "Solver Status:  114.57\n"
     ]
    }
   ],
   "execution_count": 17
  },
  {
   "metadata": {
    "ExecuteTime": {
     "end_time": "2025-02-15T15:24:22.330237Z",
     "start_time": "2025-02-15T15:24:22.264860Z"
    }
   },
   "cell_type": "code",
   "source": [
    "from decimal import Decimal\n",
    "pd.set_option('display.max_colwidth', 10000000000000000000000000000000000000000000000000000)\n",
    "DF_channels = pd.DataFrame()\n",
    "c = 0\n",
    "for index, value in model.a.extract_values().items():\n",
    "    if value > 0.1:\n",
    "        DF_channels.loc[c, \"source\"] = index[0]\n",
    "        DF_channels.loc[c, \"destination\"] = index[1]\n",
    "        try:\n",
    "            DF_channels.loc[c, \"source-alias\"] = nodes.loc[index[0], \"alias\"]\n",
    "        except KeyError:\n",
    "            print(\"Source alias not found in nodes database: placeholder inserted\")\n",
    "            DF_channels.loc[c, \"source-alias\"] = \"source-alias\"\n",
    "            pass\n",
    "        try:\n",
    "            DF_channels.loc[c, \"destination-alias\"] = nodes.loc[index[1], \"alias\"]\n",
    "        except KeyError:\n",
    "            print(\"Destination alias not found in nodes database: placeholder inserted\")\n",
    "            DF_channels.loc[c, \"destination-alias\"] = \"destination-alias\"\n",
    "            pass\n",
    "        DF_channels.loc[c, \"capacity\"] = Decimal(channels.loc[index, \"capacity\"]/1000000)\n",
    "        DF_channels.loc[c, \"amount\"] = Decimal(value/1000000)\n",
    "        DF_channels.loc[c, \"base_fee\"] = Decimal(channels.loc[(index[0], index[1]), \"base_fee\"]/1000000)\n",
    "        DF_channels.loc[c, \"rate_fee\"] = channels.loc[(index[0], index[1]), \"rate_fee\"]\n",
    "        #DF_channels.loc[c, \"used_fl\"] = channels.loc[]\n",
    "        c += 1\n",
    "\n",
    "DF_channels_pos = DF_channels[DF_channels[\"amount\"]!=0]"
   ],
   "id": "b7051d6dc41ce1a0",
   "outputs": [],
   "execution_count": 18
  },
  {
   "metadata": {
    "ExecuteTime": {
     "end_time": "2025-02-15T15:24:22.340710Z",
     "start_time": "2025-02-15T15:24:22.331305Z"
    }
   },
   "cell_type": "code",
   "source": "DF_channels[DF_channels[\"amount\"]> DF_channels[\"capacity\"]]",
   "id": "591cfe14bef33883",
   "outputs": [
    {
     "data": {
      "text/plain": [
       "Empty DataFrame\n",
       "Columns: [source, destination, source-alias, destination-alias, capacity, amount, base_fee, rate_fee]\n",
       "Index: []"
      ],
      "text/html": [
       "<div>\n",
       "<style scoped>\n",
       "    .dataframe tbody tr th:only-of-type {\n",
       "        vertical-align: middle;\n",
       "    }\n",
       "\n",
       "    .dataframe tbody tr th {\n",
       "        vertical-align: top;\n",
       "    }\n",
       "\n",
       "    .dataframe thead th {\n",
       "        text-align: right;\n",
       "    }\n",
       "</style>\n",
       "<table border=\"1\" class=\"dataframe\">\n",
       "  <thead>\n",
       "    <tr style=\"text-align: right;\">\n",
       "      <th></th>\n",
       "      <th>source</th>\n",
       "      <th>destination</th>\n",
       "      <th>source-alias</th>\n",
       "      <th>destination-alias</th>\n",
       "      <th>capacity</th>\n",
       "      <th>amount</th>\n",
       "      <th>base_fee</th>\n",
       "      <th>rate_fee</th>\n",
       "    </tr>\n",
       "  </thead>\n",
       "  <tbody>\n",
       "  </tbody>\n",
       "</table>\n",
       "</div>"
      ]
     },
     "execution_count": 19,
     "metadata": {},
     "output_type": "execute_result"
    }
   ],
   "execution_count": 19
  },
  {
   "metadata": {
    "ExecuteTime": {
     "end_time": "2025-02-15T15:24:22.391404Z",
     "start_time": "2025-02-15T15:24:22.342272Z"
    }
   },
   "cell_type": "code",
   "source": [
    "DF_fixed = pd.DataFrame()\n",
    "c = 0\n",
    "for index, value in model.x.extract_values().items():\n",
    "    if value != 0:\n",
    "        DF_fixed.loc[c, \"source\"] = index[0]\n",
    "        DF_fixed.loc[c, \"destination\"] = index[1]\n",
    "        DF_fixed.loc[c, \"used\"] = Decimal(value)\n",
    "        c += 1\n",
    "\n",
    "DF_fixed_pos = DF_fixed[DF_fixed[\"used\"]!=0]\n",
    "DF_fixed_pos"
   ],
   "id": "4150b1232fe02328",
   "outputs": [
    {
     "data": {
      "text/plain": [
       "                                                                source  \\\n",
       "0   0208d92b2d406094d794b2a6a512f585dbbdee810a870283b9c5bafc4fec8ac0aa   \n",
       "1   0217890e3aad8d35bc054f43acc00084b25229ecff0ab68debd82883ad65ee8266   \n",
       "2   0217890e3aad8d35bc054f43acc00084b25229ecff0ab68debd82883ad65ee8266   \n",
       "3   026879e2a833429e33ff5bd8a0fabdaf473ad5cab2e173ba161134aa89b0cb7ee3   \n",
       "4   0294ac3e099def03c12a37e30fe5364b1223fd60069869142ef96580c8439c2e0a   \n",
       "5   02abfbe63425b1ba4f245af72a0a85ba16cd13365704655b2abfc13e53ad338e02   \n",
       "6   02b4098c3116124c0c4105295d3d2e65927d46e98e248d84cb6119da57e4ae31e3   \n",
       "7   032070c941cb837ebcd24aab036e4331f72ed2683f436303c90f64d57beb2b2744   \n",
       "8   035ac18540bf0856be33f764d745d657cfcd5399a0f6b4baabf1ca4af36762384e   \n",
       "9   035cf526f4c01ed693bacd7434461b9dc53d65b910fb3006110d8b42a574858fb2   \n",
       "10  0367f90e2b448b48f30d4b497c76baa7aeeee68b20083805c231824f3ed2789b69   \n",
       "\n",
       "                                                           destination used  \n",
       "0   0294ac3e099def03c12a37e30fe5364b1223fd60069869142ef96580c8439c2e0a    1  \n",
       "1   0202f00d5f5c91a3c79113851b162c2b75f2cbd9fb2378fb4a4ce92d5ba1e63e08    1  \n",
       "2   037bbeab7a50dde325cdeebe480dda12512777afb370412be7b5968bc951ee25d2    1  \n",
       "3   0367f90e2b448b48f30d4b497c76baa7aeeee68b20083805c231824f3ed2789b69    1  \n",
       "4   02abfbe63425b1ba4f245af72a0a85ba16cd13365704655b2abfc13e53ad338e02    1  \n",
       "5   035ac18540bf0856be33f764d745d657cfcd5399a0f6b4baabf1ca4af36762384e    1  \n",
       "6   0208d92b2d406094d794b2a6a512f585dbbdee810a870283b9c5bafc4fec8ac0aa    1  \n",
       "7   035cf526f4c01ed693bacd7434461b9dc53d65b910fb3006110d8b42a574858fb2    1  \n",
       "8   0217890e3aad8d35bc054f43acc00084b25229ecff0ab68debd82883ad65ee8266    1  \n",
       "9   026879e2a833429e33ff5bd8a0fabdaf473ad5cab2e173ba161134aa89b0cb7ee3    1  \n",
       "10  0208d92b2d406094d794b2a6a512f585dbbdee810a870283b9c5bafc4fec8ac0aa    1  "
      ],
      "text/html": [
       "<div>\n",
       "<style scoped>\n",
       "    .dataframe tbody tr th:only-of-type {\n",
       "        vertical-align: middle;\n",
       "    }\n",
       "\n",
       "    .dataframe tbody tr th {\n",
       "        vertical-align: top;\n",
       "    }\n",
       "\n",
       "    .dataframe thead th {\n",
       "        text-align: right;\n",
       "    }\n",
       "</style>\n",
       "<table border=\"1\" class=\"dataframe\">\n",
       "  <thead>\n",
       "    <tr style=\"text-align: right;\">\n",
       "      <th></th>\n",
       "      <th>source</th>\n",
       "      <th>destination</th>\n",
       "      <th>used</th>\n",
       "    </tr>\n",
       "  </thead>\n",
       "  <tbody>\n",
       "    <tr>\n",
       "      <th>0</th>\n",
       "      <td>0208d92b2d406094d794b2a6a512f585dbbdee810a870283b9c5bafc4fec8ac0aa</td>\n",
       "      <td>0294ac3e099def03c12a37e30fe5364b1223fd60069869142ef96580c8439c2e0a</td>\n",
       "      <td>1</td>\n",
       "    </tr>\n",
       "    <tr>\n",
       "      <th>1</th>\n",
       "      <td>0217890e3aad8d35bc054f43acc00084b25229ecff0ab68debd82883ad65ee8266</td>\n",
       "      <td>0202f00d5f5c91a3c79113851b162c2b75f2cbd9fb2378fb4a4ce92d5ba1e63e08</td>\n",
       "      <td>1</td>\n",
       "    </tr>\n",
       "    <tr>\n",
       "      <th>2</th>\n",
       "      <td>0217890e3aad8d35bc054f43acc00084b25229ecff0ab68debd82883ad65ee8266</td>\n",
       "      <td>037bbeab7a50dde325cdeebe480dda12512777afb370412be7b5968bc951ee25d2</td>\n",
       "      <td>1</td>\n",
       "    </tr>\n",
       "    <tr>\n",
       "      <th>3</th>\n",
       "      <td>026879e2a833429e33ff5bd8a0fabdaf473ad5cab2e173ba161134aa89b0cb7ee3</td>\n",
       "      <td>0367f90e2b448b48f30d4b497c76baa7aeeee68b20083805c231824f3ed2789b69</td>\n",
       "      <td>1</td>\n",
       "    </tr>\n",
       "    <tr>\n",
       "      <th>4</th>\n",
       "      <td>0294ac3e099def03c12a37e30fe5364b1223fd60069869142ef96580c8439c2e0a</td>\n",
       "      <td>02abfbe63425b1ba4f245af72a0a85ba16cd13365704655b2abfc13e53ad338e02</td>\n",
       "      <td>1</td>\n",
       "    </tr>\n",
       "    <tr>\n",
       "      <th>5</th>\n",
       "      <td>02abfbe63425b1ba4f245af72a0a85ba16cd13365704655b2abfc13e53ad338e02</td>\n",
       "      <td>035ac18540bf0856be33f764d745d657cfcd5399a0f6b4baabf1ca4af36762384e</td>\n",
       "      <td>1</td>\n",
       "    </tr>\n",
       "    <tr>\n",
       "      <th>6</th>\n",
       "      <td>02b4098c3116124c0c4105295d3d2e65927d46e98e248d84cb6119da57e4ae31e3</td>\n",
       "      <td>0208d92b2d406094d794b2a6a512f585dbbdee810a870283b9c5bafc4fec8ac0aa</td>\n",
       "      <td>1</td>\n",
       "    </tr>\n",
       "    <tr>\n",
       "      <th>7</th>\n",
       "      <td>032070c941cb837ebcd24aab036e4331f72ed2683f436303c90f64d57beb2b2744</td>\n",
       "      <td>035cf526f4c01ed693bacd7434461b9dc53d65b910fb3006110d8b42a574858fb2</td>\n",
       "      <td>1</td>\n",
       "    </tr>\n",
       "    <tr>\n",
       "      <th>8</th>\n",
       "      <td>035ac18540bf0856be33f764d745d657cfcd5399a0f6b4baabf1ca4af36762384e</td>\n",
       "      <td>0217890e3aad8d35bc054f43acc00084b25229ecff0ab68debd82883ad65ee8266</td>\n",
       "      <td>1</td>\n",
       "    </tr>\n",
       "    <tr>\n",
       "      <th>9</th>\n",
       "      <td>035cf526f4c01ed693bacd7434461b9dc53d65b910fb3006110d8b42a574858fb2</td>\n",
       "      <td>026879e2a833429e33ff5bd8a0fabdaf473ad5cab2e173ba161134aa89b0cb7ee3</td>\n",
       "      <td>1</td>\n",
       "    </tr>\n",
       "    <tr>\n",
       "      <th>10</th>\n",
       "      <td>0367f90e2b448b48f30d4b497c76baa7aeeee68b20083805c231824f3ed2789b69</td>\n",
       "      <td>0208d92b2d406094d794b2a6a512f585dbbdee810a870283b9c5bafc4fec8ac0aa</td>\n",
       "      <td>1</td>\n",
       "    </tr>\n",
       "  </tbody>\n",
       "</table>\n",
       "</div>"
      ]
     },
     "execution_count": 20,
     "metadata": {},
     "output_type": "execute_result"
    }
   ],
   "execution_count": 20
  },
  {
   "metadata": {},
   "cell_type": "markdown",
   "source": "### All data about channels on path",
   "id": "1dfb4bcd7e78f159"
  },
  {
   "metadata": {
    "ExecuteTime": {
     "end_time": "2025-02-15T15:24:22.414276Z",
     "start_time": "2025-02-15T15:24:22.393372Z"
    }
   },
   "cell_type": "code",
   "source": [
    "intersection = DF_fixed_pos.merge(DF_channels_pos, on=[\"source\", \"destination\"], how=\"outer\")\n",
    "final = intersection[intersection[\"amount\"]>0]\n",
    "final"
   ],
   "id": "ab555f0c48920c85",
   "outputs": [
    {
     "data": {
      "text/plain": [
       "                                                               source  \\\n",
       "0  0208d92b2d406094d794b2a6a512f585dbbdee810a870283b9c5bafc4fec8ac0aa   \n",
       "1  0217890e3aad8d35bc054f43acc00084b25229ecff0ab68debd82883ad65ee8266   \n",
       "4  0294ac3e099def03c12a37e30fe5364b1223fd60069869142ef96580c8439c2e0a   \n",
       "5  02abfbe63425b1ba4f245af72a0a85ba16cd13365704655b2abfc13e53ad338e02   \n",
       "6  02b4098c3116124c0c4105295d3d2e65927d46e98e248d84cb6119da57e4ae31e3   \n",
       "8  035ac18540bf0856be33f764d745d657cfcd5399a0f6b4baabf1ca4af36762384e   \n",
       "\n",
       "                                                          destination used  \\\n",
       "0  0294ac3e099def03c12a37e30fe5364b1223fd60069869142ef96580c8439c2e0a    1   \n",
       "1  0202f00d5f5c91a3c79113851b162c2b75f2cbd9fb2378fb4a4ce92d5ba1e63e08    1   \n",
       "4  02abfbe63425b1ba4f245af72a0a85ba16cd13365704655b2abfc13e53ad338e02    1   \n",
       "5  035ac18540bf0856be33f764d745d657cfcd5399a0f6b4baabf1ca4af36762384e    1   \n",
       "6  0208d92b2d406094d794b2a6a512f585dbbdee810a870283b9c5bafc4fec8ac0aa    1   \n",
       "8  0217890e3aad8d35bc054f43acc00084b25229ecff0ab68debd82883ad65ee8266    1   \n",
       "\n",
       "         source-alias   destination-alias  capacity  amount  \\\n",
       "0              Eprahs                 okx  10000000  100000   \n",
       "1  1ML.com node ALPHA          ShatSat412    267599  100000   \n",
       "4                 okx              Azteco  40000000  100000   \n",
       "5              Azteco      server.capital   1000000  100000   \n",
       "6       VeniceForever              Eprahs   1500000  100000   \n",
       "8      server.capital  1ML.com node ALPHA   1000000  100000   \n",
       "\n",
       "                                             base_fee  rate_fee  \n",
       "0   40.8480268067268212917042546905577182769775390625  0.001903  \n",
       "1   97.4697830687771471502856002189218997955322265625  0.001418  \n",
       "4    63.917384867872641507346997968852519989013671875  0.001180  \n",
       "5     4.987165799864811788211227394640445709228515625  0.003728  \n",
       "6  36.88353912762988073836822877638041973114013671875  0.029657  \n",
       "8   75.2329517523552482316517853178083896636962890625  0.005799  "
      ],
      "text/html": [
       "<div>\n",
       "<style scoped>\n",
       "    .dataframe tbody tr th:only-of-type {\n",
       "        vertical-align: middle;\n",
       "    }\n",
       "\n",
       "    .dataframe tbody tr th {\n",
       "        vertical-align: top;\n",
       "    }\n",
       "\n",
       "    .dataframe thead th {\n",
       "        text-align: right;\n",
       "    }\n",
       "</style>\n",
       "<table border=\"1\" class=\"dataframe\">\n",
       "  <thead>\n",
       "    <tr style=\"text-align: right;\">\n",
       "      <th></th>\n",
       "      <th>source</th>\n",
       "      <th>destination</th>\n",
       "      <th>used</th>\n",
       "      <th>source-alias</th>\n",
       "      <th>destination-alias</th>\n",
       "      <th>capacity</th>\n",
       "      <th>amount</th>\n",
       "      <th>base_fee</th>\n",
       "      <th>rate_fee</th>\n",
       "    </tr>\n",
       "  </thead>\n",
       "  <tbody>\n",
       "    <tr>\n",
       "      <th>0</th>\n",
       "      <td>0208d92b2d406094d794b2a6a512f585dbbdee810a870283b9c5bafc4fec8ac0aa</td>\n",
       "      <td>0294ac3e099def03c12a37e30fe5364b1223fd60069869142ef96580c8439c2e0a</td>\n",
       "      <td>1</td>\n",
       "      <td>Eprahs</td>\n",
       "      <td>okx</td>\n",
       "      <td>10000000</td>\n",
       "      <td>100000</td>\n",
       "      <td>40.8480268067268212917042546905577182769775390625</td>\n",
       "      <td>0.001903</td>\n",
       "    </tr>\n",
       "    <tr>\n",
       "      <th>1</th>\n",
       "      <td>0217890e3aad8d35bc054f43acc00084b25229ecff0ab68debd82883ad65ee8266</td>\n",
       "      <td>0202f00d5f5c91a3c79113851b162c2b75f2cbd9fb2378fb4a4ce92d5ba1e63e08</td>\n",
       "      <td>1</td>\n",
       "      <td>1ML.com node ALPHA</td>\n",
       "      <td>ShatSat412</td>\n",
       "      <td>267599</td>\n",
       "      <td>100000</td>\n",
       "      <td>97.4697830687771471502856002189218997955322265625</td>\n",
       "      <td>0.001418</td>\n",
       "    </tr>\n",
       "    <tr>\n",
       "      <th>4</th>\n",
       "      <td>0294ac3e099def03c12a37e30fe5364b1223fd60069869142ef96580c8439c2e0a</td>\n",
       "      <td>02abfbe63425b1ba4f245af72a0a85ba16cd13365704655b2abfc13e53ad338e02</td>\n",
       "      <td>1</td>\n",
       "      <td>okx</td>\n",
       "      <td>Azteco</td>\n",
       "      <td>40000000</td>\n",
       "      <td>100000</td>\n",
       "      <td>63.917384867872641507346997968852519989013671875</td>\n",
       "      <td>0.001180</td>\n",
       "    </tr>\n",
       "    <tr>\n",
       "      <th>5</th>\n",
       "      <td>02abfbe63425b1ba4f245af72a0a85ba16cd13365704655b2abfc13e53ad338e02</td>\n",
       "      <td>035ac18540bf0856be33f764d745d657cfcd5399a0f6b4baabf1ca4af36762384e</td>\n",
       "      <td>1</td>\n",
       "      <td>Azteco</td>\n",
       "      <td>server.capital</td>\n",
       "      <td>1000000</td>\n",
       "      <td>100000</td>\n",
       "      <td>4.987165799864811788211227394640445709228515625</td>\n",
       "      <td>0.003728</td>\n",
       "    </tr>\n",
       "    <tr>\n",
       "      <th>6</th>\n",
       "      <td>02b4098c3116124c0c4105295d3d2e65927d46e98e248d84cb6119da57e4ae31e3</td>\n",
       "      <td>0208d92b2d406094d794b2a6a512f585dbbdee810a870283b9c5bafc4fec8ac0aa</td>\n",
       "      <td>1</td>\n",
       "      <td>VeniceForever</td>\n",
       "      <td>Eprahs</td>\n",
       "      <td>1500000</td>\n",
       "      <td>100000</td>\n",
       "      <td>36.88353912762988073836822877638041973114013671875</td>\n",
       "      <td>0.029657</td>\n",
       "    </tr>\n",
       "    <tr>\n",
       "      <th>8</th>\n",
       "      <td>035ac18540bf0856be33f764d745d657cfcd5399a0f6b4baabf1ca4af36762384e</td>\n",
       "      <td>0217890e3aad8d35bc054f43acc00084b25229ecff0ab68debd82883ad65ee8266</td>\n",
       "      <td>1</td>\n",
       "      <td>server.capital</td>\n",
       "      <td>1ML.com node ALPHA</td>\n",
       "      <td>1000000</td>\n",
       "      <td>100000</td>\n",
       "      <td>75.2329517523552482316517853178083896636962890625</td>\n",
       "      <td>0.005799</td>\n",
       "    </tr>\n",
       "  </tbody>\n",
       "</table>\n",
       "</div>"
      ]
     },
     "execution_count": 21,
     "metadata": {},
     "output_type": "execute_result"
    }
   ],
   "execution_count": 21
  },
  {
   "metadata": {
    "ExecuteTime": {
     "end_time": "2025-02-15T15:24:22.425706Z",
     "start_time": "2025-02-15T15:24:22.415617Z"
    }
   },
   "cell_type": "code",
   "source": [
    "%%capture --no-stdout\n",
    "final[\"amount\"] = final[\"amount\"].astype(float)\n",
    "final[\"rate_fee\"] = final[\"rate_fee\"].astype(float)\n",
    "final[\"base_fee\"] = final[\"base_fee\"].astype(float)\n",
    "total_transaction_cost = sum(final[\"amount\"] * final[\"rate_fee\"] + final[\"base_fee\"])\n",
    "perc_cost = (total_transaction_cost * 100) / transaction_amount\n",
    "print(f\"Transacting {transaction_amount} sats costs {total_transaction_cost} ({perc_cost}% of transaction amount)\")"
   ],
   "id": "5cb9ca4869b126de",
   "outputs": [
    {
     "name": "stdout",
     "output_type": "stream",
     "text": [
      "Transacting 100000 sats costs 4687.774311133034 (4.687774311133033% of transaction amount)\n"
     ]
    }
   ],
   "execution_count": 22
  },
  {
   "metadata": {
    "ExecuteTime": {
     "end_time": "2025-02-15T15:24:23.035262Z",
     "start_time": "2025-02-15T15:24:22.427711Z"
    }
   },
   "cell_type": "code",
   "source": [
    "\n",
    "import networkx as nx\n",
    "import matplotlib.pyplot as plt\n",
    "\n",
    "# edges list construction\n",
    "edges_df = final[[\"source-alias\", \"destination-alias\"]]\n",
    "\n",
    "G = nx.from_pandas_edgelist(edges_df, \"source-alias\", \"destination-alias\", create_using=nx.DiGraph())\n",
    "\n",
    "plt.figure(figsize=(8, 6))\n",
    "pos = nx.circular_layout(G)\n",
    "nx.draw(G, pos, with_labels=True, node_size=1000, node_color='lightblue', font_size=10, font_color='black', font_weight='bold', arrows=True)\n",
    "plt.title(\"Graph with Uniform Node Size\")\n",
    "plt.show()\n"
   ],
   "id": "8f169c0f625c78b1",
   "outputs": [
    {
     "data": {
      "text/plain": [
       "<Figure size 800x600 with 1 Axes>"
      ],
      "image/png": "[encoded data removed]"
     },
     "metadata": {},
     "output_type": "display_data"
    }
   ],
   "execution_count": 23
  },
  {
   "metadata": {
    "ExecuteTime": {
     "end_time": "2025-02-15T15:24:23.041575Z",
     "start_time": "2025-02-15T15:24:23.037361Z"
    }
   },
   "cell_type": "code",
   "source": [
    "for i in nx.strongly_connected_components(G):\n",
    "    print(i)"
   ],
   "id": "a16ef50f5f0d0245",
   "outputs": [
    {
     "name": "stdout",
     "output_type": "stream",
     "text": [
      "{'ShatSat412'}\n",
      "{'1ML.com node ALPHA'}\n",
      "{'server.capital'}\n",
      "{'Azteco'}\n",
      "{'okx'}\n",
      "{'Eprahs'}\n",
      "{'VeniceForever'}\n"
     ]
    }
   ],
   "execution_count": 24
  },
  {
   "metadata": {
    "ExecuteTime": {
     "end_time": "2025-02-15T15:24:23.061834Z",
     "start_time": "2025-02-15T15:24:23.042670Z"
    }
   },
   "cell_type": "code",
   "source": [
    "final\n",
    "final[\"amount\"] = final[\"amount\"].astype(float)\n",
    "final[\"rate_fee\"] = final[\"rate_fee\"].astype(float)\n",
    "final[\"base_fee\"] = final[\"base_fee\"].astype(float)\n",
    "total_transaction_cost = sum(final[\"amount\"] * final[\"rate_fee\"] + final[\"base_fee\"])\n",
    "perc_cost = (total_transaction_cost * 100) / transaction_amount\n",
    "print(f\"Transacting {transaction_amount} sats costs {total_transaction_cost} ({perc_cost}% of transaction amount)\")\n",
    "print(\"Solver Status: \", results.solver[0][\"System time\"])"
   ],
   "id": "42de42b9e4dcdf7b",
   "outputs": [
    {
     "name": "stdout",
     "output_type": "stream",
     "text": [
      "Transacting 100000 sats costs 4687.774311133034 (4.687774311133033% of transaction amount)\n",
      "Solver Status:  114.57\n"
     ]
    },
    {
     "name": "stderr",
     "output_type": "stream",
     "text": [
      "/tmp/ipykernel_10651/2595053910.py:2: SettingWithCopyWarning: \n",
      "A value is trying to be set on a copy of a slice from a DataFrame.\n",
      "Try using .loc[row_indexer,col_indexer] = value instead\n",
      "\n",
      "See the caveats in the documentation: https://pandas.pydata.org/pandas-docs/stable/user_guide/indexing.html#returning-a-view-versus-a-copy\n",
      "  final[\"amount\"] = final[\"amount\"].astype(float)\n",
      "/tmp/ipykernel_10651/2595053910.py:3: SettingWithCopyWarning: \n",
      "A value is trying to be set on a copy of a slice from a DataFrame.\n",
      "Try using .loc[row_indexer,col_indexer] = value instead\n",
      "\n",
      "See the caveats in the documentation: https://pandas.pydata.org/pandas-docs/stable/user_guide/indexing.html#returning-a-view-versus-a-copy\n",
      "  final[\"rate_fee\"] = final[\"rate_fee\"].astype(float)\n",
      "/tmp/ipykernel_10651/2595053910.py:4: SettingWithCopyWarning: \n",
      "A value is trying to be set on a copy of a slice from a DataFrame.\n",
      "Try using .loc[row_indexer,col_indexer] = value instead\n",
      "\n",
      "See the caveats in the documentation: https://pandas.pydata.org/pandas-docs/stable/user_guide/indexing.html#returning-a-view-versus-a-copy\n",
      "  final[\"base_fee\"] = final[\"base_fee\"].astype(float)\n"
     ]
    }
   ],
   "execution_count": 25
  },
  {
   "metadata": {
    "ExecuteTime": {
     "end_time": "2025-02-15T15:24:23.075504Z",
     "start_time": "2025-02-15T15:24:23.063750Z"
    }
   },
   "cell_type": "code",
   "source": [
    "#from collections import Counter\n",
    "#results = [tuple(i) for i in DF_channels_pos[[\"source-alias\", \"destination-alias\"]].to_numpy()]\n",
    "#unwrap = [e for i in results for e in i]\n",
    "#extremes = [j for j in unwrap if Counter(unwrap)[j] == 1]\n",
    "#def return_source(l: list):\n",
    "#    if l[0] in [i for i, j in results]:\n",
    "#        return l[0]\n",
    "#    else: \n",
    "#        return l[1]\n",
    "#sequence = []        \n",
    "#source = return_source(extremes)\n",
    "#sequence.append(source)\n",
    "#while len(sequence) <= len(results):\n",
    "#    for i,j in results:\n",
    "#        if i == sequence[-1]:\n",
    "#            sequence.append(j)\n",
    "#for i in sequence:\n",
    "#    print(\"⬇️\", i)"
   ],
   "id": "6388d7bda8ced731",
   "outputs": [],
   "execution_count": 26
  }
 ],
 "metadata": {
  "kernelspec": {
   "display_name": "Python 3",
   "language": "python",
   "name": "python3"
  },
  "language_info": {
   "codemirror_mode": {
    "name": "ipython",
    "version": 2
   },
   "file_extension": ".py",
   "mimetype": "text/x-python",
   "name": "python",
   "nbconvert_exporter": "python",
   "pygments_lexer": "ipython2",
   "version": "2.7.6"
  }
 },
 "nbformat": 4,
 "nbformat_minor": 5
}
