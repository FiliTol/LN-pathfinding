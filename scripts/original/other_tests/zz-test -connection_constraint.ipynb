{
 "cells": [
  {
   "metadata": {
    "ExecuteTime": {
     "end_time": "2025-01-16T06:13:04.344062Z",
     "start_time": "2025-01-16T06:13:03.904432Z"
    }
   },
   "cell_type": "code",
   "source": [
    "import pandas as pd\n",
    "from cleaning import create_demand\n",
    "import pyomo.environ as pyo\n",
    "import pyomo\n",
    "from pandas import DataFrame\n"
   ],
   "id": "initial_id",
   "outputs": [],
   "execution_count": 1
  },
  {
   "metadata": {},
   "cell_type": "markdown",
   "source": [
    "Lightning Network nodes can have multiple type of connections to be used.\n",
    "Specifically, every node can be an hidden node - thus leveraging privacy\n",
    "preserving communication protocols like Tor or I2P - or can use a clearnet connection,\n",
    "with a standard IPv4 or IPv6 (or both) address.\n",
    "\n",
    "In order to assign the \"connection type\" feature to each node, the following mapping\n",
    "has been implemented:\n",
    "\n",
    "- 1 if the node uses a privacy preserving protocol, eg it works as an hidden service;\n",
    "- 2 if the node is a clearned with an IPv4 or IPv6 address;\n",
    "- 3 if the node uses both connection typologies (eg both clearnet and onion)\n",
    " \n",
    "Note that the score is independent from the number of addresses of each kind.\n",
    "Thus if a node where to\n",
    "have both an IPv4 and IPv6, the score would be 2 despite the support to two clearnet protocols.\n",
    "\n",
    "The goal of this second scenario is to compute the shortest path with minimum cost between two nodes,\n",
    "considering that privacy preserving nodes are, on average, more prone to higher latency, thus\n",
    "causing payment failures and thus increasing the payment time.\n",
    "\n",
    "In order to reproduce this scenario, we assign a penalization to the usage of channels that have a\n",
    "connection type different from 3, which is the connection type associated with a wider range\n",
    "of communication protocols and thus is likely to be associated with lower latency or less connection issues.\n",
    "\n",
    "##### Alternative formulation\n",
    "\n",
    "Setup the problem considering a constraint such that the address code has to be at least 2, meaning that we avoid nodes who have an onion only connection because they are associated to higher latency."
   ],
   "id": "1d506aff74aeaf46"
  },
  {
   "metadata": {},
   "cell_type": "markdown",
   "source": "# Data import",
   "id": "a4b2795dc42b8269"
  },
  {
   "metadata": {
    "ExecuteTime": {
     "end_time": "2025-01-16T06:13:05.217611Z",
     "start_time": "2025-01-16T06:13:05.171635Z"
    }
   },
   "cell_type": "code",
   "source": [
    "nodes = pd.read_pickle(\"../../data/original/nodes.pkl\")\n",
    "channels = pd.read_pickle(\"../../data/original/channels.pkl\")"
   ],
   "id": "20748e4222156956",
   "outputs": [],
   "execution_count": 2
  },
  {
   "metadata": {
    "ExecuteTime": {
     "end_time": "2025-01-16T06:13:05.835320Z",
     "start_time": "2025-01-16T06:13:05.827861Z"
    }
   },
   "cell_type": "code",
   "source": [
    "def drop_not_mapped(df_nodes: DataFrame, df_channels: DataFrame) -> DataFrame:\n",
    "    \"\"\"\n",
    "    Drop channels that have at least one peer not appearing in the nodes dataframe.\n",
    "    :param df_nodes: nodes dataframe\n",
    "    :param df_channels: channels dataframe\n",
    "    :return: filtered channels dataframe containing only the channels\n",
    "    whose peers partecipants both appear in the nodes dataframe\n",
    "    \"\"\"\n",
    "    df_channels = df_channels[\n",
    "        df_channels.loc[:, \"node1_pub\"].isin(df_nodes.index) &\n",
    "        df_channels.loc[:, \"node2_pub\"].isin(df_nodes.index)\n",
    "        ]\n",
    "    return df_channels\n",
    "\n",
    "\n",
    "def drop_missing_addresses(df_nodes: DataFrame) -> DataFrame:\n",
    "    \"\"\"\n",
    "    Drop the nodes that have an unknown address type (which is 0).\n",
    "    :param df_nodes: nodes dataframe\n",
    "    :return: nodes dataframe without the nodes with address ==0\n",
    "    \"\"\"\n",
    "    return df_nodes.loc[df_nodes.loc[:, \"addresses\"] != 0, :]\n",
    "\n",
    "\n",
    "#channels = drop_not_mapped(nodes, channels)\n",
    "nodes = drop_missing_addresses(nodes)"
   ],
   "id": "b29a4e364a766d66",
   "outputs": [],
   "execution_count": 3
  },
  {
   "metadata": {},
   "cell_type": "markdown",
   "source": "## Modeling",
   "id": "7df6d25eef847cf7"
  },
  {
   "metadata": {
    "ExecuteTime": {
     "end_time": "2025-01-16T06:13:07.138091Z",
     "start_time": "2025-01-16T06:13:07.132500Z"
    }
   },
   "cell_type": "code",
   "source": "pyomo.common.timing.report_timing()",
   "id": "4a4e07a12106f0f2",
   "outputs": [
    {
     "data": {
      "text/plain": [
       "<pyomo.common.timing.report_timing at 0x7ff1797898a0>"
      ]
     },
     "execution_count": 4,
     "metadata": {},
     "output_type": "execute_result"
    }
   ],
   "execution_count": 4
  },
  {
   "metadata": {
    "ExecuteTime": {
     "end_time": "2025-01-16T06:13:07.967543Z",
     "start_time": "2025-01-16T06:13:07.960306Z"
    }
   },
   "cell_type": "code",
   "source": [
    "# Multiplication to set the same base unit for all computations\n",
    "channels[\"capacity\"] = channels[\"capacity\"] * 1000000\n",
    "channels[\"base_fee\"] = channels[\"base_fee\"] * 1000000"
   ],
   "id": "eb5330e8d98289ec",
   "outputs": [],
   "execution_count": 5
  },
  {
   "metadata": {
    "ExecuteTime": {
     "end_time": "2025-01-16T06:13:10.557074Z",
     "start_time": "2025-01-16T06:13:08.795125Z"
    }
   },
   "cell_type": "code",
   "source": [
    "model = pyo.ConcreteModel(name=\"Min cost flow problem\")\n",
    "model.NODES = pyo.Set(initialize=nodes.index)\n",
    "model.CHANNELS = pyo.Set(initialize=[(channels.loc[i, \"node1_pub\"], channels.loc[i, \"node2_pub\"]) for i in channels.index])"
   ],
   "id": "52bc701c57020ae",
   "outputs": [
    {
     "name": "stdout",
     "output_type": "stream",
     "text": [
      "           0 seconds to construct Block ConcreteModel; 1 index total\n",
      "        0.02 seconds to construct Set NODES; 1 index total\n",
      "        0.30 seconds to construct Set CHANNELS; 1 index total\n"
     ]
    }
   ],
   "execution_count": 6
  },
  {
   "metadata": {
    "ExecuteTime": {
     "end_time": "2025-01-16T06:13:10.910827Z",
     "start_time": "2025-01-16T06:13:10.901950Z"
    }
   },
   "cell_type": "code",
   "source": [
    "nodes = create_demand(nodes, 500000,\n",
    "                      source=\"02b4098c3116124c0c4105295d3d2e65927d46e98e248d84cb6119da57e4ae31e3\",destination=\"0202f00d5f5c91a3c79113851b162c2b75f2cbd9fb2378fb4a4ce92d5ba1e63e08\")"
   ],
   "id": "71f0e54edb55901d",
   "outputs": [
    {
     "name": "stdout",
     "output_type": "stream",
     "text": [
      "Transaction of 500000 sats.\n",
      "Sender: VeniceForever\n",
      "Receiver: ShatSat412.\n"
     ]
    }
   ],
   "execution_count": 7
  },
  {
   "metadata": {
    "ExecuteTime": {
     "end_time": "2025-01-16T06:13:12.695127Z",
     "start_time": "2025-01-16T06:13:12.457773Z"
    }
   },
   "cell_type": "code",
   "source": [
    "model.x = pyo.Var(model.CHANNELS, domain=pyo.Binary)\n",
    "model.a = pyo.Var(model.CHANNELS, domain=pyo.NonNegativeReals, bounds=(0, max(nodes[\"demand\"])))"
   ],
   "id": "db6bf92632e748f7",
   "outputs": [
    {
     "name": "stdout",
     "output_type": "stream",
     "text": [
      "        0.11 seconds to construct Var x; 89898 indices total\n",
      "        0.12 seconds to construct Var a; 89898 indices total\n"
     ]
    }
   ],
   "execution_count": 8
  },
  {
   "metadata": {
    "ExecuteTime": {
     "end_time": "2025-01-16T06:23:05.439338Z",
     "start_time": "2025-01-16T06:23:05.367708Z"
    }
   },
   "cell_type": "code",
   "source": "model.nc = pyo.Var(model.CHANNELS, domain=pyo.NonNegativeReals, bounds=(2, 3))",
   "id": "4117481b4ec5de8e",
   "outputs": [
    {
     "name": "stdout",
     "output_type": "stream",
     "text": [
      "WARNING: Implicitly replacing the Component attribute nc (type=<class\n",
      "'pyomo.core.base.var.IndexedVar'>) on block Min cost flow problem with a new\n",
      "Component (type=<class 'pyomo.core.base.var.IndexedVar'>). This is usually\n",
      "indicative of a modelling error. To avoid this warning, use\n",
      "block.del_component() and block.add_component().\n",
      "        0.07 seconds to construct Var nc; 89898 indices total\n"
     ]
    }
   ],
   "execution_count": 18
  },
  {
   "metadata": {
    "ExecuteTime": {
     "end_time": "2025-01-16T06:23:07.587572Z",
     "start_time": "2025-01-16T06:23:07.555030Z"
    }
   },
   "cell_type": "code",
   "source": [
    "channels.reset_index(inplace=True)\n",
    "channels.set_index([\"node1_pub\", \"node2_pub\"], inplace=True)\n",
    "channels.sort_index(inplace=True)"
   ],
   "id": "5d69bcd9f4cf6b47",
   "outputs": [],
   "execution_count": 19
  },
  {
   "metadata": {},
   "cell_type": "markdown",
   "source": [
    "### Objective function\n",
    "\n",
    "$$\n",
    "min \\sum_{i \\in E} ^{} amount_i \\times feerate_{i} + x_{i} \\times basefee_{i} + x_{i} \\times \\frac{1}{min(addresses_{node1_{i}}, addresses_{node2_{i}})}\n",
    "$$"
   ],
   "id": "75fbeb57061b26ae"
  },
  {
   "metadata": {},
   "cell_type": "markdown",
   "source": [
    "Note that here we need to handle also the situation in which a node has only one channel, thus\n",
    "its pubkey appears only as node1_pub (or node2_pub). Thus we need an exception handling when looking\n",
    "for the minimum between the two addresses scores.\n",
    "Note also that we consider the minimum between the two addresses scores because we want to penalize\n",
    "the lower scores. Since we are minimizing the objective function, we assign a 1/min_score as a penalization coefficient"
   ],
   "id": "b04d1477d868c1e8"
  },
  {
   "metadata": {
    "ExecuteTime": {
     "end_time": "2025-01-16T06:14:11.423739Z",
     "start_time": "2025-01-16T06:14:07.934785Z"
    }
   },
   "cell_type": "code",
   "source": [
    "# The following code adds a column to the channels dataframe which contains the min score of addresses for each channel\n",
    "channels.loc[:, \"addresses\"] = 0.0001\n",
    "for i in channels.index:\n",
    "    try:\n",
    "        channels.at[i, \"addresses\"] = min([nodes.loc[i[0], \"addresses\"], nodes.loc[i[1], \"addresses\"]])\n",
    "    except KeyError:\n",
    "        try:\n",
    "            channels.at[i, \"addresses\"] = nodes.loc[i[0], \"addresses\"]\n",
    "        except KeyError:\n",
    "            try:\n",
    "                channels.at[i, \"addresses\"] = nodes.loc[i[1], \"addresses\"]\n",
    "            except:\n",
    "                pass\n"
   ],
   "id": "2f1240e86a5e36e8",
   "outputs": [],
   "execution_count": 11
  },
  {
   "metadata": {
    "ExecuteTime": {
     "end_time": "2025-01-16T06:14:25.965885Z",
     "start_time": "2025-01-16T06:14:14.957381Z"
    }
   },
   "cell_type": "code",
   "source": [
    "def objective_function(model: pyo.ConcreteModel):\n",
    "    return sum(\n",
    "        model.a[i] * channels.loc[i, \"rate_fee\"] +\n",
    "        model.x[i] * channels.loc[i, \"base_fee\"] +\n",
    "        model.x[i] * 1/channels.loc[i, \"addresses\"]\n",
    "        for i in model.CHANNELS)\n",
    "\n",
    "#def objective_function(model: pyo.ConcreteModel):\n",
    "#    \"\"\"\n",
    "#    Note that here we need to handle also the situation in which a node has only one channel, thus\n",
    "#    its pubkey appears only as node1_pub (or node2_pub). Thus we need an exception handling when looking\n",
    "#    for the minimum between the two addresses scores.\n",
    "#    Note also that we consider the minimum between the two addresses scores because we want to penalize\n",
    "#    the lower scores. Since we are minimizing the objective function, we assign a 1/min_score as a penalization coefficient\n",
    "#    \"\"\"\n",
    "#    return sum(\n",
    "#        model.a[i] * channels.loc[i, \"rate_fee\"] +\n",
    "#        model.x[i] * channels.loc[i, \"base_fee\"] +\n",
    "#        model.x[i] * (\n",
    "#            1 / min(\n",
    "#                (nodes.loc[i[0], \"addresses\"], nodes.loc[i[1], \"addresses\"])#,\n",
    "#                #default=float('inf')\n",
    "#            )\n",
    "#            if (\n",
    "#                   i[0] in nodes.index and i[1] in nodes.index and\n",
    "#                   pd.notnull(nodes.loc[i[0], \"addresses\"]) and\n",
    "#                   pd.notnull(nodes.loc[i[1], \"addresses\"])\n",
    "#            )\n",
    "#            else\n",
    "#            (\n",
    "#                nodes.loc[i[0], \"addresses\"] if pd.notnull(nodes.loc[i[0], \"addresses\"]) else (\n",
    "#                    nodes.loc[i[1], \"addresses\"] if pd.notnull\n",
    "#                else 0.0001\n",
    "#                )\n",
    "#            )\n",
    "#        )\n",
    "#        for i in model.CHANNELS\n",
    "#    )\n",
    "\n",
    "\n",
    "model.totalCost = pyo.Objective(rule=objective_function(model), sense=pyo.minimize)"
   ],
   "id": "357b3ec1886f884a",
   "outputs": [
    {
     "name": "stdout",
     "output_type": "stream",
     "text": [
      "           0 seconds to construct Objective totalCost; 1 index total\n"
     ]
    }
   ],
   "execution_count": 12
  },
  {
   "metadata": {},
   "cell_type": "markdown",
   "source": [
    "### Constraints\n",
    "\n",
    "#### Symmetric channel flow rule\n",
    "\n",
    "This constraint enforces the symmetry between the number of channel incoming and outgoing from an intermediary node (excluding source and destination nodes)\n",
    "\n",
    "$$\n",
    "\\sum_{(i,n) \\in E} x_{i,n} = \\sum_{(n,j) \\in E} x_{n,j} \\text{ } \\forall n \\in V \\bigwedge i \\ne \\{n, s, d\\}\n",
    "$$\n",
    "\n",
    "where $s$ is the source node, with a negative demand and $d$ is the destination node, with positive demand."
   ],
   "id": "861b0daa9b9cba75"
  },
  {
   "metadata": {
    "ExecuteTime": {
     "end_time": "2025-01-16T06:14:37.729947Z",
     "start_time": "2025-01-16T06:14:37.409736Z"
    }
   },
   "cell_type": "code",
   "source": [
    "s = nodes[nodes[\"demand\"] < 0].index.values\n",
    "d = nodes[nodes[\"demand\"] > 0].index.values\n",
    "intermediaries = [(i, j) for i, j in channels.index if i != s and j != d]"
   ],
   "id": "fb28e372cf7ca6b5",
   "outputs": [],
   "execution_count": 13
  },
  {
   "metadata": {
    "ExecuteTime": {
     "end_time": "2025-01-16T06:15:28.410421Z",
     "start_time": "2025-01-16T06:14:38.596192Z"
    }
   },
   "cell_type": "code",
   "source": [
    "def number_channels_rule(model: pyo.ConcreteModel, n):\n",
    "    incoming = [model.x[(i, j)] for i, j in intermediaries if j == n]\n",
    "    outgoing = [model.x[(i, j)] for i, j in intermediaries if i == n]\n",
    "    return sum(incoming) == sum(outgoing)\n",
    "\n",
    "model.NumberChannelsConstraint = pyo.Constraint(model.NODES, rule=number_channels_rule, name=\"Number channels constraint\")"
   ],
   "id": "f030e01165abfbbd",
   "outputs": [
    {
     "name": "stdout",
     "output_type": "stream",
     "text": [
      "       49.81 seconds to construct Constraint NumberChannelsConstraint; 11312 indices total\n"
     ]
    }
   ],
   "execution_count": 14
  },
  {
   "metadata": {},
   "cell_type": "markdown",
   "source": [
    "#### Connection Constraint\n",
    "\n",
    "$$\n",
    "Connection_{i,j} \\ge connectionScore_{i,j} \\times x_{i,j} \\forall(i,j) \\in E\n",
    "$$"
   ],
   "id": "29afee5a3781417c"
  },
  {
   "metadata": {
    "ExecuteTime": {
     "end_time": "2025-01-16T06:31:07.315751Z",
     "start_time": "2025-01-16T06:31:01.484234Z"
    }
   },
   "cell_type": "code",
   "source": [
    "def capacity_constraint(model: pyo.ConcreteModel, a, b):\n",
    "    return model.nc[(a, b)] >= channels.loc[(a, b), \"addresses\"] * model.x[(a, b)]\n",
    "\n",
    "model.ConnectionConstraint = pyo.Constraint(model.CHANNELS, rule=capacity_constraint, name='Connection constraint')"
   ],
   "id": "7d9ed701d77bda02",
   "outputs": [
    {
     "name": "stdout",
     "output_type": "stream",
     "text": [
      "WARNING: Implicitly replacing the Component attribute ConnectionConstraint\n",
      "(type=<class 'pyomo.core.base.constraint.IndexedConstraint'>) on block Min\n",
      "cost flow problem with a new Component (type=<class\n",
      "'pyomo.core.base.constraint.IndexedConstraint'>). This is usually indicative\n",
      "of a modelling error. To avoid this warning, use block.del_component() and\n",
      "block.add_component().\n",
      "        5.81 seconds to construct Constraint ConnectionConstraint; 89898 indices total\n"
     ]
    }
   ],
   "execution_count": 22
  },
  {
   "metadata": {},
   "cell_type": "markdown",
   "source": [
    "#### Capacity constraint\n",
    "\n",
    "$$amount_{i,j} \\le capacity_{i,j} \\times x_{i,j} \\text{ } \\forall (i,j) \\in E$$"
   ],
   "id": "e5ea238f92c81afb"
  },
  {
   "metadata": {
    "ExecuteTime": {
     "end_time": "2025-01-16T06:23:33.650765Z",
     "start_time": "2025-01-16T06:23:28.840146Z"
    }
   },
   "cell_type": "code",
   "source": [
    "def capacity_constraint(model: pyo.ConcreteModel, a, b):\n",
    "    return model.a[(a, b)] <= channels.loc[(a, b), \"capacity\"] * model.x[(a, b)]\n",
    "\n",
    "model.CapacityConstraint = pyo.Constraint(model.CHANNELS, rule=capacity_constraint, name=\"Capacity constraint\")"
   ],
   "id": "7d46c6418b15675a",
   "outputs": [
    {
     "name": "stdout",
     "output_type": "stream",
     "text": [
      "        4.80 seconds to construct Constraint CapacityConstraint; 89898 indices total\n"
     ]
    }
   ],
   "execution_count": 21
  },
  {
   "metadata": {},
   "cell_type": "markdown",
   "source": [
    "#### Flow balance constraint\n",
    "\n",
    "$$\\sum_{(s,i) \\in E} amount_{s,i} - \\sum_{(i,t) \\in E} amount_{i,d} = b_i \\text{ } \\forall i \\in V$$\n",
    "\n",
    "where $s$ is the source node, $d$ is the destination node, $i$ is every intermediary node\n"
   ],
   "id": "7adcde34bbdb4878"
  },
  {
   "metadata": {},
   "cell_type": "code",
   "source": [
    "channels.reset_index(inplace=True)\n",
    "channels.set_index(\"channel_id\", inplace=True)\n",
    "\n",
    "def flow_balance_constraint(model: pyo.ConcreteModel, n: str):\n",
    "    InFlow = sum(model.a[(channels.loc[a, \"node1_pub\"], channels.loc[a, \"node2_pub\"])] for a in nodes.loc[n, 'incoming_channels'])\n",
    "    OutFlow = sum(model.a[(channels.loc[a, \"node1_pub\"], channels.loc[a, \"node2_pub\"])] for a in nodes.loc[n, 'outgoing_channels'])\n",
    "    return  OutFlow + nodes.loc[n, \"demand\"] == InFlow\n",
    "\n",
    "model.FlowBalanceConstraint = pyo.Constraint(model.NODES, rule=flow_balance_constraint, name=\"Flow balance constrain\")\n",
    "\n",
    "channels.reset_index(inplace=True)\n",
    "channels.set_index([\"node1_pub\", \"node2_pub\"], inplace=True)\n",
    "channels.sort_index(inplace=True) "
   ],
   "id": "d2b57765c3b53fc5",
   "outputs": [],
   "execution_count": null
  },
  {
   "metadata": {},
   "cell_type": "markdown",
   "source": [
    "#### Avoid Onion Nodes constraint\n",
    "\n",
    "$$\n",
    "\n",
    "$$"
   ],
   "id": "8b8da35ad19ecfe7"
  },
  {
   "metadata": {},
   "cell_type": "markdown",
   "source": "## Solving the model",
   "id": "b8bc8c88087daf77"
  },
  {
   "metadata": {},
   "cell_type": "code",
   "source": [
    "from pyomo.common.tempfiles import TempfileManager\n",
    "#TempfileManager.tempdir = \"/home/filippo/repositories/LN-pathfinding\""
   ],
   "id": "b7c634463823c9aa",
   "outputs": [],
   "execution_count": null
  },
  {
   "metadata": {},
   "cell_type": "code",
   "source": [
    "opt = pyo.SolverFactory('cbc')\n",
    "#opt = pyo.SolverFactory('/opt/ibm/ILOG/CPLEX_Studio_Community2212/cplex/bin/x86-64_linux/cplex')\n",
    "results = opt.solve(model, tee=True, keepfiles=True)\n",
    "\n",
    "if (results.solver.status == pyo.SolverStatus.ok) and (results.solver.termination_condition == pyo.TerminationCondition.optimal):\n",
    "    print('\\nOptimal solution found')\n",
    "elif results.solver.termination_condition == pyo.TerminationCondition.feasible:\n",
    "    print('\\nFeasible but not proven optimal solution found')\n",
    "elif results.solver.termination_condition == pyo.TerminationCondition.infeasible:\n",
    "    raise Exception(\"The model is infeasible\")\n",
    "else:\n",
    "    print('\\nSolver Status: ',  results.solver.status)\n",
    "    raise Exception(results.solver.status)\n",
    "\n",
    "print('\\nObject function value = ', model.Objective())\n"
   ],
   "id": "f88c7c0611694b3b",
   "outputs": [],
   "execution_count": null
  },
  {
   "metadata": {},
   "cell_type": "code",
   "source": [
    "from decimal import Decimal\n",
    "pd.set_option('display.max_colwidth', 10000000000000000000000000000000000000000000000000000)\n",
    "DF_channels = pd.DataFrame()\n",
    "c = 0\n",
    "for index, value in model.a.extract_values().items():\n",
    "    if value > 0.1:\n",
    "        DF_channels.loc[c, \"source\"] = index[0]\n",
    "        DF_channels.loc[c, \"destination\"] = index[1]\n",
    "        try:\n",
    "            DF_channels.loc[c, \"source-alias\"] = nodes.loc[index[0], \"alias\"]\n",
    "        except KeyError:\n",
    "            print(\"Source alias not found in nodes database: placeholder inserted\")\n",
    "            DF_channels.loc[c, \"source-alias\"] = \"source-alias\"\n",
    "            pass\n",
    "        try:\n",
    "            DF_channels.loc[c, \"destination-alias\"] = nodes.loc[index[1], \"alias\"]\n",
    "        except KeyError:\n",
    "            print(\"Destination alias not found in nodes database: placeholder inserted\")\n",
    "            DF_channels.loc[c, \"destination-alias\"] = \"destination-alias\"\n",
    "            pass\n",
    "        DF_channels.loc[c, \"capacity\"] = Decimal(channels.loc[index, \"capacity\"]/1000000)\n",
    "        DF_channels.loc[c, \"amount\"] = Decimal(value/1000000)\n",
    "        DF_channels.loc[c, \"base_fee\"] = Decimal(channels.loc[(index[0], index[1]), \"base_fee\"]/1000000)\n",
    "        DF_channels.loc[c, \"rate_fee\"] = channels.loc[(index[0], index[1]), \"rate_fee\"]\n",
    "        #DF_channels.loc[c, \"used_fl\"] = channels.loc[]\n",
    "        c += 1\n",
    "\n",
    "DF_channels_pos = DF_channels[DF_channels[\"amount\"]!=0]"
   ],
   "id": "b7051d6dc41ce1a0",
   "outputs": [],
   "execution_count": null
  },
  {
   "metadata": {},
   "cell_type": "code",
   "source": "DF_channels[DF_channels[\"amount\"]> DF_channels[\"capacity\"]]",
   "id": "591cfe14bef33883",
   "outputs": [],
   "execution_count": null
  },
  {
   "metadata": {},
   "cell_type": "code",
   "source": [
    "DF_fixed = pd.DataFrame()\n",
    "c = 0\n",
    "for index, value in model.x.extract_values().items():\n",
    "    if value != 0:\n",
    "        DF_fixed.loc[c, \"source\"] = index[0]\n",
    "        DF_fixed.loc[c, \"destination\"] = index[1]\n",
    "        DF_fixed.loc[c, \"used\"] = Decimal(value)\n",
    "        c += 1\n",
    "\n",
    "DF_fixed_pos = DF_fixed[DF_fixed[\"used\"]!=0]\n",
    "DF_fixed_pos"
   ],
   "id": "4150b1232fe02328",
   "outputs": [],
   "execution_count": null
  },
  {
   "metadata": {},
   "cell_type": "markdown",
   "source": "### All data about channels on path",
   "id": "1dfb4bcd7e78f159"
  },
  {
   "metadata": {},
   "cell_type": "code",
   "source": [
    "intersection = DF_fixed_pos.merge(DF_channels_pos, on=[\"source\", \"destination\"], how=\"outer\")\n",
    "final = intersection[intersection[\"amount\"]>0]\n",
    "intersection[intersection[\"amount\"]>0]"
   ],
   "id": "ab555f0c48920c85",
   "outputs": [],
   "execution_count": null
  },
  {
   "metadata": {},
   "cell_type": "code",
   "source": [
    "from collections import Counter\n",
    "#results = [tuple(i) for i in DF_channels_pos[[\"source-alias\", \"destination-alias\"]].to_numpy()]\n",
    "results = [tuple(i) for i in final[[\"source-alias\", \"destination-alias\"]].to_numpy()]\n",
    "unwrap = [e for i in results for e in i]\n",
    "extremes = [j for j in unwrap if Counter(unwrap)[j] == 1]\n",
    "def return_source(l: list):\n",
    "    if l[0] in [i for i, j in results]:\n",
    "        return l[0]\n",
    "    else: \n",
    "        return l[1]\n",
    "sequence = []        \n",
    "source = return_source(extremes)\n",
    "sequence.append(source)\n",
    "while len(sequence) <= len(results):\n",
    "    for i,j in results:\n",
    "        if i == sequence[-1]:\n",
    "            sequence.append(j)\n",
    "for i in sequence:\n",
    "    print(\"⬇️\", i)"
   ],
   "id": "6388d7bda8ced731",
   "outputs": [],
   "execution_count": null
  }
 ],
 "metadata": {
  "kernelspec": {
   "display_name": "Python 3",
   "language": "python",
   "name": "python3"
  },
  "language_info": {
   "codemirror_mode": {
    "name": "ipython",
    "version": 2
   },
   "file_extension": ".py",
   "mimetype": "text/x-python",
   "name": "python",
   "nbconvert_exporter": "python",
   "pygments_lexer": "ipython2",
   "version": "2.7.6"
  }
 },
 "nbformat": 4,
 "nbformat_minor": 5
}
