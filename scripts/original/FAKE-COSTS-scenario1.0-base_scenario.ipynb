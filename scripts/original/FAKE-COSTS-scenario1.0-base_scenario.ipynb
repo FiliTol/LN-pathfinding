{
 "cells": [
  {
   "metadata": {
    "ExecuteTime": {
     "end_time": "2025-01-23T20:49:18.729737Z",
     "start_time": "2025-01-23T20:49:18.260925Z"
    }
   },
   "cell_type": "code",
   "source": [
    "import pandas as pd\n",
    "from cleaning import create_demand\n",
    "import pyomo.environ as pyo\n",
    "import pyomo\n",
    "import random"
   ],
   "id": "initial_id",
   "outputs": [],
   "execution_count": 1
  },
  {
   "metadata": {},
   "cell_type": "markdown",
   "source": "# Data import",
   "id": "a4b2795dc42b8269"
  },
  {
   "metadata": {
    "ExecuteTime": {
     "end_time": "2025-01-23T20:49:18.813298Z",
     "start_time": "2025-01-23T20:49:18.731404Z"
    }
   },
   "cell_type": "code",
   "source": [
    "nodes = pd.read_pickle(\"../../data/original/nodes.pkl\")\n",
    "channels = pd.read_pickle(\"../../data/original/channels.pkl\")"
   ],
   "id": "20748e4222156956",
   "outputs": [],
   "execution_count": 2
  },
  {
   "metadata": {
    "ExecuteTime": {
     "end_time": "2025-01-23T20:49:18.855489Z",
     "start_time": "2025-01-23T20:49:18.814355Z"
    }
   },
   "cell_type": "code",
   "source": [
    "channels[\"base_fee\"] = channels.loc[:, \"base_fee\"].apply(lambda x: random.uniform(0,100) if x==0 else x)\n",
    "channels[\"rate_fee\"] = channels.loc[:, \"rate_fee\"].apply(lambda x: random.uniform(0.00001,0.01) if x==0 else x)"
   ],
   "id": "7fe6e4ec106d8762",
   "outputs": [],
   "execution_count": 3
  },
  {
   "metadata": {},
   "cell_type": "markdown",
   "source": "## Modeling",
   "id": "7df6d25eef847cf7"
  },
  {
   "metadata": {
    "ExecuteTime": {
     "end_time": "2025-01-23T20:49:18.861289Z",
     "start_time": "2025-01-23T20:49:18.856394Z"
    }
   },
   "cell_type": "code",
   "source": "pyomo.common.timing.report_timing()",
   "id": "4a4e07a12106f0f2",
   "outputs": [
    {
     "data": {
      "text/plain": [
       "<pyomo.common.timing.report_timing at 0x7fc34c1aa980>"
      ]
     },
     "execution_count": 4,
     "metadata": {},
     "output_type": "execute_result"
    }
   ],
   "execution_count": 4
  },
  {
   "metadata": {
    "ExecuteTime": {
     "end_time": "2025-01-23T20:49:18.871787Z",
     "start_time": "2025-01-23T20:49:18.862832Z"
    }
   },
   "cell_type": "code",
   "source": [
    "# Multiplication to set the same base unit for all computations\n",
    "channels[\"capacity\"] = channels[\"capacity\"] * 1000000\n",
    "channels[\"base_fee\"] = channels[\"base_fee\"] * 1000000"
   ],
   "id": "eb5330e8d98289ec",
   "outputs": [],
   "execution_count": 5
  },
  {
   "metadata": {
    "ExecuteTime": {
     "end_time": "2025-01-23T20:49:20.310423Z",
     "start_time": "2025-01-23T20:49:18.872712Z"
    }
   },
   "cell_type": "code",
   "source": [
    "model = pyo.ConcreteModel(name=\"Min cost flow problem\")\n",
    "model.NODES = pyo.Set(initialize=nodes.index)\n",
    "model.CHANNELS = pyo.Set(initialize=[(channels.loc[i, \"node1_pub\"], channels.loc[i, \"node2_pub\"]) for i in channels.index])"
   ],
   "id": "52bc701c57020ae",
   "outputs": [
    {
     "name": "stdout",
     "output_type": "stream",
     "text": [
      "           0 seconds to construct Block ConcreteModel; 1 index total\n",
      "        0.02 seconds to construct Set NODES; 1 index total\n",
      "        0.18 seconds to construct Set CHANNELS; 1 index total\n"
     ]
    }
   ],
   "execution_count": 6
  },
  {
   "metadata": {
    "ExecuteTime": {
     "end_time": "2025-01-23T20:49:20.320155Z",
     "start_time": "2025-01-23T20:49:20.311398Z"
    }
   },
   "cell_type": "code",
   "source": [
    "transaction_amount = 2000000\n",
    "nodes = create_demand(nodes, transaction_amount,\n",
    "                      source=\"02b4098c3116124c0c4105295d3d2e65927d46e98e248d84cb6119da57e4ae31e3\",destination=\"0202f00d5f5c91a3c79113851b162c2b75f2cbd9fb2378fb4a4ce92d5ba1e63e08\")"
   ],
   "id": "71f0e54edb55901d",
   "outputs": [
    {
     "name": "stdout",
     "output_type": "stream",
     "text": [
      "Transaction of 2000000 sats.\n",
      "Sender: VeniceForever\n",
      "Receiver: ShatSat412.\n"
     ]
    }
   ],
   "execution_count": 7
  },
  {
   "metadata": {
    "ExecuteTime": {
     "end_time": "2025-01-23T20:49:20.548385Z",
     "start_time": "2025-01-23T20:49:20.320904Z"
    }
   },
   "cell_type": "code",
   "source": [
    "model.x = pyo.Var(model.CHANNELS, domain=pyo.NonNegativeIntegers, bounds=(0,1))\n",
    "model.a = pyo.Var(model.CHANNELS, domain=pyo.NonNegativeReals, bounds=(0, max(nodes[\"demand\"])))"
   ],
   "id": "db6bf92632e748f7",
   "outputs": [
    {
     "name": "stdout",
     "output_type": "stream",
     "text": [
      "        0.10 seconds to construct Var x; 89898 indices total\n",
      "        0.11 seconds to construct Var a; 89898 indices total\n"
     ]
    }
   ],
   "execution_count": 8
  },
  {
   "metadata": {
    "ExecuteTime": {
     "end_time": "2025-01-23T20:49:20.577182Z",
     "start_time": "2025-01-23T20:49:20.549265Z"
    }
   },
   "cell_type": "code",
   "source": [
    "channels.reset_index(inplace=True)\n",
    "channels.set_index([\"node1_pub\", \"node2_pub\"], inplace=True)\n",
    "channels.sort_index(inplace=True)"
   ],
   "id": "5d69bcd9f4cf6b47",
   "outputs": [],
   "execution_count": 9
  },
  {
   "metadata": {},
   "cell_type": "markdown",
   "source": [
    "### Objective function\n",
    "\n",
    "$$\n",
    "min \\sum_{} ^{} amount_i \\times feerate_{i} + x_{i} \\times basefee_{i}\n",
    "$$"
   ],
   "id": "75fbeb57061b26ae"
  },
  {
   "metadata": {
    "ExecuteTime": {
     "end_time": "2025-01-23T20:49:29.729725Z",
     "start_time": "2025-01-23T20:49:20.578240Z"
    }
   },
   "cell_type": "code",
   "source": [
    "#def objective_function(model: pyo.ConcreteModel):\n",
    "#    return sum(model.a[i] * channels.loc[i, \"rate_fee\"] for i in model.CHANNELS) + sum(model.x[i] * channels.loc[i, \"base_fee\"] for i in model.CHANNELS)\n",
    "\n",
    "def objective_function(model: pyo.ConcreteModel):\n",
    "    return sum(model.a[i] * channels.loc[i, \"rate_fee\"] + model.x[i] * channels.loc[i, \"base_fee\"] for i in model.CHANNELS)\n",
    "\n",
    "model.totalCost = pyo.Objective(rule=objective_function(model), sense=pyo.minimize)"
   ],
   "id": "f45ec00f2444e9d1",
   "outputs": [
    {
     "name": "stdout",
     "output_type": "stream",
     "text": [
      "           0 seconds to construct Objective totalCost; 1 index total\n"
     ]
    }
   ],
   "execution_count": 10
  },
  {
   "metadata": {},
   "cell_type": "markdown",
   "source": "### Constraints\n",
   "id": "861b0daa9b9cba75"
  },
  {
   "metadata": {},
   "cell_type": "markdown",
   "source": [
    "#### Capacity constraint\n",
    "\n",
    "$$amount_{i,j} \\le capacity_{i,j} \\times x_{i,j} \\text{ } \\forall (i,j) \\in E$$"
   ],
   "id": "e5ea238f92c81afb"
  },
  {
   "metadata": {
    "ExecuteTime": {
     "end_time": "2025-01-23T20:49:35.625932Z",
     "start_time": "2025-01-23T20:49:29.730774Z"
    }
   },
   "cell_type": "code",
   "source": [
    "def capacity_constraint(model: pyo.ConcreteModel, a, b):\n",
    "    return model.a[(a, b)] <= channels.loc[(a, b), \"capacity\"] * model.x[(a, b)]\n",
    "\n",
    "model.CapacityConstraint = pyo.Constraint(model.CHANNELS, rule=capacity_constraint, name=\"Capacity constraint\")"
   ],
   "id": "7d46c6418b15675a",
   "outputs": [
    {
     "name": "stdout",
     "output_type": "stream",
     "text": [
      "        5.89 seconds to construct Constraint CapacityConstraint; 89898 indices total\n"
     ]
    }
   ],
   "execution_count": 11
  },
  {
   "metadata": {},
   "cell_type": "markdown",
   "source": [
    "#### Flow balance constraint\n",
    "\n",
    "$$\\sum_{(s,i) \\in E} amount_{s,i} - \\sum_{(i,t) \\in E} amount_{i,d} = b_i \\text{ } \\forall i \\in V$$\n",
    "\n",
    "where $s$ is the source node, $d$ is the destination node, $i$ is every intermediary node\n"
   ],
   "id": "7adcde34bbdb4878"
  },
  {
   "metadata": {
    "ExecuteTime": {
     "end_time": "2025-01-23T20:49:39.594546Z",
     "start_time": "2025-01-23T20:49:35.627368Z"
    }
   },
   "cell_type": "code",
   "source": [
    "channels.reset_index(inplace=True)\n",
    "channels.set_index(\"channel_id\", inplace=True)\n",
    "\n",
    "def flow_balance_constraint(model: pyo.ConcreteModel, n: str):\n",
    "    InFlow = sum(model.a[(channels.loc[a, \"node1_pub\"], channels.loc[a, \"node2_pub\"])] for a in nodes.loc[n, 'incoming_channels'])\n",
    "    OutFlow = sum(model.a[(channels.loc[a, \"node1_pub\"], channels.loc[a, \"node2_pub\"])] for a in nodes.loc[n, 'outgoing_channels'])\n",
    "    return  OutFlow + nodes.loc[n, \"demand\"] == InFlow\n",
    "\n",
    "model.FlowBalanceConstraint = pyo.Constraint(model.NODES, rule=flow_balance_constraint, name=\"Flow balance constrain\")\n",
    "\n",
    "channels.reset_index(inplace=True)\n",
    "channels.set_index([\"node1_pub\", \"node2_pub\"], inplace=True)\n",
    "channels.sort_index(inplace=True) "
   ],
   "id": "d2b57765c3b53fc5",
   "outputs": [
    {
     "name": "stdout",
     "output_type": "stream",
     "text": [
      "        3.92 seconds to construct Constraint FlowBalanceConstraint; 11984 indices total\n"
     ]
    }
   ],
   "execution_count": 12
  },
  {
   "metadata": {},
   "cell_type": "markdown",
   "source": "## Solving the model",
   "id": "b8bc8c88087daf77"
  },
  {
   "metadata": {
    "ExecuteTime": {
     "end_time": "2025-01-23T20:49:39.597941Z",
     "start_time": "2025-01-23T20:49:39.595685Z"
    }
   },
   "cell_type": "code",
   "source": [
    "#from pyomo.common.tempfiles import TempfileManager\n",
    "#TempfileManager.tempdir = \"/home/filippo/repositories/LN-pathfinding\""
   ],
   "id": "2dd413d5dd6de75f",
   "outputs": [],
   "execution_count": 13
  },
  {
   "metadata": {
    "ExecuteTime": {
     "end_time": "2025-01-23T20:55:01.011060Z",
     "start_time": "2025-01-23T20:49:39.601192Z"
    }
   },
   "cell_type": "code",
   "source": [
    "opt = pyo.SolverFactory('cbc')\n",
    "#opt = pyo.SolverFactory('cplex_direct')\n",
    "results = opt.solve(model, tee=True, keepfiles=True)\n",
    "\n",
    "if (results.solver.status == pyo.SolverStatus.ok) and (results.solver.termination_condition == pyo.TerminationCondition.optimal):\n",
    "    print('\\nOptimal solution found')\n",
    "elif results.solver.termination_condition == pyo.TerminationCondition.feasible:\n",
    "    print('\\nFeasible but not proven optimal solution found')\n",
    "elif results.solver.termination_condition == pyo.TerminationCondition.infeasible:\n",
    "    raise Exception(\"The model is infeasible\")\n",
    "else:\n",
    "    print('\\nSolver Status: ',  results.solver.status)\n",
    "    raise Exception(results.solver.status)\n",
    "\n",
    "print('\\nObject function value = ', model.Objective())\n"
   ],
   "id": "f88c7c0611694b3b",
   "outputs": [
    {
     "name": "stdout",
     "output_type": "stream",
     "text": [
      "           0 seconds to construct Var ONE_VAR_CONSTANT; 1 index total\n",
      "      [    2.81] Generated LP representation\n",
      "Solver log file: '/tmp/tmpry632nfm.cbc.log'\n",
      "Solver solution file: '/tmp/tmpz3vfwykl.pyomo.soln'\n",
      "Solver problem files: ('/tmp/tmpz3vfwykl.pyomo.lp',)\n",
      "Welcome to the CBC MILP Solver \n",
      "Version: 2.10.8 \n",
      "Build Date: May  9 2022 \n",
      "\n",
      "command line - /usr/bin/cbc -printingOptions all -import /tmp/tmpz3vfwykl.pyomo.lp -stat=1 -solve -solu /tmp/tmpz3vfwykl.pyomo.soln (default strategy 1)\n",
      "Option for printingOptions changed from normal to all\n",
      "Presolve 95884 (-5998) rows, 173818 (-5978) columns and 335144 (-23898) elements\n",
      "Statistics for presolved model\n",
      "Original problem has 89898 integers (89898 of which binary)\n",
      "Presolved problem has 89898 integers (89898 of which binary)\n",
      "==== 0 zero objective 45638 different\n",
      "==== absolute objective values 45638 different\n",
      "==== for integers 0 zero objective 35792 different\n",
      "==== for integers absolute objective values 35792 different\n",
      "===== end objective counts\n",
      "\n",
      "\n",
      "Problem has 95884 rows, 173818 columns (173818 with objective) and 335144 elements\n",
      "There are 89906 singletons with objective \n",
      "Column breakdown:\n",
      "0 of type 0.0->inf, 83920 of type 0.0->up, 0 of type lo->inf, \n",
      "0 of type lo->up, 0 of type free, 0 of type fixed, \n",
      "0 of type -inf->0.0, 0 of type -inf->up, 89898 of type 0.0->1.0 \n",
      "Row breakdown:\n",
      "5984 of type E 0.0, 0 of type E 1.0, 0 of type E -1.0, \n",
      "2 of type E other, 0 of type G 0.0, 0 of type G 1.0, \n",
      "0 of type G other, 89898 of type L 0.0, 0 of type L 1.0, \n",
      "0 of type L other, 0 of type Range 0.0->1.0, 0 of type Range other, \n",
      "0 of type Free \n",
      "Continuous objective value is 3.73177e+08 - 6.52 seconds\n",
      "Cgl0004I processed model has 83920 rows, 155868 columns (77934 integer (77934 of which binary)) and 311216 elements\n",
      "Cbc0038I Initial state - 5 integers unsatisfied sum - 1.5\n",
      "Cbc0038I Pass   1: (7.97 seconds) suminf.    1.50000 (5) obj. 3.74152e+08 iterations 32\n",
      "Cbc0038I Pass   2: (8.01 seconds) suminf.    1.50000 (5) obj. 3.74152e+08 iterations 0\n",
      "Cbc0038I Pass   3: (8.05 seconds) suminf.    1.50000 (5) obj. 3.74152e+08 iterations 0\n",
      "Cbc0038I Pass   4: (8.13 seconds) suminf.    1.50000 (5) obj. 9.3988e+09 iterations 474\n",
      "Cbc0038I Pass   5: (8.17 seconds) suminf.    1.50000 (5) obj. 9.3988e+09 iterations 0\n",
      "Cbc0038I Pass   6: (8.22 seconds) suminf.    1.50000 (5) obj. 9.3988e+09 iterations 0\n",
      "Cbc0038I Pass   7: (8.30 seconds) suminf.    1.50000 (5) obj. 1.73527e+10 iterations 489\n",
      "Cbc0038I Pass   8: (8.35 seconds) suminf.    1.50000 (5) obj. 1.73527e+10 iterations 0\n",
      "Cbc0038I Pass   9: (8.40 seconds) suminf.    1.50000 (5) obj. 1.73527e+10 iterations 0\n",
      "Cbc0038I Pass  10: (8.49 seconds) suminf.    1.50000 (5) obj. 2.41692e+10 iterations 483\n",
      "Cbc0038I Pass  11: (8.54 seconds) suminf.    1.50000 (5) obj. 2.41692e+10 iterations 0\n",
      "Cbc0038I Pass  12: (8.59 seconds) suminf.    1.50000 (5) obj. 2.41692e+10 iterations 0\n",
      "Cbc0038I Pass  13: (8.68 seconds) suminf.    1.50000 (5) obj. 6.12266e+10 iterations 467\n",
      "Cbc0038I Pass  14: (8.72 seconds) suminf.    1.50000 (5) obj. 6.12266e+10 iterations 0\n",
      "Cbc0038I Pass  15: (8.77 seconds) suminf.    1.50000 (5) obj. 6.12266e+10 iterations 0\n",
      "Cbc0038I Pass  16: (8.86 seconds) suminf.    1.50000 (5) obj. 7.86296e+10 iterations 491\n",
      "Cbc0038I Pass  17: (8.90 seconds) suminf.    1.50000 (5) obj. 7.86296e+10 iterations 0\n",
      "Cbc0038I Pass  18: (8.95 seconds) suminf.    1.50000 (5) obj. 7.86296e+10 iterations 0\n",
      "Cbc0038I Pass  19: (9.00 seconds) suminf.    1.50000 (5) obj. 7.86296e+10 iterations 0\n",
      "Cbc0038I Pass  20: (9.09 seconds) suminf.    1.50000 (5) obj. 8.53222e+10 iterations 455\n",
      "Cbc0038I Pass  21: (9.14 seconds) suminf.    1.50000 (5) obj. 8.53222e+10 iterations 0\n",
      "Cbc0038I Pass  22: (9.19 seconds) suminf.    1.50000 (5) obj. 8.53222e+10 iterations 0\n",
      "Cbc0038I Pass  23: (9.27 seconds) suminf.    1.50000 (5) obj. 1.0124e+11 iterations 471\n",
      "Cbc0038I Pass  24: (9.32 seconds) suminf.    1.50000 (5) obj. 1.0124e+11 iterations 0\n",
      "Cbc0038I Pass  25: (9.36 seconds) suminf.    1.50000 (5) obj. 1.0124e+11 iterations 0\n",
      "Cbc0038I Pass  26: (9.45 seconds) suminf.    1.50000 (5) obj. 1.16409e+11 iterations 467\n",
      "Cbc0038I Pass  27: (9.49 seconds) suminf.    1.50000 (5) obj. 1.16409e+11 iterations 0\n",
      "Cbc0038I Pass  28: (9.54 seconds) suminf.    1.50000 (5) obj. 1.16409e+11 iterations 0\n",
      "Cbc0038I Pass  29: (9.62 seconds) suminf.    1.50000 (5) obj. 1.22116e+11 iterations 480\n",
      "Cbc0038I Pass  30: (9.67 seconds) suminf.    1.50000 (5) obj. 1.22116e+11 iterations 0\n",
      "Cbc0038I Rounding solution of 4.11639e+08 is better than previous of 1e+50\n",
      "\n",
      "Cbc0038I Before mini branch and bound, 74001 integers at bound fixed and 77696 continuous\n",
      "Cbc0038I Full problem 83920 rows 155868 columns, reduced to 4 rows 5 columns\n",
      "Cbc0038I Mini branch and bound did not improve solution (9.90 seconds)\n",
      "Cbc0038I Round again with cutoff of 4.0789e+08\n",
      "Cbc0038I Reduced cost fixing fixed 5333 variables on major pass 2\n",
      "Cbc0038I Pass  30: (11.22 seconds) suminf.    1.00000 (3) obj. 3.74527e+08 iterations 4374\n",
      "Cbc0038I Pass  31: (14.60 seconds) suminf.    1.14122 (4) obj. 4.0789e+08 iterations 3695\n",
      "Cbc0038I Pass  32: (18.22 seconds) suminf.    0.75000 (2) obj. 4.0789e+08 iterations 3869\n",
      "Cbc0038I Pass  33: (27.04 seconds) suminf.    1.38717 (4) obj. 4.0789e+08 iterations 9541\n",
      "Cbc0038I Pass  34: (36.70 seconds) suminf.    1.07743 (4) obj. 4.0789e+08 iterations 8073\n",
      "Cbc0038I Pass  35: (41.63 seconds) suminf.    1.00391 (4) obj. 4.0789e+08 iterations 2660\n",
      "Cbc0038I Pass  36: (46.61 seconds) suminf.    0.75000 (2) obj. 4.0789e+08 iterations 3216\n",
      "Cbc0038I Pass  37: (50.06 seconds) suminf.    0.75000 (2) obj. 4.0789e+08 iterations 761\n",
      "Cbc0038I Pass  38: (54.89 seconds) suminf.    0.75071 (3) obj. 4.0789e+08 iterations 4605\n",
      "Cbc0038I Pass  39: (60.21 seconds) suminf.    0.96449 (3) obj. 4.0789e+08 iterations 5356\n",
      "Cbc0038I Pass  40: (63.79 seconds) suminf.    0.96449 (3) obj. 4.0789e+08 iterations 4374\n",
      "Cbc0038I Pass  41: (68.26 seconds) suminf.    1.03551 (3) obj. 4.0789e+08 iterations 4158\n",
      "Cbc0038I Pass  42: (72.96 seconds) suminf.    1.27270 (5) obj. 4.0789e+08 iterations 4717\n",
      "Cbc0038I Pass  43: (73.39 seconds) suminf.    1.27270 (5) obj. 4.0789e+08 iterations 61\n",
      "Cbc0038I Pass  44: (76.92 seconds) suminf.    1.25545 (5) obj. 4.0789e+08 iterations 3141\n",
      "Cbc0038I Pass  45: (80.66 seconds) suminf.    0.74677 (2) obj. 4.0789e+08 iterations 4017\n",
      "Cbc0038I Pass  46: (120.77 seconds) suminf.    0.98297 (2) obj. 4.0789e+08 iterations 41089\n",
      "Cbc0038I Pass  47: (127.91 seconds) suminf.    0.75000 (2) obj. 4.0789e+08 iterations 3220\n",
      "Cbc0038I Pass  48: (133.58 seconds) suminf.    0.74677 (2) obj. 4.0789e+08 iterations 1629\n",
      "Cbc0038I Pass  49: (142.02 seconds) suminf.    1.29514 (5) obj. 4.0789e+08 iterations 7081\n",
      "Cbc0038I Pass  50: (146.03 seconds) suminf.    1.29514 (5) obj. 4.0789e+08 iterations 1714\n",
      "Cbc0038I Pass  51: (150.04 seconds) suminf.    1.25056 (6) obj. 4.0789e+08 iterations 1070\n",
      "Cbc0038I Pass  52: (154.80 seconds) suminf.    1.15451 (4) obj. 4.0789e+08 iterations 2496\n",
      "Cbc0038I Pass  53: (160.70 seconds) suminf.    1.65322 (5) obj. 4.0789e+08 iterations 3900\n",
      "Cbc0038I Pass  54: (164.00 seconds) suminf.    1.65322 (5) obj. 4.0789e+08 iterations 879\n",
      "Cbc0038I Pass  55: (169.58 seconds) suminf.    1.25000 (4) obj. 4.0789e+08 iterations 3079\n",
      "Cbc0038I Pass  56: (211.13 seconds) suminf.    0.95161 (3) obj. 4.0789e+08 iterations 57434\n",
      "Cbc0038I Pass  57: (215.27 seconds) suminf.    1.00008 (5) obj. 4.0789e+08 iterations 1692\n",
      "Cbc0038I Pass  58: (220.69 seconds) suminf.    1.88313 (6) obj. 4.0789e+08 iterations 4048\n",
      "Cbc0038I Pass  59: (224.88 seconds) suminf.    1.84022 (6) obj. 4.0789e+08 iterations 2307\n",
      "Cbc0038I No solution found this major pass\n",
      "Cbc0038I Before mini branch and bound, 77478 integers at bound fixed and 46696 continuous\n",
      "Cbc0038I Full problem 83920 rows 155868 columns, reduced to 8 rows 9 columns\n",
      "Cbc0038I Mini branch and bound did not improve solution (225.17 seconds)\n",
      "Cbc0038I After 225.17 seconds - Feasibility pump exiting with objective of 4.11639e+08 - took 217.38 seconds\n",
      "Cbc0012I Integer solution of 4.1163873e+08 found by feasibility pump after 0 iterations and 0 nodes (239.20 seconds)\n",
      "Cbc0038I Full problem 83920 rows 155868 columns, reduced to 4 rows 5 columns\n",
      "Cbc0031I 4 added rows had average density of 4.5\n",
      "Cbc0013I At root node, 6 cuts changed objective from 3.7415176e+08 to 4.1163873e+08 in 1 passes\n",
      "Cbc0014I Cut generator 0 (Probing) - 0 row cuts average 0.0 elements, 1 column cuts (1 active)  in 62.543 seconds - new frequency is 1\n",
      "Cbc0014I Cut generator 1 (Gomory) - 0 row cuts average 0.0 elements, 0 column cuts (0 active)  in 0.012 seconds - new frequency is -100\n",
      "Cbc0014I Cut generator 2 (Knapsack) - 1 row cuts average 6.0 elements, 0 column cuts (0 active)  in 0.037 seconds - new frequency is 1\n",
      "Cbc0014I Cut generator 3 (Clique) - 0 row cuts average 0.0 elements, 0 column cuts (0 active)  in 0.001 seconds - new frequency is -100\n",
      "Cbc0014I Cut generator 4 (MixedIntegerRounding2) - 0 row cuts average 0.0 elements, 0 column cuts (0 active)  in 0.016 seconds - new frequency is -100\n",
      "Cbc0014I Cut generator 5 (FlowCover) - 0 row cuts average 0.0 elements, 0 column cuts (0 active)  in 0.006 seconds - new frequency is -100\n",
      "Cbc0014I Cut generator 6 (TwoMirCuts) - 5 row cuts average 2.8 elements, 0 column cuts (0 active)  in 0.022 seconds - new frequency is 1\n",
      "Cbc0001I Search completed - best objective 411638731.0168633, took 18 iterations and 0 nodes (302.25 seconds)\n",
      "Cbc0035I Maximum depth 0, 5049 variables fixed on reduced cost\n",
      "Cuts at root node changed objective from 3.74152e+08 to 4.11639e+08\n",
      "Probing was tried 1 times and created 1 cuts of which 0 were active after adding rounds of cuts (62.543 seconds)\n",
      "Gomory was tried 1 times and created 0 cuts of which 0 were active after adding rounds of cuts (0.012 seconds)\n",
      "Knapsack was tried 1 times and created 1 cuts of which 0 were active after adding rounds of cuts (0.037 seconds)\n",
      "Clique was tried 1 times and created 0 cuts of which 0 were active after adding rounds of cuts (0.001 seconds)\n",
      "MixedIntegerRounding2 was tried 1 times and created 0 cuts of which 0 were active after adding rounds of cuts (0.016 seconds)\n",
      "FlowCover was tried 1 times and created 0 cuts of which 0 were active after adding rounds of cuts (0.006 seconds)\n",
      "TwoMirCuts was tried 1 times and created 5 cuts of which 0 were active after adding rounds of cuts (0.022 seconds)\n",
      "ZeroHalf was tried 1 times and created 0 cuts of which 0 were active after adding rounds of cuts (0.000 seconds)\n",
      "\n",
      "Result - Optimal solution found\n",
      "\n",
      "Objective value:                411638731.01686335\n",
      "Enumerated nodes:               0\n",
      "Total iterations:               18\n",
      "Time (CPU seconds):             316.14\n",
      "Time (Wallclock seconds):       316.54\n",
      "\n",
      "Total time (CPU seconds):       316.85   (Wallclock seconds):       317.28\n",
      "\n",
      "\n",
      "Optimal solution found\n",
      "\n",
      "Object function value =  <pyomo.core.base.block._generic_component_decorator object at 0x7fc33d98aad0>\n"
     ]
    }
   ],
   "execution_count": 14
  },
  {
   "metadata": {
    "ExecuteTime": {
     "end_time": "2025-01-23T20:55:01.014328Z",
     "start_time": "2025-01-23T20:55:01.011941Z"
    }
   },
   "cell_type": "code",
   "source": [
    "#from pyomo.opt import SolverStatus, TerminationCondition\n",
    "\n",
    "print(\"Solver Status: \",  results.solver[0][\"System time\"])\n"
   ],
   "id": "8539cc0c87e2357b",
   "outputs": [
    {
     "name": "stdout",
     "output_type": "stream",
     "text": [
      "Solver Status:  316.85\n"
     ]
    }
   ],
   "execution_count": 15
  },
  {
   "metadata": {
    "ExecuteTime": {
     "end_time": "2025-01-23T20:55:01.062550Z",
     "start_time": "2025-01-23T20:55:01.015278Z"
    }
   },
   "cell_type": "code",
   "source": [
    "from decimal import Decimal\n",
    "pd.set_option('display.max_colwidth', 10000000000000000000000000000000000000000000000000000)\n",
    "DF_channels = pd.DataFrame()\n",
    "c = 0\n",
    "for index, value in model.a.extract_values().items():\n",
    "    if value > 0.1:\n",
    "        DF_channels.loc[c, \"source\"] = index[0]\n",
    "        DF_channels.loc[c, \"destination\"] = index[1]\n",
    "        try:\n",
    "            DF_channels.loc[c, \"source-alias\"] = nodes.loc[index[0], \"alias\"]\n",
    "        except KeyError:\n",
    "            print(\"Source alias not found in nodes database: placeholder inserted\")\n",
    "            DF_channels.loc[c, \"source-alias\"] = \"source-alias\"\n",
    "            pass\n",
    "        try:\n",
    "            DF_channels.loc[c, \"destination-alias\"] = nodes.loc[index[1], \"alias\"]\n",
    "        except KeyError:\n",
    "            print(\"Destination alias not found in nodes database: placeholder inserted\")\n",
    "            DF_channels.loc[c, \"destination-alias\"] = \"destination-alias\"\n",
    "            pass\n",
    "        DF_channels.loc[c, \"capacity\"] = Decimal(channels.loc[index, \"capacity\"]/1000000)\n",
    "        DF_channels.loc[c, \"amount\"] = Decimal(value/1000000)\n",
    "        DF_channels.loc[c, \"base_fee\"] = Decimal(channels.loc[(index[0], index[1]), \"base_fee\"]/1000000)\n",
    "        DF_channels.loc[c, \"rate_fee\"] = channels.loc[(index[0], index[1]), \"rate_fee\"]\n",
    "        #DF_channels.loc[c, \"used_fl\"] = channels.loc[]\n",
    "        c += 1\n",
    "\n",
    "DF_channels_pos = DF_channels[DF_channels[\"amount\"]!=0]"
   ],
   "id": "b7051d6dc41ce1a0",
   "outputs": [],
   "execution_count": 16
  },
  {
   "metadata": {
    "ExecuteTime": {
     "end_time": "2025-01-23T20:55:01.069355Z",
     "start_time": "2025-01-23T20:55:01.063663Z"
    }
   },
   "cell_type": "code",
   "source": "DF_channels[DF_channels[\"amount\"]> DF_channels[\"capacity\"]]",
   "id": "591cfe14bef33883",
   "outputs": [
    {
     "data": {
      "text/plain": [
       "Empty DataFrame\n",
       "Columns: [source, destination, source-alias, destination-alias, capacity, amount, base_fee, rate_fee]\n",
       "Index: []"
      ],
      "text/html": [
       "<div>\n",
       "<style scoped>\n",
       "    .dataframe tbody tr th:only-of-type {\n",
       "        vertical-align: middle;\n",
       "    }\n",
       "\n",
       "    .dataframe tbody tr th {\n",
       "        vertical-align: top;\n",
       "    }\n",
       "\n",
       "    .dataframe thead th {\n",
       "        text-align: right;\n",
       "    }\n",
       "</style>\n",
       "<table border=\"1\" class=\"dataframe\">\n",
       "  <thead>\n",
       "    <tr style=\"text-align: right;\">\n",
       "      <th></th>\n",
       "      <th>source</th>\n",
       "      <th>destination</th>\n",
       "      <th>source-alias</th>\n",
       "      <th>destination-alias</th>\n",
       "      <th>capacity</th>\n",
       "      <th>amount</th>\n",
       "      <th>base_fee</th>\n",
       "      <th>rate_fee</th>\n",
       "    </tr>\n",
       "  </thead>\n",
       "  <tbody>\n",
       "  </tbody>\n",
       "</table>\n",
       "</div>"
      ]
     },
     "execution_count": 17,
     "metadata": {},
     "output_type": "execute_result"
    }
   ],
   "execution_count": 17
  },
  {
   "metadata": {
    "ExecuteTime": {
     "end_time": "2025-01-23T20:55:01.103609Z",
     "start_time": "2025-01-23T20:55:01.070083Z"
    }
   },
   "cell_type": "code",
   "source": [
    "DF_fixed = pd.DataFrame()\n",
    "c = 0\n",
    "for index, value in model.x.extract_values().items():\n",
    "    if value != 0:\n",
    "        DF_fixed.loc[c, \"source\"] = index[0]\n",
    "        DF_fixed.loc[c, \"destination\"] = index[1]\n",
    "        DF_fixed.loc[c, \"used\"] = Decimal(value)\n",
    "        c += 1\n",
    "\n",
    "DF_fixed_pos = DF_fixed[DF_fixed[\"used\"]!=0]\n",
    "DF_fixed_pos"
   ],
   "id": "4150b1232fe02328",
   "outputs": [
    {
     "data": {
      "text/plain": [
       "                                                               source  \\\n",
       "0  026f46207fd290a33cbd86e29b3ad0a47cdd44ab9aa5267cde66483e10aa9d3180   \n",
       "1  0296f5f265b0026e705def4da129bfeeb7ffc3cd3e5c77976b408c879ced6d5197   \n",
       "2  02b4098c3116124c0c4105295d3d2e65927d46e98e248d84cb6119da57e4ae31e3   \n",
       "3  02b4098c3116124c0c4105295d3d2e65927d46e98e248d84cb6119da57e4ae31e3   \n",
       "4  0364913d18a19c671bb36dd04d6ad5be0fe8f2894314c36a9db3f03c2d414907e1   \n",
       "5  0373eab8f43b0710549ddccc19ac7824ab6aea7655f4c15f4bc93b63df5db8fa48   \n",
       "\n",
       "                                                          destination used  \n",
       "0  0296f5f265b0026e705def4da129bfeeb7ffc3cd3e5c77976b408c879ced6d5197    1  \n",
       "1  0364913d18a19c671bb36dd04d6ad5be0fe8f2894314c36a9db3f03c2d414907e1    1  \n",
       "2  026f46207fd290a33cbd86e29b3ad0a47cdd44ab9aa5267cde66483e10aa9d3180    1  \n",
       "3  0373eab8f43b0710549ddccc19ac7824ab6aea7655f4c15f4bc93b63df5db8fa48    1  \n",
       "4  0202f00d5f5c91a3c79113851b162c2b75f2cbd9fb2378fb4a4ce92d5ba1e63e08    1  \n",
       "5  0202f00d5f5c91a3c79113851b162c2b75f2cbd9fb2378fb4a4ce92d5ba1e63e08    1  "
      ],
      "text/html": [
       "<div>\n",
       "<style scoped>\n",
       "    .dataframe tbody tr th:only-of-type {\n",
       "        vertical-align: middle;\n",
       "    }\n",
       "\n",
       "    .dataframe tbody tr th {\n",
       "        vertical-align: top;\n",
       "    }\n",
       "\n",
       "    .dataframe thead th {\n",
       "        text-align: right;\n",
       "    }\n",
       "</style>\n",
       "<table border=\"1\" class=\"dataframe\">\n",
       "  <thead>\n",
       "    <tr style=\"text-align: right;\">\n",
       "      <th></th>\n",
       "      <th>source</th>\n",
       "      <th>destination</th>\n",
       "      <th>used</th>\n",
       "    </tr>\n",
       "  </thead>\n",
       "  <tbody>\n",
       "    <tr>\n",
       "      <th>0</th>\n",
       "      <td>026f46207fd290a33cbd86e29b3ad0a47cdd44ab9aa5267cde66483e10aa9d3180</td>\n",
       "      <td>0296f5f265b0026e705def4da129bfeeb7ffc3cd3e5c77976b408c879ced6d5197</td>\n",
       "      <td>1</td>\n",
       "    </tr>\n",
       "    <tr>\n",
       "      <th>1</th>\n",
       "      <td>0296f5f265b0026e705def4da129bfeeb7ffc3cd3e5c77976b408c879ced6d5197</td>\n",
       "      <td>0364913d18a19c671bb36dd04d6ad5be0fe8f2894314c36a9db3f03c2d414907e1</td>\n",
       "      <td>1</td>\n",
       "    </tr>\n",
       "    <tr>\n",
       "      <th>2</th>\n",
       "      <td>02b4098c3116124c0c4105295d3d2e65927d46e98e248d84cb6119da57e4ae31e3</td>\n",
       "      <td>026f46207fd290a33cbd86e29b3ad0a47cdd44ab9aa5267cde66483e10aa9d3180</td>\n",
       "      <td>1</td>\n",
       "    </tr>\n",
       "    <tr>\n",
       "      <th>3</th>\n",
       "      <td>02b4098c3116124c0c4105295d3d2e65927d46e98e248d84cb6119da57e4ae31e3</td>\n",
       "      <td>0373eab8f43b0710549ddccc19ac7824ab6aea7655f4c15f4bc93b63df5db8fa48</td>\n",
       "      <td>1</td>\n",
       "    </tr>\n",
       "    <tr>\n",
       "      <th>4</th>\n",
       "      <td>0364913d18a19c671bb36dd04d6ad5be0fe8f2894314c36a9db3f03c2d414907e1</td>\n",
       "      <td>0202f00d5f5c91a3c79113851b162c2b75f2cbd9fb2378fb4a4ce92d5ba1e63e08</td>\n",
       "      <td>1</td>\n",
       "    </tr>\n",
       "    <tr>\n",
       "      <th>5</th>\n",
       "      <td>0373eab8f43b0710549ddccc19ac7824ab6aea7655f4c15f4bc93b63df5db8fa48</td>\n",
       "      <td>0202f00d5f5c91a3c79113851b162c2b75f2cbd9fb2378fb4a4ce92d5ba1e63e08</td>\n",
       "      <td>1</td>\n",
       "    </tr>\n",
       "  </tbody>\n",
       "</table>\n",
       "</div>"
      ]
     },
     "execution_count": 18,
     "metadata": {},
     "output_type": "execute_result"
    }
   ],
   "execution_count": 18
  },
  {
   "metadata": {},
   "cell_type": "markdown",
   "source": "### All data about channels on path",
   "id": "1dfb4bcd7e78f159"
  },
  {
   "metadata": {
    "ExecuteTime": {
     "end_time": "2025-01-23T20:55:01.117805Z",
     "start_time": "2025-01-23T20:55:01.104571Z"
    }
   },
   "cell_type": "code",
   "source": [
    "intersection = DF_fixed_pos.merge(DF_channels_pos, on=[\"source\", \"destination\"], how=\"outer\")\n",
    "final = intersection[intersection[\"amount\"]>0]\n",
    "final"
   ],
   "id": "ab555f0c48920c85",
   "outputs": [
    {
     "data": {
      "text/plain": [
       "                                                               source  \\\n",
       "0  026f46207fd290a33cbd86e29b3ad0a47cdd44ab9aa5267cde66483e10aa9d3180   \n",
       "1  0296f5f265b0026e705def4da129bfeeb7ffc3cd3e5c77976b408c879ced6d5197   \n",
       "2  02b4098c3116124c0c4105295d3d2e65927d46e98e248d84cb6119da57e4ae31e3   \n",
       "3  02b4098c3116124c0c4105295d3d2e65927d46e98e248d84cb6119da57e4ae31e3   \n",
       "4  0364913d18a19c671bb36dd04d6ad5be0fe8f2894314c36a9db3f03c2d414907e1   \n",
       "5  0373eab8f43b0710549ddccc19ac7824ab6aea7655f4c15f4bc93b63df5db8fa48   \n",
       "\n",
       "                                                          destination used  \\\n",
       "0  0296f5f265b0026e705def4da129bfeeb7ffc3cd3e5c77976b408c879ced6d5197    1   \n",
       "1  0364913d18a19c671bb36dd04d6ad5be0fe8f2894314c36a9db3f03c2d414907e1    1   \n",
       "2  026f46207fd290a33cbd86e29b3ad0a47cdd44ab9aa5267cde66483e10aa9d3180    1   \n",
       "3  0373eab8f43b0710549ddccc19ac7824ab6aea7655f4c15f4bc93b63df5db8fa48    1   \n",
       "4  0202f00d5f5c91a3c79113851b162c2b75f2cbd9fb2378fb4a4ce92d5ba1e63e08    1   \n",
       "5  0202f00d5f5c91a3c79113851b162c2b75f2cbd9fb2378fb4a4ce92d5ba1e63e08    1   \n",
       "\n",
       "     source-alias destination-alias capacity   amount  \\\n",
       "0    Authenticity    Business Cloud  2000000  1500000   \n",
       "1  Business Cloud       LQwD-Canada  4000000  1500000   \n",
       "2   VeniceForever      Authenticity  1500000  1500000   \n",
       "3   VeniceForever         HanzoNode  1000000   500000   \n",
       "4     LQwD-Canada        ShatSat412  5000000  1500000   \n",
       "5       HanzoNode        ShatSat412  5000000   500000   \n",
       "\n",
       "                                           base_fee  rate_fee  \n",
       "0                                               0.5  0.000001  \n",
       "1                                                 1  0.000001  \n",
       "2   95.41479777706757658961578272283077239990234375  0.000010  \n",
       "3  72.223933239795798044724506326019763946533203125  0.000045  \n",
       "4                                                 1  0.000100  \n",
       "5                                                 1  0.000100  "
      ],
      "text/html": [
       "<div>\n",
       "<style scoped>\n",
       "    .dataframe tbody tr th:only-of-type {\n",
       "        vertical-align: middle;\n",
       "    }\n",
       "\n",
       "    .dataframe tbody tr th {\n",
       "        vertical-align: top;\n",
       "    }\n",
       "\n",
       "    .dataframe thead th {\n",
       "        text-align: right;\n",
       "    }\n",
       "</style>\n",
       "<table border=\"1\" class=\"dataframe\">\n",
       "  <thead>\n",
       "    <tr style=\"text-align: right;\">\n",
       "      <th></th>\n",
       "      <th>source</th>\n",
       "      <th>destination</th>\n",
       "      <th>used</th>\n",
       "      <th>source-alias</th>\n",
       "      <th>destination-alias</th>\n",
       "      <th>capacity</th>\n",
       "      <th>amount</th>\n",
       "      <th>base_fee</th>\n",
       "      <th>rate_fee</th>\n",
       "    </tr>\n",
       "  </thead>\n",
       "  <tbody>\n",
       "    <tr>\n",
       "      <th>0</th>\n",
       "      <td>026f46207fd290a33cbd86e29b3ad0a47cdd44ab9aa5267cde66483e10aa9d3180</td>\n",
       "      <td>0296f5f265b0026e705def4da129bfeeb7ffc3cd3e5c77976b408c879ced6d5197</td>\n",
       "      <td>1</td>\n",
       "      <td>Authenticity</td>\n",
       "      <td>Business Cloud</td>\n",
       "      <td>2000000</td>\n",
       "      <td>1500000</td>\n",
       "      <td>0.5</td>\n",
       "      <td>0.000001</td>\n",
       "    </tr>\n",
       "    <tr>\n",
       "      <th>1</th>\n",
       "      <td>0296f5f265b0026e705def4da129bfeeb7ffc3cd3e5c77976b408c879ced6d5197</td>\n",
       "      <td>0364913d18a19c671bb36dd04d6ad5be0fe8f2894314c36a9db3f03c2d414907e1</td>\n",
       "      <td>1</td>\n",
       "      <td>Business Cloud</td>\n",
       "      <td>LQwD-Canada</td>\n",
       "      <td>4000000</td>\n",
       "      <td>1500000</td>\n",
       "      <td>1</td>\n",
       "      <td>0.000001</td>\n",
       "    </tr>\n",
       "    <tr>\n",
       "      <th>2</th>\n",
       "      <td>02b4098c3116124c0c4105295d3d2e65927d46e98e248d84cb6119da57e4ae31e3</td>\n",
       "      <td>026f46207fd290a33cbd86e29b3ad0a47cdd44ab9aa5267cde66483e10aa9d3180</td>\n",
       "      <td>1</td>\n",
       "      <td>VeniceForever</td>\n",
       "      <td>Authenticity</td>\n",
       "      <td>1500000</td>\n",
       "      <td>1500000</td>\n",
       "      <td>95.41479777706757658961578272283077239990234375</td>\n",
       "      <td>0.000010</td>\n",
       "    </tr>\n",
       "    <tr>\n",
       "      <th>3</th>\n",
       "      <td>02b4098c3116124c0c4105295d3d2e65927d46e98e248d84cb6119da57e4ae31e3</td>\n",
       "      <td>0373eab8f43b0710549ddccc19ac7824ab6aea7655f4c15f4bc93b63df5db8fa48</td>\n",
       "      <td>1</td>\n",
       "      <td>VeniceForever</td>\n",
       "      <td>HanzoNode</td>\n",
       "      <td>1000000</td>\n",
       "      <td>500000</td>\n",
       "      <td>72.223933239795798044724506326019763946533203125</td>\n",
       "      <td>0.000045</td>\n",
       "    </tr>\n",
       "    <tr>\n",
       "      <th>4</th>\n",
       "      <td>0364913d18a19c671bb36dd04d6ad5be0fe8f2894314c36a9db3f03c2d414907e1</td>\n",
       "      <td>0202f00d5f5c91a3c79113851b162c2b75f2cbd9fb2378fb4a4ce92d5ba1e63e08</td>\n",
       "      <td>1</td>\n",
       "      <td>LQwD-Canada</td>\n",
       "      <td>ShatSat412</td>\n",
       "      <td>5000000</td>\n",
       "      <td>1500000</td>\n",
       "      <td>1</td>\n",
       "      <td>0.000100</td>\n",
       "    </tr>\n",
       "    <tr>\n",
       "      <th>5</th>\n",
       "      <td>0373eab8f43b0710549ddccc19ac7824ab6aea7655f4c15f4bc93b63df5db8fa48</td>\n",
       "      <td>0202f00d5f5c91a3c79113851b162c2b75f2cbd9fb2378fb4a4ce92d5ba1e63e08</td>\n",
       "      <td>1</td>\n",
       "      <td>HanzoNode</td>\n",
       "      <td>ShatSat412</td>\n",
       "      <td>5000000</td>\n",
       "      <td>500000</td>\n",
       "      <td>1</td>\n",
       "      <td>0.000100</td>\n",
       "    </tr>\n",
       "  </tbody>\n",
       "</table>\n",
       "</div>"
      ]
     },
     "execution_count": 19,
     "metadata": {},
     "output_type": "execute_result"
    }
   ],
   "execution_count": 19
  },
  {
   "metadata": {
    "ExecuteTime": {
     "end_time": "2025-01-23T20:55:01.128039Z",
     "start_time": "2025-01-23T20:55:01.118626Z"
    }
   },
   "cell_type": "code",
   "source": [
    "%%capture --no-stdout\n",
    "final[\"amount\"] = final[\"amount\"].astype(float)\n",
    "final[\"rate_fee\"] = final[\"rate_fee\"].astype(float)\n",
    "final[\"base_fee\"] = final[\"base_fee\"].astype(float)\n",
    "total_transaction_cost = sum(final[\"amount\"] * final[\"rate_fee\"] + final[\"base_fee\"])\n",
    "perc_cost = (total_transaction_cost * 100) / transaction_amount\n",
    "print(f\"Transacting {transaction_amount} sats costs {total_transaction_cost} ({perc_cost}% of transaction amount)\")"
   ],
   "id": "5cb9ca4869b126de",
   "outputs": [
    {
     "name": "stdout",
     "output_type": "stream",
     "text": [
      "Transacting 2000000 sats costs 411.6387310168634 (0.02058193655084317% of transaction amount)\n"
     ]
    }
   ],
   "execution_count": 20
  },
  {
   "metadata": {
    "ExecuteTime": {
     "end_time": "2025-01-23T20:55:01.993479Z",
     "start_time": "2025-01-23T20:55:01.128793Z"
    }
   },
   "cell_type": "code",
   "source": [
    "import networkx as nx\n",
    "import matplotlib.pyplot as plt\n",
    "\n",
    "# edges list construction\n",
    "edges_df = final[[\"source-alias\", \"destination-alias\"]]\n",
    "\n",
    "G = nx.from_pandas_edgelist(edges_df, \"source-alias\", \"destination-alias\", create_using=nx.DiGraph())\n",
    "\n",
    "#plt.figure(figsize=(8, 6))\n",
    "#pos = nx.spring_layout(G)\n",
    "#nx.draw(G, pos, with_labels=True, node_size=2000, node_color='lightblue', font_size=10, font_color='black', font_weight='bold', arrows=True)\n",
    "#plt.title(\"Graph from DataFrame of Edges\")\n",
    "#plt.show()\n",
    "\n",
    "\n",
    "plt.figure(figsize=(8, 6))\n",
    "pos = nx.spring_layout(G)  # positions for all nodes\n",
    "nx.draw(G, pos, with_labels=True, node_size=1000, node_color='lightblue', font_size=10, font_color='black', font_weight='bold', arrows=True)\n",
    "plt.title(\"Graph with Uniform Node Size\")\n",
    "plt.show()"
   ],
   "id": "d7e96330eab65421",
   "outputs": [
    {
     "data": {
      "text/plain": [
       "<Figure size 800x600 with 1 Axes>"
      ],
      "image/png": "[encoded data removed]"
     },
     "metadata": {},
     "output_type": "display_data"
    }
   ],
   "execution_count": 21
  },
  {
   "metadata": {
    "ExecuteTime": {
     "end_time": "2025-01-23T20:55:01.999258Z",
     "start_time": "2025-01-23T20:55:01.994796Z"
    }
   },
   "cell_type": "code",
   "source": [
    "for i in nx.strongly_connected_components(G):\n",
    "    print(i)"
   ],
   "id": "ba678151d648b088",
   "outputs": [
    {
     "name": "stdout",
     "output_type": "stream",
     "text": [
      "{'ShatSat412'}\n",
      "{'LQwD-Canada'}\n",
      "{'Business Cloud'}\n",
      "{'Authenticity'}\n",
      "{'HanzoNode'}\n",
      "{'VeniceForever'}\n"
     ]
    }
   ],
   "execution_count": 22
  },
  {
   "metadata": {
    "ExecuteTime": {
     "end_time": "2025-01-23T20:55:02.018772Z",
     "start_time": "2025-01-23T20:55:02.000607Z"
    }
   },
   "cell_type": "code",
   "source": [
    "final[\"amount\"] = final[\"amount\"].astype(float)\n",
    "final[\"rate_fee\"] = final[\"rate_fee\"].astype(float)\n",
    "final[\"base_fee\"] = final[\"base_fee\"].astype(float)\n",
    "total_transaction_cost = sum(final[\"amount\"] * final[\"rate_fee\"] + final[\"base_fee\"])\n",
    "perc_cost = (total_transaction_cost * 100) / transaction_amount\n",
    "print(f\"Transacting {transaction_amount} sats costs {total_transaction_cost} ({perc_cost}% of transaction amount)\")\n",
    "print(\"Solver Status: \", results.solver[0][\"System time\"])"
   ],
   "id": "85a5678d800efad8",
   "outputs": [
    {
     "name": "stdout",
     "output_type": "stream",
     "text": [
      "Transacting 2000000 sats costs 411.6387310168634 (0.02058193655084317% of transaction amount)\n",
      "Solver Status:  316.85\n"
     ]
    }
   ],
   "execution_count": 23
  },
  {
   "metadata": {
    "ExecuteTime": {
     "end_time": "2025-01-23T20:55:02.032058Z",
     "start_time": "2025-01-23T20:55:02.020065Z"
    }
   },
   "cell_type": "code",
   "source": [
    "#from collections import Counter\n",
    "#results = [tuple(i) for i in DF_channels_pos[[\"source-alias\", \"destination-alias\"]].to_numpy()]\n",
    "#unwrap = [e for i in results for e in i]\n",
    "#extremes = [j for j in unwrap if Counter(unwrap)[j] == 1]\n",
    "#def return_source(l: list):\n",
    "#    if l[0] in [i for i, j in results]:\n",
    "#        return l[0]\n",
    "#    else: \n",
    "#        return l[1]\n",
    "#sequence = []        \n",
    "#source = return_source(extremes)\n",
    "#sequence.append(source)\n",
    "#while len(sequence) <= len(results):\n",
    "#    for i,j in results:\n",
    "#        if i == sequence[-1]:\n",
    "#            sequence.append(j)\n",
    "#for i in sequence:\n",
    "#    print(\"⬇️\", i)"
   ],
   "id": "6388d7bda8ced731",
   "outputs": [],
   "execution_count": 24
  }
 ],
 "metadata": {
  "kernelspec": {
   "display_name": "Python 3",
   "language": "python",
   "name": "python3"
  },
  "language_info": {
   "codemirror_mode": {
    "name": "ipython",
    "version": 2
   },
   "file_extension": ".py",
   "mimetype": "text/x-python",
   "name": "python",
   "nbconvert_exporter": "python",
   "pygments_lexer": "ipython2",
   "version": "2.7.6"
  }
 },
 "nbformat": 4,
 "nbformat_minor": 5
}
