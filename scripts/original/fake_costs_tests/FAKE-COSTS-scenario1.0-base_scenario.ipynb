{
 "cells": [
  {
   "metadata": {
    "ExecuteTime": {
     "end_time": "2025-02-06T21:29:25.936299Z",
     "start_time": "2025-02-06T21:29:25.543691Z"
    }
   },
   "cell_type": "code",
   "source": [
    "import pandas as pd\n",
    "from cleaning import create_demand\n",
    "import pyomo.environ as pyo\n",
    "import pyomo\n",
    "import random"
   ],
   "id": "initial_id",
   "outputs": [],
   "execution_count": 1
  },
  {
   "metadata": {},
   "cell_type": "markdown",
   "source": "# Data import",
   "id": "a4b2795dc42b8269"
  },
  {
   "metadata": {
    "ExecuteTime": {
     "end_time": "2025-02-06T21:29:28.842523Z",
     "start_time": "2025-02-06T21:29:28.799820Z"
    }
   },
   "cell_type": "code",
   "source": [
    "nodes = pd.read_pickle(\"../../data/original/nodes.pkl\")\n",
    "channels = pd.read_pickle(\"../../data/original/channels.pkl\")"
   ],
   "id": "20748e4222156956",
   "outputs": [],
   "execution_count": 2
  },
  {
   "metadata": {
    "ExecuteTime": {
     "end_time": "2025-02-06T21:29:29.442979Z",
     "start_time": "2025-02-06T21:29:29.402833Z"
    }
   },
   "cell_type": "code",
   "source": [
    "channels[\"base_fee\"] = channels.loc[:, \"base_fee\"].apply(lambda x: random.uniform(0,100) if x==0 else x)\n",
    "channels[\"rate_fee\"] = channels.loc[:, \"rate_fee\"].apply(lambda x: random.uniform(0.00001,0.01) if x==0 else x)"
   ],
   "id": "7fe6e4ec106d8762",
   "outputs": [],
   "execution_count": 3
  },
  {
   "metadata": {},
   "cell_type": "markdown",
   "source": "## Modeling",
   "id": "7df6d25eef847cf7"
  },
  {
   "metadata": {
    "ExecuteTime": {
     "end_time": "2025-02-06T21:29:30.208714Z",
     "start_time": "2025-02-06T21:29:30.200593Z"
    }
   },
   "cell_type": "code",
   "source": [
    "pyomo.common.timing.report_timing()\n",
    "pyomo.common.log.pyomo_logger"
   ],
   "id": "4a4e07a12106f0f2",
   "outputs": [
    {
     "data": {
      "text/plain": [
       "<Logger pyomo (WARNING)>"
      ]
     },
     "execution_count": 4,
     "metadata": {},
     "output_type": "execute_result"
    }
   ],
   "execution_count": 4
  },
  {
   "metadata": {
    "ExecuteTime": {
     "end_time": "2025-02-06T21:29:31.222049Z",
     "start_time": "2025-02-06T21:29:31.204968Z"
    }
   },
   "cell_type": "code",
   "source": [
    "# Multiplication to set the same base unit for all computations\n",
    "channels[\"capacity\"] = channels[\"capacity\"] * 1000000\n",
    "channels[\"base_fee\"] = channels[\"base_fee\"] * 1000000"
   ],
   "id": "eb5330e8d98289ec",
   "outputs": [],
   "execution_count": 5
  },
  {
   "metadata": {
    "ExecuteTime": {
     "end_time": "2025-02-06T21:29:33.972758Z",
     "start_time": "2025-02-06T21:29:32.064807Z"
    }
   },
   "cell_type": "code",
   "source": [
    "model = pyo.ConcreteModel(name=\"Min cost flow problem\")\n",
    "model.NODES = pyo.Set(initialize=nodes.index)\n",
    "model.CHANNELS = pyo.Set(initialize=[(channels.loc[i, \"node1_pub\"], channels.loc[i, \"node2_pub\"]) for i in channels.index])"
   ],
   "id": "52bc701c57020ae",
   "outputs": [
    {
     "name": "stdout",
     "output_type": "stream",
     "text": [
      "           0 seconds to construct Block ConcreteModel; 1 index total\n",
      "        0.04 seconds to construct Set NODES; 1 index total\n",
      "        0.21 seconds to construct Set CHANNELS; 1 index total\n"
     ]
    }
   ],
   "execution_count": 6
  },
  {
   "metadata": {
    "ExecuteTime": {
     "end_time": "2025-02-06T21:29:33.981353Z",
     "start_time": "2025-02-06T21:29:33.974322Z"
    }
   },
   "cell_type": "code",
   "source": [
    "transaction_amount = 2000000\n",
    "nodes = create_demand(nodes, transaction_amount,\n",
    "                      source=\"02b4098c3116124c0c4105295d3d2e65927d46e98e248d84cb6119da57e4ae31e3\",destination=\"0202f00d5f5c91a3c79113851b162c2b75f2cbd9fb2378fb4a4ce92d5ba1e63e08\")"
   ],
   "id": "71f0e54edb55901d",
   "outputs": [
    {
     "name": "stdout",
     "output_type": "stream",
     "text": [
      "Transaction of 2000000 sats.\n",
      "Sender: VeniceForever\n",
      "Receiver: ShatSat412.\n"
     ]
    }
   ],
   "execution_count": 7
  },
  {
   "metadata": {
    "ExecuteTime": {
     "end_time": "2025-02-06T21:29:34.729783Z",
     "start_time": "2025-02-06T21:29:34.486774Z"
    }
   },
   "cell_type": "code",
   "source": [
    "model.x = pyo.Var(model.CHANNELS, domain=pyo.NonNegativeIntegers, bounds=(0,1))\n",
    "model.a = pyo.Var(model.CHANNELS, domain=pyo.NonNegativeReals, bounds=(0, max(nodes[\"demand\"])))"
   ],
   "id": "db6bf92632e748f7",
   "outputs": [
    {
     "name": "stdout",
     "output_type": "stream",
     "text": [
      "        0.12 seconds to construct Var x; 89898 indices total\n",
      "        0.12 seconds to construct Var a; 89898 indices total\n"
     ]
    }
   ],
   "execution_count": 8
  },
  {
   "metadata": {
    "ExecuteTime": {
     "end_time": "2025-02-06T21:29:35.138065Z",
     "start_time": "2025-02-06T21:29:35.103556Z"
    }
   },
   "cell_type": "code",
   "source": [
    "channels.reset_index(inplace=True)\n",
    "channels.set_index([\"node1_pub\", \"node2_pub\"], inplace=True)\n",
    "channels.sort_index(inplace=True)"
   ],
   "id": "5d69bcd9f4cf6b47",
   "outputs": [],
   "execution_count": 9
  },
  {
   "metadata": {},
   "cell_type": "markdown",
   "source": [
    "### Objective function\n",
    "\n",
    "$$\n",
    "min \\sum_{} ^{} amount_i \\times feerate_{i} + x_{i} \\times basefee_{i}\n",
    "$$"
   ],
   "id": "75fbeb57061b26ae"
  },
  {
   "metadata": {
    "ExecuteTime": {
     "end_time": "2025-02-06T21:29:45.133618Z",
     "start_time": "2025-02-06T21:29:36.809874Z"
    }
   },
   "cell_type": "code",
   "source": [
    "#def objective_function(model: pyo.ConcreteModel):\n",
    "#    return sum(model.a[i] * channels.loc[i, \"rate_fee\"] for i in model.CHANNELS) + sum(model.x[i] * channels.loc[i, \"base_fee\"] for i in model.CHANNELS)\n",
    "\n",
    "def objective_function(model: pyo.ConcreteModel):\n",
    "    return sum(model.a[i] * channels.loc[i, \"rate_fee\"] + model.x[i] * channels.loc[i, \"base_fee\"] for i in model.CHANNELS)\n",
    "\n",
    "model.totalCost = pyo.Objective(rule=objective_function(model), sense=pyo.minimize)"
   ],
   "id": "f45ec00f2444e9d1",
   "outputs": [
    {
     "name": "stdout",
     "output_type": "stream",
     "text": [
      "           0 seconds to construct Objective totalCost; 1 index total\n"
     ]
    }
   ],
   "execution_count": 10
  },
  {
   "metadata": {},
   "cell_type": "markdown",
   "source": "### Constraints\n",
   "id": "861b0daa9b9cba75"
  },
  {
   "metadata": {},
   "cell_type": "markdown",
   "source": [
    "#### Capacity constraint\n",
    "\n",
    "$$amount_{i,j} \\le capacity_{i,j} \\times x_{i,j} \\text{ } \\forall (i,j) \\in E$$"
   ],
   "id": "e5ea238f92c81afb"
  },
  {
   "metadata": {
    "ExecuteTime": {
     "end_time": "2025-02-06T21:29:50.704307Z",
     "start_time": "2025-02-06T21:29:45.134730Z"
    }
   },
   "cell_type": "code",
   "source": [
    "def capacity_constraint(model: pyo.ConcreteModel, a, b):\n",
    "    return model.a[(a, b)] <= channels.loc[(a, b), \"capacity\"] * model.x[(a, b)]\n",
    "\n",
    "model.CapacityConstraint = pyo.Constraint(model.CHANNELS, rule=capacity_constraint, name=\"Capacity constraint\")"
   ],
   "id": "7d46c6418b15675a",
   "outputs": [
    {
     "name": "stdout",
     "output_type": "stream",
     "text": [
      "        5.57 seconds to construct Constraint CapacityConstraint; 89898 indices total\n"
     ]
    }
   ],
   "execution_count": 11
  },
  {
   "metadata": {},
   "cell_type": "markdown",
   "source": [
    "#### Flow balance constraint\n",
    "\n",
    "$$\\sum_{(s,i) \\in E} amount_{s,i} - \\sum_{(i,t) \\in E} amount_{i,d} = b_i \\text{ } \\forall i \\in V$$\n",
    "\n",
    "where $s$ is the source node, $d$ is the destination node, $i$ is every intermediary node\n"
   ],
   "id": "7adcde34bbdb4878"
  },
  {
   "metadata": {
    "ExecuteTime": {
     "end_time": "2025-02-06T21:29:54.479906Z",
     "start_time": "2025-02-06T21:29:50.705459Z"
    }
   },
   "cell_type": "code",
   "source": [
    "channels.reset_index(inplace=True)\n",
    "channels.set_index(\"channel_id\", inplace=True)\n",
    "\n",
    "def flow_balance_constraint(model: pyo.ConcreteModel, n: str):\n",
    "    InFlow = sum(model.a[(channels.loc[a, \"node1_pub\"], channels.loc[a, \"node2_pub\"])] for a in nodes.loc[n, 'incoming_channels'])\n",
    "    OutFlow = sum(model.a[(channels.loc[a, \"node1_pub\"], channels.loc[a, \"node2_pub\"])] for a in nodes.loc[n, 'outgoing_channels'])\n",
    "    return  OutFlow + nodes.loc[n, \"demand\"] == InFlow\n",
    "\n",
    "model.FlowBalanceConstraint = pyo.Constraint(model.NODES, rule=flow_balance_constraint, name=\"Flow balance constrain\")\n",
    "\n",
    "channels.reset_index(inplace=True)\n",
    "channels.set_index([\"node1_pub\", \"node2_pub\"], inplace=True)\n",
    "channels.sort_index(inplace=True) "
   ],
   "id": "d2b57765c3b53fc5",
   "outputs": [
    {
     "name": "stdout",
     "output_type": "stream",
     "text": [
      "        3.74 seconds to construct Constraint FlowBalanceConstraint; 11984 indices total\n"
     ]
    }
   ],
   "execution_count": 12
  },
  {
   "metadata": {},
   "cell_type": "markdown",
   "source": "## Solving the model",
   "id": "b8bc8c88087daf77"
  },
  {
   "metadata": {},
   "cell_type": "code",
   "source": [
    "#from pyomo.common.tempfiles import TempfileManager\n",
    "#TempfileManager.tempdir = \"/home/filippo/repositories/LN-pathfinding\""
   ],
   "id": "2dd413d5dd6de75f",
   "outputs": [],
   "execution_count": null
  },
  {
   "metadata": {
    "ExecuteTime": {
     "end_time": "2025-02-06T21:38:02.224727Z",
     "start_time": "2025-02-06T21:29:54.481335Z"
    }
   },
   "cell_type": "code",
   "source": [
    "opt = pyo.SolverFactory('cbc')\n",
    "#opt = pyo.SolverFactory('cplex_direct')\n",
    "results = opt.solve(model, tee=True, keepfiles=True)\n",
    "\n",
    "if (results.solver.status == pyo.SolverStatus.ok) and (results.solver.termination_condition == pyo.TerminationCondition.optimal):\n",
    "    print('\\nOptimal solution found')\n",
    "elif results.solver.termination_condition == pyo.TerminationCondition.feasible:\n",
    "    print('\\nFeasible but not proven optimal solution found')\n",
    "elif results.solver.termination_condition == pyo.TerminationCondition.infeasible:\n",
    "    raise Exception(\"The model is infeasible\")\n",
    "else:\n",
    "    print('\\nSolver Status: ',  results.solver.status)\n",
    "    raise Exception(results.solver.status)\n",
    "\n",
    "print('\\nObject function value = ', model.Objective())\n"
   ],
   "id": "f88c7c0611694b3b",
   "outputs": [
    {
     "name": "stdout",
     "output_type": "stream",
     "text": [
      "           0 seconds to construct Var ONE_VAR_CONSTANT; 1 index total\n",
      "      [    2.12] Generated LP representation\n",
      "Solver log file: '/tmp/tmpfd4639o2.cbc.log'\n",
      "Solver solution file: '/tmp/tmpqah5bk_u.pyomo.soln'\n",
      "Solver problem files: ('/tmp/tmpqah5bk_u.pyomo.lp',)\n",
      "Welcome to the CBC MILP Solver \n",
      "Version: 2.10.8 \n",
      "Build Date: May  9 2022 \n",
      "\n",
      "command line - /usr/bin/cbc -printingOptions all -import /tmp/tmpqah5bk_u.pyomo.lp -stat=1 -solve -solu /tmp/tmpqah5bk_u.pyomo.soln (default strategy 1)\n",
      "Option for printingOptions changed from normal to all\n",
      "Presolve 95884 (-5998) rows, 173818 (-5978) columns and 335144 (-23898) elements\n",
      "Statistics for presolved model\n",
      "Original problem has 89898 integers (89898 of which binary)\n",
      "Presolved problem has 89898 integers (89898 of which binary)\n",
      "==== 0 zero objective 45638 different\n",
      "==== absolute objective values 45638 different\n",
      "==== for integers 0 zero objective 35792 different\n",
      "==== for integers absolute objective values 35792 different\n",
      "===== end objective counts\n",
      "\n",
      "\n",
      "Problem has 95884 rows, 173818 columns (173818 with objective) and 335144 elements\n",
      "There are 89906 singletons with objective \n",
      "Column breakdown:\n",
      "0 of type 0.0->inf, 83920 of type 0.0->up, 0 of type lo->inf, \n",
      "0 of type lo->up, 0 of type free, 0 of type fixed, \n",
      "0 of type -inf->0.0, 0 of type -inf->up, 89898 of type 0.0->1.0 \n",
      "Row breakdown:\n",
      "5984 of type E 0.0, 0 of type E 1.0, 0 of type E -1.0, \n",
      "2 of type E other, 0 of type G 0.0, 0 of type G 1.0, \n",
      "0 of type G other, 89898 of type L 0.0, 0 of type L 1.0, \n",
      "0 of type L other, 0 of type Range 0.0->1.0, 0 of type Range other, \n",
      "0 of type Free \n",
      "Continuous objective value is 3.55156e+08 - 4.94 seconds\n",
      "Cgl0004I processed model has 83920 rows, 155868 columns (77934 integer (77934 of which binary)) and 311216 elements\n",
      "Cbc0038I Initial state - 5 integers unsatisfied sum - 1.5\n",
      "Cbc0038I Pass   1: (6.10 seconds) suminf.    1.50000 (5) obj. 3.56131e+08 iterations 76\n",
      "Cbc0038I Pass   2: (6.16 seconds) suminf.    2.33333 (5) obj. 3.97442e+08 iterations 2\n",
      "Cbc0038I Pass   3: (6.20 seconds) suminf.    2.33333 (5) obj. 3.97442e+08 iterations 0\n",
      "Cbc0038I Pass   4: (6.23 seconds) suminf.    2.33333 (5) obj. 3.97442e+08 iterations 0\n",
      "Cbc0038I Pass   5: (6.29 seconds) suminf.    2.33333 (5) obj. 8.26606e+09 iterations 484\n",
      "Cbc0038I Pass   6: (6.33 seconds) suminf.    2.33333 (5) obj. 8.26606e+09 iterations 0\n",
      "Cbc0038I Pass   7: (6.36 seconds) suminf.    2.33333 (5) obj. 8.26606e+09 iterations 0\n",
      "Cbc0038I Pass   8: (6.42 seconds) suminf.    2.33333 (5) obj. 1.16074e+11 iterations 489\n",
      "Cbc0038I Pass   9: (6.46 seconds) suminf.    2.33333 (5) obj. 1.16074e+11 iterations 0\n",
      "Cbc0038I Pass  10: (6.49 seconds) suminf.    2.33333 (5) obj. 1.16074e+11 iterations 0\n",
      "Cbc0038I Pass  11: (6.55 seconds) suminf.    2.33333 (5) obj. 1.21811e+11 iterations 450\n",
      "Cbc0038I Pass  12: (6.59 seconds) suminf.    2.33333 (5) obj. 1.21811e+11 iterations 0\n",
      "Cbc0038I Pass  13: (6.63 seconds) suminf.    2.33333 (5) obj. 1.21811e+11 iterations 0\n",
      "Cbc0038I Pass  14: (6.69 seconds) suminf.    2.33333 (5) obj. 3.40652e+12 iterations 490\n",
      "Cbc0038I Pass  15: (6.73 seconds) suminf.    2.33333 (5) obj. 3.40652e+12 iterations 0\n",
      "Cbc0038I Pass  16: (6.76 seconds) suminf.    2.33333 (5) obj. 3.40652e+12 iterations 0\n",
      "Cbc0038I Pass  17: (6.83 seconds) suminf.    2.33333 (5) obj. 3.41849e+12 iterations 469\n",
      "Cbc0038I Pass  18: (6.86 seconds) suminf.    2.33333 (5) obj. 3.41849e+12 iterations 0\n",
      "Cbc0038I Pass  19: (6.90 seconds) suminf.    2.33333 (5) obj. 3.41849e+12 iterations 0\n",
      "Cbc0038I Pass  20: (6.96 seconds) suminf.    2.33333 (5) obj. 3.42542e+12 iterations 455\n",
      "Cbc0038I Pass  21: (7.00 seconds) suminf.    2.33333 (5) obj. 3.42542e+12 iterations 0\n",
      "Cbc0038I Pass  22: (7.03 seconds) suminf.    2.33333 (5) obj. 3.42542e+12 iterations 0\n",
      "Cbc0038I Pass  23: (7.09 seconds) suminf.    2.33333 (5) obj. 3.44013e+12 iterations 474\n",
      "Cbc0038I Pass  24: (7.16 seconds) suminf.    2.33333 (5) obj. 3.44013e+12 iterations 1\n",
      "Cbc0038I Pass  25: (7.19 seconds) suminf.    2.33333 (5) obj. 3.44013e+12 iterations 0\n",
      "Cbc0038I Pass  26: (7.26 seconds) suminf.    2.33333 (5) obj. 3.45598e+12 iterations 468\n",
      "Cbc0038I Pass  27: (7.29 seconds) suminf.    2.33333 (5) obj. 3.45598e+12 iterations 0\n",
      "Cbc0038I Pass  28: (7.33 seconds) suminf.    2.33333 (5) obj. 3.45598e+12 iterations 0\n",
      "Cbc0038I Pass  29: (7.39 seconds) suminf.    1.50000 (5) obj. 3.4616e+12 iterations 473\n",
      "Cbc0038I Pass  30: (7.43 seconds) suminf.    1.50000 (5) obj. 3.4616e+12 iterations 0\n",
      "Cbc0038I Rounding solution of 4.04772e+08 is better than previous of 1e+50\n",
      "\n",
      "Cbc0038I Before mini branch and bound, 73972 integers at bound fixed and 77602 continuous\n",
      "Cbc0038I Full problem 83920 rows 155868 columns, reduced to 5 rows 6 columns\n",
      "Cbc0038I Mini branch and bound did not improve solution (7.57 seconds)\n",
      "Cbc0038I Round again with cutoff of 3.99908e+08\n",
      "Cbc0038I Reduced cost fixing fixed 4553 variables on major pass 2\n",
      "Cbc0038I Pass  30: (8.64 seconds) suminf.    1.00000 (3) obj. 3.56506e+08 iterations 3745\n",
      "Cbc0038I Pass  31: (10.20 seconds) suminf.    0.29881 (2) obj. 3.99908e+08 iterations 3925\n",
      "Cbc0038I Pass  32: (13.47 seconds) suminf.    0.05145 (1) obj. 3.99908e+08 iterations 4173\n",
      "Cbc0038I Pass  33: (28.29 seconds) suminf.    0.50000 (1) obj. 3.99908e+08 iterations 17558\n",
      "Cbc0038I Pass  34: (54.34 seconds) suminf.    1.09564 (4) obj. 3.99908e+08 iterations 16691\n",
      "Cbc0038I Pass  35: (61.83 seconds) suminf.    1.09564 (4) obj. 3.99908e+08 iterations 1164\n",
      "Cbc0038I Pass  36: (66.03 seconds) suminf.    1.00047 (5) obj. 3.99908e+08 iterations 2604\n",
      "Cbc0038I Pass  37: (73.42 seconds) suminf.    1.20436 (4) obj. 3.99908e+08 iterations 3041\n",
      "Cbc0038I Pass  38: (121.42 seconds) suminf.    0.75000 (2) obj. 3.99908e+08 iterations 55729\n",
      "Cbc0038I Pass  39: (124.46 seconds) suminf.    0.77921 (4) obj. 3.99908e+08 iterations 849\n",
      "Cbc0038I Pass  40: (130.34 seconds) suminf.    1.65376 (5) obj. 3.99908e+08 iterations 5269\n",
      "Cbc0038I Pass  41: (136.77 seconds) suminf.    0.88662 (3) obj. 3.99908e+08 iterations 2024\n",
      "Cbc0038I Pass  42: (141.11 seconds) suminf.    1.00000 (3) obj. 3.99908e+08 iterations 1198\n",
      "Cbc0038I Pass  43: (158.83 seconds) suminf.    1.61000 (5) obj. 3.99908e+08 iterations 7290\n",
      "Cbc0038I Pass  44: (159.50 seconds) suminf.    1.32200 (5) obj. 3.99908e+08 iterations 671\n",
      "Cbc0038I Pass  45: (203.13 seconds) suminf.    1.28600 (4) obj. 3.99908e+08 iterations 49906\n",
      "Cbc0038I Pass  46: (252.78 seconds) suminf.    0.78600 (3) obj. 3.99908e+08 iterations 39123\n",
      "Cbc0038I Pass  47: (283.37 seconds) suminf.    0.78600 (3) obj. 3.99908e+08 iterations 10290\n",
      "Cbc0038I Pass  48: (286.69 seconds) suminf.    1.00000 (3) obj. 3.99908e+08 iterations 3928\n",
      "Cbc0038I Pass  49: (292.95 seconds) suminf.    1.56658 (5) obj. 3.99908e+08 iterations 7580\n",
      "Cbc0038I Pass  50: (296.70 seconds) suminf.    1.09234 (4) obj. 3.99908e+08 iterations 1529\n",
      "Cbc0038I Pass  51: (300.40 seconds) suminf.    1.25000 (4) obj. 3.99908e+08 iterations 3600\n",
      "Cbc0038I Pass  52: (305.87 seconds) suminf.    1.46056 (5) obj. 3.99908e+08 iterations 6583\n",
      "Cbc0038I Pass  53: (307.56 seconds) suminf.    1.29211 (5) obj. 3.99908e+08 iterations 2019\n",
      "Cbc0038I Pass  54: (366.35 seconds) suminf.    1.27106 (4) obj. 3.99908e+08 iterations 73341\n",
      "Cbc0038I Pass  55: (370.20 seconds) suminf.    1.27106 (4) obj. 3.99908e+08 iterations 1609\n",
      "Cbc0038I Pass  56: (373.82 seconds) suminf.    1.25195 (6) obj. 3.99908e+08 iterations 823\n",
      "Cbc0038I Pass  57: (379.88 seconds) suminf.    0.77106 (3) obj. 3.99908e+08 iterations 4040\n",
      "Cbc0038I Pass  58: (385.18 seconds) suminf.    1.22894 (3) obj. 3.99908e+08 iterations 4510\n",
      "Cbc0038I Pass  59: (388.89 seconds) suminf.    1.69215 (6) obj. 3.99908e+08 iterations 2670\n",
      "Cbc0038I No solution found this major pass\n",
      "Cbc0038I Before mini branch and bound, 77378 integers at bound fixed and 35319 continuous\n",
      "Cbc0038I Full problem 83920 rows 155868 columns, reduced to 4 rows 5 columns\n",
      "Cbc0038I Mini branch and bound did not improve solution (389.44 seconds)\n",
      "Cbc0038I After 389.44 seconds - Feasibility pump exiting with objective of 4.04772e+08 - took 383.47 seconds\n",
      "Cbc0012I Integer solution of 4.0477229e+08 found by feasibility pump after 0 iterations and 0 nodes (403.32 seconds)\n",
      "Cbc0038I Full problem 83920 rows 155868 columns, reduced to 4 rows 5 columns\n",
      "Cbc0031I 3 added rows had average density of 3.3333333\n",
      "Cbc0013I At root node, 7 cuts changed objective from 3.5613128e+08 to 4.0477229e+08 in 1 passes\n",
      "Cbc0014I Cut generator 0 (Probing) - 0 row cuts average 0.0 elements, 1 column cuts (1 active)  in 65.455 seconds - new frequency is 1\n",
      "Cbc0014I Cut generator 1 (Gomory) - 0 row cuts average 0.0 elements, 0 column cuts (0 active)  in 0.015 seconds - new frequency is -100\n",
      "Cbc0014I Cut generator 2 (Knapsack) - 1 row cuts average 6.0 elements, 0 column cuts (0 active)  in 0.044 seconds - new frequency is 1\n",
      "Cbc0014I Cut generator 3 (Clique) - 0 row cuts average 0.0 elements, 0 column cuts (0 active)  in 0.001 seconds - new frequency is -100\n",
      "Cbc0014I Cut generator 4 (MixedIntegerRounding2) - 0 row cuts average 0.0 elements, 0 column cuts (0 active)  in 0.018 seconds - new frequency is -100\n",
      "Cbc0014I Cut generator 5 (FlowCover) - 0 row cuts average 0.0 elements, 0 column cuts (0 active)  in 0.006 seconds - new frequency is -100\n",
      "Cbc0014I Cut generator 6 (TwoMirCuts) - 6 row cuts average 1.5 elements, 0 column cuts (0 active)  in 0.023 seconds - new frequency is -100\n",
      "Cbc0001I Search completed - best objective 404772285.9136417, took 4 iterations and 0 nodes (470.15 seconds)\n",
      "Cbc0035I Maximum depth 0, 4154 variables fixed on reduced cost\n",
      "Cuts at root node changed objective from 3.56131e+08 to 4.04772e+08\n",
      "Probing was tried 1 times and created 1 cuts of which 0 were active after adding rounds of cuts (65.455 seconds)\n",
      "Gomory was tried 1 times and created 0 cuts of which 0 were active after adding rounds of cuts (0.015 seconds)\n",
      "Knapsack was tried 1 times and created 1 cuts of which 0 were active after adding rounds of cuts (0.044 seconds)\n",
      "Clique was tried 1 times and created 0 cuts of which 0 were active after adding rounds of cuts (0.001 seconds)\n",
      "MixedIntegerRounding2 was tried 1 times and created 0 cuts of which 0 were active after adding rounds of cuts (0.018 seconds)\n",
      "FlowCover was tried 1 times and created 0 cuts of which 0 were active after adding rounds of cuts (0.006 seconds)\n",
      "TwoMirCuts was tried 1 times and created 6 cuts of which 0 were active after adding rounds of cuts (0.023 seconds)\n",
      "ZeroHalf was tried 1 times and created 0 cuts of which 0 were active after adding rounds of cuts (0.000 seconds)\n",
      "\n",
      "Result - Optimal solution found\n",
      "\n",
      "Objective value:                404772285.91364169\n",
      "Enumerated nodes:               0\n",
      "Total iterations:               4\n",
      "Time (CPU seconds):             483.35\n",
      "Time (Wallclock seconds):       483.60\n",
      "\n",
      "Total time (CPU seconds):       483.94   (Wallclock seconds):       484.24\n",
      "\n",
      "\n",
      "Optimal solution found\n",
      "\n",
      "Object function value =  <pyomo.core.base.block._generic_component_decorator object at 0x7f38e2f0f040>\n"
     ]
    }
   ],
   "execution_count": 13
  },
  {
   "metadata": {
    "ExecuteTime": {
     "end_time": "2025-02-06T21:38:02.228034Z",
     "start_time": "2025-02-06T21:38:02.225702Z"
    }
   },
   "cell_type": "code",
   "source": [
    "#from pyomo.opt import SolverStatus, TerminationCondition\n",
    "\n",
    "print(\"Solver Status: \",  results.solver[0][\"System time\"])\n"
   ],
   "id": "8539cc0c87e2357b",
   "outputs": [
    {
     "name": "stdout",
     "output_type": "stream",
     "text": [
      "Solver Status:  483.94\n"
     ]
    }
   ],
   "execution_count": 14
  },
  {
   "metadata": {
    "ExecuteTime": {
     "end_time": "2025-02-06T21:38:02.279379Z",
     "start_time": "2025-02-06T21:38:02.229027Z"
    }
   },
   "cell_type": "code",
   "source": [
    "from decimal import Decimal\n",
    "pd.set_option('display.max_colwidth', 10000000000000000000000000000000000000000000000000000)\n",
    "DF_channels = pd.DataFrame()\n",
    "c = 0\n",
    "for index, value in model.a.extract_values().items():\n",
    "    if value > 0.1:\n",
    "        DF_channels.loc[c, \"source\"] = index[0]\n",
    "        DF_channels.loc[c, \"destination\"] = index[1]\n",
    "        try:\n",
    "            DF_channels.loc[c, \"source-alias\"] = nodes.loc[index[0], \"alias\"]\n",
    "        except KeyError:\n",
    "            print(\"Source alias not found in nodes database: placeholder inserted\")\n",
    "            DF_channels.loc[c, \"source-alias\"] = \"source-alias\"\n",
    "            pass\n",
    "        try:\n",
    "            DF_channels.loc[c, \"destination-alias\"] = nodes.loc[index[1], \"alias\"]\n",
    "        except KeyError:\n",
    "            print(\"Destination alias not found in nodes database: placeholder inserted\")\n",
    "            DF_channels.loc[c, \"destination-alias\"] = \"destination-alias\"\n",
    "            pass\n",
    "        DF_channels.loc[c, \"capacity\"] = Decimal(channels.loc[index, \"capacity\"]/1000000)\n",
    "        DF_channels.loc[c, \"amount\"] = Decimal(value/1000000)\n",
    "        DF_channels.loc[c, \"base_fee\"] = Decimal(channels.loc[(index[0], index[1]), \"base_fee\"]/1000000)\n",
    "        DF_channels.loc[c, \"rate_fee\"] = channels.loc[(index[0], index[1]), \"rate_fee\"]\n",
    "        #DF_channels.loc[c, \"used_fl\"] = channels.loc[]\n",
    "        c += 1\n",
    "\n",
    "DF_channels_pos = DF_channels[DF_channels[\"amount\"]!=0]"
   ],
   "id": "b7051d6dc41ce1a0",
   "outputs": [],
   "execution_count": 15
  },
  {
   "metadata": {
    "ExecuteTime": {
     "end_time": "2025-02-06T21:38:02.286134Z",
     "start_time": "2025-02-06T21:38:02.280248Z"
    }
   },
   "cell_type": "code",
   "source": "DF_channels[DF_channels[\"amount\"]> DF_channels[\"capacity\"]]",
   "id": "591cfe14bef33883",
   "outputs": [
    {
     "data": {
      "text/plain": [
       "Empty DataFrame\n",
       "Columns: [source, destination, source-alias, destination-alias, capacity, amount, base_fee, rate_fee]\n",
       "Index: []"
      ],
      "text/html": [
       "<div>\n",
       "<style scoped>\n",
       "    .dataframe tbody tr th:only-of-type {\n",
       "        vertical-align: middle;\n",
       "    }\n",
       "\n",
       "    .dataframe tbody tr th {\n",
       "        vertical-align: top;\n",
       "    }\n",
       "\n",
       "    .dataframe thead th {\n",
       "        text-align: right;\n",
       "    }\n",
       "</style>\n",
       "<table border=\"1\" class=\"dataframe\">\n",
       "  <thead>\n",
       "    <tr style=\"text-align: right;\">\n",
       "      <th></th>\n",
       "      <th>source</th>\n",
       "      <th>destination</th>\n",
       "      <th>source-alias</th>\n",
       "      <th>destination-alias</th>\n",
       "      <th>capacity</th>\n",
       "      <th>amount</th>\n",
       "      <th>base_fee</th>\n",
       "      <th>rate_fee</th>\n",
       "    </tr>\n",
       "  </thead>\n",
       "  <tbody>\n",
       "  </tbody>\n",
       "</table>\n",
       "</div>"
      ]
     },
     "execution_count": 16,
     "metadata": {},
     "output_type": "execute_result"
    }
   ],
   "execution_count": 16
  },
  {
   "metadata": {
    "ExecuteTime": {
     "end_time": "2025-02-06T21:38:02.323422Z",
     "start_time": "2025-02-06T21:38:02.286983Z"
    }
   },
   "cell_type": "code",
   "source": [
    "DF_fixed = pd.DataFrame()\n",
    "c = 0\n",
    "for index, value in model.x.extract_values().items():\n",
    "    if value != 0:\n",
    "        DF_fixed.loc[c, \"source\"] = index[0]\n",
    "        DF_fixed.loc[c, \"destination\"] = index[1]\n",
    "        DF_fixed.loc[c, \"used\"] = Decimal(value)\n",
    "        c += 1\n",
    "\n",
    "DF_fixed_pos = DF_fixed[DF_fixed[\"used\"]!=0]\n",
    "DF_fixed_pos"
   ],
   "id": "4150b1232fe02328",
   "outputs": [
    {
     "data": {
      "text/plain": [
       "                                                               source  \\\n",
       "0  026f46207fd290a33cbd86e29b3ad0a47cdd44ab9aa5267cde66483e10aa9d3180   \n",
       "1  0296f5f265b0026e705def4da129bfeeb7ffc3cd3e5c77976b408c879ced6d5197   \n",
       "2  02b4098c3116124c0c4105295d3d2e65927d46e98e248d84cb6119da57e4ae31e3   \n",
       "3  02b4098c3116124c0c4105295d3d2e65927d46e98e248d84cb6119da57e4ae31e3   \n",
       "4  0364913d18a19c671bb36dd04d6ad5be0fe8f2894314c36a9db3f03c2d414907e1   \n",
       "5  0373eab8f43b0710549ddccc19ac7824ab6aea7655f4c15f4bc93b63df5db8fa48   \n",
       "\n",
       "                                                          destination used  \n",
       "0  0296f5f265b0026e705def4da129bfeeb7ffc3cd3e5c77976b408c879ced6d5197    1  \n",
       "1  0364913d18a19c671bb36dd04d6ad5be0fe8f2894314c36a9db3f03c2d414907e1    1  \n",
       "2  026f46207fd290a33cbd86e29b3ad0a47cdd44ab9aa5267cde66483e10aa9d3180    1  \n",
       "3  0373eab8f43b0710549ddccc19ac7824ab6aea7655f4c15f4bc93b63df5db8fa48    1  \n",
       "4  0202f00d5f5c91a3c79113851b162c2b75f2cbd9fb2378fb4a4ce92d5ba1e63e08    1  \n",
       "5  0202f00d5f5c91a3c79113851b162c2b75f2cbd9fb2378fb4a4ce92d5ba1e63e08    1  "
      ],
      "text/html": [
       "<div>\n",
       "<style scoped>\n",
       "    .dataframe tbody tr th:only-of-type {\n",
       "        vertical-align: middle;\n",
       "    }\n",
       "\n",
       "    .dataframe tbody tr th {\n",
       "        vertical-align: top;\n",
       "    }\n",
       "\n",
       "    .dataframe thead th {\n",
       "        text-align: right;\n",
       "    }\n",
       "</style>\n",
       "<table border=\"1\" class=\"dataframe\">\n",
       "  <thead>\n",
       "    <tr style=\"text-align: right;\">\n",
       "      <th></th>\n",
       "      <th>source</th>\n",
       "      <th>destination</th>\n",
       "      <th>used</th>\n",
       "    </tr>\n",
       "  </thead>\n",
       "  <tbody>\n",
       "    <tr>\n",
       "      <th>0</th>\n",
       "      <td>026f46207fd290a33cbd86e29b3ad0a47cdd44ab9aa5267cde66483e10aa9d3180</td>\n",
       "      <td>0296f5f265b0026e705def4da129bfeeb7ffc3cd3e5c77976b408c879ced6d5197</td>\n",
       "      <td>1</td>\n",
       "    </tr>\n",
       "    <tr>\n",
       "      <th>1</th>\n",
       "      <td>0296f5f265b0026e705def4da129bfeeb7ffc3cd3e5c77976b408c879ced6d5197</td>\n",
       "      <td>0364913d18a19c671bb36dd04d6ad5be0fe8f2894314c36a9db3f03c2d414907e1</td>\n",
       "      <td>1</td>\n",
       "    </tr>\n",
       "    <tr>\n",
       "      <th>2</th>\n",
       "      <td>02b4098c3116124c0c4105295d3d2e65927d46e98e248d84cb6119da57e4ae31e3</td>\n",
       "      <td>026f46207fd290a33cbd86e29b3ad0a47cdd44ab9aa5267cde66483e10aa9d3180</td>\n",
       "      <td>1</td>\n",
       "    </tr>\n",
       "    <tr>\n",
       "      <th>3</th>\n",
       "      <td>02b4098c3116124c0c4105295d3d2e65927d46e98e248d84cb6119da57e4ae31e3</td>\n",
       "      <td>0373eab8f43b0710549ddccc19ac7824ab6aea7655f4c15f4bc93b63df5db8fa48</td>\n",
       "      <td>1</td>\n",
       "    </tr>\n",
       "    <tr>\n",
       "      <th>4</th>\n",
       "      <td>0364913d18a19c671bb36dd04d6ad5be0fe8f2894314c36a9db3f03c2d414907e1</td>\n",
       "      <td>0202f00d5f5c91a3c79113851b162c2b75f2cbd9fb2378fb4a4ce92d5ba1e63e08</td>\n",
       "      <td>1</td>\n",
       "    </tr>\n",
       "    <tr>\n",
       "      <th>5</th>\n",
       "      <td>0373eab8f43b0710549ddccc19ac7824ab6aea7655f4c15f4bc93b63df5db8fa48</td>\n",
       "      <td>0202f00d5f5c91a3c79113851b162c2b75f2cbd9fb2378fb4a4ce92d5ba1e63e08</td>\n",
       "      <td>1</td>\n",
       "    </tr>\n",
       "  </tbody>\n",
       "</table>\n",
       "</div>"
      ]
     },
     "execution_count": 17,
     "metadata": {},
     "output_type": "execute_result"
    }
   ],
   "execution_count": 17
  },
  {
   "metadata": {},
   "cell_type": "markdown",
   "source": "### All data about channels on path",
   "id": "1dfb4bcd7e78f159"
  },
  {
   "metadata": {
    "ExecuteTime": {
     "end_time": "2025-02-06T21:38:02.338390Z",
     "start_time": "2025-02-06T21:38:02.324336Z"
    }
   },
   "cell_type": "code",
   "source": [
    "intersection = DF_fixed_pos.merge(DF_channels_pos, on=[\"source\", \"destination\"], how=\"outer\")\n",
    "final = intersection[intersection[\"amount\"]>0]\n",
    "final"
   ],
   "id": "ab555f0c48920c85",
   "outputs": [
    {
     "data": {
      "text/plain": [
       "                                                               source  \\\n",
       "0  026f46207fd290a33cbd86e29b3ad0a47cdd44ab9aa5267cde66483e10aa9d3180   \n",
       "1  0296f5f265b0026e705def4da129bfeeb7ffc3cd3e5c77976b408c879ced6d5197   \n",
       "2  02b4098c3116124c0c4105295d3d2e65927d46e98e248d84cb6119da57e4ae31e3   \n",
       "3  02b4098c3116124c0c4105295d3d2e65927d46e98e248d84cb6119da57e4ae31e3   \n",
       "4  0364913d18a19c671bb36dd04d6ad5be0fe8f2894314c36a9db3f03c2d414907e1   \n",
       "5  0373eab8f43b0710549ddccc19ac7824ab6aea7655f4c15f4bc93b63df5db8fa48   \n",
       "\n",
       "                                                          destination used  \\\n",
       "0  0296f5f265b0026e705def4da129bfeeb7ffc3cd3e5c77976b408c879ced6d5197    1   \n",
       "1  0364913d18a19c671bb36dd04d6ad5be0fe8f2894314c36a9db3f03c2d414907e1    1   \n",
       "2  026f46207fd290a33cbd86e29b3ad0a47cdd44ab9aa5267cde66483e10aa9d3180    1   \n",
       "3  0373eab8f43b0710549ddccc19ac7824ab6aea7655f4c15f4bc93b63df5db8fa48    1   \n",
       "4  0202f00d5f5c91a3c79113851b162c2b75f2cbd9fb2378fb4a4ce92d5ba1e63e08    1   \n",
       "5  0202f00d5f5c91a3c79113851b162c2b75f2cbd9fb2378fb4a4ce92d5ba1e63e08    1   \n",
       "\n",
       "     source-alias destination-alias capacity   amount  \\\n",
       "0    Authenticity    Business Cloud  2000000  1500000   \n",
       "1  Business Cloud       LQwD-Canada  4000000  1500000   \n",
       "2   VeniceForever      Authenticity  1500000  1500000   \n",
       "3   VeniceForever         HanzoNode  1000000   500000   \n",
       "4     LQwD-Canada        ShatSat412  5000000  1500000   \n",
       "5       HanzoNode        ShatSat412  5000000   500000   \n",
       "\n",
       "                                           base_fee  rate_fee  \n",
       "0                                               0.5  0.000001  \n",
       "1                                                 1  0.000001  \n",
       "2    66.2402727718118740085628814995288848876953125  0.000010  \n",
       "3  94.532013141829878577482304535806179046630859375  0.000045  \n",
       "4                                                 1  0.000100  \n",
       "5                                                 1  0.000100  "
      ],
      "text/html": [
       "<div>\n",
       "<style scoped>\n",
       "    .dataframe tbody tr th:only-of-type {\n",
       "        vertical-align: middle;\n",
       "    }\n",
       "\n",
       "    .dataframe tbody tr th {\n",
       "        vertical-align: top;\n",
       "    }\n",
       "\n",
       "    .dataframe thead th {\n",
       "        text-align: right;\n",
       "    }\n",
       "</style>\n",
       "<table border=\"1\" class=\"dataframe\">\n",
       "  <thead>\n",
       "    <tr style=\"text-align: right;\">\n",
       "      <th></th>\n",
       "      <th>source</th>\n",
       "      <th>destination</th>\n",
       "      <th>used</th>\n",
       "      <th>source-alias</th>\n",
       "      <th>destination-alias</th>\n",
       "      <th>capacity</th>\n",
       "      <th>amount</th>\n",
       "      <th>base_fee</th>\n",
       "      <th>rate_fee</th>\n",
       "    </tr>\n",
       "  </thead>\n",
       "  <tbody>\n",
       "    <tr>\n",
       "      <th>0</th>\n",
       "      <td>026f46207fd290a33cbd86e29b3ad0a47cdd44ab9aa5267cde66483e10aa9d3180</td>\n",
       "      <td>0296f5f265b0026e705def4da129bfeeb7ffc3cd3e5c77976b408c879ced6d5197</td>\n",
       "      <td>1</td>\n",
       "      <td>Authenticity</td>\n",
       "      <td>Business Cloud</td>\n",
       "      <td>2000000</td>\n",
       "      <td>1500000</td>\n",
       "      <td>0.5</td>\n",
       "      <td>0.000001</td>\n",
       "    </tr>\n",
       "    <tr>\n",
       "      <th>1</th>\n",
       "      <td>0296f5f265b0026e705def4da129bfeeb7ffc3cd3e5c77976b408c879ced6d5197</td>\n",
       "      <td>0364913d18a19c671bb36dd04d6ad5be0fe8f2894314c36a9db3f03c2d414907e1</td>\n",
       "      <td>1</td>\n",
       "      <td>Business Cloud</td>\n",
       "      <td>LQwD-Canada</td>\n",
       "      <td>4000000</td>\n",
       "      <td>1500000</td>\n",
       "      <td>1</td>\n",
       "      <td>0.000001</td>\n",
       "    </tr>\n",
       "    <tr>\n",
       "      <th>2</th>\n",
       "      <td>02b4098c3116124c0c4105295d3d2e65927d46e98e248d84cb6119da57e4ae31e3</td>\n",
       "      <td>026f46207fd290a33cbd86e29b3ad0a47cdd44ab9aa5267cde66483e10aa9d3180</td>\n",
       "      <td>1</td>\n",
       "      <td>VeniceForever</td>\n",
       "      <td>Authenticity</td>\n",
       "      <td>1500000</td>\n",
       "      <td>1500000</td>\n",
       "      <td>66.2402727718118740085628814995288848876953125</td>\n",
       "      <td>0.000010</td>\n",
       "    </tr>\n",
       "    <tr>\n",
       "      <th>3</th>\n",
       "      <td>02b4098c3116124c0c4105295d3d2e65927d46e98e248d84cb6119da57e4ae31e3</td>\n",
       "      <td>0373eab8f43b0710549ddccc19ac7824ab6aea7655f4c15f4bc93b63df5db8fa48</td>\n",
       "      <td>1</td>\n",
       "      <td>VeniceForever</td>\n",
       "      <td>HanzoNode</td>\n",
       "      <td>1000000</td>\n",
       "      <td>500000</td>\n",
       "      <td>94.532013141829878577482304535806179046630859375</td>\n",
       "      <td>0.000045</td>\n",
       "    </tr>\n",
       "    <tr>\n",
       "      <th>4</th>\n",
       "      <td>0364913d18a19c671bb36dd04d6ad5be0fe8f2894314c36a9db3f03c2d414907e1</td>\n",
       "      <td>0202f00d5f5c91a3c79113851b162c2b75f2cbd9fb2378fb4a4ce92d5ba1e63e08</td>\n",
       "      <td>1</td>\n",
       "      <td>LQwD-Canada</td>\n",
       "      <td>ShatSat412</td>\n",
       "      <td>5000000</td>\n",
       "      <td>1500000</td>\n",
       "      <td>1</td>\n",
       "      <td>0.000100</td>\n",
       "    </tr>\n",
       "    <tr>\n",
       "      <th>5</th>\n",
       "      <td>0373eab8f43b0710549ddccc19ac7824ab6aea7655f4c15f4bc93b63df5db8fa48</td>\n",
       "      <td>0202f00d5f5c91a3c79113851b162c2b75f2cbd9fb2378fb4a4ce92d5ba1e63e08</td>\n",
       "      <td>1</td>\n",
       "      <td>HanzoNode</td>\n",
       "      <td>ShatSat412</td>\n",
       "      <td>5000000</td>\n",
       "      <td>500000</td>\n",
       "      <td>1</td>\n",
       "      <td>0.000100</td>\n",
       "    </tr>\n",
       "  </tbody>\n",
       "</table>\n",
       "</div>"
      ]
     },
     "execution_count": 18,
     "metadata": {},
     "output_type": "execute_result"
    }
   ],
   "execution_count": 18
  },
  {
   "metadata": {
    "ExecuteTime": {
     "end_time": "2025-02-06T21:38:02.353852Z",
     "start_time": "2025-02-06T21:38:02.340638Z"
    }
   },
   "cell_type": "code",
   "source": [
    "%%capture --no-stdout\n",
    "final[\"amount\"] = final[\"amount\"].astype(float)\n",
    "final[\"rate_fee\"] = final[\"rate_fee\"].astype(float)\n",
    "final[\"base_fee\"] = final[\"base_fee\"].astype(float)\n",
    "total_transaction_cost = sum(final[\"amount\"] * final[\"rate_fee\"] + final[\"base_fee\"])\n",
    "perc_cost = (total_transaction_cost * 100) / transaction_amount\n",
    "print(f\"Transacting {transaction_amount} sats costs {total_transaction_cost} ({perc_cost}% of transaction amount)\")"
   ],
   "id": "5cb9ca4869b126de",
   "outputs": [
    {
     "name": "stdout",
     "output_type": "stream",
     "text": [
      "Transacting 2000000 sats costs 404.7722859136418 (0.02023861429568209% of transaction amount)\n"
     ]
    }
   ],
   "execution_count": 19
  },
  {
   "metadata": {
    "ExecuteTime": {
     "end_time": "2025-02-06T21:38:02.825194Z",
     "start_time": "2025-02-06T21:38:02.354822Z"
    }
   },
   "cell_type": "code",
   "source": [
    "import networkx as nx\n",
    "import matplotlib.pyplot as plt\n",
    "\n",
    "# edges list construction\n",
    "edges_df = final[[\"source-alias\", \"destination-alias\"]]\n",
    "\n",
    "G = nx.from_pandas_edgelist(edges_df, \"source-alias\", \"destination-alias\", create_using=nx.DiGraph())\n",
    "\n",
    "#plt.figure(figsize=(8, 6))\n",
    "#pos = nx.spring_layout(G)\n",
    "#nx.draw(G, pos, with_labels=True, node_size=2000, node_color='lightblue', font_size=10, font_color='black', font_weight='bold', arrows=True)\n",
    "#plt.title(\"Graph from DataFrame of Edges\")\n",
    "#plt.show()\n",
    "\n",
    "\n",
    "plt.figure(figsize=(8, 6))\n",
    "pos = nx.spring_layout(G)  # positions for all nodes\n",
    "nx.draw(G, pos, with_labels=True, node_size=1000, node_color='lightblue', font_size=10, font_color='black', font_weight='bold', arrows=True)\n",
    "plt.title(\"Graph with Uniform Node Size\")\n",
    "plt.show()"
   ],
   "id": "d7e96330eab65421",
   "outputs": [
    {
     "data": {
      "text/plain": [
       "<Figure size 800x600 with 1 Axes>"
      ],
      "image/png": "[encoded data removed]"
     },
     "metadata": {},
     "output_type": "display_data"
    }
   ],
   "execution_count": 20
  },
  {
   "metadata": {
    "ExecuteTime": {
     "end_time": "2025-02-06T21:38:02.829059Z",
     "start_time": "2025-02-06T21:38:02.826085Z"
    }
   },
   "cell_type": "code",
   "source": [
    "for i in nx.strongly_connected_components(G):\n",
    "    print(i)"
   ],
   "id": "ba678151d648b088",
   "outputs": [
    {
     "name": "stdout",
     "output_type": "stream",
     "text": [
      "{'ShatSat412'}\n",
      "{'LQwD-Canada'}\n",
      "{'Business Cloud'}\n",
      "{'Authenticity'}\n",
      "{'HanzoNode'}\n",
      "{'VeniceForever'}\n"
     ]
    }
   ],
   "execution_count": 21
  },
  {
   "metadata": {
    "ExecuteTime": {
     "end_time": "2025-02-06T21:38:02.838572Z",
     "start_time": "2025-02-06T21:38:02.829832Z"
    }
   },
   "cell_type": "code",
   "source": [
    "final[\"amount\"] = final[\"amount\"].astype(float)\n",
    "final[\"rate_fee\"] = final[\"rate_fee\"].astype(float)\n",
    "final[\"base_fee\"] = final[\"base_fee\"].astype(float)\n",
    "total_transaction_cost = sum(final[\"amount\"] * final[\"rate_fee\"] + final[\"base_fee\"])\n",
    "perc_cost = (total_transaction_cost * 100) / transaction_amount\n",
    "print(f\"Transacting {transaction_amount} sats costs {total_transaction_cost} ({perc_cost}% of transaction amount)\")\n",
    "print(\"Solver Status: \", results.solver[0][\"System time\"])"
   ],
   "id": "85a5678d800efad8",
   "outputs": [
    {
     "name": "stdout",
     "output_type": "stream",
     "text": [
      "Transacting 2000000 sats costs 404.7722859136418 (0.02023861429568209% of transaction amount)\n",
      "Solver Status:  483.94\n"
     ]
    }
   ],
   "execution_count": 22
  },
  {
   "metadata": {},
   "cell_type": "code",
   "source": [
    "#from collections import Counter\n",
    "#results = [tuple(i) for i in DF_channels_pos[[\"source-alias\", \"destination-alias\"]].to_numpy()]\n",
    "#unwrap = [e for i in results for e in i]\n",
    "#extremes = [j for j in unwrap if Counter(unwrap)[j] == 1]\n",
    "#def return_source(l: list):\n",
    "#    if l[0] in [i for i, j in results]:\n",
    "#        return l[0]\n",
    "#    else: \n",
    "#        return l[1]\n",
    "#sequence = []        \n",
    "#source = return_source(extremes)\n",
    "#sequence.append(source)\n",
    "#while len(sequence) <= len(results):\n",
    "#    for i,j in results:\n",
    "#        if i == sequence[-1]:\n",
    "#            sequence.append(j)\n",
    "#for i in sequence:\n",
    "#    print(\"⬇️\", i)"
   ],
   "id": "6388d7bda8ced731",
   "outputs": [],
   "execution_count": null
  }
 ],
 "metadata": {
  "kernelspec": {
   "display_name": "Python 3",
   "language": "python",
   "name": "python3"
  },
  "language_info": {
   "codemirror_mode": {
    "name": "ipython",
    "version": 2
   },
   "file_extension": ".py",
   "mimetype": "text/x-python",
   "name": "python",
   "nbconvert_exporter": "python",
   "pygments_lexer": "ipython2",
   "version": "2.7.6"
  }
 },
 "nbformat": 4,
 "nbformat_minor": 5
}
