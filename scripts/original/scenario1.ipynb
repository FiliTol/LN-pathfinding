{
 "cells": [
  {
   "metadata": {
    "ExecuteTime": {
     "end_time": "2024-12-27T14:01:43.962013Z",
     "start_time": "2024-12-27T14:01:43.157565Z"
    }
   },
   "cell_type": "code",
   "source": [
    "import pandas as pd\n",
    "from cleaning import create_demand\n",
    "import pyomo.environ as pyo\n",
    "import pyomo"
   ],
   "id": "initial_id",
   "outputs": [],
   "execution_count": 1
  },
  {
   "metadata": {},
   "cell_type": "markdown",
   "source": "# Data import",
   "id": "a4b2795dc42b8269"
  },
  {
   "metadata": {
    "ExecuteTime": {
     "end_time": "2024-12-27T14:01:44.067289Z",
     "start_time": "2024-12-27T14:01:43.963414Z"
    }
   },
   "cell_type": "code",
   "source": [
    "nodes = pd.read_pickle(\"../../data/original/nodes.pkl\")\n",
    "channels = pd.read_pickle(\"../../data/original/channels.pkl\")"
   ],
   "id": "20748e4222156956",
   "outputs": [],
   "execution_count": 2
  },
  {
   "metadata": {},
   "cell_type": "markdown",
   "source": "## Modeling",
   "id": "7df6d25eef847cf7"
  },
  {
   "metadata": {
    "ExecuteTime": {
     "end_time": "2024-12-27T14:01:44.073206Z",
     "start_time": "2024-12-27T14:01:44.068261Z"
    }
   },
   "cell_type": "code",
   "source": "pyomo.common.timing.report_timing()",
   "id": "4a4e07a12106f0f2",
   "outputs": [
    {
     "data": {
      "text/plain": [
       "<pyomo.common.timing.report_timing at 0x7fa2c2e2e4a0>"
      ]
     },
     "execution_count": 3,
     "metadata": {},
     "output_type": "execute_result"
    }
   ],
   "execution_count": 3
  },
  {
   "metadata": {
    "ExecuteTime": {
     "end_time": "2024-12-27T14:01:44.086075Z",
     "start_time": "2024-12-27T14:01:44.074155Z"
    }
   },
   "cell_type": "code",
   "source": [
    "# Multiplication to set the same base unit for all computations\n",
    "channels[\"capacity\"] = channels[\"capacity\"] * 1000000\n",
    "channels[\"base_fee\"] = channels[\"base_fee\"] * 1000000"
   ],
   "id": "eb5330e8d98289ec",
   "outputs": [],
   "execution_count": 4
  },
  {
   "metadata": {
    "ExecuteTime": {
     "end_time": "2024-12-27T14:01:45.641895Z",
     "start_time": "2024-12-27T14:01:44.088301Z"
    }
   },
   "cell_type": "code",
   "source": [
    "model = pyo.ConcreteModel(name=\"Min cost flow problem\")\n",
    "model.NODES = pyo.Set(initialize=nodes.index)\n",
    "model.CHANNELS = pyo.Set(initialize=[(channels.loc[i, \"node1_pub\"], channels.loc[i, \"node2_pub\"]) for i in channels.index])"
   ],
   "id": "52bc701c57020ae",
   "outputs": [
    {
     "name": "stdout",
     "output_type": "stream",
     "text": [
      "           0 seconds to construct Block ConcreteModel; 1 index total\n",
      "        0.02 seconds to construct Set NODES; 1 index total\n",
      "        0.20 seconds to construct Set CHANNELS; 1 index total\n"
     ]
    }
   ],
   "execution_count": 5
  },
  {
   "metadata": {
    "ExecuteTime": {
     "end_time": "2024-12-27T14:01:45.660094Z",
     "start_time": "2024-12-27T14:01:45.643255Z"
    }
   },
   "cell_type": "code",
   "source": [
    "nodes = create_demand(nodes, 500000,\n",
    "                      source=\"02b4098c3116124c0c4105295d3d2e65927d46e98e248d84cb6119da57e4ae31e3\",destination=\"0202f00d5f5c91a3c79113851b162c2b75f2cbd9fb2378fb4a4ce92d5ba1e63e08\")"
   ],
   "id": "71f0e54edb55901d",
   "outputs": [
    {
     "name": "stdout",
     "output_type": "stream",
     "text": [
      "Transaction of 500000 sats.\n",
      "Sender: VeniceForever\n",
      "Receiver: ShatSat412.\n"
     ]
    }
   ],
   "execution_count": 6
  },
  {
   "metadata": {
    "ExecuteTime": {
     "end_time": "2024-12-27T14:01:45.912875Z",
     "start_time": "2024-12-27T14:01:45.661342Z"
    }
   },
   "cell_type": "code",
   "source": [
    "model.x = pyo.Var(model.CHANNELS, domain=pyo.Binary)\n",
    "model.a = pyo.Var(model.CHANNELS, domain=pyo.NonNegativeReals, bounds=(0, max(nodes[\"demand\"])))"
   ],
   "id": "db6bf92632e748f7",
   "outputs": [
    {
     "name": "stdout",
     "output_type": "stream",
     "text": [
      "        0.12 seconds to construct Var x; 89898 indices total\n",
      "        0.12 seconds to construct Var a; 89898 indices total\n"
     ]
    }
   ],
   "execution_count": 7
  },
  {
   "metadata": {
    "ExecuteTime": {
     "end_time": "2024-12-27T14:01:45.962707Z",
     "start_time": "2024-12-27T14:01:45.914160Z"
    }
   },
   "cell_type": "code",
   "source": [
    "channels.reset_index(inplace=True)\n",
    "channels.set_index([\"node1_pub\", \"node2_pub\"], inplace=True)\n",
    "channels.sort_index(inplace=True)"
   ],
   "id": "5d69bcd9f4cf6b47",
   "outputs": [],
   "execution_count": 8
  },
  {
   "metadata": {},
   "cell_type": "markdown",
   "source": "### Objective function",
   "id": "75fbeb57061b26ae"
  },
  {
   "metadata": {
    "ExecuteTime": {
     "end_time": "2024-12-27T14:01:53.769860Z",
     "start_time": "2024-12-27T14:01:45.963677Z"
    }
   },
   "cell_type": "code",
   "source": [
    "#def objective_function(model: pyo.ConcreteModel):\n",
    "#    return sum(model.a[i] * channels.loc[i, \"rate_fee\"] for i in model.CHANNELS) + sum(model.x[i] * channels.loc[i, \"base_fee\"] for i in model.CHANNELS)\n",
    "\n",
    "def objective_function(model: pyo.ConcreteModel):\n",
    "    return sum(model.a[i] * channels.loc[i, \"rate_fee\"] + model.x[i] * channels.loc[i, \"base_fee\"] for i in model.CHANNELS)\n",
    "\n",
    "model.totalCost = pyo.Objective(rule=objective_function(model), sense=pyo.minimize)"
   ],
   "id": "f45ec00f2444e9d1",
   "outputs": [
    {
     "name": "stdout",
     "output_type": "stream",
     "text": [
      "           0 seconds to construct Objective totalCost; 1 index total\n"
     ]
    }
   ],
   "execution_count": 9
  },
  {
   "metadata": {},
   "cell_type": "markdown",
   "source": [
    "### Constraints\n",
    "\n",
    "#### Symmetric channel flow rule\n",
    "\n",
    "This constraint enforces the symmetry between the number of channel incoming and outgoing from an intermediary node (excluding source and destination nodes)\n",
    "\n",
    "$$\n",
    "\\sum_{(i,n) \\in E} x_{i,n} = \\sum_{(n,j) \\in E} x_{n,j} \\text{ } \\forall n \\in V \\bigwedge i \\ne \\{n, s, d\\}\n",
    "$$\n",
    "\n",
    "where $s$ is the source node, with a negative demand and $d$ is the destination node, with positive demand."
   ],
   "id": "861b0daa9b9cba75"
  },
  {
   "metadata": {
    "ExecuteTime": {
     "end_time": "2024-12-27T14:01:54.243846Z",
     "start_time": "2024-12-27T14:01:53.770708Z"
    }
   },
   "cell_type": "code",
   "source": [
    "s = nodes[nodes[\"demand\"] < 0].index.values\n",
    "d = nodes[nodes[\"demand\"] > 0].index.values\n",
    "intermediaries = [(i, j) for i, j in channels.index if i != s and j != d]"
   ],
   "id": "fb28e372cf7ca6b5",
   "outputs": [],
   "execution_count": 10
  },
  {
   "metadata": {
    "ExecuteTime": {
     "end_time": "2024-12-27T14:02:45.023153Z",
     "start_time": "2024-12-27T14:01:54.244801Z"
    }
   },
   "cell_type": "code",
   "source": [
    "def number_channels_rule(model: pyo.ConcreteModel, n):\n",
    "    incoming = [model.x[(i, j)] for i, j in intermediaries if j == n]\n",
    "    outgoing = [model.x[(i, j)] for i, j in intermediaries if i == n]\n",
    "    return sum(incoming) == sum(outgoing)\n",
    "\n",
    "model.NumberChannelsConstraint = pyo.Constraint(model.NODES, rule=number_channels_rule, name=\"Number channels constraint\")"
   ],
   "id": "f030e01165abfbbd",
   "outputs": [
    {
     "name": "stdout",
     "output_type": "stream",
     "text": [
      "       50.77 seconds to construct Constraint NumberChannelsConstraint; 11984 indices total\n"
     ]
    }
   ],
   "execution_count": 11
  },
  {
   "metadata": {},
   "cell_type": "markdown",
   "source": [
    "#### Capacity constraint\n",
    "\n",
    "$$amount_{i,j} \\le capacity_{i,j} \\times x_{i,j} \\text{ } \\forall (i,j) \\in E$$"
   ],
   "id": "e5ea238f92c81afb"
  },
  {
   "metadata": {
    "ExecuteTime": {
     "end_time": "2024-12-27T14:02:49.700533Z",
     "start_time": "2024-12-27T14:02:45.024338Z"
    }
   },
   "cell_type": "code",
   "source": [
    "def capacity_constraint(model: pyo.ConcreteModel, a, b):\n",
    "    return model.a[(a, b)] <= channels.loc[(a, b), \"capacity\"] * model.x[(a, b)]\n",
    "\n",
    "model.CapacityConstraint = pyo.Constraint(model.CHANNELS, rule=capacity_constraint, name=\"Capacity constraint\")"
   ],
   "id": "7d46c6418b15675a",
   "outputs": [
    {
     "name": "stdout",
     "output_type": "stream",
     "text": [
      "        4.67 seconds to construct Constraint CapacityConstraint; 89898 indices total\n"
     ]
    }
   ],
   "execution_count": 12
  },
  {
   "metadata": {},
   "cell_type": "markdown",
   "source": [
    "#### Flow balance constraint\n",
    "\n",
    "$$\\sum_{(s,i) \\in E} amount_{s,i} - \\sum_{(i,t) \\in E} amount_{i,d} = b_i \\text{ } \\forall i \\in V$$\n",
    "\n",
    "where $s$ is the source node, $d$ is the destination node, $i$ is every intermediary node\n"
   ],
   "id": "7adcde34bbdb4878"
  },
  {
   "metadata": {
    "ExecuteTime": {
     "end_time": "2024-12-27T14:02:52.937692Z",
     "start_time": "2024-12-27T14:02:49.701354Z"
    }
   },
   "cell_type": "code",
   "source": [
    "channels.reset_index(inplace=True)\n",
    "channels.set_index(\"channel_id\", inplace=True)\n",
    "\n",
    "def flow_balance_constraint(model: pyo.ConcreteModel, n: str):\n",
    "    InFlow = sum(model.a[(channels.loc[a, \"node1_pub\"], channels.loc[a, \"node2_pub\"])] for a in nodes.loc[n, 'incoming_channels'])\n",
    "    OutFlow = sum(model.a[(channels.loc[a, \"node1_pub\"], channels.loc[a, \"node2_pub\"])] for a in nodes.loc[n, 'outgoing_channels'])\n",
    "    return  OutFlow + nodes.loc[n, \"demand\"] == InFlow\n",
    "\n",
    "model.FlowBalanceConstraint = pyo.Constraint(model.NODES, rule=flow_balance_constraint, name=\"Flow balance constrain\")\n",
    "\n",
    "channels.reset_index(inplace=True)\n",
    "channels.set_index([\"node1_pub\", \"node2_pub\"], inplace=True)\n",
    "channels.sort_index(inplace=True) "
   ],
   "id": "d2b57765c3b53fc5",
   "outputs": [
    {
     "name": "stdout",
     "output_type": "stream",
     "text": [
      "        3.20 seconds to construct Constraint FlowBalanceConstraint; 11984 indices total\n"
     ]
    }
   ],
   "execution_count": 13
  },
  {
   "metadata": {},
   "cell_type": "markdown",
   "source": "## Solving the model",
   "id": "b8bc8c88087daf77"
  },
  {
   "metadata": {
    "ExecuteTime": {
     "end_time": "2024-12-27T14:14:01.539940Z",
     "start_time": "2024-12-27T14:02:52.940520Z"
    }
   },
   "cell_type": "code",
   "source": [
    "opt = pyo.SolverFactory('cbc')\n",
    "results = opt.solve(model, tee=True, keepfiles=True)\n",
    "\n",
    "if (results.solver.status == pyo.SolverStatus.ok) and (results.solver.termination_condition == pyo.TerminationCondition.optimal):\n",
    "    print('\\nOptimal solution found')\n",
    "elif results.solver.termination_condition == pyo.TerminationCondition.feasible:\n",
    "    print('\\nFeasible but not proven optimal solution found')\n",
    "elif results.solver.termination_condition == pyo.TerminationCondition.infeasible:\n",
    "    raise Exception(\"The model is infeasible\")\n",
    "else:\n",
    "    print('\\nSolver Status: ',  results.solver.status)\n",
    "    raise Exception(results.solver.status)\n",
    "\n",
    "print('\\nObject function value = ', model.Objective())\n"
   ],
   "id": "f88c7c0611694b3b",
   "outputs": [
    {
     "name": "stdout",
     "output_type": "stream",
     "text": [
      "           0 seconds to construct Var ONE_VAR_CONSTANT; 1 index total\n",
      "      [    2.18] Generated LP representation\n",
      "Solver log file: '/tmp/tmpv671itmm.cbc.log'\n",
      "Solver solution file: '/tmp/tmprqyjx15z.pyomo.soln'\n",
      "Solver problem files: ('/tmp/tmprqyjx15z.pyomo.lp',)\n",
      "Welcome to the CBC MILP Solver \n",
      "Version: 2.10.8 \n",
      "Build Date: May  9 2022 \n",
      "\n",
      "command line - /usr/bin/cbc -printingOptions all -import /tmp/tmprqyjx15z.pyomo.lp -stat=1 -solve -solu /tmp/tmprqyjx15z.pyomo.soln (default strategy 1)\n",
      "Option for printingOptions changed from normal to all\n",
      "Presolve 95149 (-18717) rows, 166362 (-13434) columns and 476850 (-61370) elements\n",
      "Statistics for presolved model\n",
      "Original problem has 89898 integers (89898 of which binary)\n",
      "Presolved problem has 83179 integers (83179 of which binary)\n",
      "==== 38051 zero objective 3917 different\n",
      "==== absolute objective values 3917 different\n",
      "==== for integers 31675 zero objective 1022 different\n",
      "==== for integers absolute objective values 1022 different\n",
      "===== end objective counts\n",
      "\n",
      "\n",
      "Problem has 95149 rows, 166362 columns (128311 with objective) and 476850 elements\n",
      "There are 10596 singletons with objective \n",
      "Column breakdown:\n",
      "0 of type 0.0->inf, 83183 of type 0.0->up, 0 of type lo->inf, \n",
      "0 of type lo->up, 0 of type free, 0 of type fixed, \n",
      "0 of type -inf->0.0, 0 of type -inf->up, 83179 of type 0.0->1.0 \n",
      "Row breakdown:\n",
      "11968 of type E 0.0, 0 of type E 1.0, 0 of type E -1.0, \n",
      "2 of type E other, 0 of type G 0.0, 0 of type G 1.0, \n",
      "0 of type G other, 83179 of type L 0.0, 0 of type L 1.0, \n",
      "0 of type L other, 0 of type Range 0.0->1.0, 0 of type Range other, \n",
      "0 of type Free \n",
      "Continuous objective value is 5.09146e+07 - 19.53 seconds\n",
      "Cgl0002I 34 variables fixed\n",
      "Cgl0004I processed model has 89866 rows, 155796 columns (77896 integer (77896 of which binary)) and 466284 elements\n",
      "Cbc0038I Initial state - 11 integers unsatisfied sum - 5.5\n",
      "Cbc0038I Pass   1: (27.42 seconds) suminf.    3.00000 (6) obj. 5.335e+07 iterations 4299\n",
      "Cbc0038I Pass   2: (30.68 seconds) suminf.    2.00000 (4) obj. 5.385e+07 iterations 1855\n",
      "Cbc0038I Pass   3: (36.30 seconds) suminf.    2.00000 (4) obj. 5.385e+07 iterations 3641\n",
      "Cbc0038I Pass   4: (41.62 seconds) suminf.    1.50000 (3) obj. 8.56e+07 iterations 3321\n",
      "Cbc0038I Pass   5: (42.76 seconds) suminf.    1.50000 (3) obj. 8.56e+07 iterations 844\n",
      "Cbc0038I Pass   6: (46.90 seconds) suminf.    1.50000 (3) obj. 8.56e+07 iterations 2887\n",
      "Cbc0038I Pass   7: (53.56 seconds) suminf.    1.50000 (3) obj. 8.56e+07 iterations 3261\n",
      "Cbc0038I Pass   8: (56.18 seconds) suminf.    1.50000 (3) obj. 1.0093e+10 iterations 1905\n",
      "Cbc0038I Pass   9: (60.26 seconds) suminf.    1.50000 (3) obj. 1.0093e+10 iterations 2570\n",
      "Cbc0038I Pass  10: (62.32 seconds) suminf.    1.50000 (3) obj. 1.0093e+10 iterations 1066\n",
      "Cbc0038I Pass  11: (65.36 seconds) suminf.    3.50000 (7) obj. 1.01059e+10 iterations 1728\n",
      "Cbc0038I Pass  12: (70.09 seconds) suminf.    1.50000 (3) obj. 1.0104e+10 iterations 2721\n",
      "Cbc0038I Pass  13: (72.15 seconds) suminf.    1.50000 (3) obj. 1.0104e+10 iterations 861\n",
      "Cbc0038I Pass  14: (74.52 seconds) suminf.    1.50000 (3) obj. 1.0104e+10 iterations 1175\n",
      "Cbc0038I Pass  15: (78.06 seconds) suminf.    1.50000 (3) obj. 1.0104e+10 iterations 1651\n",
      "Cbc0038I Pass  16: (79.60 seconds) suminf.    1.50000 (3) obj. 1.01061e+10 iterations 741\n",
      "Cbc0038I Pass  17: (81.93 seconds) suminf.    1.50000 (3) obj. 1.01061e+10 iterations 1407\n",
      "Cbc0038I Pass  18: (84.52 seconds) suminf.    1.50000 (3) obj. 1.01061e+10 iterations 1338\n",
      "Cbc0038I Pass  19: (86.30 seconds) suminf.    1.50000 (3) obj. 1.01171e+10 iterations 798\n",
      "Cbc0038I Pass  20: (88.28 seconds) suminf.    1.50000 (3) obj. 1.01282e+10 iterations 934\n",
      "Cbc0038I Pass  21: (90.41 seconds) suminf.    1.50000 (3) obj. 1.01282e+10 iterations 994\n",
      "Cbc0038I Pass  22: (92.50 seconds) suminf.    1.50000 (3) obj. 1.01313e+10 iterations 907\n",
      "Cbc0038I Pass  23: (94.78 seconds) suminf.    1.50000 (3) obj. 1.01313e+10 iterations 1029\n",
      "Cbc0038I Pass  24: (97.52 seconds) suminf.    1.50000 (3) obj. 1.01313e+10 iterations 1510\n",
      "Cbc0038I Pass  25: (100.18 seconds) suminf.    2.50000 (5) obj. 1.0402e+10 iterations 1477\n",
      "Cbc0038I Pass  26: (101.56 seconds) suminf.    1.50000 (3) obj. 1.03674e+10 iterations 578\n",
      "Cbc0038I Pass  27: (103.76 seconds) suminf.    1.50000 (3) obj. 1.03674e+10 iterations 1028\n",
      "Cbc0038I Pass  28: (106.23 seconds) suminf.    0.00000 (0) obj. 1.03674e+10 iterations 1310\n",
      "Cbc0038I Solution found of 1.03674e+10\n",
      "Cbc0038I Relaxing continuous gives 1.00905e+10\n",
      "Cbc0038I Rounding solution of 8.61e+07 is better than previous of 1.00905e+10\n",
      "\n",
      "Cbc0038I Before mini branch and bound, 77817 integers at bound fixed and 71383 continuous\n",
      "Cbc0038I Full problem 89866 rows 155796 columns, reduced to 5 rows 8 columns\n",
      "Cbc0038I Mini branch and bound improved solution from 8.61e+07 to 5.36e+07 (159.64 seconds)\n",
      "Cbc0038I Round again with cutoff of 5.3575e+07\n",
      "Cbc0038I Reduced cost fixing fixed 34574 variables on major pass 2\n",
      "Cbc0038I Pass  29: (162.20 seconds) suminf.    3.00000 (6) obj. 5.335e+07 iterations 2742\n",
      "Cbc0038I Pass  30: (166.61 seconds) suminf.    2.55000 (7) obj. 5.3575e+07 iterations 6831\n",
      "Cbc0038I Pass  31: (180.19 seconds) suminf.    3.00000 (8) obj. 5.3575e+07 iterations 14035\n",
      "Cbc0038I Pass  32: (182.02 seconds) suminf.    3.00000 (8) obj. 5.3575e+07 iterations 962\n",
      "Cbc0038I Pass  33: (191.31 seconds) suminf.    2.77500 (8) obj. 5.3575e+07 iterations 9870\n",
      "Cbc0038I Pass  34: (193.21 seconds) suminf.    2.55000 (8) obj. 5.3575e+07 iterations 1054\n",
      "Cbc0038I Pass  35: (218.76 seconds) suminf.    0.00000 (0) obj. 5.3575e+07 iterations 17794\n",
      "Cbc0038I Solution found of 5.3575e+07\n",
      "Cbc0038I Relaxing continuous gives 5.35e+07\n",
      "Cbc0038I Before mini branch and bound, 77873 integers at bound fixed and 62905 continuous\n",
      "Cbc0038I Full problem 89866 rows 155796 columns, reduced to 12 rows 13 columns\n",
      "Cbc0038I Mini branch and bound did not improve solution (285.89 seconds)\n",
      "Cbc0038I Round again with cutoff of 5.347e+07\n",
      "Cbc0038I Reduced cost fixing fixed 34982 variables on major pass 3\n",
      "Cbc0038I Pass  36: (289.01 seconds) suminf.    3.00000 (6) obj. 5.335e+07 iterations 4554\n",
      "Cbc0038I Pass  37: (296.57 seconds) suminf.    2.76000 (7) obj. 5.347e+07 iterations 8619\n",
      "Cbc0038I Pass  38: (311.04 seconds) suminf.    1.56000 (6) obj. 5.347e+07 iterations 13916\n",
      "Cbc0038I Pass  39: (326.17 seconds) suminf.    1.56000 (6) obj. 5.347e+07 iterations 14644\n",
      "Cbc0038I Pass  40: (328.49 seconds) suminf.    3.00002 (8) obj. 5.347e+07 iterations 1399\n",
      "Cbc0038I Pass  41: (330.26 seconds) suminf.    3.00002 (8) obj. 5.347e+07 iterations 888\n",
      "Cbc0038I Pass  42: (343.32 seconds) suminf.    3.00000 (6) obj. 5.347e+07 iterations 7715\n",
      "Cbc0038I Pass  43: (344.96 seconds) suminf.    3.00000 (6) obj. 5.347e+07 iterations 685\n",
      "Cbc0038I Pass  44: (348.62 seconds) suminf.    3.00000 (6) obj. 5.347e+07 iterations 3299\n",
      "Cbc0038I Pass  45: (351.39 seconds) suminf.    2.00000 (4) obj. 5.347e+07 iterations 2333\n",
      "Cbc0038I Pass  46: (354.29 seconds) suminf.    2.00000 (4) obj. 5.347e+07 iterations 1916\n",
      "Cbc0038I Pass  47: (359.76 seconds) suminf.    1.52000 (4) obj. 5.347e+07 iterations 7077\n",
      "Cbc0038I Pass  48: (374.75 seconds) suminf.    1.04000 (4) obj. 5.347e+07 iterations 14361\n",
      "Cbc0038I Pass  49: (376.09 seconds) suminf.    2.01778 (6) obj. 5.347e+07 iterations 628\n",
      "Cbc0038I Pass  50: (383.74 seconds) suminf.    1.04000 (4) obj. 5.347e+07 iterations 5866\n",
      "Cbc0038I Pass  51: (388.01 seconds) suminf.    2.35400 (9) obj. 5.347e+07 iterations 2506\n",
      "Cbc0038I Pass  52: (394.76 seconds) suminf.    1.05600 (4) obj. 5.347e+07 iterations 5459\n",
      "Cbc0038I Pass  53: (400.73 seconds) suminf.    2.00000 (6) obj. 5.347e+07 iterations 5463\n",
      "Cbc0038I Pass  54: (413.28 seconds) suminf.    3.08000 (10) obj. 5.347e+07 iterations 9170\n",
      "Cbc0038I Pass  55: (415.29 seconds) suminf.    2.00000 (4) obj. 5.347e+07 iterations 617\n",
      "Cbc0038I Pass  56: (420.38 seconds) suminf.    1.85600 (4) obj. 5.347e+07 iterations 3353\n",
      "Cbc0038I Pass  57: (434.05 seconds) suminf.    1.85600 (4) obj. 5.347e+07 iterations 12436\n",
      "Cbc0038I Pass  58: (435.17 seconds) suminf.    2.00000 (4) obj. 5.347e+07 iterations 629\n",
      "Cbc0038I Pass  59: (441.48 seconds) suminf.    3.50220 (9) obj. 5.347e+07 iterations 3009\n",
      "Cbc0038I Pass  60: (445.48 seconds) suminf.    3.00220 (8) obj. 5.347e+07 iterations 3496\n",
      "Cbc0038I Pass  61: (448.79 seconds) suminf.    2.99100 (8) obj. 5.347e+07 iterations 3261\n",
      "Cbc0038I Pass  62: (453.47 seconds) suminf.    2.00000 (5) obj. 5.347e+07 iterations 5654\n",
      "Cbc0038I Pass  63: (461.07 seconds) suminf.    1.85600 (4) obj. 5.347e+07 iterations 8328\n",
      "Cbc0038I Pass  64: (469.69 seconds) suminf.    1.85600 (4) obj. 5.347e+07 iterations 8454\n",
      "Cbc0038I Pass  65: (474.52 seconds) suminf.    2.00016 (6) obj. 5.347e+07 iterations 4236\n",
      "Cbc0038I No solution found this major pass\n",
      "Cbc0038I Before mini branch and bound, 77830 integers at bound fixed and 48164 continuous\n",
      "Cbc0038I Mini branch and bound did not improve solution (482.98 seconds)\n",
      "Cbc0038I After 482.99 seconds - Feasibility pump exiting with objective of 5.35e+07 - took 460.74 seconds\n",
      "Cbc0012I Integer solution of 53500000 found by feasibility pump after 0 iterations and 0 nodes (502.70 seconds)\n",
      "Cbc0038I Full problem 89866 rows 155796 columns, reduced to 6 rows 9 columns\n",
      "Cbc0013I At root node, 0 cuts changed objective from 53350000 to 53350000 in 1 passes\n",
      "Cbc0014I Cut generator 0 (Probing) - 0 row cuts average 0.0 elements, 16 column cuts (16 active)  in 11.160 seconds - new frequency is 1\n",
      "Cbc0014I Cut generator 1 (Gomory) - 0 row cuts average 0.0 elements, 0 column cuts (0 active)  in 0.013 seconds - new frequency is -100\n",
      "Cbc0014I Cut generator 2 (Knapsack) - 0 row cuts average 0.0 elements, 0 column cuts (0 active)  in 0.052 seconds - new frequency is -100\n",
      "Cbc0014I Cut generator 3 (Clique) - 0 row cuts average 0.0 elements, 0 column cuts (0 active)  in 0.001 seconds - new frequency is -100\n",
      "Cbc0014I Cut generator 4 (MixedIntegerRounding2) - 0 row cuts average 0.0 elements, 0 column cuts (0 active)  in 0.015 seconds - new frequency is -100\n",
      "Cbc0014I Cut generator 5 (FlowCover) - 0 row cuts average 0.0 elements, 0 column cuts (0 active)  in 0.007 seconds - new frequency is -100\n",
      "Cbc0010I After 0 nodes, 1 on tree, 53500000 best solution, best possible 53350000 (561.26 seconds)\n",
      "Cbc0001I Search completed - best objective 53500000.00000001, took 357 iterations and 4 nodes (623.77 seconds)\n",
      "Cbc0032I Strong branching done 48 times (2091 iterations), fathomed 2 nodes and fixed 1 variables\n",
      "Cbc0035I Maximum depth 1, 34928 variables fixed on reduced cost\n",
      "Cuts at root node changed objective from 5.335e+07 to 5.335e+07\n",
      "Probing was tried 4 times and created 16 cuts of which 0 were active after adding rounds of cuts (11.210 seconds)\n",
      "Gomory was tried 1 times and created 0 cuts of which 0 were active after adding rounds of cuts (0.013 seconds)\n",
      "Knapsack was tried 1 times and created 0 cuts of which 0 were active after adding rounds of cuts (0.052 seconds)\n",
      "Clique was tried 1 times and created 0 cuts of which 0 were active after adding rounds of cuts (0.001 seconds)\n",
      "MixedIntegerRounding2 was tried 1 times and created 0 cuts of which 0 were active after adding rounds of cuts (0.015 seconds)\n",
      "FlowCover was tried 1 times and created 0 cuts of which 0 were active after adding rounds of cuts (0.007 seconds)\n",
      "TwoMirCuts was tried 1 times and created 0 cuts of which 0 were active after adding rounds of cuts (0.031 seconds)\n",
      "ZeroHalf was tried 1 times and created 0 cuts of which 0 were active after adding rounds of cuts (0.023 seconds)\n",
      "\n",
      "Result - Optimal solution found\n",
      "\n",
      "Objective value:                53500000.00000000\n",
      "Enumerated nodes:               4\n",
      "Total iterations:               357\n",
      "Time (CPU seconds):             663.05\n",
      "Time (Wallclock seconds):       663.49\n",
      "\n",
      "Total time (CPU seconds):       664.42   (Wallclock seconds):       664.92\n",
      "\n",
      "\n",
      "Optimal solution found\n",
      "\n",
      "Object function value =  <pyomo.core.base.block._generic_component_decorator object at 0x7fa2fd4fa7d0>\n"
     ]
    }
   ],
   "execution_count": 14
  },
  {
   "metadata": {
    "ExecuteTime": {
     "end_time": "2024-12-27T14:14:01.601785Z",
     "start_time": "2024-12-27T14:14:01.541070Z"
    }
   },
   "cell_type": "code",
   "source": [
    "from decimal import Decimal\n",
    "pd.set_option('display.max_colwidth', 10000000000000000000000000000000000000000000000000000)\n",
    "DF_channels = pd.DataFrame()\n",
    "c = 0\n",
    "for index, value in model.a.extract_values().items():\n",
    "    if value > 0.1:\n",
    "        DF_channels.loc[c, \"source\"] = index[0]\n",
    "        DF_channels.loc[c, \"destination\"] = index[1]\n",
    "        try:\n",
    "            DF_channels.loc[c, \"source-alias\"] = nodes.loc[index[0], \"alias\"]\n",
    "        except KeyError:\n",
    "            print(\"Source alias not found in nodes database: placeholder inserted\")\n",
    "            DF_channels.loc[c, \"source-alias\"] = \"source-alias\"\n",
    "            pass\n",
    "        try:\n",
    "            DF_channels.loc[c, \"destination-alias\"] = nodes.loc[index[1], \"alias\"]\n",
    "        except KeyError:\n",
    "            print(\"Destination alias not found in nodes database: placeholder inserted\")\n",
    "            DF_channels.loc[c, \"destination-alias\"] = \"destination-alias\"\n",
    "            pass\n",
    "        DF_channels.loc[c, \"capacity\"] = Decimal(channels.loc[index, \"capacity\"]/1000000)\n",
    "        DF_channels.loc[c, \"amount\"] = Decimal(value/1000000)\n",
    "        DF_channels.loc[c, \"base_fee\"] = Decimal(channels.loc[(index[0], index[1]), \"base_fee\"]/1000000)\n",
    "        DF_channels.loc[c, \"rate_fee\"] = channels.loc[(index[0], index[1]), \"rate_fee\"]\n",
    "        #DF_channels.loc[c, \"used_fl\"] = channels.loc[]\n",
    "        c += 1\n",
    "\n",
    "DF_channels_pos = DF_channels[DF_channels[\"amount\"]!=0]"
   ],
   "id": "b7051d6dc41ce1a0",
   "outputs": [],
   "execution_count": 15
  },
  {
   "metadata": {
    "ExecuteTime": {
     "end_time": "2024-12-27T14:14:01.610820Z",
     "start_time": "2024-12-27T14:14:01.602793Z"
    }
   },
   "cell_type": "code",
   "source": "DF_channels[DF_channels[\"amount\"]> DF_channels[\"capacity\"]]",
   "id": "591cfe14bef33883",
   "outputs": [
    {
     "data": {
      "text/plain": [
       "Empty DataFrame\n",
       "Columns: [source, destination, source-alias, destination-alias, capacity, amount, base_fee, rate_fee]\n",
       "Index: []"
      ],
      "text/html": [
       "<div>\n",
       "<style scoped>\n",
       "    .dataframe tbody tr th:only-of-type {\n",
       "        vertical-align: middle;\n",
       "    }\n",
       "\n",
       "    .dataframe tbody tr th {\n",
       "        vertical-align: top;\n",
       "    }\n",
       "\n",
       "    .dataframe thead th {\n",
       "        text-align: right;\n",
       "    }\n",
       "</style>\n",
       "<table border=\"1\" class=\"dataframe\">\n",
       "  <thead>\n",
       "    <tr style=\"text-align: right;\">\n",
       "      <th></th>\n",
       "      <th>source</th>\n",
       "      <th>destination</th>\n",
       "      <th>source-alias</th>\n",
       "      <th>destination-alias</th>\n",
       "      <th>capacity</th>\n",
       "      <th>amount</th>\n",
       "      <th>base_fee</th>\n",
       "      <th>rate_fee</th>\n",
       "    </tr>\n",
       "  </thead>\n",
       "  <tbody>\n",
       "  </tbody>\n",
       "</table>\n",
       "</div>"
      ]
     },
     "execution_count": 16,
     "metadata": {},
     "output_type": "execute_result"
    }
   ],
   "execution_count": 16
  },
  {
   "metadata": {
    "ExecuteTime": {
     "end_time": "2024-12-27T14:14:02.750562Z",
     "start_time": "2024-12-27T14:14:01.612253Z"
    }
   },
   "cell_type": "code",
   "source": [
    "DF_fixed = pd.DataFrame()\n",
    "c = 0\n",
    "for index, value in model.x.extract_values().items():\n",
    "    if value != 0:\n",
    "        DF_fixed.loc[c, \"source\"] = index[0]\n",
    "        DF_fixed.loc[c, \"destination\"] = index[1]\n",
    "        DF_fixed.loc[c, \"used\"] = Decimal(value)\n",
    "        c += 1\n",
    "\n",
    "DF_fixed_pos = DF_fixed[DF_fixed[\"used\"]!=0]\n",
    "DF_fixed_pos"
   ],
   "id": "4150b1232fe02328",
   "outputs": [
    {
     "data": {
      "text/plain": [
       "                                                                  source  \\\n",
       "0     02001828ca7eb8e44d4d78b5c1ea609cd3744be823c22cd69d895eff2f9345892d   \n",
       "1     0204edf87f5ee7d4e29a43756c87ff4f3152f3ea5de34867df6a665a3920b37e21   \n",
       "2     02055838411dba34c72329e9872fc66d2f0dc0292c049d1313122cdec12c8d5883   \n",
       "3     02062a64c5d381c77f8ef679133e6207b995d33914c97c072f854eda8ef4e6ea78   \n",
       "4     0207271bbe0a744d5ec18e3aecd54904feb5e498c2fa65e4802b7710f26b61daa2   \n",
       "...                                                                  ...   \n",
       "1419  03fd8cc2d81e7f52c05b799372c2dc16120fe1723f3d8dbd26bca8ab26bbddffad   \n",
       "1420  03fe824c5b3a0fb78e7f2844bfd052c8fe729b48ce1ffb15ce7aeef9a63e5ee761   \n",
       "1421  03fee917a3c0636f95d2529985a57ed185da42f35413f86a9e5d2d109100f15bd1   \n",
       "1422  03ff3e6c4078f9bad09f27100366b1e226f55331a3a66fb30201a7ddbac2b63bfd   \n",
       "1423  03ff5613bcb4cca582dab93b53bd274bc746c9f33c72d4d9e2feb533dd59cb1362   \n",
       "\n",
       "                                                             destination used  \n",
       "0     030b252eb8bb0f5e79af393d26dd5204f3c525af8b84043c4f5fcd7c9482c15a23    1  \n",
       "1     02473eb084d0410351e343547c68dac1961d1c8e18d0da3c1e4888d113d8f8eab8    1  \n",
       "2     0337d0c749f89d24e75427e1fec4ce2ed4f7d5a38c2196bc69825aa9e439696ec4    1  \n",
       "3     03bbdf5faaa9cb0ef87fca90fe31df13b9ca6203c264558e006a1c764ac1ea6874    1  \n",
       "4     02315fe3619ffdea2561bcacecada87b226723f471a59fdbfec18c4e84bcf785b2    1  \n",
       "...                                                                  ...  ...  \n",
       "1419  02315fe3619ffdea2561bcacecada87b226723f471a59fdbfec18c4e84bcf785b2    1  \n",
       "1420  030b252eb8bb0f5e79af393d26dd5204f3c525af8b84043c4f5fcd7c9482c15a23    1  \n",
       "1421  03cde60a6323f7122d5178255766e38114b4722ede08f7c9e0c5df9b912cc201d6    1  \n",
       "1422  03c4b52dab7fe8ea9be955f16c8bb0c763c3eb2cbe12867a24dd3f4378d5c0fb92    1  \n",
       "1423  02315fe3619ffdea2561bcacecada87b226723f471a59fdbfec18c4e84bcf785b2    1  \n",
       "\n",
       "[1424 rows x 3 columns]"
      ],
      "text/html": [
       "<div>\n",
       "<style scoped>\n",
       "    .dataframe tbody tr th:only-of-type {\n",
       "        vertical-align: middle;\n",
       "    }\n",
       "\n",
       "    .dataframe tbody tr th {\n",
       "        vertical-align: top;\n",
       "    }\n",
       "\n",
       "    .dataframe thead th {\n",
       "        text-align: right;\n",
       "    }\n",
       "</style>\n",
       "<table border=\"1\" class=\"dataframe\">\n",
       "  <thead>\n",
       "    <tr style=\"text-align: right;\">\n",
       "      <th></th>\n",
       "      <th>source</th>\n",
       "      <th>destination</th>\n",
       "      <th>used</th>\n",
       "    </tr>\n",
       "  </thead>\n",
       "  <tbody>\n",
       "    <tr>\n",
       "      <th>0</th>\n",
       "      <td>02001828ca7eb8e44d4d78b5c1ea609cd3744be823c22cd69d895eff2f9345892d</td>\n",
       "      <td>030b252eb8bb0f5e79af393d26dd5204f3c525af8b84043c4f5fcd7c9482c15a23</td>\n",
       "      <td>1</td>\n",
       "    </tr>\n",
       "    <tr>\n",
       "      <th>1</th>\n",
       "      <td>0204edf87f5ee7d4e29a43756c87ff4f3152f3ea5de34867df6a665a3920b37e21</td>\n",
       "      <td>02473eb084d0410351e343547c68dac1961d1c8e18d0da3c1e4888d113d8f8eab8</td>\n",
       "      <td>1</td>\n",
       "    </tr>\n",
       "    <tr>\n",
       "      <th>2</th>\n",
       "      <td>02055838411dba34c72329e9872fc66d2f0dc0292c049d1313122cdec12c8d5883</td>\n",
       "      <td>0337d0c749f89d24e75427e1fec4ce2ed4f7d5a38c2196bc69825aa9e439696ec4</td>\n",
       "      <td>1</td>\n",
       "    </tr>\n",
       "    <tr>\n",
       "      <th>3</th>\n",
       "      <td>02062a64c5d381c77f8ef679133e6207b995d33914c97c072f854eda8ef4e6ea78</td>\n",
       "      <td>03bbdf5faaa9cb0ef87fca90fe31df13b9ca6203c264558e006a1c764ac1ea6874</td>\n",
       "      <td>1</td>\n",
       "    </tr>\n",
       "    <tr>\n",
       "      <th>4</th>\n",
       "      <td>0207271bbe0a744d5ec18e3aecd54904feb5e498c2fa65e4802b7710f26b61daa2</td>\n",
       "      <td>02315fe3619ffdea2561bcacecada87b226723f471a59fdbfec18c4e84bcf785b2</td>\n",
       "      <td>1</td>\n",
       "    </tr>\n",
       "    <tr>\n",
       "      <th>...</th>\n",
       "      <td>...</td>\n",
       "      <td>...</td>\n",
       "      <td>...</td>\n",
       "    </tr>\n",
       "    <tr>\n",
       "      <th>1419</th>\n",
       "      <td>03fd8cc2d81e7f52c05b799372c2dc16120fe1723f3d8dbd26bca8ab26bbddffad</td>\n",
       "      <td>02315fe3619ffdea2561bcacecada87b226723f471a59fdbfec18c4e84bcf785b2</td>\n",
       "      <td>1</td>\n",
       "    </tr>\n",
       "    <tr>\n",
       "      <th>1420</th>\n",
       "      <td>03fe824c5b3a0fb78e7f2844bfd052c8fe729b48ce1ffb15ce7aeef9a63e5ee761</td>\n",
       "      <td>030b252eb8bb0f5e79af393d26dd5204f3c525af8b84043c4f5fcd7c9482c15a23</td>\n",
       "      <td>1</td>\n",
       "    </tr>\n",
       "    <tr>\n",
       "      <th>1421</th>\n",
       "      <td>03fee917a3c0636f95d2529985a57ed185da42f35413f86a9e5d2d109100f15bd1</td>\n",
       "      <td>03cde60a6323f7122d5178255766e38114b4722ede08f7c9e0c5df9b912cc201d6</td>\n",
       "      <td>1</td>\n",
       "    </tr>\n",
       "    <tr>\n",
       "      <th>1422</th>\n",
       "      <td>03ff3e6c4078f9bad09f27100366b1e226f55331a3a66fb30201a7ddbac2b63bfd</td>\n",
       "      <td>03c4b52dab7fe8ea9be955f16c8bb0c763c3eb2cbe12867a24dd3f4378d5c0fb92</td>\n",
       "      <td>1</td>\n",
       "    </tr>\n",
       "    <tr>\n",
       "      <th>1423</th>\n",
       "      <td>03ff5613bcb4cca582dab93b53bd274bc746c9f33c72d4d9e2feb533dd59cb1362</td>\n",
       "      <td>02315fe3619ffdea2561bcacecada87b226723f471a59fdbfec18c4e84bcf785b2</td>\n",
       "      <td>1</td>\n",
       "    </tr>\n",
       "  </tbody>\n",
       "</table>\n",
       "<p>1424 rows × 3 columns</p>\n",
       "</div>"
      ]
     },
     "execution_count": 17,
     "metadata": {},
     "output_type": "execute_result"
    }
   ],
   "execution_count": 17
  },
  {
   "metadata": {},
   "cell_type": "markdown",
   "source": "### All data about channels on path",
   "id": "1dfb4bcd7e78f159"
  },
  {
   "metadata": {
    "ExecuteTime": {
     "end_time": "2024-12-27T14:14:02.778384Z",
     "start_time": "2024-12-27T14:14:02.752307Z"
    }
   },
   "cell_type": "code",
   "source": [
    "intersection = DF_fixed_pos.merge(DF_channels_pos, on=[\"source\", \"destination\"], how=\"outer\")\n",
    "intersection[intersection[\"amount\"]>0]"
   ],
   "id": "ab555f0c48920c85",
   "outputs": [
    {
     "data": {
      "text/plain": [
       "                                                                  source  \\\n",
       "7     0208d92b2d406094d794b2a6a512f585dbbdee810a870283b9c5bafc4fec8ac0aa   \n",
       "651   02b4098c3116124c0c4105295d3d2e65927d46e98e248d84cb6119da57e4ae31e3   \n",
       "785   02f0c7b731ca40a285d7c12aa1c5c7c7caa4598d3d6d34904c3714cd0d47852640   \n",
       "1084  0364913d18a19c671bb36dd04d6ad5be0fe8f2894314c36a9db3f03c2d414907e1   \n",
       "1324  03c8e5f583585cac1de2b7503a6ccd3c12ba477cfd139cd4905be504c2f48e86bd   \n",
       "\n",
       "                                                             destination used  \\\n",
       "7     0364913d18a19c671bb36dd04d6ad5be0fe8f2894314c36a9db3f03c2d414907e1    1   \n",
       "651   0208d92b2d406094d794b2a6a512f585dbbdee810a870283b9c5bafc4fec8ac0aa    1   \n",
       "785   03c8e5f583585cac1de2b7503a6ccd3c12ba477cfd139cd4905be504c2f48e86bd    1   \n",
       "1084  02f0c7b731ca40a285d7c12aa1c5c7c7caa4598d3d6d34904c3714cd0d47852640    1   \n",
       "1324  0202f00d5f5c91a3c79113851b162c2b75f2cbd9fb2378fb4a4ce92d5ba1e63e08    1   \n",
       "\n",
       "       source-alias destination-alias  capacity  amount base_fee  rate_fee  \n",
       "7            Eprahs       LQwD-Canada   6000000  500000        1  0.000001  \n",
       "651   VeniceForever            Eprahs   1500000  500000        1  0.000000  \n",
       "785        Henwen 🐷            Strike  10000000  500000        0  0.000000  \n",
       "1084    LQwD-Canada          Henwen 🐷  50000000  500000        0  0.000000  \n",
       "1324         Strike        ShatSat412  10000000  500000        1  0.000100  "
      ],
      "text/html": [
       "<div>\n",
       "<style scoped>\n",
       "    .dataframe tbody tr th:only-of-type {\n",
       "        vertical-align: middle;\n",
       "    }\n",
       "\n",
       "    .dataframe tbody tr th {\n",
       "        vertical-align: top;\n",
       "    }\n",
       "\n",
       "    .dataframe thead th {\n",
       "        text-align: right;\n",
       "    }\n",
       "</style>\n",
       "<table border=\"1\" class=\"dataframe\">\n",
       "  <thead>\n",
       "    <tr style=\"text-align: right;\">\n",
       "      <th></th>\n",
       "      <th>source</th>\n",
       "      <th>destination</th>\n",
       "      <th>used</th>\n",
       "      <th>source-alias</th>\n",
       "      <th>destination-alias</th>\n",
       "      <th>capacity</th>\n",
       "      <th>amount</th>\n",
       "      <th>base_fee</th>\n",
       "      <th>rate_fee</th>\n",
       "    </tr>\n",
       "  </thead>\n",
       "  <tbody>\n",
       "    <tr>\n",
       "      <th>7</th>\n",
       "      <td>0208d92b2d406094d794b2a6a512f585dbbdee810a870283b9c5bafc4fec8ac0aa</td>\n",
       "      <td>0364913d18a19c671bb36dd04d6ad5be0fe8f2894314c36a9db3f03c2d414907e1</td>\n",
       "      <td>1</td>\n",
       "      <td>Eprahs</td>\n",
       "      <td>LQwD-Canada</td>\n",
       "      <td>6000000</td>\n",
       "      <td>500000</td>\n",
       "      <td>1</td>\n",
       "      <td>0.000001</td>\n",
       "    </tr>\n",
       "    <tr>\n",
       "      <th>651</th>\n",
       "      <td>02b4098c3116124c0c4105295d3d2e65927d46e98e248d84cb6119da57e4ae31e3</td>\n",
       "      <td>0208d92b2d406094d794b2a6a512f585dbbdee810a870283b9c5bafc4fec8ac0aa</td>\n",
       "      <td>1</td>\n",
       "      <td>VeniceForever</td>\n",
       "      <td>Eprahs</td>\n",
       "      <td>1500000</td>\n",
       "      <td>500000</td>\n",
       "      <td>1</td>\n",
       "      <td>0.000000</td>\n",
       "    </tr>\n",
       "    <tr>\n",
       "      <th>785</th>\n",
       "      <td>02f0c7b731ca40a285d7c12aa1c5c7c7caa4598d3d6d34904c3714cd0d47852640</td>\n",
       "      <td>03c8e5f583585cac1de2b7503a6ccd3c12ba477cfd139cd4905be504c2f48e86bd</td>\n",
       "      <td>1</td>\n",
       "      <td>Henwen 🐷</td>\n",
       "      <td>Strike</td>\n",
       "      <td>10000000</td>\n",
       "      <td>500000</td>\n",
       "      <td>0</td>\n",
       "      <td>0.000000</td>\n",
       "    </tr>\n",
       "    <tr>\n",
       "      <th>1084</th>\n",
       "      <td>0364913d18a19c671bb36dd04d6ad5be0fe8f2894314c36a9db3f03c2d414907e1</td>\n",
       "      <td>02f0c7b731ca40a285d7c12aa1c5c7c7caa4598d3d6d34904c3714cd0d47852640</td>\n",
       "      <td>1</td>\n",
       "      <td>LQwD-Canada</td>\n",
       "      <td>Henwen 🐷</td>\n",
       "      <td>50000000</td>\n",
       "      <td>500000</td>\n",
       "      <td>0</td>\n",
       "      <td>0.000000</td>\n",
       "    </tr>\n",
       "    <tr>\n",
       "      <th>1324</th>\n",
       "      <td>03c8e5f583585cac1de2b7503a6ccd3c12ba477cfd139cd4905be504c2f48e86bd</td>\n",
       "      <td>0202f00d5f5c91a3c79113851b162c2b75f2cbd9fb2378fb4a4ce92d5ba1e63e08</td>\n",
       "      <td>1</td>\n",
       "      <td>Strike</td>\n",
       "      <td>ShatSat412</td>\n",
       "      <td>10000000</td>\n",
       "      <td>500000</td>\n",
       "      <td>1</td>\n",
       "      <td>0.000100</td>\n",
       "    </tr>\n",
       "  </tbody>\n",
       "</table>\n",
       "</div>"
      ]
     },
     "execution_count": 18,
     "metadata": {},
     "output_type": "execute_result"
    }
   ],
   "execution_count": 18
  },
  {
   "metadata": {
    "ExecuteTime": {
     "end_time": "2024-12-27T14:14:02.789122Z",
     "start_time": "2024-12-27T14:14:02.779910Z"
    }
   },
   "cell_type": "code",
   "source": [
    "from collections import Counter\n",
    "results = [tuple(i) for i in DF_channels_pos[[\"source-alias\", \"destination-alias\"]].to_numpy()]\n",
    "unwrap = [e for i in results for e in i]\n",
    "extremes = [j for j in unwrap if Counter(unwrap)[j] == 1]\n",
    "def return_source(l: list):\n",
    "    if l[0] in [i for i, j in results]:\n",
    "        return l[0]\n",
    "    else: \n",
    "        return l[1]\n",
    "sequence = []        \n",
    "source = return_source(extremes)\n",
    "sequence.append(source)\n",
    "while len(sequence) <= len(results):\n",
    "    for i,j in results:\n",
    "        if i == sequence[-1]:\n",
    "            sequence.append(j)\n",
    "for i in sequence:\n",
    "    print(\"⬇️\", i)"
   ],
   "id": "6388d7bda8ced731",
   "outputs": [
    {
     "name": "stdout",
     "output_type": "stream",
     "text": [
      "⬇️ VeniceForever\n",
      "⬇️ Eprahs\n",
      "⬇️ LQwD-Canada\n",
      "⬇️ Henwen 🐷\n",
      "⬇️ Strike\n",
      "⬇️ ShatSat412\n"
     ]
    }
   ],
   "execution_count": 19
  }
 ],
 "metadata": {
  "kernelspec": {
   "display_name": "Python 3",
   "language": "python",
   "name": "python3"
  },
  "language_info": {
   "codemirror_mode": {
    "name": "ipython",
    "version": 2
   },
   "file_extension": ".py",
   "mimetype": "text/x-python",
   "name": "python",
   "nbconvert_exporter": "python",
   "pygments_lexer": "ipython2",
   "version": "2.7.6"
  }
 },
 "nbformat": 4,
 "nbformat_minor": 5
}
