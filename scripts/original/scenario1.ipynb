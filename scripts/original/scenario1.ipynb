{
 "cells": [
  {
   "metadata": {
    "ExecuteTime": {
     "end_time": "2024-07-15T16:54:31.261373Z",
     "start_time": "2024-07-15T16:54:29.906300Z"
    }
   },
   "cell_type": "code",
   "source": [
    "import pandas as pd\n",
    "from cleaning import create_demand\n",
    "import pyomo.environ as pyo\n",
    "import pyomo"
   ],
   "id": "initial_id",
   "outputs": [],
   "execution_count": 1
  },
  {
   "metadata": {},
   "cell_type": "markdown",
   "source": "# Data import",
   "id": "a4b2795dc42b8269"
  },
  {
   "metadata": {
    "ExecuteTime": {
     "end_time": "2024-07-15T16:54:31.473909Z",
     "start_time": "2024-07-15T16:54:31.265844Z"
    }
   },
   "cell_type": "code",
   "source": [
    "nodes = pd.read_pickle(\"../../data/original/nodes.pkl\")\n",
    "channels = pd.read_pickle(\"../../data/original/channels.pkl\")"
   ],
   "id": "20748e4222156956",
   "outputs": [],
   "execution_count": 2
  },
  {
   "metadata": {},
   "cell_type": "markdown",
   "source": "## Modeling",
   "id": "7df6d25eef847cf7"
  },
  {
   "metadata": {
    "ExecuteTime": {
     "end_time": "2024-07-15T16:54:31.490012Z",
     "start_time": "2024-07-15T16:54:31.476368Z"
    }
   },
   "cell_type": "code",
   "source": "pyomo.common.timing.report_timing()",
   "id": "4a4e07a12106f0f2",
   "outputs": [
    {
     "data": {
      "text/plain": [
       "<pyomo.common.timing.report_timing at 0x7f803ce16380>"
      ]
     },
     "execution_count": 3,
     "metadata": {},
     "output_type": "execute_result"
    }
   ],
   "execution_count": 3
  },
  {
   "metadata": {
    "ExecuteTime": {
     "end_time": "2024-07-15T16:54:36.599373Z",
     "start_time": "2024-07-15T16:54:31.495375Z"
    }
   },
   "cell_type": "code",
   "source": [
    "model = pyo.ConcreteModel(name=\"Min cost flow problem\")\n",
    "model.NODES = pyo.Set(initialize=nodes.index)\n",
    "model.CHANNELS = pyo.Set(initialize=[(channels.loc[i, \"node1_pub\"], channels.loc[i, \"node2_pub\"]) for i in channels.index])"
   ],
   "id": "52bc701c57020ae",
   "outputs": [
    {
     "name": "stdout",
     "output_type": "stream",
     "text": [
      "           0 seconds to construct Block ConcreteModel; 1 index total\n",
      "        0.06 seconds to construct Set NODES; 1 index total\n",
      "        0.48 seconds to construct Set CHANNELS; 1 index total\n"
     ]
    }
   ],
   "execution_count": 4
  },
  {
   "metadata": {
    "ExecuteTime": {
     "end_time": "2024-07-15T16:54:36.619208Z",
     "start_time": "2024-07-15T16:54:36.601951Z"
    }
   },
   "cell_type": "code",
   "source": "nodes = create_demand(nodes, 500000)",
   "id": "71f0e54edb55901d",
   "outputs": [
    {
     "name": "stdout",
     "output_type": "stream",
     "text": [
      "Transaction of 500000 sats.\n",
      "Sender: HighlighterSupermarket\n",
      "Receiver: Odin 17.4 10:00.\n"
     ]
    }
   ],
   "execution_count": 5
  },
  {
   "metadata": {
    "ExecuteTime": {
     "end_time": "2024-07-15T16:54:37.233033Z",
     "start_time": "2024-07-15T16:54:36.621759Z"
    }
   },
   "cell_type": "code",
   "source": [
    "model.x = pyo.Var(model.CHANNELS, domain=pyo.Binary)\n",
    "model.a = pyo.Var(model.CHANNELS, domain=pyo.NonNegativeReals, bounds=(0, max(nodes[\"demand\"])))"
   ],
   "id": "db6bf92632e748f7",
   "outputs": [
    {
     "name": "stdout",
     "output_type": "stream",
     "text": [
      "        0.28 seconds to construct Var x; 89898 indices total\n",
      "        0.31 seconds to construct Var a; 89898 indices total\n"
     ]
    }
   ],
   "execution_count": 6
  },
  {
   "metadata": {
    "ExecuteTime": {
     "end_time": "2024-07-15T16:54:37.323420Z",
     "start_time": "2024-07-15T16:54:37.236775Z"
    }
   },
   "cell_type": "code",
   "source": [
    "channels.reset_index(inplace=True)\n",
    "channels.set_index([\"node1_pub\", \"node2_pub\"], inplace=True)\n",
    "channels.sort_index(inplace=True)"
   ],
   "id": "5d69bcd9f4cf6b47",
   "outputs": [],
   "execution_count": 7
  },
  {
   "metadata": {
    "ExecuteTime": {
     "end_time": "2024-07-15T16:54:57.979306Z",
     "start_time": "2024-07-15T16:54:37.326724Z"
    }
   },
   "cell_type": "code",
   "source": [
    "def objective_function(model: pyo.ConcreteModel):\n",
    "    return sum(model.a[i] * channels.loc[i, \"rate_fee\"] for i in model.CHANNELS) + sum(model.x[i] * channels.loc[i, \"base_fee\"] for i in model.CHANNELS)\n",
    "\n",
    "model.totalCost = pyo.Objective(rule=objective_function(model), sense=pyo.minimize)"
   ],
   "id": "f45ec00f2444e9d1",
   "outputs": [
    {
     "name": "stdout",
     "output_type": "stream",
     "text": [
      "           0 seconds to construct Objective totalCost; 1 index total\n"
     ]
    }
   ],
   "execution_count": 8
  },
  {
   "metadata": {},
   "cell_type": "markdown",
   "source": [
    "### Constraints\n",
    "\n",
    "#### Incoming channels rule\n",
    "\n",
    "This constraint enforces the number of incoming channels for a node on the path.\n",
    "\n",
    "$$\n",
    "\\sum_{(i,n) \\in E} x_{i,n} = 1 \\text{ } \\forall n \\in V \\bigwedge i \\ne s\n",
    "$$\n",
    "\n",
    "where $s$ is the source node, with a negative demand"
   ],
   "id": "861b0daa9b9cba75"
  },
  {
   "metadata": {
    "ExecuteTime": {
     "end_time": "2024-07-15T16:54:57.986034Z",
     "start_time": "2024-07-15T16:54:57.981597Z"
    }
   },
   "cell_type": "code",
   "source": [
    "#s = nodes[nodes[\"demand\"] < 0].index.values\n",
    "#d = nodes[nodes[\"demand\"] > 0].index.values\n",
    "#intermediaries = [(i, j) for i, j in channels.index if i != s and j != d]"
   ],
   "id": "fb28e372cf7ca6b5",
   "outputs": [],
   "execution_count": 9
  },
  {
   "metadata": {
    "ExecuteTime": {
     "end_time": "2024-07-15T17:01:45.253383Z",
     "start_time": "2024-07-15T16:54:57.990367Z"
    }
   },
   "cell_type": "code",
   "source": [
    "def number_channels_rule(model: pyo.ConcreteModel, n):\n",
    "    incoming = [model.x[(i, j)] for i, j in channels.index if j == n]\n",
    "    outgoing = [model.x[(i, j)] for i, j in channels.index if i == n]\n",
    "    return sum(incoming) == sum(outgoing)\n",
    "\n",
    "model.NumberChannelsConstraint = pyo.Constraint(model.NODES, rule=number_channels_rule, name=\"Number channels constraint\")"
   ],
   "id": "f030e01165abfbbd",
   "outputs": [
    {
     "name": "stdout",
     "output_type": "stream",
     "text": [
      "      407.25 seconds to construct Constraint NumberChannelsConstraint; 11984 indices total\n"
     ]
    }
   ],
   "execution_count": 10
  },
  {
   "metadata": {
    "ExecuteTime": {
     "end_time": "2024-07-15T17:01:45.259923Z",
     "start_time": "2024-07-15T17:01:45.255851Z"
    }
   },
   "cell_type": "code",
   "source": [
    "#def incoming_channels_rule(model: pyo.ConcreteModel, n):\n",
    "#    incoming = [model.x[(i, j)].value if j == n else 0 for i, j in intermediaries]\n",
    "#    return sum(incoming) == 1\n",
    "#\n",
    "#model.IncomingChannelsConstraint = pyo.Constraint(model.NODES, rule=incoming_channels_rule, name=\"Incoming channels constraint\")"
   ],
   "id": "a37bec45ab248572",
   "outputs": [],
   "execution_count": 11
  },
  {
   "metadata": {},
   "cell_type": "markdown",
   "source": [
    "\n",
    "#### Outgoing channels rule\n",
    "\n",
    "This constraint enforces the number of outgoing channels for a node on the path.\n",
    "\n",
    "$$\n",
    "\\sum_{(n,j) \\in E} x_{n,j} = 1 \\text{ } \\forall n \\in V \\bigwedge j \\ne d\n",
    "$$\n",
    "\n",
    "where $d$ is the destination node, with a positive demand"
   ],
   "id": "a0c7f432ce176037"
  },
  {
   "metadata": {
    "ExecuteTime": {
     "end_time": "2024-07-15T17:01:45.287526Z",
     "start_time": "2024-07-15T17:01:45.262194Z"
    }
   },
   "cell_type": "code",
   "source": [
    "#def outgoing_channels_rule(model: pyo.ConcreteModel, n):\n",
    "#    outgoing = [model.x[(i, j)].value if i == n else 0 for i, j in intermediaries]\n",
    "#    return sum(outgoing) == 1\n",
    "#\n",
    "#model.OutgoingChannelsConstraint = pyo.Constraint(model.NODES, rule=outgoing_channels_rule, name=\"Outgoing channels constraint\")"
   ],
   "id": "13495e6d88800633",
   "outputs": [],
   "execution_count": 12
  },
  {
   "metadata": {},
   "cell_type": "markdown",
   "source": [
    "#### Capacity constraint\n",
    "\n",
    "$$amount_{i,j} \\le capacity_{i,j} \\times x_{i,j} \\text{ } \\forall (i,j) \\in E$$"
   ],
   "id": "e5ea238f92c81afb"
  },
  {
   "metadata": {
    "ExecuteTime": {
     "end_time": "2024-07-15T17:01:57.835435Z",
     "start_time": "2024-07-15T17:01:45.290527Z"
    }
   },
   "cell_type": "code",
   "source": [
    "def capacity_constraint(model: pyo.ConcreteModel, a, b):\n",
    "    return model.a[(a, b)] <=  channels.loc[(a, b), \"capacity\"] * model.x[(a, b)]\n",
    "\n",
    "model.CapacityConstraint = pyo.Constraint(model.CHANNELS, rule=capacity_constraint, name=\"Capacity constraint\")"
   ],
   "id": "7d46c6418b15675a",
   "outputs": [
    {
     "name": "stdout",
     "output_type": "stream",
     "text": [
      "       12.54 seconds to construct Constraint CapacityConstraint; 89898 indices total\n"
     ]
    }
   ],
   "execution_count": 13
  },
  {
   "metadata": {},
   "cell_type": "markdown",
   "source": [
    "#### Flow balance constraint\n",
    "\n",
    "$$\\sum_{(s,i) \\in E} amount_{s,i} - \\sum_{(i,t) \\in E} amount_{i,d} = b_i \\text{ } \\forall i \\in V$$\n",
    "\n",
    "where $s$ is the source node, $d$ is the destination node, $i$ is every intermediary node\n"
   ],
   "id": "7adcde34bbdb4878"
  },
  {
   "metadata": {
    "ExecuteTime": {
     "end_time": "2024-07-15T17:02:05.969674Z",
     "start_time": "2024-07-15T17:01:57.837979Z"
    }
   },
   "cell_type": "code",
   "source": [
    "channels.reset_index(inplace=True)\n",
    "channels.set_index(\"channel_id\", inplace=True)\n",
    "\n",
    "def flow_balance_constraint(model: pyo.ConcreteModel, n: str):\n",
    "    InFlow = sum(model.a[(channels.loc[a, \"node1_pub\"], channels.loc[a, \"node2_pub\"])] for a in nodes.loc[n, 'incoming_channels'])\n",
    "    OutFlow = sum(model.a[(channels.loc[a, \"node1_pub\"], channels.loc[a, \"node2_pub\"])] for a in nodes.loc[n, 'outgoing_channels'])\n",
    "    return  OutFlow + nodes.loc[n, \"demand\"] == InFlow\n",
    "\n",
    "model.FlowBalanceConstraint = pyo.Constraint(model.NODES, rule=flow_balance_constraint, name=\"Flow balance constrain\")\n",
    "\n",
    "channels.reset_index(inplace=True)\n",
    "channels.set_index([\"node1_pub\", \"node2_pub\"], inplace=True)\n",
    "channels.sort_index(inplace=True) "
   ],
   "id": "d2b57765c3b53fc5",
   "outputs": [
    {
     "name": "stdout",
     "output_type": "stream",
     "text": [
      "        8.03 seconds to construct Constraint FlowBalanceConstraint; 11984 indices total\n"
     ]
    }
   ],
   "execution_count": 14
  },
  {
   "metadata": {},
   "cell_type": "markdown",
   "source": "## Solving the model",
   "id": "b8bc8c88087daf77"
  },
  {
   "metadata": {
    "ExecuteTime": {
     "end_time": "2024-07-15T17:07:38.779413Z",
     "start_time": "2024-07-15T17:02:05.972357Z"
    }
   },
   "cell_type": "code",
   "source": [
    "opt = pyo.SolverFactory('cbc')\n",
    "results = opt.solve(model, tee=True)\n",
    "\n",
    "if (results.solver.status == pyo.SolverStatus.ok) and (results.solver.termination_condition == pyo.TerminationCondition.optimal):\n",
    "    print('\\nOptimal solution found')\n",
    "elif results.solver.termination_condition == pyo.TerminationCondition.feasible:\n",
    "    print('\\nFeasible but not proven optimal solution found')\n",
    "elif results.solver.termination_condition == pyo.TerminationCondition.infeasible:\n",
    "    raise Exception(\"The model is infeasible\")\n",
    "else:\n",
    "    print('\\nSolver Status: ',  results.solver.status)\n",
    "    raise Exception(results.solver.status)\n",
    "\n",
    "print('\\nObject function value = ', model.Objective())\n"
   ],
   "id": "f88c7c0611694b3b",
   "execution_count": 15,
   "outputs": [
    {
     "name": "stdout",
     "output_type": "stream",
     "text": [
      "           0 seconds to construct Var ONE_VAR_CONSTANT; 1 index total\n",
      "      [    5.85] Generated LP representation\n",
      "Welcome to the CBC MILP Solver \n",
      "Version: 2.10.8 \n",
      "Build Date: May  9 2022 \n",
      "\n",
      "command line - /usr/bin/cbc -printingOptions all -import /tmp/tmpamx0x2r1.pyomo.lp -stat=1 -solve -solu /tmp/tmpamx0x2r1.pyomo.soln (default strategy 1)\n",
      "Option for printingOptions changed from normal to all\n",
      "Presolve 95188 (-18678) rows, 166432 (-13364) columns and 477128 (-61160) elements\n",
      "Statistics for presolved model\n",
      "Original problem has 89898 integers (89898 of which binary)\n",
      "Presolved problem has 83216 integers (83216 of which binary)\n",
      "==== 38072 zero objective 3879 different\n",
      "==== absolute objective values 3879 different\n",
      "==== for integers 31696 zero objective 1018 different\n",
      "==== for integers absolute objective values 1018 different\n",
      "===== end objective counts\n",
      "\n",
      "\n",
      "Problem has 95188 rows, 166432 columns (128360 with objective) and 477128 elements\n",
      "There are 10564 singletons with objective \n",
      "Column breakdown:\n",
      "0 of type 0.0->inf, 83216 of type 0.0->up, 0 of type lo->inf, \n",
      "0 of type lo->up, 0 of type free, 0 of type fixed, \n",
      "0 of type -inf->0.0, 0 of type -inf->up, 83216 of type 0.0->1.0 \n",
      "Row breakdown:\n",
      "11970 of type E 0.0, 0 of type E 1.0, 0 of type E -1.0, \n",
      "2 of type E other, 0 of type G 0.0, 0 of type G 1.0, \n",
      "0 of type G other, 83216 of type L 0.0, 0 of type L 1.0, \n",
      "0 of type L other, 0 of type Range 0.0->1.0, 0 of type Range other, \n",
      "0 of type Free \n",
      "Continuous objective value is 123.047 - 129.34 seconds\n",
      "Cgl0004I processed model has 89906 rows, 155868 columns (77934 integer (77934 of which binary)) and 466564 elements\n",
      "Cbc0038I Initial state - 0 integers unsatisfied sum - 6.66134e-16\n",
      "Cbc0038I Solution found of 124.601\n",
      "Cbc0038I Relaxing continuous gives 124.601\n",
      "Cbc0038I Before mini branch and bound, 77934 integers at bound fixed and 77934 continuous\n",
      "Cbc0038I Mini branch and bound did not improve solution (140.03 seconds)\n",
      "Cbc0038I After 140.13 seconds - Feasibility pump exiting with objective of 124.601 - took 0.57 seconds\n",
      "Cbc0012I Integer solution of 124.601 found by feasibility pump after 0 iterations and 0 nodes (140.21 seconds)\n",
      "Cbc0001I Search completed - best objective 124.601, took 0 iterations and 0 nodes (140.42 seconds)\n",
      "Cbc0035I Maximum depth 0, 0 variables fixed on reduced cost\n",
      "Cuts at root node changed objective from 124.601 to 124.601\n",
      "Probing was tried 0 times and created 0 cuts of which 0 were active after adding rounds of cuts (0.000 seconds)\n",
      "Gomory was tried 0 times and created 0 cuts of which 0 were active after adding rounds of cuts (0.000 seconds)\n",
      "Knapsack was tried 0 times and created 0 cuts of which 0 were active after adding rounds of cuts (0.000 seconds)\n",
      "Clique was tried 0 times and created 0 cuts of which 0 were active after adding rounds of cuts (0.000 seconds)\n",
      "MixedIntegerRounding2 was tried 0 times and created 0 cuts of which 0 were active after adding rounds of cuts (0.000 seconds)\n",
      "FlowCover was tried 0 times and created 0 cuts of which 0 were active after adding rounds of cuts (0.000 seconds)\n",
      "TwoMirCuts was tried 0 times and created 0 cuts of which 0 were active after adding rounds of cuts (0.000 seconds)\n",
      "ZeroHalf was tried 0 times and created 0 cuts of which 0 were active after adding rounds of cuts (0.000 seconds)\n",
      "\n",
      "Result - Optimal solution found\n",
      "\n",
      "Objective value:                124.60100000\n",
      "Enumerated nodes:               0\n",
      "Total iterations:               0\n",
      "Time (CPU seconds):             319.10\n",
      "Time (Wallclock seconds):       319.86\n",
      "\n",
      "Total time (CPU seconds):       322.73   (Wallclock seconds):       323.62\n",
      "\n",
      "\n",
      "Optimal solution found\n",
      "\n",
      "Object function value =  <pyomo.core.base.block._generic_component_decorator object at 0x7f80328136d0>\n"
     ]
    }
   ]
  },
  {
   "metadata": {
    "ExecuteTime": {
     "end_time": "2024-07-15T17:07:38.885173Z",
     "start_time": "2024-07-15T17:07:38.782290Z"
    }
   },
   "cell_type": "code",
   "source": [
    "from decimal import Decimal\n",
    "DF_channels = pd.DataFrame()\n",
    "c = 0\n",
    "for index, value in model.a.extract_values().items():\n",
    "    if value != 0:\n",
    "        DF_channels.loc[c, \"source\"] = index[0]\n",
    "        DF_channels.loc[c, \"destination\"] = index[1]\n",
    "        DF_channels.loc[c, \"source-alias\"] = nodes.loc[index[0], \"alias\"]\n",
    "        DF_channels.loc[c, \"destination-alias\"] = nodes.loc[index[1], \"alias\"]\n",
    "        DF_channels.loc[c, \"capacity\"] = channels.loc[index, \"capacity\"]\n",
    "        DF_channels.loc[c, \"amount\"] = Decimal(value)\n",
    "        DF_channels.loc[c, \"base_fee\"] = channels.loc[(index[0], index[1]), \"base_fee\"]\n",
    "        DF_channels.loc[c, \"rate_fee\"] = channels.loc[(index[0], index[1]), \"rate_fee\"]\n",
    "        c += 1\n",
    "\n",
    "DF_channels_pos = DF_channels[DF_channels[\"amount\"]!=0]\n",
    "DF_channels_pos"
   ],
   "id": "b7051d6dc41ce1a0",
   "outputs": [
    {
     "data": {
      "text/plain": [
       "                                              source  \\\n",
       "0  027fc4bbf73eeb128262948c8ad068ec243e569ead212f...   \n",
       "1  02cfdc6b60e5931d174a342b20b50d6a2a17c6e4ef8e07...   \n",
       "2  030751b547f0e59c40086bd6a2b5efbaaccfa850aa5af5...   \n",
       "3  03a93b87bf9f052b8e862d51ebbac4ce5e97b5f4137563...   \n",
       "\n",
       "                                         destination            source-alias  \\\n",
       "0  02cfdc6b60e5931d174a342b20b50d6a2a17c6e4ef8e07...  HighlighterSupermarket   \n",
       "1  03a93b87bf9f052b8e862d51ebbac4ce5e97b5f4137563...              Voltage-C2   \n",
       "2  02c551a80ba5758c845fc4d554a234e119082fa36f30d1...               RatPoison   \n",
       "3  030751b547f0e59c40086bd6a2b5efbaaccfa850aa5af5...            cyberdyne.sh   \n",
       "\n",
       "  destination-alias   capacity  amount  base_fee  rate_fee  \n",
       "0        Voltage-C2   500000.0  500000     1.000  0.000240  \n",
       "1      cyberdyne.sh  4000000.0  500000     0.100  0.000000  \n",
       "2   Odin 17.4 10:00  1000000.0  500000     1.000  0.000001  \n",
       "3         RatPoison  4000000.0  500000     0.001  0.000000  "
      ],
      "text/html": [
       "<div>\n",
       "<style scoped>\n",
       "    .dataframe tbody tr th:only-of-type {\n",
       "        vertical-align: middle;\n",
       "    }\n",
       "\n",
       "    .dataframe tbody tr th {\n",
       "        vertical-align: top;\n",
       "    }\n",
       "\n",
       "    .dataframe thead th {\n",
       "        text-align: right;\n",
       "    }\n",
       "</style>\n",
       "<table border=\"1\" class=\"dataframe\">\n",
       "  <thead>\n",
       "    <tr style=\"text-align: right;\">\n",
       "      <th></th>\n",
       "      <th>source</th>\n",
       "      <th>destination</th>\n",
       "      <th>source-alias</th>\n",
       "      <th>destination-alias</th>\n",
       "      <th>capacity</th>\n",
       "      <th>amount</th>\n",
       "      <th>base_fee</th>\n",
       "      <th>rate_fee</th>\n",
       "    </tr>\n",
       "  </thead>\n",
       "  <tbody>\n",
       "    <tr>\n",
       "      <th>0</th>\n",
       "      <td>027fc4bbf73eeb128262948c8ad068ec243e569ead212f...</td>\n",
       "      <td>02cfdc6b60e5931d174a342b20b50d6a2a17c6e4ef8e07...</td>\n",
       "      <td>HighlighterSupermarket</td>\n",
       "      <td>Voltage-C2</td>\n",
       "      <td>500000.0</td>\n",
       "      <td>500000</td>\n",
       "      <td>1.000</td>\n",
       "      <td>0.000240</td>\n",
       "    </tr>\n",
       "    <tr>\n",
       "      <th>1</th>\n",
       "      <td>02cfdc6b60e5931d174a342b20b50d6a2a17c6e4ef8e07...</td>\n",
       "      <td>03a93b87bf9f052b8e862d51ebbac4ce5e97b5f4137563...</td>\n",
       "      <td>Voltage-C2</td>\n",
       "      <td>cyberdyne.sh</td>\n",
       "      <td>4000000.0</td>\n",
       "      <td>500000</td>\n",
       "      <td>0.100</td>\n",
       "      <td>0.000000</td>\n",
       "    </tr>\n",
       "    <tr>\n",
       "      <th>2</th>\n",
       "      <td>030751b547f0e59c40086bd6a2b5efbaaccfa850aa5af5...</td>\n",
       "      <td>02c551a80ba5758c845fc4d554a234e119082fa36f30d1...</td>\n",
       "      <td>RatPoison</td>\n",
       "      <td>Odin 17.4 10:00</td>\n",
       "      <td>1000000.0</td>\n",
       "      <td>500000</td>\n",
       "      <td>1.000</td>\n",
       "      <td>0.000001</td>\n",
       "    </tr>\n",
       "    <tr>\n",
       "      <th>3</th>\n",
       "      <td>03a93b87bf9f052b8e862d51ebbac4ce5e97b5f4137563...</td>\n",
       "      <td>030751b547f0e59c40086bd6a2b5efbaaccfa850aa5af5...</td>\n",
       "      <td>cyberdyne.sh</td>\n",
       "      <td>RatPoison</td>\n",
       "      <td>4000000.0</td>\n",
       "      <td>500000</td>\n",
       "      <td>0.001</td>\n",
       "      <td>0.000000</td>\n",
       "    </tr>\n",
       "  </tbody>\n",
       "</table>\n",
       "</div>"
      ]
     },
     "execution_count": 16,
     "metadata": {},
     "output_type": "execute_result"
    }
   ],
   "execution_count": 16
  },
  {
   "metadata": {
    "ExecuteTime": {
     "end_time": "2024-07-15T17:07:38.900570Z",
     "start_time": "2024-07-15T17:07:38.887760Z"
    }
   },
   "cell_type": "code",
   "source": "DF_channels[DF_channels[\"amount\"]> DF_channels[\"capacity\"]]",
   "id": "591cfe14bef33883",
   "outputs": [
    {
     "data": {
      "text/plain": [
       "Empty DataFrame\n",
       "Columns: [source, destination, source-alias, destination-alias, capacity, amount, base_fee, rate_fee]\n",
       "Index: []"
      ],
      "text/html": [
       "<div>\n",
       "<style scoped>\n",
       "    .dataframe tbody tr th:only-of-type {\n",
       "        vertical-align: middle;\n",
       "    }\n",
       "\n",
       "    .dataframe tbody tr th {\n",
       "        vertical-align: top;\n",
       "    }\n",
       "\n",
       "    .dataframe thead th {\n",
       "        text-align: right;\n",
       "    }\n",
       "</style>\n",
       "<table border=\"1\" class=\"dataframe\">\n",
       "  <thead>\n",
       "    <tr style=\"text-align: right;\">\n",
       "      <th></th>\n",
       "      <th>source</th>\n",
       "      <th>destination</th>\n",
       "      <th>source-alias</th>\n",
       "      <th>destination-alias</th>\n",
       "      <th>capacity</th>\n",
       "      <th>amount</th>\n",
       "      <th>base_fee</th>\n",
       "      <th>rate_fee</th>\n",
       "    </tr>\n",
       "  </thead>\n",
       "  <tbody>\n",
       "  </tbody>\n",
       "</table>\n",
       "</div>"
      ]
     },
     "execution_count": 17,
     "metadata": {},
     "output_type": "execute_result"
    }
   ],
   "execution_count": 17
  },
  {
   "metadata": {
    "ExecuteTime": {
     "end_time": "2024-07-15T17:07:41.193958Z",
     "start_time": "2024-07-15T17:07:38.903298Z"
    }
   },
   "cell_type": "code",
   "source": [
    "DF_fixed = pd.DataFrame()\n",
    "c = 0\n",
    "for index, value in model.x.extract_values().items():\n",
    "    if value != 0:\n",
    "        DF_fixed.loc[c, \"source\"] = index[0]\n",
    "        DF_fixed.loc[c, \"destination\"] = index[1]\n",
    "        DF_fixed.loc[c, \"used\"] = Decimal(value)\n",
    "        c += 1\n",
    "\n",
    "DF_fixed_pos = DF_fixed[DF_fixed[\"used\"]!=0]\n",
    "DF_fixed_pos"
   ],
   "id": "4150b1232fe02328",
   "outputs": [
    {
     "data": {
      "text/plain": [
       "                                                 source  \\\n",
       "0     02001828ca7eb8e44d4d78b5c1ea609cd3744be823c22c...   \n",
       "1     0201bfc5d9c14d50ebaf4dfd83d70df314ed2a9f0119f2...   \n",
       "2     0204edf87f5ee7d4e29a43756c87ff4f3152f3ea5de348...   \n",
       "3     02055838411dba34c72329e9872fc66d2f0dc0292c049d...   \n",
       "4     02057ee0163d5bc00dcc59adcc4a90670d7cef27db7493...   \n",
       "...                                                 ...   \n",
       "1406  03fd8cc2d81e7f52c05b799372c2dc16120fe1723f3d8d...   \n",
       "1407  03fe824c5b3a0fb78e7f2844bfd052c8fe729b48ce1ffb...   \n",
       "1408  03fee917a3c0636f95d2529985a57ed185da42f35413f8...   \n",
       "1409  03ff3e6c4078f9bad09f27100366b1e226f55331a3a66f...   \n",
       "1410  03ff5613bcb4cca582dab93b53bd274bc746c9f33c72d4...   \n",
       "\n",
       "                                            destination used  \n",
       "0     030b252eb8bb0f5e79af393d26dd5204f3c525af8b8404...    1  \n",
       "1     0293952cbf1be801ba5d73ff34a950affb64fcbfe2d0f4...    1  \n",
       "2     02473eb084d0410351e343547c68dac1961d1c8e18d0da...    1  \n",
       "3     0337d0c749f89d24e75427e1fec4ce2ed4f7d5a38c2196...    1  \n",
       "4     02f7912be4665093ec0cf0507f24a27ac57c3dca1f9e86...    1  \n",
       "...                                                 ...  ...  \n",
       "1406  02315fe3619ffdea2561bcacecada87b226723f471a59f...    1  \n",
       "1407  030b252eb8bb0f5e79af393d26dd5204f3c525af8b8404...    1  \n",
       "1408  03cde60a6323f7122d5178255766e38114b4722ede08f7...    1  \n",
       "1409  03c4b52dab7fe8ea9be955f16c8bb0c763c3eb2cbe1286...    1  \n",
       "1410  02315fe3619ffdea2561bcacecada87b226723f471a59f...    1  \n",
       "\n",
       "[1411 rows x 3 columns]"
      ],
      "text/html": [
       "<div>\n",
       "<style scoped>\n",
       "    .dataframe tbody tr th:only-of-type {\n",
       "        vertical-align: middle;\n",
       "    }\n",
       "\n",
       "    .dataframe tbody tr th {\n",
       "        vertical-align: top;\n",
       "    }\n",
       "\n",
       "    .dataframe thead th {\n",
       "        text-align: right;\n",
       "    }\n",
       "</style>\n",
       "<table border=\"1\" class=\"dataframe\">\n",
       "  <thead>\n",
       "    <tr style=\"text-align: right;\">\n",
       "      <th></th>\n",
       "      <th>source</th>\n",
       "      <th>destination</th>\n",
       "      <th>used</th>\n",
       "    </tr>\n",
       "  </thead>\n",
       "  <tbody>\n",
       "    <tr>\n",
       "      <th>0</th>\n",
       "      <td>02001828ca7eb8e44d4d78b5c1ea609cd3744be823c22c...</td>\n",
       "      <td>030b252eb8bb0f5e79af393d26dd5204f3c525af8b8404...</td>\n",
       "      <td>1</td>\n",
       "    </tr>\n",
       "    <tr>\n",
       "      <th>1</th>\n",
       "      <td>0201bfc5d9c14d50ebaf4dfd83d70df314ed2a9f0119f2...</td>\n",
       "      <td>0293952cbf1be801ba5d73ff34a950affb64fcbfe2d0f4...</td>\n",
       "      <td>1</td>\n",
       "    </tr>\n",
       "    <tr>\n",
       "      <th>2</th>\n",
       "      <td>0204edf87f5ee7d4e29a43756c87ff4f3152f3ea5de348...</td>\n",
       "      <td>02473eb084d0410351e343547c68dac1961d1c8e18d0da...</td>\n",
       "      <td>1</td>\n",
       "    </tr>\n",
       "    <tr>\n",
       "      <th>3</th>\n",
       "      <td>02055838411dba34c72329e9872fc66d2f0dc0292c049d...</td>\n",
       "      <td>0337d0c749f89d24e75427e1fec4ce2ed4f7d5a38c2196...</td>\n",
       "      <td>1</td>\n",
       "    </tr>\n",
       "    <tr>\n",
       "      <th>4</th>\n",
       "      <td>02057ee0163d5bc00dcc59adcc4a90670d7cef27db7493...</td>\n",
       "      <td>02f7912be4665093ec0cf0507f24a27ac57c3dca1f9e86...</td>\n",
       "      <td>1</td>\n",
       "    </tr>\n",
       "    <tr>\n",
       "      <th>...</th>\n",
       "      <td>...</td>\n",
       "      <td>...</td>\n",
       "      <td>...</td>\n",
       "    </tr>\n",
       "    <tr>\n",
       "      <th>1406</th>\n",
       "      <td>03fd8cc2d81e7f52c05b799372c2dc16120fe1723f3d8d...</td>\n",
       "      <td>02315fe3619ffdea2561bcacecada87b226723f471a59f...</td>\n",
       "      <td>1</td>\n",
       "    </tr>\n",
       "    <tr>\n",
       "      <th>1407</th>\n",
       "      <td>03fe824c5b3a0fb78e7f2844bfd052c8fe729b48ce1ffb...</td>\n",
       "      <td>030b252eb8bb0f5e79af393d26dd5204f3c525af8b8404...</td>\n",
       "      <td>1</td>\n",
       "    </tr>\n",
       "    <tr>\n",
       "      <th>1408</th>\n",
       "      <td>03fee917a3c0636f95d2529985a57ed185da42f35413f8...</td>\n",
       "      <td>03cde60a6323f7122d5178255766e38114b4722ede08f7...</td>\n",
       "      <td>1</td>\n",
       "    </tr>\n",
       "    <tr>\n",
       "      <th>1409</th>\n",
       "      <td>03ff3e6c4078f9bad09f27100366b1e226f55331a3a66f...</td>\n",
       "      <td>03c4b52dab7fe8ea9be955f16c8bb0c763c3eb2cbe1286...</td>\n",
       "      <td>1</td>\n",
       "    </tr>\n",
       "    <tr>\n",
       "      <th>1410</th>\n",
       "      <td>03ff5613bcb4cca582dab93b53bd274bc746c9f33c72d4...</td>\n",
       "      <td>02315fe3619ffdea2561bcacecada87b226723f471a59f...</td>\n",
       "      <td>1</td>\n",
       "    </tr>\n",
       "  </tbody>\n",
       "</table>\n",
       "<p>1411 rows × 3 columns</p>\n",
       "</div>"
      ]
     },
     "execution_count": 18,
     "metadata": {},
     "output_type": "execute_result"
    }
   ],
   "execution_count": 18
  },
  {
   "metadata": {
    "ExecuteTime": {
     "end_time": "2024-07-15T17:07:41.234444Z",
     "start_time": "2024-07-15T17:07:41.196931Z"
    }
   },
   "cell_type": "code",
   "source": [
    "intersection = DF_fixed_pos.merge(DF_channels_pos, on=[\"source\", \"destination\"], how=\"outer\")\n",
    "intersection"
   ],
   "id": "ab555f0c48920c85",
   "outputs": [
    {
     "data": {
      "text/plain": [
       "                                                 source  \\\n",
       "0     02001828ca7eb8e44d4d78b5c1ea609cd3744be823c22c...   \n",
       "1     0201bfc5d9c14d50ebaf4dfd83d70df314ed2a9f0119f2...   \n",
       "2     0204edf87f5ee7d4e29a43756c87ff4f3152f3ea5de348...   \n",
       "3     02055838411dba34c72329e9872fc66d2f0dc0292c049d...   \n",
       "4     02057ee0163d5bc00dcc59adcc4a90670d7cef27db7493...   \n",
       "...                                                 ...   \n",
       "1406  03fd8cc2d81e7f52c05b799372c2dc16120fe1723f3d8d...   \n",
       "1407  03fe824c5b3a0fb78e7f2844bfd052c8fe729b48ce1ffb...   \n",
       "1408  03fee917a3c0636f95d2529985a57ed185da42f35413f8...   \n",
       "1409  03ff3e6c4078f9bad09f27100366b1e226f55331a3a66f...   \n",
       "1410  03ff5613bcb4cca582dab93b53bd274bc746c9f33c72d4...   \n",
       "\n",
       "                                            destination used source-alias  \\\n",
       "0     030b252eb8bb0f5e79af393d26dd5204f3c525af8b8404...    1          NaN   \n",
       "1     0293952cbf1be801ba5d73ff34a950affb64fcbfe2d0f4...    1          NaN   \n",
       "2     02473eb084d0410351e343547c68dac1961d1c8e18d0da...    1          NaN   \n",
       "3     0337d0c749f89d24e75427e1fec4ce2ed4f7d5a38c2196...    1          NaN   \n",
       "4     02f7912be4665093ec0cf0507f24a27ac57c3dca1f9e86...    1          NaN   \n",
       "...                                                 ...  ...          ...   \n",
       "1406  02315fe3619ffdea2561bcacecada87b226723f471a59f...    1          NaN   \n",
       "1407  030b252eb8bb0f5e79af393d26dd5204f3c525af8b8404...    1          NaN   \n",
       "1408  03cde60a6323f7122d5178255766e38114b4722ede08f7...    1          NaN   \n",
       "1409  03c4b52dab7fe8ea9be955f16c8bb0c763c3eb2cbe1286...    1          NaN   \n",
       "1410  02315fe3619ffdea2561bcacecada87b226723f471a59f...    1          NaN   \n",
       "\n",
       "     destination-alias  capacity amount  base_fee  rate_fee  \n",
       "0                  NaN       NaN    NaN       NaN       NaN  \n",
       "1                  NaN       NaN    NaN       NaN       NaN  \n",
       "2                  NaN       NaN    NaN       NaN       NaN  \n",
       "3                  NaN       NaN    NaN       NaN       NaN  \n",
       "4                  NaN       NaN    NaN       NaN       NaN  \n",
       "...                ...       ...    ...       ...       ...  \n",
       "1406               NaN       NaN    NaN       NaN       NaN  \n",
       "1407               NaN       NaN    NaN       NaN       NaN  \n",
       "1408               NaN       NaN    NaN       NaN       NaN  \n",
       "1409               NaN       NaN    NaN       NaN       NaN  \n",
       "1410               NaN       NaN    NaN       NaN       NaN  \n",
       "\n",
       "[1411 rows x 9 columns]"
      ],
      "text/html": [
       "<div>\n",
       "<style scoped>\n",
       "    .dataframe tbody tr th:only-of-type {\n",
       "        vertical-align: middle;\n",
       "    }\n",
       "\n",
       "    .dataframe tbody tr th {\n",
       "        vertical-align: top;\n",
       "    }\n",
       "\n",
       "    .dataframe thead th {\n",
       "        text-align: right;\n",
       "    }\n",
       "</style>\n",
       "<table border=\"1\" class=\"dataframe\">\n",
       "  <thead>\n",
       "    <tr style=\"text-align: right;\">\n",
       "      <th></th>\n",
       "      <th>source</th>\n",
       "      <th>destination</th>\n",
       "      <th>used</th>\n",
       "      <th>source-alias</th>\n",
       "      <th>destination-alias</th>\n",
       "      <th>capacity</th>\n",
       "      <th>amount</th>\n",
       "      <th>base_fee</th>\n",
       "      <th>rate_fee</th>\n",
       "    </tr>\n",
       "  </thead>\n",
       "  <tbody>\n",
       "    <tr>\n",
       "      <th>0</th>\n",
       "      <td>02001828ca7eb8e44d4d78b5c1ea609cd3744be823c22c...</td>\n",
       "      <td>030b252eb8bb0f5e79af393d26dd5204f3c525af8b8404...</td>\n",
       "      <td>1</td>\n",
       "      <td>NaN</td>\n",
       "      <td>NaN</td>\n",
       "      <td>NaN</td>\n",
       "      <td>NaN</td>\n",
       "      <td>NaN</td>\n",
       "      <td>NaN</td>\n",
       "    </tr>\n",
       "    <tr>\n",
       "      <th>1</th>\n",
       "      <td>0201bfc5d9c14d50ebaf4dfd83d70df314ed2a9f0119f2...</td>\n",
       "      <td>0293952cbf1be801ba5d73ff34a950affb64fcbfe2d0f4...</td>\n",
       "      <td>1</td>\n",
       "      <td>NaN</td>\n",
       "      <td>NaN</td>\n",
       "      <td>NaN</td>\n",
       "      <td>NaN</td>\n",
       "      <td>NaN</td>\n",
       "      <td>NaN</td>\n",
       "    </tr>\n",
       "    <tr>\n",
       "      <th>2</th>\n",
       "      <td>0204edf87f5ee7d4e29a43756c87ff4f3152f3ea5de348...</td>\n",
       "      <td>02473eb084d0410351e343547c68dac1961d1c8e18d0da...</td>\n",
       "      <td>1</td>\n",
       "      <td>NaN</td>\n",
       "      <td>NaN</td>\n",
       "      <td>NaN</td>\n",
       "      <td>NaN</td>\n",
       "      <td>NaN</td>\n",
       "      <td>NaN</td>\n",
       "    </tr>\n",
       "    <tr>\n",
       "      <th>3</th>\n",
       "      <td>02055838411dba34c72329e9872fc66d2f0dc0292c049d...</td>\n",
       "      <td>0337d0c749f89d24e75427e1fec4ce2ed4f7d5a38c2196...</td>\n",
       "      <td>1</td>\n",
       "      <td>NaN</td>\n",
       "      <td>NaN</td>\n",
       "      <td>NaN</td>\n",
       "      <td>NaN</td>\n",
       "      <td>NaN</td>\n",
       "      <td>NaN</td>\n",
       "    </tr>\n",
       "    <tr>\n",
       "      <th>4</th>\n",
       "      <td>02057ee0163d5bc00dcc59adcc4a90670d7cef27db7493...</td>\n",
       "      <td>02f7912be4665093ec0cf0507f24a27ac57c3dca1f9e86...</td>\n",
       "      <td>1</td>\n",
       "      <td>NaN</td>\n",
       "      <td>NaN</td>\n",
       "      <td>NaN</td>\n",
       "      <td>NaN</td>\n",
       "      <td>NaN</td>\n",
       "      <td>NaN</td>\n",
       "    </tr>\n",
       "    <tr>\n",
       "      <th>...</th>\n",
       "      <td>...</td>\n",
       "      <td>...</td>\n",
       "      <td>...</td>\n",
       "      <td>...</td>\n",
       "      <td>...</td>\n",
       "      <td>...</td>\n",
       "      <td>...</td>\n",
       "      <td>...</td>\n",
       "      <td>...</td>\n",
       "    </tr>\n",
       "    <tr>\n",
       "      <th>1406</th>\n",
       "      <td>03fd8cc2d81e7f52c05b799372c2dc16120fe1723f3d8d...</td>\n",
       "      <td>02315fe3619ffdea2561bcacecada87b226723f471a59f...</td>\n",
       "      <td>1</td>\n",
       "      <td>NaN</td>\n",
       "      <td>NaN</td>\n",
       "      <td>NaN</td>\n",
       "      <td>NaN</td>\n",
       "      <td>NaN</td>\n",
       "      <td>NaN</td>\n",
       "    </tr>\n",
       "    <tr>\n",
       "      <th>1407</th>\n",
       "      <td>03fe824c5b3a0fb78e7f2844bfd052c8fe729b48ce1ffb...</td>\n",
       "      <td>030b252eb8bb0f5e79af393d26dd5204f3c525af8b8404...</td>\n",
       "      <td>1</td>\n",
       "      <td>NaN</td>\n",
       "      <td>NaN</td>\n",
       "      <td>NaN</td>\n",
       "      <td>NaN</td>\n",
       "      <td>NaN</td>\n",
       "      <td>NaN</td>\n",
       "    </tr>\n",
       "    <tr>\n",
       "      <th>1408</th>\n",
       "      <td>03fee917a3c0636f95d2529985a57ed185da42f35413f8...</td>\n",
       "      <td>03cde60a6323f7122d5178255766e38114b4722ede08f7...</td>\n",
       "      <td>1</td>\n",
       "      <td>NaN</td>\n",
       "      <td>NaN</td>\n",
       "      <td>NaN</td>\n",
       "      <td>NaN</td>\n",
       "      <td>NaN</td>\n",
       "      <td>NaN</td>\n",
       "    </tr>\n",
       "    <tr>\n",
       "      <th>1409</th>\n",
       "      <td>03ff3e6c4078f9bad09f27100366b1e226f55331a3a66f...</td>\n",
       "      <td>03c4b52dab7fe8ea9be955f16c8bb0c763c3eb2cbe1286...</td>\n",
       "      <td>1</td>\n",
       "      <td>NaN</td>\n",
       "      <td>NaN</td>\n",
       "      <td>NaN</td>\n",
       "      <td>NaN</td>\n",
       "      <td>NaN</td>\n",
       "      <td>NaN</td>\n",
       "    </tr>\n",
       "    <tr>\n",
       "      <th>1410</th>\n",
       "      <td>03ff5613bcb4cca582dab93b53bd274bc746c9f33c72d4...</td>\n",
       "      <td>02315fe3619ffdea2561bcacecada87b226723f471a59f...</td>\n",
       "      <td>1</td>\n",
       "      <td>NaN</td>\n",
       "      <td>NaN</td>\n",
       "      <td>NaN</td>\n",
       "      <td>NaN</td>\n",
       "      <td>NaN</td>\n",
       "      <td>NaN</td>\n",
       "    </tr>\n",
       "  </tbody>\n",
       "</table>\n",
       "<p>1411 rows × 9 columns</p>\n",
       "</div>"
      ]
     },
     "execution_count": 19,
     "metadata": {},
     "output_type": "execute_result"
    }
   ],
   "execution_count": 19
  }
 ],
 "metadata": {
  "kernelspec": {
   "display_name": "Python 3",
   "language": "python",
   "name": "python3"
  },
  "language_info": {
   "codemirror_mode": {
    "name": "ipython",
    "version": 2
   },
   "file_extension": ".py",
   "mimetype": "text/x-python",
   "name": "python",
   "nbconvert_exporter": "python",
   "pygments_lexer": "ipython2",
   "version": "2.7.6"
  }
 },
 "nbformat": 4,
 "nbformat_minor": 5
}
