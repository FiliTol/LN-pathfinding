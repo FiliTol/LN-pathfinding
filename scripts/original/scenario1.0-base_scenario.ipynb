{
 "cells": [
  {
   "metadata": {
    "ExecuteTime": {
     "end_time": "2025-02-03T20:58:26.461216Z",
     "start_time": "2025-02-03T20:58:25.773704Z"
    }
   },
   "cell_type": "code",
   "source": [
    "import pandas as pd\n",
    "from cleaning import create_demand\n",
    "import pyomo.environ as pyo\n",
    "import pyomo"
   ],
   "id": "initial_id",
   "outputs": [],
   "execution_count": 1
  },
  {
   "metadata": {},
   "cell_type": "markdown",
   "source": "# Data import",
   "id": "a4b2795dc42b8269"
  },
  {
   "metadata": {
    "ExecuteTime": {
     "end_time": "2025-02-03T20:58:26.572484Z",
     "start_time": "2025-02-03T20:58:26.463716Z"
    }
   },
   "cell_type": "code",
   "source": [
    "nodes = pd.read_pickle(\"../../data/original/nodes.pkl\")\n",
    "channels = pd.read_pickle(\"../../data/original/channels.pkl\")"
   ],
   "id": "20748e4222156956",
   "outputs": [],
   "execution_count": 2
  },
  {
   "metadata": {},
   "cell_type": "markdown",
   "source": "## Modeling",
   "id": "7df6d25eef847cf7"
  },
  {
   "metadata": {
    "ExecuteTime": {
     "end_time": "2025-02-03T20:58:26.581284Z",
     "start_time": "2025-02-03T20:58:26.573620Z"
    }
   },
   "cell_type": "code",
   "source": "pyomo.common.timing.report_timing()",
   "id": "4a4e07a12106f0f2",
   "outputs": [
    {
     "data": {
      "text/plain": [
       "<pyomo.common.timing.report_timing at 0x7f6e59566620>"
      ]
     },
     "execution_count": 3,
     "metadata": {},
     "output_type": "execute_result"
    }
   ],
   "execution_count": 3
  },
  {
   "metadata": {
    "ExecuteTime": {
     "end_time": "2025-02-03T20:58:26.596363Z",
     "start_time": "2025-02-03T20:58:26.583189Z"
    }
   },
   "cell_type": "code",
   "source": [
    "# Multiplication to set the same base unit for all computations\n",
    "channels[\"capacity\"] = channels[\"capacity\"] * 1000000\n",
    "channels[\"base_fee\"] = channels[\"base_fee\"] * 1000000"
   ],
   "id": "eb5330e8d98289ec",
   "outputs": [],
   "execution_count": 4
  },
  {
   "metadata": {
    "ExecuteTime": {
     "end_time": "2025-02-03T20:58:29.049553Z",
     "start_time": "2025-02-03T20:58:26.599541Z"
    }
   },
   "cell_type": "code",
   "source": [
    "model = pyo.ConcreteModel(name=\"Min cost flow problem\")\n",
    "model.NODES = pyo.Set(initialize=nodes.index)\n",
    "model.CHANNELS = pyo.Set(initialize=[(channels.loc[i, \"node1_pub\"], channels.loc[i, \"node2_pub\"]) for i in channels.index])"
   ],
   "id": "52bc701c57020ae",
   "outputs": [
    {
     "name": "stdout",
     "output_type": "stream",
     "text": [
      "           0 seconds to construct Block ConcreteModel; 1 index total\n",
      "        0.03 seconds to construct Set NODES; 1 index total\n",
      "        0.45 seconds to construct Set CHANNELS; 1 index total\n"
     ]
    }
   ],
   "execution_count": 5
  },
  {
   "metadata": {
    "ExecuteTime": {
     "end_time": "2025-02-03T20:58:29.067092Z",
     "start_time": "2025-02-03T20:58:29.051368Z"
    }
   },
   "cell_type": "code",
   "source": [
    "transaction_amount = 1000000\n",
    "nodes = create_demand(nodes, transaction_amount,\n",
    "                      source=\"02b4098c3116124c0c4105295d3d2e65927d46e98e248d84cb6119da57e4ae31e3\",destination=\"0202f00d5f5c91a3c79113851b162c2b75f2cbd9fb2378fb4a4ce92d5ba1e63e08\")"
   ],
   "id": "71f0e54edb55901d",
   "outputs": [
    {
     "name": "stdout",
     "output_type": "stream",
     "text": [
      "Transaction of 1000000 sats.\n",
      "Sender: VeniceForever\n",
      "Receiver: ShatSat412.\n"
     ]
    }
   ],
   "execution_count": 6
  },
  {
   "metadata": {
    "ExecuteTime": {
     "end_time": "2025-02-03T20:58:29.349164Z",
     "start_time": "2025-02-03T20:58:29.069283Z"
    }
   },
   "cell_type": "code",
   "source": [
    "model.x = pyo.Var(model.CHANNELS, domain=pyo.NonNegativeIntegers, bounds=(0,1))\n",
    "model.a = pyo.Var(model.CHANNELS, domain=pyo.NonNegativeReals, bounds=(0, max(nodes[\"demand\"])))"
   ],
   "id": "db6bf92632e748f7",
   "outputs": [
    {
     "name": "stdout",
     "output_type": "stream",
     "text": [
      "        0.14 seconds to construct Var x; 89898 indices total\n",
      "        0.14 seconds to construct Var a; 89898 indices total\n"
     ]
    }
   ],
   "execution_count": 7
  },
  {
   "metadata": {
    "ExecuteTime": {
     "end_time": "2025-02-03T20:58:29.389183Z",
     "start_time": "2025-02-03T20:58:29.350465Z"
    }
   },
   "cell_type": "code",
   "source": [
    "channels.reset_index(inplace=True)\n",
    "channels.set_index([\"node1_pub\", \"node2_pub\"], inplace=True)\n",
    "channels.sort_index(inplace=True)"
   ],
   "id": "5d69bcd9f4cf6b47",
   "outputs": [],
   "execution_count": 8
  },
  {
   "metadata": {},
   "cell_type": "markdown",
   "source": [
    "### Objective function\n",
    "\n",
    "$$\n",
    "min \\sum_{} ^{} amount_i \\times feerate_{i} + x_{i} \\times basefee_{i}\n",
    "$$"
   ],
   "id": "75fbeb57061b26ae"
  },
  {
   "metadata": {
    "ExecuteTime": {
     "end_time": "2025-02-03T20:58:37.575437Z",
     "start_time": "2025-02-03T20:58:29.390666Z"
    }
   },
   "cell_type": "code",
   "source": [
    "#def objective_function(model: pyo.ConcreteModel):\n",
    "#    return sum(model.a[i] * channels.loc[i, \"rate_fee\"] for i in model.CHANNELS) + sum(model.x[i] * channels.loc[i, \"base_fee\"] for i in model.CHANNELS)\n",
    "\n",
    "def objective_function(model: pyo.ConcreteModel):\n",
    "    return sum(model.a[i] * channels.loc[i, \"rate_fee\"] + model.x[i] * channels.loc[i, \"base_fee\"] for i in model.CHANNELS)\n",
    "\n",
    "model.totalCost = pyo.Objective(rule=objective_function(model), sense=pyo.minimize)"
   ],
   "id": "f45ec00f2444e9d1",
   "outputs": [
    {
     "name": "stdout",
     "output_type": "stream",
     "text": [
      "           0 seconds to construct Objective totalCost; 1 index total\n"
     ]
    }
   ],
   "execution_count": 9
  },
  {
   "metadata": {},
   "cell_type": "markdown",
   "source": "### Constraints\n",
   "id": "861b0daa9b9cba75"
  },
  {
   "metadata": {},
   "cell_type": "markdown",
   "source": [
    "#### Capacity constraint\n",
    "\n",
    "$$amount_{i,j} \\le capacity_{i,j} \\times x_{i,j} \\text{ } \\forall (i,j) \\in E$$"
   ],
   "id": "e5ea238f92c81afb"
  },
  {
   "metadata": {
    "ExecuteTime": {
     "end_time": "2025-02-03T20:58:42.866914Z",
     "start_time": "2025-02-03T20:58:37.576607Z"
    }
   },
   "cell_type": "code",
   "source": [
    "def capacity_constraint(model: pyo.ConcreteModel, a, b):\n",
    "    return model.a[(a, b)] <= channels.loc[(a, b), \"capacity\"] * model.x[(a, b)]\n",
    "\n",
    "model.CapacityConstraint = pyo.Constraint(model.CHANNELS, rule=capacity_constraint, name=\"Capacity constraint\")"
   ],
   "id": "7d46c6418b15675a",
   "outputs": [
    {
     "name": "stdout",
     "output_type": "stream",
     "text": [
      "        5.29 seconds to construct Constraint CapacityConstraint; 89898 indices total\n"
     ]
    }
   ],
   "execution_count": 10
  },
  {
   "metadata": {},
   "cell_type": "markdown",
   "source": [
    "#### Flow balance constraint\n",
    "\n",
    "$$\\sum_{(s,i) \\in E} amount_{s,i} - \\sum_{(i,t) \\in E} amount_{i,d} = b_i \\text{ } \\forall i \\in V$$\n",
    "\n",
    "where $s$ is the source node, $d$ is the destination node, $i$ is every intermediary node\n"
   ],
   "id": "7adcde34bbdb4878"
  },
  {
   "metadata": {
    "ExecuteTime": {
     "end_time": "2025-02-03T20:58:46.166115Z",
     "start_time": "2025-02-03T20:58:42.868538Z"
    }
   },
   "cell_type": "code",
   "source": [
    "channels.reset_index(inplace=True)\n",
    "channels.set_index(\"channel_id\", inplace=True)\n",
    "\n",
    "def flow_balance_constraint(model: pyo.ConcreteModel, n: str):\n",
    "    InFlow = sum(model.a[(channels.loc[a, \"node1_pub\"], channels.loc[a, \"node2_pub\"])] for a in nodes.loc[n, 'incoming_channels'])\n",
    "    OutFlow = sum(model.a[(channels.loc[a, \"node1_pub\"], channels.loc[a, \"node2_pub\"])] for a in nodes.loc[n, 'outgoing_channels'])\n",
    "    return  OutFlow + nodes.loc[n, \"demand\"] == InFlow\n",
    "\n",
    "model.FlowBalanceConstraint = pyo.Constraint(model.NODES, rule=flow_balance_constraint, name=\"Flow balance constrain\")\n",
    "\n",
    "channels.reset_index(inplace=True)\n",
    "channels.set_index([\"node1_pub\", \"node2_pub\"], inplace=True)\n",
    "channels.sort_index(inplace=True) "
   ],
   "id": "d2b57765c3b53fc5",
   "outputs": [
    {
     "name": "stdout",
     "output_type": "stream",
     "text": [
      "        3.25 seconds to construct Constraint FlowBalanceConstraint; 11984 indices total\n"
     ]
    }
   ],
   "execution_count": 11
  },
  {
   "metadata": {},
   "cell_type": "markdown",
   "source": "## Solving the model",
   "id": "b8bc8c88087daf77"
  },
  {
   "metadata": {
    "ExecuteTime": {
     "end_time": "2025-02-03T20:58:46.169896Z",
     "start_time": "2025-02-03T20:58:46.167439Z"
    }
   },
   "cell_type": "code",
   "source": [
    "#from pyomo.common.tempfiles import TempfileManager\n",
    "#TempfileManager.tempdir = \"/home/filippo/repositories/LN-pathfinding\""
   ],
   "id": "2dd413d5dd6de75f",
   "outputs": [],
   "execution_count": 12
  },
  {
   "metadata": {
    "ExecuteTime": {
     "end_time": "2025-02-03T20:58:56.369824Z",
     "start_time": "2025-02-03T20:58:46.171Z"
    }
   },
   "cell_type": "code",
   "source": [
    "opt = pyo.SolverFactory('cbc')\n",
    "#opt = pyo.SolverFactory('cplex_direct')\n",
    "results = opt.solve(model, tee=True, keepfiles=True)\n",
    "\n",
    "if (results.solver.status == pyo.SolverStatus.ok) and (results.solver.termination_condition == pyo.TerminationCondition.optimal):\n",
    "    print('\\nOptimal solution found')\n",
    "elif results.solver.termination_condition == pyo.TerminationCondition.feasible:\n",
    "    print('\\nFeasible but not proven optimal solution found')\n",
    "elif results.solver.termination_condition == pyo.TerminationCondition.infeasible:\n",
    "    raise Exception(\"The model is infeasible\")\n",
    "else:\n",
    "    print('\\nSolver Status: ',  results.solver.status)\n",
    "    raise Exception(results.solver.status)\n",
    "\n",
    "print('\\nObject function value = ', model.Objective())\n"
   ],
   "id": "f88c7c0611694b3b",
   "outputs": [
    {
     "name": "stdout",
     "output_type": "stream",
     "text": [
      "           0 seconds to construct Var ONE_VAR_CONSTANT; 1 index total\n",
      "      [    2.02] Generated LP representation\n",
      "Solver log file: '/tmp/tmp3z2gd88f.cbc.log'\n",
      "Solver solution file: '/tmp/tmp0gsd1yq0.pyomo.soln'\n",
      "Solver problem files: ('/tmp/tmp0gsd1yq0.pyomo.lp',)\n",
      "Welcome to the CBC MILP Solver \n",
      "Version: 2.10.8 \n",
      "Build Date: May  9 2022 \n",
      "\n",
      "command line - /usr/bin/cbc -printingOptions all -import /tmp/tmp0gsd1yq0.pyomo.lp -stat=1 -solve -solu /tmp/tmp0gsd1yq0.pyomo.soln (default strategy 1)\n",
      "Option for printingOptions changed from normal to all\n",
      "Presolve 61043 (-40839) rows, 138206 (-41590) columns and 265393 (-93649) elements\n",
      "Statistics for presolved model\n",
      "Original problem has 89898 integers (89898 of which binary)\n",
      "Presolved problem has 55058 integers (55058 of which binary)\n",
      "==== 6362 zero objective 3865 different\n",
      "==== absolute objective values 3865 different\n",
      "==== for integers 0 zero objective 967 different\n",
      "==== for integers absolute objective values 967 different\n",
      "===== end objective counts\n",
      "\n",
      "\n",
      "Problem has 61043 rows, 138206 columns (131844 with objective) and 265393 elements\n",
      "There are 56868 singletons with objective \n",
      "Column breakdown:\n",
      "0 of type 0.0->inf, 83148 of type 0.0->up, 0 of type lo->inf, \n",
      "0 of type lo->up, 0 of type free, 0 of type fixed, \n",
      "0 of type -inf->0.0, 0 of type -inf->up, 55058 of type 0.0->1.0 \n",
      "Row breakdown:\n",
      "5975 of type E 0.0, 0 of type E 1.0, 0 of type E -1.0, \n",
      "2 of type E other, 0 of type G 0.0, 0 of type G 1.0, \n",
      "0 of type G other, 55058 of type L 0.0, 0 of type L 1.0, \n",
      "0 of type L other, 0 of type Range 0.0->1.0, 8 of type Range other, \n",
      "0 of type Free \n",
      "Continuous objective value is 1.01829e+08 - 0.54 seconds\n",
      "Cgl0004I processed model has 52223 rows, 124103 columns (46238 integer (46238 of which binary)) and 247753 elements\n",
      "Cbc0038I Initial state - 0 integers unsatisfied sum - 6.5891e-16\n",
      "Cbc0038I Solution found of 1.04e+08\n",
      "Cbc0038I Relaxing continuous gives 1.04e+08\n",
      "Cbc0038I Before mini branch and bound, 46238 integers at bound fixed and 77833 continuous\n",
      "Cbc0038I Mini branch and bound did not improve solution (1.68 seconds)\n",
      "Cbc0038I After 1.72 seconds - Feasibility pump exiting with objective of 1.04e+08 - took 0.21 seconds\n",
      "Cbc0012I Integer solution of 1.04e+08 found by feasibility pump after 0 iterations and 0 nodes (2.68 seconds)\n",
      "Cbc0001I Search completed - best objective 104000000, took 0 iterations and 0 nodes (2.72 seconds)\n",
      "Cbc0035I Maximum depth 0, 0 variables fixed on reduced cost\n",
      "Cuts at root node changed objective from 1.04e+08 to 1.04e+08\n",
      "Probing was tried 0 times and created 0 cuts of which 0 were active after adding rounds of cuts (0.000 seconds)\n",
      "Gomory was tried 0 times and created 0 cuts of which 0 were active after adding rounds of cuts (0.000 seconds)\n",
      "Knapsack was tried 0 times and created 0 cuts of which 0 were active after adding rounds of cuts (0.000 seconds)\n",
      "Clique was tried 0 times and created 0 cuts of which 0 were active after adding rounds of cuts (0.000 seconds)\n",
      "MixedIntegerRounding2 was tried 0 times and created 0 cuts of which 0 were active after adding rounds of cuts (0.000 seconds)\n",
      "FlowCover was tried 0 times and created 0 cuts of which 0 were active after adding rounds of cuts (0.000 seconds)\n",
      "TwoMirCuts was tried 0 times and created 0 cuts of which 0 were active after adding rounds of cuts (0.000 seconds)\n",
      "ZeroHalf was tried 0 times and created 0 cuts of which 0 were active after adding rounds of cuts (0.000 seconds)\n",
      "\n",
      "Result - Optimal solution found\n",
      "\n",
      "Objective value:                105000000.00000000\n",
      "Enumerated nodes:               0\n",
      "Total iterations:               0\n",
      "Time (CPU seconds):             5.83\n",
      "Time (Wallclock seconds):       6.05\n",
      "\n",
      "Total time (CPU seconds):       6.48   (Wallclock seconds):       6.75\n",
      "\n",
      "\n",
      "Optimal solution found\n",
      "\n",
      "Object function value =  <pyomo.core.base.block._generic_component_decorator object at 0x7f6e4f043280>\n"
     ]
    }
   ],
   "execution_count": 13
  },
  {
   "metadata": {
    "ExecuteTime": {
     "end_time": "2025-02-03T20:58:56.376598Z",
     "start_time": "2025-02-03T20:58:56.372877Z"
    }
   },
   "cell_type": "code",
   "source": [
    "#from pyomo.opt import SolverStatus, TerminationCondition\n",
    "\n",
    "print(\"Solver Status: \",  results.solver[0][\"System time\"])\n"
   ],
   "id": "8539cc0c87e2357b",
   "outputs": [
    {
     "name": "stdout",
     "output_type": "stream",
     "text": [
      "Solver Status:  6.48\n"
     ]
    }
   ],
   "execution_count": 14
  },
  {
   "metadata": {
    "ExecuteTime": {
     "end_time": "2025-02-03T20:58:56.450566Z",
     "start_time": "2025-02-03T20:58:56.377812Z"
    }
   },
   "cell_type": "code",
   "source": [
    "from decimal import Decimal\n",
    "pd.set_option('display.max_colwidth', 10000000000000000000000000000000000000000000000000000)\n",
    "DF_channels = pd.DataFrame()\n",
    "c = 0\n",
    "for index, value in model.a.extract_values().items():\n",
    "    if value > 0.1:\n",
    "        DF_channels.loc[c, \"source\"] = index[0]\n",
    "        DF_channels.loc[c, \"destination\"] = index[1]\n",
    "        try:\n",
    "            DF_channels.loc[c, \"source-alias\"] = nodes.loc[index[0], \"alias\"]\n",
    "        except KeyError:\n",
    "            print(\"Source alias not found in nodes database: placeholder inserted\")\n",
    "            DF_channels.loc[c, \"source-alias\"] = \"source-alias\"\n",
    "            pass\n",
    "        try:\n",
    "            DF_channels.loc[c, \"destination-alias\"] = nodes.loc[index[1], \"alias\"]\n",
    "        except KeyError:\n",
    "            print(\"Destination alias not found in nodes database: placeholder inserted\")\n",
    "            DF_channels.loc[c, \"destination-alias\"] = \"destination-alias\"\n",
    "            pass\n",
    "        DF_channels.loc[c, \"capacity\"] = Decimal(channels.loc[index, \"capacity\"]/1000000)\n",
    "        DF_channels.loc[c, \"amount\"] = Decimal(value/1000000)\n",
    "        DF_channels.loc[c, \"base_fee\"] = Decimal(channels.loc[(index[0], index[1]), \"base_fee\"]/1000000)\n",
    "        DF_channels.loc[c, \"rate_fee\"] = channels.loc[(index[0], index[1]), \"rate_fee\"]\n",
    "        #DF_channels.loc[c, \"used_fl\"] = channels.loc[]\n",
    "        c += 1\n",
    "\n",
    "DF_channels_pos = DF_channels[DF_channels[\"amount\"]!=0]"
   ],
   "id": "b7051d6dc41ce1a0",
   "outputs": [],
   "execution_count": 15
  },
  {
   "metadata": {
    "ExecuteTime": {
     "end_time": "2025-02-03T20:58:56.462335Z",
     "start_time": "2025-02-03T20:58:56.452149Z"
    }
   },
   "cell_type": "code",
   "source": "DF_channels[DF_channels[\"amount\"]> DF_channels[\"capacity\"]]",
   "id": "591cfe14bef33883",
   "outputs": [
    {
     "data": {
      "text/plain": [
       "Empty DataFrame\n",
       "Columns: [source, destination, source-alias, destination-alias, capacity, amount, base_fee, rate_fee]\n",
       "Index: []"
      ],
      "text/html": [
       "<div>\n",
       "<style scoped>\n",
       "    .dataframe tbody tr th:only-of-type {\n",
       "        vertical-align: middle;\n",
       "    }\n",
       "\n",
       "    .dataframe tbody tr th {\n",
       "        vertical-align: top;\n",
       "    }\n",
       "\n",
       "    .dataframe thead th {\n",
       "        text-align: right;\n",
       "    }\n",
       "</style>\n",
       "<table border=\"1\" class=\"dataframe\">\n",
       "  <thead>\n",
       "    <tr style=\"text-align: right;\">\n",
       "      <th></th>\n",
       "      <th>source</th>\n",
       "      <th>destination</th>\n",
       "      <th>source-alias</th>\n",
       "      <th>destination-alias</th>\n",
       "      <th>capacity</th>\n",
       "      <th>amount</th>\n",
       "      <th>base_fee</th>\n",
       "      <th>rate_fee</th>\n",
       "    </tr>\n",
       "  </thead>\n",
       "  <tbody>\n",
       "  </tbody>\n",
       "</table>\n",
       "</div>"
      ]
     },
     "execution_count": 16,
     "metadata": {},
     "output_type": "execute_result"
    }
   ],
   "execution_count": 16
  },
  {
   "metadata": {
    "ExecuteTime": {
     "end_time": "2025-02-03T20:59:42.900871Z",
     "start_time": "2025-02-03T20:58:56.463882Z"
    }
   },
   "cell_type": "code",
   "source": [
    "DF_fixed = pd.DataFrame()\n",
    "c = 0\n",
    "for index, value in model.x.extract_values().items():\n",
    "    if value != 0:\n",
    "        DF_fixed.loc[c, \"source\"] = index[0]\n",
    "        DF_fixed.loc[c, \"destination\"] = index[1]\n",
    "        DF_fixed.loc[c, \"used\"] = Decimal(value)\n",
    "        c += 1\n",
    "\n",
    "DF_fixed_pos = DF_fixed[DF_fixed[\"used\"]!=0]\n",
    "DF_fixed_pos"
   ],
   "id": "4150b1232fe02328",
   "outputs": [
    {
     "data": {
      "text/plain": [
       "                                                                   source  \\\n",
       "0      0200000000a3eff613189ca6c4070c89206ad658e286751eca1f29262948247a5f   \n",
       "1      0200000000a3eff613189ca6c4070c89206ad658e286751eca1f29262948247a5f   \n",
       "2      020003b9499a97c8dfbbab6b196319db37ba9c37bccb60477f3c867175f417988e   \n",
       "3      020003b9499a97c8dfbbab6b196319db37ba9c37bccb60477f3c867175f417988e   \n",
       "4      020003b9499a97c8dfbbab6b196319db37ba9c37bccb60477f3c867175f417988e   \n",
       "...                                                                   ...   \n",
       "34824  03ffb24c4740fd13bc69680c4adebba8c332ad63a9a8ee44a541831eeb73d8e72b   \n",
       "34825  03ffb24c4740fd13bc69680c4adebba8c332ad63a9a8ee44a541831eeb73d8e72b   \n",
       "34826  03ffb24c4740fd13bc69680c4adebba8c332ad63a9a8ee44a541831eeb73d8e72b   \n",
       "34827  03ffbc206a416bbf89a7092ac28e7a9e2cd99231f9b4db71f125e38cef8eb4bcda   \n",
       "34828  03ffc95f28306c88f5c033774ac5e59c30f6cc91e76af6cd65769803e918942352   \n",
       "\n",
       "                                                              destination used  \n",
       "0      02e4971e61a3f55718ae31e2eed19aaf2e32caf3eb5ef5ff03e01aa3ada8907e78    1  \n",
       "1      02f1a8c87607f415c8f22c00593002775941dea48869ce23096af27b0cfdcc0b69    1  \n",
       "2      0205198c099c45acedf988445f71da087ca39cd80847e53a7819e8f4e45768d7d3    1  \n",
       "3      0208dfa005c47a8ae85363d12c54007a38550ca0d6f1c559ee11caaac8221eccd6    1  \n",
       "4      020f7c502e19ccb375d4abc689f2c1feb6816961d4a1e2dcfa8813f11c3bc9a5e1    1  \n",
       "...                                                                   ...  ...  \n",
       "34824  0283a2c4416a4803590d46fc104a8df50455c84cb25e9efe494b3ad4739bb5b3f7    1  \n",
       "34825  0324ba2392e25bff76abd0b1f7e4b53b5f82aa53fddc3419b051b6c801db9e2247    1  \n",
       "34826  03910da61c1b42e135f134ed92a537c758d1edac5436efbec5ee8cec1928e1a095    1  \n",
       "34827  026a0d374752a27ae489c37d6b37d76d9d7f8ad27a469d091d740018bbfbfdcf3a    1  \n",
       "34828  02f1a8c87607f415c8f22c00593002775941dea48869ce23096af27b0cfdcc0b69    1  \n",
       "\n",
       "[34829 rows x 3 columns]"
      ],
      "text/html": [
       "<div>\n",
       "<style scoped>\n",
       "    .dataframe tbody tr th:only-of-type {\n",
       "        vertical-align: middle;\n",
       "    }\n",
       "\n",
       "    .dataframe tbody tr th {\n",
       "        vertical-align: top;\n",
       "    }\n",
       "\n",
       "    .dataframe thead th {\n",
       "        text-align: right;\n",
       "    }\n",
       "</style>\n",
       "<table border=\"1\" class=\"dataframe\">\n",
       "  <thead>\n",
       "    <tr style=\"text-align: right;\">\n",
       "      <th></th>\n",
       "      <th>source</th>\n",
       "      <th>destination</th>\n",
       "      <th>used</th>\n",
       "    </tr>\n",
       "  </thead>\n",
       "  <tbody>\n",
       "    <tr>\n",
       "      <th>0</th>\n",
       "      <td>0200000000a3eff613189ca6c4070c89206ad658e286751eca1f29262948247a5f</td>\n",
       "      <td>02e4971e61a3f55718ae31e2eed19aaf2e32caf3eb5ef5ff03e01aa3ada8907e78</td>\n",
       "      <td>1</td>\n",
       "    </tr>\n",
       "    <tr>\n",
       "      <th>1</th>\n",
       "      <td>0200000000a3eff613189ca6c4070c89206ad658e286751eca1f29262948247a5f</td>\n",
       "      <td>02f1a8c87607f415c8f22c00593002775941dea48869ce23096af27b0cfdcc0b69</td>\n",
       "      <td>1</td>\n",
       "    </tr>\n",
       "    <tr>\n",
       "      <th>2</th>\n",
       "      <td>020003b9499a97c8dfbbab6b196319db37ba9c37bccb60477f3c867175f417988e</td>\n",
       "      <td>0205198c099c45acedf988445f71da087ca39cd80847e53a7819e8f4e45768d7d3</td>\n",
       "      <td>1</td>\n",
       "    </tr>\n",
       "    <tr>\n",
       "      <th>3</th>\n",
       "      <td>020003b9499a97c8dfbbab6b196319db37ba9c37bccb60477f3c867175f417988e</td>\n",
       "      <td>0208dfa005c47a8ae85363d12c54007a38550ca0d6f1c559ee11caaac8221eccd6</td>\n",
       "      <td>1</td>\n",
       "    </tr>\n",
       "    <tr>\n",
       "      <th>4</th>\n",
       "      <td>020003b9499a97c8dfbbab6b196319db37ba9c37bccb60477f3c867175f417988e</td>\n",
       "      <td>020f7c502e19ccb375d4abc689f2c1feb6816961d4a1e2dcfa8813f11c3bc9a5e1</td>\n",
       "      <td>1</td>\n",
       "    </tr>\n",
       "    <tr>\n",
       "      <th>...</th>\n",
       "      <td>...</td>\n",
       "      <td>...</td>\n",
       "      <td>...</td>\n",
       "    </tr>\n",
       "    <tr>\n",
       "      <th>34824</th>\n",
       "      <td>03ffb24c4740fd13bc69680c4adebba8c332ad63a9a8ee44a541831eeb73d8e72b</td>\n",
       "      <td>0283a2c4416a4803590d46fc104a8df50455c84cb25e9efe494b3ad4739bb5b3f7</td>\n",
       "      <td>1</td>\n",
       "    </tr>\n",
       "    <tr>\n",
       "      <th>34825</th>\n",
       "      <td>03ffb24c4740fd13bc69680c4adebba8c332ad63a9a8ee44a541831eeb73d8e72b</td>\n",
       "      <td>0324ba2392e25bff76abd0b1f7e4b53b5f82aa53fddc3419b051b6c801db9e2247</td>\n",
       "      <td>1</td>\n",
       "    </tr>\n",
       "    <tr>\n",
       "      <th>34826</th>\n",
       "      <td>03ffb24c4740fd13bc69680c4adebba8c332ad63a9a8ee44a541831eeb73d8e72b</td>\n",
       "      <td>03910da61c1b42e135f134ed92a537c758d1edac5436efbec5ee8cec1928e1a095</td>\n",
       "      <td>1</td>\n",
       "    </tr>\n",
       "    <tr>\n",
       "      <th>34827</th>\n",
       "      <td>03ffbc206a416bbf89a7092ac28e7a9e2cd99231f9b4db71f125e38cef8eb4bcda</td>\n",
       "      <td>026a0d374752a27ae489c37d6b37d76d9d7f8ad27a469d091d740018bbfbfdcf3a</td>\n",
       "      <td>1</td>\n",
       "    </tr>\n",
       "    <tr>\n",
       "      <th>34828</th>\n",
       "      <td>03ffc95f28306c88f5c033774ac5e59c30f6cc91e76af6cd65769803e918942352</td>\n",
       "      <td>02f1a8c87607f415c8f22c00593002775941dea48869ce23096af27b0cfdcc0b69</td>\n",
       "      <td>1</td>\n",
       "    </tr>\n",
       "  </tbody>\n",
       "</table>\n",
       "<p>34829 rows × 3 columns</p>\n",
       "</div>"
      ]
     },
     "execution_count": 17,
     "metadata": {},
     "output_type": "execute_result"
    }
   ],
   "execution_count": 17
  },
  {
   "metadata": {},
   "cell_type": "markdown",
   "source": "### All data about channels on path",
   "id": "1dfb4bcd7e78f159"
  },
  {
   "metadata": {
    "ExecuteTime": {
     "end_time": "2025-02-03T20:59:42.923375Z",
     "start_time": "2025-02-03T20:59:42.902165Z"
    }
   },
   "cell_type": "code",
   "source": [
    "intersection = DF_fixed_pos.merge(DF_channels_pos, on=[\"source\", \"destination\"], how=\"outer\")\n",
    "final = intersection[intersection[\"amount\"]>0]\n",
    "final"
   ],
   "id": "ab555f0c48920c85",
   "outputs": [
    {
     "data": {
      "text/plain": [
       "                                                                   source  \\\n",
       "587    0208d92b2d406094d794b2a6a512f585dbbdee810a870283b9c5bafc4fec8ac0aa   \n",
       "5759   0260fab633066ed7b1d9b9b8a0fac87e1579d1709e874d28a0d171a1f5c43bb877   \n",
       "6809   026be7f5f2f6649cb9eca52009bb855fc036814da1b703310041966a1912763d91   \n",
       "10447  02a98e8c590a1b5602049d6b21d8f4c8861970aa310762f42eae1b2be88372e924   \n",
       "11032  02b4098c3116124c0c4105295d3d2e65927d46e98e248d84cb6119da57e4ae31e3   \n",
       "13443  02ddb472c8edf0624dec5544507b705aae67d42a6cc2db133ba7e843fd5ce90135   \n",
       "14621  02f0c7b731ca40a285d7c12aa1c5c7c7caa4598d3d6d34904c3714cd0d47852640   \n",
       "18038  0322d0e43b3d92d30ed187f4e101a9a9605c3ee5fc9721e6dac3ce3d7732fbb13e   \n",
       "21624  034f3f792988c43f41c65a839acdfa48647204bb99aca7de426f7c80b0dcf7a4a6   \n",
       "21967  0357853bbdbeda5b662783f391f29bd10194e2254d0f091eb4116a0b405001dd52   \n",
       "24700  0373eab8f43b0710549ddccc19ac7824ab6aea7655f4c15f4bc93b63df5db8fa48   \n",
       "25281  0378a5312ca36773971df43f833b571d024fd7d5d216fbdf7e241b710714ef1be1   \n",
       "28066  039705cfd4b0ab529a4036bce0b32854f788cac0ab71af5ffabd2ac6b1fc3f89b8   \n",
       "31386  03c8e5f583585cac1de2b7503a6ccd3c12ba477cfd139cd4905be504c2f48e86bd   \n",
       "33696  03e81689bfd18d0accb28d720ed222209b1a5f2c6825308772beac75b1fe35d491   \n",
       "\n",
       "                                                              destination  \\\n",
       "587    034f3f792988c43f41c65a839acdfa48647204bb99aca7de426f7c80b0dcf7a4a6   \n",
       "5759   02f0c7b731ca40a285d7c12aa1c5c7c7caa4598d3d6d34904c3714cd0d47852640   \n",
       "6809   03e81689bfd18d0accb28d720ed222209b1a5f2c6825308772beac75b1fe35d491   \n",
       "10447  0357853bbdbeda5b662783f391f29bd10194e2254d0f091eb4116a0b405001dd52   \n",
       "11032  0208d92b2d406094d794b2a6a512f585dbbdee810a870283b9c5bafc4fec8ac0aa   \n",
       "13443  026be7f5f2f6649cb9eca52009bb855fc036814da1b703310041966a1912763d91   \n",
       "14621  03c8e5f583585cac1de2b7503a6ccd3c12ba477cfd139cd4905be504c2f48e86bd   \n",
       "18038  02a98e8c590a1b5602049d6b21d8f4c8861970aa310762f42eae1b2be88372e924   \n",
       "21624  02ddb472c8edf0624dec5544507b705aae67d42a6cc2db133ba7e843fd5ce90135   \n",
       "21967  0260fab633066ed7b1d9b9b8a0fac87e1579d1709e874d28a0d171a1f5c43bb877   \n",
       "24700  039705cfd4b0ab529a4036bce0b32854f788cac0ab71af5ffabd2ac6b1fc3f89b8   \n",
       "25281  0322d0e43b3d92d30ed187f4e101a9a9605c3ee5fc9721e6dac3ce3d7732fbb13e   \n",
       "28066  0373eab8f43b0710549ddccc19ac7824ab6aea7655f4c15f4bc93b63df5db8fa48   \n",
       "31386  0202f00d5f5c91a3c79113851b162c2b75f2cbd9fb2378fb4a4ce92d5ba1e63e08   \n",
       "33696  0378a5312ca36773971df43f833b571d024fd7d5d216fbdf7e241b710714ef1be1   \n",
       "\n",
       "      used                source-alias           destination-alias  capacity  \\\n",
       "587      1                      Eprahs                     hexagon   1000000   \n",
       "5759     1                   TangoBolt                    Henwen 🐷  10000000   \n",
       "6809     1                    Sats4Fun  Rust-eze (now BoltTrustiC)   2000000   \n",
       "10447    1       ed528ad49bedd1f7a638a                    SteelRat  16000000   \n",
       "11032    1               VeniceForever                      Eprahs   1500000   \n",
       "13443    1           AfricaFreeRouting                    Sats4Fun   2000000   \n",
       "14621    1                    Henwen 🐷                      Strike  10000000   \n",
       "18038    1               Megalithic.me       ed528ad49bedd1f7a638a  51000000   \n",
       "21624    1                     hexagon           AfricaFreeRouting   2000000   \n",
       "21967    1                    SteelRat                   TangoBolt   1000000   \n",
       "24700    1                   HanzoNode               philosoraptor    250000   \n",
       "25281    1                      OneKey               Megalithic.me  16000000   \n",
       "28066    1               philosoraptor                   HanzoNode    250000   \n",
       "31386    1                      Strike                  ShatSat412  10000000   \n",
       "33696    1  Rust-eze (now BoltTrustiC)                      OneKey  10000000   \n",
       "\n",
       "        amount base_fee  rate_fee  \n",
       "587    1000000        1    0.0000  \n",
       "5759   1000000        0    0.0000  \n",
       "6809   1000000        0    0.0000  \n",
       "10447  1000000        1    0.0000  \n",
       "11032  1000000        1    0.0000  \n",
       "13443  1000000        0    0.0000  \n",
       "14621  1000000        0    0.0000  \n",
       "18038  1000000        0    0.0000  \n",
       "21624  1000000        0    0.0000  \n",
       "21967  1000000        0    0.0000  \n",
       "24700   250000        0    0.0000  \n",
       "25281  1000000        0    0.0000  \n",
       "28066   250000        0    0.0000  \n",
       "31386  1000000        1    0.0001  \n",
       "33696  1000000        0    0.0000  "
      ],
      "text/html": [
       "<div>\n",
       "<style scoped>\n",
       "    .dataframe tbody tr th:only-of-type {\n",
       "        vertical-align: middle;\n",
       "    }\n",
       "\n",
       "    .dataframe tbody tr th {\n",
       "        vertical-align: top;\n",
       "    }\n",
       "\n",
       "    .dataframe thead th {\n",
       "        text-align: right;\n",
       "    }\n",
       "</style>\n",
       "<table border=\"1\" class=\"dataframe\">\n",
       "  <thead>\n",
       "    <tr style=\"text-align: right;\">\n",
       "      <th></th>\n",
       "      <th>source</th>\n",
       "      <th>destination</th>\n",
       "      <th>used</th>\n",
       "      <th>source-alias</th>\n",
       "      <th>destination-alias</th>\n",
       "      <th>capacity</th>\n",
       "      <th>amount</th>\n",
       "      <th>base_fee</th>\n",
       "      <th>rate_fee</th>\n",
       "    </tr>\n",
       "  </thead>\n",
       "  <tbody>\n",
       "    <tr>\n",
       "      <th>587</th>\n",
       "      <td>0208d92b2d406094d794b2a6a512f585dbbdee810a870283b9c5bafc4fec8ac0aa</td>\n",
       "      <td>034f3f792988c43f41c65a839acdfa48647204bb99aca7de426f7c80b0dcf7a4a6</td>\n",
       "      <td>1</td>\n",
       "      <td>Eprahs</td>\n",
       "      <td>hexagon</td>\n",
       "      <td>1000000</td>\n",
       "      <td>1000000</td>\n",
       "      <td>1</td>\n",
       "      <td>0.0000</td>\n",
       "    </tr>\n",
       "    <tr>\n",
       "      <th>5759</th>\n",
       "      <td>0260fab633066ed7b1d9b9b8a0fac87e1579d1709e874d28a0d171a1f5c43bb877</td>\n",
       "      <td>02f0c7b731ca40a285d7c12aa1c5c7c7caa4598d3d6d34904c3714cd0d47852640</td>\n",
       "      <td>1</td>\n",
       "      <td>TangoBolt</td>\n",
       "      <td>Henwen 🐷</td>\n",
       "      <td>10000000</td>\n",
       "      <td>1000000</td>\n",
       "      <td>0</td>\n",
       "      <td>0.0000</td>\n",
       "    </tr>\n",
       "    <tr>\n",
       "      <th>6809</th>\n",
       "      <td>026be7f5f2f6649cb9eca52009bb855fc036814da1b703310041966a1912763d91</td>\n",
       "      <td>03e81689bfd18d0accb28d720ed222209b1a5f2c6825308772beac75b1fe35d491</td>\n",
       "      <td>1</td>\n",
       "      <td>Sats4Fun</td>\n",
       "      <td>Rust-eze (now BoltTrustiC)</td>\n",
       "      <td>2000000</td>\n",
       "      <td>1000000</td>\n",
       "      <td>0</td>\n",
       "      <td>0.0000</td>\n",
       "    </tr>\n",
       "    <tr>\n",
       "      <th>10447</th>\n",
       "      <td>02a98e8c590a1b5602049d6b21d8f4c8861970aa310762f42eae1b2be88372e924</td>\n",
       "      <td>0357853bbdbeda5b662783f391f29bd10194e2254d0f091eb4116a0b405001dd52</td>\n",
       "      <td>1</td>\n",
       "      <td>ed528ad49bedd1f7a638a</td>\n",
       "      <td>SteelRat</td>\n",
       "      <td>16000000</td>\n",
       "      <td>1000000</td>\n",
       "      <td>1</td>\n",
       "      <td>0.0000</td>\n",
       "    </tr>\n",
       "    <tr>\n",
       "      <th>11032</th>\n",
       "      <td>02b4098c3116124c0c4105295d3d2e65927d46e98e248d84cb6119da57e4ae31e3</td>\n",
       "      <td>0208d92b2d406094d794b2a6a512f585dbbdee810a870283b9c5bafc4fec8ac0aa</td>\n",
       "      <td>1</td>\n",
       "      <td>VeniceForever</td>\n",
       "      <td>Eprahs</td>\n",
       "      <td>1500000</td>\n",
       "      <td>1000000</td>\n",
       "      <td>1</td>\n",
       "      <td>0.0000</td>\n",
       "    </tr>\n",
       "    <tr>\n",
       "      <th>13443</th>\n",
       "      <td>02ddb472c8edf0624dec5544507b705aae67d42a6cc2db133ba7e843fd5ce90135</td>\n",
       "      <td>026be7f5f2f6649cb9eca52009bb855fc036814da1b703310041966a1912763d91</td>\n",
       "      <td>1</td>\n",
       "      <td>AfricaFreeRouting</td>\n",
       "      <td>Sats4Fun</td>\n",
       "      <td>2000000</td>\n",
       "      <td>1000000</td>\n",
       "      <td>0</td>\n",
       "      <td>0.0000</td>\n",
       "    </tr>\n",
       "    <tr>\n",
       "      <th>14621</th>\n",
       "      <td>02f0c7b731ca40a285d7c12aa1c5c7c7caa4598d3d6d34904c3714cd0d47852640</td>\n",
       "      <td>03c8e5f583585cac1de2b7503a6ccd3c12ba477cfd139cd4905be504c2f48e86bd</td>\n",
       "      <td>1</td>\n",
       "      <td>Henwen 🐷</td>\n",
       "      <td>Strike</td>\n",
       "      <td>10000000</td>\n",
       "      <td>1000000</td>\n",
       "      <td>0</td>\n",
       "      <td>0.0000</td>\n",
       "    </tr>\n",
       "    <tr>\n",
       "      <th>18038</th>\n",
       "      <td>0322d0e43b3d92d30ed187f4e101a9a9605c3ee5fc9721e6dac3ce3d7732fbb13e</td>\n",
       "      <td>02a98e8c590a1b5602049d6b21d8f4c8861970aa310762f42eae1b2be88372e924</td>\n",
       "      <td>1</td>\n",
       "      <td>Megalithic.me</td>\n",
       "      <td>ed528ad49bedd1f7a638a</td>\n",
       "      <td>51000000</td>\n",
       "      <td>1000000</td>\n",
       "      <td>0</td>\n",
       "      <td>0.0000</td>\n",
       "    </tr>\n",
       "    <tr>\n",
       "      <th>21624</th>\n",
       "      <td>034f3f792988c43f41c65a839acdfa48647204bb99aca7de426f7c80b0dcf7a4a6</td>\n",
       "      <td>02ddb472c8edf0624dec5544507b705aae67d42a6cc2db133ba7e843fd5ce90135</td>\n",
       "      <td>1</td>\n",
       "      <td>hexagon</td>\n",
       "      <td>AfricaFreeRouting</td>\n",
       "      <td>2000000</td>\n",
       "      <td>1000000</td>\n",
       "      <td>0</td>\n",
       "      <td>0.0000</td>\n",
       "    </tr>\n",
       "    <tr>\n",
       "      <th>21967</th>\n",
       "      <td>0357853bbdbeda5b662783f391f29bd10194e2254d0f091eb4116a0b405001dd52</td>\n",
       "      <td>0260fab633066ed7b1d9b9b8a0fac87e1579d1709e874d28a0d171a1f5c43bb877</td>\n",
       "      <td>1</td>\n",
       "      <td>SteelRat</td>\n",
       "      <td>TangoBolt</td>\n",
       "      <td>1000000</td>\n",
       "      <td>1000000</td>\n",
       "      <td>0</td>\n",
       "      <td>0.0000</td>\n",
       "    </tr>\n",
       "    <tr>\n",
       "      <th>24700</th>\n",
       "      <td>0373eab8f43b0710549ddccc19ac7824ab6aea7655f4c15f4bc93b63df5db8fa48</td>\n",
       "      <td>039705cfd4b0ab529a4036bce0b32854f788cac0ab71af5ffabd2ac6b1fc3f89b8</td>\n",
       "      <td>1</td>\n",
       "      <td>HanzoNode</td>\n",
       "      <td>philosoraptor</td>\n",
       "      <td>250000</td>\n",
       "      <td>250000</td>\n",
       "      <td>0</td>\n",
       "      <td>0.0000</td>\n",
       "    </tr>\n",
       "    <tr>\n",
       "      <th>25281</th>\n",
       "      <td>0378a5312ca36773971df43f833b571d024fd7d5d216fbdf7e241b710714ef1be1</td>\n",
       "      <td>0322d0e43b3d92d30ed187f4e101a9a9605c3ee5fc9721e6dac3ce3d7732fbb13e</td>\n",
       "      <td>1</td>\n",
       "      <td>OneKey</td>\n",
       "      <td>Megalithic.me</td>\n",
       "      <td>16000000</td>\n",
       "      <td>1000000</td>\n",
       "      <td>0</td>\n",
       "      <td>0.0000</td>\n",
       "    </tr>\n",
       "    <tr>\n",
       "      <th>28066</th>\n",
       "      <td>039705cfd4b0ab529a4036bce0b32854f788cac0ab71af5ffabd2ac6b1fc3f89b8</td>\n",
       "      <td>0373eab8f43b0710549ddccc19ac7824ab6aea7655f4c15f4bc93b63df5db8fa48</td>\n",
       "      <td>1</td>\n",
       "      <td>philosoraptor</td>\n",
       "      <td>HanzoNode</td>\n",
       "      <td>250000</td>\n",
       "      <td>250000</td>\n",
       "      <td>0</td>\n",
       "      <td>0.0000</td>\n",
       "    </tr>\n",
       "    <tr>\n",
       "      <th>31386</th>\n",
       "      <td>03c8e5f583585cac1de2b7503a6ccd3c12ba477cfd139cd4905be504c2f48e86bd</td>\n",
       "      <td>0202f00d5f5c91a3c79113851b162c2b75f2cbd9fb2378fb4a4ce92d5ba1e63e08</td>\n",
       "      <td>1</td>\n",
       "      <td>Strike</td>\n",
       "      <td>ShatSat412</td>\n",
       "      <td>10000000</td>\n",
       "      <td>1000000</td>\n",
       "      <td>1</td>\n",
       "      <td>0.0001</td>\n",
       "    </tr>\n",
       "    <tr>\n",
       "      <th>33696</th>\n",
       "      <td>03e81689bfd18d0accb28d720ed222209b1a5f2c6825308772beac75b1fe35d491</td>\n",
       "      <td>0378a5312ca36773971df43f833b571d024fd7d5d216fbdf7e241b710714ef1be1</td>\n",
       "      <td>1</td>\n",
       "      <td>Rust-eze (now BoltTrustiC)</td>\n",
       "      <td>OneKey</td>\n",
       "      <td>10000000</td>\n",
       "      <td>1000000</td>\n",
       "      <td>0</td>\n",
       "      <td>0.0000</td>\n",
       "    </tr>\n",
       "  </tbody>\n",
       "</table>\n",
       "</div>"
      ]
     },
     "execution_count": 18,
     "metadata": {},
     "output_type": "execute_result"
    }
   ],
   "execution_count": 18
  },
  {
   "metadata": {
    "ExecuteTime": {
     "end_time": "2025-02-03T20:59:42.930776Z",
     "start_time": "2025-02-03T20:59:42.924601Z"
    }
   },
   "cell_type": "code",
   "source": [
    "%%capture --no-stdout\n",
    "final[\"amount\"] = final[\"amount\"].astype(float)\n",
    "final[\"rate_fee\"] = final[\"rate_fee\"].astype(float)\n",
    "final[\"base_fee\"] = final[\"base_fee\"].astype(float)\n",
    "total_transaction_cost = sum(final[\"amount\"] * final[\"rate_fee\"] + final[\"base_fee\"])\n",
    "perc_cost = (total_transaction_cost * 100) / transaction_amount\n",
    "print(f\"Transacting {transaction_amount} sats costs {total_transaction_cost} ({perc_cost}% of transaction amount)\")"
   ],
   "id": "5cb9ca4869b126de",
   "outputs": [
    {
     "name": "stdout",
     "output_type": "stream",
     "text": [
      "Transacting 1000000 sats costs 104.0 (0.0104% of transaction amount)\n"
     ]
    }
   ],
   "execution_count": 19
  },
  {
   "metadata": {
    "ExecuteTime": {
     "end_time": "2025-02-03T20:59:43.723714Z",
     "start_time": "2025-02-03T20:59:42.932381Z"
    }
   },
   "cell_type": "code",
   "source": [
    "import networkx as nx\n",
    "import matplotlib.pyplot as plt\n",
    "\n",
    "# edges list construction\n",
    "edges_df = final[[\"source-alias\", \"destination-alias\"]]\n",
    "\n",
    "G = nx.from_pandas_edgelist(edges_df, \"source-alias\", \"destination-alias\", create_using=nx.DiGraph())\n",
    "\n",
    "#plt.figure(figsize=(8, 6))\n",
    "#pos = nx.spring_layout(G)\n",
    "#nx.draw(G, pos, with_labels=True, node_size=2000, node_color='lightblue', font_size=10, font_color='black', font_weight='bold', arrows=True)\n",
    "#plt.title(\"Graph from DataFrame of Edges\")\n",
    "#plt.show()\n",
    "\n",
    "\n",
    "plt.figure(figsize=(8, 6))\n",
    "pos = nx.spring_layout(G)  # positions for all nodes\n",
    "nx.draw(G, pos, with_labels=True, node_size=1000, node_color='lightblue', font_size=10, font_color='black', font_weight='bold', arrows=True)\n",
    "plt.title(\"Graph with Uniform Node Size\")\n",
    "plt.show()"
   ],
   "id": "d7e96330eab65421",
   "outputs": [
    {
     "name": "stderr",
     "output_type": "stream",
     "text": [
      "/home/filippo/repositories/LN-pathfinding/venv/lib/python3.10/site-packages/IPython/core/pylabtools.py:170: UserWarning: Glyph 128055 (\\N{PIG FACE}) missing from font(s) DejaVu Sans.\n",
      "  fig.canvas.print_figure(bytes_io, **kw)\n"
     ]
    },
    {
     "data": {
      "text/plain": [
       "<Figure size 800x600 with 1 Axes>"
      ],
      "image/png": "[encoded data removed]"
     },
     "metadata": {},
     "output_type": "display_data"
    }
   ],
   "execution_count": 20
  },
  {
   "metadata": {
    "ExecuteTime": {
     "end_time": "2025-02-03T20:59:43.731303Z",
     "start_time": "2025-02-03T20:59:43.726333Z"
    }
   },
   "cell_type": "code",
   "source": [
    "for i in nx.strongly_connected_components(G):\n",
    "    print(i)"
   ],
   "id": "ba678151d648b088",
   "outputs": [
    {
     "name": "stdout",
     "output_type": "stream",
     "text": [
      "{'ShatSat412'}\n",
      "{'Strike'}\n",
      "{'Henwen 🐷'}\n",
      "{'TangoBolt'}\n",
      "{'SteelRat'}\n",
      "{'ed528ad49bedd1f7a638a'}\n",
      "{'Megalithic.me'}\n",
      "{'OneKey'}\n",
      "{'Rust-eze (now BoltTrustiC)'}\n",
      "{'Sats4Fun'}\n",
      "{'AfricaFreeRouting'}\n",
      "{'hexagon'}\n",
      "{'Eprahs'}\n",
      "{'VeniceForever'}\n",
      "{'HanzoNode', 'philosoraptor'}\n"
     ]
    }
   ],
   "execution_count": 21
  },
  {
   "metadata": {
    "ExecuteTime": {
     "end_time": "2025-02-03T20:59:43.743797Z",
     "start_time": "2025-02-03T20:59:43.733063Z"
    }
   },
   "cell_type": "code",
   "source": [
    "final[\"amount\"] = final[\"amount\"].astype(float)\n",
    "final[\"rate_fee\"] = final[\"rate_fee\"].astype(float)\n",
    "final[\"base_fee\"] = final[\"base_fee\"].astype(float)\n",
    "total_transaction_cost = sum(final[\"amount\"] * final[\"rate_fee\"] + final[\"base_fee\"])\n",
    "perc_cost = (total_transaction_cost * 100) / transaction_amount\n",
    "print(f\"Transacting {transaction_amount} sats costs {total_transaction_cost} ({perc_cost}% of transaction amount)\")\n",
    "print(\"Solver Status: \", results.solver[0][\"System time\"])"
   ],
   "id": "85a5678d800efad8",
   "outputs": [
    {
     "name": "stdout",
     "output_type": "stream",
     "text": [
      "Transacting 1000000 sats costs 104.0 (0.0104% of transaction amount)\n",
      "Solver Status:  6.48\n"
     ]
    },
    {
     "name": "stderr",
     "output_type": "stream",
     "text": [
      "/tmp/ipykernel_16039/930812685.py:1: SettingWithCopyWarning: \n",
      "A value is trying to be set on a copy of a slice from a DataFrame.\n",
      "Try using .loc[row_indexer,col_indexer] = value instead\n",
      "\n",
      "See the caveats in the documentation: https://pandas.pydata.org/pandas-docs/stable/user_guide/indexing.html#returning-a-view-versus-a-copy\n",
      "  final[\"amount\"] = final[\"amount\"].astype(float)\n",
      "/tmp/ipykernel_16039/930812685.py:2: SettingWithCopyWarning: \n",
      "A value is trying to be set on a copy of a slice from a DataFrame.\n",
      "Try using .loc[row_indexer,col_indexer] = value instead\n",
      "\n",
      "See the caveats in the documentation: https://pandas.pydata.org/pandas-docs/stable/user_guide/indexing.html#returning-a-view-versus-a-copy\n",
      "  final[\"rate_fee\"] = final[\"rate_fee\"].astype(float)\n",
      "/tmp/ipykernel_16039/930812685.py:3: SettingWithCopyWarning: \n",
      "A value is trying to be set on a copy of a slice from a DataFrame.\n",
      "Try using .loc[row_indexer,col_indexer] = value instead\n",
      "\n",
      "See the caveats in the documentation: https://pandas.pydata.org/pandas-docs/stable/user_guide/indexing.html#returning-a-view-versus-a-copy\n",
      "  final[\"base_fee\"] = final[\"base_fee\"].astype(float)\n"
     ]
    }
   ],
   "execution_count": 22
  },
  {
   "metadata": {
    "ExecuteTime": {
     "end_time": "2025-02-03T20:59:43.752529Z",
     "start_time": "2025-02-03T20:59:43.745689Z"
    }
   },
   "cell_type": "code",
   "source": [
    "#from collections import Counter\n",
    "#results = [tuple(i) for i in DF_channels_pos[[\"source-alias\", \"destination-alias\"]].to_numpy()]\n",
    "#unwrap = [e for i in results for e in i]\n",
    "#extremes = [j for j in unwrap if Counter(unwrap)[j] == 1]\n",
    "#def return_source(l: list):\n",
    "#    if l[0] in [i for i, j in results]:\n",
    "#        return l[0]\n",
    "#    else: \n",
    "#        return l[1]\n",
    "#sequence = []        \n",
    "#source = return_source(extremes)\n",
    "#sequence.append(source)\n",
    "#while len(sequence) <= len(results):\n",
    "#    for i,j in results:\n",
    "#        if i == sequence[-1]:\n",
    "#            sequence.append(j)\n",
    "#for i in sequence:\n",
    "#    print(\"⬇️\", i)"
   ],
   "id": "6388d7bda8ced731",
   "outputs": [],
   "execution_count": 23
  }
 ],
 "metadata": {
  "kernelspec": {
   "display_name": "Python 3",
   "language": "python",
   "name": "python3"
  },
  "language_info": {
   "codemirror_mode": {
    "name": "ipython",
    "version": 2
   },
   "file_extension": ".py",
   "mimetype": "text/x-python",
   "name": "python",
   "nbconvert_exporter": "python",
   "pygments_lexer": "ipython2",
   "version": "2.7.6"
  }
 },
 "nbformat": 4,
 "nbformat_minor": 5
}
