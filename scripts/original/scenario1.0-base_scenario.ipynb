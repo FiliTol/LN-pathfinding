{
 "cells": [
  {
   "metadata": {
    "ExecuteTime": {
     "end_time": "2025-01-18T20:17:25.178416Z",
     "start_time": "2025-01-18T20:17:24.700030Z"
    }
   },
   "cell_type": "code",
   "source": [
    "import pandas as pd\n",
    "from cleaning import create_demand\n",
    "import pyomo.environ as pyo\n",
    "import pyomo"
   ],
   "id": "initial_id",
   "outputs": [],
   "execution_count": 1
  },
  {
   "metadata": {},
   "cell_type": "markdown",
   "source": "# Data import",
   "id": "a4b2795dc42b8269"
  },
  {
   "metadata": {
    "ExecuteTime": {
     "end_time": "2025-01-18T20:17:25.265106Z",
     "start_time": "2025-01-18T20:17:25.179476Z"
    }
   },
   "cell_type": "code",
   "source": [
    "nodes = pd.read_pickle(\"../../data/original/nodes.pkl\")\n",
    "channels = pd.read_pickle(\"../../data/original/channels.pkl\")"
   ],
   "id": "20748e4222156956",
   "outputs": [],
   "execution_count": 2
  },
  {
   "metadata": {},
   "cell_type": "markdown",
   "source": "## Modeling",
   "id": "7df6d25eef847cf7"
  },
  {
   "metadata": {
    "ExecuteTime": {
     "end_time": "2025-01-18T20:17:25.273744Z",
     "start_time": "2025-01-18T20:17:25.266442Z"
    }
   },
   "cell_type": "code",
   "source": "pyomo.common.timing.report_timing()",
   "id": "4a4e07a12106f0f2",
   "outputs": [
    {
     "data": {
      "text/plain": [
       "<pyomo.common.timing.report_timing at 0x7f85367ae440>"
      ]
     },
     "execution_count": 3,
     "metadata": {},
     "output_type": "execute_result"
    }
   ],
   "execution_count": 3
  },
  {
   "metadata": {
    "ExecuteTime": {
     "end_time": "2025-01-18T20:17:25.288132Z",
     "start_time": "2025-01-18T20:17:25.275001Z"
    }
   },
   "cell_type": "code",
   "source": [
    "# Multiplication to set the same base unit for all computations\n",
    "channels[\"capacity\"] = channels[\"capacity\"] * 1000000\n",
    "channels[\"base_fee\"] = channels[\"base_fee\"] * 1000000"
   ],
   "id": "eb5330e8d98289ec",
   "outputs": [],
   "execution_count": 4
  },
  {
   "metadata": {
    "ExecuteTime": {
     "end_time": "2025-01-18T20:17:27.262259Z",
     "start_time": "2025-01-18T20:17:25.289872Z"
    }
   },
   "cell_type": "code",
   "source": [
    "model = pyo.ConcreteModel(name=\"Min cost flow problem\")\n",
    "model.NODES = pyo.Set(initialize=nodes.index)\n",
    "model.CHANNELS = pyo.Set(initialize=[(channels.loc[i, \"node1_pub\"], channels.loc[i, \"node2_pub\"]) for i in channels.index])"
   ],
   "id": "52bc701c57020ae",
   "outputs": [
    {
     "name": "stdout",
     "output_type": "stream",
     "text": [
      "           0 seconds to construct Block ConcreteModel; 1 index total\n",
      "        0.02 seconds to construct Set NODES; 1 index total\n",
      "        0.33 seconds to construct Set CHANNELS; 1 index total\n"
     ]
    }
   ],
   "execution_count": 5
  },
  {
   "metadata": {
    "ExecuteTime": {
     "end_time": "2025-01-18T20:17:27.269833Z",
     "start_time": "2025-01-18T20:17:27.263133Z"
    }
   },
   "cell_type": "code",
   "source": [
    "transaction_amount = 500000\n",
    "nodes = create_demand(nodes, transaction_amount,\n",
    "                      source=\"02b4098c3116124c0c4105295d3d2e65927d46e98e248d84cb6119da57e4ae31e3\",destination=\"0202f00d5f5c91a3c79113851b162c2b75f2cbd9fb2378fb4a4ce92d5ba1e63e08\")"
   ],
   "id": "71f0e54edb55901d",
   "outputs": [
    {
     "name": "stdout",
     "output_type": "stream",
     "text": [
      "Transaction of 500000 sats.\n",
      "Sender: VeniceForever\n",
      "Receiver: ShatSat412.\n"
     ]
    }
   ],
   "execution_count": 6
  },
  {
   "metadata": {
    "ExecuteTime": {
     "end_time": "2025-01-18T20:17:27.510050Z",
     "start_time": "2025-01-18T20:17:27.270680Z"
    }
   },
   "cell_type": "code",
   "source": [
    "model.x = pyo.Var(model.CHANNELS, domain=pyo.NonNegativeIntegers, bounds=(0,1))\n",
    "model.a = pyo.Var(model.CHANNELS, domain=pyo.NonNegativeReals, bounds=(0, max(nodes[\"demand\"])))"
   ],
   "id": "db6bf92632e748f7",
   "outputs": [
    {
     "name": "stdout",
     "output_type": "stream",
     "text": [
      "        0.11 seconds to construct Var x; 89898 indices total\n",
      "        0.12 seconds to construct Var a; 89898 indices total\n"
     ]
    }
   ],
   "execution_count": 7
  },
  {
   "metadata": {
    "ExecuteTime": {
     "end_time": "2025-01-18T20:17:27.540051Z",
     "start_time": "2025-01-18T20:17:27.511117Z"
    }
   },
   "cell_type": "code",
   "source": [
    "channels.reset_index(inplace=True)\n",
    "channels.set_index([\"node1_pub\", \"node2_pub\"], inplace=True)\n",
    "channels.sort_index(inplace=True)"
   ],
   "id": "5d69bcd9f4cf6b47",
   "outputs": [],
   "execution_count": 8
  },
  {
   "metadata": {},
   "cell_type": "markdown",
   "source": [
    "### Objective function\n",
    "\n",
    "$$\n",
    "min \\sum_{} ^{} amount_i \\times feerate_{i} + x_{i} \\times basefee_{i}\n",
    "$$"
   ],
   "id": "75fbeb57061b26ae"
  },
  {
   "metadata": {
    "ExecuteTime": {
     "end_time": "2025-01-18T20:17:35.332219Z",
     "start_time": "2025-01-18T20:17:27.541458Z"
    }
   },
   "cell_type": "code",
   "source": [
    "#def objective_function(model: pyo.ConcreteModel):\n",
    "#    return sum(model.a[i] * channels.loc[i, \"rate_fee\"] for i in model.CHANNELS) + sum(model.x[i] * channels.loc[i, \"base_fee\"] for i in model.CHANNELS)\n",
    "\n",
    "def objective_function(model: pyo.ConcreteModel):\n",
    "    return sum(model.a[i] * channels.loc[i, \"rate_fee\"] + model.x[i] * channels.loc[i, \"base_fee\"] for i in model.CHANNELS)\n",
    "\n",
    "model.totalCost = pyo.Objective(rule=objective_function(model), sense=pyo.minimize)"
   ],
   "id": "f45ec00f2444e9d1",
   "outputs": [
    {
     "name": "stdout",
     "output_type": "stream",
     "text": [
      "           0 seconds to construct Objective totalCost; 1 index total\n"
     ]
    }
   ],
   "execution_count": 9
  },
  {
   "metadata": {},
   "cell_type": "markdown",
   "source": "### Constraints\n",
   "id": "861b0daa9b9cba75"
  },
  {
   "metadata": {},
   "cell_type": "markdown",
   "source": [
    "#### Capacity constraint\n",
    "\n",
    "$$amount_{i,j} \\le capacity_{i,j} \\times x_{i,j} \\text{ } \\forall (i,j) \\in E$$"
   ],
   "id": "e5ea238f92c81afb"
  },
  {
   "metadata": {
    "ExecuteTime": {
     "end_time": "2025-01-18T20:17:40.261212Z",
     "start_time": "2025-01-18T20:17:35.333066Z"
    }
   },
   "cell_type": "code",
   "source": [
    "def capacity_constraint(model: pyo.ConcreteModel, a, b):\n",
    "    return model.a[(a, b)] <= channels.loc[(a, b), \"capacity\"] * model.x[(a, b)]\n",
    "\n",
    "model.CapacityConstraint = pyo.Constraint(model.CHANNELS, rule=capacity_constraint, name=\"Capacity constraint\")"
   ],
   "id": "7d46c6418b15675a",
   "outputs": [
    {
     "name": "stdout",
     "output_type": "stream",
     "text": [
      "        4.93 seconds to construct Constraint CapacityConstraint; 89898 indices total\n"
     ]
    }
   ],
   "execution_count": 10
  },
  {
   "metadata": {},
   "cell_type": "markdown",
   "source": [
    "#### Flow balance constraint\n",
    "\n",
    "$$\\sum_{(s,i) \\in E} amount_{s,i} - \\sum_{(i,t) \\in E} amount_{i,d} = b_i \\text{ } \\forall i \\in V$$\n",
    "\n",
    "where $s$ is the source node, $d$ is the destination node, $i$ is every intermediary node\n"
   ],
   "id": "7adcde34bbdb4878"
  },
  {
   "metadata": {
    "ExecuteTime": {
     "end_time": "2025-01-18T20:17:43.581355Z",
     "start_time": "2025-01-18T20:17:40.261971Z"
    }
   },
   "cell_type": "code",
   "source": [
    "channels.reset_index(inplace=True)\n",
    "channels.set_index(\"channel_id\", inplace=True)\n",
    "\n",
    "def flow_balance_constraint(model: pyo.ConcreteModel, n: str):\n",
    "    InFlow = sum(model.a[(channels.loc[a, \"node1_pub\"], channels.loc[a, \"node2_pub\"])] for a in nodes.loc[n, 'incoming_channels'])\n",
    "    OutFlow = sum(model.a[(channels.loc[a, \"node1_pub\"], channels.loc[a, \"node2_pub\"])] for a in nodes.loc[n, 'outgoing_channels'])\n",
    "    return  OutFlow + nodes.loc[n, \"demand\"] == InFlow\n",
    "\n",
    "model.FlowBalanceConstraint = pyo.Constraint(model.NODES, rule=flow_balance_constraint, name=\"Flow balance constrain\")\n",
    "\n",
    "channels.reset_index(inplace=True)\n",
    "channels.set_index([\"node1_pub\", \"node2_pub\"], inplace=True)\n",
    "channels.sort_index(inplace=True) "
   ],
   "id": "d2b57765c3b53fc5",
   "outputs": [
    {
     "name": "stdout",
     "output_type": "stream",
     "text": [
      "        3.28 seconds to construct Constraint FlowBalanceConstraint; 11984 indices total\n"
     ]
    }
   ],
   "execution_count": 11
  },
  {
   "metadata": {},
   "cell_type": "markdown",
   "source": "## Solving the model",
   "id": "b8bc8c88087daf77"
  },
  {
   "metadata": {
    "ExecuteTime": {
     "end_time": "2025-01-18T20:17:43.584730Z",
     "start_time": "2025-01-18T20:17:43.582677Z"
    }
   },
   "cell_type": "code",
   "source": [
    "from pyomo.common.tempfiles import TempfileManager\n",
    "TempfileManager.tempdir = \"/home/filippo/repositories/LN-pathfinding\""
   ],
   "id": "2dd413d5dd6de75f",
   "outputs": [],
   "execution_count": 12
  },
  {
   "metadata": {
    "ExecuteTime": {
     "end_time": "2025-01-18T20:19:01.274944Z",
     "start_time": "2025-01-18T20:17:43.585830Z"
    }
   },
   "cell_type": "code",
   "source": [
    "opt = pyo.SolverFactory('cbc')\n",
    "#opt = pyo.SolverFactory('cplex_direct')\n",
    "results = opt.solve(model, tee=True, keepfiles=True)\n",
    "\n",
    "if (results.solver.status == pyo.SolverStatus.ok) and (results.solver.termination_condition == pyo.TerminationCondition.optimal):\n",
    "    print('\\nOptimal solution found')\n",
    "elif results.solver.termination_condition == pyo.TerminationCondition.feasible:\n",
    "    print('\\nFeasible but not proven optimal solution found')\n",
    "elif results.solver.termination_condition == pyo.TerminationCondition.infeasible:\n",
    "    raise Exception(\"The model is infeasible\")\n",
    "else:\n",
    "    print('\\nSolver Status: ',  results.solver.status)\n",
    "    raise Exception(results.solver.status)\n",
    "\n",
    "print('\\nObject function value = ', model.Objective())\n"
   ],
   "id": "f88c7c0611694b3b",
   "outputs": [
    {
     "name": "stdout",
     "output_type": "stream",
     "text": [
      "           0 seconds to construct Var ONE_VAR_CONSTANT; 1 index total\n",
      "      [    1.84] Generated LP representation\n",
      "Solver log file: '/home/filippo/repositories/LN-pathfinding/tmpjq3m78w7.cbc.log'\n",
      "Solver solution file: '/home/filippo/repositories/LN-pathfinding/tmp4ahc49_b.pyomo.soln'\n",
      "Solver problem files: ('/home/filippo/repositories/LN-pathfinding/tmp4ahc49_b.pyomo.lp',)\n",
      "Welcome to the CBC MILP Solver \n",
      "Version: 2.10.8 \n",
      "Build Date: May  9 2022 \n",
      "\n",
      "command line - /usr/bin/cbc -printingOptions all -import /home/filippo/repositories/LN-pathfinding/tmp4ahc49_b.pyomo.lp -stat=1 -solve -solu /home/filippo/repositories/LN-pathfinding/tmp4ahc49_b.pyomo.soln (default strategy 1)\n",
      "Option for printingOptions changed from normal to all\n",
      "Presolve 61043 (-40839) rows, 138206 (-41590) columns and 265393 (-93649) elements\n",
      "Statistics for presolved model\n",
      "Original problem has 89898 integers (89898 of which binary)\n",
      "Presolved problem has 55058 integers (55058 of which binary)\n",
      "==== 6362 zero objective 3865 different\n",
      "==== absolute objective values 3865 different\n",
      "==== for integers 0 zero objective 967 different\n",
      "==== for integers absolute objective values 967 different\n",
      "===== end objective counts\n",
      "\n",
      "\n",
      "Problem has 61043 rows, 138206 columns (131844 with objective) and 265393 elements\n",
      "There are 56868 singletons with objective \n",
      "Column breakdown:\n",
      "0 of type 0.0->inf, 83148 of type 0.0->up, 0 of type lo->inf, \n",
      "0 of type lo->up, 0 of type free, 0 of type fixed, \n",
      "0 of type -inf->0.0, 0 of type -inf->up, 55058 of type 0.0->1.0 \n",
      "Row breakdown:\n",
      "5975 of type E 0.0, 0 of type E 1.0, 0 of type E -1.0, \n",
      "2 of type E other, 0 of type G 0.0, 0 of type G 1.0, \n",
      "0 of type G other, 55058 of type L 0.0, 0 of type L 1.0, \n",
      "0 of type L other, 0 of type Range 0.0->1.0, 8 of type Range other, \n",
      "0 of type Free \n",
      "Continuous objective value is 5.09146e+07 - 0.37 seconds\n",
      "Cgl0004I processed model has 52223 rows, 124102 columns (46238 integer (46238 of which binary)) and 247752 elements\n",
      "Cbc0038I Initial state - 1 integers unsatisfied sum - 0.5\n",
      "Cbc0038I Pass   1: (1.79 seconds) suminf.    0.50000 (1) obj. 5.335e+07 iterations 0\n",
      "Cbc0038I Pass   2: (1.83 seconds) suminf.    0.50000 (1) obj. 5.335e+07 iterations 1\n",
      "Cbc0038I Pass   3: (1.87 seconds) suminf.    0.50000 (1) obj. 6.70874e+08 iterations 127\n",
      "Cbc0038I Pass   4: (1.89 seconds) suminf.    0.50000 (1) obj. 6.70874e+08 iterations 0\n",
      "Cbc0038I Pass   5: (1.92 seconds) suminf.    0.50000 (1) obj. 6.70874e+08 iterations 0\n",
      "Cbc0038I Pass   6: (1.96 seconds) suminf.    0.50000 (1) obj. 9.30392e+08 iterations 132\n",
      "Cbc0038I Pass   7: (1.98 seconds) suminf.    0.50000 (1) obj. 9.30392e+08 iterations 0\n",
      "Cbc0038I Pass   8: (2.00 seconds) suminf.    0.50000 (1) obj. 9.30392e+08 iterations 0\n",
      "Cbc0038I Pass   9: (2.05 seconds) suminf.    0.50000 (1) obj. 1.20474e+09 iterations 123\n",
      "Cbc0038I Pass  10: (2.07 seconds) suminf.    0.50000 (1) obj. 1.20474e+09 iterations 0\n",
      "Cbc0038I Pass  11: (2.09 seconds) suminf.    0.50000 (1) obj. 1.20474e+09 iterations 0\n",
      "Cbc0038I Pass  12: (2.13 seconds) suminf.    0.50000 (1) obj. 1.01427e+11 iterations 126\n",
      "Cbc0038I Pass  13: (2.16 seconds) suminf.    0.50000 (1) obj. 1.01427e+11 iterations 0\n",
      "Cbc0038I Pass  14: (2.18 seconds) suminf.    0.50000 (1) obj. 1.01427e+11 iterations 0\n",
      "Cbc0038I Pass  15: (2.22 seconds) suminf.    0.50000 (1) obj. 1.01514e+11 iterations 126\n",
      "Cbc0038I Pass  16: (2.25 seconds) suminf.    0.50000 (1) obj. 1.01514e+11 iterations 0\n",
      "Cbc0038I Pass  17: (2.27 seconds) suminf.    0.50000 (1) obj. 1.01514e+11 iterations 0\n",
      "Cbc0038I Pass  18: (2.31 seconds) suminf.    0.50000 (1) obj. 1.01738e+11 iterations 124\n",
      "Cbc0038I Pass  19: (2.33 seconds) suminf.    0.50000 (1) obj. 1.01738e+11 iterations 0\n",
      "Cbc0038I Pass  20: (2.36 seconds) suminf.    0.50000 (1) obj. 1.01738e+11 iterations 0\n",
      "Cbc0038I Pass  21: (2.40 seconds) suminf.    0.50000 (1) obj. 1.01964e+11 iterations 119\n",
      "Cbc0038I Pass  22: (2.42 seconds) suminf.    0.50000 (1) obj. 1.01964e+11 iterations 0\n",
      "Cbc0038I Pass  23: (2.45 seconds) suminf.    0.50000 (1) obj. 1.01964e+11 iterations 0\n",
      "Cbc0038I Pass  24: (2.49 seconds) suminf.    0.50000 (1) obj. 2.02375e+11 iterations 144\n",
      "Cbc0038I Pass  25: (2.51 seconds) suminf.    0.50000 (1) obj. 2.02375e+11 iterations 0\n",
      "Cbc0038I Pass  26: (2.54 seconds) suminf.    0.50000 (1) obj. 2.02375e+11 iterations 0\n",
      "Cbc0038I Pass  27: (2.58 seconds) suminf.    0.50000 (1) obj. 2.02865e+11 iterations 128\n",
      "Cbc0038I Pass  28: (2.60 seconds) suminf.    0.50000 (1) obj. 2.02865e+11 iterations 0\n",
      "Cbc0038I Pass  29: (2.63 seconds) suminf.    0.50000 (1) obj. 2.02865e+11 iterations 0\n",
      "Cbc0038I Pass  30: (2.67 seconds) suminf.    0.50000 (1) obj. 2.03066e+11 iterations 115\n",
      "Cbc0038I Rounding solution of 5.385e+07 is better than previous of 1e+50\n",
      "\n",
      "Cbc0038I Before mini branch and bound, 45059 integers at bound fixed and 77835 continuous\n",
      "Cbc0038I Full problem 52223 rows 124102 columns, reduced to 1 rows 2 columns\n",
      "Cbc0038I Mini branch and bound improved solution from 5.385e+07 to 5.36e+07 (2.84 seconds)\n",
      "Cbc0038I Round again with cutoff of 5.3575e+07\n",
      "Cbc0038I Reduced cost fixing fixed 6660 variables on major pass 2\n",
      "Cbc0038I Pass  30: (3.04 seconds) suminf.    0.50000 (1) obj. 5.335e+07 iterations 229\n",
      "Cbc0038I Pass  31: (4.65 seconds) suminf.    0.05000 (1) obj. 5.3575e+07 iterations 3361\n",
      "Cbc0038I Pass  32: (6.04 seconds) suminf.    0.49875 (1) obj. 5.3575e+07 iterations 3271\n",
      "Cbc0038I Pass  33: (8.12 seconds) suminf.    0.72000 (2) obj. 5.3575e+07 iterations 4376\n",
      "Cbc0038I Pass  34: (8.94 seconds) suminf.    0.61000 (2) obj. 5.3575e+07 iterations 1665\n",
      "Cbc0038I Pass  35: (9.11 seconds) suminf.    0.32200 (1) obj. 5.3575e+07 iterations 36\n",
      "Cbc0038I Pass  36: (10.51 seconds) suminf.    0.49975 (1) obj. 5.3575e+07 iterations 3261\n",
      "Cbc0038I Pass  37: (12.87 seconds) suminf.    0.60000 (2) obj. 5.3575e+07 iterations 4380\n",
      "Cbc0038I Pass  38: (13.82 seconds) suminf.    0.52000 (2) obj. 5.3575e+07 iterations 1992\n",
      "Cbc0038I Pass  39: (14.13 seconds) suminf.    0.40200 (1) obj. 5.3575e+07 iterations 320\n",
      "Cbc0038I Pass  40: (15.98 seconds) suminf.    0.49989 (1) obj. 5.3575e+07 iterations 3645\n",
      "Cbc0038I Pass  41: (18.75 seconds) suminf.    0.50000 (1) obj. 5.3575e+07 iterations 5106\n",
      "Cbc0038I Pass  42: (19.16 seconds) suminf.    0.50000 (1) obj. 5.3575e+07 iterations 603\n",
      "Cbc0038I Pass  43: (19.24 seconds) suminf.    0.50000 (1) obj. 5.3575e+07 iterations 0\n",
      "Cbc0038I Pass  44: (19.44 seconds) suminf.    0.80000 (2) obj. 5.3575e+07 iterations 97\n",
      "Cbc0038I Pass  45: (19.60 seconds) suminf.    0.80000 (2) obj. 5.3575e+07 iterations 1\n",
      "Cbc0038I Pass  46: (21.64 seconds) suminf.    0.49995 (1) obj. 5.3575e+07 iterations 4086\n",
      "Cbc0038I Pass  47: (23.90 seconds) suminf.    0.48600 (1) obj. 5.3575e+07 iterations 3954\n",
      "Cbc0038I Pass  48: (24.94 seconds) suminf.    0.50000 (1) obj. 5.3575e+07 iterations 2164\n",
      "Cbc0038I Pass  49: (25.10 seconds) suminf.    0.50000 (1) obj. 5.3575e+07 iterations 11\n",
      "Cbc0038I Pass  50: (25.19 seconds) suminf.    0.50000 (1) obj. 5.3575e+07 iterations 0\n",
      "Cbc0038I Pass  51: (25.39 seconds) suminf.    0.70000 (2) obj. 5.3575e+07 iterations 57\n",
      "Cbc0038I Pass  52: (25.47 seconds) suminf.    0.70000 (2) obj. 5.3575e+07 iterations 0\n",
      "Cbc0038I Pass  53: (25.56 seconds) suminf.    0.70000 (2) obj. 5.3575e+07 iterations 0\n",
      "Cbc0038I Pass  54: (27.49 seconds) suminf.    0.49998 (1) obj. 5.3575e+07 iterations 3905\n",
      "Cbc0038I Pass  55: (29.85 seconds) suminf.    0.48400 (1) obj. 5.3575e+07 iterations 4043\n",
      "Cbc0038I Pass  56: (30.92 seconds) suminf.    0.60000 (2) obj. 5.3575e+07 iterations 2060\n",
      "Cbc0038I Pass  57: (32.99 seconds) suminf.    0.50000 (1) obj. 5.3575e+07 iterations 3890\n",
      "Cbc0038I Pass  58: (34.62 seconds) suminf.    0.49800 (1) obj. 5.3575e+07 iterations 1662\n",
      "Cbc0038I Pass  59: (37.91 seconds) suminf.    0.80000 (2) obj. 5.3575e+07 iterations 6445\n",
      "Cbc0038I No solution found this major pass\n",
      "Cbc0038I Before mini branch and bound, 45988 integers at bound fixed and 58409 continuous\n",
      "Cbc0038I Full problem 52223 rows 124102 columns, reduced to 999 rows 3993 columns\n",
      "Cbc0038I Mini branch and bound did not improve solution (38.07 seconds)\n",
      "Cbc0038I After 38.07 seconds - Feasibility pump exiting with objective of 5.36e+07 - took 36.35 seconds\n",
      "Cbc0012I Integer solution of 53600000 found by feasibility pump after 0 iterations and 0 nodes (38.10 seconds)\n",
      "Cbc0038I Full problem 52223 rows 124102 columns, reduced to 1808 rows 20272 columns\n",
      "Cbc0013I At root node, 0 cuts changed objective from 53350000 to 53350000 in 1 passes\n",
      "Cbc0014I Cut generator 0 (Probing) - 0 row cuts average 0.0 elements, 1 column cuts (1 active)  in 30.201 seconds - new frequency is 1\n",
      "Cbc0014I Cut generator 1 (Gomory) - 0 row cuts average 0.0 elements, 0 column cuts (0 active)  in 0.007 seconds - new frequency is -100\n",
      "Cbc0014I Cut generator 2 (Knapsack) - 0 row cuts average 0.0 elements, 0 column cuts (0 active)  in 0.027 seconds - new frequency is -100\n",
      "Cbc0014I Cut generator 3 (Clique) - 0 row cuts average 0.0 elements, 0 column cuts (0 active)  in 0.001 seconds - new frequency is -100\n",
      "Cbc0014I Cut generator 4 (MixedIntegerRounding2) - 0 row cuts average 0.0 elements, 0 column cuts (0 active)  in 0.014 seconds - new frequency is -100\n",
      "Cbc0014I Cut generator 5 (FlowCover) - 0 row cuts average 0.0 elements, 0 column cuts (0 active)  in 0.005 seconds - new frequency is -100\n",
      "Cbc0010I After 0 nodes, 1 on tree, 53600000 best solution, best possible 53350000 (68.89 seconds)\n",
      "Cbc0012I Integer solution of 53500000 found by rounding after 129 iterations and 4 nodes (71.21 seconds)\n",
      "Cbc0001I Search completed - best objective 53500000, took 289 iterations and 6 nodes (71.38 seconds)\n",
      "Cbc0032I Strong branching done 8 times (353 iterations), fathomed 1 nodes and fixed 0 variables\n",
      "Cbc0035I Maximum depth 2, 7107 variables fixed on reduced cost\n",
      "Cuts at root node changed objective from 5.335e+07 to 5.335e+07\n",
      "Probing was tried 5 times and created 2 cuts of which 0 were active after adding rounds of cuts (30.247 seconds)\n",
      "Gomory was tried 1 times and created 0 cuts of which 0 were active after adding rounds of cuts (0.007 seconds)\n",
      "Knapsack was tried 1 times and created 0 cuts of which 0 were active after adding rounds of cuts (0.027 seconds)\n",
      "Clique was tried 1 times and created 0 cuts of which 0 were active after adding rounds of cuts (0.001 seconds)\n",
      "MixedIntegerRounding2 was tried 1 times and created 0 cuts of which 0 were active after adding rounds of cuts (0.014 seconds)\n",
      "FlowCover was tried 1 times and created 0 cuts of which 0 were active after adding rounds of cuts (0.005 seconds)\n",
      "TwoMirCuts was tried 1 times and created 0 cuts of which 0 were active after adding rounds of cuts (0.012 seconds)\n",
      "ZeroHalf was tried 1 times and created 0 cuts of which 0 were active after adding rounds of cuts (0.000 seconds)\n",
      "\n",
      "Result - Optimal solution found\n",
      "\n",
      "Objective value:                93999580.00000000\n",
      "Enumerated nodes:               6\n",
      "Total iterations:               289\n",
      "Time (CPU seconds):             73.65\n",
      "Time (Wallclock seconds):       73.86\n",
      "\n",
      "Total time (CPU seconds):       74.25   (Wallclock seconds):       74.49\n",
      "\n",
      "\n",
      "Optimal solution found\n",
      "\n",
      "Object function value =  <pyomo.core.base.block._generic_component_decorator object at 0x7f852c013f10>\n"
     ]
    }
   ],
   "execution_count": 13
  },
  {
   "metadata": {
    "ExecuteTime": {
     "end_time": "2025-01-18T20:19:01.280632Z",
     "start_time": "2025-01-18T20:19:01.277681Z"
    }
   },
   "cell_type": "code",
   "source": [
    "#from pyomo.opt import SolverStatus, TerminationCondition\n",
    "\n",
    "print(\"Solver Status: \",  results.solver[0][\"System time\"])\n"
   ],
   "id": "8539cc0c87e2357b",
   "outputs": [
    {
     "name": "stdout",
     "output_type": "stream",
     "text": [
      "Solver Status:  74.25\n"
     ]
    }
   ],
   "execution_count": 14
  },
  {
   "metadata": {
    "ExecuteTime": {
     "end_time": "2025-01-18T20:19:01.336931Z",
     "start_time": "2025-01-18T20:19:01.281640Z"
    }
   },
   "cell_type": "code",
   "source": [
    "from decimal import Decimal\n",
    "pd.set_option('display.max_colwidth', 10000000000000000000000000000000000000000000000000000)\n",
    "DF_channels = pd.DataFrame()\n",
    "c = 0\n",
    "for index, value in model.a.extract_values().items():\n",
    "    if value > 0.1:\n",
    "        DF_channels.loc[c, \"source\"] = index[0]\n",
    "        DF_channels.loc[c, \"destination\"] = index[1]\n",
    "        try:\n",
    "            DF_channels.loc[c, \"source-alias\"] = nodes.loc[index[0], \"alias\"]\n",
    "        except KeyError:\n",
    "            print(\"Source alias not found in nodes database: placeholder inserted\")\n",
    "            DF_channels.loc[c, \"source-alias\"] = \"source-alias\"\n",
    "            pass\n",
    "        try:\n",
    "            DF_channels.loc[c, \"destination-alias\"] = nodes.loc[index[1], \"alias\"]\n",
    "        except KeyError:\n",
    "            print(\"Destination alias not found in nodes database: placeholder inserted\")\n",
    "            DF_channels.loc[c, \"destination-alias\"] = \"destination-alias\"\n",
    "            pass\n",
    "        DF_channels.loc[c, \"capacity\"] = Decimal(channels.loc[index, \"capacity\"]/1000000)\n",
    "        DF_channels.loc[c, \"amount\"] = Decimal(value/1000000)\n",
    "        DF_channels.loc[c, \"base_fee\"] = Decimal(channels.loc[(index[0], index[1]), \"base_fee\"]/1000000)\n",
    "        DF_channels.loc[c, \"rate_fee\"] = channels.loc[(index[0], index[1]), \"rate_fee\"]\n",
    "        #DF_channels.loc[c, \"used_fl\"] = channels.loc[]\n",
    "        c += 1\n",
    "\n",
    "DF_channels_pos = DF_channels[DF_channels[\"amount\"]!=0]"
   ],
   "id": "b7051d6dc41ce1a0",
   "outputs": [],
   "execution_count": 15
  },
  {
   "metadata": {
    "ExecuteTime": {
     "end_time": "2025-01-18T20:19:01.343781Z",
     "start_time": "2025-01-18T20:19:01.337781Z"
    }
   },
   "cell_type": "code",
   "source": "DF_channels[DF_channels[\"amount\"]> DF_channels[\"capacity\"]]",
   "id": "591cfe14bef33883",
   "outputs": [
    {
     "data": {
      "text/plain": [
       "Empty DataFrame\n",
       "Columns: [source, destination, source-alias, destination-alias, capacity, amount, base_fee, rate_fee]\n",
       "Index: []"
      ],
      "text/html": [
       "<div>\n",
       "<style scoped>\n",
       "    .dataframe tbody tr th:only-of-type {\n",
       "        vertical-align: middle;\n",
       "    }\n",
       "\n",
       "    .dataframe tbody tr th {\n",
       "        vertical-align: top;\n",
       "    }\n",
       "\n",
       "    .dataframe thead th {\n",
       "        text-align: right;\n",
       "    }\n",
       "</style>\n",
       "<table border=\"1\" class=\"dataframe\">\n",
       "  <thead>\n",
       "    <tr style=\"text-align: right;\">\n",
       "      <th></th>\n",
       "      <th>source</th>\n",
       "      <th>destination</th>\n",
       "      <th>source-alias</th>\n",
       "      <th>destination-alias</th>\n",
       "      <th>capacity</th>\n",
       "      <th>amount</th>\n",
       "      <th>base_fee</th>\n",
       "      <th>rate_fee</th>\n",
       "    </tr>\n",
       "  </thead>\n",
       "  <tbody>\n",
       "  </tbody>\n",
       "</table>\n",
       "</div>"
      ]
     },
     "execution_count": 16,
     "metadata": {},
     "output_type": "execute_result"
    }
   ],
   "execution_count": 16
  },
  {
   "metadata": {
    "ExecuteTime": {
     "end_time": "2025-01-18T20:19:41.830883Z",
     "start_time": "2025-01-18T20:19:01.344922Z"
    }
   },
   "cell_type": "code",
   "source": [
    "DF_fixed = pd.DataFrame()\n",
    "c = 0\n",
    "for index, value in model.x.extract_values().items():\n",
    "    if value != 0:\n",
    "        DF_fixed.loc[c, \"source\"] = index[0]\n",
    "        DF_fixed.loc[c, \"destination\"] = index[1]\n",
    "        DF_fixed.loc[c, \"used\"] = Decimal(value)\n",
    "        c += 1\n",
    "\n",
    "DF_fixed_pos = DF_fixed[DF_fixed[\"used\"]!=0]\n",
    "DF_fixed_pos"
   ],
   "id": "4150b1232fe02328",
   "outputs": [
    {
     "data": {
      "text/plain": [
       "                                                                   source  \\\n",
       "0      0200000000a3eff613189ca6c4070c89206ad658e286751eca1f29262948247a5f   \n",
       "1      0200000000a3eff613189ca6c4070c89206ad658e286751eca1f29262948247a5f   \n",
       "2      020003b9499a97c8dfbbab6b196319db37ba9c37bccb60477f3c867175f417988e   \n",
       "3      020003b9499a97c8dfbbab6b196319db37ba9c37bccb60477f3c867175f417988e   \n",
       "4      020003b9499a97c8dfbbab6b196319db37ba9c37bccb60477f3c867175f417988e   \n",
       "...                                                                   ...   \n",
       "34823  03ffb24c4740fd13bc69680c4adebba8c332ad63a9a8ee44a541831eeb73d8e72b   \n",
       "34824  03ffb24c4740fd13bc69680c4adebba8c332ad63a9a8ee44a541831eeb73d8e72b   \n",
       "34825  03ffb24c4740fd13bc69680c4adebba8c332ad63a9a8ee44a541831eeb73d8e72b   \n",
       "34826  03ffbc206a416bbf89a7092ac28e7a9e2cd99231f9b4db71f125e38cef8eb4bcda   \n",
       "34827  03ffc95f28306c88f5c033774ac5e59c30f6cc91e76af6cd65769803e918942352   \n",
       "\n",
       "                                                              destination used  \n",
       "0      02e4971e61a3f55718ae31e2eed19aaf2e32caf3eb5ef5ff03e01aa3ada8907e78    1  \n",
       "1      02f1a8c87607f415c8f22c00593002775941dea48869ce23096af27b0cfdcc0b69    1  \n",
       "2      0205198c099c45acedf988445f71da087ca39cd80847e53a7819e8f4e45768d7d3    1  \n",
       "3      0208dfa005c47a8ae85363d12c54007a38550ca0d6f1c559ee11caaac8221eccd6    1  \n",
       "4      020f7c502e19ccb375d4abc689f2c1feb6816961d4a1e2dcfa8813f11c3bc9a5e1    1  \n",
       "...                                                                   ...  ...  \n",
       "34823  0283a2c4416a4803590d46fc104a8df50455c84cb25e9efe494b3ad4739bb5b3f7    1  \n",
       "34824  0324ba2392e25bff76abd0b1f7e4b53b5f82aa53fddc3419b051b6c801db9e2247    1  \n",
       "34825  03910da61c1b42e135f134ed92a537c758d1edac5436efbec5ee8cec1928e1a095    1  \n",
       "34826  026a0d374752a27ae489c37d6b37d76d9d7f8ad27a469d091d740018bbfbfdcf3a    1  \n",
       "34827  02f1a8c87607f415c8f22c00593002775941dea48869ce23096af27b0cfdcc0b69    1  \n",
       "\n",
       "[34828 rows x 3 columns]"
      ],
      "text/html": [
       "<div>\n",
       "<style scoped>\n",
       "    .dataframe tbody tr th:only-of-type {\n",
       "        vertical-align: middle;\n",
       "    }\n",
       "\n",
       "    .dataframe tbody tr th {\n",
       "        vertical-align: top;\n",
       "    }\n",
       "\n",
       "    .dataframe thead th {\n",
       "        text-align: right;\n",
       "    }\n",
       "</style>\n",
       "<table border=\"1\" class=\"dataframe\">\n",
       "  <thead>\n",
       "    <tr style=\"text-align: right;\">\n",
       "      <th></th>\n",
       "      <th>source</th>\n",
       "      <th>destination</th>\n",
       "      <th>used</th>\n",
       "    </tr>\n",
       "  </thead>\n",
       "  <tbody>\n",
       "    <tr>\n",
       "      <th>0</th>\n",
       "      <td>0200000000a3eff613189ca6c4070c89206ad658e286751eca1f29262948247a5f</td>\n",
       "      <td>02e4971e61a3f55718ae31e2eed19aaf2e32caf3eb5ef5ff03e01aa3ada8907e78</td>\n",
       "      <td>1</td>\n",
       "    </tr>\n",
       "    <tr>\n",
       "      <th>1</th>\n",
       "      <td>0200000000a3eff613189ca6c4070c89206ad658e286751eca1f29262948247a5f</td>\n",
       "      <td>02f1a8c87607f415c8f22c00593002775941dea48869ce23096af27b0cfdcc0b69</td>\n",
       "      <td>1</td>\n",
       "    </tr>\n",
       "    <tr>\n",
       "      <th>2</th>\n",
       "      <td>020003b9499a97c8dfbbab6b196319db37ba9c37bccb60477f3c867175f417988e</td>\n",
       "      <td>0205198c099c45acedf988445f71da087ca39cd80847e53a7819e8f4e45768d7d3</td>\n",
       "      <td>1</td>\n",
       "    </tr>\n",
       "    <tr>\n",
       "      <th>3</th>\n",
       "      <td>020003b9499a97c8dfbbab6b196319db37ba9c37bccb60477f3c867175f417988e</td>\n",
       "      <td>0208dfa005c47a8ae85363d12c54007a38550ca0d6f1c559ee11caaac8221eccd6</td>\n",
       "      <td>1</td>\n",
       "    </tr>\n",
       "    <tr>\n",
       "      <th>4</th>\n",
       "      <td>020003b9499a97c8dfbbab6b196319db37ba9c37bccb60477f3c867175f417988e</td>\n",
       "      <td>020f7c502e19ccb375d4abc689f2c1feb6816961d4a1e2dcfa8813f11c3bc9a5e1</td>\n",
       "      <td>1</td>\n",
       "    </tr>\n",
       "    <tr>\n",
       "      <th>...</th>\n",
       "      <td>...</td>\n",
       "      <td>...</td>\n",
       "      <td>...</td>\n",
       "    </tr>\n",
       "    <tr>\n",
       "      <th>34823</th>\n",
       "      <td>03ffb24c4740fd13bc69680c4adebba8c332ad63a9a8ee44a541831eeb73d8e72b</td>\n",
       "      <td>0283a2c4416a4803590d46fc104a8df50455c84cb25e9efe494b3ad4739bb5b3f7</td>\n",
       "      <td>1</td>\n",
       "    </tr>\n",
       "    <tr>\n",
       "      <th>34824</th>\n",
       "      <td>03ffb24c4740fd13bc69680c4adebba8c332ad63a9a8ee44a541831eeb73d8e72b</td>\n",
       "      <td>0324ba2392e25bff76abd0b1f7e4b53b5f82aa53fddc3419b051b6c801db9e2247</td>\n",
       "      <td>1</td>\n",
       "    </tr>\n",
       "    <tr>\n",
       "      <th>34825</th>\n",
       "      <td>03ffb24c4740fd13bc69680c4adebba8c332ad63a9a8ee44a541831eeb73d8e72b</td>\n",
       "      <td>03910da61c1b42e135f134ed92a537c758d1edac5436efbec5ee8cec1928e1a095</td>\n",
       "      <td>1</td>\n",
       "    </tr>\n",
       "    <tr>\n",
       "      <th>34826</th>\n",
       "      <td>03ffbc206a416bbf89a7092ac28e7a9e2cd99231f9b4db71f125e38cef8eb4bcda</td>\n",
       "      <td>026a0d374752a27ae489c37d6b37d76d9d7f8ad27a469d091d740018bbfbfdcf3a</td>\n",
       "      <td>1</td>\n",
       "    </tr>\n",
       "    <tr>\n",
       "      <th>34827</th>\n",
       "      <td>03ffc95f28306c88f5c033774ac5e59c30f6cc91e76af6cd65769803e918942352</td>\n",
       "      <td>02f1a8c87607f415c8f22c00593002775941dea48869ce23096af27b0cfdcc0b69</td>\n",
       "      <td>1</td>\n",
       "    </tr>\n",
       "  </tbody>\n",
       "</table>\n",
       "<p>34828 rows × 3 columns</p>\n",
       "</div>"
      ]
     },
     "execution_count": 17,
     "metadata": {},
     "output_type": "execute_result"
    }
   ],
   "execution_count": 17
  },
  {
   "metadata": {},
   "cell_type": "markdown",
   "source": "### All data about channels on path",
   "id": "1dfb4bcd7e78f159"
  },
  {
   "metadata": {
    "ExecuteTime": {
     "end_time": "2025-01-18T20:19:41.850374Z",
     "start_time": "2025-01-18T20:19:41.832225Z"
    }
   },
   "cell_type": "code",
   "source": [
    "intersection = DF_fixed_pos.merge(DF_channels_pos, on=[\"source\", \"destination\"], how=\"outer\")\n",
    "final = intersection[intersection[\"amount\"]>0]\n",
    "final"
   ],
   "id": "ab555f0c48920c85",
   "outputs": [
    {
     "data": {
      "text/plain": [
       "                                                                   source  \\\n",
       "589    0208d92b2d406094d794b2a6a512f585dbbdee810a870283b9c5bafc4fec8ac0aa   \n",
       "4746   024c9d8813dad53fe9324e81f0a0a63f0124762484df179116897b8cab5f62058b   \n",
       "5814   0260fab633066ed7b1d9b9b8a0fac87e1579d1709e874d28a0d171a1f5c43bb877   \n",
       "11031  02b4098c3116124c0c4105295d3d2e65927d46e98e248d84cb6119da57e4ae31e3   \n",
       "14620  02f0c7b731ca40a285d7c12aa1c5c7c7caa4598d3d6d34904c3714cd0d47852640   \n",
       "23721  0364913d18a19c671bb36dd04d6ad5be0fe8f2894314c36a9db3f03c2d414907e1   \n",
       "24417  036e963739bfa62afad807c9ffb195868a1a2ed697d74ffc2d80f556e46f98c0e8   \n",
       "25297  0378a5312ca36773971df43f833b571d024fd7d5d216fbdf7e241b710714ef1be1   \n",
       "27332  038c5b2d6a0fe180d1be557d49f7f982190957edf20a4c05a305d7aed17c156ef0   \n",
       "31385  03c8e5f583585cac1de2b7503a6ccd3c12ba477cfd139cd4905be504c2f48e86bd   \n",
       "33695  03e81689bfd18d0accb28d720ed222209b1a5f2c6825308772beac75b1fe35d491   \n",
       "34804  03ff598de9beb34242dd6aacbfa7a713395c074f50f512c603c0ceafb6af046efb   \n",
       "\n",
       "                                                              destination  \\\n",
       "589    0364913d18a19c671bb36dd04d6ad5be0fe8f2894314c36a9db3f03c2d414907e1   \n",
       "4746   03ff598de9beb34242dd6aacbfa7a713395c074f50f512c603c0ceafb6af046efb   \n",
       "5814   038c5b2d6a0fe180d1be557d49f7f982190957edf20a4c05a305d7aed17c156ef0   \n",
       "11031  0208d92b2d406094d794b2a6a512f585dbbdee810a870283b9c5bafc4fec8ac0aa   \n",
       "14620  03c8e5f583585cac1de2b7503a6ccd3c12ba477cfd139cd4905be504c2f48e86bd   \n",
       "23721  02f0c7b731ca40a285d7c12aa1c5c7c7caa4598d3d6d34904c3714cd0d47852640   \n",
       "24417  024c9d8813dad53fe9324e81f0a0a63f0124762484df179116897b8cab5f62058b   \n",
       "25297  03e81689bfd18d0accb28d720ed222209b1a5f2c6825308772beac75b1fe35d491   \n",
       "27332  0260fab633066ed7b1d9b9b8a0fac87e1579d1709e874d28a0d171a1f5c43bb877   \n",
       "31385  0202f00d5f5c91a3c79113851b162c2b75f2cbd9fb2378fb4a4ce92d5ba1e63e08   \n",
       "33695  0378a5312ca36773971df43f833b571d024fd7d5d216fbdf7e241b710714ef1be1   \n",
       "34804  036e963739bfa62afad807c9ffb195868a1a2ed697d74ffc2d80f556e46f98c0e8   \n",
       "\n",
       "      used                source-alias           destination-alias  capacity  \\\n",
       "589      1                      Eprahs                 LQwD-Canada   6000000   \n",
       "4746     1                    sarsen-2                rogue-signal   2500000   \n",
       "5814     1                   TangoBolt                   Nodebrook   5000000   \n",
       "11031    1               VeniceForever                      Eprahs   1500000   \n",
       "14620    1                    Henwen 🐷                      Strike  10000000   \n",
       "23721    1                 LQwD-Canada                    Henwen 🐷  50000000   \n",
       "24417    1                    sarsen-1                    sarsen-2  12500000   \n",
       "25297    1                      OneKey  Rust-eze (now BoltTrustiC)  10000000   \n",
       "27332    1                   Nodebrook                   TangoBolt   5000000   \n",
       "31385    1                      Strike                  ShatSat412  10000000   \n",
       "33695    1  Rust-eze (now BoltTrustiC)                      OneKey  10000000   \n",
       "34804    1                rogue-signal                    sarsen-1    400000   \n",
       "\n",
       "       amount base_fee  rate_fee  \n",
       "589    500000        1  0.000001  \n",
       "4746   400000        0  0.000000  \n",
       "5814   500000        0  0.000000  \n",
       "11031  500000        1  0.000000  \n",
       "14620  500000        0  0.000000  \n",
       "23721  500000        0  0.000000  \n",
       "24417  400000        0  0.000000  \n",
       "25297  500000        0  0.000000  \n",
       "27332  500000        0  0.000000  \n",
       "31385  500000        1  0.000100  \n",
       "33695  500000        0  0.000000  \n",
       "34804  400000        0  0.000000  "
      ],
      "text/html": [
       "<div>\n",
       "<style scoped>\n",
       "    .dataframe tbody tr th:only-of-type {\n",
       "        vertical-align: middle;\n",
       "    }\n",
       "\n",
       "    .dataframe tbody tr th {\n",
       "        vertical-align: top;\n",
       "    }\n",
       "\n",
       "    .dataframe thead th {\n",
       "        text-align: right;\n",
       "    }\n",
       "</style>\n",
       "<table border=\"1\" class=\"dataframe\">\n",
       "  <thead>\n",
       "    <tr style=\"text-align: right;\">\n",
       "      <th></th>\n",
       "      <th>source</th>\n",
       "      <th>destination</th>\n",
       "      <th>used</th>\n",
       "      <th>source-alias</th>\n",
       "      <th>destination-alias</th>\n",
       "      <th>capacity</th>\n",
       "      <th>amount</th>\n",
       "      <th>base_fee</th>\n",
       "      <th>rate_fee</th>\n",
       "    </tr>\n",
       "  </thead>\n",
       "  <tbody>\n",
       "    <tr>\n",
       "      <th>589</th>\n",
       "      <td>0208d92b2d406094d794b2a6a512f585dbbdee810a870283b9c5bafc4fec8ac0aa</td>\n",
       "      <td>0364913d18a19c671bb36dd04d6ad5be0fe8f2894314c36a9db3f03c2d414907e1</td>\n",
       "      <td>1</td>\n",
       "      <td>Eprahs</td>\n",
       "      <td>LQwD-Canada</td>\n",
       "      <td>6000000</td>\n",
       "      <td>500000</td>\n",
       "      <td>1</td>\n",
       "      <td>0.000001</td>\n",
       "    </tr>\n",
       "    <tr>\n",
       "      <th>4746</th>\n",
       "      <td>024c9d8813dad53fe9324e81f0a0a63f0124762484df179116897b8cab5f62058b</td>\n",
       "      <td>03ff598de9beb34242dd6aacbfa7a713395c074f50f512c603c0ceafb6af046efb</td>\n",
       "      <td>1</td>\n",
       "      <td>sarsen-2</td>\n",
       "      <td>rogue-signal</td>\n",
       "      <td>2500000</td>\n",
       "      <td>400000</td>\n",
       "      <td>0</td>\n",
       "      <td>0.000000</td>\n",
       "    </tr>\n",
       "    <tr>\n",
       "      <th>5814</th>\n",
       "      <td>0260fab633066ed7b1d9b9b8a0fac87e1579d1709e874d28a0d171a1f5c43bb877</td>\n",
       "      <td>038c5b2d6a0fe180d1be557d49f7f982190957edf20a4c05a305d7aed17c156ef0</td>\n",
       "      <td>1</td>\n",
       "      <td>TangoBolt</td>\n",
       "      <td>Nodebrook</td>\n",
       "      <td>5000000</td>\n",
       "      <td>500000</td>\n",
       "      <td>0</td>\n",
       "      <td>0.000000</td>\n",
       "    </tr>\n",
       "    <tr>\n",
       "      <th>11031</th>\n",
       "      <td>02b4098c3116124c0c4105295d3d2e65927d46e98e248d84cb6119da57e4ae31e3</td>\n",
       "      <td>0208d92b2d406094d794b2a6a512f585dbbdee810a870283b9c5bafc4fec8ac0aa</td>\n",
       "      <td>1</td>\n",
       "      <td>VeniceForever</td>\n",
       "      <td>Eprahs</td>\n",
       "      <td>1500000</td>\n",
       "      <td>500000</td>\n",
       "      <td>1</td>\n",
       "      <td>0.000000</td>\n",
       "    </tr>\n",
       "    <tr>\n",
       "      <th>14620</th>\n",
       "      <td>02f0c7b731ca40a285d7c12aa1c5c7c7caa4598d3d6d34904c3714cd0d47852640</td>\n",
       "      <td>03c8e5f583585cac1de2b7503a6ccd3c12ba477cfd139cd4905be504c2f48e86bd</td>\n",
       "      <td>1</td>\n",
       "      <td>Henwen 🐷</td>\n",
       "      <td>Strike</td>\n",
       "      <td>10000000</td>\n",
       "      <td>500000</td>\n",
       "      <td>0</td>\n",
       "      <td>0.000000</td>\n",
       "    </tr>\n",
       "    <tr>\n",
       "      <th>23721</th>\n",
       "      <td>0364913d18a19c671bb36dd04d6ad5be0fe8f2894314c36a9db3f03c2d414907e1</td>\n",
       "      <td>02f0c7b731ca40a285d7c12aa1c5c7c7caa4598d3d6d34904c3714cd0d47852640</td>\n",
       "      <td>1</td>\n",
       "      <td>LQwD-Canada</td>\n",
       "      <td>Henwen 🐷</td>\n",
       "      <td>50000000</td>\n",
       "      <td>500000</td>\n",
       "      <td>0</td>\n",
       "      <td>0.000000</td>\n",
       "    </tr>\n",
       "    <tr>\n",
       "      <th>24417</th>\n",
       "      <td>036e963739bfa62afad807c9ffb195868a1a2ed697d74ffc2d80f556e46f98c0e8</td>\n",
       "      <td>024c9d8813dad53fe9324e81f0a0a63f0124762484df179116897b8cab5f62058b</td>\n",
       "      <td>1</td>\n",
       "      <td>sarsen-1</td>\n",
       "      <td>sarsen-2</td>\n",
       "      <td>12500000</td>\n",
       "      <td>400000</td>\n",
       "      <td>0</td>\n",
       "      <td>0.000000</td>\n",
       "    </tr>\n",
       "    <tr>\n",
       "      <th>25297</th>\n",
       "      <td>0378a5312ca36773971df43f833b571d024fd7d5d216fbdf7e241b710714ef1be1</td>\n",
       "      <td>03e81689bfd18d0accb28d720ed222209b1a5f2c6825308772beac75b1fe35d491</td>\n",
       "      <td>1</td>\n",
       "      <td>OneKey</td>\n",
       "      <td>Rust-eze (now BoltTrustiC)</td>\n",
       "      <td>10000000</td>\n",
       "      <td>500000</td>\n",
       "      <td>0</td>\n",
       "      <td>0.000000</td>\n",
       "    </tr>\n",
       "    <tr>\n",
       "      <th>27332</th>\n",
       "      <td>038c5b2d6a0fe180d1be557d49f7f982190957edf20a4c05a305d7aed17c156ef0</td>\n",
       "      <td>0260fab633066ed7b1d9b9b8a0fac87e1579d1709e874d28a0d171a1f5c43bb877</td>\n",
       "      <td>1</td>\n",
       "      <td>Nodebrook</td>\n",
       "      <td>TangoBolt</td>\n",
       "      <td>5000000</td>\n",
       "      <td>500000</td>\n",
       "      <td>0</td>\n",
       "      <td>0.000000</td>\n",
       "    </tr>\n",
       "    <tr>\n",
       "      <th>31385</th>\n",
       "      <td>03c8e5f583585cac1de2b7503a6ccd3c12ba477cfd139cd4905be504c2f48e86bd</td>\n",
       "      <td>0202f00d5f5c91a3c79113851b162c2b75f2cbd9fb2378fb4a4ce92d5ba1e63e08</td>\n",
       "      <td>1</td>\n",
       "      <td>Strike</td>\n",
       "      <td>ShatSat412</td>\n",
       "      <td>10000000</td>\n",
       "      <td>500000</td>\n",
       "      <td>1</td>\n",
       "      <td>0.000100</td>\n",
       "    </tr>\n",
       "    <tr>\n",
       "      <th>33695</th>\n",
       "      <td>03e81689bfd18d0accb28d720ed222209b1a5f2c6825308772beac75b1fe35d491</td>\n",
       "      <td>0378a5312ca36773971df43f833b571d024fd7d5d216fbdf7e241b710714ef1be1</td>\n",
       "      <td>1</td>\n",
       "      <td>Rust-eze (now BoltTrustiC)</td>\n",
       "      <td>OneKey</td>\n",
       "      <td>10000000</td>\n",
       "      <td>500000</td>\n",
       "      <td>0</td>\n",
       "      <td>0.000000</td>\n",
       "    </tr>\n",
       "    <tr>\n",
       "      <th>34804</th>\n",
       "      <td>03ff598de9beb34242dd6aacbfa7a713395c074f50f512c603c0ceafb6af046efb</td>\n",
       "      <td>036e963739bfa62afad807c9ffb195868a1a2ed697d74ffc2d80f556e46f98c0e8</td>\n",
       "      <td>1</td>\n",
       "      <td>rogue-signal</td>\n",
       "      <td>sarsen-1</td>\n",
       "      <td>400000</td>\n",
       "      <td>400000</td>\n",
       "      <td>0</td>\n",
       "      <td>0.000000</td>\n",
       "    </tr>\n",
       "  </tbody>\n",
       "</table>\n",
       "</div>"
      ]
     },
     "execution_count": 18,
     "metadata": {},
     "output_type": "execute_result"
    }
   ],
   "execution_count": 18
  },
  {
   "metadata": {
    "ExecuteTime": {
     "end_time": "2025-01-18T20:19:41.857025Z",
     "start_time": "2025-01-18T20:19:41.851378Z"
    }
   },
   "cell_type": "code",
   "source": [
    "%%capture --no-stdout\n",
    "final[\"amount\"] = final[\"amount\"].astype(float)\n",
    "final[\"rate_fee\"] = final[\"rate_fee\"].astype(float)\n",
    "final[\"base_fee\"] = final[\"base_fee\"].astype(float)\n",
    "total_transaction_cost = sum(final[\"amount\"] * final[\"rate_fee\"] + final[\"base_fee\"])\n",
    "perc_cost = (total_transaction_cost * 100) / transaction_amount\n",
    "print(f\"Transacting {transaction_amount} sats costs {total_transaction_cost} ({perc_cost}% of transaction amount)\")"
   ],
   "id": "5cb9ca4869b126de",
   "outputs": [
    {
     "name": "stdout",
     "output_type": "stream",
     "text": [
      "Transacting 500000 sats costs 53.5 (0.0107% of transaction amount)\n"
     ]
    }
   ],
   "execution_count": 19
  },
  {
   "metadata": {
    "ExecuteTime": {
     "end_time": "2025-01-18T20:19:42.766908Z",
     "start_time": "2025-01-18T20:19:41.858005Z"
    }
   },
   "cell_type": "code",
   "source": [
    "import networkx as nx\n",
    "import matplotlib.pyplot as plt\n",
    "\n",
    "# edges list construction\n",
    "edges_df = final[[\"source-alias\", \"destination-alias\"]]\n",
    "\n",
    "G = nx.from_pandas_edgelist(edges_df, \"source-alias\", \"destination-alias\", create_using=nx.DiGraph())\n",
    "\n",
    "#plt.figure(figsize=(8, 6))\n",
    "#pos = nx.spring_layout(G)\n",
    "#nx.draw(G, pos, with_labels=True, node_size=2000, node_color='lightblue', font_size=10, font_color='black', font_weight='bold', arrows=True)\n",
    "#plt.title(\"Graph from DataFrame of Edges\")\n",
    "#plt.show()\n",
    "\n",
    "\n",
    "plt.figure(figsize=(8, 6))\n",
    "pos = nx.spring_layout(G)  # positions for all nodes\n",
    "nx.draw(G, pos, with_labels=True, node_size=1000, node_color='lightblue', font_size=10, font_color='black', font_weight='bold', arrows=True)\n",
    "plt.title(\"Graph with Uniform Node Size\")\n",
    "plt.show()"
   ],
   "id": "d7e96330eab65421",
   "outputs": [
    {
     "name": "stderr",
     "output_type": "stream",
     "text": [
      "/home/filippo/repositories/LN-pathfinding/venv/lib/python3.10/site-packages/IPython/core/pylabtools.py:170: UserWarning: Glyph 128055 (\\N{PIG FACE}) missing from font(s) DejaVu Sans.\n",
      "  fig.canvas.print_figure(bytes_io, **kw)\n"
     ]
    },
    {
     "data": {
      "text/plain": [
       "<Figure size 800x600 with 1 Axes>"
      ],
      "image/png": "[encoded data removed]"
     },
     "metadata": {},
     "output_type": "display_data"
    }
   ],
   "execution_count": 20
  },
  {
   "metadata": {
    "ExecuteTime": {
     "end_time": "2025-01-18T20:19:42.771487Z",
     "start_time": "2025-01-18T20:19:42.768422Z"
    }
   },
   "cell_type": "code",
   "source": [
    "#from collections import Counter\n",
    "#results = [tuple(i) for i in DF_channels_pos[[\"source-alias\", \"destination-alias\"]].to_numpy()]\n",
    "#unwrap = [e for i in results for e in i]\n",
    "#extremes = [j for j in unwrap if Counter(unwrap)[j] == 1]\n",
    "#def return_source(l: list):\n",
    "#    if l[0] in [i for i, j in results]:\n",
    "#        return l[0]\n",
    "#    else: \n",
    "#        return l[1]\n",
    "#sequence = []        \n",
    "#source = return_source(extremes)\n",
    "#sequence.append(source)\n",
    "#while len(sequence) <= len(results):\n",
    "#    for i,j in results:\n",
    "#        if i == sequence[-1]:\n",
    "#            sequence.append(j)\n",
    "#for i in sequence:\n",
    "#    print(\"⬇️\", i)"
   ],
   "id": "6388d7bda8ced731",
   "outputs": [],
   "execution_count": 21
  }
 ],
 "metadata": {
  "kernelspec": {
   "display_name": "Python 3",
   "language": "python",
   "name": "python3"
  },
  "language_info": {
   "codemirror_mode": {
    "name": "ipython",
    "version": 2
   },
   "file_extension": ".py",
   "mimetype": "text/x-python",
   "name": "python",
   "nbconvert_exporter": "python",
   "pygments_lexer": "ipython2",
   "version": "2.7.6"
  }
 },
 "nbformat": 4,
 "nbformat_minor": 5
}
